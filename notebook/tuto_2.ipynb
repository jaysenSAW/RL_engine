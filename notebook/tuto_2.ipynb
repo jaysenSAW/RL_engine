{
 "cells": [
  {
   "cell_type": "code",
   "execution_count": null,
   "id": "c30a7c5c-5ee2-4210-aec8-521c672a54ca",
   "metadata": {},
   "outputs": [],
   "source": [
    "import matplotlib.pyplot as plt\n",
    "import numpy as np\n",
    "import sys\n",
    "import warnings\n",
    "import plotly.express as px \n",
    "from plotly.subplots import make_subplots\n",
    "import plotly.graph_objects as go\n",
    "warnings.simplefilter(action='ignore', category=FutureWarning)\n",
    "import pandas as pd\n",
    "import plotly.express as px \n",
    "import pickle \n",
    "sys.path.insert(1, \"../src/utils/\")\n",
    "from agent import Environment\n",
    "from Q_learning import QLearningTrainer\n",
    "sys.path.insert(1, \"plotly_graph/\")\n",
    "from functions4tuto import rocket_simulation, plot_rocket_altitude, plot_reward_rocket_monoagent\n",
    "JOSN_file = \"rocket_tuto_2.json\""
   ]
  },
  {
   "cell_type": "markdown",
   "id": "99ffc6d0",
   "metadata": {},
   "source": [
    "# <span style=\"color:orange\">Input file</span>\n",
    "\n",
    "In the previous tutorial we defined our environment and designed a reward function. The system is a rocket that falling from a starting point and the goal is to reach a target with a minimum speed and maximize fuel.\n",
    "Variable's names, their initial values and boundaries limit are defined into a JSON file (or can be given directly into a dictionary)\n",
    "\n",
    "## <span style=\"color:orange\">Variables</span>\n",
    "\n",
    "Variables can be categorize into 3 classes:\n",
    "* `states_variables` : variable used as coordinate to describe our system\n",
    "* `agent_variables` : variable use as agent. Their values are changed for each iteration\n",
    "* 3th category are other variables. They are not used to describe our environment but they can be usefull to monitor information or to compute intermediate value. \n",
    "  There is no key for this kind of variable. Consider them as variables present into `initial_values` field and that are not `states_variables` and `agent_variables`\n",
    "\n",
    "You can access to the name of state and agent variables, with the attibute `states_variables` and `agent_variables`.\n",
    "\n",
    "    \"states_variables\" : [\"pos_y\", \"acceleration_y\", \"speed_y\"],\n",
    "    \"agent_variables\" : [\"booster\"]\n",
    "\n",
    "## <span style=\"color:orange\">Initial system</span>\n",
    "\n",
    "After to name `states_variables` and `agent_variables`, next step is to define initial state.\n",
    "It will be use as environment coordinates at the beginning of each episode. Initially, it comprises \n",
    "the values of state_variables, followed by agent_variables, and finally other variables that are \n",
    "not used for the system's coordinates.\n",
    "\n",
    "    \"initial_values\" : {\n",
    "      \"pos_y\" : [175.0],\n",
    "      \"speed_y\": [0.0],\n",
    "      \"acceleration_y\": [0.0],\n",
    "      \"weight_rocket\" : [305],\n",
    "      \"booster\" : [0.0],\n",
    "      \"m_fuel\" : [300],\n",
    "      ...\n",
    "      \"ratio_fuel\" : [1.0],\n",
    "      \"dt\" : [3],\n",
    "      \"time\" : [0],\n",
    "      \"acceleration_limit_y\" : [10],\n",
    "      \"speed_limit_y\" : [5]\n",
    "      }\n",
    "\n",
    "**NB:** Because we do not modify rocket's angle, we will not show ```pos_x, speed_x and acceleration_x (you can see all variable by calling env.json[\"initial_values\"])```\n",
    "\n",
    "## <span style=\"color:orange\">Limit</span>\n",
    "\n",
    "Q-learning algorithms model events as a Markov process. Therefore, it is necessary to discretize our environment space. \n",
    "We define lower and upper bounds, as well as the number of divisions we want to use to discretize the variable space.\n",
    "\n",
    "    \"limit\" : {\n",
    "      \"pos_y\" : [0.0, 200.0, 41],\n",
    "      \"speed_y\": [-30.0, 30.0, 31],\n",
    "      \"acceleration_y\": [-20.0, 20.0, 21],\n",
    "      \"weight_rocket\" : [0.0, 305, 62],\n",
    "      \"booster\" : [0.0, 2.0, 3],\n",
    "      \"m_fuel\" : [0.0, 400, 801]\n",
    "    }\n"
   ]
  },
  {
   "cell_type": "markdown",
   "id": "a6c4b678",
   "metadata": {},
   "source": [
    "## <span style=\"color:orange\">Agents's actions</span>\n",
    "    \"n_action\" : {\n",
    "      \"booster\": {\"0\" : 0.0, \"1\" : 1.0, \"2\" : 2.0}\n",
    "    }\n",
    "\n",
    "After defining the variables and their initial values, we proceed to define actions that apply to the agent variables. In this example, we have 1 agent that can take 3 actions:\n",
    "\n",
    "For the booster:\n",
    "  * \"0\": Booster is off.\n",
    "  * \"1\": Booster is turned on to half of its power.\n",
    "  * \"2\": Booster is turned on to its full power.\n",
    "\n",
    "## <span style=\"color:orange\">Actions to take</span>\n",
    "\n",
    "    \"action_to_take\" : {\n",
    "      \"booster\": {\"$booster$\" : \"$action}\n",
    "    }\n",
    "\n",
    "Actions change the agent variables by modifying their values based on the action taken, which are retrieved from the n_action dictionary. You can change default delimiter during the initilisation:\n",
    "\n",
    "`agent = Environment(json_file, delimiter = \"Char_you_want\")`"
   ]
  },
  {
   "cell_type": "markdown",
   "id": "37ba311d",
   "metadata": {},
   "source": [
    "## <span style=\"color:orange\">System's evolution and reward</span>\n",
    "\n",
    "Last fields are how variables evolve after agents's action and how reward are computed.\n",
    "Only variables present in field inital value are stored. Other variables present are just temporary and are lost after each iteration.\n",
    "Reward values are stored into a dictionnary, the keys are agent variable's name.\n",
    "Timestep value (dt) is 3, to let the system evolve enough without the need to have an high resolution in state variable's space.\n",
    "\n",
    "### <span style=\"color:orange\">Equation variables</span>\n",
    "    \"equations_variables\": {\n",
    "        \"$F$\" : \"600\",\n",
    "        \"$y_0$\" : \"$pos_y$\",\n",
    "        \"$Vy_0$\" : \"$speed_y$\",\n",
    "        \"$m_fuel$\" : \"$m_fuel$ - $booster$ *5 -np.ceil( np.abs($alpha$) ) *5\",\n",
    "        \"$weight_rocket$\" : \"$weight_dry_rocket$ + $m_fuel$\",\n",
    "        \"$acceleration_y$\" : \"($F$/(5+$weight_rocket$) * np.cos($angle$)) * $booster$ - $G$\",\n",
    "        \"$speed_y$\" : \"($F$/(5+$weight_rocket$) * np.cos($angle$)) * $booster$ * $dt$ - $G$ * $dt$ + $Vy_0$\",\n",
    "        \"$pos_x$\": \"(0.5 * $F$/(5+$weight_rocket$) * np.sin($angle$)) * $booster$ * $dt$**2 + $Vx_0$ * $dt$ + $x_0$\",\n",
    "        \"$pos_y$\": \"(0.5 * $F$/(5+$weight_rocket$) * np.cos($angle$)) * $booster$ * $dt$**2 - $G$ * $dt$**2 + $Vy_0$ * $dt$ + $y_0$\",\n",
    "        \"$futur_pos_y$\" : \"$pos_y$ + 3 * $speed_y$\",\n",
    "        \"y_lower_limit\" : \"0\",\n",
    "        \"y_upper_limit\" : \"200\",\n",
    "        \"$upper_boundary$\": \"-np.exp(0) + np.exp(np.min([ np.min(-$futur_pos_y$ + y_upper_limit), 0]))\",\n",
    "        \"$lower_boundary$\": \"-np.exp(0) + np.exp(np.min([ np.min($futur_pos_y$ -y_lower_limit), 0]))\"\n",
    "    },\n",
    "\n",
    "### <span style=\"color:orange\">Reward</span>\n",
    "\n",
    "The reward indicates the immediate benefit or cost associated with the action.\n",
    "The scalar feedback signal that the environment sends to the agent after it takes an action are defined into this dictionnary.\n",
    "\n",
    "    \"equations_rewards\": {\n",
    "      \"$booster$\" : \"2*(-distance_y_reward) + speed_y_reward + 0.5 * ratio_fuel\"\n",
    "    }"
   ]
  },
  {
   "cell_type": "markdown",
   "metadata": {},
   "source": [
    "## <span style=\"color:orange\">Stop episode</span>\n",
    "\n",
    "stop episode when goal is reach. If feature has 1 value, its feature's value must be equal.\n",
    "In other hand, if feature has 2 values ([min_limit, max_limit]), criterion is bounded feature >= min_limit and feature <= max_limit\n",
    "\n",
    "    \"stop_episode\" : {\n",
    "      \"pos_y\" : [0, 5],\n",
    "      \"acceleration_y\" : [-2,2],\n",
    "      \"speed_y\" : [-2,2]\n",
    "    }"
   ]
  },
  {
   "cell_type": "markdown",
   "id": "edae6973",
   "metadata": {},
   "source": [
    "# <span style=\"color:orange\">A simple scenario</span>"
   ]
  },
  {
   "cell_type": "markdown",
   "id": "84614d8e",
   "metadata": {},
   "source": [
    "We want to land our rocket without it crashing. In this scenario, the rocket can take three actions: turn off its booster, or turn it on at half or full power.\n",
    "\n",
    "Let’s model our ideal scenario. We want to activate the booster when the rocket exceeds speed or acceleration limits, and on the other hand, we want to conserve fuel whenever possible."
   ]
  },
  {
   "cell_type": "markdown",
   "id": "c79d7405-5fcf-45ee-8abf-c1af457b58b9",
   "metadata": {},
   "source": [
    "# <span style=\"color:orange\">Intialize environment</span>\n",
    "\n",
    "Create an environment object with the rules defined previously. The idea is to check the new field can raise a flag to stop simulation when the criteria are reached:\n",
    "\n",
    "* 0 <= pos_y <= 5\n",
    "* -2 <= acceleration_y >= 2\n",
    "* -8 <= speed_y >= 8\n",
    "\n",
    "We will also control the speed of the rocket and its acceleration to keep as possible those parameters between this range:\n",
    "\n",
    "* -5 >= speed_y <= 5\n",
    "* -10 <= acceleration_y >= 10"
   ]
  },
  {
   "cell_type": "code",
   "execution_count": 2,
   "id": "5537121a",
   "metadata": {},
   "outputs": [
    {
     "name": "stdout",
     "output_type": "stream",
     "text": [
      "check order names for states_variables\n",
      "\n",
      "Check order names for agent_variables\n",
      "\n",
      "check limit number of field\n",
      "\n",
      "Check limit boundaries for initial state\n",
      "\n",
      "Solve equations present in equations_variables field\n",
      "\n",
      "Solve equations present in equations_rewards field\n",
      "\n",
      "Everything is good :)\n",
      "speed limit\n",
      "turn on engine to increase speed\n",
      "speed limit\n",
      "turn on engine to increase speed\n",
      "speed limit\n",
      "turn on engine to increase speed\n",
      "speed limit\n",
      "turn on engine to increase speed\n",
      "orcket is bellow the ground\n"
     ]
    },
    {
     "data": {
      "application/vnd.plotly.v1+json": {
       "config": {
        "plotlyServerURL": "https://plot.ly"
       },
       "data": [
        {
         "mode": "lines+markers",
         "name": "Height",
         "type": "scatter",
         "x": [
          0,
          3,
          6,
          9,
          12,
          15,
          18,
          21
         ],
         "y": [
          175,
          160.42,
          131.26,
          96.37245901639344,
          64.75737704918032,
          36.714837454848556,
          12.555185060984357,
          -7.400438294767323
         ]
        },
        {
         "mode": "lines+markers",
         "name": "futur_position_dt+0",
         "type": "scatter",
         "x": [
          0,
          3,
          6,
          9,
          12,
          15,
          18,
          21
         ],
         "y": [
          175,
          160.42,
          131.26,
          96.37245901639344,
          64.75737704918032,
          36.714837454848556,
          12.555185060984357,
          -7.400438294767323
         ]
        }
       ],
       "layout": {
        "template": {
         "data": {
          "bar": [
           {
            "error_x": {
             "color": "#2a3f5f"
            },
            "error_y": {
             "color": "#2a3f5f"
            },
            "marker": {
             "line": {
              "color": "#E5ECF6",
              "width": 0.5
             },
             "pattern": {
              "fillmode": "overlay",
              "size": 10,
              "solidity": 0.2
             }
            },
            "type": "bar"
           }
          ],
          "barpolar": [
           {
            "marker": {
             "line": {
              "color": "#E5ECF6",
              "width": 0.5
             },
             "pattern": {
              "fillmode": "overlay",
              "size": 10,
              "solidity": 0.2
             }
            },
            "type": "barpolar"
           }
          ],
          "carpet": [
           {
            "aaxis": {
             "endlinecolor": "#2a3f5f",
             "gridcolor": "white",
             "linecolor": "white",
             "minorgridcolor": "white",
             "startlinecolor": "#2a3f5f"
            },
            "baxis": {
             "endlinecolor": "#2a3f5f",
             "gridcolor": "white",
             "linecolor": "white",
             "minorgridcolor": "white",
             "startlinecolor": "#2a3f5f"
            },
            "type": "carpet"
           }
          ],
          "choropleth": [
           {
            "colorbar": {
             "outlinewidth": 0,
             "ticks": ""
            },
            "type": "choropleth"
           }
          ],
          "contour": [
           {
            "colorbar": {
             "outlinewidth": 0,
             "ticks": ""
            },
            "colorscale": [
             [
              0,
              "#0d0887"
             ],
             [
              0.1111111111111111,
              "#46039f"
             ],
             [
              0.2222222222222222,
              "#7201a8"
             ],
             [
              0.3333333333333333,
              "#9c179e"
             ],
             [
              0.4444444444444444,
              "#bd3786"
             ],
             [
              0.5555555555555556,
              "#d8576b"
             ],
             [
              0.6666666666666666,
              "#ed7953"
             ],
             [
              0.7777777777777778,
              "#fb9f3a"
             ],
             [
              0.8888888888888888,
              "#fdca26"
             ],
             [
              1,
              "#f0f921"
             ]
            ],
            "type": "contour"
           }
          ],
          "contourcarpet": [
           {
            "colorbar": {
             "outlinewidth": 0,
             "ticks": ""
            },
            "type": "contourcarpet"
           }
          ],
          "heatmap": [
           {
            "colorbar": {
             "outlinewidth": 0,
             "ticks": ""
            },
            "colorscale": [
             [
              0,
              "#0d0887"
             ],
             [
              0.1111111111111111,
              "#46039f"
             ],
             [
              0.2222222222222222,
              "#7201a8"
             ],
             [
              0.3333333333333333,
              "#9c179e"
             ],
             [
              0.4444444444444444,
              "#bd3786"
             ],
             [
              0.5555555555555556,
              "#d8576b"
             ],
             [
              0.6666666666666666,
              "#ed7953"
             ],
             [
              0.7777777777777778,
              "#fb9f3a"
             ],
             [
              0.8888888888888888,
              "#fdca26"
             ],
             [
              1,
              "#f0f921"
             ]
            ],
            "type": "heatmap"
           }
          ],
          "heatmapgl": [
           {
            "colorbar": {
             "outlinewidth": 0,
             "ticks": ""
            },
            "colorscale": [
             [
              0,
              "#0d0887"
             ],
             [
              0.1111111111111111,
              "#46039f"
             ],
             [
              0.2222222222222222,
              "#7201a8"
             ],
             [
              0.3333333333333333,
              "#9c179e"
             ],
             [
              0.4444444444444444,
              "#bd3786"
             ],
             [
              0.5555555555555556,
              "#d8576b"
             ],
             [
              0.6666666666666666,
              "#ed7953"
             ],
             [
              0.7777777777777778,
              "#fb9f3a"
             ],
             [
              0.8888888888888888,
              "#fdca26"
             ],
             [
              1,
              "#f0f921"
             ]
            ],
            "type": "heatmapgl"
           }
          ],
          "histogram": [
           {
            "marker": {
             "pattern": {
              "fillmode": "overlay",
              "size": 10,
              "solidity": 0.2
             }
            },
            "type": "histogram"
           }
          ],
          "histogram2d": [
           {
            "colorbar": {
             "outlinewidth": 0,
             "ticks": ""
            },
            "colorscale": [
             [
              0,
              "#0d0887"
             ],
             [
              0.1111111111111111,
              "#46039f"
             ],
             [
              0.2222222222222222,
              "#7201a8"
             ],
             [
              0.3333333333333333,
              "#9c179e"
             ],
             [
              0.4444444444444444,
              "#bd3786"
             ],
             [
              0.5555555555555556,
              "#d8576b"
             ],
             [
              0.6666666666666666,
              "#ed7953"
             ],
             [
              0.7777777777777778,
              "#fb9f3a"
             ],
             [
              0.8888888888888888,
              "#fdca26"
             ],
             [
              1,
              "#f0f921"
             ]
            ],
            "type": "histogram2d"
           }
          ],
          "histogram2dcontour": [
           {
            "colorbar": {
             "outlinewidth": 0,
             "ticks": ""
            },
            "colorscale": [
             [
              0,
              "#0d0887"
             ],
             [
              0.1111111111111111,
              "#46039f"
             ],
             [
              0.2222222222222222,
              "#7201a8"
             ],
             [
              0.3333333333333333,
              "#9c179e"
             ],
             [
              0.4444444444444444,
              "#bd3786"
             ],
             [
              0.5555555555555556,
              "#d8576b"
             ],
             [
              0.6666666666666666,
              "#ed7953"
             ],
             [
              0.7777777777777778,
              "#fb9f3a"
             ],
             [
              0.8888888888888888,
              "#fdca26"
             ],
             [
              1,
              "#f0f921"
             ]
            ],
            "type": "histogram2dcontour"
           }
          ],
          "mesh3d": [
           {
            "colorbar": {
             "outlinewidth": 0,
             "ticks": ""
            },
            "type": "mesh3d"
           }
          ],
          "parcoords": [
           {
            "line": {
             "colorbar": {
              "outlinewidth": 0,
              "ticks": ""
             }
            },
            "type": "parcoords"
           }
          ],
          "pie": [
           {
            "automargin": true,
            "type": "pie"
           }
          ],
          "scatter": [
           {
            "fillpattern": {
             "fillmode": "overlay",
             "size": 10,
             "solidity": 0.2
            },
            "type": "scatter"
           }
          ],
          "scatter3d": [
           {
            "line": {
             "colorbar": {
              "outlinewidth": 0,
              "ticks": ""
             }
            },
            "marker": {
             "colorbar": {
              "outlinewidth": 0,
              "ticks": ""
             }
            },
            "type": "scatter3d"
           }
          ],
          "scattercarpet": [
           {
            "marker": {
             "colorbar": {
              "outlinewidth": 0,
              "ticks": ""
             }
            },
            "type": "scattercarpet"
           }
          ],
          "scattergeo": [
           {
            "marker": {
             "colorbar": {
              "outlinewidth": 0,
              "ticks": ""
             }
            },
            "type": "scattergeo"
           }
          ],
          "scattergl": [
           {
            "marker": {
             "colorbar": {
              "outlinewidth": 0,
              "ticks": ""
             }
            },
            "type": "scattergl"
           }
          ],
          "scattermapbox": [
           {
            "marker": {
             "colorbar": {
              "outlinewidth": 0,
              "ticks": ""
             }
            },
            "type": "scattermapbox"
           }
          ],
          "scatterpolar": [
           {
            "marker": {
             "colorbar": {
              "outlinewidth": 0,
              "ticks": ""
             }
            },
            "type": "scatterpolar"
           }
          ],
          "scatterpolargl": [
           {
            "marker": {
             "colorbar": {
              "outlinewidth": 0,
              "ticks": ""
             }
            },
            "type": "scatterpolargl"
           }
          ],
          "scatterternary": [
           {
            "marker": {
             "colorbar": {
              "outlinewidth": 0,
              "ticks": ""
             }
            },
            "type": "scatterternary"
           }
          ],
          "surface": [
           {
            "colorbar": {
             "outlinewidth": 0,
             "ticks": ""
            },
            "colorscale": [
             [
              0,
              "#0d0887"
             ],
             [
              0.1111111111111111,
              "#46039f"
             ],
             [
              0.2222222222222222,
              "#7201a8"
             ],
             [
              0.3333333333333333,
              "#9c179e"
             ],
             [
              0.4444444444444444,
              "#bd3786"
             ],
             [
              0.5555555555555556,
              "#d8576b"
             ],
             [
              0.6666666666666666,
              "#ed7953"
             ],
             [
              0.7777777777777778,
              "#fb9f3a"
             ],
             [
              0.8888888888888888,
              "#fdca26"
             ],
             [
              1,
              "#f0f921"
             ]
            ],
            "type": "surface"
           }
          ],
          "table": [
           {
            "cells": {
             "fill": {
              "color": "#EBF0F8"
             },
             "line": {
              "color": "white"
             }
            },
            "header": {
             "fill": {
              "color": "#C8D4E3"
             },
             "line": {
              "color": "white"
             }
            },
            "type": "table"
           }
          ]
         },
         "layout": {
          "annotationdefaults": {
           "arrowcolor": "#2a3f5f",
           "arrowhead": 0,
           "arrowwidth": 1
          },
          "autotypenumbers": "strict",
          "coloraxis": {
           "colorbar": {
            "outlinewidth": 0,
            "ticks": ""
           }
          },
          "colorscale": {
           "diverging": [
            [
             0,
             "#8e0152"
            ],
            [
             0.1,
             "#c51b7d"
            ],
            [
             0.2,
             "#de77ae"
            ],
            [
             0.3,
             "#f1b6da"
            ],
            [
             0.4,
             "#fde0ef"
            ],
            [
             0.5,
             "#f7f7f7"
            ],
            [
             0.6,
             "#e6f5d0"
            ],
            [
             0.7,
             "#b8e186"
            ],
            [
             0.8,
             "#7fbc41"
            ],
            [
             0.9,
             "#4d9221"
            ],
            [
             1,
             "#276419"
            ]
           ],
           "sequential": [
            [
             0,
             "#0d0887"
            ],
            [
             0.1111111111111111,
             "#46039f"
            ],
            [
             0.2222222222222222,
             "#7201a8"
            ],
            [
             0.3333333333333333,
             "#9c179e"
            ],
            [
             0.4444444444444444,
             "#bd3786"
            ],
            [
             0.5555555555555556,
             "#d8576b"
            ],
            [
             0.6666666666666666,
             "#ed7953"
            ],
            [
             0.7777777777777778,
             "#fb9f3a"
            ],
            [
             0.8888888888888888,
             "#fdca26"
            ],
            [
             1,
             "#f0f921"
            ]
           ],
           "sequentialminus": [
            [
             0,
             "#0d0887"
            ],
            [
             0.1111111111111111,
             "#46039f"
            ],
            [
             0.2222222222222222,
             "#7201a8"
            ],
            [
             0.3333333333333333,
             "#9c179e"
            ],
            [
             0.4444444444444444,
             "#bd3786"
            ],
            [
             0.5555555555555556,
             "#d8576b"
            ],
            [
             0.6666666666666666,
             "#ed7953"
            ],
            [
             0.7777777777777778,
             "#fb9f3a"
            ],
            [
             0.8888888888888888,
             "#fdca26"
            ],
            [
             1,
             "#f0f921"
            ]
           ]
          },
          "colorway": [
           "#636efa",
           "#EF553B",
           "#00cc96",
           "#ab63fa",
           "#FFA15A",
           "#19d3f3",
           "#FF6692",
           "#B6E880",
           "#FF97FF",
           "#FECB52"
          ],
          "font": {
           "color": "#2a3f5f"
          },
          "geo": {
           "bgcolor": "white",
           "lakecolor": "white",
           "landcolor": "#E5ECF6",
           "showlakes": true,
           "showland": true,
           "subunitcolor": "white"
          },
          "hoverlabel": {
           "align": "left"
          },
          "hovermode": "closest",
          "mapbox": {
           "style": "light"
          },
          "paper_bgcolor": "white",
          "plot_bgcolor": "#E5ECF6",
          "polar": {
           "angularaxis": {
            "gridcolor": "white",
            "linecolor": "white",
            "ticks": ""
           },
           "bgcolor": "#E5ECF6",
           "radialaxis": {
            "gridcolor": "white",
            "linecolor": "white",
            "ticks": ""
           }
          },
          "scene": {
           "xaxis": {
            "backgroundcolor": "#E5ECF6",
            "gridcolor": "white",
            "gridwidth": 2,
            "linecolor": "white",
            "showbackground": true,
            "ticks": "",
            "zerolinecolor": "white"
           },
           "yaxis": {
            "backgroundcolor": "#E5ECF6",
            "gridcolor": "white",
            "gridwidth": 2,
            "linecolor": "white",
            "showbackground": true,
            "ticks": "",
            "zerolinecolor": "white"
           },
           "zaxis": {
            "backgroundcolor": "#E5ECF6",
            "gridcolor": "white",
            "gridwidth": 2,
            "linecolor": "white",
            "showbackground": true,
            "ticks": "",
            "zerolinecolor": "white"
           }
          },
          "shapedefaults": {
           "line": {
            "color": "#2a3f5f"
           }
          },
          "ternary": {
           "aaxis": {
            "gridcolor": "white",
            "linecolor": "white",
            "ticks": ""
           },
           "baxis": {
            "gridcolor": "white",
            "linecolor": "white",
            "ticks": ""
           },
           "bgcolor": "#E5ECF6",
           "caxis": {
            "gridcolor": "white",
            "linecolor": "white",
            "ticks": ""
           }
          },
          "title": {
           "x": 0.05
          },
          "xaxis": {
           "automargin": true,
           "gridcolor": "white",
           "linecolor": "white",
           "ticks": "",
           "title": {
            "standoff": 15
           },
           "zerolinecolor": "white",
           "zerolinewidth": 2
          },
          "yaxis": {
           "automargin": true,
           "gridcolor": "white",
           "linecolor": "white",
           "ticks": "",
           "title": {
            "standoff": 15
           },
           "zerolinecolor": "white",
           "zerolinewidth": 2
          }
         }
        },
        "title": {
         "text": "Rocket's altitude"
        },
        "xaxis": {
         "title": {
          "text": "Time step"
         }
        },
        "yaxis": {
         "title": {
          "text": "Altitude"
         }
        }
       }
      }
     },
     "metadata": {},
     "output_type": "display_data"
    }
   ],
   "source": [
    "# Create an environment object with the rules defined previously\n",
    "env_ref = Environment(JOSN_file, check_model = True)\n",
    "df_0 = rocket_simulation(env_ref, acceleration_y_constraint = 10, speed_y_limit = 5, timestep = 0)\n",
    "plot_rocket_altitude(df_0)"
   ]
  },
  {
   "cell_type": "markdown",
   "id": "978f594d",
   "metadata": {},
   "source": [
    "The altitude plot shows that at t = 18, the rocket's altitude is 12.5, but its speed is too high. In fact, at the next timestep, the rocket's position drops to -7.4, indicating a crash.\n",
    "\n",
    "The most important factor here is the speed: it exceeds the desired range of [-5, 5]. Unlike speed, the acceleration remains within acceptable limits."
   ]
  },
  {
   "cell_type": "code",
   "execution_count": 3,
   "id": "a2a95135",
   "metadata": {},
   "outputs": [
    {
     "data": {
      "image/png": "[encoded data removed]",
      "text/plain": [
       "<Figure size 640x480 with 1 Axes>"
      ]
     },
     "metadata": {},
     "output_type": "display_data"
    },
    {
     "data": {
      "text/html": [
       "<div>\n",
       "<style scoped>\n",
       "    .dataframe tbody tr th:only-of-type {\n",
       "        vertical-align: middle;\n",
       "    }\n",
       "\n",
       "    .dataframe tbody tr th {\n",
       "        vertical-align: top;\n",
       "    }\n",
       "\n",
       "    .dataframe thead th {\n",
       "        text-align: right;\n",
       "    }\n",
       "</style>\n",
       "<table border=\"1\" class=\"dataframe\">\n",
       "  <thead>\n",
       "    <tr style=\"text-align: right;\">\n",
       "      <th></th>\n",
       "      <th>time</th>\n",
       "      <th>pos_y</th>\n",
       "      <th>speed_y</th>\n",
       "      <th>acceleration_y</th>\n",
       "      <th>m_fuel</th>\n",
       "      <th>booster</th>\n",
       "    </tr>\n",
       "  </thead>\n",
       "  <tbody>\n",
       "    <tr>\n",
       "      <th>0</th>\n",
       "      <td>0</td>\n",
       "      <td>175.000000</td>\n",
       "      <td>0.000000</td>\n",
       "      <td>0.000000</td>\n",
       "      <td>300.0</td>\n",
       "      <td>0.0</td>\n",
       "    </tr>\n",
       "    <tr>\n",
       "      <th>1</th>\n",
       "      <td>3</td>\n",
       "      <td>160.420000</td>\n",
       "      <td>-4.860000</td>\n",
       "      <td>-1.620000</td>\n",
       "      <td>300.0</td>\n",
       "      <td>0.0</td>\n",
       "    </tr>\n",
       "    <tr>\n",
       "      <th>2</th>\n",
       "      <td>6</td>\n",
       "      <td>131.260000</td>\n",
       "      <td>-9.720000</td>\n",
       "      <td>-1.620000</td>\n",
       "      <td>300.0</td>\n",
       "      <td>0.0</td>\n",
       "    </tr>\n",
       "    <tr>\n",
       "      <th>3</th>\n",
       "      <td>9</td>\n",
       "      <td>96.372459</td>\n",
       "      <td>-8.678361</td>\n",
       "      <td>0.347213</td>\n",
       "      <td>295.0</td>\n",
       "      <td>1.0</td>\n",
       "    </tr>\n",
       "    <tr>\n",
       "      <th>4</th>\n",
       "      <td>12</td>\n",
       "      <td>64.757377</td>\n",
       "      <td>-7.538361</td>\n",
       "      <td>0.380000</td>\n",
       "      <td>290.0</td>\n",
       "      <td>1.0</td>\n",
       "    </tr>\n",
       "    <tr>\n",
       "      <th>5</th>\n",
       "      <td>15</td>\n",
       "      <td>36.714837</td>\n",
       "      <td>-6.296666</td>\n",
       "      <td>0.413898</td>\n",
       "      <td>285.0</td>\n",
       "      <td>1.0</td>\n",
       "    </tr>\n",
       "    <tr>\n",
       "      <th>6</th>\n",
       "      <td>18</td>\n",
       "      <td>12.555185</td>\n",
       "      <td>-4.949769</td>\n",
       "      <td>0.448966</td>\n",
       "      <td>280.0</td>\n",
       "      <td>1.0</td>\n",
       "    </tr>\n",
       "    <tr>\n",
       "      <th>7</th>\n",
       "      <td>21</td>\n",
       "      <td>-7.400438</td>\n",
       "      <td>-3.493980</td>\n",
       "      <td>0.485263</td>\n",
       "      <td>275.0</td>\n",
       "      <td>1.0</td>\n",
       "    </tr>\n",
       "  </tbody>\n",
       "</table>\n",
       "</div>"
      ],
      "text/plain": [
       "   time       pos_y   speed_y  acceleration_y  m_fuel  booster\n",
       "0     0  175.000000  0.000000        0.000000   300.0      0.0\n",
       "1     3  160.420000 -4.860000       -1.620000   300.0      0.0\n",
       "2     6  131.260000 -9.720000       -1.620000   300.0      0.0\n",
       "3     9   96.372459 -8.678361        0.347213   295.0      1.0\n",
       "4    12   64.757377 -7.538361        0.380000   290.0      1.0\n",
       "5    15   36.714837 -6.296666        0.413898   285.0      1.0\n",
       "6    18   12.555185 -4.949769        0.448966   280.0      1.0\n",
       "7    21   -7.400438 -3.493980        0.485263   275.0      1.0"
      ]
     },
     "execution_count": 3,
     "metadata": {},
     "output_type": "execute_result"
    }
   ],
   "source": [
    "plt.plot(df_0.time, df_0.speed_y, \"+-\", label=\"Rockect's speed\")\n",
    "plt.title(\"Rocket's speed\")\n",
    "plt.hlines(-5, df_0.time.to_numpy()[0], df_0.time.to_numpy()[-1], \n",
    "           color = \"red\", linestyles = 'dashdot', label=\"desired speed limit\")\n",
    "plt.legend()\n",
    "plt.xlabel(\"Time\")\n",
    "plt.ylabel(\"Speed\")\n",
    "plt.show()\n",
    "\n",
    "\n",
    "df_0[[\"time\", \"pos_y\", \"speed_y\", \"acceleration_y\", \"m_fuel\", \"booster\"]]"
   ]
  },
  {
   "cell_type": "markdown",
   "id": "a54146bb",
   "metadata": {},
   "source": [
    "The speed and final position do not fully meet the success criteria.\n",
    "To avoid a crash (where the speed is too high to be corrected in the next timestep), we could use the future position as an additional criterion.\n",
    "The future position is calculated using the current speed and the timestep, according to the formula:\n",
    "\n",
    "$$ futur\\_positiion = pos_y + speed_y * timestep $$"
   ]
  },
  {
   "cell_type": "markdown",
   "id": "73085b22",
   "metadata": {},
   "source": [
    "# <span style=\"color:orange\">Test different timestep for futur position</span>"
   ]
  },
  {
   "cell_type": "code",
   "execution_count": 4,
   "id": "b4752616",
   "metadata": {},
   "outputs": [
    {
     "data": {
      "application/vnd.plotly.v1+json": {
       "config": {
        "plotlyServerURL": "https://plot.ly"
       },
       "data": [
        {
         "mode": "lines+markers",
         "name": "Height",
         "type": "scatter",
         "x": [
          0,
          3,
          6,
          9,
          12,
          15,
          18,
          21
         ],
         "y": [
          175,
          160.42,
          131.26,
          96.37245901639344,
          64.75737704918032,
          36.714837454848556,
          12.555185060984357,
          -7.400438294767323
         ]
        },
        {
         "mode": "lines+markers",
         "name": "futur_position_dt+0",
         "type": "scatter",
         "x": [
          0,
          3,
          6,
          9,
          12,
          15,
          18,
          21
         ],
         "y": [
          175,
          160.42,
          131.26,
          96.37245901639344,
          64.75737704918032,
          36.714837454848556,
          12.555185060984357,
          -7.400438294767323
         ]
        },
        {
         "mode": "lines+markers",
         "name": "futur_position_dt+3",
         "type": "scatter",
         "x": [
          0,
          3,
          6,
          9,
          12,
          15,
          18,
          21
         ],
         "y": [
          175,
          145.83999999999997,
          102.1,
          70.33737704918032,
          42.142295081967205,
          17.82484023339815,
          -2.294122505293636,
          -17.882377439992684
         ]
        },
        {
         "mode": "lines+markers",
         "name": "futur_position_dt+5",
         "type": "scatter",
         "x": [
          0,
          3,
          6,
          9,
          12,
          15,
          18,
          21
         ],
         "y": [
          175,
          136.11999999999998,
          82.66,
          52.98065573770491,
          27.06557377049179,
          5.2315087524312105,
          -12.193660882812296,
          -24.870336870142925
         ]
        },
        {
         "mode": "lines+markers",
         "name": "futur_position_dt+10",
         "type": "scatter",
         "x": [
          0,
          3,
          6,
          9,
          12,
          15,
          18,
          21
         ],
         "y": [
          175,
          111.82,
          34.05999999999999,
          9.58885245901638,
          -10.626229508196744,
          -26.251819949986135,
          -36.94250682660895,
          -42.34023544551853
         ]
        }
       ],
       "layout": {
        "template": {
         "data": {
          "bar": [
           {
            "error_x": {
             "color": "#2a3f5f"
            },
            "error_y": {
             "color": "#2a3f5f"
            },
            "marker": {
             "line": {
              "color": "#E5ECF6",
              "width": 0.5
             },
             "pattern": {
              "fillmode": "overlay",
              "size": 10,
              "solidity": 0.2
             }
            },
            "type": "bar"
           }
          ],
          "barpolar": [
           {
            "marker": {
             "line": {
              "color": "#E5ECF6",
              "width": 0.5
             },
             "pattern": {
              "fillmode": "overlay",
              "size": 10,
              "solidity": 0.2
             }
            },
            "type": "barpolar"
           }
          ],
          "carpet": [
           {
            "aaxis": {
             "endlinecolor": "#2a3f5f",
             "gridcolor": "white",
             "linecolor": "white",
             "minorgridcolor": "white",
             "startlinecolor": "#2a3f5f"
            },
            "baxis": {
             "endlinecolor": "#2a3f5f",
             "gridcolor": "white",
             "linecolor": "white",
             "minorgridcolor": "white",
             "startlinecolor": "#2a3f5f"
            },
            "type": "carpet"
           }
          ],
          "choropleth": [
           {
            "colorbar": {
             "outlinewidth": 0,
             "ticks": ""
            },
            "type": "choropleth"
           }
          ],
          "contour": [
           {
            "colorbar": {
             "outlinewidth": 0,
             "ticks": ""
            },
            "colorscale": [
             [
              0,
              "#0d0887"
             ],
             [
              0.1111111111111111,
              "#46039f"
             ],
             [
              0.2222222222222222,
              "#7201a8"
             ],
             [
              0.3333333333333333,
              "#9c179e"
             ],
             [
              0.4444444444444444,
              "#bd3786"
             ],
             [
              0.5555555555555556,
              "#d8576b"
             ],
             [
              0.6666666666666666,
              "#ed7953"
             ],
             [
              0.7777777777777778,
              "#fb9f3a"
             ],
             [
              0.8888888888888888,
              "#fdca26"
             ],
             [
              1,
              "#f0f921"
             ]
            ],
            "type": "contour"
           }
          ],
          "contourcarpet": [
           {
            "colorbar": {
             "outlinewidth": 0,
             "ticks": ""
            },
            "type": "contourcarpet"
           }
          ],
          "heatmap": [
           {
            "colorbar": {
             "outlinewidth": 0,
             "ticks": ""
            },
            "colorscale": [
             [
              0,
              "#0d0887"
             ],
             [
              0.1111111111111111,
              "#46039f"
             ],
             [
              0.2222222222222222,
              "#7201a8"
             ],
             [
              0.3333333333333333,
              "#9c179e"
             ],
             [
              0.4444444444444444,
              "#bd3786"
             ],
             [
              0.5555555555555556,
              "#d8576b"
             ],
             [
              0.6666666666666666,
              "#ed7953"
             ],
             [
              0.7777777777777778,
              "#fb9f3a"
             ],
             [
              0.8888888888888888,
              "#fdca26"
             ],
             [
              1,
              "#f0f921"
             ]
            ],
            "type": "heatmap"
           }
          ],
          "heatmapgl": [
           {
            "colorbar": {
             "outlinewidth": 0,
             "ticks": ""
            },
            "colorscale": [
             [
              0,
              "#0d0887"
             ],
             [
              0.1111111111111111,
              "#46039f"
             ],
             [
              0.2222222222222222,
              "#7201a8"
             ],
             [
              0.3333333333333333,
              "#9c179e"
             ],
             [
              0.4444444444444444,
              "#bd3786"
             ],
             [
              0.5555555555555556,
              "#d8576b"
             ],
             [
              0.6666666666666666,
              "#ed7953"
             ],
             [
              0.7777777777777778,
              "#fb9f3a"
             ],
             [
              0.8888888888888888,
              "#fdca26"
             ],
             [
              1,
              "#f0f921"
             ]
            ],
            "type": "heatmapgl"
           }
          ],
          "histogram": [
           {
            "marker": {
             "pattern": {
              "fillmode": "overlay",
              "size": 10,
              "solidity": 0.2
             }
            },
            "type": "histogram"
           }
          ],
          "histogram2d": [
           {
            "colorbar": {
             "outlinewidth": 0,
             "ticks": ""
            },
            "colorscale": [
             [
              0,
              "#0d0887"
             ],
             [
              0.1111111111111111,
              "#46039f"
             ],
             [
              0.2222222222222222,
              "#7201a8"
             ],
             [
              0.3333333333333333,
              "#9c179e"
             ],
             [
              0.4444444444444444,
              "#bd3786"
             ],
             [
              0.5555555555555556,
              "#d8576b"
             ],
             [
              0.6666666666666666,
              "#ed7953"
             ],
             [
              0.7777777777777778,
              "#fb9f3a"
             ],
             [
              0.8888888888888888,
              "#fdca26"
             ],
             [
              1,
              "#f0f921"
             ]
            ],
            "type": "histogram2d"
           }
          ],
          "histogram2dcontour": [
           {
            "colorbar": {
             "outlinewidth": 0,
             "ticks": ""
            },
            "colorscale": [
             [
              0,
              "#0d0887"
             ],
             [
              0.1111111111111111,
              "#46039f"
             ],
             [
              0.2222222222222222,
              "#7201a8"
             ],
             [
              0.3333333333333333,
              "#9c179e"
             ],
             [
              0.4444444444444444,
              "#bd3786"
             ],
             [
              0.5555555555555556,
              "#d8576b"
             ],
             [
              0.6666666666666666,
              "#ed7953"
             ],
             [
              0.7777777777777778,
              "#fb9f3a"
             ],
             [
              0.8888888888888888,
              "#fdca26"
             ],
             [
              1,
              "#f0f921"
             ]
            ],
            "type": "histogram2dcontour"
           }
          ],
          "mesh3d": [
           {
            "colorbar": {
             "outlinewidth": 0,
             "ticks": ""
            },
            "type": "mesh3d"
           }
          ],
          "parcoords": [
           {
            "line": {
             "colorbar": {
              "outlinewidth": 0,
              "ticks": ""
             }
            },
            "type": "parcoords"
           }
          ],
          "pie": [
           {
            "automargin": true,
            "type": "pie"
           }
          ],
          "scatter": [
           {
            "fillpattern": {
             "fillmode": "overlay",
             "size": 10,
             "solidity": 0.2
            },
            "type": "scatter"
           }
          ],
          "scatter3d": [
           {
            "line": {
             "colorbar": {
              "outlinewidth": 0,
              "ticks": ""
             }
            },
            "marker": {
             "colorbar": {
              "outlinewidth": 0,
              "ticks": ""
             }
            },
            "type": "scatter3d"
           }
          ],
          "scattercarpet": [
           {
            "marker": {
             "colorbar": {
              "outlinewidth": 0,
              "ticks": ""
             }
            },
            "type": "scattercarpet"
           }
          ],
          "scattergeo": [
           {
            "marker": {
             "colorbar": {
              "outlinewidth": 0,
              "ticks": ""
             }
            },
            "type": "scattergeo"
           }
          ],
          "scattergl": [
           {
            "marker": {
             "colorbar": {
              "outlinewidth": 0,
              "ticks": ""
             }
            },
            "type": "scattergl"
           }
          ],
          "scattermapbox": [
           {
            "marker": {
             "colorbar": {
              "outlinewidth": 0,
              "ticks": ""
             }
            },
            "type": "scattermapbox"
           }
          ],
          "scatterpolar": [
           {
            "marker": {
             "colorbar": {
              "outlinewidth": 0,
              "ticks": ""
             }
            },
            "type": "scatterpolar"
           }
          ],
          "scatterpolargl": [
           {
            "marker": {
             "colorbar": {
              "outlinewidth": 0,
              "ticks": ""
             }
            },
            "type": "scatterpolargl"
           }
          ],
          "scatterternary": [
           {
            "marker": {
             "colorbar": {
              "outlinewidth": 0,
              "ticks": ""
             }
            },
            "type": "scatterternary"
           }
          ],
          "surface": [
           {
            "colorbar": {
             "outlinewidth": 0,
             "ticks": ""
            },
            "colorscale": [
             [
              0,
              "#0d0887"
             ],
             [
              0.1111111111111111,
              "#46039f"
             ],
             [
              0.2222222222222222,
              "#7201a8"
             ],
             [
              0.3333333333333333,
              "#9c179e"
             ],
             [
              0.4444444444444444,
              "#bd3786"
             ],
             [
              0.5555555555555556,
              "#d8576b"
             ],
             [
              0.6666666666666666,
              "#ed7953"
             ],
             [
              0.7777777777777778,
              "#fb9f3a"
             ],
             [
              0.8888888888888888,
              "#fdca26"
             ],
             [
              1,
              "#f0f921"
             ]
            ],
            "type": "surface"
           }
          ],
          "table": [
           {
            "cells": {
             "fill": {
              "color": "#EBF0F8"
             },
             "line": {
              "color": "white"
             }
            },
            "header": {
             "fill": {
              "color": "#C8D4E3"
             },
             "line": {
              "color": "white"
             }
            },
            "type": "table"
           }
          ]
         },
         "layout": {
          "annotationdefaults": {
           "arrowcolor": "#2a3f5f",
           "arrowhead": 0,
           "arrowwidth": 1
          },
          "autotypenumbers": "strict",
          "coloraxis": {
           "colorbar": {
            "outlinewidth": 0,
            "ticks": ""
           }
          },
          "colorscale": {
           "diverging": [
            [
             0,
             "#8e0152"
            ],
            [
             0.1,
             "#c51b7d"
            ],
            [
             0.2,
             "#de77ae"
            ],
            [
             0.3,
             "#f1b6da"
            ],
            [
             0.4,
             "#fde0ef"
            ],
            [
             0.5,
             "#f7f7f7"
            ],
            [
             0.6,
             "#e6f5d0"
            ],
            [
             0.7,
             "#b8e186"
            ],
            [
             0.8,
             "#7fbc41"
            ],
            [
             0.9,
             "#4d9221"
            ],
            [
             1,
             "#276419"
            ]
           ],
           "sequential": [
            [
             0,
             "#0d0887"
            ],
            [
             0.1111111111111111,
             "#46039f"
            ],
            [
             0.2222222222222222,
             "#7201a8"
            ],
            [
             0.3333333333333333,
             "#9c179e"
            ],
            [
             0.4444444444444444,
             "#bd3786"
            ],
            [
             0.5555555555555556,
             "#d8576b"
            ],
            [
             0.6666666666666666,
             "#ed7953"
            ],
            [
             0.7777777777777778,
             "#fb9f3a"
            ],
            [
             0.8888888888888888,
             "#fdca26"
            ],
            [
             1,
             "#f0f921"
            ]
           ],
           "sequentialminus": [
            [
             0,
             "#0d0887"
            ],
            [
             0.1111111111111111,
             "#46039f"
            ],
            [
             0.2222222222222222,
             "#7201a8"
            ],
            [
             0.3333333333333333,
             "#9c179e"
            ],
            [
             0.4444444444444444,
             "#bd3786"
            ],
            [
             0.5555555555555556,
             "#d8576b"
            ],
            [
             0.6666666666666666,
             "#ed7953"
            ],
            [
             0.7777777777777778,
             "#fb9f3a"
            ],
            [
             0.8888888888888888,
             "#fdca26"
            ],
            [
             1,
             "#f0f921"
            ]
           ]
          },
          "colorway": [
           "#636efa",
           "#EF553B",
           "#00cc96",
           "#ab63fa",
           "#FFA15A",
           "#19d3f3",
           "#FF6692",
           "#B6E880",
           "#FF97FF",
           "#FECB52"
          ],
          "font": {
           "color": "#2a3f5f"
          },
          "geo": {
           "bgcolor": "white",
           "lakecolor": "white",
           "landcolor": "#E5ECF6",
           "showlakes": true,
           "showland": true,
           "subunitcolor": "white"
          },
          "hoverlabel": {
           "align": "left"
          },
          "hovermode": "closest",
          "mapbox": {
           "style": "light"
          },
          "paper_bgcolor": "white",
          "plot_bgcolor": "#E5ECF6",
          "polar": {
           "angularaxis": {
            "gridcolor": "white",
            "linecolor": "white",
            "ticks": ""
           },
           "bgcolor": "#E5ECF6",
           "radialaxis": {
            "gridcolor": "white",
            "linecolor": "white",
            "ticks": ""
           }
          },
          "scene": {
           "xaxis": {
            "backgroundcolor": "#E5ECF6",
            "gridcolor": "white",
            "gridwidth": 2,
            "linecolor": "white",
            "showbackground": true,
            "ticks": "",
            "zerolinecolor": "white"
           },
           "yaxis": {
            "backgroundcolor": "#E5ECF6",
            "gridcolor": "white",
            "gridwidth": 2,
            "linecolor": "white",
            "showbackground": true,
            "ticks": "",
            "zerolinecolor": "white"
           },
           "zaxis": {
            "backgroundcolor": "#E5ECF6",
            "gridcolor": "white",
            "gridwidth": 2,
            "linecolor": "white",
            "showbackground": true,
            "ticks": "",
            "zerolinecolor": "white"
           }
          },
          "shapedefaults": {
           "line": {
            "color": "#2a3f5f"
           }
          },
          "ternary": {
           "aaxis": {
            "gridcolor": "white",
            "linecolor": "white",
            "ticks": ""
           },
           "baxis": {
            "gridcolor": "white",
            "linecolor": "white",
            "ticks": ""
           },
           "bgcolor": "#E5ECF6",
           "caxis": {
            "gridcolor": "white",
            "linecolor": "white",
            "ticks": ""
           }
          },
          "title": {
           "x": 0.05
          },
          "xaxis": {
           "automargin": true,
           "gridcolor": "white",
           "linecolor": "white",
           "ticks": "",
           "title": {
            "standoff": 15
           },
           "zerolinecolor": "white",
           "zerolinewidth": 2
          },
          "yaxis": {
           "automargin": true,
           "gridcolor": "white",
           "linecolor": "white",
           "ticks": "",
           "title": {
            "standoff": 15
           },
           "zerolinecolor": "white",
           "zerolinewidth": 2
          }
         }
        },
        "title": {
         "text": "Rocket's altitude"
        },
        "xaxis": {
         "title": {
          "text": "Time step"
         }
        },
        "yaxis": {
         "title": {
          "text": "Altitude"
         }
        }
       }
      }
     },
     "metadata": {},
     "output_type": "display_data"
    }
   ],
   "source": [
    "# Try different timestep to compute furtur rocket position\n",
    "for timestep in [3, 5, 10]:\n",
    "    df_0[\"futur_position_dt+{0}\".format(timestep)] = df_0[\"pos_y\"] + df_0[\"speed_y\"] * timestep\n",
    "plot_rocket_altitude(df_0)"
   ]
  },
  {
   "cell_type": "markdown",
   "id": "d175966d",
   "metadata": {},
   "source": [
    "Let's examine the rocket's landing. As you can see, at t = 21, its position is -7.4, indicating a crash.\n",
    "Ideally, we would want to prevent the crash by activating the engine before it's too late.\n",
    "\n",
    "Using the future position projected at dt+3 or dt+5, the model predicts the crash only one timestep before it actually happens, which is too late to correct the rocket's trajectory.\n",
    "\n",
    "On the other hand, dt+10 predicts the crash three timesteps earlier, providing enough time to react. This makes it a good candidate for implementing a static decision rule to avoid crashes.\n",
    "\n",
    "However, depending on the rocket's speed and acceleration, using dt+10 can be problematic. If the rocket is already close to the ground and moving at low speed with low acceleration, the future position at dt+10 might incorrectly suggest a crash—causing the engine to turn on unnecessarily.\n",
    "\n",
    "For the reason, we will use reinforcement learning to learn landing correctly."
   ]
  },
  {
   "cell_type": "markdown",
   "id": "268d8ce7",
   "metadata": {},
   "source": [
    "# <span style=\"color:orange\">Rewards</span>\n",
    "\n",
    "Before to use reinforcement learning. Let's see how each global reward and its individual components (without their weighting coefficients) evolve. As a reminder, the reward formula for the booster is:\n",
    "\n",
    "$$  -2 * distance\\_y\\_reward + speed\\_y\\_reward + 0.5 * ratio\\_fuel $$ \n",
    "\n",
    "We know that in our first attempt, the rocket did not respect the speed limitation.\n",
    "Let’s check whether this undesired behavior is properly detected and penalized by the reward function."
   ]
  },
  {
   "cell_type": "code",
   "execution_count": 5,
   "id": "1b6c6882",
   "metadata": {},
   "outputs": [
    {
     "name": "stdout",
     "output_type": "stream",
     "text": [
      "speed limit\n",
      "turn on engine to increase speed\n",
      "speed limit\n",
      "turn on engine to increase speed\n",
      "speed limit\n",
      "turn on engine to increase speed\n",
      "speed limit\n",
      "turn on engine to increase speed\n",
      "orcket is bellow the ground\n"
     ]
    },
    {
     "data": {
      "application/vnd.plotly.v1+json": {
       "config": {
        "plotlyServerURL": "https://plot.ly"
       },
       "data": [
        {
         "mode": "lines+markers",
         "name": "distance_y_reward",
         "type": "scatter",
         "x": [
          0,
          3,
          6,
          9,
          12,
          15,
          18,
          21
         ],
         "y": [
          1,
          0.9166857142857142,
          0.7500571428571428,
          0.5506997658079625,
          0.37004215456674466,
          0.20979907117056318,
          0.07174391463419633,
          0.04228821882724185
         ]
        },
        {
         "mode": "lines+markers",
         "name": "speed_y_reward",
         "type": "scatter",
         "x": [
          0,
          3,
          6,
          9,
          12,
          15,
          18,
          21
         ],
         "y": [
          0,
          0,
          -4.268359890369506,
          -2.9544575190811746,
          -1.7979235858408669,
          -0.8047895085657357,
          0,
          0
         ]
        },
        {
         "mode": "lines+markers",
         "name": "ratio_fuel",
         "type": "scatter",
         "x": [
          0,
          3,
          6,
          9,
          12,
          15,
          18,
          21
         ],
         "y": [
          1,
          1,
          1,
          0.9833333333333333,
          0.9666666666666667,
          0.95,
          0.9333333333333333,
          0.9166666666666666
         ]
        },
        {
         "mode": "lines+markers",
         "name": "Sum of rewards",
         "type": "scatter",
         "x": [
          0,
          3,
          6,
          9,
          12,
          15,
          18,
          21
         ],
         "y": [
          -1.5,
          -1.3333714285714284,
          -5.268474176083792,
          -3.5641903840304328,
          -2.054674561641023,
          -0.7493876509068621,
          0.323178837398274,
          0.3737568956788496
         ]
        }
       ],
       "layout": {
        "template": {
         "data": {
          "bar": [
           {
            "error_x": {
             "color": "#2a3f5f"
            },
            "error_y": {
             "color": "#2a3f5f"
            },
            "marker": {
             "line": {
              "color": "#E5ECF6",
              "width": 0.5
             },
             "pattern": {
              "fillmode": "overlay",
              "size": 10,
              "solidity": 0.2
             }
            },
            "type": "bar"
           }
          ],
          "barpolar": [
           {
            "marker": {
             "line": {
              "color": "#E5ECF6",
              "width": 0.5
             },
             "pattern": {
              "fillmode": "overlay",
              "size": 10,
              "solidity": 0.2
             }
            },
            "type": "barpolar"
           }
          ],
          "carpet": [
           {
            "aaxis": {
             "endlinecolor": "#2a3f5f",
             "gridcolor": "white",
             "linecolor": "white",
             "minorgridcolor": "white",
             "startlinecolor": "#2a3f5f"
            },
            "baxis": {
             "endlinecolor": "#2a3f5f",
             "gridcolor": "white",
             "linecolor": "white",
             "minorgridcolor": "white",
             "startlinecolor": "#2a3f5f"
            },
            "type": "carpet"
           }
          ],
          "choropleth": [
           {
            "colorbar": {
             "outlinewidth": 0,
             "ticks": ""
            },
            "type": "choropleth"
           }
          ],
          "contour": [
           {
            "colorbar": {
             "outlinewidth": 0,
             "ticks": ""
            },
            "colorscale": [
             [
              0,
              "#0d0887"
             ],
             [
              0.1111111111111111,
              "#46039f"
             ],
             [
              0.2222222222222222,
              "#7201a8"
             ],
             [
              0.3333333333333333,
              "#9c179e"
             ],
             [
              0.4444444444444444,
              "#bd3786"
             ],
             [
              0.5555555555555556,
              "#d8576b"
             ],
             [
              0.6666666666666666,
              "#ed7953"
             ],
             [
              0.7777777777777778,
              "#fb9f3a"
             ],
             [
              0.8888888888888888,
              "#fdca26"
             ],
             [
              1,
              "#f0f921"
             ]
            ],
            "type": "contour"
           }
          ],
          "contourcarpet": [
           {
            "colorbar": {
             "outlinewidth": 0,
             "ticks": ""
            },
            "type": "contourcarpet"
           }
          ],
          "heatmap": [
           {
            "colorbar": {
             "outlinewidth": 0,
             "ticks": ""
            },
            "colorscale": [
             [
              0,
              "#0d0887"
             ],
             [
              0.1111111111111111,
              "#46039f"
             ],
             [
              0.2222222222222222,
              "#7201a8"
             ],
             [
              0.3333333333333333,
              "#9c179e"
             ],
             [
              0.4444444444444444,
              "#bd3786"
             ],
             [
              0.5555555555555556,
              "#d8576b"
             ],
             [
              0.6666666666666666,
              "#ed7953"
             ],
             [
              0.7777777777777778,
              "#fb9f3a"
             ],
             [
              0.8888888888888888,
              "#fdca26"
             ],
             [
              1,
              "#f0f921"
             ]
            ],
            "type": "heatmap"
           }
          ],
          "heatmapgl": [
           {
            "colorbar": {
             "outlinewidth": 0,
             "ticks": ""
            },
            "colorscale": [
             [
              0,
              "#0d0887"
             ],
             [
              0.1111111111111111,
              "#46039f"
             ],
             [
              0.2222222222222222,
              "#7201a8"
             ],
             [
              0.3333333333333333,
              "#9c179e"
             ],
             [
              0.4444444444444444,
              "#bd3786"
             ],
             [
              0.5555555555555556,
              "#d8576b"
             ],
             [
              0.6666666666666666,
              "#ed7953"
             ],
             [
              0.7777777777777778,
              "#fb9f3a"
             ],
             [
              0.8888888888888888,
              "#fdca26"
             ],
             [
              1,
              "#f0f921"
             ]
            ],
            "type": "heatmapgl"
           }
          ],
          "histogram": [
           {
            "marker": {
             "pattern": {
              "fillmode": "overlay",
              "size": 10,
              "solidity": 0.2
             }
            },
            "type": "histogram"
           }
          ],
          "histogram2d": [
           {
            "colorbar": {
             "outlinewidth": 0,
             "ticks": ""
            },
            "colorscale": [
             [
              0,
              "#0d0887"
             ],
             [
              0.1111111111111111,
              "#46039f"
             ],
             [
              0.2222222222222222,
              "#7201a8"
             ],
             [
              0.3333333333333333,
              "#9c179e"
             ],
             [
              0.4444444444444444,
              "#bd3786"
             ],
             [
              0.5555555555555556,
              "#d8576b"
             ],
             [
              0.6666666666666666,
              "#ed7953"
             ],
             [
              0.7777777777777778,
              "#fb9f3a"
             ],
             [
              0.8888888888888888,
              "#fdca26"
             ],
             [
              1,
              "#f0f921"
             ]
            ],
            "type": "histogram2d"
           }
          ],
          "histogram2dcontour": [
           {
            "colorbar": {
             "outlinewidth": 0,
             "ticks": ""
            },
            "colorscale": [
             [
              0,
              "#0d0887"
             ],
             [
              0.1111111111111111,
              "#46039f"
             ],
             [
              0.2222222222222222,
              "#7201a8"
             ],
             [
              0.3333333333333333,
              "#9c179e"
             ],
             [
              0.4444444444444444,
              "#bd3786"
             ],
             [
              0.5555555555555556,
              "#d8576b"
             ],
             [
              0.6666666666666666,
              "#ed7953"
             ],
             [
              0.7777777777777778,
              "#fb9f3a"
             ],
             [
              0.8888888888888888,
              "#fdca26"
             ],
             [
              1,
              "#f0f921"
             ]
            ],
            "type": "histogram2dcontour"
           }
          ],
          "mesh3d": [
           {
            "colorbar": {
             "outlinewidth": 0,
             "ticks": ""
            },
            "type": "mesh3d"
           }
          ],
          "parcoords": [
           {
            "line": {
             "colorbar": {
              "outlinewidth": 0,
              "ticks": ""
             }
            },
            "type": "parcoords"
           }
          ],
          "pie": [
           {
            "automargin": true,
            "type": "pie"
           }
          ],
          "scatter": [
           {
            "fillpattern": {
             "fillmode": "overlay",
             "size": 10,
             "solidity": 0.2
            },
            "type": "scatter"
           }
          ],
          "scatter3d": [
           {
            "line": {
             "colorbar": {
              "outlinewidth": 0,
              "ticks": ""
             }
            },
            "marker": {
             "colorbar": {
              "outlinewidth": 0,
              "ticks": ""
             }
            },
            "type": "scatter3d"
           }
          ],
          "scattercarpet": [
           {
            "marker": {
             "colorbar": {
              "outlinewidth": 0,
              "ticks": ""
             }
            },
            "type": "scattercarpet"
           }
          ],
          "scattergeo": [
           {
            "marker": {
             "colorbar": {
              "outlinewidth": 0,
              "ticks": ""
             }
            },
            "type": "scattergeo"
           }
          ],
          "scattergl": [
           {
            "marker": {
             "colorbar": {
              "outlinewidth": 0,
              "ticks": ""
             }
            },
            "type": "scattergl"
           }
          ],
          "scattermapbox": [
           {
            "marker": {
             "colorbar": {
              "outlinewidth": 0,
              "ticks": ""
             }
            },
            "type": "scattermapbox"
           }
          ],
          "scatterpolar": [
           {
            "marker": {
             "colorbar": {
              "outlinewidth": 0,
              "ticks": ""
             }
            },
            "type": "scatterpolar"
           }
          ],
          "scatterpolargl": [
           {
            "marker": {
             "colorbar": {
              "outlinewidth": 0,
              "ticks": ""
             }
            },
            "type": "scatterpolargl"
           }
          ],
          "scatterternary": [
           {
            "marker": {
             "colorbar": {
              "outlinewidth": 0,
              "ticks": ""
             }
            },
            "type": "scatterternary"
           }
          ],
          "surface": [
           {
            "colorbar": {
             "outlinewidth": 0,
             "ticks": ""
            },
            "colorscale": [
             [
              0,
              "#0d0887"
             ],
             [
              0.1111111111111111,
              "#46039f"
             ],
             [
              0.2222222222222222,
              "#7201a8"
             ],
             [
              0.3333333333333333,
              "#9c179e"
             ],
             [
              0.4444444444444444,
              "#bd3786"
             ],
             [
              0.5555555555555556,
              "#d8576b"
             ],
             [
              0.6666666666666666,
              "#ed7953"
             ],
             [
              0.7777777777777778,
              "#fb9f3a"
             ],
             [
              0.8888888888888888,
              "#fdca26"
             ],
             [
              1,
              "#f0f921"
             ]
            ],
            "type": "surface"
           }
          ],
          "table": [
           {
            "cells": {
             "fill": {
              "color": "#EBF0F8"
             },
             "line": {
              "color": "white"
             }
            },
            "header": {
             "fill": {
              "color": "#C8D4E3"
             },
             "line": {
              "color": "white"
             }
            },
            "type": "table"
           }
          ]
         },
         "layout": {
          "annotationdefaults": {
           "arrowcolor": "#2a3f5f",
           "arrowhead": 0,
           "arrowwidth": 1
          },
          "autotypenumbers": "strict",
          "coloraxis": {
           "colorbar": {
            "outlinewidth": 0,
            "ticks": ""
           }
          },
          "colorscale": {
           "diverging": [
            [
             0,
             "#8e0152"
            ],
            [
             0.1,
             "#c51b7d"
            ],
            [
             0.2,
             "#de77ae"
            ],
            [
             0.3,
             "#f1b6da"
            ],
            [
             0.4,
             "#fde0ef"
            ],
            [
             0.5,
             "#f7f7f7"
            ],
            [
             0.6,
             "#e6f5d0"
            ],
            [
             0.7,
             "#b8e186"
            ],
            [
             0.8,
             "#7fbc41"
            ],
            [
             0.9,
             "#4d9221"
            ],
            [
             1,
             "#276419"
            ]
           ],
           "sequential": [
            [
             0,
             "#0d0887"
            ],
            [
             0.1111111111111111,
             "#46039f"
            ],
            [
             0.2222222222222222,
             "#7201a8"
            ],
            [
             0.3333333333333333,
             "#9c179e"
            ],
            [
             0.4444444444444444,
             "#bd3786"
            ],
            [
             0.5555555555555556,
             "#d8576b"
            ],
            [
             0.6666666666666666,
             "#ed7953"
            ],
            [
             0.7777777777777778,
             "#fb9f3a"
            ],
            [
             0.8888888888888888,
             "#fdca26"
            ],
            [
             1,
             "#f0f921"
            ]
           ],
           "sequentialminus": [
            [
             0,
             "#0d0887"
            ],
            [
             0.1111111111111111,
             "#46039f"
            ],
            [
             0.2222222222222222,
             "#7201a8"
            ],
            [
             0.3333333333333333,
             "#9c179e"
            ],
            [
             0.4444444444444444,
             "#bd3786"
            ],
            [
             0.5555555555555556,
             "#d8576b"
            ],
            [
             0.6666666666666666,
             "#ed7953"
            ],
            [
             0.7777777777777778,
             "#fb9f3a"
            ],
            [
             0.8888888888888888,
             "#fdca26"
            ],
            [
             1,
             "#f0f921"
            ]
           ]
          },
          "colorway": [
           "#636efa",
           "#EF553B",
           "#00cc96",
           "#ab63fa",
           "#FFA15A",
           "#19d3f3",
           "#FF6692",
           "#B6E880",
           "#FF97FF",
           "#FECB52"
          ],
          "font": {
           "color": "#2a3f5f"
          },
          "geo": {
           "bgcolor": "white",
           "lakecolor": "white",
           "landcolor": "#E5ECF6",
           "showlakes": true,
           "showland": true,
           "subunitcolor": "white"
          },
          "hoverlabel": {
           "align": "left"
          },
          "hovermode": "closest",
          "mapbox": {
           "style": "light"
          },
          "paper_bgcolor": "white",
          "plot_bgcolor": "#E5ECF6",
          "polar": {
           "angularaxis": {
            "gridcolor": "white",
            "linecolor": "white",
            "ticks": ""
           },
           "bgcolor": "#E5ECF6",
           "radialaxis": {
            "gridcolor": "white",
            "linecolor": "white",
            "ticks": ""
           }
          },
          "scene": {
           "xaxis": {
            "backgroundcolor": "#E5ECF6",
            "gridcolor": "white",
            "gridwidth": 2,
            "linecolor": "white",
            "showbackground": true,
            "ticks": "",
            "zerolinecolor": "white"
           },
           "yaxis": {
            "backgroundcolor": "#E5ECF6",
            "gridcolor": "white",
            "gridwidth": 2,
            "linecolor": "white",
            "showbackground": true,
            "ticks": "",
            "zerolinecolor": "white"
           },
           "zaxis": {
            "backgroundcolor": "#E5ECF6",
            "gridcolor": "white",
            "gridwidth": 2,
            "linecolor": "white",
            "showbackground": true,
            "ticks": "",
            "zerolinecolor": "white"
           }
          },
          "shapedefaults": {
           "line": {
            "color": "#2a3f5f"
           }
          },
          "ternary": {
           "aaxis": {
            "gridcolor": "white",
            "linecolor": "white",
            "ticks": ""
           },
           "baxis": {
            "gridcolor": "white",
            "linecolor": "white",
            "ticks": ""
           },
           "bgcolor": "#E5ECF6",
           "caxis": {
            "gridcolor": "white",
            "linecolor": "white",
            "ticks": ""
           }
          },
          "title": {
           "x": 0.05
          },
          "xaxis": {
           "automargin": true,
           "gridcolor": "white",
           "linecolor": "white",
           "ticks": "",
           "title": {
            "standoff": 15
           },
           "zerolinecolor": "white",
           "zerolinewidth": 2
          },
          "yaxis": {
           "automargin": true,
           "gridcolor": "white",
           "linecolor": "white",
           "ticks": "",
           "title": {
            "standoff": 15
           },
           "zerolinecolor": "white",
           "zerolinewidth": 2
          }
         }
        },
        "title": {
         "text": "Reward and its components"
        },
        "xaxis": {
         "title": {
          "text": "Time step"
         }
        },
        "yaxis": {
         "title": {
          "text": "Score"
         }
        }
       }
      }
     },
     "metadata": {},
     "output_type": "display_data"
    }
   ],
   "source": [
    "env_ref.reset()\n",
    "df_0 = rocket_simulation(env_ref, acceleration_y_constraint = 10, speed_y_limit = 5, timestep = 0)\n",
    "plot_reward_rocket_monoagent(env_ref)"
   ]
  },
  {
   "cell_type": "markdown",
   "id": "b1181503",
   "metadata": {},
   "source": [
    "As we can see, when the rocket's speed is out of the desired range, the speed reward is negatively impacted, and its influence becomes stronger—even as the rocket gets closer to the ground.\n",
    "Only when the rocket's speed returns to within the acceptable range does the speed penalty drop back to zero."
   ]
  },
  {
   "cell_type": "markdown",
   "id": "e5bc9cc0",
   "metadata": {},
   "source": [
    "## <span style=\"color:orange\">Reinforcemet learning</span>\n",
    "\n",
    "\n",
    "After load our environment, next step is to create QLearningTrainer objet. It will apply Qlearning algorithm. For each states, the algorithm will apply a score base to the next iteration.\n",
    "\n",
    "The Bellman equation is the value function use in reinforcement learning. \n",
    "\n",
    "$V(s,a) = V(s, a)+ \\alpha * (R+\\gamma * max(V(s', a')) - V(s, a))$\n",
    "\n",
    "Where:\n",
    "\n",
    "* $V(s, a)$ is the estimated value of state $s$ and actions $a$\n",
    "* $s$ is the curent state\n",
    "* $s'$ is the next state\n",
    "* $a$ is action taken\n",
    "* $a'$ next possible actions that maximize reward\n",
    "* $R$ is the immediate reward received after transitioning\n",
    "* $\\gamma$ is the discount factor, which determines the importance of future rewards.\n",
    "* $\\alpha$ is the learning rate."
   ]
  },
  {
   "cell_type": "code",
   "execution_count": 6,
   "id": "f5c07191",
   "metadata": {},
   "outputs": [
    {
     "name": "stdout",
     "output_type": "stream",
     "text": [
      "check order names for states_variables\n",
      "\n",
      "Check order names for agent_variables\n",
      "\n",
      "check limit number of field\n",
      "\n",
      "Check limit boundaries for initial state\n",
      "\n",
      "Solve equations present in equations_variables field\n",
      "\n",
      "Solve equations present in equations_rewards field\n",
      "\n",
      "Everything is good :)\n"
     ]
    }
   ],
   "source": [
    "# Load RL object\n",
    "env = Environment(JOSN_file, check_model = True)\n",
    "RL = QLearningTrainer(env, \n",
    "                      num_episodes = 1000, \n",
    "                      convergence_criterion = 0.5, \n",
    "                      decay_type = \"exponential\",\n",
    "                      decrease_prob_exp = 0.015)"
   ]
  },
  {
   "cell_type": "markdown",
   "id": "d0d31355",
   "metadata": {},
   "source": [
    "Different parameters are avaible. For the tutorial, you use default parameters. Before to lunch training. Lets discus about the input parameters."
   ]
  },
  {
   "cell_type": "markdown",
   "id": "fd6c9872",
   "metadata": {},
   "source": [
    "### <span style=\"color:orange\">Learning rate</span>\n",
    "\n",
    "\n",
    "The learning rate $\\alpha$ in the Bellman equation controls the weight given to the new estimate compared to the existing estimate of the state value. A smaller learning rate means that the new estimate has less influence, and the agent is more conservative in updating its value function. A larger learning rate allows the agent to adjust its estimates more rapidly based on new information\n",
    "\n",
    "### <span style=\"color:orange\">Discount factor (gamma)</span>\n",
    "\n",
    "The discount factor $\\gamma$, is a key hyperparameter that controls how much the agent values future rewards compared to immediate rewards. For rocket landing, $\\gamma$ equal to 0.99, since we are optimizing over multiple steps to reach a safe landing.\n",
    "\n",
    "### <span style=\"color:orange\">Epsilon parameter</span>\n",
    "\n",
    "Exploration-exploitation is a fundamental trade-off in reinforcement learning, where the agent needs to balance between exploring new actions and exploiting the knowledge it has gained so far.\n",
    "\n",
    "The epsilon-greedy policy is a simple strategy that the agent uses to decide whether to explore a new action (random exploration) or exploit the current best-known action. It helps prevent the agent from getting stuck in suboptimal policies by occasionally trying new actions. The value of epsilon determines the probabilty the agent chooses a random action. A higher epsilon encourages more exploration, while a lower epsilon emphasizes exploitation of the current best-known actions.ent knowledge.\n",
    "\n",
    "The epsilon parameter is decayed over time during training. This means that, as the agent gains more experience, it tends to rely more on exploitation and less on exploration. The idea is that, as the agent learns and becomes more confident in its estimates, it gradually reduces the rate of exploration. \n",
    "\n",
    "Epsilon initailization is made with the argument **exploration_prob**. It is a list with the lowest and the highest probability values. The probability will decrease with a rate given by the argument **decrease_prob_exp**. By default epsilon is modeled with a linear decay but you can change it to a exponential decay.\n"
   ]
  },
  {
   "cell_type": "code",
   "execution_count": 7,
   "id": "2b309bce",
   "metadata": {},
   "outputs": [
    {
     "data": {
      "image/png": "[encoded data removed]",
      "text/plain": [
       "<Figure size 640x480 with 1 Axes>"
      ]
     },
     "metadata": {},
     "output_type": "display_data"
    }
   ],
   "source": [
    "plt.plot(RL.get_epsilon(decay_type = 'linear')[0:400], label = \"linear decay\")\n",
    "plt.plot(RL.get_epsilon(decay_type = 'exponential')[0:400], label = \"exponential decay\")\n",
    "plt.title(\"Probability to choose a random action\")\n",
    "plt.legend()\n",
    "plt.xlabel(\"# episode\")\n",
    "plt.ylabel(\"Epsilon value\")\n",
    "plt.show()"
   ]
  },
  {
   "cell_type": "markdown",
   "id": "db8234ff",
   "metadata": {},
   "source": [
    "### <span style=\"color:orange\">num_episodes, run_limit and convergence_criterion</span>\n",
    "\n",
    "The last three options are hyperparameters that impact computation time:\n",
    "* ``num_episodes``: The maximum number of training episodes.\n",
    "* ``run_limit``: The maximum number of iterations allowed within a single episode before it is forcefully stopped.\n",
    "* ``convergence_criterion``: The threshold used to determine convergence, based on the difference in Q-values between two iterations.\n"
   ]
  },
  {
   "cell_type": "markdown",
   "id": "7b46904f",
   "metadata": {},
   "source": [
    "Before launching the training, it's important to understand that the Q-learning algorithm operates in a discretized space.\n",
    "The spacing between bins can significantly impact convergence. If a discretized bin groups together too many different underlying states, the Q-table may become unstable, making it difficult for the algorithm to converge.\n",
    "\n",
    "Let's examine how our space is discretized using ``RL.env.json[\"limit\"]``.\n",
    "The agent variable (booster) has 3 bins, while the state variables \"pos_y\", \"acceleration_y\", \"speed_y\", and \"weight_rocket\" have 41, 31, 21, and 62 bins, respectively.\n",
    "\n",
    "This results in a Q-table with:\n",
    "Our Q table is composed of $$ 3 * 41 *31 *21 *62 = 4 964 526\\  states $$"
   ]
  },
  {
   "cell_type": "markdown",
   "id": "ba1e25d2",
   "metadata": {},
   "source": [
    "### <span style=\"color:orange\">Training</span>\n",
    "\n",
    "Training with our parameters should take between 8 and 10 minutes. You can also load a pre-trained RL object. If you want to generate the model from scratch, start training with the command: ``RL.q_learning()``"
   ]
  },
  {
   "cell_type": "code",
   "execution_count": null,
   "id": "db459391",
   "metadata": {},
   "outputs": [
    {
     "name": "stdout",
     "output_type": "stream",
     "text": [
      "Episode 1/1000\n",
      "exploration_prob : 1.000\n",
      "No action possible. Stop episode at 5th iterations\n",
      "Save last state even is out of bound\n",
      "Q table still growths\n",
      "Loss : -36.53334005497332\n",
      "end while loop iteration :  5\n",
      "Episode 2/1000\n",
      "exploration_prob : 0.985\n",
      "No action possible. Stop episode at 6th iterations\n",
      "Save last state even is out of bound\n",
      "Q table still growths\n",
      "Loss : -52.8156772572744\n",
      "end while loop iteration :  6\n",
      "Episode 3/1000\n",
      "exploration_prob : 0.970\n",
      "No action possible. Stop episode at 2th iterations\n",
      "Save last state even is out of bound\n",
      "Q table still growths\n",
      "Loss : -15.145059027596101\n",
      "end while loop iteration :  2\n",
      "Episode 4/1000\n",
      "exploration_prob : 0.956\n",
      "No action possible. Stop episode at 2th iterations\n",
      "Save last state even is out of bound\n",
      "diff Qtable_N - Qtable_N-1  0.7551434953921445\n",
      "Loss : -15.145059027596101\n",
      "end while loop iteration :  2\n",
      "Episode 5/1000\n",
      "exploration_prob : 0.942\n",
      "No action possible. Stop episode at 12th iterations\n",
      "Save last state even is out of bound\n",
      "Q table still growths\n",
      "Loss : -177.115592029637\n",
      "end while loop iteration :  12\n",
      "Episode 6/1000\n",
      "exploration_prob : 0.928\n",
      "No action possible. Stop episode at 3th iterations\n",
      "Save last state even is out of bound\n",
      "Q table still growths\n",
      "Loss : -14.29134639316939\n",
      "end while loop iteration :  3\n",
      "Episode 7/1000\n",
      "exploration_prob : 0.914\n",
      "No action possible. Stop episode at 2th iterations\n",
      "Save last state even is out of bound\n",
      "Q table still growths\n",
      "Loss : -33.561087450218324\n",
      "end while loop iteration :  2\n",
      "Episode 8/1000\n",
      "exploration_prob : 0.900\n",
      "No action possible. Stop episode at 2th iterations\n",
      "Save last state even is out of bound\n",
      "Q table still growths\n",
      "Loss : -10.749946442630739\n",
      "end while loop iteration :  2\n",
      "Episode 9/1000\n",
      "exploration_prob : 0.887\n",
      "No action possible. Stop episode at 7th iterations\n",
      "Save last state even is out of bound\n",
      "Q table still growths\n",
      "Loss : -21.03329871628502\n",
      "end while loop iteration :  7\n",
      "Episode 10/1000\n",
      "exploration_prob : 0.874\n",
      "No action possible. Stop episode at 20th iterations\n",
      "Save last state even is out of bound\n",
      "Q table still growths\n",
      "Loss : -683.2943352471711\n",
      "end while loop iteration :  20\n",
      "Episode 11/1000\n",
      "exploration_prob : 0.861\n",
      "No action possible. Stop episode at 2th iterations\n",
      "Save last state even is out of bound\n",
      "diff Qtable_N - Qtable_N-1  0.3303990893462469\n",
      "Loss : -10.749946442630739\n",
      "end while loop iteration :  2\n",
      "Episode 12/1000\n",
      "exploration_prob : 0.848\n",
      "No action possible. Stop episode at 7th iterations\n",
      "Save last state even is out of bound\n",
      "Q table still growths\n",
      "Loss : -27.577835802500765\n",
      "end while loop iteration :  7\n",
      "Episode 13/1000\n",
      "exploration_prob : 0.835\n",
      "No action possible. Stop episode at 4th iterations\n",
      "Save last state even is out of bound\n",
      "Q table still growths\n",
      "Loss : -57.16609388236495\n",
      "end while loop iteration :  4\n",
      "Episode 14/1000\n",
      "exploration_prob : 0.823\n",
      "stop episode because agent reach goal\n",
      "stop episode because agent reach goal\n",
      "Q table still growths\n",
      "Loss : -21.594509275492747\n",
      "end while loop iteration :  13\n",
      "Episode 15/1000\n",
      "exploration_prob : 0.811\n",
      "No action possible. Stop episode at 6th iterations\n",
      "Save last state even is out of bound\n",
      "Q table still growths\n",
      "Loss : -29.289195059938095\n",
      "end while loop iteration :  6\n",
      "Episode 16/1000\n",
      "exploration_prob : 0.799\n",
      "No action possible. Stop episode at 3th iterations\n",
      "Save last state even is out of bound\n",
      "Q table still growths\n",
      "Loss : -47.19157243348105\n",
      "end while loop iteration :  3\n",
      "Episode 17/1000\n",
      "exploration_prob : 0.787\n",
      "No action possible. Stop episode at 4th iterations\n",
      "Save last state even is out of bound\n",
      "Q table still growths\n",
      "Loss : -236.67154254011677\n",
      "end while loop iteration :  4\n",
      "Episode 18/1000\n",
      "exploration_prob : 0.775\n",
      "No action possible. Stop episode at 10th iterations\n",
      "Save last state even is out of bound\n",
      "Q table still growths\n",
      "Loss : -151.5941112920552\n",
      "end while loop iteration :  10\n",
      "Episode 19/1000\n",
      "exploration_prob : 0.763\n",
      "No action possible. Stop episode at 15th iterations\n",
      "Save last state even is out of bound\n",
      "Q table still growths\n",
      "Loss : -107.62199283954621\n",
      "end while loop iteration :  15\n",
      "Episode 20/1000\n",
      "exploration_prob : 0.752\n",
      "No action possible. Stop episode at 3th iterations\n",
      "Save last state even is out of bound\n",
      "Q table still growths\n",
      "Loss : -21.879467918469693\n",
      "end while loop iteration :  3\n",
      "Episode 21/1000\n",
      "exploration_prob : 0.741\n",
      "No action possible. Stop episode at 14th iterations\n",
      "Save last state even is out of bound\n",
      "Q table still growths\n",
      "Loss : -508.2964466097321\n",
      "end while loop iteration :  14\n",
      "Episode 22/1000\n",
      "exploration_prob : 0.730\n",
      "No action possible. Stop episode at 11th iterations\n",
      "Save last state even is out of bound\n",
      "Q table still growths\n",
      "Loss : -532.3235140233074\n",
      "end while loop iteration :  11\n",
      "Episode 23/1000\n",
      "exploration_prob : 0.719\n",
      "No action possible. Stop episode at 7th iterations\n",
      "Save last state even is out of bound\n",
      "Q table still growths\n",
      "Loss : -23.28082496171991\n",
      "end while loop iteration :  7\n",
      "Episode 24/1000\n",
      "exploration_prob : 0.708\n",
      "No action possible. Stop episode at 8th iterations\n",
      "Save last state even is out of bound\n",
      "Q table still growths\n",
      "Loss : -91.26844891124543\n",
      "end while loop iteration :  8\n",
      "Episode 25/1000\n",
      "exploration_prob : 0.698\n",
      "No action possible. Stop episode at 24th iterations\n",
      "Save last state even is out of bound\n",
      "Q table still growths\n",
      "Loss : -709.2717915658503\n",
      "end while loop iteration :  24\n",
      "Episode 26/1000\n",
      "exploration_prob : 0.687\n",
      "No action possible. Stop episode at 6th iterations\n",
      "Save last state even is out of bound\n",
      "Q table still growths\n",
      "Loss : -18.882405162797916\n",
      "end while loop iteration :  6\n",
      "Episode 27/1000\n",
      "exploration_prob : 0.677\n",
      "No action possible. Stop episode at 7th iterations\n",
      "Save last state even is out of bound\n",
      "Q table still growths\n",
      "Loss : -56.9124769310027\n",
      "end while loop iteration :  7\n",
      "Episode 28/1000\n",
      "exploration_prob : 0.667\n",
      "stop episode because agent reach goal\n",
      "stop episode because agent reach goal\n",
      "Q table still growths\n",
      "Loss : -25.06878074023834\n",
      "end while loop iteration :  11\n",
      "Episode 29/1000\n",
      "exploration_prob : 0.657\n",
      "stop episode because agent reach goal\n",
      "stop episode because agent reach goal\n",
      "Q table still growths\n",
      "Loss : -49.573842369079195\n",
      "end while loop iteration :  26\n",
      "Episode 30/1000\n",
      "exploration_prob : 0.647\n",
      "No action possible. Stop episode at 7th iterations\n",
      "Save last state even is out of bound\n",
      "Q table still growths\n",
      "Loss : -47.00058204359706\n",
      "end while loop iteration :  7\n",
      "Episode 31/1000\n",
      "exploration_prob : 0.638\n",
      "No action possible. Stop episode at 45th iterations\n",
      "Save last state even is out of bound\n",
      "stop episode because agent reach goal\n",
      "Q table still growths\n",
      "Loss : -153.8437297676676\n",
      "end while loop iteration :  45\n",
      "Episode 32/1000\n",
      "exploration_prob : 0.628\n",
      "No action possible. Stop episode at 5th iterations\n",
      "Save last state even is out of bound\n",
      "Q table still growths\n",
      "Loss : -85.80298817864178\n",
      "end while loop iteration :  5\n",
      "Episode 33/1000\n",
      "exploration_prob : 0.619\n",
      "No action possible. Stop episode at 8th iterations\n",
      "Save last state even is out of bound\n",
      "Q table still growths\n",
      "Loss : -73.39605243975859\n",
      "end while loop iteration :  8\n",
      "Episode 34/1000\n",
      "exploration_prob : 0.610\n",
      "No action possible. Stop episode at 4th iterations\n",
      "Save last state even is out of bound\n",
      "Q table still growths\n",
      "Loss : -21.114867405202602\n",
      "end while loop iteration :  4\n",
      "Episode 35/1000\n",
      "exploration_prob : 0.600\n",
      "No action possible. Stop episode at 6th iterations\n",
      "Save last state even is out of bound\n",
      "diff Qtable_N - Qtable_N-1  0.7636973976581009\n",
      "Loss : -28.912979160492775\n",
      "end while loop iteration :  6\n",
      "Episode 36/1000\n",
      "exploration_prob : 0.592\n",
      "stop episode because agent reach goal\n",
      "stop episode because agent reach goal\n",
      "Q table still growths\n",
      "Loss : -13.929477503046455\n",
      "end while loop iteration :  8\n",
      "Episode 37/1000\n",
      "exploration_prob : 0.583\n",
      "No action possible. Stop episode at 5th iterations\n",
      "Save last state even is out of bound\n",
      "diff Qtable_N - Qtable_N-1  10.90647122023146\n",
      "Loss : -86.51951823328659\n",
      "end while loop iteration :  5\n",
      "Episode 38/1000\n",
      "exploration_prob : 0.574\n",
      "No action possible. Stop episode at 7th iterations\n",
      "Save last state even is out of bound\n",
      "Q table still growths\n",
      "Loss : -39.05020148850169\n",
      "end while loop iteration :  7\n",
      "Episode 39/1000\n",
      "exploration_prob : 0.566\n",
      "No action possible. Stop episode at 11th iterations\n",
      "Save last state even is out of bound\n",
      "Q table still growths\n",
      "Loss : -119.93951231327418\n",
      "end while loop iteration :  11\n",
      "Episode 40/1000\n",
      "exploration_prob : 0.557\n",
      "No action possible. Stop episode at 9th iterations\n",
      "Save last state even is out of bound\n",
      "Q table still growths\n",
      "Loss : -33.70504992468302\n",
      "end while loop iteration :  9\n",
      "Episode 41/1000\n",
      "exploration_prob : 0.549\n",
      "stop episode because agent reach goal\n",
      "No action possible. Stop episode at 21th iterations\n",
      "Save last state even is out of bound\n",
      "Q table still growths\n",
      "Loss : -83.03332527502398\n",
      "end while loop iteration :  21\n",
      "Episode 42/1000\n",
      "exploration_prob : 0.541\n",
      "No action possible. Stop episode at 8th iterations\n",
      "Save last state even is out of bound\n",
      "diff Qtable_N - Qtable_N-1  17.17878337825892\n",
      "Loss : -101.38554107830778\n",
      "end while loop iteration :  8\n",
      "Episode 43/1000\n",
      "exploration_prob : 0.533\n",
      "stop episode because agent reach goal\n",
      "stop episode because agent reach goal\n",
      "Q table still growths\n",
      "Loss : -15.367211249361027\n",
      "end while loop iteration :  18\n",
      "Episode 44/1000\n",
      "exploration_prob : 0.525\n",
      "No action possible. Stop episode at 11th iterations\n",
      "Save last state even is out of bound\n",
      "Q table still growths\n",
      "Loss : -83.83128477432346\n",
      "end while loop iteration :  11\n",
      "Episode 45/1000\n",
      "exploration_prob : 0.517\n",
      "No action possible. Stop episode at 10th iterations\n",
      "Save last state even is out of bound\n",
      "Q table still growths\n",
      "Loss : -43.87991508485048\n",
      "end while loop iteration :  10\n",
      "Episode 46/1000\n",
      "exploration_prob : 0.509\n",
      "stop episode because agent reach goal\n",
      "stop episode because agent reach goal\n",
      "Q table still growths\n",
      "Loss : -33.972201955429966\n",
      "end while loop iteration :  17\n",
      "Episode 47/1000\n",
      "exploration_prob : 0.502\n",
      "No action possible. Stop episode at 8th iterations\n",
      "Save last state even is out of bound\n",
      "diff Qtable_N - Qtable_N-1  2.0136601794931748\n",
      "Loss : -68.61112895350527\n",
      "end while loop iteration :  8\n",
      "Episode 48/1000\n",
      "exploration_prob : 0.494\n",
      "No action possible. Stop episode at 6th iterations\n",
      "Save last state even is out of bound\n",
      "diff Qtable_N - Qtable_N-1  0.37924567275573917\n",
      "Loss : -22.145280367840215\n",
      "end while loop iteration :  6\n",
      "Episode 49/1000\n",
      "exploration_prob : 0.487\n",
      "No action possible. Stop episode at 13th iterations\n",
      "Save last state even is out of bound\n",
      "Q table still growths\n",
      "Loss : -212.2810414086382\n",
      "end while loop iteration :  13\n",
      "Episode 50/1000\n",
      "exploration_prob : 0.480\n",
      "No action possible. Stop episode at 6th iterations\n",
      "Save last state even is out of bound\n",
      "Q table still growths\n",
      "Loss : -61.07090339951053\n",
      "end while loop iteration :  6\n",
      "Episode 51/1000\n",
      "exploration_prob : 0.472\n",
      "No action possible. Stop episode at 9th iterations\n",
      "Save last state even is out of bound\n",
      "diff Qtable_N - Qtable_N-1  2.8084674033021892\n",
      "Loss : -29.04639766634333\n",
      "end while loop iteration :  9\n",
      "Episode 52/1000\n",
      "exploration_prob : 0.465\n",
      "No action possible. Stop episode at 5th iterations\n",
      "Save last state even is out of bound\n",
      "Q table still growths\n",
      "Loss : -96.62564030817452\n",
      "end while loop iteration :  5\n",
      "Episode 53/1000\n",
      "exploration_prob : 0.458\n",
      "No action possible. Stop episode at 5th iterations\n",
      "Save last state even is out of bound\n",
      "diff Qtable_N - Qtable_N-1  0.64090391746679\n",
      "Loss : -30.216654218237338\n",
      "end while loop iteration :  5\n",
      "Episode 54/1000\n",
      "exploration_prob : 0.452\n",
      "No action possible. Stop episode at 14th iterations\n",
      "Save last state even is out of bound\n",
      "Q table still growths\n",
      "Loss : -39.402898672038475\n",
      "end while loop iteration :  14\n",
      "Episode 55/1000\n",
      "exploration_prob : 0.445\n",
      "No action possible. Stop episode at 3th iterations\n",
      "Save last state even is out of bound\n",
      "diff Qtable_N - Qtable_N-1  0.38619221944428095\n",
      "Loss : -15.110865159432858\n",
      "end while loop iteration :  3\n",
      "Episode 56/1000\n",
      "exploration_prob : 0.438\n",
      "stop episode because agent reach goal\n",
      "No action possible. Stop episode at 21th iterations\n",
      "Save last state even is out of bound\n",
      "Q table still growths\n",
      "Loss : -271.76244365409184\n",
      "end while loop iteration :  21\n",
      "Episode 57/1000\n",
      "exploration_prob : 0.432\n",
      "No action possible. Stop episode at 3th iterations\n",
      "Save last state even is out of bound\n",
      "diff Qtable_N - Qtable_N-1  1.2057333644886825\n",
      "Loss : -21.252812308270656\n",
      "end while loop iteration :  3\n",
      "Episode 58/1000\n",
      "exploration_prob : 0.425\n",
      "No action possible. Stop episode at 13th iterations\n",
      "Save last state even is out of bound\n",
      "Q table still growths\n",
      "Loss : -118.79025358990403\n",
      "end while loop iteration :  13\n",
      "Episode 59/1000\n",
      "exploration_prob : 0.419\n",
      "No action possible. Stop episode at 13th iterations\n",
      "Save last state even is out of bound\n",
      "Q table still growths\n",
      "Loss : -40.93409221770235\n",
      "end while loop iteration :  13\n",
      "Episode 60/1000\n",
      "exploration_prob : 0.413\n",
      "No action possible. Stop episode at 3th iterations\n",
      "Save last state even is out of bound\n",
      "diff Qtable_N - Qtable_N-1  1.0600926281916274\n",
      "Loss : -21.879467918469693\n",
      "end while loop iteration :  3\n",
      "Episode 61/1000\n",
      "exploration_prob : 0.407\n",
      "No action possible. Stop episode at 9th iterations\n",
      "Save last state even is out of bound\n",
      "Q table still growths\n",
      "Loss : -84.71315991337741\n",
      "end while loop iteration :  9\n",
      "Episode 62/1000\n",
      "exploration_prob : 0.401\n",
      "No action possible. Stop episode at 7th iterations\n",
      "Save last state even is out of bound\n",
      "diff Qtable_N - Qtable_N-1  1.2702471764760555\n",
      "Loss : -46.74107838079615\n",
      "end while loop iteration :  7\n",
      "Episode 63/1000\n",
      "exploration_prob : 0.395\n",
      "No action possible. Stop episode at 9th iterations\n",
      "Save last state even is out of bound\n",
      "diff Qtable_N - Qtable_N-1  3.163594574284998\n",
      "Loss : -47.362290904275184\n",
      "end while loop iteration :  9\n",
      "Episode 64/1000\n",
      "exploration_prob : 0.389\n",
      "No action possible. Stop episode at 8th iterations\n",
      "Save last state even is out of bound\n",
      "diff Qtable_N - Qtable_N-1  17.164676417219884\n",
      "Loss : -76.03796010408166\n",
      "end while loop iteration :  8\n",
      "Episode 65/1000\n",
      "exploration_prob : 0.383\n",
      "No action possible. Stop episode at 16th iterations\n",
      "Save last state even is out of bound\n",
      "Q table still growths\n",
      "Loss : -75.90623132708717\n",
      "end while loop iteration :  16\n",
      "Episode 66/1000\n",
      "exploration_prob : 0.377\n",
      "No action possible. Stop episode at 23th iterations\n",
      "Save last state even is out of bound\n",
      "Q table still growths\n",
      "Loss : -69.50145904498922\n",
      "end while loop iteration :  23\n",
      "Episode 67/1000\n",
      "exploration_prob : 0.372\n",
      "stop episode because agent reach goal\n",
      "stop episode because agent reach goal\n",
      "stop episode because agent reach goal\n",
      "Q table still growths\n",
      "Loss : -32.22208217414273\n",
      "end while loop iteration :  19\n",
      "Episode 68/1000\n",
      "exploration_prob : 0.366\n",
      "No action possible. Stop episode at 20th iterations\n",
      "Save last state even is out of bound\n",
      "Q table still growths\n",
      "Loss : -86.50665928811213\n",
      "end while loop iteration :  20\n",
      "Episode 69/1000\n",
      "exploration_prob : 0.361\n",
      "No action possible. Stop episode at 10th iterations\n",
      "Save last state even is out of bound\n",
      "Q table still growths\n",
      "Loss : -66.80741885894805\n",
      "end while loop iteration :  10\n",
      "Episode 70/1000\n",
      "exploration_prob : 0.355\n",
      "No action possible. Stop episode at 12th iterations\n",
      "Save last state even is out of bound\n",
      "Q table still growths\n",
      "Loss : -84.41220056607904\n",
      "end while loop iteration :  12\n",
      "Episode 71/1000\n",
      "exploration_prob : 0.350\n",
      "No action possible. Stop episode at 12th iterations\n",
      "Save last state even is out of bound\n",
      "diff Qtable_N - Qtable_N-1  17.29184242282764\n",
      "Loss : -76.7314481318275\n",
      "end while loop iteration :  12\n",
      "Episode 72/1000\n",
      "exploration_prob : 0.345\n",
      "No action possible. Stop episode at 17th iterations\n",
      "Save last state even is out of bound\n",
      "Q table still growths\n",
      "Loss : -121.3028611324205\n",
      "end while loop iteration :  17\n",
      "Episode 73/1000\n",
      "exploration_prob : 0.340\n",
      "No action possible. Stop episode at 15th iterations\n",
      "Save last state even is out of bound\n",
      "Q table still growths\n",
      "Loss : -94.63218699573432\n",
      "end while loop iteration :  15\n",
      "Episode 74/1000\n",
      "exploration_prob : 0.335\n",
      "No action possible. Stop episode at 7th iterations\n",
      "Save last state even is out of bound\n",
      "Q table still growths\n",
      "Loss : -13.936511632666202\n",
      "end while loop iteration :  7\n",
      "Episode 75/1000\n",
      "exploration_prob : 0.330\n",
      "stop episode because agent reach goal\n",
      "stop episode because agent reach goal\n",
      "Q table still growths\n",
      "Loss : -19.561048546341738\n",
      "end while loop iteration :  12\n",
      "Episode 76/1000\n",
      "exploration_prob : 0.325\n",
      "No action possible. Stop episode at 8th iterations\n",
      "Save last state even is out of bound\n",
      "Q table still growths\n",
      "Loss : -48.18699598265067\n",
      "end while loop iteration :  8\n",
      "Episode 77/1000\n",
      "exploration_prob : 0.320\n",
      "No action possible. Stop episode at 4th iterations\n",
      "Save last state even is out of bound\n",
      "diff Qtable_N - Qtable_N-1  0.4554257731088286\n",
      "Loss : -16.781231885734915\n",
      "end while loop iteration :  4\n",
      "Episode 78/1000\n",
      "exploration_prob : 0.315\n",
      "No action possible. Stop episode at 16th iterations\n",
      "Save last state even is out of bound\n",
      "diff Qtable_N - Qtable_N-1  13.527378957814115\n",
      "Loss : -82.33274647752472\n",
      "end while loop iteration :  16\n",
      "Episode 79/1000\n",
      "exploration_prob : 0.310\n",
      "No action possible. Stop episode at 15th iterations\n",
      "Save last state even is out of bound\n",
      "Q table still growths\n",
      "Loss : -125.02992197999201\n",
      "end while loop iteration :  15\n",
      "Episode 80/1000\n",
      "exploration_prob : 0.306\n",
      "No action possible. Stop episode at 3th iterations\n",
      "Save last state even is out of bound\n",
      "diff Qtable_N - Qtable_N-1  4.7013203578746525\n",
      "Loss : -47.297541865750546\n",
      "end while loop iteration :  3\n",
      "Episode 81/1000\n",
      "exploration_prob : 0.301\n",
      "stop episode because agent reach goal\n",
      "stop episode because agent reach goal\n",
      "stop episode because agent reach goal\n",
      "Q table still growths\n",
      "Loss : -17.001033216687624\n",
      "end while loop iteration :  17\n",
      "Episode 82/1000\n",
      "exploration_prob : 0.297\n",
      "No action possible. Stop episode at 13th iterations\n",
      "Save last state even is out of bound\n",
      "diff Qtable_N - Qtable_N-1  11.947604603025264\n",
      "Loss : -124.00110640158636\n",
      "end while loop iteration :  13\n",
      "Episode 83/1000\n",
      "exploration_prob : 0.292\n",
      "No action possible. Stop episode at 7th iterations\n",
      "Save last state even is out of bound\n",
      "diff Qtable_N - Qtable_N-1  0.3984162101070326\n",
      "Loss : -26.260100336345875\n",
      "end while loop iteration :  7\n",
      "Episode 84/1000\n",
      "exploration_prob : 0.288\n",
      "No action possible. Stop episode at 14th iterations\n",
      "Save last state even is out of bound\n",
      "Q table still growths\n",
      "Loss : -128.4947692401953\n",
      "end while loop iteration :  14\n",
      "Episode 85/1000\n",
      "exploration_prob : 0.284\n",
      "No action possible. Stop episode at 10th iterations\n",
      "Save last state even is out of bound\n",
      "Q table still growths\n",
      "Loss : -12.518638275777581\n",
      "end while loop iteration :  10\n",
      "Episode 86/1000\n",
      "exploration_prob : 0.279\n",
      "No action possible. Stop episode at 10th iterations\n",
      "Save last state even is out of bound\n",
      "diff Qtable_N - Qtable_N-1  2.0133104914192543\n",
      "Loss : -26.907899760234315\n",
      "end while loop iteration :  10\n",
      "Episode 87/1000\n",
      "exploration_prob : 0.275\n",
      "No action possible. Stop episode at 6th iterations\n",
      "Save last state even is out of bound\n",
      "diff Qtable_N - Qtable_N-1  0.3738062621935603\n",
      "Loss : -19.627444742397465\n",
      "end while loop iteration :  6\n",
      "Episode 88/1000\n",
      "exploration_prob : 0.271\n",
      "No action possible. Stop episode at 5th iterations\n",
      "Save last state even is out of bound\n",
      "Q table still growths\n",
      "Loss : -67.03082371002445\n",
      "end while loop iteration :  5\n",
      "Episode 89/1000\n",
      "exploration_prob : 0.267\n",
      "No action possible. Stop episode at 5th iterations\n",
      "Save last state even is out of bound\n",
      "diff Qtable_N - Qtable_N-1  0.6256812040021646\n",
      "Loss : -23.35583200600049\n",
      "end while loop iteration :  5\n",
      "Episode 90/1000\n",
      "exploration_prob : 0.263\n",
      "stop episode because agent reach goal\n",
      "stop episode because agent reach goal\n",
      "No action possible. Stop episode at 33th iterations\n",
      "Save last state even is out of bound\n",
      "Q table still growths\n",
      "Loss : -130.66754121627832\n",
      "end while loop iteration :  33\n",
      "Episode 91/1000\n",
      "exploration_prob : 0.259\n",
      "No action possible. Stop episode at 14th iterations\n",
      "Save last state even is out of bound\n",
      "Q table still growths\n",
      "Loss : -153.75362775020875\n",
      "end while loop iteration :  14\n",
      "Episode 92/1000\n",
      "exploration_prob : 0.255\n",
      "No action possible. Stop episode at 16th iterations\n",
      "Save last state even is out of bound\n",
      "Q table still growths\n",
      "Loss : -127.89673205657714\n",
      "end while loop iteration :  16\n",
      "Episode 93/1000\n",
      "exploration_prob : 0.252\n",
      "No action possible. Stop episode at 4th iterations\n",
      "Save last state even is out of bound\n",
      "Q table still growths\n",
      "Loss : -30.702572031528746\n",
      "end while loop iteration :  4\n",
      "Episode 94/1000\n",
      "exploration_prob : 0.248\n",
      "No action possible. Stop episode at 8th iterations\n",
      "Save last state even is out of bound\n",
      "Q table still growths\n",
      "Loss : -50.8213016233711\n",
      "end while loop iteration :  8\n",
      "Episode 95/1000\n",
      "exploration_prob : 0.244\n",
      "No action possible. Stop episode at 8th iterations\n",
      "Save last state even is out of bound\n",
      "diff Qtable_N - Qtable_N-1  0.4951564677019635\n",
      "Loss : -47.359332126889576\n",
      "end while loop iteration :  8\n",
      "Episode 96/1000\n",
      "exploration_prob : 0.241\n",
      "No action possible. Stop episode at 16th iterations\n",
      "Save last state even is out of bound\n",
      "Q table still growths\n",
      "Loss : -61.490161205423504\n",
      "end while loop iteration :  16\n",
      "Episode 97/1000\n",
      "exploration_prob : 0.237\n",
      "No action possible. Stop episode at 7th iterations\n",
      "Save last state even is out of bound\n",
      "Q table still growths\n",
      "Loss : -97.7891288661146\n",
      "end while loop iteration :  7\n",
      "Episode 98/1000\n",
      "exploration_prob : 0.233\n",
      "No action possible. Stop episode at 8th iterations\n",
      "Save last state even is out of bound\n",
      "Q table still growths\n",
      "Loss : -36.94596117642706\n",
      "end while loop iteration :  8\n",
      "Episode 99/1000\n",
      "exploration_prob : 0.230\n",
      "No action possible. Stop episode at 7th iterations\n",
      "Save last state even is out of bound\n",
      "Q table still growths\n",
      "Loss : -35.29021918117022\n",
      "end while loop iteration :  7\n",
      "Episode 100/1000\n",
      "exploration_prob : 0.227\n",
      "No action possible. Stop episode at 11th iterations\n",
      "Save last state even is out of bound\n",
      "diff Qtable_N - Qtable_N-1  6.525127253822948\n",
      "Loss : -40.888390787855755\n",
      "end while loop iteration :  11\n",
      "Episode 101/1000\n",
      "exploration_prob : 0.223\n",
      "No action possible. Stop episode at 15th iterations\n",
      "Save last state even is out of bound\n",
      "Q table still growths\n",
      "Loss : -38.74117377048638\n",
      "end while loop iteration :  15\n",
      "Episode 102/1000\n",
      "exploration_prob : 0.220\n",
      "No action possible. Stop episode at 9th iterations\n",
      "Save last state even is out of bound\n",
      "Q table still growths\n",
      "Loss : -19.92349519674204\n",
      "end while loop iteration :  9\n",
      "Episode 103/1000\n",
      "exploration_prob : 0.217\n",
      "No action possible. Stop episode at 17th iterations\n",
      "Save last state even is out of bound\n",
      "Q table still growths\n",
      "Loss : -50.69405574011093\n",
      "end while loop iteration :  17\n",
      "Episode 104/1000\n",
      "exploration_prob : 0.213\n",
      "No action possible. Stop episode at 14th iterations\n",
      "Save last state even is out of bound\n",
      "diff Qtable_N - Qtable_N-1  32.88293385578424\n",
      "Loss : -160.25529840398607\n",
      "end while loop iteration :  14\n",
      "Episode 105/1000\n",
      "exploration_prob : 0.210\n",
      "No action possible. Stop episode at 16th iterations\n",
      "Save last state even is out of bound\n",
      "diff Qtable_N - Qtable_N-1  14.553037175039277\n",
      "Loss : -106.10308011763095\n",
      "end while loop iteration :  16\n",
      "Episode 106/1000\n",
      "exploration_prob : 0.207\n",
      "No action possible. Stop episode at 6th iterations\n",
      "Save last state even is out of bound\n",
      "Q table still growths\n",
      "Loss : -32.633725168205686\n",
      "end while loop iteration :  6\n",
      "Episode 107/1000\n",
      "exploration_prob : 0.204\n",
      "No action possible. Stop episode at 12th iterations\n",
      "Save last state even is out of bound\n",
      "Q table still growths\n",
      "Loss : -58.74608460555375\n",
      "end while loop iteration :  12\n",
      "Episode 108/1000\n",
      "exploration_prob : 0.201\n",
      "No action possible. Stop episode at 7th iterations\n",
      "Save last state even is out of bound\n",
      "diff Qtable_N - Qtable_N-1  6.152121237787532\n",
      "Loss : -30.15246378845129\n",
      "end while loop iteration :  7\n",
      "Episode 109/1000\n",
      "exploration_prob : 0.198\n",
      "No action possible. Stop episode at 7th iterations\n",
      "Save last state even is out of bound\n",
      "diff Qtable_N - Qtable_N-1  0.39178179941636665\n",
      "Loss : -21.915678193692205\n",
      "end while loop iteration :  7\n",
      "Episode 110/1000\n",
      "exploration_prob : 0.195\n",
      "No action possible. Stop episode at 19th iterations\n",
      "Save last state even is out of bound\n",
      "Q table still growths\n",
      "Loss : -92.34882676654091\n",
      "end while loop iteration :  19\n",
      "Episode 111/1000\n",
      "exploration_prob : 0.192\n",
      "No action possible. Stop episode at 10th iterations\n",
      "Save last state even is out of bound\n",
      "Q table still growths\n",
      "Loss : -20.10488965911497\n",
      "end while loop iteration :  10\n",
      "Episode 112/1000\n",
      "exploration_prob : 0.189\n",
      "No action possible. Stop episode at 13th iterations\n",
      "Save last state even is out of bound\n",
      "Q table still growths\n",
      "Loss : -54.04143092884194\n",
      "end while loop iteration :  13\n",
      "Episode 113/1000\n",
      "exploration_prob : 0.186\n",
      "No action possible. Stop episode at 8th iterations\n",
      "Save last state even is out of bound\n",
      "diff Qtable_N - Qtable_N-1  4.594461126147932\n",
      "Loss : -21.9051103207702\n",
      "end while loop iteration :  8\n",
      "Episode 114/1000\n",
      "exploration_prob : 0.184\n",
      "No action possible. Stop episode at 6th iterations\n",
      "Save last state even is out of bound\n",
      "diff Qtable_N - Qtable_N-1  0.847463436796695\n",
      "Loss : -32.92955841402636\n",
      "end while loop iteration :  6\n",
      "Episode 115/1000\n",
      "exploration_prob : 0.181\n",
      "No action possible. Stop episode at 13th iterations\n",
      "Save last state even is out of bound\n",
      "diff Qtable_N - Qtable_N-1  11.85036756958352\n",
      "Loss : -58.58615129198931\n",
      "end while loop iteration :  13\n",
      "Episode 116/1000\n",
      "exploration_prob : 0.178\n",
      "No action possible. Stop episode at 7th iterations\n",
      "Save last state even is out of bound\n",
      "diff Qtable_N - Qtable_N-1  0.3986118161601245\n",
      "Loss : -30.15288234676094\n",
      "end while loop iteration :  7\n",
      "Episode 117/1000\n",
      "exploration_prob : 0.176\n",
      "No action possible. Stop episode at 15th iterations\n",
      "Save last state even is out of bound\n",
      "diff Qtable_N - Qtable_N-1  21.25942268374563\n",
      "Loss : -101.23099350263576\n",
      "end while loop iteration :  15\n",
      "Episode 118/1000\n",
      "exploration_prob : 0.173\n",
      "No action possible. Stop episode at 12th iterations\n",
      "Save last state even is out of bound\n",
      "diff Qtable_N - Qtable_N-1  15.9494400575669\n",
      "Loss : -78.35236202107274\n",
      "end while loop iteration :  12\n",
      "Episode 119/1000\n",
      "exploration_prob : 0.170\n",
      "No action possible. Stop episode at 8th iterations\n",
      "Save last state even is out of bound\n",
      "diff Qtable_N - Qtable_N-1  4.4880206283642385\n",
      "Loss : -26.37325198877242\n",
      "end while loop iteration :  8\n",
      "Episode 120/1000\n",
      "exploration_prob : 0.168\n",
      "No action possible. Stop episode at 9th iterations\n",
      "Save last state even is out of bound\n",
      "diff Qtable_N - Qtable_N-1  3.1061167448423426\n",
      "Loss : -16.376907107377612\n",
      "end while loop iteration :  9\n",
      "Episode 121/1000\n",
      "exploration_prob : 0.165\n",
      "No action possible. Stop episode at 14th iterations\n",
      "Save last state even is out of bound\n",
      "diff Qtable_N - Qtable_N-1  7.901504997077132\n",
      "Loss : -50.59006530420352\n",
      "end while loop iteration :  14\n",
      "Episode 122/1000\n",
      "exploration_prob : 0.163\n",
      "No action possible. Stop episode at 11th iterations\n",
      "Save last state even is out of bound\n",
      "Q table still growths\n",
      "Loss : -83.35496143251578\n",
      "end while loop iteration :  11\n",
      "Episode 123/1000\n",
      "exploration_prob : 0.160\n",
      "No action possible. Stop episode at 10th iterations\n",
      "Save last state even is out of bound\n",
      "Q table still growths\n",
      "Loss : -27.43930727145669\n",
      "end while loop iteration :  10\n",
      "Episode 124/1000\n",
      "exploration_prob : 0.158\n",
      "No action possible. Stop episode at 13th iterations\n",
      "Save last state even is out of bound\n",
      "diff Qtable_N - Qtable_N-1  12.18381428483843\n",
      "Loss : -62.98174877772051\n",
      "end while loop iteration :  13\n",
      "Episode 125/1000\n",
      "exploration_prob : 0.156\n",
      "stop episode because agent reach goal\n",
      "stop episode because agent reach goal\n",
      "stop episode because agent reach goal\n",
      "Q table still growths\n",
      "Loss : -9.189647924450636\n",
      "end while loop iteration :  10\n",
      "Episode 126/1000\n",
      "exploration_prob : 0.153\n",
      "No action possible. Stop episode at 18th iterations\n",
      "Save last state even is out of bound\n",
      "Q table still growths\n",
      "Loss : -53.64321684971673\n",
      "end while loop iteration :  18\n",
      "Episode 127/1000\n",
      "exploration_prob : 0.151\n",
      "No action possible. Stop episode at 16th iterations\n",
      "Save last state even is out of bound\n",
      "Q table still growths\n",
      "Loss : -43.94380209790313\n",
      "end while loop iteration :  16\n",
      "Episode 128/1000\n",
      "exploration_prob : 0.149\n",
      "No action possible. Stop episode at 12th iterations\n",
      "Save last state even is out of bound\n",
      "diff Qtable_N - Qtable_N-1  4.255127134860326\n",
      "Loss : -31.620379344526604\n",
      "end while loop iteration :  12\n",
      "Episode 129/1000\n",
      "exploration_prob : 0.147\n",
      "No action possible. Stop episode at 9th iterations\n",
      "Save last state even is out of bound\n",
      "Q table still growths\n",
      "Loss : -50.640769156743126\n",
      "end while loop iteration :  9\n",
      "Episode 130/1000\n",
      "exploration_prob : 0.144\n",
      "No action possible. Stop episode at 9th iterations\n",
      "Save last state even is out of bound\n",
      "diff Qtable_N - Qtable_N-1  3.1170964723176624\n",
      "Loss : -39.12253879994521\n",
      "end while loop iteration :  9\n",
      "Episode 131/1000\n",
      "exploration_prob : 0.142\n",
      "No action possible. Stop episode at 9th iterations\n",
      "Save last state even is out of bound\n",
      "Q table still growths\n",
      "Loss : -54.57305593579722\n",
      "end while loop iteration :  9\n",
      "Episode 132/1000\n",
      "exploration_prob : 0.140\n",
      "No action possible. Stop episode at 11th iterations\n",
      "Save last state even is out of bound\n",
      "diff Qtable_N - Qtable_N-1  6.349546824940568\n",
      "Loss : -27.9332097927826\n",
      "end while loop iteration :  11\n",
      "Episode 133/1000\n",
      "exploration_prob : 0.138\n",
      "No action possible. Stop episode at 17th iterations\n",
      "Save last state even is out of bound\n",
      "Q table still growths\n",
      "Loss : -187.48635638750517\n",
      "end while loop iteration :  17\n",
      "Episode 134/1000\n",
      "exploration_prob : 0.136\n",
      "stop episode because agent reach goal\n",
      "diff Qtable_N - Qtable_N-1  0.03481751895627831\n",
      "Loss : -10.732246986229862\n",
      "end while loop iteration :  15\n",
      "Episode 135/1000\n",
      "exploration_prob : 0.134\n",
      "No action possible. Stop episode at 10th iterations\n",
      "Save last state even is out of bound\n",
      "Q table still growths\n",
      "Loss : -57.89310003023071\n",
      "end while loop iteration :  10\n",
      "Episode 136/1000\n",
      "exploration_prob : 0.132\n",
      "No action possible. Stop episode at 13th iterations\n",
      "Save last state even is out of bound\n",
      "diff Qtable_N - Qtable_N-1  2.6534712529048967\n",
      "Loss : -32.818285150002936\n",
      "end while loop iteration :  13\n",
      "Episode 137/1000\n",
      "exploration_prob : 0.130\n",
      "stop episode because agent reach goal\n",
      "Q table still growths\n",
      "Loss : -15.586934234902081\n",
      "end while loop iteration :  11\n",
      "Episode 138/1000\n",
      "exploration_prob : 0.128\n",
      "stop episode because agent reach goal\n",
      "stop episode because agent reach goal\n",
      "stop episode because agent reach goal\n",
      "Q table still growths\n",
      "Loss : -17.8262404645828\n",
      "end while loop iteration :  17\n",
      "Episode 139/1000\n",
      "exploration_prob : 0.126\n",
      "No action possible. Stop episode at 10th iterations\n",
      "Save last state even is out of bound\n",
      "Q table still growths\n",
      "Loss : -80.16565202875285\n",
      "end while loop iteration :  10\n",
      "Episode 140/1000\n",
      "exploration_prob : 0.124\n",
      "stop episode because agent reach goal\n",
      "stop episode because agent reach goal\n",
      "diff Qtable_N - Qtable_N-1  0.5255554519584748\n",
      "Loss : -24.882151881215687\n",
      "end while loop iteration :  26\n",
      "Episode 141/1000\n",
      "exploration_prob : 0.122\n",
      "No action possible. Stop episode at 14th iterations\n",
      "Save last state even is out of bound\n",
      "Q table still growths\n",
      "Loss : -83.54552086566379\n",
      "end while loop iteration :  14\n",
      "Episode 142/1000\n",
      "exploration_prob : 0.121\n",
      "No action possible. Stop episode at 14th iterations\n",
      "Save last state even is out of bound\n",
      "diff Qtable_N - Qtable_N-1  32.30511650880799\n",
      "Loss : -146.86290598840938\n",
      "end while loop iteration :  14\n",
      "Episode 143/1000\n",
      "exploration_prob : 0.119\n",
      "No action possible. Stop episode at 6th iterations\n",
      "Save last state even is out of bound\n",
      "diff Qtable_N - Qtable_N-1  1.5738611289569557\n",
      "Loss : -22.5292745830125\n",
      "end while loop iteration :  6\n",
      "Episode 144/1000\n",
      "exploration_prob : 0.117\n",
      "No action possible. Stop episode at 21th iterations\n",
      "Save last state even is out of bound\n",
      "Q table still growths\n",
      "Loss : -35.96883332760863\n",
      "end while loop iteration :  21\n",
      "Episode 145/1000\n",
      "exploration_prob : 0.115\n",
      "No action possible. Stop episode at 17th iterations\n",
      "Save last state even is out of bound\n",
      "diff Qtable_N - Qtable_N-1  39.2596440507599\n",
      "Loss : -191.13073178955452\n",
      "end while loop iteration :  17\n",
      "Episode 146/1000\n",
      "exploration_prob : 0.114\n",
      "No action possible. Stop episode at 5th iterations\n",
      "Save last state even is out of bound\n",
      "diff Qtable_N - Qtable_N-1  0.6006378753122233\n",
      "Loss : -29.09544032284311\n",
      "end while loop iteration :  5\n",
      "Episode 147/1000\n",
      "exploration_prob : 0.112\n",
      "stop episode because agent reach goal\n",
      "No action possible. Stop episode at 20th iterations\n",
      "Save last state even is out of bound\n",
      "diff Qtable_N - Qtable_N-1  8.505202573942496\n",
      "Loss : -55.71315828324359\n",
      "end while loop iteration :  20\n",
      "Episode 148/1000\n",
      "exploration_prob : 0.110\n",
      "No action possible. Stop episode at 10th iterations\n",
      "Save last state even is out of bound\n",
      "Q table still growths\n",
      "Loss : -34.59941992141719\n",
      "end while loop iteration :  10\n",
      "Episode 149/1000\n",
      "exploration_prob : 0.109\n",
      "No action possible. Stop episode at 14th iterations\n",
      "Save last state even is out of bound\n",
      "diff Qtable_N - Qtable_N-1  7.8661785468469105\n",
      "Loss : -39.41599895174389\n",
      "end while loop iteration :  14\n",
      "Episode 150/1000\n",
      "exploration_prob : 0.107\n",
      "No action possible. Stop episode at 12th iterations\n",
      "Save last state even is out of bound\n",
      "Q table still growths\n",
      "Loss : -298.30696054834516\n",
      "end while loop iteration :  12\n",
      "Episode 151/1000\n",
      "exploration_prob : 0.105\n",
      "No action possible. Stop episode at 8th iterations\n",
      "Save last state even is out of bound\n",
      "diff Qtable_N - Qtable_N-1  0.49537091922788634\n",
      "Loss : -28.89335970650567\n",
      "end while loop iteration :  8\n",
      "Episode 152/1000\n",
      "exploration_prob : 0.104\n",
      "No action possible. Stop episode at 9th iterations\n",
      "Save last state even is out of bound\n",
      "Q table still growths\n",
      "Loss : -206.6997835385323\n",
      "end while loop iteration :  9\n",
      "Episode 153/1000\n",
      "exploration_prob : 0.102\n",
      "No action possible. Stop episode at 24th iterations\n",
      "Save last state even is out of bound\n",
      "Q table still growths\n",
      "Loss : -114.19880922458148\n",
      "end while loop iteration :  24\n",
      "Episode 154/1000\n",
      "exploration_prob : 0.101\n",
      "stop episode because agent reach goal\n",
      "stop episode because agent reach goal\n",
      "Q table still growths\n",
      "Loss : -13.241613312773461\n",
      "end while loop iteration :  12\n",
      "Episode 155/1000\n",
      "exploration_prob : 0.100\n",
      "No action possible. Stop episode at 2th iterations\n",
      "Save last state even is out of bound\n",
      "diff Qtable_N - Qtable_N-1  0.29735918041162224\n",
      "Loss : -10.749946442630739\n",
      "end while loop iteration :  2\n",
      "Episode 156/1000\n",
      "exploration_prob : 0.100\n",
      "No action possible. Stop episode at 14th iterations\n",
      "Save last state even is out of bound\n",
      "diff Qtable_N - Qtable_N-1  8.102419281452294\n",
      "Loss : -37.89403270970712\n",
      "end while loop iteration :  14\n",
      "Episode 157/1000\n",
      "exploration_prob : 0.100\n",
      "No action possible. Stop episode at 7th iterations\n",
      "Save last state even is out of bound\n",
      "diff Qtable_N - Qtable_N-1  1.278488032927852\n",
      "Loss : -47.292943229664225\n",
      "end while loop iteration :  7\n",
      "Episode 158/1000\n",
      "exploration_prob : 0.100\n",
      "No action possible. Stop episode at 27th iterations\n",
      "Save last state even is out of bound\n",
      "Q table still growths\n",
      "Loss : -106.57555927930011\n",
      "end while loop iteration :  27\n",
      "Episode 159/1000\n",
      "exploration_prob : 0.100\n",
      "No action possible. Stop episode at 15th iterations\n",
      "Save last state even is out of bound\n",
      "diff Qtable_N - Qtable_N-1  4.935124150878617\n",
      "Loss : -35.86277583157137\n",
      "end while loop iteration :  15\n",
      "Episode 160/1000\n",
      "exploration_prob : 0.100\n",
      "No action possible. Stop episode at 5th iterations\n",
      "Save last state even is out of bound\n",
      "Q table still growths\n",
      "Loss : -43.73815607412551\n",
      "end while loop iteration :  5\n",
      "Episode 161/1000\n",
      "exploration_prob : 0.100\n",
      "stop episode because agent reach goal\n",
      "stop episode because agent reach goal\n",
      "Q table still growths\n",
      "Loss : -6.741719270622925\n",
      "end while loop iteration :  10\n",
      "Episode 162/1000\n",
      "exploration_prob : 0.100\n",
      "No action possible. Stop episode at 12th iterations\n",
      "Save last state even is out of bound\n",
      "diff Qtable_N - Qtable_N-1  4.260618741424021\n",
      "Loss : -61.826755555831355\n",
      "end while loop iteration :  12\n",
      "Episode 163/1000\n",
      "exploration_prob : 0.100\n",
      "No action possible. Stop episode at 8th iterations\n",
      "Save last state even is out of bound\n",
      "diff Qtable_N - Qtable_N-1  2.0154260075247925\n",
      "Loss : -89.21445728029374\n",
      "end while loop iteration :  8\n",
      "Episode 164/1000\n",
      "exploration_prob : 0.100\n",
      "No action possible. Stop episode at 8th iterations\n",
      "Save last state even is out of bound\n",
      "diff Qtable_N - Qtable_N-1  1.9684857238515268\n",
      "Loss : -67.35108703201114\n",
      "end while loop iteration :  8\n",
      "Episode 165/1000\n",
      "exploration_prob : 0.100\n",
      "No action possible. Stop episode at 6th iterations\n",
      "Save last state even is out of bound\n",
      "Q table still growths\n",
      "Loss : -44.87706342668331\n",
      "end while loop iteration :  6\n",
      "Episode 166/1000\n",
      "exploration_prob : 0.100\n",
      "stop episode because agent reach goal\n",
      "stop episode because agent reach goal\n",
      "stop episode because agent reach goal\n",
      "Q table still growths\n",
      "Loss : -9.29625215893711\n",
      "end while loop iteration :  19\n",
      "Episode 167/1000\n",
      "exploration_prob : 0.100\n",
      "No action possible. Stop episode at 18th iterations\n",
      "Save last state even is out of bound\n",
      "Q table still growths\n",
      "Loss : -117.81719010208724\n",
      "end while loop iteration :  18\n",
      "Episode 168/1000\n",
      "exploration_prob : 0.100\n",
      "stop episode because agent reach goal\n",
      "stop episode because agent reach goal\n",
      "Q table still growths\n",
      "Loss : -7.459921285666899\n",
      "end while loop iteration :  17\n",
      "Episode 169/1000\n",
      "exploration_prob : 0.100\n",
      "No action possible. Stop episode at 10th iterations\n",
      "Save last state even is out of bound\n",
      "diff Qtable_N - Qtable_N-1  0.39087039341178864\n",
      "Loss : -28.113450555332903\n",
      "end while loop iteration :  10\n",
      "Episode 170/1000\n",
      "exploration_prob : 0.100\n",
      "No action possible. Stop episode at 18th iterations\n",
      "Save last state even is out of bound\n",
      "diff Qtable_N - Qtable_N-1  5.265971138090913\n",
      "Loss : -126.34420242652257\n",
      "end while loop iteration :  18\n",
      "Episode 171/1000\n",
      "exploration_prob : 0.100\n",
      "No action possible. Stop episode at 14th iterations\n",
      "Save last state even is out of bound\n",
      "diff Qtable_N - Qtable_N-1  1.566471702030941\n",
      "Loss : -28.575789368378413\n",
      "end while loop iteration :  14\n",
      "Episode 172/1000\n",
      "exploration_prob : 0.100\n",
      "No action possible. Stop episode at 15th iterations\n",
      "Save last state even is out of bound\n",
      "diff Qtable_N - Qtable_N-1  4.814363733648184\n",
      "Loss : -83.76065921978201\n",
      "end while loop iteration :  15\n",
      "Episode 173/1000\n",
      "exploration_prob : 0.100\n",
      "No action possible. Stop episode at 19th iterations\n",
      "Save last state even is out of bound\n",
      "Q table still growths\n",
      "Loss : -303.5665629856251\n",
      "end while loop iteration :  19\n",
      "Episode 174/1000\n",
      "exploration_prob : 0.100\n",
      "No action possible. Stop episode at 3th iterations\n",
      "Save last state even is out of bound\n",
      "diff Qtable_N - Qtable_N-1  0.3487815251231527\n",
      "Loss : -14.29134639316939\n",
      "end while loop iteration :  3\n",
      "Episode 175/1000\n",
      "exploration_prob : 0.100\n",
      "No action possible. Stop episode at 11th iterations\n",
      "Save last state even is out of bound\n",
      "diff Qtable_N - Qtable_N-1  24.466264223969272\n",
      "Loss : -108.77875222259496\n",
      "end while loop iteration :  11\n",
      "Episode 176/1000\n",
      "exploration_prob : 0.100\n",
      "No action possible. Stop episode at 15th iterations\n",
      "Save last state even is out of bound\n",
      "diff Qtable_N - Qtable_N-1  5.331275615220999\n",
      "Loss : -23.857930358513947\n",
      "end while loop iteration :  15\n",
      "Episode 177/1000\n",
      "exploration_prob : 0.100\n",
      "stop episode because agent reach goal\n",
      "stop episode because agent reach goal\n",
      "Q table still growths\n",
      "Loss : -46.768058096834395\n",
      "end while loop iteration :  23\n",
      "Episode 178/1000\n",
      "exploration_prob : 0.100\n",
      "No action possible. Stop episode at 17th iterations\n",
      "Save last state even is out of bound\n",
      "Q table still growths\n",
      "Loss : -20.07448074601788\n",
      "end while loop iteration :  17\n",
      "Episode 179/1000\n",
      "exploration_prob : 0.100\n",
      "stop episode because agent reach goal\n",
      "stop episode because agent reach goal\n",
      "diff Qtable_N - Qtable_N-1  0.002092677422181305\n",
      "Loss : -18.932385136939313\n",
      "end while loop iteration :  16\n",
      "Episode 180/1000\n",
      "exploration_prob : 0.100\n",
      "No action possible. Stop episode at 18th iterations\n",
      "Save last state even is out of bound\n",
      "diff Qtable_N - Qtable_N-1  24.62536386753125\n",
      "Loss : -121.06057420769177\n",
      "end while loop iteration :  18\n",
      "Episode 181/1000\n",
      "exploration_prob : 0.100\n",
      "No action possible. Stop episode at 18th iterations\n",
      "Save last state even is out of bound\n",
      "diff Qtable_N - Qtable_N-1  5.285682042990674\n",
      "Loss : -46.623467359707675\n",
      "end while loop iteration :  18\n",
      "Episode 182/1000\n",
      "exploration_prob : 0.100\n",
      "No action possible. Stop episode at 11th iterations\n",
      "Save last state even is out of bound\n",
      "diff Qtable_N - Qtable_N-1  6.519838723405996\n",
      "Loss : -29.952318730509432\n",
      "end while loop iteration :  11\n",
      "Episode 183/1000\n",
      "exploration_prob : 0.100\n",
      "No action possible. Stop episode at 12th iterations\n",
      "Save last state even is out of bound\n",
      "diff Qtable_N - Qtable_N-1  4.303552164387341\n",
      "Loss : -20.986211903858802\n",
      "end while loop iteration :  12\n",
      "Episode 184/1000\n",
      "exploration_prob : 0.100\n",
      "No action possible. Stop episode at 13th iterations\n",
      "Save last state even is out of bound\n",
      "diff Qtable_N - Qtable_N-1  11.931336094709327\n",
      "Loss : -60.38093287030189\n",
      "end while loop iteration :  13\n",
      "Episode 185/1000\n",
      "exploration_prob : 0.100\n",
      "No action possible. Stop episode at 18th iterations\n",
      "Save last state even is out of bound\n",
      "diff Qtable_N - Qtable_N-1  5.247170378056976\n",
      "Loss : -33.864264722755784\n",
      "end while loop iteration :  18\n",
      "Episode 186/1000\n",
      "exploration_prob : 0.100\n",
      "No action possible. Stop episode at 11th iterations\n",
      "Save last state even is out of bound\n",
      "diff Qtable_N - Qtable_N-1  0.2712009077355427\n",
      "Loss : -24.428489948515193\n",
      "end while loop iteration :  11\n",
      "Episode 187/1000\n",
      "exploration_prob : 0.100\n",
      "No action possible. Stop episode at 13th iterations\n",
      "Save last state even is out of bound\n",
      "Q table still growths\n",
      "Loss : -64.11317405324807\n",
      "end while loop iteration :  13\n",
      "Episode 188/1000\n",
      "exploration_prob : 0.100\n",
      "No action possible. Stop episode at 17th iterations\n",
      "Save last state even is out of bound\n",
      "diff Qtable_N - Qtable_N-1  37.44088926134968\n",
      "Loss : -178.25439449074798\n",
      "end while loop iteration :  17\n",
      "Episode 189/1000\n",
      "exploration_prob : 0.100\n",
      "No action possible. Stop episode at 15th iterations\n",
      "Save last state even is out of bound\n",
      "diff Qtable_N - Qtable_N-1  5.058810300766554\n",
      "Loss : -27.853116112912716\n",
      "end while loop iteration :  15\n",
      "Episode 190/1000\n",
      "exploration_prob : 0.100\n",
      "stop episode because agent reach goal\n",
      "stop episode because agent reach goal\n",
      "Q table still growths\n",
      "Loss : -7.949871725058345\n",
      "end while loop iteration :  9\n",
      "Episode 191/1000\n",
      "exploration_prob : 0.100\n",
      "No action possible. Stop episode at 16th iterations\n",
      "Save last state even is out of bound\n",
      "Q table still growths\n",
      "Loss : -47.288976335896535\n",
      "end while loop iteration :  16\n",
      "Episode 192/1000\n",
      "exploration_prob : 0.100\n",
      "stop episode because agent reach goal\n",
      "No action possible. Stop episode at 40th iterations\n",
      "Save last state even is out of bound\n",
      "Q table still growths\n",
      "Loss : -224.7974473794482\n",
      "end while loop iteration :  40\n",
      "Episode 193/1000\n",
      "exploration_prob : 0.100\n",
      "No action possible. Stop episode at 7th iterations\n",
      "Save last state even is out of bound\n",
      "diff Qtable_N - Qtable_N-1  22.60078030335672\n",
      "Loss : -96.7650492346171\n",
      "end while loop iteration :  7\n",
      "Episode 194/1000\n",
      "exploration_prob : 0.100\n",
      "No action possible. Stop episode at 19th iterations\n",
      "Save last state even is out of bound\n",
      "Q table still growths\n",
      "Loss : -56.95641644972785\n",
      "end while loop iteration :  19\n",
      "Episode 195/1000\n",
      "exploration_prob : 0.100\n",
      "No action possible. Stop episode at 16th iterations\n",
      "Save last state even is out of bound\n",
      "diff Qtable_N - Qtable_N-1  14.53138853112187\n",
      "Loss : -72.5219754058692\n",
      "end while loop iteration :  16\n",
      "Episode 196/1000\n",
      "exploration_prob : 0.100\n",
      "No action possible. Stop episode at 18th iterations\n",
      "Save last state even is out of bound\n",
      "diff Qtable_N - Qtable_N-1  5.269011544026664\n",
      "Loss : -105.36300177988859\n",
      "end while loop iteration :  18\n",
      "Episode 197/1000\n",
      "exploration_prob : 0.100\n",
      "No action possible. Stop episode at 10th iterations\n",
      "Save last state even is out of bound\n",
      "Q table still growths\n",
      "Loss : -21.581242695819043\n",
      "end while loop iteration :  10\n",
      "Episode 198/1000\n",
      "exploration_prob : 0.100\n",
      "No action possible. Stop episode at 21th iterations\n",
      "Save last state even is out of bound\n",
      "Q table still growths\n",
      "Loss : -129.63323899228914\n",
      "end while loop iteration :  21\n",
      "Episode 199/1000\n",
      "exploration_prob : 0.100\n",
      "No action possible. Stop episode at 10th iterations\n",
      "Save last state even is out of bound\n",
      "diff Qtable_N - Qtable_N-1  35.04195740354373\n",
      "Loss : -156.9440896362185\n",
      "end while loop iteration :  10\n",
      "Episode 200/1000\n",
      "exploration_prob : 0.100\n",
      "stop episode because agent reach goal\n",
      "stop episode because agent reach goal\n",
      "diff Qtable_N - Qtable_N-1  0.02773876727102606\n",
      "Loss : -44.57687343797322\n",
      "end while loop iteration :  17\n",
      "Episode 201/1000\n",
      "exploration_prob : 0.100\n",
      "No action possible. Stop episode at 7th iterations\n",
      "Save last state even is out of bound\n",
      "diff Qtable_N - Qtable_N-1  1.314430213685438\n",
      "Loss : -61.1139593339056\n",
      "end while loop iteration :  7\n",
      "Episode 202/1000\n",
      "exploration_prob : 0.100\n",
      "stop episode because agent reach goal\n",
      "stop episode because agent reach goal\n",
      "diff Qtable_N - Qtable_N-1  0.06815892440223432\n",
      "Loss : -12.413966928733352\n",
      "end while loop iteration :  13\n",
      "Episode 203/1000\n",
      "exploration_prob : 0.100\n",
      "stop episode because agent reach goal\n",
      "stop episode because agent reach goal\n",
      "Q table still growths\n",
      "Loss : -29.719836708402347\n",
      "end while loop iteration :  28\n",
      "Episode 204/1000\n",
      "exploration_prob : 0.100\n",
      "No action possible. Stop episode at 14th iterations\n",
      "Save last state even is out of bound\n",
      "Q table still growths\n",
      "Loss : -19.320182915400654\n",
      "end while loop iteration :  14\n",
      "Episode 205/1000\n",
      "exploration_prob : 0.100\n",
      "stop episode because agent reach goal\n",
      "stop episode because agent reach goal\n",
      "Q table still growths\n",
      "Loss : -41.26417169037103\n",
      "end while loop iteration :  18\n",
      "Episode 206/1000\n",
      "exploration_prob : 0.100\n",
      "No action possible. Stop episode at 18th iterations\n",
      "Save last state even is out of bound\n",
      "Q table still growths\n",
      "Loss : -122.94474046477902\n",
      "end while loop iteration :  18\n",
      "Episode 207/1000\n",
      "exploration_prob : 0.100\n",
      "No action possible. Stop episode at 22th iterations\n",
      "Save last state even is out of bound\n",
      "Q table still growths\n",
      "Loss : -122.8260084548316\n",
      "end while loop iteration :  22\n",
      "Episode 208/1000\n",
      "exploration_prob : 0.100\n",
      "stop episode because agent reach goal\n",
      "stop episode because agent reach goal\n",
      "Q table still growths\n",
      "Loss : -17.4331931029909\n",
      "end while loop iteration :  22\n",
      "Episode 209/1000\n",
      "exploration_prob : 0.100\n",
      "stop episode because agent reach goal\n",
      "stop episode because agent reach goal\n",
      "Q table still growths\n",
      "Loss : -43.89850726747328\n",
      "end while loop iteration :  29\n",
      "Episode 210/1000\n",
      "exploration_prob : 0.100\n",
      "stop episode because agent reach goal\n",
      "stop episode because agent reach goal\n",
      "Q table still growths\n",
      "Loss : -33.00268573489468\n",
      "end while loop iteration :  25\n",
      "Episode 211/1000\n",
      "exploration_prob : 0.100\n",
      "No action possible. Stop episode at 13th iterations\n",
      "Save last state even is out of bound\n",
      "Q table still growths\n",
      "Loss : -76.28550549218247\n",
      "end while loop iteration :  13\n",
      "Episode 212/1000\n",
      "exploration_prob : 0.100\n",
      "No action possible. Stop episode at 6th iterations\n",
      "Save last state even is out of bound\n",
      "diff Qtable_N - Qtable_N-1  3.5607599548759015\n",
      "Loss : -52.72114085924646\n",
      "end while loop iteration :  6\n",
      "Episode 213/1000\n",
      "exploration_prob : 0.100\n",
      "No action possible. Stop episode at 20th iterations\n",
      "Save last state even is out of bound\n",
      "Q table still growths\n",
      "Loss : -215.42733644436993\n",
      "end while loop iteration :  20\n",
      "Episode 214/1000\n",
      "exploration_prob : 0.100\n",
      "No action possible. Stop episode at 2th iterations\n",
      "Save last state even is out of bound\n",
      "diff Qtable_N - Qtable_N-1  0.26762326237045997\n",
      "Loss : -10.749946442630739\n",
      "end while loop iteration :  2\n",
      "Episode 215/1000\n",
      "exploration_prob : 0.100\n",
      "No action possible. Stop episode at 21th iterations\n",
      "Save last state even is out of bound\n",
      "diff Qtable_N - Qtable_N-1  24.58355061005487\n",
      "Loss : -119.35178452262986\n",
      "end while loop iteration :  21\n",
      "Episode 216/1000\n",
      "exploration_prob : 0.100\n",
      "No action possible. Stop episode at 17th iterations\n",
      "Save last state even is out of bound\n",
      "diff Qtable_N - Qtable_N-1  37.47679174454077\n",
      "Loss : -186.69010117070303\n",
      "end while loop iteration :  17\n",
      "Episode 217/1000\n",
      "exploration_prob : 0.100\n",
      "stop episode because agent reach goal\n",
      "No action possible. Stop episode at 22th iterations\n",
      "Save last state even is out of bound\n",
      "diff Qtable_N - Qtable_N-1  13.974517473424356\n",
      "Loss : -81.25042626025126\n",
      "end while loop iteration :  22\n",
      "Episode 218/1000\n",
      "exploration_prob : 0.100\n",
      "No action possible. Stop episode at 24th iterations\n",
      "Save last state even is out of bound\n",
      "diff Qtable_N - Qtable_N-1  20.538051980980057\n",
      "Loss : -122.75571330538496\n",
      "end while loop iteration :  24\n",
      "Episode 219/1000\n",
      "exploration_prob : 0.100\n",
      "No action possible. Stop episode at 28th iterations\n",
      "Save last state even is out of bound\n",
      "Q table still growths\n",
      "Loss : -232.34244278687208\n",
      "end while loop iteration :  28\n",
      "Episode 220/1000\n",
      "exploration_prob : 0.100\n",
      "No action possible. Stop episode at 14th iterations\n",
      "Save last state even is out of bound\n",
      "diff Qtable_N - Qtable_N-1  1.5728186978049419\n",
      "Loss : -54.402773021808066\n",
      "end while loop iteration :  14\n",
      "Episode 221/1000\n",
      "exploration_prob : 0.100\n",
      "No action possible. Stop episode at 5th iterations\n",
      "Save last state even is out of bound\n",
      "diff Qtable_N - Qtable_N-1  0.6513671590260776\n",
      "Loss : -26.020113292950445\n",
      "end while loop iteration :  5\n",
      "Episode 222/1000\n",
      "exploration_prob : 0.100\n",
      "stop episode because agent reach goal\n",
      "stop episode because agent reach goal\n",
      "stop episode because agent reach goal\n",
      "diff Qtable_N - Qtable_N-1  0.07572097866314477\n",
      "Loss : -7.098403854484066\n",
      "end while loop iteration :  12\n",
      "Episode 223/1000\n",
      "exploration_prob : 0.100\n",
      "stop episode because agent reach goal\n",
      "stop episode because agent reach goal\n",
      "stop episode because agent reach goal\n",
      "No action possible. Stop episode at 45th iterations\n",
      "Save last state even is out of bound\n",
      "Q table still growths\n",
      "Loss : -50.07533597159508\n",
      "end while loop iteration :  45\n",
      "Episode 224/1000\n",
      "exploration_prob : 0.100\n",
      "No action possible. Stop episode at 21th iterations\n",
      "Save last state even is out of bound\n",
      "diff Qtable_N - Qtable_N-1  4.831208074032178\n",
      "Loss : -104.92297046784334\n",
      "end while loop iteration :  21\n",
      "Episode 225/1000\n",
      "exploration_prob : 0.100\n",
      "No action possible. Stop episode at 11th iterations\n",
      "Save last state even is out of bound\n",
      "diff Qtable_N - Qtable_N-1  6.21366018381968\n",
      "Loss : -31.500987786799136\n",
      "end while loop iteration :  11\n",
      "Episode 226/1000\n",
      "exploration_prob : 0.100\n",
      "No action possible. Stop episode at 6th iterations\n",
      "Save last state even is out of bound\n",
      "diff Qtable_N - Qtable_N-1  1.498965724903935\n",
      "Loss : -19.473443462460438\n",
      "end while loop iteration :  6\n",
      "Episode 227/1000\n",
      "exploration_prob : 0.100\n",
      "No action possible. Stop episode at 8th iterations\n",
      "Save last state even is out of bound\n",
      "diff Qtable_N - Qtable_N-1  4.49442098168229\n",
      "Loss : -46.09609375540187\n",
      "end while loop iteration :  8\n",
      "Episode 228/1000\n",
      "exploration_prob : 0.100\n",
      "stop episode because agent reach goal\n",
      "No action possible. Stop episode at 31th iterations\n",
      "Save last state even is out of bound\n",
      "Q table still growths\n",
      "Loss : -104.62861937323204\n",
      "end while loop iteration :  31\n",
      "Episode 229/1000\n",
      "exploration_prob : 0.100\n",
      "No action possible. Stop episode at 10th iterations\n",
      "Save last state even is out of bound\n",
      "diff Qtable_N - Qtable_N-1  1.0961674287237912\n",
      "Loss : -53.93688110252955\n",
      "end while loop iteration :  10\n",
      "Episode 230/1000\n",
      "exploration_prob : 0.100\n",
      "No action possible. Stop episode at 20th iterations\n",
      "Save last state even is out of bound\n",
      "diff Qtable_N - Qtable_N-1  40.584624140658214\n",
      "Loss : -238.80234358234668\n",
      "end while loop iteration :  20\n",
      "Episode 231/1000\n",
      "exploration_prob : 0.100\n",
      "stop episode because agent reach goal\n",
      "diff Qtable_N - Qtable_N-1  0.06259986086836118\n",
      "Loss : -14.364533337633224\n",
      "end while loop iteration :  12\n",
      "Episode 232/1000\n",
      "exploration_prob : 0.100\n",
      "No action possible. Stop episode at 22th iterations\n",
      "Save last state even is out of bound\n",
      "Q table still growths\n",
      "Loss : -322.7693361778439\n",
      "end while loop iteration :  22\n",
      "Episode 233/1000\n",
      "exploration_prob : 0.100\n",
      "No action possible. Stop episode at 10th iterations\n",
      "Save last state even is out of bound\n",
      "diff Qtable_N - Qtable_N-1  2.0743854643931257\n",
      "Loss : -27.771355822162874\n",
      "end while loop iteration :  10\n",
      "Episode 234/1000\n",
      "exploration_prob : 0.100\n",
      "stop episode because agent reach goal\n",
      "stop episode because agent reach goal\n",
      "diff Qtable_N - Qtable_N-1  0.07535473893464135\n",
      "Loss : -6.509978321486641\n",
      "end while loop iteration :  13\n",
      "Episode 235/1000\n",
      "exploration_prob : 0.100\n",
      "No action possible. Stop episode at 12th iterations\n",
      "Save last state even is out of bound\n",
      "Q table still growths\n",
      "Loss : -21.920681023680643\n",
      "end while loop iteration :  12\n",
      "Episode 236/1000\n",
      "exploration_prob : 0.100\n",
      "stop episode because agent reach goal\n",
      "stop episode because agent reach goal\n",
      "diff Qtable_N - Qtable_N-1  0.07533523718648423\n",
      "Loss : -7.536825728940323\n",
      "end while loop iteration :  13\n",
      "Episode 237/1000\n",
      "exploration_prob : 0.100\n",
      "No action possible. Stop episode at 22th iterations\n",
      "Save last state even is out of bound\n",
      "Q table still growths\n",
      "Loss : -28.52757224548945\n",
      "end while loop iteration :  22\n",
      "Episode 238/1000\n",
      "exploration_prob : 0.100\n",
      "No action possible. Stop episode at 20th iterations\n",
      "Save last state even is out of bound\n",
      "diff Qtable_N - Qtable_N-1  40.04447459455952\n",
      "Loss : -199.4841021762631\n",
      "end while loop iteration :  20\n",
      "Episode 239/1000\n",
      "exploration_prob : 0.100\n",
      "No action possible. Stop episode at 5th iterations\n",
      "Save last state even is out of bound\n",
      "Q table still growths\n",
      "Loss : -79.97367455138208\n",
      "end while loop iteration :  5\n",
      "Episode 240/1000\n",
      "exploration_prob : 0.100\n",
      "No action possible. Stop episode at 12th iterations\n",
      "Save last state even is out of bound\n",
      "diff Qtable_N - Qtable_N-1  17.330311989481192\n",
      "Loss : -113.28586864087373\n",
      "end while loop iteration :  12\n",
      "Episode 241/1000\n",
      "exploration_prob : 0.100\n",
      "No action possible. Stop episode at 28th iterations\n",
      "Save last state even is out of bound\n",
      "Q table still growths\n",
      "Loss : -51.71163231227317\n",
      "end while loop iteration :  28\n",
      "Episode 242/1000\n",
      "exploration_prob : 0.100\n",
      "No action possible. Stop episode at 2th iterations\n",
      "Save last state even is out of bound\n",
      "diff Qtable_N - Qtable_N-1  0.24086093613341397\n",
      "Loss : -10.749946442630739\n",
      "end while loop iteration :  2\n",
      "Episode 243/1000\n",
      "exploration_prob : 0.100\n",
      "No action possible. Stop episode at 15th iterations\n",
      "Save last state even is out of bound\n",
      "Q table still growths\n",
      "Loss : -23.506617220798628\n",
      "end while loop iteration :  15\n",
      "Episode 244/1000\n",
      "exploration_prob : 0.100\n",
      "No action possible. Stop episode at 12th iterations\n",
      "Save last state even is out of bound\n",
      "Q table still growths\n",
      "Loss : -55.05921622161411\n",
      "end while loop iteration :  12\n",
      "Episode 245/1000\n",
      "exploration_prob : 0.100\n",
      "No action possible. Stop episode at 12th iterations\n",
      "Save last state even is out of bound\n",
      "diff Qtable_N - Qtable_N-1  0.3740775588001061\n",
      "Loss : -42.32417821453135\n",
      "end while loop iteration :  12\n",
      "Episode 246/1000\n",
      "exploration_prob : 0.100\n",
      "No action possible. Stop episode at 19th iterations\n",
      "Save last state even is out of bound\n",
      "diff Qtable_N - Qtable_N-1  6.273422983742848\n",
      "Loss : -74.61611750904605\n",
      "end while loop iteration :  19\n",
      "Episode 247/1000\n",
      "exploration_prob : 0.100\n",
      "No action possible. Stop episode at 12th iterations\n",
      "Save last state even is out of bound\n",
      "diff Qtable_N - Qtable_N-1  0.6498693383412908\n",
      "Loss : -38.686135884704264\n",
      "end while loop iteration :  12\n",
      "Episode 248/1000\n",
      "exploration_prob : 0.100\n",
      "No action possible. Stop episode at 7th iterations\n",
      "Save last state even is out of bound\n",
      "diff Qtable_N - Qtable_N-1  9.848251860759582\n",
      "Loss : -76.10819439826234\n",
      "end while loop iteration :  7\n",
      "Episode 249/1000\n",
      "exploration_prob : 0.100\n",
      "No action possible. Stop episode at 22th iterations\n",
      "Save last state even is out of bound\n",
      "Q table still growths\n",
      "Loss : -148.7432900138418\n",
      "end while loop iteration :  22\n",
      "Episode 250/1000\n",
      "exploration_prob : 0.100\n",
      "No action possible. Stop episode at 18th iterations\n",
      "Save last state even is out of bound\n",
      "diff Qtable_N - Qtable_N-1  5.140123367710113\n",
      "Loss : -112.61736757609764\n",
      "end while loop iteration :  18\n",
      "Episode 251/1000\n",
      "exploration_prob : 0.100\n",
      "No action possible. Stop episode at 19th iterations\n",
      "Save last state even is out of bound\n",
      "diff Qtable_N - Qtable_N-1  6.298253615057475\n",
      "Loss : -80.47457936152846\n",
      "end while loop iteration :  19\n",
      "Episode 252/1000\n",
      "exploration_prob : 0.100\n",
      "No action possible. Stop episode at 19th iterations\n",
      "Save last state even is out of bound\n",
      "diff Qtable_N - Qtable_N-1  62.37960625846424\n",
      "Loss : -332.94733218127993\n",
      "end while loop iteration :  19\n",
      "Episode 253/1000\n",
      "exploration_prob : 0.100\n",
      "No action possible. Stop episode at 11th iterations\n",
      "Save last state even is out of bound\n",
      "diff Qtable_N - Qtable_N-1  1.2702850079943033\n",
      "Loss : -16.533870677118387\n",
      "end while loop iteration :  11\n",
      "Episode 254/1000\n",
      "exploration_prob : 0.100\n",
      "No action possible. Stop episode at 4th iterations\n",
      "Save last state even is out of bound\n",
      "diff Qtable_N - Qtable_N-1  1.6418575232429629\n",
      "Loss : -26.19133513942251\n",
      "end while loop iteration :  4\n",
      "Episode 255/1000\n",
      "exploration_prob : 0.100\n",
      "No action possible. Stop episode at 18th iterations\n",
      "Save last state even is out of bound\n",
      "Q table still growths\n",
      "Loss : -19.327264344432834\n",
      "end while loop iteration :  18\n",
      "Episode 256/1000\n",
      "exploration_prob : 0.100\n",
      "No action possible. Stop episode at 15th iterations\n",
      "Save last state even is out of bound\n",
      "diff Qtable_N - Qtable_N-1  5.090110601298592\n",
      "Loss : -36.78962012052208\n",
      "end while loop iteration :  15\n",
      "Episode 257/1000\n",
      "exploration_prob : 0.100\n",
      "stop episode because agent reach goal\n",
      "diff Qtable_N - Qtable_N-1  0.07243962027575476\n",
      "Loss : -9.159571936480694\n",
      "end while loop iteration :  22\n",
      "Episode 258/1000\n",
      "exploration_prob : 0.100\n",
      "No action possible. Stop episode at 20th iterations\n",
      "Save last state even is out of bound\n",
      "diff Qtable_N - Qtable_N-1  39.10611308326708\n",
      "Loss : -195.67623015860346\n",
      "end while loop iteration :  20\n",
      "Episode 259/1000\n",
      "exploration_prob : 0.100\n",
      "No action possible. Stop episode at 13th iterations\n",
      "Save last state even is out of bound\n",
      "Q table still growths\n",
      "Loss : -151.46076235874233\n",
      "end while loop iteration :  13\n",
      "Episode 260/1000\n",
      "exploration_prob : 0.100\n",
      "No action possible. Stop episode at 13th iterations\n",
      "Save last state even is out of bound\n",
      "diff Qtable_N - Qtable_N-1  0.9914294960406242\n",
      "Loss : -100.11791627771777\n",
      "end while loop iteration :  13\n",
      "Episode 261/1000\n",
      "exploration_prob : 0.100\n",
      "stop episode because agent reach goal\n",
      "Q table still growths\n",
      "Loss : -13.27527130863095\n",
      "end while loop iteration :  16\n",
      "Episode 262/1000\n",
      "exploration_prob : 0.100\n",
      "No action possible. Stop episode at 10th iterations\n",
      "Save last state even is out of bound\n",
      "Q table still growths\n",
      "Loss : -31.87742913478523\n",
      "end while loop iteration :  10\n",
      "Episode 263/1000\n",
      "exploration_prob : 0.100\n",
      "No action possible. Stop episode at 7th iterations\n",
      "Save last state even is out of bound\n",
      "diff Qtable_N - Qtable_N-1  1.271382023623386\n",
      "Loss : -30.654287663131846\n",
      "end while loop iteration :  7\n",
      "Episode 264/1000\n",
      "exploration_prob : 0.100\n",
      "No action possible. Stop episode at 15th iterations\n",
      "Save last state even is out of bound\n",
      "diff Qtable_N - Qtable_N-1  4.908065887772896\n",
      "Loss : -83.29382273062403\n",
      "end while loop iteration :  15\n",
      "Episode 265/1000\n",
      "exploration_prob : 0.100\n",
      "stop episode because agent reach goal\n",
      "stop episode because agent reach goal\n",
      "Q table still growths\n",
      "Loss : -15.158653403431675\n",
      "end while loop iteration :  21\n",
      "Episode 266/1000\n",
      "exploration_prob : 0.100\n",
      "No action possible. Stop episode at 11th iterations\n",
      "Save last state even is out of bound\n",
      "diff Qtable_N - Qtable_N-1  1.2706197573965863\n",
      "Loss : -18.26173910715496\n",
      "end while loop iteration :  11\n",
      "Episode 267/1000\n",
      "exploration_prob : 0.100\n",
      "stop episode because agent reach goal\n",
      "diff Qtable_N - Qtable_N-1  0.044134364238513496\n",
      "Loss : -7.935510397919444\n",
      "end while loop iteration :  17\n",
      "Episode 268/1000\n",
      "exploration_prob : 0.100\n",
      "No action possible. Stop episode at 9th iterations\n",
      "Save last state even is out of bound\n",
      "diff Qtable_N - Qtable_N-1  0.6712170732174402\n",
      "Loss : -36.690915994714686\n",
      "end while loop iteration :  9\n",
      "Episode 269/1000\n",
      "exploration_prob : 0.100\n",
      "stop episode because agent reach goal\n",
      "diff Qtable_N - Qtable_N-1  0.03696145491938429\n",
      "Loss : -6.741719270622925\n",
      "end while loop iteration :  10\n",
      "Episode 270/1000\n",
      "exploration_prob : 0.100\n",
      "stop episode because agent reach goal\n",
      "diff Qtable_N - Qtable_N-1  0.06781926504117723\n",
      "Loss : -6.509978321486641\n",
      "end while loop iteration :  13\n",
      "Episode 271/1000\n",
      "exploration_prob : 0.100\n",
      "No action possible. Stop episode at 13th iterations\n",
      "Save last state even is out of bound\n",
      "diff Qtable_N - Qtable_N-1  0.9675258191991207\n",
      "Loss : -44.61335719928523\n",
      "end while loop iteration :  13\n",
      "Episode 272/1000\n",
      "exploration_prob : 0.100\n",
      "No action possible. Stop episode at 20th iterations\n",
      "Save last state even is out of bound\n",
      "diff Qtable_N - Qtable_N-1  39.718727027274525\n",
      "Loss : -235.32290007606596\n",
      "end while loop iteration :  20\n",
      "Episode 273/1000\n",
      "exploration_prob : 0.100\n",
      "No action possible. Stop episode at 14th iterations\n",
      "Save last state even is out of bound\n",
      "Q table still growths\n",
      "Loss : -102.97685467240177\n",
      "end while loop iteration :  14\n",
      "Episode 274/1000\n",
      "exploration_prob : 0.100\n",
      "No action possible. Stop episode at 11th iterations\n",
      "Save last state even is out of bound\n",
      "diff Qtable_N - Qtable_N-1  24.367042794113388\n",
      "Loss : -114.48587975812217\n",
      "end while loop iteration :  11\n",
      "Episode 275/1000\n",
      "exploration_prob : 0.100\n",
      "stop episode because agent reach goal\n",
      "stop episode because agent reach goal\n",
      "diff Qtable_N - Qtable_N-1  0.22109056129127605\n",
      "Loss : -31.39676588876536\n",
      "end while loop iteration :  19\n",
      "Episode 276/1000\n",
      "exploration_prob : 0.100\n",
      "No action possible. Stop episode at 17th iterations\n",
      "Save last state even is out of bound\n",
      "diff Qtable_N - Qtable_N-1  8.935422330435378\n",
      "Loss : -49.87473912848995\n",
      "end while loop iteration :  17\n",
      "Episode 277/1000\n",
      "exploration_prob : 0.100\n",
      "stop episode because agent reach goal\n",
      "stop episode because agent reach goal\n",
      "Q table still growths\n",
      "Loss : -34.29332038718571\n",
      "end while loop iteration :  18\n",
      "Episode 278/1000\n",
      "exploration_prob : 0.100\n",
      "No action possible. Stop episode at 14th iterations\n",
      "Save last state even is out of bound\n",
      "Q table still growths\n",
      "Loss : -163.49653587991526\n",
      "end while loop iteration :  14\n",
      "Episode 279/1000\n",
      "exploration_prob : 0.100\n",
      "No action possible. Stop episode at 10th iterations\n",
      "Save last state even is out of bound\n",
      "diff Qtable_N - Qtable_N-1  0.055785228190954744\n",
      "Loss : -16.236720925218503\n",
      "end while loop iteration :  10\n",
      "Episode 280/1000\n",
      "exploration_prob : 0.100\n",
      "No action possible. Stop episode at 6th iterations\n",
      "Save last state even is out of bound\n",
      "diff Qtable_N - Qtable_N-1  0.3781232306688521\n",
      "Loss : -24.742947035252875\n",
      "end while loop iteration :  6\n",
      "Episode 281/1000\n",
      "exploration_prob : 0.100\n",
      "stop episode because agent reach goal\n",
      "stop episode because agent reach goal\n",
      "diff Qtable_N - Qtable_N-1  0.03467570462956367\n",
      "Loss : -11.0107072841042\n",
      "end while loop iteration :  17\n",
      "Episode 282/1000\n",
      "exploration_prob : 0.100\n",
      "No action possible. Stop episode at 10th iterations\n",
      "Save last state even is out of bound\n",
      "diff Qtable_N - Qtable_N-1  9.347181896495172\n",
      "Loss : -46.672471838202725\n",
      "end while loop iteration :  10\n",
      "Episode 283/1000\n",
      "exploration_prob : 0.100\n",
      "stop episode because agent reach goal\n",
      "stop episode because agent reach goal\n",
      "stop episode because agent reach goal\n",
      "Q table still growths\n",
      "Loss : -38.866187847627174\n",
      "end while loop iteration :  29\n",
      "Episode 284/1000\n",
      "exploration_prob : 0.100\n",
      "No action possible. Stop episode at 16th iterations\n",
      "Save last state even is out of bound\n",
      "Q table still growths\n",
      "Loss : -275.59562468101575\n",
      "end while loop iteration :  16\n",
      "Episode 285/1000\n",
      "exploration_prob : 0.100\n",
      "stop episode because agent reach goal\n",
      "stop episode because agent reach goal\n",
      "diff Qtable_N - Qtable_N-1  1.1855183603441966\n",
      "Loss : -8.530571505147096\n",
      "end while loop iteration :  16\n",
      "Episode 286/1000\n",
      "exploration_prob : 0.100\n",
      "stop episode because agent reach goal\n",
      "stop episode because agent reach goal\n",
      "Q table still growths\n",
      "Loss : -41.4522737608028\n",
      "end while loop iteration :  15\n",
      "Episode 287/1000\n",
      "exploration_prob : 0.100\n",
      "stop episode because agent reach goal\n",
      "diff Qtable_N - Qtable_N-1  0.03654568230749217\n",
      "Loss : -8.639503398057695\n",
      "end while loop iteration :  12\n",
      "Episode 288/1000\n",
      "exploration_prob : 0.100\n",
      "No action possible. Stop episode at 11th iterations\n",
      "Save last state even is out of bound\n",
      "Q table still growths\n",
      "Loss : -54.8426917676262\n",
      "end while loop iteration :  11\n",
      "Episode 289/1000\n",
      "exploration_prob : 0.100\n",
      "No action possible. Stop episode at 6th iterations\n",
      "Save last state even is out of bound\n",
      "diff Qtable_N - Qtable_N-1  3.517919851391235\n",
      "Loss : -50.968147511860344\n",
      "end while loop iteration :  6\n",
      "Episode 290/1000\n",
      "exploration_prob : 0.100\n",
      "stop episode because agent reach goal\n",
      "diff Qtable_N - Qtable_N-1  0.034013471221477964\n",
      "Loss : -8.287847711596\n",
      "end while loop iteration :  10\n",
      "Episode 291/1000\n",
      "exploration_prob : 0.100\n",
      "No action possible. Stop episode at 28th iterations\n",
      "Save last state even is out of bound\n",
      "Q table still growths\n",
      "Loss : -157.84668411482681\n",
      "end while loop iteration :  28\n",
      "Episode 292/1000\n",
      "exploration_prob : 0.100\n",
      "No action possible. Stop episode at 8th iterations\n",
      "Save last state even is out of bound\n",
      "diff Qtable_N - Qtable_N-1  1.9090456848723634\n",
      "Loss : -40.18383581165303\n",
      "end while loop iteration :  8\n",
      "Episode 293/1000\n",
      "exploration_prob : 0.100\n",
      "No action possible. Stop episode at 15th iterations\n",
      "Save last state even is out of bound\n",
      "diff Qtable_N - Qtable_N-1  21.7017131413794\n",
      "Loss : -103.35418802935996\n",
      "end while loop iteration :  15\n",
      "Episode 294/1000\n",
      "exploration_prob : 0.100\n",
      "stop episode because agent reach goal\n",
      "diff Qtable_N - Qtable_N-1  0.044202441536745116\n",
      "Loss : -7.098403854484066\n",
      "end while loop iteration :  12\n",
      "Episode 295/1000\n",
      "exploration_prob : 0.100\n",
      "No action possible. Stop episode at 16th iterations\n",
      "Save last state even is out of bound\n",
      "diff Qtable_N - Qtable_N-1  14.582781654156769\n",
      "Loss : -82.86942359448514\n",
      "end while loop iteration :  16\n",
      "Episode 296/1000\n",
      "exploration_prob : 0.100\n",
      "stop episode because agent reach goal\n",
      "diff Qtable_N - Qtable_N-1  0.061037338537059505\n",
      "Loss : -6.509978321486641\n",
      "end while loop iteration :  13\n",
      "Episode 297/1000\n",
      "exploration_prob : 0.100\n",
      "No action possible. Stop episode at 16th iterations\n",
      "Save last state even is out of bound\n",
      "diff Qtable_N - Qtable_N-1  3.152720449751883\n",
      "Loss : -40.41411143131685\n",
      "end while loop iteration :  16\n",
      "Episode 298/1000\n",
      "exploration_prob : 0.100\n",
      "No action possible. Stop episode at 8th iterations\n",
      "Save last state even is out of bound\n",
      "Q table still growths\n",
      "Loss : -114.98621548384902\n",
      "end while loop iteration :  8\n",
      "Episode 299/1000\n",
      "exploration_prob : 0.100\n",
      "stop episode because agent reach goal\n",
      "stop episode because agent reach goal\n",
      "No action possible. Stop episode at 27th iterations\n",
      "Save last state even is out of bound\n",
      "Q table still growths\n",
      "Loss : -144.0677519636007\n",
      "end while loop iteration :  27\n",
      "Episode 300/1000\n",
      "exploration_prob : 0.100\n",
      "No action possible. Stop episode at 6th iterations\n",
      "Save last state even is out of bound\n",
      "Q table still growths\n",
      "Loss : -132.84638058861896\n",
      "end while loop iteration :  6\n",
      "Episode 301/1000\n",
      "exploration_prob : 0.100\n",
      "stop episode because agent reach goal\n",
      "stop episode because agent reach goal\n",
      "Q table still growths\n",
      "Loss : -16.06236129423382\n",
      "end while loop iteration :  9\n",
      "Episode 302/1000\n",
      "exploration_prob : 0.100\n",
      "No action possible. Stop episode at 8th iterations\n",
      "Save last state even is out of bound\n",
      "diff Qtable_N - Qtable_N-1  0.48569995157968027\n",
      "Loss : -25.715254646038126\n",
      "end while loop iteration :  8\n",
      "Episode 303/1000\n",
      "exploration_prob : 0.100\n",
      "No action possible. Stop episode at 10th iterations\n",
      "Save last state even is out of bound\n",
      "Q table still growths\n",
      "Loss : -75.45244177207903\n",
      "end while loop iteration :  10\n",
      "Episode 304/1000\n",
      "exploration_prob : 0.100\n",
      "No action possible. Stop episode at 12th iterations\n",
      "Save last state even is out of bound\n",
      "diff Qtable_N - Qtable_N-1  0.6722473769961814\n",
      "Loss : -47.49737922275781\n",
      "end while loop iteration :  12\n",
      "Episode 305/1000\n",
      "exploration_prob : 0.100\n",
      "stop episode because agent reach goal\n",
      "diff Qtable_N - Qtable_N-1  0.02956552795946102\n",
      "Loss : -6.741719270622925\n",
      "end while loop iteration :  10\n",
      "Episode 306/1000\n",
      "exploration_prob : 0.100\n",
      "stop episode because agent reach goal\n",
      "diff Qtable_N - Qtable_N-1  1.2221745693010868\n",
      "Loss : -16.424892432476188\n",
      "end while loop iteration :  16\n",
      "Episode 307/1000\n",
      "exploration_prob : 0.100\n",
      "stop episode because agent reach goal\n",
      "stop episode because agent reach goal\n",
      "diff Qtable_N - Qtable_N-1  0.06916270995950129\n",
      "Loss : -8.578845788692632\n",
      "end while loop iteration :  12\n",
      "Episode 308/1000\n",
      "exploration_prob : 0.100\n",
      "No action possible. Stop episode at 23th iterations\n",
      "Save last state even is out of bound\n",
      "Q table still growths\n",
      "Loss : -56.79612766333551\n",
      "end while loop iteration :  23\n",
      "Episode 309/1000\n",
      "exploration_prob : 0.100\n",
      "No action possible. Stop episode at 5th iterations\n",
      "Save last state even is out of bound\n",
      "diff Qtable_N - Qtable_N-1  2.391220067779771\n",
      "Loss : -36.617742537529665\n",
      "end while loop iteration :  5\n",
      "Episode 310/1000\n",
      "exploration_prob : 0.100\n",
      "stop episode because agent reach goal\n",
      "diff Qtable_N - Qtable_N-1  0.05135214873069553\n",
      "Loss : -7.728279906554319\n",
      "end while loop iteration :  12\n",
      "Episode 311/1000\n",
      "exploration_prob : 0.100\n",
      "No action possible. Stop episode at 17th iterations\n",
      "Save last state even is out of bound\n",
      "Q table still growths\n",
      "Loss : -27.68373947733261\n",
      "end while loop iteration :  17\n",
      "Episode 312/1000\n",
      "exploration_prob : 0.100\n",
      "stop episode because agent reach goal\n",
      "stop episode because agent reach goal\n",
      "stop episode because agent reach goal\n",
      "Q table still growths\n",
      "Loss : -27.75604321875696\n",
      "end while loop iteration :  19\n",
      "Episode 313/1000\n",
      "exploration_prob : 0.100\n",
      "No action possible. Stop episode at 26th iterations\n",
      "Save last state even is out of bound\n",
      "Q table still growths\n",
      "Loss : -178.20846965272412\n",
      "end while loop iteration :  26\n",
      "Episode 314/1000\n",
      "exploration_prob : 0.100\n",
      "No action possible. Stop episode at 9th iterations\n",
      "Save last state even is out of bound\n",
      "diff Qtable_N - Qtable_N-1  0.7109164632637799\n",
      "Loss : -32.2621538780508\n",
      "end while loop iteration :  9\n",
      "Episode 315/1000\n",
      "exploration_prob : 0.100\n",
      "stop episode because agent reach goal\n",
      "Q table still growths\n",
      "Loss : -7.369110355166569\n",
      "end while loop iteration :  16\n",
      "Episode 316/1000\n",
      "exploration_prob : 0.100\n",
      "No action possible. Stop episode at 21th iterations\n",
      "Save last state even is out of bound\n",
      "diff Qtable_N - Qtable_N-1  4.946278451991304\n",
      "Loss : -57.468731003810724\n",
      "end while loop iteration :  21\n",
      "Episode 317/1000\n",
      "exploration_prob : 0.100\n",
      "No action possible. Stop episode at 22th iterations\n",
      "Save last state even is out of bound\n",
      "diff Qtable_N - Qtable_N-1  2.6158800548166923\n",
      "Loss : -64.36398633528793\n",
      "end while loop iteration :  22\n",
      "Episode 318/1000\n",
      "exploration_prob : 0.100\n",
      "No action possible. Stop episode at 29th iterations\n",
      "Save last state even is out of bound\n",
      "Q table still growths\n",
      "Loss : -49.35470765665871\n",
      "end while loop iteration :  29\n",
      "Episode 319/1000\n",
      "exploration_prob : 0.100\n",
      "stop episode because agent reach goal\n",
      "stop episode because agent reach goal\n",
      "Q table still growths\n",
      "Loss : -10.243153880317214\n",
      "end while loop iteration :  23\n",
      "Episode 320/1000\n",
      "exploration_prob : 0.100\n",
      "stop episode because agent reach goal\n",
      "stop episode because agent reach goal\n",
      "stop episode because agent reach goal\n",
      "Q table still growths\n",
      "Loss : -114.56295684017519\n",
      "end while loop iteration :  31\n",
      "Episode 321/1000\n",
      "exploration_prob : 0.100\n",
      "No action possible. Stop episode at 17th iterations\n",
      "Save last state even is out of bound\n",
      "diff Qtable_N - Qtable_N-1  0.033664043002904806\n",
      "Loss : -32.63825037360092\n",
      "end while loop iteration :  17\n",
      "Episode 322/1000\n",
      "exploration_prob : 0.100\n",
      "No action possible. Stop episode at 2th iterations\n",
      "Save last state even is out of bound\n",
      "diff Qtable_N - Qtable_N-1  0.21677484252007262\n",
      "Loss : -10.749946442630739\n",
      "end while loop iteration :  2\n",
      "Episode 323/1000\n",
      "exploration_prob : 0.100\n",
      "No action possible. Stop episode at 15th iterations\n",
      "Save last state even is out of bound\n",
      "Q table still growths\n",
      "Loss : -49.43245008011819\n",
      "end while loop iteration :  15\n",
      "Episode 324/1000\n",
      "exploration_prob : 0.100\n",
      "No action possible. Stop episode at 20th iterations\n",
      "Save last state even is out of bound\n",
      "Q table still growths\n",
      "Loss : -79.55721825181242\n",
      "end while loop iteration :  20\n",
      "Episode 325/1000\n",
      "exploration_prob : 0.100\n",
      "stop episode because agent reach goal\n",
      "No action possible. Stop episode at 48th iterations\n",
      "Save last state even is out of bound\n",
      "Q table still growths\n",
      "Loss : -181.5854202217995\n",
      "end while loop iteration :  48\n",
      "Episode 326/1000\n",
      "exploration_prob : 0.100\n",
      "No action possible. Stop episode at 17th iterations\n",
      "Save last state even is out of bound\n",
      "diff Qtable_N - Qtable_N-1  8.721000616088922\n",
      "Loss : -53.55220947645051\n",
      "end while loop iteration :  17\n",
      "Episode 327/1000\n",
      "exploration_prob : 0.100\n",
      "stop episode because agent reach goal\n",
      "stop episode because agent reach goal\n",
      "stop episode because agent reach goal\n",
      "Q table still growths\n",
      "Loss : -10.389392600816917\n",
      "end while loop iteration :  14\n",
      "Episode 328/1000\n",
      "exploration_prob : 0.100\n",
      "stop episode because agent reach goal\n",
      "stop episode because agent reach goal\n",
      "Q table still growths\n",
      "Loss : -18.501936691939456\n",
      "end while loop iteration :  8\n",
      "Episode 329/1000\n",
      "exploration_prob : 0.100\n",
      "No action possible. Stop episode at 15th iterations\n",
      "Save last state even is out of bound\n",
      "diff Qtable_N - Qtable_N-1  21.776626896629665\n",
      "Loss : -101.48654906350768\n",
      "end while loop iteration :  15\n",
      "Episode 330/1000\n",
      "exploration_prob : 0.100\n",
      "No action possible. Stop episode at 12th iterations\n",
      "Save last state even is out of bound\n",
      "diff Qtable_N - Qtable_N-1  0.643945441426664\n",
      "Loss : -40.22159595211193\n",
      "end while loop iteration :  12\n",
      "Episode 331/1000\n",
      "exploration_prob : 0.100\n",
      "No action possible. Stop episode at 14th iterations\n",
      "Save last state even is out of bound\n",
      "Q table still growths\n",
      "Loss : -39.573125211795414\n",
      "end while loop iteration :  14\n",
      "Episode 332/1000\n",
      "exploration_prob : 0.100\n",
      "No action possible. Stop episode at 9th iterations\n",
      "Save last state even is out of bound\n",
      "Q table still growths\n",
      "Loss : -54.828818545448755\n",
      "end while loop iteration :  9\n",
      "Episode 333/1000\n",
      "exploration_prob : 0.100\n",
      "No action possible. Stop episode at 37th iterations\n",
      "Save last state even is out of bound\n",
      "Q table still growths\n",
      "Loss : -322.6097494307044\n",
      "end while loop iteration :  37\n",
      "Episode 334/1000\n",
      "exploration_prob : 0.100\n",
      "stop episode because agent reach goal\n",
      "stop episode because agent reach goal\n",
      "diff Qtable_N - Qtable_N-1  0.06376064571131182\n",
      "Loss : -21.486994192924037\n",
      "end while loop iteration :  13\n",
      "Episode 335/1000\n",
      "exploration_prob : 0.100\n",
      "stop episode because agent reach goal\n",
      "stop episode because agent reach goal\n",
      "diff Qtable_N - Qtable_N-1  0.7497524289121509\n",
      "Loss : -19.61498381673092\n",
      "end while loop iteration :  18\n",
      "Episode 336/1000\n",
      "exploration_prob : 0.100\n",
      "No action possible. Stop episode at 16th iterations\n",
      "Save last state even is out of bound\n",
      "diff Qtable_N - Qtable_N-1  3.05767824665776\n",
      "Loss : -23.03929888554257\n",
      "end while loop iteration :  16\n",
      "Episode 337/1000\n",
      "exploration_prob : 0.100\n",
      "stop episode because agent reach goal\n",
      "diff Qtable_N - Qtable_N-1  0.06433693206950754\n",
      "Loss : -8.84513794529988\n",
      "end while loop iteration :  16\n",
      "Episode 338/1000\n",
      "exploration_prob : 0.100\n",
      "stop episode because agent reach goal\n",
      "stop episode because agent reach goal\n",
      "Q table still growths\n",
      "Loss : -77.45510385967825\n",
      "end while loop iteration :  20\n",
      "Episode 339/1000\n",
      "exploration_prob : 0.100\n",
      "No action possible. Stop episode at 15th iterations\n",
      "Save last state even is out of bound\n",
      "diff Qtable_N - Qtable_N-1  21.637888912962772\n",
      "Loss : -103.58889352509158\n",
      "end while loop iteration :  15\n",
      "Episode 340/1000\n",
      "exploration_prob : 0.100\n",
      "stop episode because agent reach goal\n",
      "diff Qtable_N - Qtable_N-1  0.01663680984805646\n",
      "Loss : -6.509978321486641\n",
      "end while loop iteration :  13\n",
      "Episode 341/1000\n",
      "exploration_prob : 0.100\n",
      "No action possible. Stop episode at 9th iterations\n",
      "Save last state even is out of bound\n",
      "diff Qtable_N - Qtable_N-1  0.6864795983296764\n",
      "Loss : -32.40875483570993\n",
      "end while loop iteration :  9\n",
      "Episode 342/1000\n",
      "exploration_prob : 0.100\n",
      "stop episode because agent reach goal\n",
      "stop episode because agent reach goal\n",
      "Q table still growths\n",
      "Loss : -12.724891684638692\n",
      "end while loop iteration :  16\n",
      "Episode 343/1000\n",
      "exploration_prob : 0.100\n",
      "stop episode because agent reach goal\n",
      "stop episode because agent reach goal\n",
      "stop episode because agent reach goal\n",
      "Q table still growths\n",
      "Loss : -89.5218487273919\n",
      "end while loop iteration :  25\n",
      "Episode 344/1000\n",
      "exploration_prob : 0.100\n",
      "No action possible. Stop episode at 14th iterations\n",
      "Save last state even is out of bound\n",
      "diff Qtable_N - Qtable_N-1  0.4023581695256548\n",
      "Loss : -21.684595518231536\n",
      "end while loop iteration :  14\n",
      "Episode 345/1000\n",
      "exploration_prob : 0.100\n",
      "stop episode because agent reach goal\n",
      "stop episode because agent reach goal\n",
      "Q table still growths\n",
      "Loss : -9.287503316136489\n",
      "end while loop iteration :  21\n",
      "Episode 346/1000\n",
      "exploration_prob : 0.100\n",
      "No action possible. Stop episode at 2th iterations\n",
      "Save last state even is out of bound\n",
      "diff Qtable_N - Qtable_N-1  0.67962914585293\n",
      "Loss : -15.145059027596101\n",
      "end while loop iteration :  2\n",
      "Episode 347/1000\n",
      "exploration_prob : 0.100\n",
      "No action possible. Stop episode at 9th iterations\n",
      "Save last state even is out of bound\n",
      "diff Qtable_N - Qtable_N-1  3.148428257874251\n",
      "Loss : -91.34296264013987\n",
      "end while loop iteration :  9\n",
      "Episode 348/1000\n",
      "exploration_prob : 0.100\n",
      "No action possible. Stop episode at 10th iterations\n",
      "Save last state even is out of bound\n",
      "diff Qtable_N - Qtable_N-1  1.0594055832559446\n",
      "Loss : -54.84521328365276\n",
      "end while loop iteration :  10\n",
      "Episode 349/1000\n",
      "exploration_prob : 0.100\n",
      "No action possible. Stop episode at 18th iterations\n",
      "Save last state even is out of bound\n",
      "diff Qtable_N - Qtable_N-1  5.562391458724443\n",
      "Loss : -30.01711512091137\n",
      "end while loop iteration :  18\n",
      "Episode 350/1000\n",
      "exploration_prob : 0.100\n",
      "stop episode because agent reach goal\n",
      "diff Qtable_N - Qtable_N-1  0.047863978032583576\n",
      "Loss : -7.728279906554319\n",
      "end while loop iteration :  12\n",
      "Episode 351/1000\n",
      "exploration_prob : 0.100\n",
      "No action possible. Stop episode at 19th iterations\n",
      "Save last state even is out of bound\n",
      "diff Qtable_N - Qtable_N-1  6.324067456516463\n",
      "Loss : -79.78766836739518\n",
      "end while loop iteration :  19\n",
      "Episode 352/1000\n",
      "exploration_prob : 0.100\n",
      "No action possible. Stop episode at 16th iterations\n",
      "Save last state even is out of bound\n",
      "diff Qtable_N - Qtable_N-1  3.1537056873034333\n",
      "Loss : -28.224325133924513\n",
      "end while loop iteration :  16\n",
      "Episode 353/1000\n",
      "exploration_prob : 0.100\n",
      "No action possible. Stop episode at 21th iterations\n",
      "Save last state even is out of bound\n",
      "Q table still growths\n",
      "Loss : -154.2449604260724\n",
      "end while loop iteration :  21\n",
      "Episode 354/1000\n",
      "exploration_prob : 0.100\n",
      "stop episode because agent reach goal\n",
      "diff Qtable_N - Qtable_N-1  0.02660897516351493\n",
      "Loss : -6.741719270622925\n",
      "end while loop iteration :  10\n",
      "Episode 355/1000\n",
      "exploration_prob : 0.100\n",
      "No action possible. Stop episode at 18th iterations\n",
      "Save last state even is out of bound\n",
      "diff Qtable_N - Qtable_N-1  25.16136868334578\n",
      "Loss : -126.34210611921641\n",
      "end while loop iteration :  18\n",
      "Episode 356/1000\n",
      "exploration_prob : 0.100\n",
      "No action possible. Stop episode at 12th iterations\n",
      "Save last state even is out of bound\n",
      "diff Qtable_N - Qtable_N-1  0.3759860950160612\n",
      "Loss : -29.765786882314423\n",
      "end while loop iteration :  12\n",
      "Episode 357/1000\n",
      "exploration_prob : 0.100\n",
      "No action possible. Stop episode at 11th iterations\n",
      "Save last state even is out of bound\n",
      "Q table still growths\n",
      "Loss : -62.79029070246125\n",
      "end while loop iteration :  11\n",
      "Episode 358/1000\n",
      "exploration_prob : 0.100\n",
      "No action possible. Stop episode at 22th iterations\n",
      "Save last state even is out of bound\n",
      "diff Qtable_N - Qtable_N-1  13.605478438033828\n",
      "Loss : -84.78895255334496\n",
      "end while loop iteration :  22\n",
      "Episode 359/1000\n",
      "exploration_prob : 0.100\n",
      "No action possible. Stop episode at 23th iterations\n",
      "Save last state even is out of bound\n",
      "Q table still growths\n",
      "Loss : -196.76035044012616\n",
      "end while loop iteration :  23\n",
      "Episode 360/1000\n",
      "exploration_prob : 0.100\n",
      "stop episode because agent reach goal\n",
      "diff Qtable_N - Qtable_N-1  0.04188069933805855\n",
      "Loss : -10.545237745914482\n",
      "end while loop iteration :  12\n",
      "Episode 361/1000\n",
      "exploration_prob : 0.100\n",
      "stop episode because agent reach goal\n",
      "diff Qtable_N - Qtable_N-1  0.05790966486326865\n",
      "Loss : -8.263175148184366\n",
      "end while loop iteration :  16\n",
      "Episode 362/1000\n",
      "exploration_prob : 0.100\n",
      "No action possible. Stop episode at 20th iterations\n",
      "Save last state even is out of bound\n",
      "diff Qtable_N - Qtable_N-1  40.9900909166987\n",
      "Loss : -201.34555103283373\n",
      "end while loop iteration :  20\n",
      "Episode 363/1000\n",
      "exploration_prob : 0.100\n",
      "No action possible. Stop episode at 11th iterations\n",
      "Save last state even is out of bound\n",
      "diff Qtable_N - Qtable_N-1  0.6816806288911883\n",
      "Loss : -38.77359552856994\n",
      "end while loop iteration :  11\n",
      "Episode 364/1000\n",
      "exploration_prob : 0.100\n",
      "stop episode because agent reach goal\n",
      "diff Qtable_N - Qtable_N-1  0.023948077647163418\n",
      "Loss : -6.741719270622925\n",
      "end while loop iteration :  10\n",
      "Episode 365/1000\n",
      "exploration_prob : 0.100\n",
      "stop episode because agent reach goal\n",
      "diff Qtable_N - Qtable_N-1  0.05210853890461983\n",
      "Loss : -8.46245710526877\n",
      "end while loop iteration :  16\n",
      "Episode 366/1000\n",
      "exploration_prob : 0.100\n",
      "No action possible. Stop episode at 9th iterations\n",
      "Save last state even is out of bound\n",
      "diff Qtable_N - Qtable_N-1  12.963095258472274\n",
      "Loss : -58.099135077080675\n",
      "end while loop iteration :  9\n",
      "Episode 367/1000\n",
      "exploration_prob : 0.100\n",
      "No action possible. Stop episode at 21th iterations\n",
      "Save last state even is out of bound\n",
      "diff Qtable_N - Qtable_N-1  4.849007872020021\n",
      "Loss : -109.83036494788813\n",
      "end while loop iteration :  21\n",
      "Episode 368/1000\n",
      "exploration_prob : 0.100\n",
      "stop episode because agent reach goal\n",
      "diff Qtable_N - Qtable_N-1  0.04694650989387858\n",
      "Loss : -7.369110355166569\n",
      "end while loop iteration :  16\n",
      "Episode 369/1000\n",
      "exploration_prob : 0.100\n",
      "No action possible. Stop episode at 18th iterations\n",
      "Save last state even is out of bound\n",
      "diff Qtable_N - Qtable_N-1  24.5315178658324\n",
      "Loss : -127.60513169643932\n",
      "end while loop iteration :  18\n",
      "Episode 370/1000\n",
      "exploration_prob : 0.100\n",
      "stop episode because agent reach goal\n",
      "stop episode because agent reach goal\n",
      "diff Qtable_N - Qtable_N-1  0.4572420853579516\n",
      "Loss : -59.56837384694425\n",
      "end while loop iteration :  27\n",
      "Episode 371/1000\n",
      "exploration_prob : 0.100\n",
      "No action possible. Stop episode at 15th iterations\n",
      "Save last state even is out of bound\n",
      "diff Qtable_N - Qtable_N-1  5.338244737901597\n",
      "Loss : -25.672624285686815\n",
      "end while loop iteration :  15\n",
      "Episode 372/1000\n",
      "exploration_prob : 0.100\n",
      "stop episode because agent reach goal\n",
      "stop episode because agent reach goal\n",
      "Q table still growths\n",
      "Loss : -24.106967501393502\n",
      "end while loop iteration :  36\n",
      "Episode 373/1000\n",
      "exploration_prob : 0.100\n",
      "No action possible. Stop episode at 8th iterations\n",
      "Save last state even is out of bound\n",
      "Q table still growths\n",
      "Loss : -15.322478548869963\n",
      "end while loop iteration :  8\n",
      "Episode 374/1000\n",
      "exploration_prob : 0.100\n",
      "No action possible. Stop episode at 11th iterations\n",
      "Save last state even is out of bound\n",
      "diff Qtable_N - Qtable_N-1  25.467331188845716\n",
      "Loss : -115.63235369350254\n",
      "end while loop iteration :  11\n",
      "Episode 375/1000\n",
      "exploration_prob : 0.100\n",
      "No action possible. Stop episode at 7th iterations\n",
      "Save last state even is out of bound\n",
      "Q table still growths\n",
      "Loss : -341.4948511646539\n",
      "end while loop iteration :  7\n",
      "Episode 376/1000\n",
      "exploration_prob : 0.100\n",
      "No action possible. Stop episode at 9th iterations\n",
      "Save last state even is out of bound\n",
      "diff Qtable_N - Qtable_N-1  0.6919426803672906\n",
      "Loss : -38.55927714666829\n",
      "end while loop iteration :  9\n",
      "Episode 377/1000\n",
      "exploration_prob : 0.100\n",
      "No action possible. Stop episode at 12th iterations\n",
      "Save last state even is out of bound\n",
      "diff Qtable_N - Qtable_N-1  0.6503688834601212\n",
      "Loss : -36.55171743884447\n",
      "end while loop iteration :  12\n",
      "Episode 378/1000\n",
      "exploration_prob : 0.100\n",
      "stop episode because agent reach goal\n",
      "stop episode because agent reach goal\n",
      "No action possible. Stop episode at 67th iterations\n",
      "Save last state even is out of bound\n",
      "Q table still growths\n",
      "Loss : -287.74427102829355\n",
      "end while loop iteration :  67\n",
      "Episode 379/1000\n",
      "exploration_prob : 0.100\n",
      "stop episode because agent reach goal\n",
      "diff Qtable_N - Qtable_N-1  0.01508582990126292\n",
      "Loss : -7.104091616131929\n",
      "end while loop iteration :  13\n",
      "Episode 380/1000\n",
      "exploration_prob : 0.100\n",
      "stop episode because agent reach goal\n",
      "diff Qtable_N - Qtable_N-1  0.0215532698824471\n",
      "Loss : -6.741719270622925\n",
      "end while loop iteration :  10\n",
      "Episode 381/1000\n",
      "exploration_prob : 0.100\n",
      "No action possible. Stop episode at 14th iterations\n",
      "Save last state even is out of bound\n",
      "diff Qtable_N - Qtable_N-1  0.4320383924220882\n",
      "Loss : -38.142986854269104\n",
      "end while loop iteration :  14\n",
      "Episode 382/1000\n",
      "exploration_prob : 0.100\n",
      "No action possible. Stop episode at 14th iterations\n",
      "Save last state even is out of bound\n",
      "Q table still growths\n",
      "Loss : -250.47690697578912\n",
      "end while loop iteration :  14\n",
      "Episode 383/1000\n",
      "exploration_prob : 0.100\n",
      "No action possible. Stop episode at 10th iterations\n",
      "Save last state even is out of bound\n",
      "diff Qtable_N - Qtable_N-1  0.38588473685234637\n",
      "Loss : -24.63500736357979\n",
      "end while loop iteration :  10\n",
      "Episode 384/1000\n",
      "exploration_prob : 0.100\n",
      "stop episode because agent reach goal\n",
      "stop episode because agent reach goal\n",
      "Q table still growths\n",
      "Loss : -12.997282801974617\n",
      "end while loop iteration :  22\n",
      "Episode 385/1000\n",
      "exploration_prob : 0.100\n",
      "No action possible. Stop episode at 18th iterations\n",
      "Save last state even is out of bound\n",
      "diff Qtable_N - Qtable_N-1  5.152515907196506\n",
      "Loss : -47.78909863200172\n",
      "end while loop iteration :  18\n",
      "Episode 386/1000\n",
      "exploration_prob : 0.100\n",
      "No action possible. Stop episode at 6th iterations\n",
      "Save last state even is out of bound\n",
      "Q table still growths\n",
      "Loss : -38.82183899995777\n",
      "end while loop iteration :  6\n",
      "Episode 387/1000\n",
      "exploration_prob : 0.100\n",
      "stop episode because agent reach goal\n",
      "stop episode because agent reach goal\n",
      "diff Qtable_N - Qtable_N-1  0.06370561279603058\n",
      "Loss : -11.995634709375603\n",
      "end while loop iteration :  15\n",
      "Episode 388/1000\n",
      "exploration_prob : 0.100\n",
      "No action possible. Stop episode at 23th iterations\n",
      "Save last state even is out of bound\n",
      "Q table still growths\n",
      "Loss : -87.63109109808764\n",
      "end while loop iteration :  23\n",
      "Episode 389/1000\n",
      "exploration_prob : 0.100\n",
      "No action possible. Stop episode at 24th iterations\n",
      "Save last state even is out of bound\n",
      "Q table still growths\n",
      "Loss : -69.54902749774641\n",
      "end while loop iteration :  24\n",
      "Episode 390/1000\n",
      "exploration_prob : 0.100\n",
      "No action possible. Stop episode at 24th iterations\n",
      "Save last state even is out of bound\n",
      "Q table still growths\n",
      "Loss : -50.77246710963094\n",
      "end while loop iteration :  24\n",
      "Episode 391/1000\n",
      "exploration_prob : 0.100\n",
      "No action possible. Stop episode at 19th iterations\n",
      "Save last state even is out of bound\n",
      "diff Qtable_N - Qtable_N-1  3.037891664687362\n",
      "Loss : -43.58042216058316\n",
      "end while loop iteration :  19\n",
      "Episode 392/1000\n",
      "exploration_prob : 0.100\n",
      "No action possible. Stop episode at 10th iterations\n",
      "Save last state even is out of bound\n",
      "diff Qtable_N - Qtable_N-1  4.820395268019093\n",
      "Loss : -84.58363591846597\n",
      "end while loop iteration :  10\n",
      "Episode 393/1000\n",
      "exploration_prob : 0.100\n",
      "No action possible. Stop episode at 12th iterations\n",
      "Save last state even is out of bound\n",
      "Q table still growths\n",
      "Loss : -406.1698208285976\n",
      "end while loop iteration :  12\n",
      "Episode 394/1000\n",
      "exploration_prob : 0.100\n",
      "stop episode because agent reach goal\n",
      "diff Qtable_N - Qtable_N-1  0.01367944278656455\n",
      "Loss : -6.509978321486641\n",
      "end while loop iteration :  13\n",
      "Episode 395/1000\n",
      "exploration_prob : 0.100\n",
      "No action possible. Stop episode at 10th iterations\n",
      "Save last state even is out of bound\n",
      "diff Qtable_N - Qtable_N-1  8.720387002089437\n",
      "Loss : -42.02983339527957\n",
      "end while loop iteration :  10\n",
      "Episode 396/1000\n",
      "exploration_prob : 0.100\n",
      "stop episode because agent reach goal\n",
      "No action possible. Stop episode at 36th iterations\n",
      "Save last state even is out of bound\n",
      "Q table still growths\n",
      "Loss : -141.23142944631468\n",
      "end while loop iteration :  36\n",
      "Episode 397/1000\n",
      "exploration_prob : 0.100\n",
      "No action possible. Stop episode at 11th iterations\n",
      "Save last state even is out of bound\n",
      "Q table still growths\n",
      "Loss : -38.283882962846185\n",
      "end while loop iteration :  11\n",
      "Episode 398/1000\n",
      "exploration_prob : 0.100\n",
      "No action possible. Stop episode at 14th iterations\n",
      "Save last state even is out of bound\n",
      "Q table still growths\n",
      "Loss : -48.642654492457794\n",
      "end while loop iteration :  14\n",
      "Episode 399/1000\n",
      "exploration_prob : 0.100\n",
      "No action possible. Stop episode at 7th iterations\n",
      "Save last state even is out of bound\n",
      "diff Qtable_N - Qtable_N-1  1.2414915365017773\n",
      "Loss : -58.52574870173118\n",
      "end while loop iteration :  7\n",
      "Episode 400/1000\n",
      "exploration_prob : 0.100\n",
      "No action possible. Stop episode at 39th iterations\n",
      "Save last state even is out of bound\n",
      "Q table still growths\n",
      "Loss : -130.96792144690758\n",
      "end while loop iteration :  39\n",
      "Episode 401/1000\n",
      "exploration_prob : 0.100\n",
      "No action possible. Stop episode at 9th iterations\n",
      "Save last state even is out of bound\n",
      "Q table still growths\n",
      "Loss : -10.723179447257555\n",
      "end while loop iteration :  9\n",
      "Episode 402/1000\n",
      "exploration_prob : 0.100\n",
      "stop episode because agent reach goal\n",
      "stop episode because agent reach goal\n",
      "Q table still growths\n",
      "Loss : -15.765243447485549\n",
      "end while loop iteration :  20\n",
      "Episode 403/1000\n",
      "exploration_prob : 0.100\n",
      "stop episode because agent reach goal\n",
      "Q table still growths\n",
      "Loss : -43.65099797463874\n",
      "end while loop iteration :  19\n",
      "Episode 404/1000\n",
      "exploration_prob : 0.100\n",
      "No action possible. Stop episode at 3th iterations\n",
      "Save last state even is out of bound\n",
      "diff Qtable_N - Qtable_N-1  0.31390337261083745\n",
      "Loss : -14.29134639316939\n",
      "end while loop iteration :  3\n",
      "Episode 405/1000\n",
      "exploration_prob : 0.100\n",
      "stop episode because agent reach goal\n",
      "diff Qtable_N - Qtable_N-1  0.04173727229161425\n",
      "Loss : -7.728279906554319\n",
      "end while loop iteration :  12\n",
      "Episode 406/1000\n",
      "exploration_prob : 0.100\n",
      "No action possible. Stop episode at 10th iterations\n",
      "Save last state even is out of bound\n",
      "diff Qtable_N - Qtable_N-1  1.0894564197874814\n",
      "Loss : -49.357542449680835\n",
      "end while loop iteration :  10\n",
      "Episode 407/1000\n",
      "exploration_prob : 0.100\n",
      "No action possible. Stop episode at 13th iterations\n",
      "Save last state even is out of bound\n",
      "diff Qtable_N - Qtable_N-1  0.03796593660647852\n",
      "Loss : -25.178624454452844\n",
      "end while loop iteration :  13\n",
      "Episode 408/1000\n",
      "exploration_prob : 0.100\n",
      "stop episode because agent reach goal\n",
      "diff Qtable_N - Qtable_N-1  0.01939794289420238\n",
      "Loss : -6.741719270622925\n",
      "end while loop iteration :  10\n",
      "Episode 409/1000\n",
      "exploration_prob : 0.100\n",
      "No action possible. Stop episode at 13th iterations\n",
      "Save last state even is out of bound\n",
      "Q table still growths\n",
      "Loss : -128.73048832089705\n",
      "end while loop iteration :  13\n",
      "Episode 410/1000\n",
      "exploration_prob : 0.100\n",
      "No action possible. Stop episode at 20th iterations\n",
      "Save last state even is out of bound\n",
      "Q table still growths\n",
      "Loss : -234.8880996765052\n",
      "end while loop iteration :  20\n",
      "Episode 411/1000\n",
      "exploration_prob : 0.100\n",
      "stop episode because agent reach goal\n",
      "diff Qtable_N - Qtable_N-1  0.05633728305115848\n",
      "Loss : -15.55946627683107\n",
      "end while loop iteration :  12\n",
      "Episode 412/1000\n",
      "exploration_prob : 0.100\n",
      "No action possible. Stop episode at 10th iterations\n",
      "Save last state even is out of bound\n",
      "diff Qtable_N - Qtable_N-1  8.893601770837\n",
      "Loss : -56.39906548308559\n",
      "end while loop iteration :  10\n",
      "Episode 413/1000\n",
      "exploration_prob : 0.100\n",
      "No action possible. Stop episode at 11th iterations\n",
      "Save last state even is out of bound\n",
      "Q table still growths\n",
      "Loss : -12.131431998465636\n",
      "end while loop iteration :  11\n",
      "Episode 414/1000\n",
      "exploration_prob : 0.100\n",
      "stop episode because agent reach goal\n",
      "stop episode because agent reach goal\n",
      "Q table still growths\n",
      "Loss : -61.23316145039488\n",
      "end while loop iteration :  38\n",
      "Episode 415/1000\n",
      "exploration_prob : 0.100\n",
      "No action possible. Stop episode at 23th iterations\n",
      "Save last state even is out of bound\n",
      "Q table still growths\n",
      "Loss : -220.1319349878234\n",
      "end while loop iteration :  23\n",
      "Episode 416/1000\n",
      "exploration_prob : 0.100\n",
      "No action possible. Stop episode at 13th iterations\n",
      "Save last state even is out of bound\n",
      "diff Qtable_N - Qtable_N-1  4.855233801807337\n",
      "Loss : -160.08036474297046\n",
      "end while loop iteration :  13\n",
      "Episode 417/1000\n",
      "exploration_prob : 0.100\n",
      "No action possible. Stop episode at 13th iterations\n",
      "Save last state even is out of bound\n",
      "diff Qtable_N - Qtable_N-1  0.43211572373642637\n",
      "Loss : -31.44500028715502\n",
      "end while loop iteration :  13\n",
      "Episode 418/1000\n",
      "exploration_prob : 0.100\n",
      "stop episode because agent reach goal\n",
      "diff Qtable_N - Qtable_N-1  0.03843165070918932\n",
      "Loss : -15.32088893897128\n",
      "end while loop iteration :  20\n",
      "Episode 419/1000\n",
      "exploration_prob : 0.100\n",
      "stop episode because agent reach goal\n",
      "No action possible. Stop episode at 34th iterations\n",
      "Save last state even is out of bound\n",
      "Q table still growths\n",
      "Loss : -122.20999335443364\n",
      "end while loop iteration :  34\n",
      "Episode 420/1000\n",
      "exploration_prob : 0.100\n",
      "stop episode because agent reach goal\n",
      "diff Qtable_N - Qtable_N-1  0.017458148604782148\n",
      "Loss : -6.741719270622925\n",
      "end while loop iteration :  10\n",
      "Episode 421/1000\n",
      "exploration_prob : 0.100\n",
      "No action possible. Stop episode at 16th iterations\n",
      "Save last state even is out of bound\n",
      "diff Qtable_N - Qtable_N-1  59.49243509163412\n",
      "Loss : -275.60343611945564\n",
      "end while loop iteration :  16\n",
      "Episode 422/1000\n",
      "exploration_prob : 0.100\n",
      "No action possible. Stop episode at 15th iterations\n",
      "Save last state even is out of bound\n",
      "diff Qtable_N - Qtable_N-1  4.93399733093002\n",
      "Loss : -25.38145051287106\n",
      "end while loop iteration :  15\n",
      "Episode 423/1000\n",
      "exploration_prob : 0.100\n",
      "No action possible. Stop episode at 20th iterations\n",
      "Save last state even is out of bound\n",
      "diff Qtable_N - Qtable_N-1  3.561328304471343\n",
      "Loss : -47.52592131574467\n",
      "end while loop iteration :  20\n",
      "Episode 424/1000\n",
      "exploration_prob : 0.100\n",
      "No action possible. Stop episode at 22th iterations\n",
      "Save last state even is out of bound\n",
      "diff Qtable_N - Qtable_N-1  65.4381080369119\n",
      "Loss : -383.00794199922603\n",
      "end while loop iteration :  22\n",
      "Episode 425/1000\n",
      "exploration_prob : 0.100\n",
      "No action possible. Stop episode at 19th iterations\n",
      "Save last state even is out of bound\n",
      "Q table still growths\n",
      "Loss : -68.22148661913339\n",
      "end while loop iteration :  19\n",
      "Episode 426/1000\n",
      "exploration_prob : 0.100\n",
      "stop episode because agent reach goal\n",
      "diff Qtable_N - Qtable_N-1  0.015712333744303947\n",
      "Loss : -6.741719270622925\n",
      "end while loop iteration :  10\n",
      "Episode 427/1000\n",
      "exploration_prob : 0.100\n",
      "No action possible. Stop episode at 16th iterations\n",
      "Save last state even is out of bound\n",
      "diff Qtable_N - Qtable_N-1  13.909627431649916\n",
      "Loss : -78.71870527762253\n",
      "end while loop iteration :  16\n",
      "Episode 428/1000\n",
      "exploration_prob : 0.100\n",
      "stop episode because agent reach goal\n",
      "stop episode because agent reach goal\n",
      "Q table still growths\n",
      "Loss : -15.794222607282084\n",
      "end while loop iteration :  13\n",
      "Episode 429/1000\n",
      "exploration_prob : 0.100\n",
      "No action possible. Stop episode at 10th iterations\n",
      "Save last state even is out of bound\n",
      "diff Qtable_N - Qtable_N-1  1.0795847315672358\n",
      "Loss : -54.32962190462227\n",
      "end while loop iteration :  10\n",
      "Episode 430/1000\n",
      "exploration_prob : 0.100\n",
      "No action possible. Stop episode at 25th iterations\n",
      "Save last state even is out of bound\n",
      "Q table still growths\n",
      "Loss : -73.82466410370887\n",
      "end while loop iteration :  25\n",
      "Episode 431/1000\n",
      "exploration_prob : 0.100\n",
      "No action possible. Stop episode at 6th iterations\n",
      "Save last state even is out of bound\n",
      "diff Qtable_N - Qtable_N-1  0.8102642899638939\n",
      "Loss : -40.59163148900463\n",
      "end while loop iteration :  6\n",
      "Episode 432/1000\n",
      "exploration_prob : 0.100\n",
      "No action possible. Stop episode at 26th iterations\n",
      "Save last state even is out of bound\n",
      "diff Qtable_N - Qtable_N-1  31.458320471415625\n",
      "Loss : -171.04687660881876\n",
      "end while loop iteration :  26\n",
      "Episode 433/1000\n",
      "exploration_prob : 0.100\n",
      "No action possible. Stop episode at 19th iterations\n",
      "Save last state even is out of bound\n",
      "Q table still growths\n",
      "Loss : -69.69814824597147\n",
      "end while loop iteration :  19\n",
      "Episode 434/1000\n",
      "exploration_prob : 0.100\n",
      "No action possible. Stop episode at 3th iterations\n",
      "Save last state even is out of bound\n",
      "diff Qtable_N - Qtable_N-1  0.3475729974998528\n",
      "Loss : -15.110865159432858\n",
      "end while loop iteration :  3\n",
      "Episode 435/1000\n",
      "exploration_prob : 0.100\n",
      "No action possible. Stop episode at 15th iterations\n",
      "Save last state even is out of bound\n",
      "Q table still growths\n",
      "Loss : -59.51201005861858\n",
      "end while loop iteration :  15\n",
      "Episode 436/1000\n",
      "exploration_prob : 0.100\n",
      "stop episode because agent reach goal\n",
      "stop episode because agent reach goal\n",
      "Q table still growths\n",
      "Loss : -7.909375919758795\n",
      "end while loop iteration :  14\n",
      "Episode 437/1000\n",
      "exploration_prob : 0.100\n",
      "stop episode because agent reach goal\n",
      "diff Qtable_N - Qtable_N-1  0.042251858904490736\n",
      "Loss : -7.369110355166569\n",
      "end while loop iteration :  16\n",
      "Episode 438/1000\n",
      "exploration_prob : 0.100\n",
      "stop episode because agent reach goal\n",
      "stop episode because agent reach goal\n",
      "Q table still growths\n",
      "Loss : -67.05722820303458\n",
      "end while loop iteration :  25\n",
      "Episode 439/1000\n",
      "exploration_prob : 0.100\n",
      "stop episode because agent reach goal\n",
      "No action possible. Stop episode at 25th iterations\n",
      "Save last state even is out of bound\n",
      "Q table still growths\n",
      "Loss : -353.2254328559251\n",
      "end while loop iteration :  25\n",
      "Episode 440/1000\n",
      "exploration_prob : 0.100\n",
      "No action possible. Stop episode at 9th iterations\n",
      "Save last state even is out of bound\n",
      "diff Qtable_N - Qtable_N-1  3.109859432612952\n",
      "Loss : -19.194131197272\n",
      "end while loop iteration :  9\n",
      "Episode 441/1000\n",
      "exploration_prob : 0.100\n",
      "No action possible. Stop episode at 21th iterations\n",
      "Save last state even is out of bound\n",
      "diff Qtable_N - Qtable_N-1  24.693776779615753\n",
      "Loss : -137.12945310585786\n",
      "end while loop iteration :  21\n",
      "Episode 442/1000\n",
      "exploration_prob : 0.100\n",
      "No action possible. Stop episode at 13th iterations\n",
      "Save last state even is out of bound\n",
      "diff Qtable_N - Qtable_N-1  0.4321514124087691\n",
      "Loss : -39.519668731330825\n",
      "end while loop iteration :  13\n",
      "Episode 443/1000\n",
      "exploration_prob : 0.100\n",
      "stop episode because agent reach goal\n",
      "stop episode because agent reach goal\n",
      "Q table still growths\n",
      "Loss : -41.28630710310014\n",
      "end while loop iteration :  30\n",
      "Episode 444/1000\n",
      "exploration_prob : 0.100\n",
      "stop episode because agent reach goal\n",
      "diff Qtable_N - Qtable_N-1  0.03798158160593096\n",
      "Loss : -8.84513794529988\n",
      "end while loop iteration :  16\n",
      "Episode 445/1000\n",
      "exploration_prob : 0.100\n",
      "No action possible. Stop episode at 9th iterations\n",
      "Save last state even is out of bound\n",
      "Q table still growths\n",
      "Loss : -103.20032784234678\n",
      "end while loop iteration :  9\n",
      "Episode 446/1000\n",
      "exploration_prob : 0.100\n",
      "No action possible. Stop episode at 11th iterations\n",
      "Save last state even is out of bound\n",
      "diff Qtable_N - Qtable_N-1  1.1450509713602637\n",
      "Loss : -18.170871069353005\n",
      "end while loop iteration :  11\n",
      "Episode 447/1000\n",
      "exploration_prob : 0.100\n",
      "No action possible. Stop episode at 2th iterations\n",
      "Save last state even is out of bound\n",
      "diff Qtable_N - Qtable_N-1  0.1950973582680653\n",
      "Loss : -10.749946442630739\n",
      "end while loop iteration :  2\n",
      "Episode 448/1000\n",
      "exploration_prob : 0.100\n",
      "stop episode because agent reach goal\n",
      "stop episode because agent reach goal\n",
      "Q table still growths\n",
      "Loss : -11.524091613988872\n",
      "end while loop iteration :  14\n",
      "Episode 449/1000\n",
      "exploration_prob : 0.100\n",
      "No action possible. Stop episode at 9th iterations\n",
      "Save last state even is out of bound\n",
      "diff Qtable_N - Qtable_N-1  3.0636873731768377\n",
      "Loss : -60.07089604720454\n",
      "end while loop iteration :  9\n",
      "Episode 450/1000\n",
      "exploration_prob : 0.100\n",
      "stop episode because agent reach goal\n",
      "diff Qtable_N - Qtable_N-1  0.015187696509742665\n",
      "Loss : -8.287847711596\n",
      "end while loop iteration :  10\n",
      "Episode 451/1000\n",
      "exploration_prob : 0.100\n",
      "No action possible. Stop episode at 13th iterations\n",
      "Save last state even is out of bound\n",
      "diff Qtable_N - Qtable_N-1  0.4371742588210437\n",
      "Loss : -49.228796613989346\n",
      "end while loop iteration :  13\n",
      "Episode 452/1000\n",
      "exploration_prob : 0.100\n",
      "stop episode because agent reach goal\n",
      "diff Qtable_N - Qtable_N-1  0.012209302632480185\n",
      "Loss : -7.104091616131929\n",
      "end while loop iteration :  13\n",
      "Episode 453/1000\n",
      "exploration_prob : 0.100\n",
      "No action possible. Stop episode at 11th iterations\n",
      "Save last state even is out of bound\n",
      "diff Qtable_N - Qtable_N-1  1.727419275787343\n",
      "Loss : -57.36422022570443\n",
      "end while loop iteration :  11\n",
      "Episode 454/1000\n",
      "exploration_prob : 0.100\n",
      "stop episode because agent reach goal\n",
      "stop episode because agent reach goal\n",
      "Q table still growths\n",
      "Loss : -16.234298059513513\n",
      "end while loop iteration :  35\n",
      "Episode 455/1000\n",
      "exploration_prob : 0.100\n",
      "stop episode because agent reach goal\n",
      "stop episode because agent reach goal\n",
      "diff Qtable_N - Qtable_N-1  0.09020630805490903\n",
      "Loss : -13.665947104558775\n",
      "end while loop iteration :  12\n",
      "Episode 456/1000\n",
      "exploration_prob : 0.100\n",
      "No action possible. Stop episode at 9th iterations\n",
      "Save last state even is out of bound\n",
      "diff Qtable_N - Qtable_N-1  3.045855973184107\n",
      "Loss : -99.79618230105649\n",
      "end while loop iteration :  9\n",
      "Episode 457/1000\n",
      "exploration_prob : 0.100\n",
      "No action possible. Stop episode at 13th iterations\n",
      "Save last state even is out of bound\n",
      "Q table still growths\n",
      "Loss : -55.95302948741694\n",
      "end while loop iteration :  13\n",
      "Episode 458/1000\n",
      "exploration_prob : 0.100\n",
      "stop episode because agent reach goal\n",
      "diff Qtable_N - Qtable_N-1  0.04393317649722095\n",
      "Loss : -9.428143155837606\n",
      "end while loop iteration :  12\n",
      "Episode 459/1000\n",
      "exploration_prob : 0.100\n",
      "No action possible. Stop episode at 12th iterations\n",
      "Save last state even is out of bound\n",
      "Q table still growths\n",
      "Loss : -73.4160985789904\n",
      "end while loop iteration :  12\n",
      "Episode 460/1000\n",
      "exploration_prob : 0.100\n",
      "No action possible. Stop episode at 6th iterations\n",
      "Save last state even is out of bound\n",
      "diff Qtable_N - Qtable_N-1  14.269779521128825\n",
      "Loss : -127.74518932775455\n",
      "end while loop iteration :  6\n",
      "Episode 461/1000\n",
      "exploration_prob : 0.100\n",
      "No action possible. Stop episode at 11th iterations\n",
      "Save last state even is out of bound\n",
      "Q table still growths\n",
      "Loss : -81.2722313900379\n",
      "end while loop iteration :  11\n",
      "Episode 462/1000\n",
      "exploration_prob : 0.100\n",
      "stop episode because agent reach goal\n",
      "diff Qtable_N - Qtable_N-1  0.03020765200803245\n",
      "Loss : -8.243066521295013\n",
      "end while loop iteration :  13\n",
      "Episode 463/1000\n",
      "exploration_prob : 0.100\n",
      "No action possible. Stop episode at 18th iterations\n",
      "Save last state even is out of bound\n",
      "Q table still growths\n",
      "Loss : -93.24837908489103\n",
      "end while loop iteration :  18\n",
      "Episode 464/1000\n",
      "exploration_prob : 0.100\n",
      "No action possible. Stop episode at 18th iterations\n",
      "Save last state even is out of bound\n",
      "Q table still growths\n",
      "Loss : -39.26396331307265\n",
      "end while loop iteration :  18\n",
      "Episode 465/1000\n",
      "exploration_prob : 0.100\n",
      "stop episode because agent reach goal\n",
      "stop episode because agent reach goal\n",
      "diff Qtable_N - Qtable_N-1  0.04604583477105112\n",
      "Loss : -8.31962208524072\n",
      "end while loop iteration :  19\n",
      "Episode 466/1000\n",
      "exploration_prob : 0.100\n",
      "No action possible. Stop episode at 17th iterations\n",
      "Save last state even is out of bound\n",
      "Q table still growths\n",
      "Loss : -67.62298640492101\n",
      "end while loop iteration :  17\n",
      "Episode 467/1000\n",
      "exploration_prob : 0.100\n",
      "No action possible. Stop episode at 14th iterations\n",
      "Save last state even is out of bound\n",
      "diff Qtable_N - Qtable_N-1  0.652123402203311\n",
      "Loss : -31.14304738803906\n",
      "end while loop iteration :  14\n",
      "Episode 468/1000\n",
      "exploration_prob : 0.100\n",
      "No action possible. Stop episode at 24th iterations\n",
      "Save last state even is out of bound\n",
      "Q table still growths\n",
      "Loss : -110.46708152602636\n",
      "end while loop iteration :  24\n",
      "Episode 469/1000\n",
      "exploration_prob : 0.100\n",
      "No action possible. Stop episode at 10th iterations\n",
      "Save last state even is out of bound\n",
      "diff Qtable_N - Qtable_N-1  9.349437313362463\n",
      "Loss : -61.906732512275724\n",
      "end while loop iteration :  10\n",
      "Episode 470/1000\n",
      "exploration_prob : 0.100\n",
      "No action possible. Stop episode at 14th iterations\n",
      "Save last state even is out of bound\n",
      "diff Qtable_N - Qtable_N-1  8.159875214911017\n",
      "Loss : -245.36203350491897\n",
      "end while loop iteration :  14\n",
      "Episode 471/1000\n",
      "exploration_prob : 0.100\n",
      "No action possible. Stop episode at 2th iterations\n",
      "Save last state even is out of bound\n",
      "diff Qtable_N - Qtable_N-1  0.1755876224412587\n",
      "Loss : -10.749946442630739\n",
      "end while loop iteration :  2\n",
      "Episode 472/1000\n",
      "exploration_prob : 0.100\n",
      "No action possible. Stop episode at 7th iterations\n",
      "Save last state even is out of bound\n",
      "diff Qtable_N - Qtable_N-1  9.885190882930907\n",
      "Loss : -76.86577779884965\n",
      "end while loop iteration :  7\n",
      "Episode 473/1000\n",
      "exploration_prob : 0.100\n",
      "No action possible. Stop episode at 22th iterations\n",
      "Save last state even is out of bound\n",
      "diff Qtable_N - Qtable_N-1  64.24453394904839\n",
      "Loss : -333.28311486673226\n",
      "end while loop iteration :  22\n",
      "Episode 474/1000\n",
      "exploration_prob : 0.100\n",
      "stop episode because agent reach goal\n",
      "diff Qtable_N - Qtable_N-1  0.011090568244660093\n",
      "Loss : -6.509978321486641\n",
      "end while loop iteration :  13\n",
      "Episode 475/1000\n",
      "exploration_prob : 0.100\n",
      "stop episode because agent reach goal\n",
      "stop episode because agent reach goal\n",
      "diff Qtable_N - Qtable_N-1  0.09557567277301687\n",
      "Loss : -7.135238791081321\n",
      "end while loop iteration :  15\n",
      "Episode 476/1000\n",
      "exploration_prob : 0.100\n",
      "No action possible. Stop episode at 21th iterations\n",
      "Save last state even is out of bound\n",
      "diff Qtable_N - Qtable_N-1  23.372227523614914\n",
      "Loss : -127.48012509955207\n",
      "end while loop iteration :  21\n",
      "Episode 477/1000\n",
      "exploration_prob : 0.100\n",
      "No action possible. Stop episode at 4th iterations\n",
      "Save last state even is out of bound\n",
      "Q table still growths\n",
      "Loss : -93.46559313624343\n",
      "end while loop iteration :  4\n",
      "Episode 478/1000\n",
      "exploration_prob : 0.100\n",
      "stop episode because agent reach goal\n",
      "stop episode because agent reach goal\n",
      "Q table still growths\n",
      "Loss : -23.227395282655124\n",
      "end while loop iteration :  25\n",
      "Episode 479/1000\n",
      "exploration_prob : 0.100\n",
      "No action possible. Stop episode at 20th iterations\n",
      "Save last state even is out of bound\n",
      "diff Qtable_N - Qtable_N-1  3.49922213506853\n",
      "Loss : -98.68199461137229\n",
      "end while loop iteration :  20\n",
      "Episode 480/1000\n",
      "exploration_prob : 0.100\n",
      "No action possible. Stop episode at 13th iterations\n",
      "Save last state even is out of bound\n",
      "diff Qtable_N - Qtable_N-1  45.51225845038885\n",
      "Loss : -226.24228668692422\n",
      "end while loop iteration :  13\n",
      "Episode 481/1000\n",
      "exploration_prob : 0.100\n",
      "stop episode because agent reach goal\n",
      "diff Qtable_N - Qtable_N-1  0.034216484778260614\n",
      "Loss : -6.5931705055425125\n",
      "end while loop iteration :  16\n",
      "Episode 482/1000\n",
      "exploration_prob : 0.100\n",
      "No action possible. Stop episode at 17th iterations\n",
      "Save last state even is out of bound\n",
      "Q table still growths\n",
      "Loss : -28.9100895421764\n",
      "end while loop iteration :  17\n",
      "Episode 483/1000\n",
      "exploration_prob : 0.100\n",
      "No action possible. Stop episode at 13th iterations\n",
      "Save last state even is out of bound\n",
      "Q table still growths\n",
      "Loss : -20.563374732705032\n",
      "end while loop iteration :  13\n",
      "Episode 484/1000\n",
      "exploration_prob : 0.100\n",
      "No action possible. Stop episode at 17th iterations\n",
      "Save last state even is out of bound\n",
      "diff Qtable_N - Qtable_N-1  4.21343626778962\n",
      "Loss : -242.34803988865414\n",
      "end while loop iteration :  17\n",
      "Episode 485/1000\n",
      "exploration_prob : 0.100\n",
      "No action possible. Stop episode at 13th iterations\n",
      "Save last state even is out of bound\n",
      "diff Qtable_N - Qtable_N-1  4.9187460122748465\n",
      "Loss : -76.10022890745472\n",
      "end while loop iteration :  13\n",
      "Episode 486/1000\n",
      "exploration_prob : 0.100\n",
      "No action possible. Stop episode at 19th iterations\n",
      "Save last state even is out of bound\n",
      "diff Qtable_N - Qtable_N-1  2.9739944851750533\n",
      "Loss : -47.54131253161483\n",
      "end while loop iteration :  19\n",
      "Episode 487/1000\n",
      "exploration_prob : 0.100\n",
      "No action possible. Stop episode at 12th iterations\n",
      "Save last state even is out of bound\n",
      "diff Qtable_N - Qtable_N-1  17.678824859529595\n",
      "Loss : -82.93015442590698\n",
      "end while loop iteration :  12\n",
      "Episode 488/1000\n",
      "exploration_prob : 0.100\n",
      "stop episode because agent reach goal\n",
      "stop episode because agent reach goal\n",
      "Q table still growths\n",
      "Loss : -13.33584556294266\n",
      "end while loop iteration :  21\n",
      "Episode 489/1000\n",
      "exploration_prob : 0.100\n",
      "stop episode because agent reach goal\n",
      "stop episode because agent reach goal\n",
      "diff Qtable_N - Qtable_N-1  0.7516240385563986\n",
      "Loss : -13.394460725916597\n",
      "end while loop iteration :  18\n",
      "Episode 490/1000\n",
      "exploration_prob : 0.100\n",
      "No action possible. Stop episode at 7th iterations\n",
      "Save last state even is out of bound\n",
      "diff Qtable_N - Qtable_N-1  9.675840945045195\n",
      "Loss : -89.07706559639749\n",
      "end while loop iteration :  7\n",
      "Episode 491/1000\n",
      "exploration_prob : 0.100\n",
      "stop episode because agent reach goal\n",
      "diff Qtable_N - Qtable_N-1  0.052626387286128895\n",
      "Loss : -7.098403854484066\n",
      "end while loop iteration :  12\n",
      "Episode 492/1000\n",
      "exploration_prob : 0.100\n",
      "No action possible. Stop episode at 6th iterations\n",
      "Save last state even is out of bound\n",
      "Q table still growths\n",
      "Loss : -114.23091149671701\n",
      "end while loop iteration :  6\n",
      "Episode 493/1000\n",
      "exploration_prob : 0.100\n",
      "No action possible. Stop episode at 40th iterations\n",
      "Save last state even is out of bound\n",
      "Q table still growths\n",
      "Loss : -150.79991489600698\n",
      "end while loop iteration :  40\n",
      "Episode 494/1000\n",
      "exploration_prob : 0.100\n",
      "No action possible. Stop episode at 6th iterations\n",
      "Save last state even is out of bound\n",
      "diff Qtable_N - Qtable_N-1  14.018082666249521\n",
      "Loss : -124.2900968682956\n",
      "end while loop iteration :  6\n",
      "Episode 495/1000\n",
      "exploration_prob : 0.100\n",
      "stop episode because agent reach goal\n",
      "diff Qtable_N - Qtable_N-1  0.012622330718899288\n",
      "Loss : -6.741719270622925\n",
      "end while loop iteration :  10\n",
      "Episode 496/1000\n",
      "exploration_prob : 0.100\n",
      "No action possible. Stop episode at 12th iterations\n",
      "Save last state even is out of bound\n",
      "diff Qtable_N - Qtable_N-1  1.2083178056204724\n",
      "Loss : -66.61041270501624\n",
      "end while loop iteration :  12\n",
      "Episode 497/1000\n",
      "exploration_prob : 0.100\n",
      "stop episode because agent reach goal\n",
      "diff Qtable_N - Qtable_N-1  0.034186498063891124\n",
      "Loss : -10.886799787161234\n",
      "end while loop iteration :  12\n",
      "Episode 498/1000\n",
      "exploration_prob : 0.100\n",
      "No action possible. Stop episode at 12th iterations\n",
      "Save last state even is out of bound\n",
      "Q table still growths\n",
      "Loss : -100.15477025142698\n",
      "end while loop iteration :  12\n",
      "Episode 499/1000\n",
      "exploration_prob : 0.100\n",
      "No action possible. Stop episode at 17th iterations\n",
      "Save last state even is out of bound\n",
      "Q table still growths\n",
      "Loss : -73.58515190599817\n",
      "end while loop iteration :  17\n",
      "Episode 500/1000\n",
      "exploration_prob : 0.100\n",
      "stop episode because agent reach goal\n",
      "diff Qtable_N - Qtable_N-1  0.03611430211863109\n",
      "Loss : -10.033960640111829\n",
      "end while loop iteration :  12\n",
      "Episode 501/1000\n",
      "exploration_prob : 0.100\n",
      "stop episode because agent reach goal\n",
      "diff Qtable_N - Qtable_N-1  0.011360097647009348\n",
      "Loss : -6.741719270622925\n",
      "end while loop iteration :  10\n",
      "Episode 502/1000\n",
      "exploration_prob : 0.100\n",
      "No action possible. Stop episode at 30th iterations\n",
      "Save last state even is out of bound\n",
      "Q table still growths\n",
      "Loss : -107.45163921602106\n",
      "end while loop iteration :  30\n",
      "Episode 503/1000\n",
      "exploration_prob : 0.100\n",
      "stop episode because agent reach goal\n",
      "stop episode because agent reach goal\n",
      "diff Qtable_N - Qtable_N-1  0.7497449191108013\n",
      "Loss : -17.725271334624807\n",
      "end while loop iteration :  18\n",
      "Episode 504/1000\n",
      "exploration_prob : 0.100\n",
      "No action possible. Stop episode at 15th iterations\n",
      "Save last state even is out of bound\n",
      "diff Qtable_N - Qtable_N-1  0.644438162516995\n",
      "Loss : -71.1283882116405\n",
      "end while loop iteration :  15\n",
      "Episode 505/1000\n",
      "exploration_prob : 0.100\n",
      "stop episode because agent reach goal\n",
      "diff Qtable_N - Qtable_N-1  0.010224087882308386\n",
      "Loss : -6.741719270622925\n",
      "end while loop iteration :  10\n",
      "Episode 506/1000\n",
      "exploration_prob : 0.100\n",
      "stop episode because agent reach goal\n",
      "diff Qtable_N - Qtable_N-1  0.02657670474118551\n",
      "Loss : -8.637329758708418\n",
      "end while loop iteration :  12\n",
      "Episode 507/1000\n",
      "exploration_prob : 0.100\n",
      "stop episode because agent reach goal\n",
      "diff Qtable_N - Qtable_N-1  0.030756477382112457\n",
      "Loss : -9.0989180265956\n",
      "end while loop iteration :  16\n",
      "Episode 508/1000\n",
      "exploration_prob : 0.100\n",
      "stop episode because agent reach goal\n",
      "diff Qtable_N - Qtable_N-1  0.009997382289009482\n",
      "Loss : -6.509978321486641\n",
      "end while loop iteration :  13\n",
      "Episode 509/1000\n",
      "exploration_prob : 0.100\n",
      "stop episode because agent reach goal\n",
      "diff Qtable_N - Qtable_N-1  0.029247328191877614\n",
      "Loss : -17.567296161580654\n",
      "end while loop iteration :  20\n",
      "Episode 510/1000\n",
      "exploration_prob : 0.100\n",
      "No action possible. Stop episode at 16th iterations\n",
      "Save last state even is out of bound\n",
      "diff Qtable_N - Qtable_N-1  0.3365390159205209\n",
      "Loss : -12.283600297291324\n",
      "end while loop iteration :  16\n",
      "Episode 511/1000\n",
      "exploration_prob : 0.100\n",
      "stop episode because agent reach goal\n",
      "diff Qtable_N - Qtable_N-1  0.009201679094077542\n",
      "Loss : -6.741719270622925\n",
      "end while loop iteration :  10\n",
      "Episode 512/1000\n",
      "exploration_prob : 0.100\n",
      "No action possible. Stop episode at 25th iterations\n",
      "Save last state even is out of bound\n",
      "Q table still growths\n",
      "Loss : -165.24730892669947\n",
      "end while loop iteration :  25\n",
      "Episode 513/1000\n",
      "exploration_prob : 0.100\n",
      "No action possible. Stop episode at 12th iterations\n",
      "Save last state even is out of bound\n",
      "diff Qtable_N - Qtable_N-1  2.883185362231212\n",
      "Loss : -99.51707669765077\n",
      "end while loop iteration :  12\n",
      "Episode 514/1000\n",
      "exploration_prob : 0.100\n",
      "stop episode because agent reach goal\n",
      "diff Qtable_N - Qtable_N-1  0.008281511184669799\n",
      "Loss : -6.741719270622925\n",
      "end while loop iteration :  10\n",
      "Episode 515/1000\n",
      "exploration_prob : 0.100\n",
      "No action possible. Stop episode at 2th iterations\n",
      "Save last state even is out of bound\n",
      "diff Qtable_N - Qtable_N-1  0.15802886019713291\n",
      "Loss : -10.749946442630739\n",
      "end while loop iteration :  2\n",
      "Episode 516/1000\n",
      "exploration_prob : 0.100\n",
      "No action possible. Stop episode at 14th iterations\n",
      "Save last state even is out of bound\n",
      "diff Qtable_N - Qtable_N-1  7.7474916067430755\n",
      "Loss : -40.71068704148522\n",
      "end while loop iteration :  14\n",
      "Episode 517/1000\n",
      "exploration_prob : 0.100\n",
      "No action possible. Stop episode at 15th iterations\n",
      "Save last state even is out of bound\n",
      "diff Qtable_N - Qtable_N-1  5.1615669814178675\n",
      "Loss : -29.85634475463837\n",
      "end while loop iteration :  15\n",
      "Episode 518/1000\n",
      "exploration_prob : 0.100\n",
      "stop episode because agent reach goal\n",
      "diff Qtable_N - Qtable_N-1  0.007453360066202841\n",
      "Loss : -6.741719270622925\n",
      "end while loop iteration :  10\n",
      "Episode 519/1000\n",
      "exploration_prob : 0.100\n",
      "No action possible. Stop episode at 17th iterations\n",
      "Save last state even is out of bound\n",
      "diff Qtable_N - Qtable_N-1  4.339581721766089\n",
      "Loss : -92.29605896136651\n",
      "end while loop iteration :  17\n",
      "Episode 520/1000\n",
      "exploration_prob : 0.100\n",
      "stop episode because agent reach goal\n",
      "stop episode because agent reach goal\n",
      "diff Qtable_N - Qtable_N-1  0.19536126427529293\n",
      "Loss : -90.15137760961194\n",
      "end while loop iteration :  29\n",
      "Episode 521/1000\n",
      "exploration_prob : 0.100\n",
      "No action possible. Stop episode at 10th iterations\n",
      "Save last state even is out of bound\n",
      "diff Qtable_N - Qtable_N-1  4.933467975683697\n",
      "Loss : -75.40365718290445\n",
      "end while loop iteration :  10\n",
      "Episode 522/1000\n",
      "exploration_prob : 0.100\n",
      "stop episode because agent reach goal\n",
      "diff Qtable_N - Qtable_N-1  0.04835348940412795\n",
      "Loss : -7.098403854484066\n",
      "end while loop iteration :  12\n",
      "Episode 523/1000\n",
      "exploration_prob : 0.100\n",
      "No action possible. Stop episode at 20th iterations\n",
      "Save last state even is out of bound\n",
      "diff Qtable_N - Qtable_N-1  2.7339010815394826\n",
      "Loss : -151.1305578838696\n",
      "end while loop iteration :  20\n",
      "Episode 524/1000\n",
      "exploration_prob : 0.100\n",
      "No action possible. Stop episode at 25th iterations\n",
      "Save last state even is out of bound\n",
      "diff Qtable_N - Qtable_N-1  4.437020522166468\n",
      "Loss : -82.5011517140117\n",
      "end while loop iteration :  25\n",
      "Episode 525/1000\n",
      "exploration_prob : 0.100\n",
      "No action possible. Stop episode at 10th iterations\n",
      "Save last state even is out of bound\n",
      "Q table still growths\n",
      "Loss : -802.0923629904839\n",
      "end while loop iteration :  10\n",
      "Episode 526/1000\n",
      "exploration_prob : 0.100\n",
      "No action possible. Stop episode at 7th iterations\n",
      "Save last state even is out of bound\n",
      "diff Qtable_N - Qtable_N-1  5.299959885283685\n",
      "Loss : -57.31592769404703\n",
      "end while loop iteration :  7\n",
      "Episode 527/1000\n",
      "exploration_prob : 0.100\n",
      "No action possible. Stop episode at 11th iterations\n",
      "Save last state even is out of bound\n",
      "diff Qtable_N - Qtable_N-1  1.7780806346610019\n",
      "Loss : -65.01144667401664\n",
      "end while loop iteration :  11\n",
      "Episode 528/1000\n",
      "exploration_prob : 0.100\n",
      "No action possible. Stop episode at 11th iterations\n",
      "Save last state even is out of bound\n",
      "diff Qtable_N - Qtable_N-1  1.7401600134397015\n",
      "Loss : -90.84709367171676\n",
      "end while loop iteration :  11\n",
      "Episode 529/1000\n",
      "exploration_prob : 0.100\n",
      "stop episode because agent reach goal\n",
      "diff Qtable_N - Qtable_N-1  0.00670802405958254\n",
      "Loss : -6.741719270622925\n",
      "end while loop iteration :  10\n",
      "Episode 530/1000\n",
      "exploration_prob : 0.100\n",
      "stop episode because agent reach goal\n",
      "stop episode because agent reach goal\n",
      "diff Qtable_N - Qtable_N-1  0.05833544787614919\n",
      "Loss : -6.741719270622925\n",
      "end while loop iteration :  10\n",
      "Episode 531/1000\n",
      "exploration_prob : 0.100\n",
      "No action possible. Stop episode at 9th iterations\n",
      "Save last state even is out of bound\n",
      "diff Qtable_N - Qtable_N-1  2.9502536355050113\n",
      "Loss : -61.495129803281785\n",
      "end while loop iteration :  9\n",
      "Episode 532/1000\n",
      "exploration_prob : 0.100\n",
      "No action possible. Stop episode at 11th iterations\n",
      "Save last state even is out of bound\n",
      "Q table still growths\n",
      "Loss : -126.89468677849914\n",
      "end while loop iteration :  11\n",
      "Episode 533/1000\n",
      "exploration_prob : 0.100\n",
      "No action possible. Stop episode at 22th iterations\n",
      "Save last state even is out of bound\n",
      "diff Qtable_N - Qtable_N-1  13.505032572056644\n",
      "Loss : -74.72057193180879\n",
      "end while loop iteration :  22\n",
      "Episode 534/1000\n",
      "exploration_prob : 0.100\n",
      "stop episode because agent reach goal\n",
      "diff Qtable_N - Qtable_N-1  0.006037221653624303\n",
      "Loss : -6.741719270622925\n",
      "end while loop iteration :  10\n",
      "Episode 535/1000\n",
      "exploration_prob : 0.100\n",
      "No action possible. Stop episode at 13th iterations\n",
      "Save last state even is out of bound\n",
      "diff Qtable_N - Qtable_N-1  0.41859015845197317\n",
      "Loss : -36.98421191141326\n",
      "end while loop iteration :  13\n",
      "Episode 536/1000\n",
      "exploration_prob : 0.100\n",
      "stop episode because agent reach goal\n",
      "diff Qtable_N - Qtable_N-1  0.026717068770748115\n",
      "Loss : -7.536825728940323\n",
      "end while loop iteration :  13\n",
      "Episode 537/1000\n",
      "exploration_prob : 0.100\n",
      "No action possible. Stop episode at 13th iterations\n",
      "Save last state even is out of bound\n",
      "diff Qtable_N - Qtable_N-1  0.43921401014416583\n",
      "Loss : -38.61865750648097\n",
      "end while loop iteration :  13\n",
      "Episode 538/1000\n",
      "exploration_prob : 0.100\n",
      "No action possible. Stop episode at 25th iterations\n",
      "Save last state even is out of bound\n",
      "Q table still growths\n",
      "Loss : -286.0779529221709\n",
      "end while loop iteration :  25\n",
      "Episode 539/1000\n",
      "exploration_prob : 0.100\n",
      "No action possible. Stop episode at 28th iterations\n",
      "Save last state even is out of bound\n",
      "diff Qtable_N - Qtable_N-1  41.89547929118877\n",
      "Loss : -265.7190980040243\n",
      "end while loop iteration :  28\n",
      "Episode 540/1000\n",
      "exploration_prob : 0.100\n",
      "stop episode because agent reach goal\n",
      "diff Qtable_N - Qtable_N-1  0.005999361755390509\n",
      "Loss : -6.741719270622925\n",
      "end while loop iteration :  10\n",
      "Episode 541/1000\n",
      "exploration_prob : 0.100\n",
      "No action possible. Stop episode at 10th iterations\n",
      "Save last state even is out of bound\n",
      "diff Qtable_N - Qtable_N-1  1.040879608468545\n",
      "Loss : -49.44781930530629\n",
      "end while loop iteration :  10\n",
      "Episode 542/1000\n",
      "exploration_prob : 0.100\n",
      "No action possible. Stop episode at 8th iterations\n",
      "Save last state even is out of bound\n",
      "Q table still growths\n",
      "Loss : -83.40529092046349\n",
      "end while loop iteration :  8\n",
      "Episode 543/1000\n",
      "exploration_prob : 0.100\n",
      "stop episode because agent reach goal\n",
      "diff Qtable_N - Qtable_N-1  0.0089976440601085\n",
      "Loss : -6.509978321486641\n",
      "end while loop iteration :  13\n",
      "Episode 544/1000\n",
      "exploration_prob : 0.100\n",
      "stop episode because agent reach goal\n",
      "stop episode because agent reach goal\n",
      "Q table still growths\n",
      "Loss : -12.464376240815408\n",
      "end while loop iteration :  15\n",
      "Episode 545/1000\n",
      "exploration_prob : 0.100\n",
      "stop episode because agent reach goal\n",
      "diff Qtable_N - Qtable_N-1  0.005399425579851458\n",
      "Loss : -6.741719270622925\n",
      "end while loop iteration :  10\n",
      "Episode 546/1000\n",
      "exploration_prob : 0.100\n",
      "stop episode because agent reach goal\n",
      "stop episode because agent reach goal\n",
      "Q table still growths\n",
      "Loss : -11.196887732465047\n",
      "end while loop iteration :  11\n",
      "Episode 547/1000\n",
      "exploration_prob : 0.100\n",
      "No action possible. Stop episode at 24th iterations\n",
      "Save last state even is out of bound\n",
      "diff Qtable_N - Qtable_N-1  4.153157431124753\n",
      "Loss : -27.943983750731306\n",
      "end while loop iteration :  24\n",
      "Episode 548/1000\n",
      "exploration_prob : 0.100\n",
      "stop episode because agent reach goal\n",
      "diff Qtable_N - Qtable_N-1  0.00485948302186634\n",
      "Loss : -6.741719270622925\n",
      "end while loop iteration :  10\n",
      "Episode 549/1000\n",
      "exploration_prob : 0.100\n",
      "No action possible. Stop episode at 10th iterations\n",
      "Save last state even is out of bound\n",
      "diff Qtable_N - Qtable_N-1  0.36707480981215945\n",
      "Loss : -72.41620209336669\n",
      "end while loop iteration :  10\n",
      "Episode 550/1000\n",
      "exploration_prob : 0.100\n",
      "No action possible. Stop episode at 11th iterations\n",
      "Save last state even is out of bound\n",
      "diff Qtable_N - Qtable_N-1  1.690144371054065\n",
      "Loss : -78.60531902804557\n",
      "end while loop iteration :  11\n",
      "Episode 551/1000\n",
      "exploration_prob : 0.100\n",
      "No action possible. Stop episode at 31th iterations\n",
      "Save last state even is out of bound\n",
      "Q table still growths\n",
      "Loss : -170.5978734381875\n",
      "end while loop iteration :  31\n",
      "Episode 552/1000\n",
      "exploration_prob : 0.100\n",
      "No action possible. Stop episode at 21th iterations\n",
      "Save last state even is out of bound\n",
      "diff Qtable_N - Qtable_N-1  5.534611535046252\n",
      "Loss : -267.08281661618554\n",
      "end while loop iteration :  21\n",
      "Episode 553/1000\n",
      "exploration_prob : 0.100\n",
      "No action possible. Stop episode at 23th iterations\n",
      "Save last state even is out of bound\n",
      "Q table still growths\n",
      "Loss : -140.81428170119207\n",
      "end while loop iteration :  23\n",
      "Episode 554/1000\n",
      "exploration_prob : 0.100\n",
      "No action possible. Stop episode at 23th iterations\n",
      "Save last state even is out of bound\n",
      "diff Qtable_N - Qtable_N-1  1.2316752359778278\n",
      "Loss : -47.26323414311166\n",
      "end while loop iteration :  23\n",
      "Episode 555/1000\n",
      "exploration_prob : 0.100\n",
      "stop episode because agent reach goal\n",
      "stop episode because agent reach goal\n",
      "Q table still growths\n",
      "Loss : -43.72365424625585\n",
      "end while loop iteration :  25\n",
      "Episode 556/1000\n",
      "exploration_prob : 0.100\n",
      "No action possible. Stop episode at 9th iterations\n",
      "Save last state even is out of bound\n",
      "diff Qtable_N - Qtable_N-1  0.7133234443416383\n",
      "Loss : -38.90086487529541\n",
      "end while loop iteration :  9\n",
      "Episode 557/1000\n",
      "exploration_prob : 0.100\n",
      "No action possible. Stop episode at 8th iterations\n",
      "Save last state even is out of bound\n",
      "diff Qtable_N - Qtable_N-1  2.017326539810592\n",
      "Loss : -68.34532556010004\n",
      "end while loop iteration :  8\n",
      "Episode 558/1000\n",
      "exploration_prob : 0.100\n",
      "stop episode because agent reach goal\n",
      "diff Qtable_N - Qtable_N-1  0.04520086997989278\n",
      "Loss : -6.182763896468927\n",
      "end while loop iteration :  12\n",
      "Episode 559/1000\n",
      "exploration_prob : 0.100\n",
      "No action possible. Stop episode at 25th iterations\n",
      "Save last state even is out of bound\n",
      "diff Qtable_N - Qtable_N-1  57.333577659026645\n",
      "Loss : -294.3561013658307\n",
      "end while loop iteration :  25\n",
      "Episode 560/1000\n",
      "exploration_prob : 0.100\n",
      "No action possible. Stop episode at 30th iterations\n",
      "Save last state even is out of bound\n",
      "Q table still growths\n",
      "Loss : -315.79704506022836\n",
      "end while loop iteration :  30\n",
      "Episode 561/1000\n",
      "exploration_prob : 0.100\n",
      "stop episode because agent reach goal\n",
      "diff Qtable_N - Qtable_N-1  0.004373534719679717\n",
      "Loss : -6.741719270622925\n",
      "end while loop iteration :  10\n",
      "Episode 562/1000\n",
      "exploration_prob : 0.100\n",
      "stop episode because agent reach goal\n",
      "diff Qtable_N - Qtable_N-1  0.00498277738758085\n",
      "Loss : -8.287847711596\n",
      "end while loop iteration :  10\n",
      "Episode 563/1000\n",
      "exploration_prob : 0.100\n",
      "stop episode because agent reach goal\n",
      "diff Qtable_N - Qtable_N-1  0.0034379035089536214\n",
      "Loss : -6.741719270622925\n",
      "end while loop iteration :  10\n",
      "Episode 564/1000\n",
      "exploration_prob : 0.100\n",
      "stop episode because agent reach goal\n",
      "diff Qtable_N - Qtable_N-1  0.003094113158058298\n",
      "Loss : -6.741719270622925\n",
      "end while loop iteration :  10\n",
      "Episode 565/1000\n",
      "exploration_prob : 0.100\n",
      "No action possible. Stop episode at 17th iterations\n",
      "Save last state even is out of bound\n",
      "diff Qtable_N - Qtable_N-1  38.21738657082428\n",
      "Loss : -178.8545509844036\n",
      "end while loop iteration :  17\n",
      "Episode 566/1000\n",
      "exploration_prob : 0.100\n",
      "No action possible. Stop episode at 27th iterations\n",
      "Save last state even is out of bound\n",
      "Q table still growths\n",
      "Loss : -95.7559773905742\n",
      "end while loop iteration :  27\n",
      "Episode 567/1000\n",
      "exploration_prob : 0.100\n",
      "stop episode because agent reach goal\n",
      "diff Qtable_N - Qtable_N-1  0.002784701842252435\n",
      "Loss : -6.741719270622925\n",
      "end while loop iteration :  10\n",
      "Episode 568/1000\n",
      "exploration_prob : 0.100\n",
      "No action possible. Stop episode at 32th iterations\n",
      "Save last state even is out of bound\n",
      "Q table still growths\n",
      "Loss : -403.69369963427096\n",
      "end while loop iteration :  32\n",
      "Episode 569/1000\n",
      "exploration_prob : 0.100\n",
      "No action possible. Stop episode at 22th iterations\n",
      "Save last state even is out of bound\n",
      "diff Qtable_N - Qtable_N-1  14.040138112425439\n",
      "Loss : -83.91408690779708\n",
      "end while loop iteration :  22\n",
      "Episode 570/1000\n",
      "exploration_prob : 0.100\n",
      "stop episode because agent reach goal\n",
      "diff Qtable_N - Qtable_N-1  0.0025062316580272137\n",
      "Loss : -6.741719270622925\n",
      "end while loop iteration :  10\n",
      "Episode 571/1000\n",
      "exploration_prob : 0.100\n",
      "No action possible. Stop episode at 24th iterations\n",
      "Save last state even is out of bound\n",
      "diff Qtable_N - Qtable_N-1  20.894225929308522\n",
      "Loss : -113.21368062905643\n",
      "end while loop iteration :  24\n",
      "Episode 572/1000\n",
      "exploration_prob : 0.100\n",
      "No action possible. Stop episode at 6th iterations\n",
      "Save last state even is out of bound\n",
      "diff Qtable_N - Qtable_N-1  3.6462115171417255\n",
      "Loss : -49.49421816693267\n",
      "end while loop iteration :  6\n",
      "Episode 573/1000\n",
      "exploration_prob : 0.100\n",
      "No action possible. Stop episode at 3th iterations\n",
      "Save last state even is out of bound\n",
      "diff Qtable_N - Qtable_N-1  0.2825130353497536\n",
      "Loss : -14.29134639316939\n",
      "end while loop iteration :  3\n",
      "Episode 574/1000\n",
      "exploration_prob : 0.100\n",
      "No action possible. Stop episode at 6th iterations\n",
      "Save last state even is out of bound\n",
      "Q table still growths\n",
      "Loss : -25.212871858221256\n",
      "end while loop iteration :  6\n",
      "Episode 575/1000\n",
      "exploration_prob : 0.100\n",
      "No action possible. Stop episode at 11th iterations\n",
      "Save last state even is out of bound\n",
      "Q table still growths\n",
      "Loss : -84.61780148519941\n",
      "end while loop iteration :  11\n",
      "Episode 576/1000\n",
      "exploration_prob : 0.100\n",
      "stop episode because agent reach goal\n",
      "No action possible. Stop episode at 32th iterations\n",
      "Save last state even is out of bound\n",
      "Q table still growths\n",
      "Loss : -355.32247803541145\n",
      "end while loop iteration :  32\n",
      "Episode 577/1000\n",
      "exploration_prob : 0.100\n",
      "stop episode because agent reach goal\n",
      "diff Qtable_N - Qtable_N-1  0.0022556084922245034\n",
      "Loss : -6.741719270622925\n",
      "end while loop iteration :  10\n",
      "Episode 578/1000\n",
      "exploration_prob : 0.100\n",
      "No action possible. Stop episode at 6th iterations\n",
      "Save last state even is out of bound\n",
      "diff Qtable_N - Qtable_N-1  0.6667354223444076\n",
      "Loss : -24.269410797255887\n",
      "end while loop iteration :  6\n",
      "Episode 579/1000\n",
      "exploration_prob : 0.100\n",
      "No action possible. Stop episode at 14th iterations\n",
      "Save last state even is out of bound\n",
      "Q table still growths\n",
      "Loss : -69.19333434954888\n",
      "end while loop iteration :  14\n",
      "Episode 580/1000\n",
      "exploration_prob : 0.100\n",
      "stop episode because agent reach goal\n",
      "diff Qtable_N - Qtable_N-1  0.007995683778669771\n",
      "Loss : -7.104091616131929\n",
      "end while loop iteration :  13\n",
      "Episode 581/1000\n",
      "exploration_prob : 0.100\n",
      "stop episode because agent reach goal\n",
      "No action possible. Stop episode at 30th iterations\n",
      "Save last state even is out of bound\n",
      "Q table still growths\n",
      "Loss : -505.5470817908134\n",
      "end while loop iteration :  30\n",
      "Episode 582/1000\n",
      "exploration_prob : 0.100\n",
      "stop episode because agent reach goal\n",
      "stop episode because agent reach goal\n",
      "stop episode because agent reach goal\n",
      "diff Qtable_N - Qtable_N-1  0.07095173303790679\n",
      "Loss : -14.364074332757284\n",
      "end while loop iteration :  15\n",
      "Episode 583/1000\n",
      "exploration_prob : 0.100\n",
      "stop episode because agent reach goal\n",
      "diff Qtable_N - Qtable_N-1  0.00203004764300202\n",
      "Loss : -6.741719270622925\n",
      "end while loop iteration :  10\n",
      "Episode 584/1000\n",
      "exploration_prob : 0.100\n",
      "stop episode because agent reach goal\n",
      "diff Qtable_N - Qtable_N-1  0.0018270428787018345\n",
      "Loss : -6.741719270622925\n",
      "end while loop iteration :  10\n",
      "Episode 585/1000\n",
      "exploration_prob : 0.100\n",
      "No action possible. Stop episode at 2th iterations\n",
      "Save last state even is out of bound\n",
      "diff Qtable_N - Qtable_N-1  0.14222597417741945\n",
      "Loss : -10.749946442630739\n",
      "end while loop iteration :  2\n",
      "Episode 586/1000\n",
      "exploration_prob : 0.100\n",
      "No action possible. Stop episode at 9th iterations\n",
      "Save last state even is out of bound\n",
      "diff Qtable_N - Qtable_N-1  2.9572914082030675\n",
      "Loss : -52.11523688953197\n",
      "end while loop iteration :  9\n",
      "Episode 587/1000\n",
      "exploration_prob : 0.100\n",
      "No action possible. Stop episode at 13th iterations\n",
      "Save last state even is out of bound\n",
      "diff Qtable_N - Qtable_N-1  0.4421283008755184\n",
      "Loss : -37.221947673610224\n",
      "end while loop iteration :  13\n",
      "Episode 588/1000\n",
      "exploration_prob : 0.100\n",
      "No action possible. Stop episode at 26th iterations\n",
      "Save last state even is out of bound\n",
      "Q table still growths\n",
      "Loss : -39.081649938095396\n",
      "end while loop iteration :  26\n",
      "Episode 589/1000\n",
      "exploration_prob : 0.100\n",
      "stop episode because agent reach goal\n",
      "diff Qtable_N - Qtable_N-1  0.0016443385908316288\n",
      "Loss : -6.741719270622925\n",
      "end while loop iteration :  10\n",
      "Episode 590/1000\n",
      "exploration_prob : 0.100\n",
      "stop episode because agent reach goal\n",
      "stop episode because agent reach goal\n",
      "Q table still growths\n",
      "Loss : -224.3107856657085\n",
      "end while loop iteration :  52\n",
      "Episode 591/1000\n",
      "exploration_prob : 0.100\n",
      "stop episode because agent reach goal\n",
      "diff Qtable_N - Qtable_N-1  0.0014799047317484715\n",
      "Loss : -6.741719270622925\n",
      "end while loop iteration :  10\n",
      "Episode 592/1000\n",
      "exploration_prob : 0.100\n",
      "No action possible. Stop episode at 27th iterations\n",
      "Save last state even is out of bound\n",
      "Q table still growths\n",
      "Loss : -121.91950452469668\n",
      "end while loop iteration :  27\n",
      "Episode 593/1000\n",
      "exploration_prob : 0.100\n",
      "No action possible. Stop episode at 7th iterations\n",
      "Save last state even is out of bound\n",
      "Q table still growths\n",
      "Loss : -196.61921474685818\n",
      "end while loop iteration :  7\n",
      "Episode 594/1000\n",
      "exploration_prob : 0.100\n",
      "stop episode because agent reach goal\n",
      "diff Qtable_N - Qtable_N-1  0.03993085674365732\n",
      "Loss : -8.344433310911853\n",
      "end while loop iteration :  12\n",
      "Episode 595/1000\n",
      "exploration_prob : 0.100\n",
      "stop episode because agent reach goal\n",
      "diff Qtable_N - Qtable_N-1  0.001331914258573652\n",
      "Loss : -6.741719270622925\n",
      "end while loop iteration :  10\n",
      "Episode 596/1000\n",
      "exploration_prob : 0.100\n",
      "stop episode because agent reach goal\n",
      "diff Qtable_N - Qtable_N-1  0.0011987228327162702\n",
      "Loss : -6.741719270622925\n",
      "end while loop iteration :  10\n",
      "Episode 597/1000\n",
      "exploration_prob : 0.100\n",
      "No action possible. Stop episode at 9th iterations\n",
      "Save last state even is out of bound\n",
      "Q table still growths\n",
      "Loss : -122.52684751382543\n",
      "end while loop iteration :  9\n",
      "Episode 598/1000\n",
      "exploration_prob : 0.100\n",
      "stop episode because agent reach goal\n",
      "stop episode because agent reach goal\n",
      "stop episode because agent reach goal\n",
      "Q table still growths\n",
      "Loss : -13.713528742621145\n",
      "end while loop iteration :  12\n",
      "Episode 599/1000\n",
      "exploration_prob : 0.100\n",
      "No action possible. Stop episode at 26th iterations\n",
      "Save last state even is out of bound\n",
      "diff Qtable_N - Qtable_N-1  32.93652753531807\n",
      "Loss : -204.16426569785028\n",
      "end while loop iteration :  26\n",
      "Episode 600/1000\n",
      "exploration_prob : 0.100\n",
      "stop episode because agent reach goal\n",
      "stop episode because agent reach goal\n",
      "stop episode because agent reach goal\n",
      "Q table still growths\n",
      "Loss : -61.3045644686219\n",
      "end while loop iteration :  37\n",
      "Episode 601/1000\n",
      "exploration_prob : 0.100\n",
      "stop episode because agent reach goal\n",
      "diff Qtable_N - Qtable_N-1  0.006684503231864869\n",
      "Loss : -7.357317168429957\n",
      "end while loop iteration :  13\n",
      "Episode 602/1000\n",
      "exploration_prob : 0.100\n",
      "stop episode because agent reach goal\n",
      "diff Qtable_N - Qtable_N-1  0.001078850549444621\n",
      "Loss : -6.741719270622925\n",
      "end while loop iteration :  10\n",
      "Episode 603/1000\n",
      "exploration_prob : 0.100\n",
      "stop episode because agent reach goal\n",
      "diff Qtable_N - Qtable_N-1  0.0009709654945002089\n",
      "Loss : -6.741719270622925\n",
      "end while loop iteration :  10\n",
      "Episode 604/1000\n",
      "exploration_prob : 0.100\n",
      "stop episode because agent reach goal\n",
      "diff Qtable_N - Qtable_N-1  0.0019204650849193317\n",
      "Loss : -8.287847711596\n",
      "end while loop iteration :  10\n",
      "Episode 605/1000\n",
      "exploration_prob : 0.100\n",
      "No action possible. Stop episode at 23th iterations\n",
      "Save last state even is out of bound\n",
      "diff Qtable_N - Qtable_N-1  2.9852980694138997\n",
      "Loss : -50.65700539545419\n",
      "end while loop iteration :  23\n",
      "Episode 606/1000\n",
      "exploration_prob : 0.100\n",
      "stop episode because agent reach goal\n",
      "diff Qtable_N - Qtable_N-1  0.0006818224365582326\n",
      "Loss : -6.741719270622925\n",
      "end while loop iteration :  10\n",
      "Episode 607/1000\n",
      "exploration_prob : 0.100\n",
      "No action possible. Stop episode at 19th iterations\n",
      "Save last state even is out of bound\n",
      "Q table still growths\n",
      "Loss : -133.36166539525112\n",
      "end while loop iteration :  19\n",
      "Episode 608/1000\n",
      "exploration_prob : 0.100\n",
      "stop episode because agent reach goal\n",
      "diff Qtable_N - Qtable_N-1  0.0006136401929023871\n",
      "Loss : -6.741719270622925\n",
      "end while loop iteration :  10\n",
      "Episode 609/1000\n",
      "exploration_prob : 0.100\n",
      "No action possible. Stop episode at 12th iterations\n",
      "Save last state even is out of bound\n",
      "diff Qtable_N - Qtable_N-1  2.839059281978908\n",
      "Loss : -94.95087307138999\n",
      "end while loop iteration :  12\n",
      "Episode 610/1000\n",
      "exploration_prob : 0.100\n",
      "stop episode because agent reach goal\n",
      "stop episode because agent reach goal\n",
      "Q table still growths\n",
      "Loss : -56.19986824704485\n",
      "end while loop iteration :  28\n",
      "Episode 611/1000\n",
      "exploration_prob : 0.100\n",
      "No action possible. Stop episode at 21th iterations\n",
      "Save last state even is out of bound\n",
      "Q table still growths\n",
      "Loss : -145.9219154810352\n",
      "end while loop iteration :  21\n",
      "Episode 612/1000\n",
      "exploration_prob : 0.100\n",
      "No action possible. Stop episode at 11th iterations\n",
      "Save last state even is out of bound\n",
      "diff Qtable_N - Qtable_N-1  0.6891504328806008\n",
      "Loss : -49.37579860111246\n",
      "end while loop iteration :  11\n",
      "Episode 613/1000\n",
      "exploration_prob : 0.100\n",
      "stop episode because agent reach goal\n",
      "diff Qtable_N - Qtable_N-1  0.05606599694154635\n",
      "Loss : -17.816700278105223\n",
      "end while loop iteration :  12\n",
      "Episode 614/1000\n",
      "exploration_prob : 0.100\n",
      "No action possible. Stop episode at 25th iterations\n",
      "Save last state even is out of bound\n",
      "diff Qtable_N - Qtable_N-1  58.27803170947482\n",
      "Loss : -313.13245294618997\n",
      "end while loop iteration :  25\n",
      "Episode 615/1000\n",
      "exploration_prob : 0.100\n",
      "stop episode because agent reach goal\n",
      "diff Qtable_N - Qtable_N-1  0.0005522761736121429\n",
      "Loss : -6.741719270622925\n",
      "end while loop iteration :  10\n",
      "Episode 616/1000\n",
      "exploration_prob : 0.100\n",
      "stop episode because agent reach goal\n",
      "diff Qtable_N - Qtable_N-1  0.0004970485562509341\n",
      "Loss : -6.741719270622925\n",
      "end while loop iteration :  10\n",
      "Episode 617/1000\n",
      "exploration_prob : 0.100\n",
      "stop episode because agent reach goal\n",
      "diff Qtable_N - Qtable_N-1  0.07765784385860736\n",
      "Loss : -13.159737061342682\n",
      "end while loop iteration :  15\n",
      "Episode 618/1000\n",
      "exploration_prob : 0.100\n",
      "No action possible. Stop episode at 35th iterations\n",
      "Save last state even is out of bound\n",
      "Q table still growths\n",
      "Loss : -108.11279512934291\n",
      "end while loop iteration :  35\n",
      "Episode 619/1000\n",
      "exploration_prob : 0.100\n",
      "No action possible. Stop episode at 28th iterations\n",
      "Save last state even is out of bound\n",
      "diff Qtable_N - Qtable_N-1  8.136103855892024\n",
      "Loss : -66.95664484152528\n",
      "end while loop iteration :  28\n",
      "Episode 620/1000\n",
      "exploration_prob : 0.100\n",
      "No action possible. Stop episode at 30th iterations\n",
      "Save last state even is out of bound\n",
      "diff Qtable_N - Qtable_N-1  4.100074144237188\n",
      "Loss : -69.24001576927014\n",
      "end while loop iteration :  30\n",
      "Episode 621/1000\n",
      "exploration_prob : 0.100\n",
      "stop episode because agent reach goal\n",
      "diff Qtable_N - Qtable_N-1  0.0004473437006258796\n",
      "Loss : -6.741719270622925\n",
      "end while loop iteration :  10\n",
      "Episode 622/1000\n",
      "exploration_prob : 0.100\n",
      "No action possible. Stop episode at 17th iterations\n",
      "Save last state even is out of bound\n",
      "diff Qtable_N - Qtable_N-1  0.45879622076036464\n",
      "Loss : -50.99598126861774\n",
      "end while loop iteration :  17\n",
      "Episode 623/1000\n",
      "exploration_prob : 0.100\n",
      "stop episode because agent reach goal\n",
      "diff Qtable_N - Qtable_N-1  0.0066298609530441865\n",
      "Loss : -6.509978321486641\n",
      "end while loop iteration :  13\n",
      "Episode 624/1000\n",
      "exploration_prob : 0.100\n",
      "No action possible. Stop episode at 5th iterations\n",
      "Save last state even is out of bound\n",
      "diff Qtable_N - Qtable_N-1  0.40177679446820036\n",
      "Loss : -30.025323198639768\n",
      "end while loop iteration :  5\n",
      "Episode 625/1000\n",
      "exploration_prob : 0.100\n",
      "stop episode because agent reach goal\n",
      "diff Qtable_N - Qtable_N-1  0.0004026093305632972\n",
      "Loss : -6.741719270622925\n",
      "end while loop iteration :  10\n",
      "Episode 626/1000\n",
      "exploration_prob : 0.100\n",
      "No action possible. Stop episode at 20th iterations\n",
      "Save last state even is out of bound\n",
      "Q table still growths\n",
      "Loss : -170.94524951246024\n",
      "end while loop iteration :  20\n",
      "Episode 627/1000\n",
      "exploration_prob : 0.100\n",
      "stop episode because agent reach goal\n",
      "diff Qtable_N - Qtable_N-1  0.02775579773076209\n",
      "Loss : -9.551391170835963\n",
      "end while loop iteration :  16\n",
      "Episode 628/1000\n",
      "exploration_prob : 0.100\n",
      "stop episode because agent reach goal\n",
      "diff Qtable_N - Qtable_N-1  0.0003623483975069286\n",
      "Loss : -6.741719270622925\n",
      "end while loop iteration :  10\n",
      "Episode 629/1000\n",
      "exploration_prob : 0.100\n",
      "stop episode because agent reach goal\n",
      "diff Qtable_N - Qtable_N-1  0.03879739205593208\n",
      "Loss : -6.182763896468927\n",
      "end while loop iteration :  12\n",
      "Episode 630/1000\n",
      "exploration_prob : 0.100\n",
      "stop episode because agent reach goal\n",
      "diff Qtable_N - Qtable_N-1  0.00032611355775624684\n",
      "Loss : -6.741719270622925\n",
      "end while loop iteration :  10\n",
      "Episode 631/1000\n",
      "exploration_prob : 0.100\n",
      "stop episode because agent reach goal\n",
      "diff Qtable_N - Qtable_N-1  0.00029350220198059995\n",
      "Loss : -6.741719270622925\n",
      "end while loop iteration :  10\n",
      "Episode 632/1000\n",
      "exploration_prob : 0.100\n",
      "stop episode because agent reach goal\n",
      "diff Qtable_N - Qtable_N-1  0.0002641519817825899\n",
      "Loss : -6.741719270622925\n",
      "end while loop iteration :  10\n",
      "Episode 633/1000\n",
      "exploration_prob : 0.100\n",
      "stop episode because agent reach goal\n",
      "diff Qtable_N - Qtable_N-1  0.015737608265882608\n",
      "Loss : -11.380712191096164\n",
      "end while loop iteration :  16\n",
      "Episode 634/1000\n",
      "exploration_prob : 0.100\n",
      "stop episode because agent reach goal\n",
      "diff Qtable_N - Qtable_N-1  0.00023773678360433648\n",
      "Loss : -6.741719270622925\n",
      "end while loop iteration :  10\n",
      "Episode 635/1000\n",
      "exploration_prob : 0.100\n",
      "No action possible. Stop episode at 33th iterations\n",
      "Save last state even is out of bound\n",
      "Q table still growths\n",
      "Loss : -321.0717660148812\n",
      "end while loop iteration :  33\n",
      "Episode 636/1000\n",
      "exploration_prob : 0.100\n",
      "stop episode because agent reach goal\n",
      "diff Qtable_N - Qtable_N-1  0.00021396310524385287\n",
      "Loss : -6.741719270622925\n",
      "end while loop iteration :  10\n",
      "Episode 637/1000\n",
      "exploration_prob : 0.100\n",
      "stop episode because agent reach goal\n",
      "diff Qtable_N - Qtable_N-1  0.00019256679471951754\n",
      "Loss : -6.741719270622925\n",
      "end while loop iteration :  10\n",
      "Episode 638/1000\n",
      "exploration_prob : 0.100\n",
      "No action possible. Stop episode at 2th iterations\n",
      "Save last state even is out of bound\n",
      "diff Qtable_N - Qtable_N-1  0.6116662312676371\n",
      "Loss : -15.145059027596101\n",
      "end while loop iteration :  2\n",
      "Episode 639/1000\n",
      "exploration_prob : 0.100\n",
      "stop episode because agent reach goal\n",
      "diff Qtable_N - Qtable_N-1  0.034917652850338876\n",
      "Loss : -6.182763896468927\n",
      "end while loop iteration :  12\n",
      "Episode 640/1000\n",
      "exploration_prob : 0.100\n",
      "stop episode because agent reach goal\n",
      "diff Qtable_N - Qtable_N-1  0.02864599118395722\n",
      "Loss : -8.53956695030103\n",
      "end while loop iteration :  12\n",
      "Episode 641/1000\n",
      "exploration_prob : 0.100\n",
      "stop episode because agent reach goal\n",
      "diff Qtable_N - Qtable_N-1  0.03142588756530501\n",
      "Loss : -6.182763896468927\n",
      "end while loop iteration :  12\n",
      "Episode 642/1000\n",
      "exploration_prob : 0.100\n",
      "stop episode because agent reach goal\n",
      "diff Qtable_N - Qtable_N-1  0.00017331011524751583\n",
      "Loss : -6.741719270622925\n",
      "end while loop iteration :  10\n",
      "Episode 643/1000\n",
      "exploration_prob : 0.100\n",
      "stop episode because agent reach goal\n",
      "diff Qtable_N - Qtable_N-1  0.0001559791037227809\n",
      "Loss : -6.741719270622925\n",
      "end while loop iteration :  10\n",
      "Episode 644/1000\n",
      "exploration_prob : 0.100\n",
      "stop episode because agent reach goal\n",
      "diff Qtable_N - Qtable_N-1  0.005966874857739779\n",
      "Loss : -6.509978321486641\n",
      "end while loop iteration :  13\n",
      "Episode 645/1000\n",
      "exploration_prob : 0.100\n",
      "stop episode because agent reach goal\n",
      "stop episode because agent reach goal\n",
      "diff Qtable_N - Qtable_N-1  0.3250095106521491\n",
      "Loss : -27.88711202256553\n",
      "end while loop iteration :  31\n",
      "Episode 646/1000\n",
      "exploration_prob : 0.100\n",
      "stop episode because agent reach goal\n",
      "diff Qtable_N - Qtable_N-1  0.000140381193350525\n",
      "Loss : -6.741719270622925\n",
      "end while loop iteration :  10\n",
      "Episode 647/1000\n",
      "exploration_prob : 0.100\n",
      "stop episode because agent reach goal\n",
      "diff Qtable_N - Qtable_N-1  0.00012634307401543365\n",
      "Loss : -6.741719270622925\n",
      "end while loop iteration :  10\n",
      "Episode 648/1000\n",
      "exploration_prob : 0.100\n",
      "stop episode because agent reach goal\n",
      "stop episode because agent reach goal\n",
      "diff Qtable_N - Qtable_N-1  0.03174412885635252\n",
      "Loss : -9.85862180367957\n",
      "end while loop iteration :  16\n",
      "Episode 649/1000\n",
      "exploration_prob : 0.100\n",
      "stop episode because agent reach goal\n",
      "diff Qtable_N - Qtable_N-1  0.00011370876661392915\n",
      "Loss : -6.741719270622925\n",
      "end while loop iteration :  10\n",
      "Episode 650/1000\n",
      "exploration_prob : 0.100\n",
      "stop episode because agent reach goal\n",
      "diff Qtable_N - Qtable_N-1  0.026553978784274124\n",
      "Loss : -9.551391170835963\n",
      "end while loop iteration :  16\n",
      "Episode 651/1000\n",
      "exploration_prob : 0.100\n",
      "No action possible. Stop episode at 20th iterations\n",
      "Save last state even is out of bound\n",
      "diff Qtable_N - Qtable_N-1  2.6911179893243475\n",
      "Loss : -295.0024666780598\n",
      "end while loop iteration :  20\n",
      "Episode 652/1000\n",
      "exploration_prob : 0.100\n",
      "stop episode because agent reach goal\n",
      "diff Qtable_N - Qtable_N-1  0.00010233788995250848\n",
      "Loss : -6.741719270622925\n",
      "end while loop iteration :  10\n",
      "Episode 653/1000\n",
      "exploration_prob : 0.100\n",
      "stop episode because agent reach goal\n",
      "diff Qtable_N - Qtable_N-1  9.210410095727983e-05\n",
      "Loss : -6.741719270622925\n",
      "end while loop iteration :  10\n",
      "Episode 654/1000\n",
      "exploration_prob : 0.100\n",
      "stop episode because agent reach goal\n",
      "diff Qtable_N - Qtable_N-1  8.289369086156295e-05\n",
      "Loss : -6.741719270622925\n",
      "end while loop iteration :  10\n",
      "Episode 655/1000\n",
      "exploration_prob : 0.100\n",
      "stop episode because agent reach goal\n",
      "stop episode because agent reach goal\n",
      "diff Qtable_N - Qtable_N-1  0.053361676557820314\n",
      "Loss : -6.741719270622925\n",
      "end while loop iteration :  10\n",
      "Episode 656/1000\n",
      "exploration_prob : 0.100\n",
      "No action possible. Stop episode at 20th iterations\n",
      "Save last state even is out of bound\n",
      "diff Qtable_N - Qtable_N-1  0.35726381829909687\n",
      "Loss : -66.85405667601233\n",
      "end while loop iteration :  20\n",
      "Episode 657/1000\n",
      "exploration_prob : 0.100\n",
      "stop episode because agent reach goal\n",
      "diff Qtable_N - Qtable_N-1  7.460432177536225e-05\n",
      "Loss : -6.741719270622925\n",
      "end while loop iteration :  10\n",
      "Episode 658/1000\n",
      "exploration_prob : 0.100\n",
      "stop episode because agent reach goal\n",
      "diff Qtable_N - Qtable_N-1  6.714388959783157e-05\n",
      "Loss : -6.741719270622925\n",
      "end while loop iteration :  10\n",
      "Episode 659/1000\n",
      "exploration_prob : 0.100\n",
      "stop episode because agent reach goal\n",
      "diff Qtable_N - Qtable_N-1  6.042950063805952e-05\n",
      "Loss : -6.741719270622925\n",
      "end while loop iteration :  10\n",
      "Episode 660/1000\n",
      "exploration_prob : 0.100\n",
      "stop episode because agent reach goal\n",
      "diff Qtable_N - Qtable_N-1  5.438655057427022e-05\n",
      "Loss : -6.741719270622925\n",
      "end while loop iteration :  10\n",
      "Episode 661/1000\n",
      "exploration_prob : 0.100\n",
      "stop episode because agent reach goal\n",
      "diff Qtable_N - Qtable_N-1  4.894789551684875e-05\n",
      "Loss : -6.741719270622925\n",
      "end while loop iteration :  10\n",
      "Episode 662/1000\n",
      "exploration_prob : 0.100\n",
      "stop episode because agent reach goal\n",
      "diff Qtable_N - Qtable_N-1  0.023898580905846678\n",
      "Loss : -9.551391170835963\n",
      "end while loop iteration :  16\n",
      "Episode 663/1000\n",
      "exploration_prob : 0.100\n",
      "No action possible. Stop episode at 11th iterations\n",
      "Save last state even is out of bound\n",
      "diff Qtable_N - Qtable_N-1  6.2531163357725505\n",
      "Loss : -30.44085517674849\n",
      "end while loop iteration :  11\n",
      "Episode 664/1000\n",
      "exploration_prob : 0.100\n",
      "stop episode because agent reach goal\n",
      "diff Qtable_N - Qtable_N-1  0.02148124635641091\n",
      "Loss : -7.259858312740862\n",
      "end while loop iteration :  16\n",
      "Episode 665/1000\n",
      "exploration_prob : 0.100\n",
      "stop episode because agent reach goal\n",
      "diff Qtable_N - Qtable_N-1  0.005370187371965818\n",
      "Loss : -6.509978321486641\n",
      "end while loop iteration :  13\n",
      "Episode 666/1000\n",
      "exploration_prob : 0.100\n",
      "No action possible. Stop episode at 9th iterations\n",
      "Save last state even is out of bound\n",
      "diff Qtable_N - Qtable_N-1  12.732061344631509\n",
      "Loss : -57.62709387701971\n",
      "end while loop iteration :  9\n",
      "Episode 667/1000\n",
      "exploration_prob : 0.100\n",
      "stop episode because agent reach goal\n",
      "diff Qtable_N - Qtable_N-1  4.4053105965169426e-05\n",
      "Loss : -6.741719270622925\n",
      "end while loop iteration :  10\n",
      "Episode 668/1000\n",
      "exploration_prob : 0.100\n",
      "No action possible. Stop episode at 33th iterations\n",
      "Save last state even is out of bound\n",
      "Q table still growths\n",
      "Loss : -204.17630233751908\n",
      "end while loop iteration :  33\n",
      "Episode 669/1000\n",
      "exploration_prob : 0.100\n",
      "stop episode because agent reach goal\n",
      "diff Qtable_N - Qtable_N-1  3.964779536863583e-05\n",
      "Loss : -6.741719270622925\n",
      "end while loop iteration :  10\n",
      "Episode 670/1000\n",
      "exploration_prob : 0.100\n",
      "No action possible. Stop episode at 13th iterations\n",
      "Save last state even is out of bound\n",
      "diff Qtable_N - Qtable_N-1  0.4450961719163061\n",
      "Loss : -62.92650458659876\n",
      "end while loop iteration :  13\n",
      "Episode 671/1000\n",
      "exploration_prob : 0.100\n",
      "No action possible. Stop episode at 31th iterations\n",
      "Save last state even is out of bound\n",
      "Q table still growths\n",
      "Loss : -53.329582038978984\n",
      "end while loop iteration :  31\n",
      "Episode 672/1000\n",
      "exploration_prob : 0.100\n",
      "stop episode because agent reach goal\n",
      "diff Qtable_N - Qtable_N-1  3.56830158317889e-05\n",
      "Loss : -6.741719270622925\n",
      "end while loop iteration :  10\n",
      "Episode 673/1000\n",
      "exploration_prob : 0.100\n",
      "stop episode because agent reach goal\n",
      "diff Qtable_N - Qtable_N-1  3.2114714248576703e-05\n",
      "Loss : -6.741719270622925\n",
      "end while loop iteration :  10\n",
      "Episode 674/1000\n",
      "exploration_prob : 0.100\n",
      "stop episode because agent reach goal\n",
      "diff Qtable_N - Qtable_N-1  2.8903242823730135e-05\n",
      "Loss : -6.741719270622925\n",
      "end while loop iteration :  10\n",
      "Episode 675/1000\n",
      "exploration_prob : 0.100\n",
      "stop episode because agent reach goal\n",
      "diff Qtable_N - Qtable_N-1  2.6012918541373775e-05\n",
      "Loss : -6.741719270622925\n",
      "end while loop iteration :  10\n",
      "Episode 676/1000\n",
      "exploration_prob : 0.100\n",
      "stop episode because agent reach goal\n",
      "diff Qtable_N - Qtable_N-1  2.3411626687230846e-05\n",
      "Loss : -6.741719270622925\n",
      "end while loop iteration :  10\n",
      "Episode 677/1000\n",
      "exploration_prob : 0.100\n",
      "stop episode because agent reach goal\n",
      "diff Qtable_N - Qtable_N-1  2.107046401850221e-05\n",
      "Loss : -6.741719270622925\n",
      "end while loop iteration :  10\n",
      "Look like nothing to learn anymore, stop training\n"
     ]
    }
   ],
   "source": [
    "with open('saved_model/RL_monoagent.pkl', 'rb') as f:\n",
    "    RL = pickle.load(f)\n",
    "\n",
    "# To lunch training remove comment\n",
    "# RL.q_learning()"
   ]
  },
  {
   "cell_type": "code",
   "execution_count": null,
   "id": "5da876bf",
   "metadata": {},
   "outputs": [
    {
     "data": {
      "image/png": "[encoded data removed]",
      "text/plain": [
       "<Figure size 640x480 with 1 Axes>"
      ]
     },
     "metadata": {},
     "output_type": "display_data"
    },
    {
     "data": {
      "image/png": "[encoded data removed]",
      "text/plain": [
       "<Figure size 640x480 with 1 Axes>"
      ]
     },
     "metadata": {},
     "output_type": "display_data"
    }
   ],
   "source": [
    "RL.plot_convergence() \n",
    "RL.plot_convergence(start = len(RL.loss_episodes) -10) #loss for the last 10 iterations"
   ]
  },
  {
   "cell_type": "markdown",
   "id": "400b0531",
   "metadata": {},
   "source": [
    "If you loaded the pre-trained model, you'll see that training stopped at episode 677. For the last five iterations the difference between $Qtable_N - Qtable_{N-1}$ remained bellow the convergence threshold (convergence_criterion = 0.5), indicating that the learning process had stabilized."
   ]
  },
  {
   "cell_type": "markdown",
   "id": "85511f9d",
   "metadata": {},
   "source": [
    "# <span style=\"color:orange\">Optimal trajectory</span>\n",
    "\n",
    "Let’s see how the rocket evolves after training.\n",
    "We start by copying the Q-table using the ``q_table`` attribute, and we replace all 0 values with ``np.nan`` to better visualize learned values.\n",
    "\n",
    "Next, we load a new environment and use its current discretized state as the starting point.\n",
    "At each iteration, we follow the action suggested by the Q-table based on the environment’s current discretized state, which is updated after every step. At the end, we save all the states visited into a data frame (dt)"
   ]
  },
  {
   "cell_type": "code",
   "execution_count": 10,
   "id": "5fd9c634",
   "metadata": {},
   "outputs": [
    {
     "name": "stdout",
     "output_type": "stream",
     "text": [
      "stop episode because agent reach goal\n",
      "stop: reach goal\n"
     ]
    }
   ],
   "source": [
    "# load policy table\n",
    "policy = RL.q_table.copy().replace(0, np.nan)\n",
    "# load environnment\n",
    "env = Environment(JOSN_file, check_model = False)\n",
    "state = env.state_for_q_table()\n",
    "flag_continue = True\n",
    "while flag_continue:\n",
    "    # control while loop\n",
    "    if not policy.index.isin([str(state)]).any():\n",
    "        flag_continue = False\n",
    "        print(\"stop: no moore state\")\n",
    "        continue\n",
    "    elif env.pos_y[-1] < 0:\n",
    "        print(\"stop: reach goal\")\n",
    "        env.delete_last_states()\n",
    "        flag_continue = False\n",
    "        continue\n",
    "    action = RL.call_choose_action(state, 0)\n",
    "    _, rewards, done, problem, info = env.step(action)\n",
    "    state = env.state_for_q_table()\n",
    "\n",
    "dt = pd.DataFrame(env.all_states())"
   ]
  },
  {
   "cell_type": "markdown",
   "id": "34c671cc",
   "metadata": {},
   "source": [
    "# <span style=\"color:orange\">Rocket Trajectory Comparison</span>\n",
    "\n",
    "Let’s compare the initial rocket landing with the new one obtained using our trained policy.\n",
    "As we can see, the second rocket reaches the ground more slowly than the first. Its trajectory appears more linear, and if we look at the speed profile, the reinforcement learning model keeps the speed within the desired limit of [-5, 5]."
   ]
  },
  {
   "cell_type": "code",
   "execution_count": 44,
   "id": "3529b12b",
   "metadata": {},
   "outputs": [
    {
     "data": {
      "image/png": "[encoded data removed]",
      "text/plain": [
       "<Figure size 640x480 with 1 Axes>"
      ]
     },
     "metadata": {},
     "output_type": "display_data"
    },
    {
     "data": {
      "image/png": "[encoded data removed]",
      "text/plain": [
       "<Figure size 640x480 with 1 Axes>"
      ]
     },
     "metadata": {},
     "output_type": "display_data"
    }
   ],
   "source": [
    "plt.plot(df_0[[\"time\"]], df_0[[\"pos_y\"]], label = \"intial trajectory\")\n",
    "plt.plot(dt[[\"time\"]], dt[[\"pos_y\"]], label = \"RL model trajectory\")\n",
    "plt.plot(dt[[\"time\"]], np.array([-5]*len(dt[[\"time\"]])), label = \"Ground\" )\n",
    "plt.title(\"Rocket landing\")\n",
    "plt.xlabel(\"Time\")\n",
    "plt.ylabel(\"Altitude\")\n",
    "plt.legend()\n",
    "plt.show()\n",
    "\n",
    "\n",
    "plt.plot(df_0[[\"time\"]], df_0[[\"speed_y\"]], \"+-\",label = \"intial trajectory\")\n",
    "plt.plot(dt[[\"time\"]], dt[[\"speed_y\"]], \"+-\", label = \"RL model trajectory\")\n",
    "plt.plot(dt[[\"time\"]], np.array([-5]*len(dt[[\"time\"]])), label = \"Speed limit\" )\n",
    "plt.title(\"Rocket speed\")\n",
    "plt.xlabel(\"Time\")\n",
    "plt.ylabel(\"Speed\")\n",
    "plt.legend()\n",
    "plt.show()"
   ]
  },
  {
   "cell_type": "markdown",
   "id": "6343a8d8",
   "metadata": {},
   "source": [
    "Even though the second rocket consumes more fuel, it successfully keeps the speed within the desired range.\n",
    "As shown in the reward plots, the RL policy allows the rocket to reach its goal more smoothly, with better speed control compared to the first attempt."
   ]
  },
  {
   "cell_type": "code",
   "execution_count": 45,
   "id": "cc5af9f7",
   "metadata": {},
   "outputs": [
    {
     "data": {
      "application/vnd.plotly.v1+json": {
       "config": {
        "plotlyServerURL": "https://plot.ly"
       },
       "data": [
        {
         "mode": "lines+markers",
         "name": "distance_y_reward",
         "type": "scatter",
         "x": [
          0,
          3,
          6,
          9,
          12,
          15,
          18,
          21,
          24,
          27,
          30,
          33
         ],
         "y": [
          1,
          0.9166857142857142,
          0.8006426229508196,
          0.7032992974238874,
          0.6263704997419915,
          0.5716296289199104,
          0.48677644282689325,
          0.37274430936545505,
          0.28463526935192235,
          0.22441788054432654,
          0.13699010212634116,
          0.02339089513692717
         ]
        },
        {
         "mode": "lines+markers",
         "name": "speed_y_reward",
         "type": "scatter",
         "x": [
          0,
          3,
          6,
          9,
          12,
          15,
          18,
          21,
          24,
          27,
          30,
          33
         ],
         "y": [
          0,
          0,
          0,
          0,
          0,
          0,
          0,
          0,
          0,
          0,
          -0.05488727860788112,
          0
         ]
        },
        {
         "mode": "lines+markers",
         "name": "ratio_fuel",
         "type": "scatter",
         "x": [
          0,
          3,
          6,
          9,
          12,
          15,
          18,
          21,
          24,
          27,
          30,
          33
         ],
         "y": [
          1,
          1,
          0.9833333333333333,
          0.9666666666666667,
          0.95,
          0.9333333333333333,
          0.9333333333333333,
          0.9166666666666666,
          0.9,
          0.8833333333333333,
          0.8833333333333333,
          0.8666666666666667
         ]
        },
        {
         "mode": "lines+markers",
         "name": "Sum of rewards",
         "type": "scatter",
         "x": [
          0,
          3,
          6,
          9,
          12,
          15,
          18,
          21,
          24,
          27,
          30,
          33
         ],
         "y": [
          -1.5,
          -1.3333714285714284,
          -1.1096185792349724,
          -0.9232652615144414,
          -0.7777409994839831,
          -0.6765925911731542,
          -0.5068862189871198,
          -0.2871552853975768,
          -0.11927053870384469,
          -0.007169094421986433,
          0.11279918380610321,
          0.38655154305947903
         ]
        }
       ],
       "layout": {
        "template": {
         "data": {
          "bar": [
           {
            "error_x": {
             "color": "#2a3f5f"
            },
            "error_y": {
             "color": "#2a3f5f"
            },
            "marker": {
             "line": {
              "color": "#E5ECF6",
              "width": 0.5
             },
             "pattern": {
              "fillmode": "overlay",
              "size": 10,
              "solidity": 0.2
             }
            },
            "type": "bar"
           }
          ],
          "barpolar": [
           {
            "marker": {
             "line": {
              "color": "#E5ECF6",
              "width": 0.5
             },
             "pattern": {
              "fillmode": "overlay",
              "size": 10,
              "solidity": 0.2
             }
            },
            "type": "barpolar"
           }
          ],
          "carpet": [
           {
            "aaxis": {
             "endlinecolor": "#2a3f5f",
             "gridcolor": "white",
             "linecolor": "white",
             "minorgridcolor": "white",
             "startlinecolor": "#2a3f5f"
            },
            "baxis": {
             "endlinecolor": "#2a3f5f",
             "gridcolor": "white",
             "linecolor": "white",
             "minorgridcolor": "white",
             "startlinecolor": "#2a3f5f"
            },
            "type": "carpet"
           }
          ],
          "choropleth": [
           {
            "colorbar": {
             "outlinewidth": 0,
             "ticks": ""
            },
            "type": "choropleth"
           }
          ],
          "contour": [
           {
            "colorbar": {
             "outlinewidth": 0,
             "ticks": ""
            },
            "colorscale": [
             [
              0,
              "#0d0887"
             ],
             [
              0.1111111111111111,
              "#46039f"
             ],
             [
              0.2222222222222222,
              "#7201a8"
             ],
             [
              0.3333333333333333,
              "#9c179e"
             ],
             [
              0.4444444444444444,
              "#bd3786"
             ],
             [
              0.5555555555555556,
              "#d8576b"
             ],
             [
              0.6666666666666666,
              "#ed7953"
             ],
             [
              0.7777777777777778,
              "#fb9f3a"
             ],
             [
              0.8888888888888888,
              "#fdca26"
             ],
             [
              1,
              "#f0f921"
             ]
            ],
            "type": "contour"
           }
          ],
          "contourcarpet": [
           {
            "colorbar": {
             "outlinewidth": 0,
             "ticks": ""
            },
            "type": "contourcarpet"
           }
          ],
          "heatmap": [
           {
            "colorbar": {
             "outlinewidth": 0,
             "ticks": ""
            },
            "colorscale": [
             [
              0,
              "#0d0887"
             ],
             [
              0.1111111111111111,
              "#46039f"
             ],
             [
              0.2222222222222222,
              "#7201a8"
             ],
             [
              0.3333333333333333,
              "#9c179e"
             ],
             [
              0.4444444444444444,
              "#bd3786"
             ],
             [
              0.5555555555555556,
              "#d8576b"
             ],
             [
              0.6666666666666666,
              "#ed7953"
             ],
             [
              0.7777777777777778,
              "#fb9f3a"
             ],
             [
              0.8888888888888888,
              "#fdca26"
             ],
             [
              1,
              "#f0f921"
             ]
            ],
            "type": "heatmap"
           }
          ],
          "heatmapgl": [
           {
            "colorbar": {
             "outlinewidth": 0,
             "ticks": ""
            },
            "colorscale": [
             [
              0,
              "#0d0887"
             ],
             [
              0.1111111111111111,
              "#46039f"
             ],
             [
              0.2222222222222222,
              "#7201a8"
             ],
             [
              0.3333333333333333,
              "#9c179e"
             ],
             [
              0.4444444444444444,
              "#bd3786"
             ],
             [
              0.5555555555555556,
              "#d8576b"
             ],
             [
              0.6666666666666666,
              "#ed7953"
             ],
             [
              0.7777777777777778,
              "#fb9f3a"
             ],
             [
              0.8888888888888888,
              "#fdca26"
             ],
             [
              1,
              "#f0f921"
             ]
            ],
            "type": "heatmapgl"
           }
          ],
          "histogram": [
           {
            "marker": {
             "pattern": {
              "fillmode": "overlay",
              "size": 10,
              "solidity": 0.2
             }
            },
            "type": "histogram"
           }
          ],
          "histogram2d": [
           {
            "colorbar": {
             "outlinewidth": 0,
             "ticks": ""
            },
            "colorscale": [
             [
              0,
              "#0d0887"
             ],
             [
              0.1111111111111111,
              "#46039f"
             ],
             [
              0.2222222222222222,
              "#7201a8"
             ],
             [
              0.3333333333333333,
              "#9c179e"
             ],
             [
              0.4444444444444444,
              "#bd3786"
             ],
             [
              0.5555555555555556,
              "#d8576b"
             ],
             [
              0.6666666666666666,
              "#ed7953"
             ],
             [
              0.7777777777777778,
              "#fb9f3a"
             ],
             [
              0.8888888888888888,
              "#fdca26"
             ],
             [
              1,
              "#f0f921"
             ]
            ],
            "type": "histogram2d"
           }
          ],
          "histogram2dcontour": [
           {
            "colorbar": {
             "outlinewidth": 0,
             "ticks": ""
            },
            "colorscale": [
             [
              0,
              "#0d0887"
             ],
             [
              0.1111111111111111,
              "#46039f"
             ],
             [
              0.2222222222222222,
              "#7201a8"
             ],
             [
              0.3333333333333333,
              "#9c179e"
             ],
             [
              0.4444444444444444,
              "#bd3786"
             ],
             [
              0.5555555555555556,
              "#d8576b"
             ],
             [
              0.6666666666666666,
              "#ed7953"
             ],
             [
              0.7777777777777778,
              "#fb9f3a"
             ],
             [
              0.8888888888888888,
              "#fdca26"
             ],
             [
              1,
              "#f0f921"
             ]
            ],
            "type": "histogram2dcontour"
           }
          ],
          "mesh3d": [
           {
            "colorbar": {
             "outlinewidth": 0,
             "ticks": ""
            },
            "type": "mesh3d"
           }
          ],
          "parcoords": [
           {
            "line": {
             "colorbar": {
              "outlinewidth": 0,
              "ticks": ""
             }
            },
            "type": "parcoords"
           }
          ],
          "pie": [
           {
            "automargin": true,
            "type": "pie"
           }
          ],
          "scatter": [
           {
            "fillpattern": {
             "fillmode": "overlay",
             "size": 10,
             "solidity": 0.2
            },
            "type": "scatter"
           }
          ],
          "scatter3d": [
           {
            "line": {
             "colorbar": {
              "outlinewidth": 0,
              "ticks": ""
             }
            },
            "marker": {
             "colorbar": {
              "outlinewidth": 0,
              "ticks": ""
             }
            },
            "type": "scatter3d"
           }
          ],
          "scattercarpet": [
           {
            "marker": {
             "colorbar": {
              "outlinewidth": 0,
              "ticks": ""
             }
            },
            "type": "scattercarpet"
           }
          ],
          "scattergeo": [
           {
            "marker": {
             "colorbar": {
              "outlinewidth": 0,
              "ticks": ""
             }
            },
            "type": "scattergeo"
           }
          ],
          "scattergl": [
           {
            "marker": {
             "colorbar": {
              "outlinewidth": 0,
              "ticks": ""
             }
            },
            "type": "scattergl"
           }
          ],
          "scattermapbox": [
           {
            "marker": {
             "colorbar": {
              "outlinewidth": 0,
              "ticks": ""
             }
            },
            "type": "scattermapbox"
           }
          ],
          "scatterpolar": [
           {
            "marker": {
             "colorbar": {
              "outlinewidth": 0,
              "ticks": ""
             }
            },
            "type": "scatterpolar"
           }
          ],
          "scatterpolargl": [
           {
            "marker": {
             "colorbar": {
              "outlinewidth": 0,
              "ticks": ""
             }
            },
            "type": "scatterpolargl"
           }
          ],
          "scatterternary": [
           {
            "marker": {
             "colorbar": {
              "outlinewidth": 0,
              "ticks": ""
             }
            },
            "type": "scatterternary"
           }
          ],
          "surface": [
           {
            "colorbar": {
             "outlinewidth": 0,
             "ticks": ""
            },
            "colorscale": [
             [
              0,
              "#0d0887"
             ],
             [
              0.1111111111111111,
              "#46039f"
             ],
             [
              0.2222222222222222,
              "#7201a8"
             ],
             [
              0.3333333333333333,
              "#9c179e"
             ],
             [
              0.4444444444444444,
              "#bd3786"
             ],
             [
              0.5555555555555556,
              "#d8576b"
             ],
             [
              0.6666666666666666,
              "#ed7953"
             ],
             [
              0.7777777777777778,
              "#fb9f3a"
             ],
             [
              0.8888888888888888,
              "#fdca26"
             ],
             [
              1,
              "#f0f921"
             ]
            ],
            "type": "surface"
           }
          ],
          "table": [
           {
            "cells": {
             "fill": {
              "color": "#EBF0F8"
             },
             "line": {
              "color": "white"
             }
            },
            "header": {
             "fill": {
              "color": "#C8D4E3"
             },
             "line": {
              "color": "white"
             }
            },
            "type": "table"
           }
          ]
         },
         "layout": {
          "annotationdefaults": {
           "arrowcolor": "#2a3f5f",
           "arrowhead": 0,
           "arrowwidth": 1
          },
          "autotypenumbers": "strict",
          "coloraxis": {
           "colorbar": {
            "outlinewidth": 0,
            "ticks": ""
           }
          },
          "colorscale": {
           "diverging": [
            [
             0,
             "#8e0152"
            ],
            [
             0.1,
             "#c51b7d"
            ],
            [
             0.2,
             "#de77ae"
            ],
            [
             0.3,
             "#f1b6da"
            ],
            [
             0.4,
             "#fde0ef"
            ],
            [
             0.5,
             "#f7f7f7"
            ],
            [
             0.6,
             "#e6f5d0"
            ],
            [
             0.7,
             "#b8e186"
            ],
            [
             0.8,
             "#7fbc41"
            ],
            [
             0.9,
             "#4d9221"
            ],
            [
             1,
             "#276419"
            ]
           ],
           "sequential": [
            [
             0,
             "#0d0887"
            ],
            [
             0.1111111111111111,
             "#46039f"
            ],
            [
             0.2222222222222222,
             "#7201a8"
            ],
            [
             0.3333333333333333,
             "#9c179e"
            ],
            [
             0.4444444444444444,
             "#bd3786"
            ],
            [
             0.5555555555555556,
             "#d8576b"
            ],
            [
             0.6666666666666666,
             "#ed7953"
            ],
            [
             0.7777777777777778,
             "#fb9f3a"
            ],
            [
             0.8888888888888888,
             "#fdca26"
            ],
            [
             1,
             "#f0f921"
            ]
           ],
           "sequentialminus": [
            [
             0,
             "#0d0887"
            ],
            [
             0.1111111111111111,
             "#46039f"
            ],
            [
             0.2222222222222222,
             "#7201a8"
            ],
            [
             0.3333333333333333,
             "#9c179e"
            ],
            [
             0.4444444444444444,
             "#bd3786"
            ],
            [
             0.5555555555555556,
             "#d8576b"
            ],
            [
             0.6666666666666666,
             "#ed7953"
            ],
            [
             0.7777777777777778,
             "#fb9f3a"
            ],
            [
             0.8888888888888888,
             "#fdca26"
            ],
            [
             1,
             "#f0f921"
            ]
           ]
          },
          "colorway": [
           "#636efa",
           "#EF553B",
           "#00cc96",
           "#ab63fa",
           "#FFA15A",
           "#19d3f3",
           "#FF6692",
           "#B6E880",
           "#FF97FF",
           "#FECB52"
          ],
          "font": {
           "color": "#2a3f5f"
          },
          "geo": {
           "bgcolor": "white",
           "lakecolor": "white",
           "landcolor": "#E5ECF6",
           "showlakes": true,
           "showland": true,
           "subunitcolor": "white"
          },
          "hoverlabel": {
           "align": "left"
          },
          "hovermode": "closest",
          "mapbox": {
           "style": "light"
          },
          "paper_bgcolor": "white",
          "plot_bgcolor": "#E5ECF6",
          "polar": {
           "angularaxis": {
            "gridcolor": "white",
            "linecolor": "white",
            "ticks": ""
           },
           "bgcolor": "#E5ECF6",
           "radialaxis": {
            "gridcolor": "white",
            "linecolor": "white",
            "ticks": ""
           }
          },
          "scene": {
           "xaxis": {
            "backgroundcolor": "#E5ECF6",
            "gridcolor": "white",
            "gridwidth": 2,
            "linecolor": "white",
            "showbackground": true,
            "ticks": "",
            "zerolinecolor": "white"
           },
           "yaxis": {
            "backgroundcolor": "#E5ECF6",
            "gridcolor": "white",
            "gridwidth": 2,
            "linecolor": "white",
            "showbackground": true,
            "ticks": "",
            "zerolinecolor": "white"
           },
           "zaxis": {
            "backgroundcolor": "#E5ECF6",
            "gridcolor": "white",
            "gridwidth": 2,
            "linecolor": "white",
            "showbackground": true,
            "ticks": "",
            "zerolinecolor": "white"
           }
          },
          "shapedefaults": {
           "line": {
            "color": "#2a3f5f"
           }
          },
          "ternary": {
           "aaxis": {
            "gridcolor": "white",
            "linecolor": "white",
            "ticks": ""
           },
           "baxis": {
            "gridcolor": "white",
            "linecolor": "white",
            "ticks": ""
           },
           "bgcolor": "#E5ECF6",
           "caxis": {
            "gridcolor": "white",
            "linecolor": "white",
            "ticks": ""
           }
          },
          "title": {
           "x": 0.05
          },
          "xaxis": {
           "automargin": true,
           "gridcolor": "white",
           "linecolor": "white",
           "ticks": "",
           "title": {
            "standoff": 15
           },
           "zerolinecolor": "white",
           "zerolinewidth": 2
          },
          "yaxis": {
           "automargin": true,
           "gridcolor": "white",
           "linecolor": "white",
           "ticks": "",
           "title": {
            "standoff": 15
           },
           "zerolinecolor": "white",
           "zerolinewidth": 2
          }
         }
        },
        "title": {
         "text": "Reward and its components"
        },
        "xaxis": {
         "title": {
          "text": "Time step"
         }
        },
        "yaxis": {
         "title": {
          "text": "Score"
         }
        }
       }
      }
     },
     "metadata": {},
     "output_type": "display_data"
    }
   ],
   "source": [
    "plot_reward_rocket_monoagent(env)"
   ]
  }
 ],
 "metadata": {
  "kernelspec": {
   "display_name": "venv",
   "language": "python",
   "name": "python3"
  },
  "language_info": {
   "codemirror_mode": {
    "name": "ipython",
    "version": 3
   },
   "file_extension": ".py",
   "mimetype": "text/x-python",
   "name": "python",
   "nbconvert_exporter": "python",
   "pygments_lexer": "ipython3",
   "version": "3.10.11"
  }
 },
 "nbformat": 4,
 "nbformat_minor": 5
}

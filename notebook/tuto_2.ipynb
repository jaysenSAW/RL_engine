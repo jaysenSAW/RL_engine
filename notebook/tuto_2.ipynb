{
 "cells": [
  {
   "cell_type": "code",
   "execution_count": 1,
   "id": "c30a7c5c-5ee2-4210-aec8-521c672a54ca",
   "metadata": {},
   "outputs": [],
   "source": [
    "import matplotlib.pyplot as plt\n",
    "import numpy as np\n",
    "import sys\n",
    "import warnings\n",
    "import plotly.express as px \n",
    "from plotly.subplots import make_subplots\n",
    "import plotly.graph_objects as go\n",
    "warnings.simplefilter(action='ignore', category=FutureWarning)\n",
    "import pandas as pd\n",
    "import plotly.express as px \n",
    "import seaborn as sns\n",
    "sys.path.insert(1, \"../src/utils/\")\n",
    "from agent import Environment\n",
    "from Q_learning import QLearningTrainer\n",
    "sys.path.insert(1, \"plotly_graph/\")\n",
    "from functions4tuto import rocket_simulation, plot_rocket_altitude, plot_reward_rocket_monoagent\n",
    "JOSN_file = \"rocket_tuto_2a.json\""
   ]
  },
  {
   "cell_type": "markdown",
   "id": "99ffc6d0",
   "metadata": {},
   "source": [
    "# <span style=\"color:orange\">Input file</span>\n",
    "\n",
    "In the previous tutorial we defined our environment and designed a reward function. The system is a rocket that falling from a starting point and the goal is to reach a target with a minimum speed and maximize fuel.\n",
    "Variable's names, their initial values and boundaries limit are defined into a JSON file (or can be given directly into a dictionary)\n",
    "\n",
    "## <span style=\"color:orange\">Variables</span>\n",
    "\n",
    "Variables can be categorize into 3 classes:\n",
    "* `states_variables` : variable used as coordinate to describe our system\n",
    "* `agent_variables` : variable use as agent. Their values are changed for each iteration\n",
    "* 3th category are other variables. They are not used to describe our environment but they can be usefull to monitor information or to compute intermediate value. \n",
    "  There is no key for this kind of variable. Consider them as variables present into `initial_values` field and that are not `states_variables` and `agent_variables`\n",
    "\n",
    "You can access to the name of state and agent variables, with the attibute `states_variables` and `agent_variables`.\n",
    "\n",
    "    \"states_variables\" : [\"pos_y\", \"acceleration_y\", \"speed_y\"],\n",
    "    \"agent_variables\" : [\"booster\"]\n",
    "\n",
    "## <span style=\"color:orange\">Initial system</span>\n",
    "\n",
    "After to name `states_variables` and `agent_variables`, next step is to define initial state.\n",
    "It will be use as environment coordinates at the beginning of each episode. Initially, it comprises \n",
    "the values of state_variables, followed by agent_variables, and finally other variables that are \n",
    "not used for the system's coordinates.\n",
    "\n",
    "    \"initial_values\" : {\n",
    "      \"pos_y\" : [175.0],\n",
    "      \"speed_x\": [0.0],\n",
    "      \"speed_y\": [0.0],\n",
    "      \"weight_rocket\" : [305],\n",
    "      \"booster\" : [0.0],\n",
    "      \"acceleration_y\": [0.0],\n",
    "      \"m_fuel\" : [300],\n",
    "      \"futur_pos_y\" : [175.0],\n",
    "      \"weight_dry_rocket\" : [5],\n",
    "      \"G\" : [1.62],\n",
    "      \"m_fuel_ini\" : [300.0],\n",
    "      \"pos_y_star\": [0.0],\n",
    "      \"pos_y_ini\" : [175.0],\n",
    "      \"dt\" : [2]\n",
    "      }\n",
    "\n",
    "**NB:** Because we do not modify rocket's angle, we will not show ```pos_x, speed_x and acceleration_x (you can see all variable by calling env.json[\"initial_values\"])```\n",
    "\n",
    "## <span style=\"color:orange\">Limit</span>\n",
    "\n",
    "Q-learning algorithms model events as a Markov process. Therefore, it is necessary to discretize our environment space. \n",
    "We define lower and upper bounds, as well as the number of divisions we want to use to discretize the variable space.\n",
    "\n",
    "\n",
    "    \"limit\" : {\n",
    "      \"pos_x\" : [0.0, 300, 61],\n",
    "      \"pos_y\" : [0.0, 200.0, 81],\n",
    "      \"angle\" : [-0.8, 0.8, 3],\n",
    "      \"speed_y\": [-30.0, 30.0, 13],\n",
    "      \"weight_rocket\" : [0.0, 305, 62],\n",
    "      \"booster\" : [0.0, 2.0, 3],\n",
    "      \"acceleration_y\": [-20.0, 20.0, 21],\n",
    "      \"m_fuel\" : [0.0, 400, 801]\n",
    "    }\n"
   ]
  },
  {
   "cell_type": "markdown",
   "id": "a6c4b678",
   "metadata": {},
   "source": [
    "## <span style=\"color:orange\">Agents's actions</span>\n",
    "    \"n_action\" : {\n",
    "      \"booster\": {\"0\" : 0.0, \"1\" : 1.0, \"2\" : 2.0}\n",
    "    }\n",
    "\n",
    "After defining the variables and their initial values, we proceed to define actions that apply to the agent variables. In this example, we have 1 agent that can take 3 actions:\n",
    "\n",
    "For the booster:\n",
    "  * \"0\": Booster is off.\n",
    "  * \"1\": Booster is turned on to half of its power.\n",
    "  * \"2\": Booster is turned on to its full power.\n",
    "\n",
    "## <span style=\"color:orange\">Actions to take</span>\n",
    "\n",
    "    \"action_to_take\" : {\n",
    "      \"booster\": {\"$booster$\" : \"$action}\n",
    "    }\n",
    "\n",
    "Actions change the agent variables by modifying their values based on the action taken, which are retrieved from the n_action dictionary. You can change default delimiter during the initilisation:\n",
    "\n",
    "`agent = Environment(json_file, delimiter = \"Char_you_want\")`"
   ]
  },
  {
   "cell_type": "markdown",
   "id": "37ba311d",
   "metadata": {},
   "source": [
    "## <span style=\"color:orange\">System's evolution and reward</span>\n",
    "\n",
    "Last fields are how variables evolve after agents's action and how reward are computed.\n",
    "Only variables present in field inital value are stored. Other variables present are just temporary and are lost after each iteration.\n",
    "Reward values are stored into a dictionnary, the keys are agent variable's name.\n",
    "Timestep value (dt) is 3, to let the system evolve enough without the need to have an high resolution in state variable's space.\n",
    "\n",
    "### <span style=\"color:orange\">Equation variables</span>\n",
    "    \"equations_variables\": {\n",
    "        \"$F$\" : \"600\",\n",
    "        \"$y_0$\" : \"$pos_y$\",\n",
    "        \"$Vy_0$\" : \"$speed_y$\",\n",
    "        \"$m_fuel$\" : \"$m_fuel$ - $booster$ *5 -np.ceil( np.abs($alpha$) ) *5\",\n",
    "        \"$weight_rocket$\" : \"$weight_dry_rocket$ + $m_fuel$\",\n",
    "        \"$acceleration_y$\" : \"($F$/(5+$weight_rocket$) * np.cos($angle$)) * $booster$ - $G$\",\n",
    "        \"$speed_y$\" : \"($F$/(5+$weight_rocket$) * np.cos($angle$)) * $booster$ * $dt$ - $G$ * $dt$ + $Vy_0$\",\n",
    "        \"$pos_x$\": \"(0.5 * $F$/(5+$weight_rocket$) * np.sin($angle$)) * $booster$ * $dt$**2 + $Vx_0$ * $dt$ + $x_0$\",\n",
    "        \"$pos_y$\": \"(0.5 * $F$/(5+$weight_rocket$) * np.cos($angle$)) * $booster$ * $dt$**2 - $G$ * $dt$**2 + $Vy_0$ * $dt$ + $y_0$\",\n",
    "        \"$futur_pos_y$\" : \"$pos_y$ + 3 * $speed_y$\",\n",
    "        \"y_lower_limit\" : \"0\",\n",
    "        \"y_upper_limit\" : \"200\",\n",
    "        \"$upper_boundary$\": \"-np.exp(0) + np.exp(np.min([ np.min(-$futur_pos_y$ + y_upper_limit), 0]))\",\n",
    "        \"$lower_boundary$\": \"-np.exp(0) + np.exp(np.min([ np.min($futur_pos_y$ -y_lower_limit), 0]))\"\n",
    "    },\n",
    "\n",
    "### <span style=\"color:orange\">Reward</span>\n",
    "\n",
    "The reward indicates the immediate benefit or cost associated with the action.\n",
    "The scalar feedback signal that the environment sends to the agent after it takes an action are defined into this dictionnary.\n",
    "\n",
    "    \"equations_rewards\": {\n",
    "      \"$booster$\" : \"2*(-distance_y_reward) + speed_y_reward + 0.5 * ratio_fuel\"\n",
    "    }"
   ]
  },
  {
   "cell_type": "markdown",
   "metadata": {},
   "source": [
    "## <span style=\"color:orange\">Stop episode</span>\n",
    "\n",
    "stop episode when goal is reach. If feature has 1 value, its feature's value must be equal.\n",
    "In other hand, if feature has 2 values ([min_limit, max_limit]), criterion is bounded feature >= min_limit and feature <= max_limit\n",
    "\n",
    "    \"stop_episode\" : {\n",
    "      \"pos_y\" : [0, 5],\n",
    "      \"acceleration_y\" : [-2,2],\n",
    "      \"speed_y\" : [-2,2]\n",
    "    }"
   ]
  },
  {
   "cell_type": "markdown",
   "id": "edae6973",
   "metadata": {},
   "source": [
    "## <span style=\"color:orange\">A simple scenario</span>"
   ]
  },
  {
   "cell_type": "markdown",
   "id": "84614d8e",
   "metadata": {},
   "source": [
    "We want to land our rocket without it crashing. In this scenario, the rocket can take three actions: turn off its booster, or turn it on at half or full power.\n",
    "\n",
    "Let’s model our ideal scenario. We want to activate the booster when the rocket exceeds speed or acceleration limits, and on the other hand, we want to conserve fuel whenever possible."
   ]
  },
  {
   "cell_type": "markdown",
   "id": "c79d7405-5fcf-45ee-8abf-c1af457b58b9",
   "metadata": {},
   "source": [
    "# <span style=\"color:orange\">Intialize environment</span>\n",
    "\n",
    "Create an environment object with the rules defined previously. The idea is to check the new field can raise a flag to stop simulation when the criteria are reached:\n",
    "\n",
    "* 0 <= pos_y >= 5\n",
    "* -5 <= acceleration_y >= 5\n",
    "\n",
    "We will also control the speed of the rocket and its acceleration to keep as possible those parameters between this range:\n",
    "\n",
    "* -5 >= speed_y <= 5\n",
    "* -10 <= acceleration_y >= 10"
   ]
  },
  {
   "cell_type": "code",
   "execution_count": null,
   "id": "5537121a",
   "metadata": {},
   "outputs": [
    {
     "name": "stdout",
     "output_type": "stream",
     "text": [
      "speed limit\n",
      "turn on engine to increase speed\n",
      "speed limit\n",
      "turn on engine to increase speed\n",
      "speed limit\n",
      "turn on engine to increase speed\n",
      "speed limit\n",
      "turn on engine to increase speed\n",
      "orcket is bellow the ground\n"
     ]
    },
    {
     "data": {
      "application/vnd.plotly.v1+json": {
       "config": {
        "plotlyServerURL": "https://plot.ly"
       },
       "data": [
        {
         "mode": "lines+markers",
         "name": "Height",
         "type": "scatter",
         "x": [
          0,
          3,
          6,
          9,
          12,
          15,
          18,
          21
         ],
         "y": [
          175,
          160.42,
          131.26,
          96.37245901639344,
          64.75737704918032,
          36.714837454848556,
          12.555185060984357,
          -7.400438294767323
         ]
        },
        {
         "mode": "lines+markers",
         "name": "futur_position_dt+0",
         "type": "scatter",
         "x": [
          0,
          3,
          6,
          9,
          12,
          15,
          18,
          21
         ],
         "y": [
          175,
          160.42,
          131.26,
          96.37245901639344,
          64.75737704918032,
          36.714837454848556,
          12.555185060984357,
          -7.400438294767323
         ]
        }
       ],
       "layout": {
        "template": {
         "data": {
          "bar": [
           {
            "error_x": {
             "color": "#2a3f5f"
            },
            "error_y": {
             "color": "#2a3f5f"
            },
            "marker": {
             "line": {
              "color": "#E5ECF6",
              "width": 0.5
             },
             "pattern": {
              "fillmode": "overlay",
              "size": 10,
              "solidity": 0.2
             }
            },
            "type": "bar"
           }
          ],
          "barpolar": [
           {
            "marker": {
             "line": {
              "color": "#E5ECF6",
              "width": 0.5
             },
             "pattern": {
              "fillmode": "overlay",
              "size": 10,
              "solidity": 0.2
             }
            },
            "type": "barpolar"
           }
          ],
          "carpet": [
           {
            "aaxis": {
             "endlinecolor": "#2a3f5f",
             "gridcolor": "white",
             "linecolor": "white",
             "minorgridcolor": "white",
             "startlinecolor": "#2a3f5f"
            },
            "baxis": {
             "endlinecolor": "#2a3f5f",
             "gridcolor": "white",
             "linecolor": "white",
             "minorgridcolor": "white",
             "startlinecolor": "#2a3f5f"
            },
            "type": "carpet"
           }
          ],
          "choropleth": [
           {
            "colorbar": {
             "outlinewidth": 0,
             "ticks": ""
            },
            "type": "choropleth"
           }
          ],
          "contour": [
           {
            "colorbar": {
             "outlinewidth": 0,
             "ticks": ""
            },
            "colorscale": [
             [
              0,
              "#0d0887"
             ],
             [
              0.1111111111111111,
              "#46039f"
             ],
             [
              0.2222222222222222,
              "#7201a8"
             ],
             [
              0.3333333333333333,
              "#9c179e"
             ],
             [
              0.4444444444444444,
              "#bd3786"
             ],
             [
              0.5555555555555556,
              "#d8576b"
             ],
             [
              0.6666666666666666,
              "#ed7953"
             ],
             [
              0.7777777777777778,
              "#fb9f3a"
             ],
             [
              0.8888888888888888,
              "#fdca26"
             ],
             [
              1,
              "#f0f921"
             ]
            ],
            "type": "contour"
           }
          ],
          "contourcarpet": [
           {
            "colorbar": {
             "outlinewidth": 0,
             "ticks": ""
            },
            "type": "contourcarpet"
           }
          ],
          "heatmap": [
           {
            "colorbar": {
             "outlinewidth": 0,
             "ticks": ""
            },
            "colorscale": [
             [
              0,
              "#0d0887"
             ],
             [
              0.1111111111111111,
              "#46039f"
             ],
             [
              0.2222222222222222,
              "#7201a8"
             ],
             [
              0.3333333333333333,
              "#9c179e"
             ],
             [
              0.4444444444444444,
              "#bd3786"
             ],
             [
              0.5555555555555556,
              "#d8576b"
             ],
             [
              0.6666666666666666,
              "#ed7953"
             ],
             [
              0.7777777777777778,
              "#fb9f3a"
             ],
             [
              0.8888888888888888,
              "#fdca26"
             ],
             [
              1,
              "#f0f921"
             ]
            ],
            "type": "heatmap"
           }
          ],
          "heatmapgl": [
           {
            "colorbar": {
             "outlinewidth": 0,
             "ticks": ""
            },
            "colorscale": [
             [
              0,
              "#0d0887"
             ],
             [
              0.1111111111111111,
              "#46039f"
             ],
             [
              0.2222222222222222,
              "#7201a8"
             ],
             [
              0.3333333333333333,
              "#9c179e"
             ],
             [
              0.4444444444444444,
              "#bd3786"
             ],
             [
              0.5555555555555556,
              "#d8576b"
             ],
             [
              0.6666666666666666,
              "#ed7953"
             ],
             [
              0.7777777777777778,
              "#fb9f3a"
             ],
             [
              0.8888888888888888,
              "#fdca26"
             ],
             [
              1,
              "#f0f921"
             ]
            ],
            "type": "heatmapgl"
           }
          ],
          "histogram": [
           {
            "marker": {
             "pattern": {
              "fillmode": "overlay",
              "size": 10,
              "solidity": 0.2
             }
            },
            "type": "histogram"
           }
          ],
          "histogram2d": [
           {
            "colorbar": {
             "outlinewidth": 0,
             "ticks": ""
            },
            "colorscale": [
             [
              0,
              "#0d0887"
             ],
             [
              0.1111111111111111,
              "#46039f"
             ],
             [
              0.2222222222222222,
              "#7201a8"
             ],
             [
              0.3333333333333333,
              "#9c179e"
             ],
             [
              0.4444444444444444,
              "#bd3786"
             ],
             [
              0.5555555555555556,
              "#d8576b"
             ],
             [
              0.6666666666666666,
              "#ed7953"
             ],
             [
              0.7777777777777778,
              "#fb9f3a"
             ],
             [
              0.8888888888888888,
              "#fdca26"
             ],
             [
              1,
              "#f0f921"
             ]
            ],
            "type": "histogram2d"
           }
          ],
          "histogram2dcontour": [
           {
            "colorbar": {
             "outlinewidth": 0,
             "ticks": ""
            },
            "colorscale": [
             [
              0,
              "#0d0887"
             ],
             [
              0.1111111111111111,
              "#46039f"
             ],
             [
              0.2222222222222222,
              "#7201a8"
             ],
             [
              0.3333333333333333,
              "#9c179e"
             ],
             [
              0.4444444444444444,
              "#bd3786"
             ],
             [
              0.5555555555555556,
              "#d8576b"
             ],
             [
              0.6666666666666666,
              "#ed7953"
             ],
             [
              0.7777777777777778,
              "#fb9f3a"
             ],
             [
              0.8888888888888888,
              "#fdca26"
             ],
             [
              1,
              "#f0f921"
             ]
            ],
            "type": "histogram2dcontour"
           }
          ],
          "mesh3d": [
           {
            "colorbar": {
             "outlinewidth": 0,
             "ticks": ""
            },
            "type": "mesh3d"
           }
          ],
          "parcoords": [
           {
            "line": {
             "colorbar": {
              "outlinewidth": 0,
              "ticks": ""
             }
            },
            "type": "parcoords"
           }
          ],
          "pie": [
           {
            "automargin": true,
            "type": "pie"
           }
          ],
          "scatter": [
           {
            "fillpattern": {
             "fillmode": "overlay",
             "size": 10,
             "solidity": 0.2
            },
            "type": "scatter"
           }
          ],
          "scatter3d": [
           {
            "line": {
             "colorbar": {
              "outlinewidth": 0,
              "ticks": ""
             }
            },
            "marker": {
             "colorbar": {
              "outlinewidth": 0,
              "ticks": ""
             }
            },
            "type": "scatter3d"
           }
          ],
          "scattercarpet": [
           {
            "marker": {
             "colorbar": {
              "outlinewidth": 0,
              "ticks": ""
             }
            },
            "type": "scattercarpet"
           }
          ],
          "scattergeo": [
           {
            "marker": {
             "colorbar": {
              "outlinewidth": 0,
              "ticks": ""
             }
            },
            "type": "scattergeo"
           }
          ],
          "scattergl": [
           {
            "marker": {
             "colorbar": {
              "outlinewidth": 0,
              "ticks": ""
             }
            },
            "type": "scattergl"
           }
          ],
          "scattermapbox": [
           {
            "marker": {
             "colorbar": {
              "outlinewidth": 0,
              "ticks": ""
             }
            },
            "type": "scattermapbox"
           }
          ],
          "scatterpolar": [
           {
            "marker": {
             "colorbar": {
              "outlinewidth": 0,
              "ticks": ""
             }
            },
            "type": "scatterpolar"
           }
          ],
          "scatterpolargl": [
           {
            "marker": {
             "colorbar": {
              "outlinewidth": 0,
              "ticks": ""
             }
            },
            "type": "scatterpolargl"
           }
          ],
          "scatterternary": [
           {
            "marker": {
             "colorbar": {
              "outlinewidth": 0,
              "ticks": ""
             }
            },
            "type": "scatterternary"
           }
          ],
          "surface": [
           {
            "colorbar": {
             "outlinewidth": 0,
             "ticks": ""
            },
            "colorscale": [
             [
              0,
              "#0d0887"
             ],
             [
              0.1111111111111111,
              "#46039f"
             ],
             [
              0.2222222222222222,
              "#7201a8"
             ],
             [
              0.3333333333333333,
              "#9c179e"
             ],
             [
              0.4444444444444444,
              "#bd3786"
             ],
             [
              0.5555555555555556,
              "#d8576b"
             ],
             [
              0.6666666666666666,
              "#ed7953"
             ],
             [
              0.7777777777777778,
              "#fb9f3a"
             ],
             [
              0.8888888888888888,
              "#fdca26"
             ],
             [
              1,
              "#f0f921"
             ]
            ],
            "type": "surface"
           }
          ],
          "table": [
           {
            "cells": {
             "fill": {
              "color": "#EBF0F8"
             },
             "line": {
              "color": "white"
             }
            },
            "header": {
             "fill": {
              "color": "#C8D4E3"
             },
             "line": {
              "color": "white"
             }
            },
            "type": "table"
           }
          ]
         },
         "layout": {
          "annotationdefaults": {
           "arrowcolor": "#2a3f5f",
           "arrowhead": 0,
           "arrowwidth": 1
          },
          "autotypenumbers": "strict",
          "coloraxis": {
           "colorbar": {
            "outlinewidth": 0,
            "ticks": ""
           }
          },
          "colorscale": {
           "diverging": [
            [
             0,
             "#8e0152"
            ],
            [
             0.1,
             "#c51b7d"
            ],
            [
             0.2,
             "#de77ae"
            ],
            [
             0.3,
             "#f1b6da"
            ],
            [
             0.4,
             "#fde0ef"
            ],
            [
             0.5,
             "#f7f7f7"
            ],
            [
             0.6,
             "#e6f5d0"
            ],
            [
             0.7,
             "#b8e186"
            ],
            [
             0.8,
             "#7fbc41"
            ],
            [
             0.9,
             "#4d9221"
            ],
            [
             1,
             "#276419"
            ]
           ],
           "sequential": [
            [
             0,
             "#0d0887"
            ],
            [
             0.1111111111111111,
             "#46039f"
            ],
            [
             0.2222222222222222,
             "#7201a8"
            ],
            [
             0.3333333333333333,
             "#9c179e"
            ],
            [
             0.4444444444444444,
             "#bd3786"
            ],
            [
             0.5555555555555556,
             "#d8576b"
            ],
            [
             0.6666666666666666,
             "#ed7953"
            ],
            [
             0.7777777777777778,
             "#fb9f3a"
            ],
            [
             0.8888888888888888,
             "#fdca26"
            ],
            [
             1,
             "#f0f921"
            ]
           ],
           "sequentialminus": [
            [
             0,
             "#0d0887"
            ],
            [
             0.1111111111111111,
             "#46039f"
            ],
            [
             0.2222222222222222,
             "#7201a8"
            ],
            [
             0.3333333333333333,
             "#9c179e"
            ],
            [
             0.4444444444444444,
             "#bd3786"
            ],
            [
             0.5555555555555556,
             "#d8576b"
            ],
            [
             0.6666666666666666,
             "#ed7953"
            ],
            [
             0.7777777777777778,
             "#fb9f3a"
            ],
            [
             0.8888888888888888,
             "#fdca26"
            ],
            [
             1,
             "#f0f921"
            ]
           ]
          },
          "colorway": [
           "#636efa",
           "#EF553B",
           "#00cc96",
           "#ab63fa",
           "#FFA15A",
           "#19d3f3",
           "#FF6692",
           "#B6E880",
           "#FF97FF",
           "#FECB52"
          ],
          "font": {
           "color": "#2a3f5f"
          },
          "geo": {
           "bgcolor": "white",
           "lakecolor": "white",
           "landcolor": "#E5ECF6",
           "showlakes": true,
           "showland": true,
           "subunitcolor": "white"
          },
          "hoverlabel": {
           "align": "left"
          },
          "hovermode": "closest",
          "mapbox": {
           "style": "light"
          },
          "paper_bgcolor": "white",
          "plot_bgcolor": "#E5ECF6",
          "polar": {
           "angularaxis": {
            "gridcolor": "white",
            "linecolor": "white",
            "ticks": ""
           },
           "bgcolor": "#E5ECF6",
           "radialaxis": {
            "gridcolor": "white",
            "linecolor": "white",
            "ticks": ""
           }
          },
          "scene": {
           "xaxis": {
            "backgroundcolor": "#E5ECF6",
            "gridcolor": "white",
            "gridwidth": 2,
            "linecolor": "white",
            "showbackground": true,
            "ticks": "",
            "zerolinecolor": "white"
           },
           "yaxis": {
            "backgroundcolor": "#E5ECF6",
            "gridcolor": "white",
            "gridwidth": 2,
            "linecolor": "white",
            "showbackground": true,
            "ticks": "",
            "zerolinecolor": "white"
           },
           "zaxis": {
            "backgroundcolor": "#E5ECF6",
            "gridcolor": "white",
            "gridwidth": 2,
            "linecolor": "white",
            "showbackground": true,
            "ticks": "",
            "zerolinecolor": "white"
           }
          },
          "shapedefaults": {
           "line": {
            "color": "#2a3f5f"
           }
          },
          "ternary": {
           "aaxis": {
            "gridcolor": "white",
            "linecolor": "white",
            "ticks": ""
           },
           "baxis": {
            "gridcolor": "white",
            "linecolor": "white",
            "ticks": ""
           },
           "bgcolor": "#E5ECF6",
           "caxis": {
            "gridcolor": "white",
            "linecolor": "white",
            "ticks": ""
           }
          },
          "title": {
           "x": 0.05
          },
          "xaxis": {
           "automargin": true,
           "gridcolor": "white",
           "linecolor": "white",
           "ticks": "",
           "title": {
            "standoff": 15
           },
           "zerolinecolor": "white",
           "zerolinewidth": 2
          },
          "yaxis": {
           "automargin": true,
           "gridcolor": "white",
           "linecolor": "white",
           "ticks": "",
           "title": {
            "standoff": 15
           },
           "zerolinecolor": "white",
           "zerolinewidth": 2
          }
         }
        },
        "title": {
         "text": "Rocket's altitude"
        },
        "xaxis": {
         "title": {
          "text": "Time step"
         }
        },
        "yaxis": {
         "title": {
          "text": "Altitude"
         }
        }
       }
      }
     },
     "metadata": {},
     "output_type": "display_data"
    }
   ],
   "source": [
    "# Create an environment object with the rules defined previously\n",
    "env_ref = Environment(JOSN_file, check_model = False)\n",
    "df_0 = rocket_simulation(env_ref, acceleration_y_constraint = 10, speed_y_limit = 5, timestep = 0)\n",
    "plot_rocket_altitude(df_0)"
   ]
  },
  {
   "cell_type": "markdown",
   "id": "978f594d",
   "metadata": {},
   "source": [
    "Altitude plot reveals at t = 12, rocket's speed is to high. Indeed, in the next timestep rocket's position is -8.14. If we look to the speed, we can see final speed is bellow -12.4. "
   ]
  },
  {
   "cell_type": "code",
   "execution_count": 44,
   "id": "c0dd235d",
   "metadata": {},
   "outputs": [
    {
     "data": {
      "text/html": [
       "<div>\n",
       "<style scoped>\n",
       "    .dataframe tbody tr th:only-of-type {\n",
       "        vertical-align: middle;\n",
       "    }\n",
       "\n",
       "    .dataframe tbody tr th {\n",
       "        vertical-align: top;\n",
       "    }\n",
       "\n",
       "    .dataframe thead th {\n",
       "        text-align: right;\n",
       "    }\n",
       "</style>\n",
       "<table border=\"1\" class=\"dataframe\">\n",
       "  <thead>\n",
       "    <tr style=\"text-align: right;\">\n",
       "      <th></th>\n",
       "      <th>pos_y</th>\n",
       "      <th>speed_y</th>\n",
       "      <th>acceleration_y</th>\n",
       "      <th>booster</th>\n",
       "    </tr>\n",
       "  </thead>\n",
       "  <tbody>\n",
       "    <tr>\n",
       "      <th>0</th>\n",
       "      <td>175.000000</td>\n",
       "      <td>0.000000</td>\n",
       "      <td>0.000000</td>\n",
       "      <td>0.0</td>\n",
       "    </tr>\n",
       "    <tr>\n",
       "      <th>1</th>\n",
       "      <td>160.420000</td>\n",
       "      <td>-4.860000</td>\n",
       "      <td>-1.620000</td>\n",
       "      <td>0.0</td>\n",
       "    </tr>\n",
       "    <tr>\n",
       "      <th>2</th>\n",
       "      <td>131.260000</td>\n",
       "      <td>-9.720000</td>\n",
       "      <td>-1.620000</td>\n",
       "      <td>0.0</td>\n",
       "    </tr>\n",
       "    <tr>\n",
       "      <th>3</th>\n",
       "      <td>96.372459</td>\n",
       "      <td>-8.678361</td>\n",
       "      <td>0.347213</td>\n",
       "      <td>1.0</td>\n",
       "    </tr>\n",
       "    <tr>\n",
       "      <th>4</th>\n",
       "      <td>64.757377</td>\n",
       "      <td>-7.538361</td>\n",
       "      <td>0.380000</td>\n",
       "      <td>1.0</td>\n",
       "    </tr>\n",
       "    <tr>\n",
       "      <th>5</th>\n",
       "      <td>36.714837</td>\n",
       "      <td>-6.296666</td>\n",
       "      <td>0.413898</td>\n",
       "      <td>1.0</td>\n",
       "    </tr>\n",
       "    <tr>\n",
       "      <th>6</th>\n",
       "      <td>12.555185</td>\n",
       "      <td>-4.949769</td>\n",
       "      <td>0.448966</td>\n",
       "      <td>1.0</td>\n",
       "    </tr>\n",
       "    <tr>\n",
       "      <th>7</th>\n",
       "      <td>-7.400438</td>\n",
       "      <td>-3.493980</td>\n",
       "      <td>0.485263</td>\n",
       "      <td>1.0</td>\n",
       "    </tr>\n",
       "  </tbody>\n",
       "</table>\n",
       "</div>"
      ],
      "text/plain": [
       "        pos_y   speed_y  acceleration_y  booster\n",
       "0  175.000000  0.000000        0.000000      0.0\n",
       "1  160.420000 -4.860000       -1.620000      0.0\n",
       "2  131.260000 -9.720000       -1.620000      0.0\n",
       "3   96.372459 -8.678361        0.347213      1.0\n",
       "4   64.757377 -7.538361        0.380000      1.0\n",
       "5   36.714837 -6.296666        0.413898      1.0\n",
       "6   12.555185 -4.949769        0.448966      1.0\n",
       "7   -7.400438 -3.493980        0.485263      1.0"
      ]
     },
     "execution_count": 44,
     "metadata": {},
     "output_type": "execute_result"
    }
   ],
   "source": [
    "df_0[[\"pos_y\", \"speed_y\", \"acceleration_y\", \"booster\"]]"
   ]
  },
  {
   "cell_type": "markdown",
   "id": "a54146bb",
   "metadata": {},
   "source": [
    "Speed and final position are not fully filled success criteria. To avoid crash (situation where the speed is too high to be correct at the next timestep), we will use futur position as criterion. Furtur position is compute by using speed and timestep as:\n",
    "\n",
    "$$ futur\\_positiion = pos_y + speed_y * timestep $$"
   ]
  },
  {
   "cell_type": "code",
   "execution_count": 39,
   "id": "b4752616",
   "metadata": {},
   "outputs": [],
   "source": [
    "for timestep in [3, 5, 10]:\n",
    "    df_0[\"futur_position_dt+{0}\".format(timestep)] = df_0[\"pos_y\"] + df_0[\"speed_y\"] * timestep\n",
    "#plot_rocket_altitude(df_0)"
   ]
  },
  {
   "cell_type": "code",
   "execution_count": 36,
   "id": "425da7dc",
   "metadata": {},
   "outputs": [
    {
     "data": {
      "application/vnd.plotly.v1+json": {
       "config": {
        "plotlyServerURL": "https://plot.ly"
       },
       "data": [
        {
         "mode": "lines+markers",
         "name": "Height",
         "type": "scatter",
         "x": [
          0,
          3,
          6,
          9,
          12,
          15
         ],
         "y": [
          175,
          160.42,
          131.26,
          87.51999999999998,
          38.05245901639341,
          -8.142622950819714
         ]
        },
        {
         "mode": "lines+markers",
         "name": "futur_position_dt+0",
         "type": "scatter",
         "x": [
          0,
          3,
          6,
          9,
          12,
          15
         ],
         "y": [
          175,
          160.42,
          131.26,
          87.51999999999998,
          38.05245901639341,
          -8.142622950819714
         ]
        },
        {
         "mode": "lines+markers",
         "name": "futur_position_dt+3",
         "type": "scatter",
         "x": [
          0,
          3,
          6,
          9,
          12,
          15
         ],
         "y": [
          175,
          145.83999999999997,
          102.1,
          43.77999999999997,
          -2.5626229508197156,
          -45.33770491803284
         ]
        },
        {
         "mode": "lines+markers",
         "name": "futur_position_dt+5",
         "type": "scatter",
         "x": [
          0,
          3,
          6,
          9,
          12,
          15
         ],
         "y": [
          175,
          136.11999999999998,
          82.66,
          14.619999999999976,
          -29.639344262295126,
          -70.13442622950825
         ]
        },
        {
         "mode": "lines+markers",
         "name": "futur_position_dt+10",
         "type": "scatter",
         "x": [
          0,
          3,
          6,
          9,
          12,
          15
         ],
         "y": [
          175,
          111.82,
          34.05999999999999,
          -58.28000000000003,
          -97.33114754098366,
          -132.1262295081968
         ]
        }
       ],
       "layout": {
        "template": {
         "data": {
          "bar": [
           {
            "error_x": {
             "color": "#2a3f5f"
            },
            "error_y": {
             "color": "#2a3f5f"
            },
            "marker": {
             "line": {
              "color": "#E5ECF6",
              "width": 0.5
             },
             "pattern": {
              "fillmode": "overlay",
              "size": 10,
              "solidity": 0.2
             }
            },
            "type": "bar"
           }
          ],
          "barpolar": [
           {
            "marker": {
             "line": {
              "color": "#E5ECF6",
              "width": 0.5
             },
             "pattern": {
              "fillmode": "overlay",
              "size": 10,
              "solidity": 0.2
             }
            },
            "type": "barpolar"
           }
          ],
          "carpet": [
           {
            "aaxis": {
             "endlinecolor": "#2a3f5f",
             "gridcolor": "white",
             "linecolor": "white",
             "minorgridcolor": "white",
             "startlinecolor": "#2a3f5f"
            },
            "baxis": {
             "endlinecolor": "#2a3f5f",
             "gridcolor": "white",
             "linecolor": "white",
             "minorgridcolor": "white",
             "startlinecolor": "#2a3f5f"
            },
            "type": "carpet"
           }
          ],
          "choropleth": [
           {
            "colorbar": {
             "outlinewidth": 0,
             "ticks": ""
            },
            "type": "choropleth"
           }
          ],
          "contour": [
           {
            "colorbar": {
             "outlinewidth": 0,
             "ticks": ""
            },
            "colorscale": [
             [
              0,
              "#0d0887"
             ],
             [
              0.1111111111111111,
              "#46039f"
             ],
             [
              0.2222222222222222,
              "#7201a8"
             ],
             [
              0.3333333333333333,
              "#9c179e"
             ],
             [
              0.4444444444444444,
              "#bd3786"
             ],
             [
              0.5555555555555556,
              "#d8576b"
             ],
             [
              0.6666666666666666,
              "#ed7953"
             ],
             [
              0.7777777777777778,
              "#fb9f3a"
             ],
             [
              0.8888888888888888,
              "#fdca26"
             ],
             [
              1,
              "#f0f921"
             ]
            ],
            "type": "contour"
           }
          ],
          "contourcarpet": [
           {
            "colorbar": {
             "outlinewidth": 0,
             "ticks": ""
            },
            "type": "contourcarpet"
           }
          ],
          "heatmap": [
           {
            "colorbar": {
             "outlinewidth": 0,
             "ticks": ""
            },
            "colorscale": [
             [
              0,
              "#0d0887"
             ],
             [
              0.1111111111111111,
              "#46039f"
             ],
             [
              0.2222222222222222,
              "#7201a8"
             ],
             [
              0.3333333333333333,
              "#9c179e"
             ],
             [
              0.4444444444444444,
              "#bd3786"
             ],
             [
              0.5555555555555556,
              "#d8576b"
             ],
             [
              0.6666666666666666,
              "#ed7953"
             ],
             [
              0.7777777777777778,
              "#fb9f3a"
             ],
             [
              0.8888888888888888,
              "#fdca26"
             ],
             [
              1,
              "#f0f921"
             ]
            ],
            "type": "heatmap"
           }
          ],
          "heatmapgl": [
           {
            "colorbar": {
             "outlinewidth": 0,
             "ticks": ""
            },
            "colorscale": [
             [
              0,
              "#0d0887"
             ],
             [
              0.1111111111111111,
              "#46039f"
             ],
             [
              0.2222222222222222,
              "#7201a8"
             ],
             [
              0.3333333333333333,
              "#9c179e"
             ],
             [
              0.4444444444444444,
              "#bd3786"
             ],
             [
              0.5555555555555556,
              "#d8576b"
             ],
             [
              0.6666666666666666,
              "#ed7953"
             ],
             [
              0.7777777777777778,
              "#fb9f3a"
             ],
             [
              0.8888888888888888,
              "#fdca26"
             ],
             [
              1,
              "#f0f921"
             ]
            ],
            "type": "heatmapgl"
           }
          ],
          "histogram": [
           {
            "marker": {
             "pattern": {
              "fillmode": "overlay",
              "size": 10,
              "solidity": 0.2
             }
            },
            "type": "histogram"
           }
          ],
          "histogram2d": [
           {
            "colorbar": {
             "outlinewidth": 0,
             "ticks": ""
            },
            "colorscale": [
             [
              0,
              "#0d0887"
             ],
             [
              0.1111111111111111,
              "#46039f"
             ],
             [
              0.2222222222222222,
              "#7201a8"
             ],
             [
              0.3333333333333333,
              "#9c179e"
             ],
             [
              0.4444444444444444,
              "#bd3786"
             ],
             [
              0.5555555555555556,
              "#d8576b"
             ],
             [
              0.6666666666666666,
              "#ed7953"
             ],
             [
              0.7777777777777778,
              "#fb9f3a"
             ],
             [
              0.8888888888888888,
              "#fdca26"
             ],
             [
              1,
              "#f0f921"
             ]
            ],
            "type": "histogram2d"
           }
          ],
          "histogram2dcontour": [
           {
            "colorbar": {
             "outlinewidth": 0,
             "ticks": ""
            },
            "colorscale": [
             [
              0,
              "#0d0887"
             ],
             [
              0.1111111111111111,
              "#46039f"
             ],
             [
              0.2222222222222222,
              "#7201a8"
             ],
             [
              0.3333333333333333,
              "#9c179e"
             ],
             [
              0.4444444444444444,
              "#bd3786"
             ],
             [
              0.5555555555555556,
              "#d8576b"
             ],
             [
              0.6666666666666666,
              "#ed7953"
             ],
             [
              0.7777777777777778,
              "#fb9f3a"
             ],
             [
              0.8888888888888888,
              "#fdca26"
             ],
             [
              1,
              "#f0f921"
             ]
            ],
            "type": "histogram2dcontour"
           }
          ],
          "mesh3d": [
           {
            "colorbar": {
             "outlinewidth": 0,
             "ticks": ""
            },
            "type": "mesh3d"
           }
          ],
          "parcoords": [
           {
            "line": {
             "colorbar": {
              "outlinewidth": 0,
              "ticks": ""
             }
            },
            "type": "parcoords"
           }
          ],
          "pie": [
           {
            "automargin": true,
            "type": "pie"
           }
          ],
          "scatter": [
           {
            "fillpattern": {
             "fillmode": "overlay",
             "size": 10,
             "solidity": 0.2
            },
            "type": "scatter"
           }
          ],
          "scatter3d": [
           {
            "line": {
             "colorbar": {
              "outlinewidth": 0,
              "ticks": ""
             }
            },
            "marker": {
             "colorbar": {
              "outlinewidth": 0,
              "ticks": ""
             }
            },
            "type": "scatter3d"
           }
          ],
          "scattercarpet": [
           {
            "marker": {
             "colorbar": {
              "outlinewidth": 0,
              "ticks": ""
             }
            },
            "type": "scattercarpet"
           }
          ],
          "scattergeo": [
           {
            "marker": {
             "colorbar": {
              "outlinewidth": 0,
              "ticks": ""
             }
            },
            "type": "scattergeo"
           }
          ],
          "scattergl": [
           {
            "marker": {
             "colorbar": {
              "outlinewidth": 0,
              "ticks": ""
             }
            },
            "type": "scattergl"
           }
          ],
          "scattermapbox": [
           {
            "marker": {
             "colorbar": {
              "outlinewidth": 0,
              "ticks": ""
             }
            },
            "type": "scattermapbox"
           }
          ],
          "scatterpolar": [
           {
            "marker": {
             "colorbar": {
              "outlinewidth": 0,
              "ticks": ""
             }
            },
            "type": "scatterpolar"
           }
          ],
          "scatterpolargl": [
           {
            "marker": {
             "colorbar": {
              "outlinewidth": 0,
              "ticks": ""
             }
            },
            "type": "scatterpolargl"
           }
          ],
          "scatterternary": [
           {
            "marker": {
             "colorbar": {
              "outlinewidth": 0,
              "ticks": ""
             }
            },
            "type": "scatterternary"
           }
          ],
          "surface": [
           {
            "colorbar": {
             "outlinewidth": 0,
             "ticks": ""
            },
            "colorscale": [
             [
              0,
              "#0d0887"
             ],
             [
              0.1111111111111111,
              "#46039f"
             ],
             [
              0.2222222222222222,
              "#7201a8"
             ],
             [
              0.3333333333333333,
              "#9c179e"
             ],
             [
              0.4444444444444444,
              "#bd3786"
             ],
             [
              0.5555555555555556,
              "#d8576b"
             ],
             [
              0.6666666666666666,
              "#ed7953"
             ],
             [
              0.7777777777777778,
              "#fb9f3a"
             ],
             [
              0.8888888888888888,
              "#fdca26"
             ],
             [
              1,
              "#f0f921"
             ]
            ],
            "type": "surface"
           }
          ],
          "table": [
           {
            "cells": {
             "fill": {
              "color": "#EBF0F8"
             },
             "line": {
              "color": "white"
             }
            },
            "header": {
             "fill": {
              "color": "#C8D4E3"
             },
             "line": {
              "color": "white"
             }
            },
            "type": "table"
           }
          ]
         },
         "layout": {
          "annotationdefaults": {
           "arrowcolor": "#2a3f5f",
           "arrowhead": 0,
           "arrowwidth": 1
          },
          "autotypenumbers": "strict",
          "coloraxis": {
           "colorbar": {
            "outlinewidth": 0,
            "ticks": ""
           }
          },
          "colorscale": {
           "diverging": [
            [
             0,
             "#8e0152"
            ],
            [
             0.1,
             "#c51b7d"
            ],
            [
             0.2,
             "#de77ae"
            ],
            [
             0.3,
             "#f1b6da"
            ],
            [
             0.4,
             "#fde0ef"
            ],
            [
             0.5,
             "#f7f7f7"
            ],
            [
             0.6,
             "#e6f5d0"
            ],
            [
             0.7,
             "#b8e186"
            ],
            [
             0.8,
             "#7fbc41"
            ],
            [
             0.9,
             "#4d9221"
            ],
            [
             1,
             "#276419"
            ]
           ],
           "sequential": [
            [
             0,
             "#0d0887"
            ],
            [
             0.1111111111111111,
             "#46039f"
            ],
            [
             0.2222222222222222,
             "#7201a8"
            ],
            [
             0.3333333333333333,
             "#9c179e"
            ],
            [
             0.4444444444444444,
             "#bd3786"
            ],
            [
             0.5555555555555556,
             "#d8576b"
            ],
            [
             0.6666666666666666,
             "#ed7953"
            ],
            [
             0.7777777777777778,
             "#fb9f3a"
            ],
            [
             0.8888888888888888,
             "#fdca26"
            ],
            [
             1,
             "#f0f921"
            ]
           ],
           "sequentialminus": [
            [
             0,
             "#0d0887"
            ],
            [
             0.1111111111111111,
             "#46039f"
            ],
            [
             0.2222222222222222,
             "#7201a8"
            ],
            [
             0.3333333333333333,
             "#9c179e"
            ],
            [
             0.4444444444444444,
             "#bd3786"
            ],
            [
             0.5555555555555556,
             "#d8576b"
            ],
            [
             0.6666666666666666,
             "#ed7953"
            ],
            [
             0.7777777777777778,
             "#fb9f3a"
            ],
            [
             0.8888888888888888,
             "#fdca26"
            ],
            [
             1,
             "#f0f921"
            ]
           ]
          },
          "colorway": [
           "#636efa",
           "#EF553B",
           "#00cc96",
           "#ab63fa",
           "#FFA15A",
           "#19d3f3",
           "#FF6692",
           "#B6E880",
           "#FF97FF",
           "#FECB52"
          ],
          "font": {
           "color": "#2a3f5f"
          },
          "geo": {
           "bgcolor": "white",
           "lakecolor": "white",
           "landcolor": "#E5ECF6",
           "showlakes": true,
           "showland": true,
           "subunitcolor": "white"
          },
          "hoverlabel": {
           "align": "left"
          },
          "hovermode": "closest",
          "mapbox": {
           "style": "light"
          },
          "paper_bgcolor": "white",
          "plot_bgcolor": "#E5ECF6",
          "polar": {
           "angularaxis": {
            "gridcolor": "white",
            "linecolor": "white",
            "ticks": ""
           },
           "bgcolor": "#E5ECF6",
           "radialaxis": {
            "gridcolor": "white",
            "linecolor": "white",
            "ticks": ""
           }
          },
          "scene": {
           "xaxis": {
            "backgroundcolor": "#E5ECF6",
            "gridcolor": "white",
            "gridwidth": 2,
            "linecolor": "white",
            "showbackground": true,
            "ticks": "",
            "zerolinecolor": "white"
           },
           "yaxis": {
            "backgroundcolor": "#E5ECF6",
            "gridcolor": "white",
            "gridwidth": 2,
            "linecolor": "white",
            "showbackground": true,
            "ticks": "",
            "zerolinecolor": "white"
           },
           "zaxis": {
            "backgroundcolor": "#E5ECF6",
            "gridcolor": "white",
            "gridwidth": 2,
            "linecolor": "white",
            "showbackground": true,
            "ticks": "",
            "zerolinecolor": "white"
           }
          },
          "shapedefaults": {
           "line": {
            "color": "#2a3f5f"
           }
          },
          "ternary": {
           "aaxis": {
            "gridcolor": "white",
            "linecolor": "white",
            "ticks": ""
           },
           "baxis": {
            "gridcolor": "white",
            "linecolor": "white",
            "ticks": ""
           },
           "bgcolor": "#E5ECF6",
           "caxis": {
            "gridcolor": "white",
            "linecolor": "white",
            "ticks": ""
           }
          },
          "title": {
           "x": 0.05
          },
          "xaxis": {
           "automargin": true,
           "gridcolor": "white",
           "linecolor": "white",
           "ticks": "",
           "title": {
            "standoff": 15
           },
           "zerolinecolor": "white",
           "zerolinewidth": 2
          },
          "yaxis": {
           "automargin": true,
           "gridcolor": "white",
           "linecolor": "white",
           "ticks": "",
           "title": {
            "standoff": 15
           },
           "zerolinecolor": "white",
           "zerolinewidth": 2
          }
         }
        },
        "title": {
         "text": "Rocket's altitude"
        },
        "xaxis": {
         "title": {
          "text": "Time step"
         }
        },
        "yaxis": {
         "title": {
          "text": "Altitude"
         }
        }
       }
      }
     },
     "metadata": {},
     "output_type": "display_data"
    }
   ],
   "source": [
    "plot_rocket_altitude(df_0)"
   ]
  },
  {
   "cell_type": "code",
   "execution_count": 26,
   "id": "644aa3e2",
   "metadata": {},
   "outputs": [
    {
     "data": {
      "application/vnd.plotly.v1+json": {
       "config": {
        "plotlyServerURL": "https://plot.ly"
       },
       "data": [
        {
         "mode": "lines+markers",
         "name": "Height",
         "type": "scatter",
         "x": [
          0,
          3,
          6,
          9,
          12,
          15
         ],
         "y": [
          175,
          160.42,
          131.26,
          87.51999999999998,
          38.05245901639341,
          -8.142622950819714
         ]
        },
        {
         "mode": "lines+markers",
         "name": "futur_position_dt+0",
         "type": "scatter",
         "x": [
          0,
          3,
          6,
          9,
          12,
          15
         ],
         "y": [
          175,
          160.42,
          131.26,
          87.51999999999998,
          38.05245901639341,
          -8.142622950819714
         ]
        },
        {
         "mode": "lines+markers",
         "name": "futur_position_dt+3",
         "type": "scatter",
         "x": [
          0,
          3,
          6,
          9,
          12,
          15
         ],
         "y": [
          175,
          145.83999999999997,
          102.1,
          43.77999999999997,
          -2.5626229508197156,
          -45.33770491803284
         ]
        },
        {
         "mode": "lines+markers",
         "name": "futur_position_dt+5",
         "type": "scatter",
         "x": [
          0,
          3,
          6,
          9,
          12,
          15
         ],
         "y": [
          175,
          136.11999999999998,
          82.66,
          14.619999999999976,
          -29.639344262295126,
          -70.13442622950825
         ]
        },
        {
         "mode": "lines+markers",
         "name": "futur_position_dt+10",
         "type": "scatter",
         "x": [
          0,
          3,
          6,
          9,
          12,
          15
         ],
         "y": [
          175,
          111.82,
          34.05999999999999,
          -58.28000000000003,
          -97.33114754098366,
          -132.1262295081968
         ]
        }
       ],
       "layout": {
        "template": {
         "data": {
          "bar": [
           {
            "error_x": {
             "color": "#2a3f5f"
            },
            "error_y": {
             "color": "#2a3f5f"
            },
            "marker": {
             "line": {
              "color": "#E5ECF6",
              "width": 0.5
             },
             "pattern": {
              "fillmode": "overlay",
              "size": 10,
              "solidity": 0.2
             }
            },
            "type": "bar"
           }
          ],
          "barpolar": [
           {
            "marker": {
             "line": {
              "color": "#E5ECF6",
              "width": 0.5
             },
             "pattern": {
              "fillmode": "overlay",
              "size": 10,
              "solidity": 0.2
             }
            },
            "type": "barpolar"
           }
          ],
          "carpet": [
           {
            "aaxis": {
             "endlinecolor": "#2a3f5f",
             "gridcolor": "white",
             "linecolor": "white",
             "minorgridcolor": "white",
             "startlinecolor": "#2a3f5f"
            },
            "baxis": {
             "endlinecolor": "#2a3f5f",
             "gridcolor": "white",
             "linecolor": "white",
             "minorgridcolor": "white",
             "startlinecolor": "#2a3f5f"
            },
            "type": "carpet"
           }
          ],
          "choropleth": [
           {
            "colorbar": {
             "outlinewidth": 0,
             "ticks": ""
            },
            "type": "choropleth"
           }
          ],
          "contour": [
           {
            "colorbar": {
             "outlinewidth": 0,
             "ticks": ""
            },
            "colorscale": [
             [
              0,
              "#0d0887"
             ],
             [
              0.1111111111111111,
              "#46039f"
             ],
             [
              0.2222222222222222,
              "#7201a8"
             ],
             [
              0.3333333333333333,
              "#9c179e"
             ],
             [
              0.4444444444444444,
              "#bd3786"
             ],
             [
              0.5555555555555556,
              "#d8576b"
             ],
             [
              0.6666666666666666,
              "#ed7953"
             ],
             [
              0.7777777777777778,
              "#fb9f3a"
             ],
             [
              0.8888888888888888,
              "#fdca26"
             ],
             [
              1,
              "#f0f921"
             ]
            ],
            "type": "contour"
           }
          ],
          "contourcarpet": [
           {
            "colorbar": {
             "outlinewidth": 0,
             "ticks": ""
            },
            "type": "contourcarpet"
           }
          ],
          "heatmap": [
           {
            "colorbar": {
             "outlinewidth": 0,
             "ticks": ""
            },
            "colorscale": [
             [
              0,
              "#0d0887"
             ],
             [
              0.1111111111111111,
              "#46039f"
             ],
             [
              0.2222222222222222,
              "#7201a8"
             ],
             [
              0.3333333333333333,
              "#9c179e"
             ],
             [
              0.4444444444444444,
              "#bd3786"
             ],
             [
              0.5555555555555556,
              "#d8576b"
             ],
             [
              0.6666666666666666,
              "#ed7953"
             ],
             [
              0.7777777777777778,
              "#fb9f3a"
             ],
             [
              0.8888888888888888,
              "#fdca26"
             ],
             [
              1,
              "#f0f921"
             ]
            ],
            "type": "heatmap"
           }
          ],
          "heatmapgl": [
           {
            "colorbar": {
             "outlinewidth": 0,
             "ticks": ""
            },
            "colorscale": [
             [
              0,
              "#0d0887"
             ],
             [
              0.1111111111111111,
              "#46039f"
             ],
             [
              0.2222222222222222,
              "#7201a8"
             ],
             [
              0.3333333333333333,
              "#9c179e"
             ],
             [
              0.4444444444444444,
              "#bd3786"
             ],
             [
              0.5555555555555556,
              "#d8576b"
             ],
             [
              0.6666666666666666,
              "#ed7953"
             ],
             [
              0.7777777777777778,
              "#fb9f3a"
             ],
             [
              0.8888888888888888,
              "#fdca26"
             ],
             [
              1,
              "#f0f921"
             ]
            ],
            "type": "heatmapgl"
           }
          ],
          "histogram": [
           {
            "marker": {
             "pattern": {
              "fillmode": "overlay",
              "size": 10,
              "solidity": 0.2
             }
            },
            "type": "histogram"
           }
          ],
          "histogram2d": [
           {
            "colorbar": {
             "outlinewidth": 0,
             "ticks": ""
            },
            "colorscale": [
             [
              0,
              "#0d0887"
             ],
             [
              0.1111111111111111,
              "#46039f"
             ],
             [
              0.2222222222222222,
              "#7201a8"
             ],
             [
              0.3333333333333333,
              "#9c179e"
             ],
             [
              0.4444444444444444,
              "#bd3786"
             ],
             [
              0.5555555555555556,
              "#d8576b"
             ],
             [
              0.6666666666666666,
              "#ed7953"
             ],
             [
              0.7777777777777778,
              "#fb9f3a"
             ],
             [
              0.8888888888888888,
              "#fdca26"
             ],
             [
              1,
              "#f0f921"
             ]
            ],
            "type": "histogram2d"
           }
          ],
          "histogram2dcontour": [
           {
            "colorbar": {
             "outlinewidth": 0,
             "ticks": ""
            },
            "colorscale": [
             [
              0,
              "#0d0887"
             ],
             [
              0.1111111111111111,
              "#46039f"
             ],
             [
              0.2222222222222222,
              "#7201a8"
             ],
             [
              0.3333333333333333,
              "#9c179e"
             ],
             [
              0.4444444444444444,
              "#bd3786"
             ],
             [
              0.5555555555555556,
              "#d8576b"
             ],
             [
              0.6666666666666666,
              "#ed7953"
             ],
             [
              0.7777777777777778,
              "#fb9f3a"
             ],
             [
              0.8888888888888888,
              "#fdca26"
             ],
             [
              1,
              "#f0f921"
             ]
            ],
            "type": "histogram2dcontour"
           }
          ],
          "mesh3d": [
           {
            "colorbar": {
             "outlinewidth": 0,
             "ticks": ""
            },
            "type": "mesh3d"
           }
          ],
          "parcoords": [
           {
            "line": {
             "colorbar": {
              "outlinewidth": 0,
              "ticks": ""
             }
            },
            "type": "parcoords"
           }
          ],
          "pie": [
           {
            "automargin": true,
            "type": "pie"
           }
          ],
          "scatter": [
           {
            "fillpattern": {
             "fillmode": "overlay",
             "size": 10,
             "solidity": 0.2
            },
            "type": "scatter"
           }
          ],
          "scatter3d": [
           {
            "line": {
             "colorbar": {
              "outlinewidth": 0,
              "ticks": ""
             }
            },
            "marker": {
             "colorbar": {
              "outlinewidth": 0,
              "ticks": ""
             }
            },
            "type": "scatter3d"
           }
          ],
          "scattercarpet": [
           {
            "marker": {
             "colorbar": {
              "outlinewidth": 0,
              "ticks": ""
             }
            },
            "type": "scattercarpet"
           }
          ],
          "scattergeo": [
           {
            "marker": {
             "colorbar": {
              "outlinewidth": 0,
              "ticks": ""
             }
            },
            "type": "scattergeo"
           }
          ],
          "scattergl": [
           {
            "marker": {
             "colorbar": {
              "outlinewidth": 0,
              "ticks": ""
             }
            },
            "type": "scattergl"
           }
          ],
          "scattermapbox": [
           {
            "marker": {
             "colorbar": {
              "outlinewidth": 0,
              "ticks": ""
             }
            },
            "type": "scattermapbox"
           }
          ],
          "scatterpolar": [
           {
            "marker": {
             "colorbar": {
              "outlinewidth": 0,
              "ticks": ""
             }
            },
            "type": "scatterpolar"
           }
          ],
          "scatterpolargl": [
           {
            "marker": {
             "colorbar": {
              "outlinewidth": 0,
              "ticks": ""
             }
            },
            "type": "scatterpolargl"
           }
          ],
          "scatterternary": [
           {
            "marker": {
             "colorbar": {
              "outlinewidth": 0,
              "ticks": ""
             }
            },
            "type": "scatterternary"
           }
          ],
          "surface": [
           {
            "colorbar": {
             "outlinewidth": 0,
             "ticks": ""
            },
            "colorscale": [
             [
              0,
              "#0d0887"
             ],
             [
              0.1111111111111111,
              "#46039f"
             ],
             [
              0.2222222222222222,
              "#7201a8"
             ],
             [
              0.3333333333333333,
              "#9c179e"
             ],
             [
              0.4444444444444444,
              "#bd3786"
             ],
             [
              0.5555555555555556,
              "#d8576b"
             ],
             [
              0.6666666666666666,
              "#ed7953"
             ],
             [
              0.7777777777777778,
              "#fb9f3a"
             ],
             [
              0.8888888888888888,
              "#fdca26"
             ],
             [
              1,
              "#f0f921"
             ]
            ],
            "type": "surface"
           }
          ],
          "table": [
           {
            "cells": {
             "fill": {
              "color": "#EBF0F8"
             },
             "line": {
              "color": "white"
             }
            },
            "header": {
             "fill": {
              "color": "#C8D4E3"
             },
             "line": {
              "color": "white"
             }
            },
            "type": "table"
           }
          ]
         },
         "layout": {
          "annotationdefaults": {
           "arrowcolor": "#2a3f5f",
           "arrowhead": 0,
           "arrowwidth": 1
          },
          "autotypenumbers": "strict",
          "coloraxis": {
           "colorbar": {
            "outlinewidth": 0,
            "ticks": ""
           }
          },
          "colorscale": {
           "diverging": [
            [
             0,
             "#8e0152"
            ],
            [
             0.1,
             "#c51b7d"
            ],
            [
             0.2,
             "#de77ae"
            ],
            [
             0.3,
             "#f1b6da"
            ],
            [
             0.4,
             "#fde0ef"
            ],
            [
             0.5,
             "#f7f7f7"
            ],
            [
             0.6,
             "#e6f5d0"
            ],
            [
             0.7,
             "#b8e186"
            ],
            [
             0.8,
             "#7fbc41"
            ],
            [
             0.9,
             "#4d9221"
            ],
            [
             1,
             "#276419"
            ]
           ],
           "sequential": [
            [
             0,
             "#0d0887"
            ],
            [
             0.1111111111111111,
             "#46039f"
            ],
            [
             0.2222222222222222,
             "#7201a8"
            ],
            [
             0.3333333333333333,
             "#9c179e"
            ],
            [
             0.4444444444444444,
             "#bd3786"
            ],
            [
             0.5555555555555556,
             "#d8576b"
            ],
            [
             0.6666666666666666,
             "#ed7953"
            ],
            [
             0.7777777777777778,
             "#fb9f3a"
            ],
            [
             0.8888888888888888,
             "#fdca26"
            ],
            [
             1,
             "#f0f921"
            ]
           ],
           "sequentialminus": [
            [
             0,
             "#0d0887"
            ],
            [
             0.1111111111111111,
             "#46039f"
            ],
            [
             0.2222222222222222,
             "#7201a8"
            ],
            [
             0.3333333333333333,
             "#9c179e"
            ],
            [
             0.4444444444444444,
             "#bd3786"
            ],
            [
             0.5555555555555556,
             "#d8576b"
            ],
            [
             0.6666666666666666,
             "#ed7953"
            ],
            [
             0.7777777777777778,
             "#fb9f3a"
            ],
            [
             0.8888888888888888,
             "#fdca26"
            ],
            [
             1,
             "#f0f921"
            ]
           ]
          },
          "colorway": [
           "#636efa",
           "#EF553B",
           "#00cc96",
           "#ab63fa",
           "#FFA15A",
           "#19d3f3",
           "#FF6692",
           "#B6E880",
           "#FF97FF",
           "#FECB52"
          ],
          "font": {
           "color": "#2a3f5f"
          },
          "geo": {
           "bgcolor": "white",
           "lakecolor": "white",
           "landcolor": "#E5ECF6",
           "showlakes": true,
           "showland": true,
           "subunitcolor": "white"
          },
          "hoverlabel": {
           "align": "left"
          },
          "hovermode": "closest",
          "mapbox": {
           "style": "light"
          },
          "paper_bgcolor": "white",
          "plot_bgcolor": "#E5ECF6",
          "polar": {
           "angularaxis": {
            "gridcolor": "white",
            "linecolor": "white",
            "ticks": ""
           },
           "bgcolor": "#E5ECF6",
           "radialaxis": {
            "gridcolor": "white",
            "linecolor": "white",
            "ticks": ""
           }
          },
          "scene": {
           "xaxis": {
            "backgroundcolor": "#E5ECF6",
            "gridcolor": "white",
            "gridwidth": 2,
            "linecolor": "white",
            "showbackground": true,
            "ticks": "",
            "zerolinecolor": "white"
           },
           "yaxis": {
            "backgroundcolor": "#E5ECF6",
            "gridcolor": "white",
            "gridwidth": 2,
            "linecolor": "white",
            "showbackground": true,
            "ticks": "",
            "zerolinecolor": "white"
           },
           "zaxis": {
            "backgroundcolor": "#E5ECF6",
            "gridcolor": "white",
            "gridwidth": 2,
            "linecolor": "white",
            "showbackground": true,
            "ticks": "",
            "zerolinecolor": "white"
           }
          },
          "shapedefaults": {
           "line": {
            "color": "#2a3f5f"
           }
          },
          "ternary": {
           "aaxis": {
            "gridcolor": "white",
            "linecolor": "white",
            "ticks": ""
           },
           "baxis": {
            "gridcolor": "white",
            "linecolor": "white",
            "ticks": ""
           },
           "bgcolor": "#E5ECF6",
           "caxis": {
            "gridcolor": "white",
            "linecolor": "white",
            "ticks": ""
           }
          },
          "title": {
           "x": 0.05
          },
          "xaxis": {
           "automargin": true,
           "gridcolor": "white",
           "linecolor": "white",
           "ticks": "",
           "title": {
            "standoff": 15
           },
           "zerolinecolor": "white",
           "zerolinewidth": 2
          },
          "yaxis": {
           "automargin": true,
           "gridcolor": "white",
           "linecolor": "white",
           "ticks": "",
           "title": {
            "standoff": 15
           },
           "zerolinecolor": "white",
           "zerolinewidth": 2
          }
         }
        },
        "title": {
         "text": "Rocket's altitude"
        },
        "xaxis": {
         "title": {
          "text": "Time step"
         }
        },
        "yaxis": {
         "title": {
          "text": "Altitude"
         }
        }
       }
      }
     },
     "metadata": {},
     "output_type": "display_data"
    }
   ],
   "source": [
    "plot_rocket_altitude(df_0)"
   ]
  },
  {
   "cell_type": "code",
   "execution_count": 21,
   "id": "578ff7b4",
   "metadata": {},
   "outputs": [
    {
     "data": {
      "application/vnd.plotly.v1+json": {
       "config": {
        "plotlyServerURL": "https://plot.ly"
       },
       "data": [
        {
         "mode": "lines+markers",
         "name": "Height",
         "type": "scatter",
         "x": [
          0,
          3,
          6,
          9,
          12,
          15
         ],
         "y": [
          175,
          160.42,
          131.26,
          87.51999999999998,
          38.05245901639341,
          -8.142622950819714
         ]
        },
        {
         "mode": "lines+markers",
         "name": "futur_position_dt+10",
         "type": "scatter",
         "x": [
          0,
          3,
          6,
          9,
          12,
          15
         ],
         "y": [
          175,
          111.82,
          34.05999999999999,
          -58.28000000000003,
          -97.33114754098366,
          -132.1262295081968
         ]
        }
       ],
       "layout": {
        "template": {
         "data": {
          "bar": [
           {
            "error_x": {
             "color": "#2a3f5f"
            },
            "error_y": {
             "color": "#2a3f5f"
            },
            "marker": {
             "line": {
              "color": "#E5ECF6",
              "width": 0.5
             },
             "pattern": {
              "fillmode": "overlay",
              "size": 10,
              "solidity": 0.2
             }
            },
            "type": "bar"
           }
          ],
          "barpolar": [
           {
            "marker": {
             "line": {
              "color": "#E5ECF6",
              "width": 0.5
             },
             "pattern": {
              "fillmode": "overlay",
              "size": 10,
              "solidity": 0.2
             }
            },
            "type": "barpolar"
           }
          ],
          "carpet": [
           {
            "aaxis": {
             "endlinecolor": "#2a3f5f",
             "gridcolor": "white",
             "linecolor": "white",
             "minorgridcolor": "white",
             "startlinecolor": "#2a3f5f"
            },
            "baxis": {
             "endlinecolor": "#2a3f5f",
             "gridcolor": "white",
             "linecolor": "white",
             "minorgridcolor": "white",
             "startlinecolor": "#2a3f5f"
            },
            "type": "carpet"
           }
          ],
          "choropleth": [
           {
            "colorbar": {
             "outlinewidth": 0,
             "ticks": ""
            },
            "type": "choropleth"
           }
          ],
          "contour": [
           {
            "colorbar": {
             "outlinewidth": 0,
             "ticks": ""
            },
            "colorscale": [
             [
              0,
              "#0d0887"
             ],
             [
              0.1111111111111111,
              "#46039f"
             ],
             [
              0.2222222222222222,
              "#7201a8"
             ],
             [
              0.3333333333333333,
              "#9c179e"
             ],
             [
              0.4444444444444444,
              "#bd3786"
             ],
             [
              0.5555555555555556,
              "#d8576b"
             ],
             [
              0.6666666666666666,
              "#ed7953"
             ],
             [
              0.7777777777777778,
              "#fb9f3a"
             ],
             [
              0.8888888888888888,
              "#fdca26"
             ],
             [
              1,
              "#f0f921"
             ]
            ],
            "type": "contour"
           }
          ],
          "contourcarpet": [
           {
            "colorbar": {
             "outlinewidth": 0,
             "ticks": ""
            },
            "type": "contourcarpet"
           }
          ],
          "heatmap": [
           {
            "colorbar": {
             "outlinewidth": 0,
             "ticks": ""
            },
            "colorscale": [
             [
              0,
              "#0d0887"
             ],
             [
              0.1111111111111111,
              "#46039f"
             ],
             [
              0.2222222222222222,
              "#7201a8"
             ],
             [
              0.3333333333333333,
              "#9c179e"
             ],
             [
              0.4444444444444444,
              "#bd3786"
             ],
             [
              0.5555555555555556,
              "#d8576b"
             ],
             [
              0.6666666666666666,
              "#ed7953"
             ],
             [
              0.7777777777777778,
              "#fb9f3a"
             ],
             [
              0.8888888888888888,
              "#fdca26"
             ],
             [
              1,
              "#f0f921"
             ]
            ],
            "type": "heatmap"
           }
          ],
          "heatmapgl": [
           {
            "colorbar": {
             "outlinewidth": 0,
             "ticks": ""
            },
            "colorscale": [
             [
              0,
              "#0d0887"
             ],
             [
              0.1111111111111111,
              "#46039f"
             ],
             [
              0.2222222222222222,
              "#7201a8"
             ],
             [
              0.3333333333333333,
              "#9c179e"
             ],
             [
              0.4444444444444444,
              "#bd3786"
             ],
             [
              0.5555555555555556,
              "#d8576b"
             ],
             [
              0.6666666666666666,
              "#ed7953"
             ],
             [
              0.7777777777777778,
              "#fb9f3a"
             ],
             [
              0.8888888888888888,
              "#fdca26"
             ],
             [
              1,
              "#f0f921"
             ]
            ],
            "type": "heatmapgl"
           }
          ],
          "histogram": [
           {
            "marker": {
             "pattern": {
              "fillmode": "overlay",
              "size": 10,
              "solidity": 0.2
             }
            },
            "type": "histogram"
           }
          ],
          "histogram2d": [
           {
            "colorbar": {
             "outlinewidth": 0,
             "ticks": ""
            },
            "colorscale": [
             [
              0,
              "#0d0887"
             ],
             [
              0.1111111111111111,
              "#46039f"
             ],
             [
              0.2222222222222222,
              "#7201a8"
             ],
             [
              0.3333333333333333,
              "#9c179e"
             ],
             [
              0.4444444444444444,
              "#bd3786"
             ],
             [
              0.5555555555555556,
              "#d8576b"
             ],
             [
              0.6666666666666666,
              "#ed7953"
             ],
             [
              0.7777777777777778,
              "#fb9f3a"
             ],
             [
              0.8888888888888888,
              "#fdca26"
             ],
             [
              1,
              "#f0f921"
             ]
            ],
            "type": "histogram2d"
           }
          ],
          "histogram2dcontour": [
           {
            "colorbar": {
             "outlinewidth": 0,
             "ticks": ""
            },
            "colorscale": [
             [
              0,
              "#0d0887"
             ],
             [
              0.1111111111111111,
              "#46039f"
             ],
             [
              0.2222222222222222,
              "#7201a8"
             ],
             [
              0.3333333333333333,
              "#9c179e"
             ],
             [
              0.4444444444444444,
              "#bd3786"
             ],
             [
              0.5555555555555556,
              "#d8576b"
             ],
             [
              0.6666666666666666,
              "#ed7953"
             ],
             [
              0.7777777777777778,
              "#fb9f3a"
             ],
             [
              0.8888888888888888,
              "#fdca26"
             ],
             [
              1,
              "#f0f921"
             ]
            ],
            "type": "histogram2dcontour"
           }
          ],
          "mesh3d": [
           {
            "colorbar": {
             "outlinewidth": 0,
             "ticks": ""
            },
            "type": "mesh3d"
           }
          ],
          "parcoords": [
           {
            "line": {
             "colorbar": {
              "outlinewidth": 0,
              "ticks": ""
             }
            },
            "type": "parcoords"
           }
          ],
          "pie": [
           {
            "automargin": true,
            "type": "pie"
           }
          ],
          "scatter": [
           {
            "fillpattern": {
             "fillmode": "overlay",
             "size": 10,
             "solidity": 0.2
            },
            "type": "scatter"
           }
          ],
          "scatter3d": [
           {
            "line": {
             "colorbar": {
              "outlinewidth": 0,
              "ticks": ""
             }
            },
            "marker": {
             "colorbar": {
              "outlinewidth": 0,
              "ticks": ""
             }
            },
            "type": "scatter3d"
           }
          ],
          "scattercarpet": [
           {
            "marker": {
             "colorbar": {
              "outlinewidth": 0,
              "ticks": ""
             }
            },
            "type": "scattercarpet"
           }
          ],
          "scattergeo": [
           {
            "marker": {
             "colorbar": {
              "outlinewidth": 0,
              "ticks": ""
             }
            },
            "type": "scattergeo"
           }
          ],
          "scattergl": [
           {
            "marker": {
             "colorbar": {
              "outlinewidth": 0,
              "ticks": ""
             }
            },
            "type": "scattergl"
           }
          ],
          "scattermapbox": [
           {
            "marker": {
             "colorbar": {
              "outlinewidth": 0,
              "ticks": ""
             }
            },
            "type": "scattermapbox"
           }
          ],
          "scatterpolar": [
           {
            "marker": {
             "colorbar": {
              "outlinewidth": 0,
              "ticks": ""
             }
            },
            "type": "scatterpolar"
           }
          ],
          "scatterpolargl": [
           {
            "marker": {
             "colorbar": {
              "outlinewidth": 0,
              "ticks": ""
             }
            },
            "type": "scatterpolargl"
           }
          ],
          "scatterternary": [
           {
            "marker": {
             "colorbar": {
              "outlinewidth": 0,
              "ticks": ""
             }
            },
            "type": "scatterternary"
           }
          ],
          "surface": [
           {
            "colorbar": {
             "outlinewidth": 0,
             "ticks": ""
            },
            "colorscale": [
             [
              0,
              "#0d0887"
             ],
             [
              0.1111111111111111,
              "#46039f"
             ],
             [
              0.2222222222222222,
              "#7201a8"
             ],
             [
              0.3333333333333333,
              "#9c179e"
             ],
             [
              0.4444444444444444,
              "#bd3786"
             ],
             [
              0.5555555555555556,
              "#d8576b"
             ],
             [
              0.6666666666666666,
              "#ed7953"
             ],
             [
              0.7777777777777778,
              "#fb9f3a"
             ],
             [
              0.8888888888888888,
              "#fdca26"
             ],
             [
              1,
              "#f0f921"
             ]
            ],
            "type": "surface"
           }
          ],
          "table": [
           {
            "cells": {
             "fill": {
              "color": "#EBF0F8"
             },
             "line": {
              "color": "white"
             }
            },
            "header": {
             "fill": {
              "color": "#C8D4E3"
             },
             "line": {
              "color": "white"
             }
            },
            "type": "table"
           }
          ]
         },
         "layout": {
          "annotationdefaults": {
           "arrowcolor": "#2a3f5f",
           "arrowhead": 0,
           "arrowwidth": 1
          },
          "autotypenumbers": "strict",
          "coloraxis": {
           "colorbar": {
            "outlinewidth": 0,
            "ticks": ""
           }
          },
          "colorscale": {
           "diverging": [
            [
             0,
             "#8e0152"
            ],
            [
             0.1,
             "#c51b7d"
            ],
            [
             0.2,
             "#de77ae"
            ],
            [
             0.3,
             "#f1b6da"
            ],
            [
             0.4,
             "#fde0ef"
            ],
            [
             0.5,
             "#f7f7f7"
            ],
            [
             0.6,
             "#e6f5d0"
            ],
            [
             0.7,
             "#b8e186"
            ],
            [
             0.8,
             "#7fbc41"
            ],
            [
             0.9,
             "#4d9221"
            ],
            [
             1,
             "#276419"
            ]
           ],
           "sequential": [
            [
             0,
             "#0d0887"
            ],
            [
             0.1111111111111111,
             "#46039f"
            ],
            [
             0.2222222222222222,
             "#7201a8"
            ],
            [
             0.3333333333333333,
             "#9c179e"
            ],
            [
             0.4444444444444444,
             "#bd3786"
            ],
            [
             0.5555555555555556,
             "#d8576b"
            ],
            [
             0.6666666666666666,
             "#ed7953"
            ],
            [
             0.7777777777777778,
             "#fb9f3a"
            ],
            [
             0.8888888888888888,
             "#fdca26"
            ],
            [
             1,
             "#f0f921"
            ]
           ],
           "sequentialminus": [
            [
             0,
             "#0d0887"
            ],
            [
             0.1111111111111111,
             "#46039f"
            ],
            [
             0.2222222222222222,
             "#7201a8"
            ],
            [
             0.3333333333333333,
             "#9c179e"
            ],
            [
             0.4444444444444444,
             "#bd3786"
            ],
            [
             0.5555555555555556,
             "#d8576b"
            ],
            [
             0.6666666666666666,
             "#ed7953"
            ],
            [
             0.7777777777777778,
             "#fb9f3a"
            ],
            [
             0.8888888888888888,
             "#fdca26"
            ],
            [
             1,
             "#f0f921"
            ]
           ]
          },
          "colorway": [
           "#636efa",
           "#EF553B",
           "#00cc96",
           "#ab63fa",
           "#FFA15A",
           "#19d3f3",
           "#FF6692",
           "#B6E880",
           "#FF97FF",
           "#FECB52"
          ],
          "font": {
           "color": "#2a3f5f"
          },
          "geo": {
           "bgcolor": "white",
           "lakecolor": "white",
           "landcolor": "#E5ECF6",
           "showlakes": true,
           "showland": true,
           "subunitcolor": "white"
          },
          "hoverlabel": {
           "align": "left"
          },
          "hovermode": "closest",
          "mapbox": {
           "style": "light"
          },
          "paper_bgcolor": "white",
          "plot_bgcolor": "#E5ECF6",
          "polar": {
           "angularaxis": {
            "gridcolor": "white",
            "linecolor": "white",
            "ticks": ""
           },
           "bgcolor": "#E5ECF6",
           "radialaxis": {
            "gridcolor": "white",
            "linecolor": "white",
            "ticks": ""
           }
          },
          "scene": {
           "xaxis": {
            "backgroundcolor": "#E5ECF6",
            "gridcolor": "white",
            "gridwidth": 2,
            "linecolor": "white",
            "showbackground": true,
            "ticks": "",
            "zerolinecolor": "white"
           },
           "yaxis": {
            "backgroundcolor": "#E5ECF6",
            "gridcolor": "white",
            "gridwidth": 2,
            "linecolor": "white",
            "showbackground": true,
            "ticks": "",
            "zerolinecolor": "white"
           },
           "zaxis": {
            "backgroundcolor": "#E5ECF6",
            "gridcolor": "white",
            "gridwidth": 2,
            "linecolor": "white",
            "showbackground": true,
            "ticks": "",
            "zerolinecolor": "white"
           }
          },
          "shapedefaults": {
           "line": {
            "color": "#2a3f5f"
           }
          },
          "ternary": {
           "aaxis": {
            "gridcolor": "white",
            "linecolor": "white",
            "ticks": ""
           },
           "baxis": {
            "gridcolor": "white",
            "linecolor": "white",
            "ticks": ""
           },
           "bgcolor": "#E5ECF6",
           "caxis": {
            "gridcolor": "white",
            "linecolor": "white",
            "ticks": ""
           }
          },
          "title": {
           "x": 0.05
          },
          "xaxis": {
           "automargin": true,
           "gridcolor": "white",
           "linecolor": "white",
           "ticks": "",
           "title": {
            "standoff": 15
           },
           "zerolinecolor": "white",
           "zerolinewidth": 2
          },
          "yaxis": {
           "automargin": true,
           "gridcolor": "white",
           "linecolor": "white",
           "ticks": "",
           "title": {
            "standoff": 15
           },
           "zerolinecolor": "white",
           "zerolinewidth": 2
          }
         }
        },
        "title": {
         "text": "Rocket's altitude"
        },
        "xaxis": {
         "title": {
          "text": "Time step"
         }
        },
        "yaxis": {
         "title": {
          "text": "Altitude"
         }
        }
       }
      }
     },
     "metadata": {},
     "output_type": "display_data"
    }
   ],
   "source": [
    "plot_rocket_altitude(tmp)"
   ]
  },
  {
   "cell_type": "markdown",
   "id": "9e799b66",
   "metadata": {},
   "source": [
    "Let's examine the rocket's landing, as well as its speed and acceleration throughout the descent."
   ]
  },
  {
   "cell_type": "markdown",
   "id": "268d8ce7",
   "metadata": {},
   "source": [
    "Let's see how each global reward and its individual components evolve, without their weighting coefficients. As a reminder, the reward formula for the booster is:\n",
    "\n",
    "$$  -2 * distance\\_y\\_reward + speed\\_y\\_reward + 0.5 * ratio\\_fuel $$ \n",
    "\n"
   ]
  },
  {
   "cell_type": "code",
   "execution_count": 7,
   "id": "1b6c6882",
   "metadata": {},
   "outputs": [
    {
     "data": {
      "application/vnd.plotly.v1+json": {
       "config": {
        "plotlyServerURL": "https://plot.ly"
       },
       "data": [
        {
         "mode": "lines+markers",
         "name": "distance_y_reward",
         "type": "scatter",
         "x": [
          0,
          3,
          6,
          9,
          12,
          15,
          18,
          21
         ],
         "y": [
          1,
          0.9166857142857142,
          0.7500571428571428,
          0.5506997658079625,
          0.37004215456674466,
          0.20979907117056318,
          0.07174391463419633,
          0.04228821882724185
         ]
        },
        {
         "mode": "lines+markers",
         "name": "speed_y_reward",
         "type": "scatter",
         "x": [
          0,
          3,
          6,
          9,
          12,
          15,
          18,
          21
         ],
         "y": [
          0,
          0,
          -4.268359890369506,
          -2.9544575190811746,
          -1.7979235858408669,
          -0.8047895085657357,
          0,
          0
         ]
        },
        {
         "mode": "lines+markers",
         "name": "ratio_fuel",
         "type": "scatter",
         "x": [
          0,
          3,
          6,
          9,
          12,
          15,
          18,
          21
         ],
         "y": [
          1,
          1,
          1,
          0.9833333333333333,
          0.9666666666666667,
          0.95,
          0.9333333333333333,
          0.9166666666666666
         ]
        },
        {
         "mode": "lines+markers",
         "name": "Sum of rewards",
         "type": "scatter",
         "x": [
          0,
          3,
          6,
          9,
          12,
          15,
          18,
          21
         ],
         "y": [
          -1.5,
          -1.3333714285714284,
          -5.268474176083792,
          -3.5641903840304328,
          -2.054674561641023,
          -0.7493876509068621,
          0.323178837398274,
          0.3737568956788496
         ]
        }
       ],
       "layout": {
        "template": {
         "data": {
          "bar": [
           {
            "error_x": {
             "color": "#2a3f5f"
            },
            "error_y": {
             "color": "#2a3f5f"
            },
            "marker": {
             "line": {
              "color": "#E5ECF6",
              "width": 0.5
             },
             "pattern": {
              "fillmode": "overlay",
              "size": 10,
              "solidity": 0.2
             }
            },
            "type": "bar"
           }
          ],
          "barpolar": [
           {
            "marker": {
             "line": {
              "color": "#E5ECF6",
              "width": 0.5
             },
             "pattern": {
              "fillmode": "overlay",
              "size": 10,
              "solidity": 0.2
             }
            },
            "type": "barpolar"
           }
          ],
          "carpet": [
           {
            "aaxis": {
             "endlinecolor": "#2a3f5f",
             "gridcolor": "white",
             "linecolor": "white",
             "minorgridcolor": "white",
             "startlinecolor": "#2a3f5f"
            },
            "baxis": {
             "endlinecolor": "#2a3f5f",
             "gridcolor": "white",
             "linecolor": "white",
             "minorgridcolor": "white",
             "startlinecolor": "#2a3f5f"
            },
            "type": "carpet"
           }
          ],
          "choropleth": [
           {
            "colorbar": {
             "outlinewidth": 0,
             "ticks": ""
            },
            "type": "choropleth"
           }
          ],
          "contour": [
           {
            "colorbar": {
             "outlinewidth": 0,
             "ticks": ""
            },
            "colorscale": [
             [
              0,
              "#0d0887"
             ],
             [
              0.1111111111111111,
              "#46039f"
             ],
             [
              0.2222222222222222,
              "#7201a8"
             ],
             [
              0.3333333333333333,
              "#9c179e"
             ],
             [
              0.4444444444444444,
              "#bd3786"
             ],
             [
              0.5555555555555556,
              "#d8576b"
             ],
             [
              0.6666666666666666,
              "#ed7953"
             ],
             [
              0.7777777777777778,
              "#fb9f3a"
             ],
             [
              0.8888888888888888,
              "#fdca26"
             ],
             [
              1,
              "#f0f921"
             ]
            ],
            "type": "contour"
           }
          ],
          "contourcarpet": [
           {
            "colorbar": {
             "outlinewidth": 0,
             "ticks": ""
            },
            "type": "contourcarpet"
           }
          ],
          "heatmap": [
           {
            "colorbar": {
             "outlinewidth": 0,
             "ticks": ""
            },
            "colorscale": [
             [
              0,
              "#0d0887"
             ],
             [
              0.1111111111111111,
              "#46039f"
             ],
             [
              0.2222222222222222,
              "#7201a8"
             ],
             [
              0.3333333333333333,
              "#9c179e"
             ],
             [
              0.4444444444444444,
              "#bd3786"
             ],
             [
              0.5555555555555556,
              "#d8576b"
             ],
             [
              0.6666666666666666,
              "#ed7953"
             ],
             [
              0.7777777777777778,
              "#fb9f3a"
             ],
             [
              0.8888888888888888,
              "#fdca26"
             ],
             [
              1,
              "#f0f921"
             ]
            ],
            "type": "heatmap"
           }
          ],
          "heatmapgl": [
           {
            "colorbar": {
             "outlinewidth": 0,
             "ticks": ""
            },
            "colorscale": [
             [
              0,
              "#0d0887"
             ],
             [
              0.1111111111111111,
              "#46039f"
             ],
             [
              0.2222222222222222,
              "#7201a8"
             ],
             [
              0.3333333333333333,
              "#9c179e"
             ],
             [
              0.4444444444444444,
              "#bd3786"
             ],
             [
              0.5555555555555556,
              "#d8576b"
             ],
             [
              0.6666666666666666,
              "#ed7953"
             ],
             [
              0.7777777777777778,
              "#fb9f3a"
             ],
             [
              0.8888888888888888,
              "#fdca26"
             ],
             [
              1,
              "#f0f921"
             ]
            ],
            "type": "heatmapgl"
           }
          ],
          "histogram": [
           {
            "marker": {
             "pattern": {
              "fillmode": "overlay",
              "size": 10,
              "solidity": 0.2
             }
            },
            "type": "histogram"
           }
          ],
          "histogram2d": [
           {
            "colorbar": {
             "outlinewidth": 0,
             "ticks": ""
            },
            "colorscale": [
             [
              0,
              "#0d0887"
             ],
             [
              0.1111111111111111,
              "#46039f"
             ],
             [
              0.2222222222222222,
              "#7201a8"
             ],
             [
              0.3333333333333333,
              "#9c179e"
             ],
             [
              0.4444444444444444,
              "#bd3786"
             ],
             [
              0.5555555555555556,
              "#d8576b"
             ],
             [
              0.6666666666666666,
              "#ed7953"
             ],
             [
              0.7777777777777778,
              "#fb9f3a"
             ],
             [
              0.8888888888888888,
              "#fdca26"
             ],
             [
              1,
              "#f0f921"
             ]
            ],
            "type": "histogram2d"
           }
          ],
          "histogram2dcontour": [
           {
            "colorbar": {
             "outlinewidth": 0,
             "ticks": ""
            },
            "colorscale": [
             [
              0,
              "#0d0887"
             ],
             [
              0.1111111111111111,
              "#46039f"
             ],
             [
              0.2222222222222222,
              "#7201a8"
             ],
             [
              0.3333333333333333,
              "#9c179e"
             ],
             [
              0.4444444444444444,
              "#bd3786"
             ],
             [
              0.5555555555555556,
              "#d8576b"
             ],
             [
              0.6666666666666666,
              "#ed7953"
             ],
             [
              0.7777777777777778,
              "#fb9f3a"
             ],
             [
              0.8888888888888888,
              "#fdca26"
             ],
             [
              1,
              "#f0f921"
             ]
            ],
            "type": "histogram2dcontour"
           }
          ],
          "mesh3d": [
           {
            "colorbar": {
             "outlinewidth": 0,
             "ticks": ""
            },
            "type": "mesh3d"
           }
          ],
          "parcoords": [
           {
            "line": {
             "colorbar": {
              "outlinewidth": 0,
              "ticks": ""
             }
            },
            "type": "parcoords"
           }
          ],
          "pie": [
           {
            "automargin": true,
            "type": "pie"
           }
          ],
          "scatter": [
           {
            "fillpattern": {
             "fillmode": "overlay",
             "size": 10,
             "solidity": 0.2
            },
            "type": "scatter"
           }
          ],
          "scatter3d": [
           {
            "line": {
             "colorbar": {
              "outlinewidth": 0,
              "ticks": ""
             }
            },
            "marker": {
             "colorbar": {
              "outlinewidth": 0,
              "ticks": ""
             }
            },
            "type": "scatter3d"
           }
          ],
          "scattercarpet": [
           {
            "marker": {
             "colorbar": {
              "outlinewidth": 0,
              "ticks": ""
             }
            },
            "type": "scattercarpet"
           }
          ],
          "scattergeo": [
           {
            "marker": {
             "colorbar": {
              "outlinewidth": 0,
              "ticks": ""
             }
            },
            "type": "scattergeo"
           }
          ],
          "scattergl": [
           {
            "marker": {
             "colorbar": {
              "outlinewidth": 0,
              "ticks": ""
             }
            },
            "type": "scattergl"
           }
          ],
          "scattermapbox": [
           {
            "marker": {
             "colorbar": {
              "outlinewidth": 0,
              "ticks": ""
             }
            },
            "type": "scattermapbox"
           }
          ],
          "scatterpolar": [
           {
            "marker": {
             "colorbar": {
              "outlinewidth": 0,
              "ticks": ""
             }
            },
            "type": "scatterpolar"
           }
          ],
          "scatterpolargl": [
           {
            "marker": {
             "colorbar": {
              "outlinewidth": 0,
              "ticks": ""
             }
            },
            "type": "scatterpolargl"
           }
          ],
          "scatterternary": [
           {
            "marker": {
             "colorbar": {
              "outlinewidth": 0,
              "ticks": ""
             }
            },
            "type": "scatterternary"
           }
          ],
          "surface": [
           {
            "colorbar": {
             "outlinewidth": 0,
             "ticks": ""
            },
            "colorscale": [
             [
              0,
              "#0d0887"
             ],
             [
              0.1111111111111111,
              "#46039f"
             ],
             [
              0.2222222222222222,
              "#7201a8"
             ],
             [
              0.3333333333333333,
              "#9c179e"
             ],
             [
              0.4444444444444444,
              "#bd3786"
             ],
             [
              0.5555555555555556,
              "#d8576b"
             ],
             [
              0.6666666666666666,
              "#ed7953"
             ],
             [
              0.7777777777777778,
              "#fb9f3a"
             ],
             [
              0.8888888888888888,
              "#fdca26"
             ],
             [
              1,
              "#f0f921"
             ]
            ],
            "type": "surface"
           }
          ],
          "table": [
           {
            "cells": {
             "fill": {
              "color": "#EBF0F8"
             },
             "line": {
              "color": "white"
             }
            },
            "header": {
             "fill": {
              "color": "#C8D4E3"
             },
             "line": {
              "color": "white"
             }
            },
            "type": "table"
           }
          ]
         },
         "layout": {
          "annotationdefaults": {
           "arrowcolor": "#2a3f5f",
           "arrowhead": 0,
           "arrowwidth": 1
          },
          "autotypenumbers": "strict",
          "coloraxis": {
           "colorbar": {
            "outlinewidth": 0,
            "ticks": ""
           }
          },
          "colorscale": {
           "diverging": [
            [
             0,
             "#8e0152"
            ],
            [
             0.1,
             "#c51b7d"
            ],
            [
             0.2,
             "#de77ae"
            ],
            [
             0.3,
             "#f1b6da"
            ],
            [
             0.4,
             "#fde0ef"
            ],
            [
             0.5,
             "#f7f7f7"
            ],
            [
             0.6,
             "#e6f5d0"
            ],
            [
             0.7,
             "#b8e186"
            ],
            [
             0.8,
             "#7fbc41"
            ],
            [
             0.9,
             "#4d9221"
            ],
            [
             1,
             "#276419"
            ]
           ],
           "sequential": [
            [
             0,
             "#0d0887"
            ],
            [
             0.1111111111111111,
             "#46039f"
            ],
            [
             0.2222222222222222,
             "#7201a8"
            ],
            [
             0.3333333333333333,
             "#9c179e"
            ],
            [
             0.4444444444444444,
             "#bd3786"
            ],
            [
             0.5555555555555556,
             "#d8576b"
            ],
            [
             0.6666666666666666,
             "#ed7953"
            ],
            [
             0.7777777777777778,
             "#fb9f3a"
            ],
            [
             0.8888888888888888,
             "#fdca26"
            ],
            [
             1,
             "#f0f921"
            ]
           ],
           "sequentialminus": [
            [
             0,
             "#0d0887"
            ],
            [
             0.1111111111111111,
             "#46039f"
            ],
            [
             0.2222222222222222,
             "#7201a8"
            ],
            [
             0.3333333333333333,
             "#9c179e"
            ],
            [
             0.4444444444444444,
             "#bd3786"
            ],
            [
             0.5555555555555556,
             "#d8576b"
            ],
            [
             0.6666666666666666,
             "#ed7953"
            ],
            [
             0.7777777777777778,
             "#fb9f3a"
            ],
            [
             0.8888888888888888,
             "#fdca26"
            ],
            [
             1,
             "#f0f921"
            ]
           ]
          },
          "colorway": [
           "#636efa",
           "#EF553B",
           "#00cc96",
           "#ab63fa",
           "#FFA15A",
           "#19d3f3",
           "#FF6692",
           "#B6E880",
           "#FF97FF",
           "#FECB52"
          ],
          "font": {
           "color": "#2a3f5f"
          },
          "geo": {
           "bgcolor": "white",
           "lakecolor": "white",
           "landcolor": "#E5ECF6",
           "showlakes": true,
           "showland": true,
           "subunitcolor": "white"
          },
          "hoverlabel": {
           "align": "left"
          },
          "hovermode": "closest",
          "mapbox": {
           "style": "light"
          },
          "paper_bgcolor": "white",
          "plot_bgcolor": "#E5ECF6",
          "polar": {
           "angularaxis": {
            "gridcolor": "white",
            "linecolor": "white",
            "ticks": ""
           },
           "bgcolor": "#E5ECF6",
           "radialaxis": {
            "gridcolor": "white",
            "linecolor": "white",
            "ticks": ""
           }
          },
          "scene": {
           "xaxis": {
            "backgroundcolor": "#E5ECF6",
            "gridcolor": "white",
            "gridwidth": 2,
            "linecolor": "white",
            "showbackground": true,
            "ticks": "",
            "zerolinecolor": "white"
           },
           "yaxis": {
            "backgroundcolor": "#E5ECF6",
            "gridcolor": "white",
            "gridwidth": 2,
            "linecolor": "white",
            "showbackground": true,
            "ticks": "",
            "zerolinecolor": "white"
           },
           "zaxis": {
            "backgroundcolor": "#E5ECF6",
            "gridcolor": "white",
            "gridwidth": 2,
            "linecolor": "white",
            "showbackground": true,
            "ticks": "",
            "zerolinecolor": "white"
           }
          },
          "shapedefaults": {
           "line": {
            "color": "#2a3f5f"
           }
          },
          "ternary": {
           "aaxis": {
            "gridcolor": "white",
            "linecolor": "white",
            "ticks": ""
           },
           "baxis": {
            "gridcolor": "white",
            "linecolor": "white",
            "ticks": ""
           },
           "bgcolor": "#E5ECF6",
           "caxis": {
            "gridcolor": "white",
            "linecolor": "white",
            "ticks": ""
           }
          },
          "title": {
           "x": 0.05
          },
          "xaxis": {
           "automargin": true,
           "gridcolor": "white",
           "linecolor": "white",
           "ticks": "",
           "title": {
            "standoff": 15
           },
           "zerolinecolor": "white",
           "zerolinewidth": 2
          },
          "yaxis": {
           "automargin": true,
           "gridcolor": "white",
           "linecolor": "white",
           "ticks": "",
           "title": {
            "standoff": 15
           },
           "zerolinecolor": "white",
           "zerolinewidth": 2
          }
         }
        },
        "title": {
         "text": "Reward and its components"
        },
        "xaxis": {
         "title": {
          "text": "Time step"
         }
        },
        "yaxis": {
         "title": {
          "text": "Score"
         }
        }
       }
      }
     },
     "metadata": {},
     "output_type": "display_data"
    }
   ],
   "source": [
    "plot_reward_rocket_monoagent(env_ref)"
   ]
  },
  {
   "cell_type": "markdown",
   "id": "e5bc9cc0",
   "metadata": {},
   "source": [
    "## <span style=\"color:orange\">Reinforcemet learning</span>\n",
    "\n",
    "\n",
    "After load our environment, next step is to create QLearningTrainer objet. It will apply Qlearning algorithm. For each states, the algorithm will apply a score base to the next iteration.\n",
    "\n",
    "The Bellman equation is the value function use in reinforcement learning. \n",
    "\n",
    "$v(s) = (1−\\alpha) * V(s)+ \\alpha * (R+\\gamma * V(s'))$\n",
    "\n",
    "Where:\n",
    "\n",
    "* $V(s)$ is the estimated value of state $s$ * $s$ is the curent state\n",
    "* $s'$ is the next state.\n",
    "* $R$ is the immediate reward received after transitioning from state $s$ to state\n",
    "* $\\gamma$ is the discount factor, which determines the importance of future rewards.\n",
    "* $\\alpha$ is the learning rate.\n",
    "s.l difference (TD) learning methods."
   ]
  },
  {
   "cell_type": "code",
   "execution_count": 6,
   "id": "f5c07191",
   "metadata": {},
   "outputs": [
    {
     "name": "stdout",
     "output_type": "stream",
     "text": [
      "check order names for states_variables\n",
      "Warning : State variable order are not the  (not a fatal error):\n",
      "state_variables : speed_y, initial_value: speed_y, limit: acceleration_y\n",
      "Warning : State variable order are not the  (not a fatal error):\n",
      "state_variables : weight_rocket, initial_value: weight_rocket, limit: speed_y\n",
      "\n",
      "Check order names for agent_variables\n",
      "Warning : agent variable order are not the same:\n",
      "Warning : agent_variables : booster, initial_value: booster, limit: weight_rocket\n",
      "\n",
      "check limit number of field\n",
      "\n",
      "Check limit boundaries for initial state\n",
      "\n",
      "Solve equations present in equations_variables field\n",
      "\n",
      "Solve equations present in equations_rewards field\n",
      "\n",
      "Everything is good :)\n"
     ]
    }
   ],
   "source": [
    "# Load RL object\n",
    "env = Environment(JOSN_file, check_model = True)\n",
    "RL = QLearningTrainer(env, \n",
    "                      num_episodes = 1000, \n",
    "                      convergence_criterion = 0.5, \n",
    "                      decay_type = \"exponential\",\n",
    "                      decrease_prob_exp = 0.015)"
   ]
  },
  {
   "cell_type": "markdown",
   "id": "d0d31355",
   "metadata": {},
   "source": [
    "Different parameters are avaible. For the tutorial, you use default parameters. Before to lunch training. Lets discus about the input parameters."
   ]
  },
  {
   "cell_type": "markdown",
   "id": "fd6c9872",
   "metadata": {},
   "source": [
    "### <span style=\"color:orange\">Learning rate</span>\n",
    "\n",
    "\n",
    "The learning rate $\\alpha$ in the Bellman equation controls the weight given to the new estimate compared to the existing estimate of the state value. A smaller learning rate means that the new estimate has less influence, and the agent is more conservative in updating its value function. A larger learning rate allows the agent to adjust its estimates more rapidly based on new information\n",
    "\n",
    "### <span style=\"color:orange\">Discount factor ($\\gamma$)</span>\n",
    "\n",
    "\n",
    "### <span style=\"color:orange\">Epsilon parameter</span>\n",
    "\n",
    "Exploration-exploitation is a fundamental trade-off in reinforcement learning, where the agent needs to balance between exploring new actions and exploiting the knowledge it has gained so far.\n",
    "\n",
    "The epsilon-greedy policy is a simple strategy that the agent uses to decide whether to explore a new action (random exploration) or exploit the current best-known action. It helps prevent the agent from getting stuck in suboptimal policies by occasionally trying new actions. The value of epsilon determines the probabilty the agent chooses a random action. A higher epsilon encourages more exploration, while a lower epsilon emphasizes exploitation of the current best-known actions.ent knowledge.\n",
    "\n",
    "The epsilon parameter is decayed over time during training. This means that, as the agent gains more experience, it tends to rely more on exploitation and less on exploration. The idea is that, as the agent learns and becomes more confident in its estimates, it gradually reduces the rate of exploration. \n",
    "\n",
    "Epsilon initailization is made with the argument **exploration_prob**. It is a list with the lowest and the highest probability values. The probability will decrease with a rate given by the argument **decrease_prob_exp**. By default epsilon is modeled with a linear decay but you can change it to a exponential decay.\n"
   ]
  },
  {
   "cell_type": "code",
   "execution_count": 7,
   "id": "2b309bce",
   "metadata": {},
   "outputs": [
    {
     "data": {
      "image/png": "[encoded data removed]",
      "text/plain": [
       "<Figure size 640x480 with 1 Axes>"
      ]
     },
     "metadata": {},
     "output_type": "display_data"
    }
   ],
   "source": [
    "plt.plot(RL.get_epsilon(decay_type = 'linear')[0:400], label = \"linear decay\")\n",
    "plt.plot(RL.get_epsilon(decay_type = 'exponential')[0:400], label = \"exponential decay\")\n",
    "plt.title(\"Probability to choose a random action\")\n",
    "plt.legend()\n",
    "plt.xlabel(\"# episode\")\n",
    "plt.ylabel(\"Epsilon value\")\n",
    "plt.show()"
   ]
  },
  {
   "cell_type": "markdown",
   "id": "db8234ff",
   "metadata": {},
   "source": [
    "### <span style=\"color:orange\">num_episodes, run_limit and convergence_criterion</span>\n",
    "\n",
    "The last three options are hyperparameters. They impact computation time. **num_episodes** is the maximum number of epochs used for training. **run_limit** controls the maximum number of iterations before stopping one episode. **convergence_criterion** is the threshold (difference score between two iterations) to determine convergence.\n"
   ]
  },
  {
   "cell_type": "markdown",
   "id": "7b46904f",
   "metadata": {},
   "source": [
    "Before to lunch training. it is important to understand q learning algorithm works in a discretize space. Spacing between each bins can have an impact in convergence. Indeed if for a same discretize space can group too many different states Q table will not be stable and algorithm can have difficulties to converge.\n",
    "\n",
    "Let's see how our space is discretized ``RL.env.json[\"limit\"]``. Agent variable (booster) has 3 bins. In other hand for states variables (\"pos_y\", \"acceleration_y\", \"speed_y\" and \"weight_rocket\") we have 41, 21, 16 and 62 bins.\n",
    "Our Q table is composed of $$ 3 * 41 *21 *21 *62 = 3363066\\  states $$"
   ]
  },
  {
   "cell_type": "code",
   "execution_count": 8,
   "id": "db459391",
   "metadata": {},
   "outputs": [
    {
     "name": "stdout",
     "output_type": "stream",
     "text": [
      "Episode 1/1000\n",
      "exploration_prob : 1.000\n",
      "No action possible. Stop episode at 7th iterations\n",
      "Save last state even is out of bound\n",
      "Q table still growths\n",
      "Loss : -59.28035644799537\n",
      "end while loop iteration :  7\n",
      "Episode 2/1000\n",
      "exploration_prob : 0.985\n",
      "No action possible. Stop episode at 2th iterations\n",
      "Save last state even is out of bound\n",
      "Q table still growths\n",
      "Loss : -15.145059027596101\n",
      "end while loop iteration :  2\n",
      "Episode 3/1000\n",
      "exploration_prob : 0.970\n",
      "No action possible. Stop episode at 4th iterations\n",
      "Save last state even is out of bound\n",
      "Q table still growths\n",
      "Loss : -196.58500660513477\n",
      "end while loop iteration :  4\n",
      "Episode 4/1000\n",
      "exploration_prob : 0.956\n",
      "No action possible. Stop episode at 5th iterations\n",
      "Save last state even is out of bound\n",
      "Q table still growths\n",
      "Loss : -43.73815607412551\n",
      "end while loop iteration :  5\n",
      "Episode 5/1000\n",
      "exploration_prob : 0.942\n",
      "stop episode because agent reach goal\n",
      "stop episode because agent reach goal\n",
      "Q table still growths\n",
      "Loss : -18.0237799724135\n",
      "end while loop iteration :  12\n",
      "Episode 6/1000\n",
      "exploration_prob : 0.928\n",
      "No action possible. Stop episode at 30th iterations\n",
      "Save last state even is out of bound\n",
      "Q table still growths\n",
      "Loss : -480.436279532076\n",
      "end while loop iteration :  30\n",
      "Episode 7/1000\n",
      "exploration_prob : 0.914\n",
      "No action possible. Stop episode at 13th iterations\n",
      "Save last state even is out of bound\n",
      "Q table still growths\n",
      "Loss : -123.41376669448408\n",
      "end while loop iteration :  13\n",
      "Episode 8/1000\n",
      "exploration_prob : 0.900\n",
      "No action possible. Stop episode at 8th iterations\n",
      "Save last state even is out of bound\n",
      "Q table still growths\n",
      "Loss : -39.06131271370202\n",
      "end while loop iteration :  8\n",
      "Episode 9/1000\n",
      "exploration_prob : 0.887\n",
      "No action possible. Stop episode at 9th iterations\n",
      "Save last state even is out of bound\n",
      "Q table still growths\n",
      "Loss : -58.789453708000806\n",
      "end while loop iteration :  9\n",
      "Episode 10/1000\n",
      "exploration_prob : 0.874\n",
      "No action possible. Stop episode at 23th iterations\n",
      "Save last state even is out of bound\n",
      "Q table still growths\n",
      "Loss : -79.92122252614801\n",
      "end while loop iteration :  23\n",
      "Episode 11/1000\n",
      "exploration_prob : 0.861\n",
      "No action possible. Stop episode at 2th iterations\n",
      "Save last state even is out of bound\n",
      "Q table still growths\n",
      "Loss : -10.749946442630739\n",
      "end while loop iteration :  2\n",
      "Episode 12/1000\n",
      "exploration_prob : 0.848\n",
      "stop episode because agent reach goal\n",
      "stop episode because agent reach goal\n",
      "Q table still growths\n",
      "Loss : -56.80551063100038\n",
      "end while loop iteration :  19\n",
      "Episode 13/1000\n",
      "exploration_prob : 0.835\n",
      "No action possible. Stop episode at 6th iterations\n",
      "Save last state even is out of bound\n",
      "Q table still growths\n",
      "Loss : -51.112172119145605\n",
      "end while loop iteration :  6\n",
      "Episode 14/1000\n",
      "exploration_prob : 0.823\n",
      "stop episode because agent reach goal\n",
      "stop episode because agent reach goal\n",
      "Q table still growths\n",
      "Loss : -47.75755965018266\n",
      "end while loop iteration :  10\n",
      "Episode 15/1000\n",
      "exploration_prob : 0.811\n",
      "stop episode because agent reach goal\n",
      "stop episode because agent reach goal\n",
      "Q table still growths\n",
      "Loss : -12.563076134894581\n",
      "end while loop iteration :  8\n",
      "Episode 16/1000\n",
      "exploration_prob : 0.799\n",
      "No action possible. Stop episode at 2th iterations\n",
      "Save last state even is out of bound\n",
      "diff Qtable_N - Qtable_N-1  0.3303990893462469\n",
      "Loss : -10.749946442630739\n",
      "end while loop iteration :  2\n",
      "Episode 17/1000\n",
      "exploration_prob : 0.787\n",
      "No action possible. Stop episode at 2th iterations\n",
      "Save last state even is out of bound\n",
      "diff Qtable_N - Qtable_N-1  0.7551434953921445\n",
      "Loss : -15.145059027596101\n",
      "end while loop iteration :  2\n",
      "Episode 18/1000\n",
      "exploration_prob : 0.775\n",
      "stop episode because agent reach goal\n",
      "No action possible. Stop episode at 14th iterations\n",
      "Save last state even is out of bound\n",
      "Q table still growths\n",
      "Loss : -402.3130113534578\n",
      "end while loop iteration :  14\n",
      "Episode 19/1000\n",
      "exploration_prob : 0.763\n",
      "No action possible. Stop episode at 7th iterations\n",
      "Save last state even is out of bound\n",
      "diff Qtable_N - Qtable_N-1  5.542269781116873\n",
      "Loss : -62.05416166086243\n",
      "end while loop iteration :  7\n",
      "Episode 20/1000\n",
      "exploration_prob : 0.752\n",
      "No action possible. Stop episode at 4th iterations\n",
      "Save last state even is out of bound\n",
      "Q table still growths\n",
      "Loss : -62.14713661168777\n",
      "end while loop iteration :  4\n",
      "Episode 21/1000\n",
      "exploration_prob : 0.741\n",
      "No action possible. Stop episode at 10th iterations\n",
      "Save last state even is out of bound\n",
      "Q table still growths\n",
      "Loss : -276.01988128715834\n",
      "end while loop iteration :  10\n",
      "Episode 22/1000\n",
      "exploration_prob : 0.730\n",
      "No action possible. Stop episode at 6th iterations\n",
      "Save last state even is out of bound\n",
      "diff Qtable_N - Qtable_N-1  0.8434229383122945\n",
      "Loss : -22.247277596855678\n",
      "end while loop iteration :  6\n",
      "Episode 23/1000\n",
      "exploration_prob : 0.719\n",
      "stop episode because agent reach goal\n",
      "stop episode because agent reach goal\n",
      "Q table still growths\n",
      "Loss : -19.315868136225177\n",
      "end while loop iteration :  6\n",
      "Episode 24/1000\n",
      "exploration_prob : 0.708\n",
      "stop episode because agent reach goal\n",
      "stop episode because agent reach goal\n",
      "Q table still growths\n",
      "Loss : -62.65396361653231\n",
      "end while loop iteration :  10\n",
      "Episode 25/1000\n",
      "exploration_prob : 0.698\n",
      "No action possible. Stop episode at 3th iterations\n",
      "Save last state even is out of bound\n",
      "Q table still growths\n",
      "Loss : -15.110865159432858\n",
      "end while loop iteration :  3\n",
      "Episode 26/1000\n",
      "exploration_prob : 0.687\n",
      "No action possible. Stop episode at 2th iterations\n",
      "Save last state even is out of bound\n",
      "diff Qtable_N - Qtable_N-1  0.29735918041162224\n",
      "Loss : -10.749946442630739\n",
      "end while loop iteration :  2\n",
      "Episode 27/1000\n",
      "exploration_prob : 0.677\n",
      "stop episode because agent reach goal\n",
      "No action possible. Stop episode at 14th iterations\n",
      "Save last state even is out of bound\n",
      "Q table still growths\n",
      "Loss : -135.23185606445588\n",
      "end while loop iteration :  14\n",
      "Episode 28/1000\n",
      "exploration_prob : 0.667\n",
      "stop episode because agent reach goal\n",
      "stop episode because agent reach goal\n",
      "Q table still growths\n",
      "Loss : -26.980742796409114\n",
      "end while loop iteration :  5\n",
      "Episode 29/1000\n",
      "exploration_prob : 0.657\n",
      "No action possible. Stop episode at 6th iterations\n",
      "Save last state even is out of bound\n",
      "Q table still growths\n",
      "Loss : -19.627444742397465\n",
      "end while loop iteration :  6\n",
      "Episode 30/1000\n",
      "exploration_prob : 0.647\n",
      "No action possible. Stop episode at 13th iterations\n",
      "Save last state even is out of bound\n",
      "Q table still growths\n",
      "Loss : -230.89821879310782\n",
      "end while loop iteration :  13\n",
      "Episode 31/1000\n",
      "exploration_prob : 0.638\n",
      "stop episode because agent reach goal\n",
      "stop episode because agent reach goal\n",
      "stop episode because agent reach goal\n",
      "diff Qtable_N - Qtable_N-1  0.0704981743784492\n",
      "Loss : -17.657958095991024\n",
      "end while loop iteration :  7\n",
      "Episode 32/1000\n",
      "exploration_prob : 0.628\n",
      "No action possible. Stop episode at 2th iterations\n",
      "Save last state even is out of bound\n",
      "diff Qtable_N - Qtable_N-1  0.67962914585293\n",
      "Loss : -15.145059027596101\n",
      "end while loop iteration :  2\n",
      "Episode 33/1000\n",
      "exploration_prob : 0.619\n",
      "No action possible. Stop episode at 5th iterations\n",
      "Save last state even is out of bound\n",
      "Q table still growths\n",
      "Loss : -159.82094456604509\n",
      "end while loop iteration :  5\n",
      "Episode 34/1000\n",
      "exploration_prob : 0.610\n",
      "No action possible. Stop episode at 10th iterations\n",
      "Save last state even is out of bound\n",
      "diff Qtable_N - Qtable_N-1  8.9323697840678\n",
      "Loss : -40.468468927359744\n",
      "end while loop iteration :  10\n",
      "Episode 35/1000\n",
      "exploration_prob : 0.600\n",
      "No action possible. Stop episode at 13th iterations\n",
      "Save last state even is out of bound\n",
      "Q table still growths\n",
      "Loss : -35.46861791875588\n",
      "end while loop iteration :  13\n",
      "Episode 36/1000\n",
      "exploration_prob : 0.592\n",
      "No action possible. Stop episode at 10th iterations\n",
      "Save last state even is out of bound\n",
      "Q table still growths\n",
      "Loss : -13.944983560415167\n",
      "end while loop iteration :  10\n",
      "Episode 37/1000\n",
      "exploration_prob : 0.583\n",
      "stop episode because agent reach goal\n",
      "stop episode because agent reach goal\n",
      "diff Qtable_N - Qtable_N-1  1.93656234196279\n",
      "Loss : -25.610080441707215\n",
      "end while loop iteration :  6\n",
      "Episode 38/1000\n",
      "exploration_prob : 0.574\n",
      "stop episode because agent reach goal\n",
      "diff Qtable_N - Qtable_N-1  4.409022664896294\n",
      "Loss : -39.420494782288856\n",
      "end while loop iteration :  8\n",
      "Episode 39/1000\n",
      "exploration_prob : 0.566\n",
      "No action possible. Stop episode at 5th iterations\n",
      "Save last state even is out of bound\n",
      "Q table still growths\n",
      "Loss : -23.35583200600049\n",
      "end while loop iteration :  5\n",
      "Episode 40/1000\n",
      "exploration_prob : 0.557\n",
      "stop episode because agent reach goal\n",
      "stop episode because agent reach goal\n",
      "Q table still growths\n",
      "Loss : -60.517519802355054\n",
      "end while loop iteration :  4\n",
      "Episode 41/1000\n",
      "exploration_prob : 0.549\n",
      "stop episode because agent reach goal\n",
      "No action possible. Stop episode at 20th iterations\n",
      "Save last state even is out of bound\n",
      "Q table still growths\n",
      "Loss : -251.40786385324088\n",
      "end while loop iteration :  20\n",
      "Episode 42/1000\n",
      "exploration_prob : 0.541\n",
      "No action possible. Stop episode at 6th iterations\n",
      "Save last state even is out of bound\n",
      "diff Qtable_N - Qtable_N-1  0.869380265462342\n",
      "Loss : -39.70093410203513\n",
      "end while loop iteration :  6\n",
      "Episode 43/1000\n",
      "exploration_prob : 0.533\n",
      "No action possible. Stop episode at 9th iterations\n",
      "Save last state even is out of bound\n",
      "Q table still growths\n",
      "Loss : -30.486899460120366\n",
      "end while loop iteration :  9\n",
      "Episode 44/1000\n",
      "exploration_prob : 0.525\n",
      "stop episode because agent reach goal\n",
      "Q table still growths\n",
      "Loss : -13.347486977294633\n",
      "end while loop iteration :  8\n",
      "Episode 45/1000\n",
      "exploration_prob : 0.517\n",
      "No action possible. Stop episode at 6th iterations\n",
      "Save last state even is out of bound\n",
      "Q table still growths\n",
      "Loss : -126.0979840194017\n",
      "end while loop iteration :  6\n",
      "Episode 46/1000\n",
      "exploration_prob : 0.509\n",
      "No action possible. Stop episode at 10th iterations\n",
      "Save last state even is out of bound\n",
      "Q table still growths\n",
      "Loss : -30.148377550702676\n",
      "end while loop iteration :  10\n",
      "Episode 47/1000\n",
      "exploration_prob : 0.502\n",
      "stop episode because agent reach goal\n",
      "Q table still growths\n",
      "Loss : -17.486029160041895\n",
      "end while loop iteration :  6\n",
      "Episode 48/1000\n",
      "exploration_prob : 0.494\n",
      "No action possible. Stop episode at 13th iterations\n",
      "Save last state even is out of bound\n",
      "diff Qtable_N - Qtable_N-1  2.658367737692151\n",
      "Loss : -92.14063538439292\n",
      "end while loop iteration :  13\n",
      "Episode 49/1000\n",
      "exploration_prob : 0.487\n",
      "No action possible. Stop episode at 4th iterations\n",
      "Save last state even is out of bound\n",
      "Q table still growths\n",
      "Loss : -16.781231885734915\n",
      "end while loop iteration :  4\n",
      "Episode 50/1000\n",
      "exploration_prob : 0.480\n",
      "stop episode because agent reach goal\n",
      "stop episode because agent reach goal\n",
      "stop episode because agent reach goal\n",
      "Q table still growths\n",
      "Loss : -11.936818301448252\n",
      "end while loop iteration :  13\n",
      "Episode 51/1000\n",
      "exploration_prob : 0.472\n",
      "No action possible. Stop episode at 3th iterations\n",
      "Save last state even is out of bound\n",
      "diff Qtable_N - Qtable_N-1  0.348915805970186\n",
      "Loss : -14.29134639316939\n",
      "end while loop iteration :  3\n",
      "Episode 52/1000\n",
      "exploration_prob : 0.465\n",
      "No action possible. Stop episode at 9th iterations\n",
      "Save last state even is out of bound\n",
      "Q table still growths\n",
      "Loss : -58.12808567805121\n",
      "end while loop iteration :  9\n",
      "Episode 53/1000\n",
      "exploration_prob : 0.458\n",
      "No action possible. Stop episode at 3th iterations\n",
      "Save last state even is out of bound\n",
      "Q table still growths\n",
      "Loss : -47.297541865750546\n",
      "end while loop iteration :  3\n",
      "Episode 54/1000\n",
      "exploration_prob : 0.452\n",
      "No action possible. Stop episode at 9th iterations\n",
      "Save last state even is out of bound\n",
      "diff Qtable_N - Qtable_N-1  12.679852875628104\n",
      "Loss : -74.8800641785179\n",
      "end while loop iteration :  9\n",
      "Episode 55/1000\n",
      "exploration_prob : 0.445\n",
      "stop episode because agent reach goal\n",
      "stop episode because agent reach goal\n",
      "diff Qtable_N - Qtable_N-1  29.031294228840324\n",
      "Loss : -127.62763185187221\n",
      "end while loop iteration :  6\n",
      "Episode 56/1000\n",
      "exploration_prob : 0.438\n",
      "No action possible. Stop episode at 2th iterations\n",
      "Save last state even is out of bound\n",
      "Q table still growths\n",
      "Loss : -33.561087450218324\n",
      "end while loop iteration :  2\n",
      "Episode 57/1000\n",
      "exploration_prob : 0.432\n",
      "stop episode because agent reach goal\n",
      "stop episode because agent reach goal\n",
      "Q table still growths\n",
      "Loss : -19.687470232904772\n",
      "end while loop iteration :  12\n",
      "Episode 58/1000\n",
      "exploration_prob : 0.425\n",
      "No action possible. Stop episode at 16th iterations\n",
      "Save last state even is out of bound\n",
      "Q table still growths\n",
      "Loss : -119.42139071413526\n",
      "end while loop iteration :  16\n",
      "Episode 59/1000\n",
      "exploration_prob : 0.419\n",
      "stop episode because agent reach goal\n",
      "stop episode because agent reach goal\n",
      "Q table still growths\n",
      "Loss : -18.049420971830223\n",
      "end while loop iteration :  10\n",
      "Episode 60/1000\n",
      "exploration_prob : 0.413\n",
      "No action possible. Stop episode at 7th iterations\n",
      "Save last state even is out of bound\n",
      "Q table still growths\n",
      "Loss : -100.17693059270884\n",
      "end while loop iteration :  7\n",
      "Episode 61/1000\n",
      "exploration_prob : 0.407\n",
      "stop episode because agent reach goal\n",
      "stop episode because agent reach goal\n",
      "stop episode because agent reach goal\n",
      "Q table still growths\n",
      "Loss : -21.824289503731347\n",
      "end while loop iteration :  14\n",
      "Episode 62/1000\n",
      "exploration_prob : 0.401\n",
      "stop episode because agent reach goal\n",
      "stop episode because agent reach goal\n",
      "stop episode because agent reach goal\n",
      "stop episode because agent reach goal\n",
      "diff Qtable_N - Qtable_N-1  0.07125740522400979\n",
      "Loss : -12.622574111765788\n",
      "end while loop iteration :  8\n",
      "Episode 63/1000\n",
      "exploration_prob : 0.395\n",
      "No action possible. Stop episode at 11th iterations\n",
      "Save last state even is out of bound\n",
      "Q table still growths\n",
      "Loss : -111.51890286638077\n",
      "end while loop iteration :  11\n",
      "Episode 64/1000\n",
      "exploration_prob : 0.389\n",
      "No action possible. Stop episode at 13th iterations\n",
      "Save last state even is out of bound\n",
      "diff Qtable_N - Qtable_N-1  2.624088124722415\n",
      "Loss : -101.95649213391782\n",
      "end while loop iteration :  13\n",
      "Episode 65/1000\n",
      "exploration_prob : 0.383\n",
      "stop episode because agent reach goal\n",
      "stop episode because agent reach goal\n",
      "Q table still growths\n",
      "Loss : -12.862334248957502\n",
      "end while loop iteration :  15\n",
      "Episode 66/1000\n",
      "exploration_prob : 0.377\n",
      "stop episode because agent reach goal\n",
      "stop episode because agent reach goal\n",
      "stop episode because agent reach goal\n",
      "stop episode because agent reach goal\n",
      "Q table still growths\n",
      "Loss : -37.4180479314872\n",
      "end while loop iteration :  30\n",
      "Episode 67/1000\n",
      "exploration_prob : 0.372\n",
      "No action possible. Stop episode at 7th iterations\n",
      "Save last state even is out of bound\n",
      "Q table still growths\n",
      "Loss : -20.664797002642672\n",
      "end while loop iteration :  7\n",
      "Episode 68/1000\n",
      "exploration_prob : 0.366\n",
      "No action possible. Stop episode at 12th iterations\n",
      "Save last state even is out of bound\n",
      "Q table still growths\n",
      "Loss : -415.5395817512038\n",
      "end while loop iteration :  12\n",
      "Episode 69/1000\n",
      "exploration_prob : 0.361\n",
      "No action possible. Stop episode at 9th iterations\n",
      "Save last state even is out of bound\n",
      "diff Qtable_N - Qtable_N-1  3.115608192968351\n",
      "Loss : -104.30868127408998\n",
      "end while loop iteration :  9\n",
      "Episode 70/1000\n",
      "exploration_prob : 0.355\n",
      "No action possible. Stop episode at 3th iterations\n",
      "Save last state even is out of bound\n",
      "Q table still growths\n",
      "Loss : -21.252812308270656\n",
      "end while loop iteration :  3\n",
      "Episode 71/1000\n",
      "exploration_prob : 0.350\n",
      "No action possible. Stop episode at 7th iterations\n",
      "Save last state even is out of bound\n",
      "Q table still growths\n",
      "Loss : -199.1761932565953\n",
      "end while loop iteration :  7\n",
      "Episode 72/1000\n",
      "exploration_prob : 0.345\n",
      "stop episode because agent reach goal\n",
      "stop episode because agent reach goal\n",
      "Q table still growths\n",
      "Loss : -29.46047868361144\n",
      "end while loop iteration :  17\n",
      "Episode 73/1000\n",
      "exploration_prob : 0.340\n",
      "No action possible. Stop episode at 6th iterations\n",
      "Save last state even is out of bound\n",
      "diff Qtable_N - Qtable_N-1  0.37935174335094635\n",
      "Loss : -24.56422098660147\n",
      "end while loop iteration :  6\n",
      "Episode 74/1000\n",
      "exploration_prob : 0.335\n",
      "No action possible. Stop episode at 15th iterations\n",
      "Save last state even is out of bound\n",
      "Q table still growths\n",
      "Loss : -104.63254379259968\n",
      "end while loop iteration :  15\n",
      "Episode 75/1000\n",
      "exploration_prob : 0.330\n",
      "No action possible. Stop episode at 7th iterations\n",
      "Save last state even is out of bound\n",
      "Q table still growths\n",
      "Loss : -41.18982289423522\n",
      "end while loop iteration :  7\n",
      "Episode 76/1000\n",
      "exploration_prob : 0.325\n",
      "No action possible. Stop episode at 13th iterations\n",
      "Save last state even is out of bound\n",
      "Q table still growths\n",
      "Loss : -56.32564356458792\n",
      "end while loop iteration :  13\n",
      "Episode 77/1000\n",
      "exploration_prob : 0.320\n",
      "stop episode because agent reach goal\n",
      "stop episode because agent reach goal\n",
      "Q table still growths\n",
      "Loss : -57.30154129275884\n",
      "end while loop iteration :  9\n",
      "Episode 78/1000\n",
      "exploration_prob : 0.315\n",
      "No action possible. Stop episode at 4th iterations\n",
      "Save last state even is out of bound\n",
      "Q table still growths\n",
      "Loss : -30.702572031528746\n",
      "end while loop iteration :  4\n",
      "Episode 79/1000\n",
      "exploration_prob : 0.310\n",
      "No action possible. Stop episode at 9th iterations\n",
      "Save last state even is out of bound\n",
      "Q table still growths\n",
      "Loss : -29.724901034960755\n",
      "end while loop iteration :  9\n",
      "Episode 80/1000\n",
      "exploration_prob : 0.306\n",
      "No action possible. Stop episode at 18th iterations\n",
      "Save last state even is out of bound\n",
      "Q table still growths\n",
      "Loss : -55.46942828257061\n",
      "end while loop iteration :  18\n",
      "Episode 81/1000\n",
      "exploration_prob : 0.301\n",
      "No action possible. Stop episode at 13th iterations\n",
      "Save last state even is out of bound\n",
      "diff Qtable_N - Qtable_N-1  45.419516661815365\n",
      "Loss : -210.90765877352254\n",
      "end while loop iteration :  13\n",
      "Episode 82/1000\n",
      "exploration_prob : 0.297\n",
      "stop episode because agent reach goal\n",
      "stop episode because agent reach goal\n",
      "Q table still growths\n",
      "Loss : -21.64234852968319\n",
      "end while loop iteration :  8\n",
      "Episode 83/1000\n",
      "exploration_prob : 0.292\n",
      "stop episode because agent reach goal\n",
      "stop episode because agent reach goal\n",
      "Q table still growths\n",
      "Loss : -38.697733244756115\n",
      "end while loop iteration :  7\n",
      "Episode 84/1000\n",
      "exploration_prob : 0.288\n",
      "No action possible. Stop episode at 10th iterations\n",
      "Save last state even is out of bound\n",
      "Q table still growths\n",
      "Loss : -28.113450555332903\n",
      "end while loop iteration :  10\n",
      "Episode 85/1000\n",
      "exploration_prob : 0.284\n",
      "No action possible. Stop episode at 7th iterations\n",
      "Save last state even is out of bound\n",
      "diff Qtable_N - Qtable_N-1  1.3175311039340025\n",
      "Loss : -56.69968885665597\n",
      "end while loop iteration :  7\n",
      "Episode 86/1000\n",
      "exploration_prob : 0.279\n",
      "No action possible. Stop episode at 5th iterations\n",
      "Save last state even is out of bound\n",
      "diff Qtable_N - Qtable_N-1  1.0713546770041111\n",
      "Loss : -30.216654218237338\n",
      "end while loop iteration :  5\n",
      "Episode 87/1000\n",
      "exploration_prob : 0.275\n",
      "stop episode because agent reach goal\n",
      "stop episode because agent reach goal\n",
      "Q table still growths\n",
      "Loss : -71.09777444820277\n",
      "end while loop iteration :  16\n",
      "Episode 88/1000\n",
      "exploration_prob : 0.271\n",
      "No action possible. Stop episode at 14th iterations\n",
      "Save last state even is out of bound\n",
      "Q table still growths\n",
      "Loss : -169.25566132404816\n",
      "end while loop iteration :  14\n",
      "Episode 89/1000\n",
      "exploration_prob : 0.267\n",
      "No action possible. Stop episode at 11th iterations\n",
      "Save last state even is out of bound\n",
      "diff Qtable_N - Qtable_N-1  24.95825695561321\n",
      "Loss : -119.55734586436199\n",
      "end while loop iteration :  11\n",
      "Episode 90/1000\n",
      "exploration_prob : 0.263\n",
      "stop episode because agent reach goal\n",
      "stop episode because agent reach goal\n",
      "Q table still growths\n",
      "Loss : -10.312672532458624\n",
      "end while loop iteration :  12\n",
      "Episode 91/1000\n",
      "exploration_prob : 0.259\n",
      "No action possible. Stop episode at 25th iterations\n",
      "Save last state even is out of bound\n",
      "Q table still growths\n",
      "Loss : -283.8787788029882\n",
      "end while loop iteration :  25\n",
      "Episode 92/1000\n",
      "exploration_prob : 0.255\n",
      "No action possible. Stop episode at 9th iterations\n",
      "Save last state even is out of bound\n",
      "diff Qtable_N - Qtable_N-1  1.2829006727240775\n",
      "Loss : -34.22170372207939\n",
      "end while loop iteration :  9\n",
      "Episode 93/1000\n",
      "exploration_prob : 0.252\n",
      "No action possible. Stop episode at 10th iterations\n",
      "Save last state even is out of bound\n",
      "Q table still growths\n",
      "Loss : -155.7653129531315\n",
      "end while loop iteration :  10\n",
      "Episode 94/1000\n",
      "exploration_prob : 0.248\n",
      "No action possible. Stop episode at 12th iterations\n",
      "Save last state even is out of bound\n",
      "Q table still growths\n",
      "Loss : -31.397322370022437\n",
      "end while loop iteration :  12\n",
      "Episode 95/1000\n",
      "exploration_prob : 0.244\n",
      "No action possible. Stop episode at 15th iterations\n",
      "Save last state even is out of bound\n",
      "diff Qtable_N - Qtable_N-1  21.728739484539588\n",
      "Loss : -117.54485665702494\n",
      "end while loop iteration :  15\n",
      "Episode 96/1000\n",
      "exploration_prob : 0.241\n",
      "No action possible. Stop episode at 14th iterations\n",
      "Save last state even is out of bound\n",
      "diff Qtable_N - Qtable_N-1  31.579539549472198\n",
      "Loss : -150.91032359134755\n",
      "end while loop iteration :  14\n",
      "Episode 97/1000\n",
      "exploration_prob : 0.237\n",
      "No action possible. Stop episode at 6th iterations\n",
      "Save last state even is out of bound\n",
      "Q table still growths\n",
      "Loss : -61.47058692006627\n",
      "end while loop iteration :  6\n",
      "Episode 98/1000\n",
      "exploration_prob : 0.233\n",
      "No action possible. Stop episode at 16th iterations\n",
      "Save last state even is out of bound\n",
      "Q table still growths\n",
      "Loss : -42.83913581704904\n",
      "end while loop iteration :  16\n",
      "Episode 99/1000\n",
      "exploration_prob : 0.230\n",
      "No action possible. Stop episode at 8th iterations\n",
      "Save last state even is out of bound\n",
      "Q table still growths\n",
      "Loss : -25.63647424436958\n",
      "end while loop iteration :  8\n",
      "Episode 100/1000\n",
      "exploration_prob : 0.227\n",
      "stop episode because agent reach goal\n",
      "stop episode because agent reach goal\n",
      "Q table still growths\n",
      "Loss : -28.76038493069727\n",
      "end while loop iteration :  20\n",
      "Episode 101/1000\n",
      "exploration_prob : 0.223\n",
      "No action possible. Stop episode at 6th iterations\n",
      "Save last state even is out of bound\n",
      "Q table still growths\n",
      "Loss : -39.3218586962905\n",
      "end while loop iteration :  6\n",
      "Episode 102/1000\n",
      "exploration_prob : 0.220\n",
      "No action possible. Stop episode at 8th iterations\n",
      "Save last state even is out of bound\n",
      "Q table still growths\n",
      "Loss : -39.58800824661487\n",
      "end while loop iteration :  8\n",
      "Episode 103/1000\n",
      "exploration_prob : 0.217\n",
      "stop episode because agent reach goal\n",
      "No action possible. Stop episode at 20th iterations\n",
      "Save last state even is out of bound\n",
      "Q table still growths\n",
      "Loss : -41.93929635470553\n",
      "end while loop iteration :  20\n",
      "Episode 104/1000\n",
      "exploration_prob : 0.213\n",
      "stop episode because agent reach goal\n",
      "stop episode because agent reach goal\n",
      "Q table still growths\n",
      "Loss : -26.64027846918346\n",
      "end while loop iteration :  20\n",
      "Episode 105/1000\n",
      "exploration_prob : 0.210\n",
      "No action possible. Stop episode at 12th iterations\n",
      "Save last state even is out of bound\n",
      "Q table still growths\n",
      "Loss : -31.84181899084143\n",
      "end while loop iteration :  12\n",
      "Episode 106/1000\n",
      "exploration_prob : 0.207\n",
      "stop episode because agent reach goal\n",
      "stop episode because agent reach goal\n",
      "Q table still growths\n",
      "Loss : -7.788782177568853\n",
      "end while loop iteration :  13\n",
      "Episode 107/1000\n",
      "exploration_prob : 0.204\n",
      "No action possible. Stop episode at 11th iterations\n",
      "Save last state even is out of bound\n",
      "Q table still growths\n",
      "Loss : -40.888390787855755\n",
      "end while loop iteration :  11\n",
      "Episode 108/1000\n",
      "exploration_prob : 0.201\n",
      "stop episode because agent reach goal\n",
      "stop episode because agent reach goal\n",
      "Q table still growths\n",
      "Loss : -13.9123457097178\n",
      "end while loop iteration :  11\n",
      "Episode 109/1000\n",
      "exploration_prob : 0.198\n",
      "stop episode because agent reach goal\n",
      "stop episode because agent reach goal\n",
      "Q table still growths\n",
      "Loss : -160.20737007732117\n",
      "end while loop iteration :  14\n",
      "Episode 110/1000\n",
      "exploration_prob : 0.195\n",
      "No action possible. Stop episode at 17th iterations\n",
      "Save last state even is out of bound\n",
      "Q table still growths\n",
      "Loss : -182.62288549546588\n",
      "end while loop iteration :  17\n",
      "Episode 111/1000\n",
      "exploration_prob : 0.192\n",
      "No action possible. Stop episode at 12th iterations\n",
      "Save last state even is out of bound\n",
      "Q table still growths\n",
      "Loss : -79.1670459130205\n",
      "end while loop iteration :  12\n",
      "Episode 112/1000\n",
      "exploration_prob : 0.189\n",
      "No action possible. Stop episode at 14th iterations\n",
      "Save last state even is out of bound\n",
      "Q table still growths\n",
      "Loss : -39.32968232041369\n",
      "end while loop iteration :  14\n",
      "Episode 113/1000\n",
      "exploration_prob : 0.186\n",
      "stop episode because agent reach goal\n",
      "stop episode because agent reach goal\n",
      "Q table still growths\n",
      "Loss : -73.18916110748674\n",
      "end while loop iteration :  18\n",
      "Episode 114/1000\n",
      "exploration_prob : 0.184\n",
      "No action possible. Stop episode at 2th iterations\n",
      "Save last state even is out of bound\n",
      "diff Qtable_N - Qtable_N-1  0.26762326237045997\n",
      "Loss : -10.749946442630739\n",
      "end while loop iteration :  2\n",
      "Episode 115/1000\n",
      "exploration_prob : 0.181\n",
      "stop episode because agent reach goal\n",
      "stop episode because agent reach goal\n",
      "diff Qtable_N - Qtable_N-1  0.027517281377268256\n",
      "Loss : -22.671042800954787\n",
      "end while loop iteration :  17\n",
      "Episode 116/1000\n",
      "exploration_prob : 0.178\n",
      "stop episode because agent reach goal\n",
      "stop episode because agent reach goal\n",
      "diff Qtable_N - Qtable_N-1  22.983305430152903\n",
      "Loss : -100.59829513452249\n",
      "end while loop iteration :  7\n",
      "Episode 117/1000\n",
      "exploration_prob : 0.176\n",
      "stop episode because agent reach goal\n",
      "stop episode because agent reach goal\n",
      "Q table still growths\n",
      "Loss : -44.230411979665426\n",
      "end while loop iteration :  12\n",
      "Episode 118/1000\n",
      "exploration_prob : 0.173\n",
      "No action possible. Stop episode at 6th iterations\n",
      "Save last state even is out of bound\n",
      "diff Qtable_N - Qtable_N-1  3.5198342159487974\n",
      "Loss : -60.14703110429734\n",
      "end while loop iteration :  6\n",
      "Episode 119/1000\n",
      "exploration_prob : 0.170\n",
      "stop episode because agent reach goal\n",
      "No action possible. Stop episode at 22th iterations\n",
      "Save last state even is out of bound\n",
      "Q table still growths\n",
      "Loss : -514.1435127201191\n",
      "end while loop iteration :  22\n",
      "Episode 120/1000\n",
      "exploration_prob : 0.168\n",
      "stop episode because agent reach goal\n",
      "stop episode because agent reach goal\n",
      "Q table still growths\n",
      "Loss : -26.766118285757948\n",
      "end while loop iteration :  15\n",
      "Episode 121/1000\n",
      "exploration_prob : 0.165\n",
      "No action possible. Stop episode at 12th iterations\n",
      "Save last state even is out of bound\n",
      "diff Qtable_N - Qtable_N-1  17.711907331326397\n",
      "Loss : -90.01559798339295\n",
      "end while loop iteration :  12\n",
      "Episode 122/1000\n",
      "exploration_prob : 0.163\n",
      "No action possible. Stop episode at 12th iterations\n",
      "Save last state even is out of bound\n",
      "diff Qtable_N - Qtable_N-1  17.26231182398621\n",
      "Loss : -78.77134301786049\n",
      "end while loop iteration :  12\n",
      "Episode 123/1000\n",
      "exploration_prob : 0.160\n",
      "No action possible. Stop episode at 24th iterations\n",
      "Save last state even is out of bound\n",
      "Q table still growths\n",
      "Loss : -46.44431190651185\n",
      "end while loop iteration :  24\n",
      "Episode 124/1000\n",
      "exploration_prob : 0.158\n",
      "stop episode because agent reach goal\n",
      "stop episode because agent reach goal\n",
      "diff Qtable_N - Qtable_N-1  0.06494112309900045\n",
      "Loss : -22.677754772926978\n",
      "end while loop iteration :  9\n",
      "Episode 125/1000\n",
      "exploration_prob : 0.156\n",
      "No action possible. Stop episode at 21th iterations\n",
      "Save last state even is out of bound\n",
      "Q table still growths\n",
      "Loss : -142.2863504229844\n",
      "end while loop iteration :  21\n",
      "Episode 126/1000\n",
      "exploration_prob : 0.153\n",
      "No action possible. Stop episode at 13th iterations\n",
      "Save last state even is out of bound\n",
      "diff Qtable_N - Qtable_N-1  12.447502021148276\n",
      "Loss : -61.464644111037416\n",
      "end while loop iteration :  13\n",
      "Episode 127/1000\n",
      "exploration_prob : 0.151\n",
      "No action possible. Stop episode at 17th iterations\n",
      "Save last state even is out of bound\n",
      "diff Qtable_N - Qtable_N-1  38.29033256165057\n",
      "Loss : -188.83835068710732\n",
      "end while loop iteration :  17\n",
      "Episode 128/1000\n",
      "exploration_prob : 0.149\n",
      "stop episode because agent reach goal\n",
      "Q table still growths\n",
      "Loss : -112.3650446753608\n",
      "end while loop iteration :  30\n",
      "Episode 129/1000\n",
      "exploration_prob : 0.147\n",
      "stop episode because agent reach goal\n",
      "stop episode because agent reach goal\n",
      "Q table still growths\n",
      "Loss : -92.25168439329765\n",
      "end while loop iteration :  17\n",
      "Episode 130/1000\n",
      "exploration_prob : 0.144\n",
      "No action possible. Stop episode at 15th iterations\n",
      "Save last state even is out of bound\n",
      "diff Qtable_N - Qtable_N-1  21.247323103966025\n",
      "Loss : -100.73242502301196\n",
      "end while loop iteration :  15\n",
      "Episode 131/1000\n",
      "exploration_prob : 0.142\n",
      "No action possible. Stop episode at 11th iterations\n",
      "Save last state even is out of bound\n",
      "diff Qtable_N - Qtable_N-1  2.360833195219629\n",
      "Loss : -29.52792960878213\n",
      "end while loop iteration :  11\n",
      "Episode 132/1000\n",
      "exploration_prob : 0.140\n",
      "stop episode because agent reach goal\n",
      "stop episode because agent reach goal\n",
      "diff Qtable_N - Qtable_N-1  0.7096686698987117\n",
      "Loss : -66.61167029766428\n",
      "end while loop iteration :  18\n",
      "Episode 133/1000\n",
      "exploration_prob : 0.138\n",
      "No action possible. Stop episode at 9th iterations\n",
      "Save last state even is out of bound\n",
      "diff Qtable_N - Qtable_N-1  3.1144612519012185\n",
      "Loss : -18.176383575370814\n",
      "end while loop iteration :  9\n",
      "Episode 134/1000\n",
      "exploration_prob : 0.136\n",
      "No action possible. Stop episode at 10th iterations\n",
      "Save last state even is out of bound\n",
      "diff Qtable_N - Qtable_N-1  1.086705951353288\n",
      "Loss : -45.74449192211895\n",
      "end while loop iteration :  10\n",
      "Episode 135/1000\n",
      "exploration_prob : 0.134\n",
      "stop episode because agent reach goal\n",
      "stop episode because agent reach goal\n",
      "diff Qtable_N - Qtable_N-1  0.04058741566263817\n",
      "Loss : -32.405842433118636\n",
      "end while loop iteration :  13\n",
      "Episode 136/1000\n",
      "exploration_prob : 0.132\n",
      "No action possible. Stop episode at 11th iterations\n",
      "Save last state even is out of bound\n",
      "Q table still growths\n",
      "Loss : -54.896816722051184\n",
      "end while loop iteration :  11\n",
      "Episode 137/1000\n",
      "exploration_prob : 0.130\n",
      "No action possible. Stop episode at 17th iterations\n",
      "Save last state even is out of bound\n",
      "diff Qtable_N - Qtable_N-1  39.27149925412326\n",
      "Loss : -189.7110172878027\n",
      "end while loop iteration :  17\n",
      "Episode 138/1000\n",
      "exploration_prob : 0.128\n",
      "stop episode because agent reach goal\n",
      "No action possible. Stop episode at 11th iterations\n",
      "Save last state even is out of bound\n",
      "diff Qtable_N - Qtable_N-1  6.37281391665062\n",
      "Loss : -38.84346586986716\n",
      "end while loop iteration :  11\n",
      "Episode 139/1000\n",
      "exploration_prob : 0.126\n",
      "No action possible. Stop episode at 12th iterations\n",
      "Save last state even is out of bound\n",
      "diff Qtable_N - Qtable_N-1  4.248839104136764\n",
      "Loss : -24.038991056915165\n",
      "end while loop iteration :  12\n",
      "Episode 140/1000\n",
      "exploration_prob : 0.124\n",
      "No action possible. Stop episode at 17th iterations\n",
      "Save last state even is out of bound\n",
      "diff Qtable_N - Qtable_N-1  37.389510661002625\n",
      "Loss : -199.13053470232148\n",
      "end while loop iteration :  17\n",
      "Episode 141/1000\n",
      "exploration_prob : 0.122\n",
      "No action possible. Stop episode at 8th iterations\n",
      "Save last state even is out of bound\n",
      "diff Qtable_N - Qtable_N-1  2.0108344923244332\n",
      "Loss : -68.52986371509816\n",
      "end while loop iteration :  8\n",
      "Episode 142/1000\n",
      "exploration_prob : 0.121\n",
      "No action possible. Stop episode at 7th iterations\n",
      "Save last state even is out of bound\n",
      "diff Qtable_N - Qtable_N-1  1.27102821495843\n",
      "Loss : -45.88050094676956\n",
      "end while loop iteration :  7\n",
      "Episode 143/1000\n",
      "exploration_prob : 0.119\n",
      "stop episode because agent reach goal\n",
      "stop episode because agent reach goal\n",
      "diff Qtable_N - Qtable_N-1  0.0167682833009857\n",
      "Loss : -11.985659557062027\n",
      "end while loop iteration :  16\n",
      "Episode 144/1000\n",
      "exploration_prob : 0.117\n",
      "stop episode because agent reach goal\n",
      "stop episode because agent reach goal\n",
      "stop episode because agent reach goal\n",
      "stop episode because agent reach goal\n",
      "Q table still growths\n",
      "Loss : -200.57239361621262\n",
      "end while loop iteration :  31\n",
      "Episode 145/1000\n",
      "exploration_prob : 0.115\n",
      "No action possible. Stop episode at 12th iterations\n",
      "Save last state even is out of bound\n",
      "diff Qtable_N - Qtable_N-1  0.6525608570058905\n",
      "Loss : -40.20234553106905\n",
      "end while loop iteration :  12\n",
      "Episode 146/1000\n",
      "exploration_prob : 0.114\n",
      "No action possible. Stop episode at 11th iterations\n",
      "Save last state even is out of bound\n",
      "Q table still growths\n",
      "Loss : -119.92504852709465\n",
      "end while loop iteration :  11\n",
      "Episode 147/1000\n",
      "exploration_prob : 0.112\n",
      "stop episode because agent reach goal\n",
      "stop episode because agent reach goal\n",
      "diff Qtable_N - Qtable_N-1  0.02885353169816239\n",
      "Loss : -39.029617344022405\n",
      "end while loop iteration :  17\n",
      "Episode 148/1000\n",
      "exploration_prob : 0.110\n",
      "stop episode because agent reach goal\n",
      "stop episode because agent reach goal\n",
      "Q table still growths\n",
      "Loss : -35.82583896039063\n",
      "end while loop iteration :  21\n",
      "Episode 149/1000\n",
      "exploration_prob : 0.109\n",
      "No action possible. Stop episode at 13th iterations\n",
      "Save last state even is out of bound\n",
      "Q table still growths\n",
      "Loss : -38.74015239371885\n",
      "end while loop iteration :  13\n",
      "Episode 150/1000\n",
      "exploration_prob : 0.107\n",
      "No action possible. Stop episode at 16th iterations\n",
      "Save last state even is out of bound\n",
      "diff Qtable_N - Qtable_N-1  3.0737410049107914\n",
      "Loss : -41.769115691784805\n",
      "end while loop iteration :  16\n",
      "Episode 151/1000\n",
      "exploration_prob : 0.105\n",
      "stop episode because agent reach goal\n",
      "stop episode because agent reach goal\n",
      "Q table still growths\n",
      "Loss : -12.968764536408345\n",
      "end while loop iteration :  14\n",
      "Episode 152/1000\n",
      "exploration_prob : 0.104\n",
      "No action possible. Stop episode at 6th iterations\n",
      "Save last state even is out of bound\n",
      "Q table still growths\n",
      "Loss : -129.99183995465276\n",
      "end while loop iteration :  6\n",
      "Episode 153/1000\n",
      "exploration_prob : 0.102\n",
      "No action possible. Stop episode at 8th iterations\n",
      "Save last state even is out of bound\n",
      "Q table still growths\n",
      "Loss : -268.57610227889506\n",
      "end while loop iteration :  8\n",
      "Episode 154/1000\n",
      "exploration_prob : 0.101\n",
      "No action possible. Stop episode at 5th iterations\n",
      "Save last state even is out of bound\n",
      "diff Qtable_N - Qtable_N-1  2.4054559632955046\n",
      "Loss : -42.61694217873128\n",
      "end while loop iteration :  5\n",
      "Episode 155/1000\n",
      "exploration_prob : 0.100\n",
      "No action possible. Stop episode at 17th iterations\n",
      "Save last state even is out of bound\n",
      "diff Qtable_N - Qtable_N-1  38.33538657372999\n",
      "Loss : -179.52600126945043\n",
      "end while loop iteration :  17\n",
      "Episode 156/1000\n",
      "exploration_prob : 0.100\n",
      "No action possible. Stop episode at 17th iterations\n",
      "Save last state even is out of bound\n",
      "Q table still growths\n",
      "Loss : -47.35835929592082\n",
      "end while loop iteration :  17\n",
      "Episode 157/1000\n",
      "exploration_prob : 0.100\n",
      "stop episode because agent reach goal\n",
      "stop episode because agent reach goal\n",
      "stop episode because agent reach goal\n",
      "stop episode because agent reach goal\n",
      "Q table still growths\n",
      "Loss : -15.100441989785663\n",
      "end while loop iteration :  16\n",
      "Episode 158/1000\n",
      "exploration_prob : 0.100\n",
      "No action possible. Stop episode at 20th iterations\n",
      "Save last state even is out of bound\n",
      "Q table still growths\n",
      "Loss : -53.95576162276978\n",
      "end while loop iteration :  20\n",
      "Episode 159/1000\n",
      "exploration_prob : 0.100\n",
      "No action possible. Stop episode at 19th iterations\n",
      "Save last state even is out of bound\n",
      "Q table still growths\n",
      "Loss : -305.53051849806275\n",
      "end while loop iteration :  19\n",
      "Episode 160/1000\n",
      "exploration_prob : 0.100\n",
      "No action possible. Stop episode at 10th iterations\n",
      "Save last state even is out of bound\n",
      "diff Qtable_N - Qtable_N-1  1.0224864027868044\n",
      "Loss : -46.435868025890336\n",
      "end while loop iteration :  10\n",
      "Episode 161/1000\n",
      "exploration_prob : 0.100\n",
      "No action possible. Stop episode at 2th iterations\n",
      "Save last state even is out of bound\n",
      "diff Qtable_N - Qtable_N-1  0.24086093613341397\n",
      "Loss : -10.749946442630739\n",
      "end while loop iteration :  2\n",
      "Episode 162/1000\n",
      "exploration_prob : 0.100\n",
      "No action possible. Stop episode at 18th iterations\n",
      "Save last state even is out of bound\n",
      "Q table still growths\n",
      "Loss : -121.07320474404484\n",
      "end while loop iteration :  18\n",
      "Episode 163/1000\n",
      "exploration_prob : 0.100\n",
      "No action possible. Stop episode at 17th iterations\n",
      "Save last state even is out of bound\n",
      "diff Qtable_N - Qtable_N-1  39.34196418486524\n",
      "Loss : -183.84037487273235\n",
      "end while loop iteration :  17\n",
      "Episode 164/1000\n",
      "exploration_prob : 0.100\n",
      "No action possible. Stop episode at 19th iterations\n",
      "Save last state even is out of bound\n",
      "Q table still growths\n",
      "Loss : -76.69657069049268\n",
      "end while loop iteration :  19\n",
      "Episode 165/1000\n",
      "exploration_prob : 0.100\n",
      "No action possible. Stop episode at 12th iterations\n",
      "Save last state even is out of bound\n",
      "Q table still growths\n",
      "Loss : -29.396263007601497\n",
      "end while loop iteration :  12\n",
      "Episode 166/1000\n",
      "exploration_prob : 0.100\n",
      "stop episode because agent reach goal\n",
      "No action possible. Stop episode at 11th iterations\n",
      "Save last state even is out of bound\n",
      "Q table still growths\n",
      "Loss : -71.52396593931813\n",
      "end while loop iteration :  11\n",
      "Episode 167/1000\n",
      "exploration_prob : 0.100\n",
      "No action possible. Stop episode at 12th iterations\n",
      "Save last state even is out of bound\n",
      "diff Qtable_N - Qtable_N-1  0.6612369755338199\n",
      "Loss : -51.67336313944307\n",
      "end while loop iteration :  12\n",
      "Episode 168/1000\n",
      "exploration_prob : 0.100\n",
      "stop episode because agent reach goal\n",
      "stop episode because agent reach goal\n",
      "stop episode because agent reach goal\n",
      "Q table still growths\n",
      "Loss : -38.20453103752858\n",
      "end while loop iteration :  31\n",
      "Episode 169/1000\n",
      "exploration_prob : 0.100\n",
      "stop episode because agent reach goal\n",
      "stop episode because agent reach goal\n",
      "Q table still growths\n",
      "Loss : -117.17018303205188\n",
      "end while loop iteration :  24\n",
      "Episode 170/1000\n",
      "exploration_prob : 0.100\n",
      "stop episode because agent reach goal\n",
      "stop episode because agent reach goal\n",
      "Q table still growths\n",
      "Loss : -13.468459806211431\n",
      "end while loop iteration :  12\n",
      "Episode 171/1000\n",
      "exploration_prob : 0.100\n",
      "No action possible. Stop episode at 8th iterations\n",
      "Save last state even is out of bound\n",
      "diff Qtable_N - Qtable_N-1  2.0206321108489775\n",
      "Loss : -68.91907900002482\n",
      "end while loop iteration :  8\n",
      "Episode 172/1000\n",
      "exploration_prob : 0.100\n",
      "stop episode because agent reach goal\n",
      "stop episode because agent reach goal\n",
      "Q table still growths\n",
      "Loss : -39.52935753544528\n",
      "end while loop iteration :  21\n",
      "Episode 173/1000\n",
      "exploration_prob : 0.100\n",
      "No action possible. Stop episode at 20th iterations\n",
      "Save last state even is out of bound\n",
      "Q table still growths\n",
      "Loss : -205.26141342632167\n",
      "end while loop iteration :  20\n",
      "Episode 174/1000\n",
      "exploration_prob : 0.100\n",
      "No action possible. Stop episode at 9th iterations\n",
      "Save last state even is out of bound\n",
      "diff Qtable_N - Qtable_N-1  1.3339575506079464\n",
      "Loss : -70.91402363726735\n",
      "end while loop iteration :  9\n",
      "Episode 175/1000\n",
      "exploration_prob : 0.100\n",
      "No action possible. Stop episode at 16th iterations\n",
      "Save last state even is out of bound\n",
      "Q table still growths\n",
      "Loss : -61.96091458829781\n",
      "end while loop iteration :  16\n",
      "Episode 176/1000\n",
      "exploration_prob : 0.100\n",
      "No action possible. Stop episode at 6th iterations\n",
      "Save last state even is out of bound\n",
      "diff Qtable_N - Qtable_N-1  3.6378028286493036\n",
      "Loss : -41.72613668616505\n",
      "end while loop iteration :  6\n",
      "Episode 177/1000\n",
      "exploration_prob : 0.100\n",
      "stop episode because agent reach goal\n",
      "stop episode because agent reach goal\n",
      "Q table still growths\n",
      "Loss : -15.23464327871297\n",
      "end while loop iteration :  17\n",
      "Episode 178/1000\n",
      "exploration_prob : 0.100\n",
      "stop episode because agent reach goal\n",
      "stop episode because agent reach goal\n",
      "Q table still growths\n",
      "Loss : -76.46676706846866\n",
      "end while loop iteration :  21\n",
      "Episode 179/1000\n",
      "exploration_prob : 0.100\n",
      "No action possible. Stop episode at 26th iterations\n",
      "Save last state even is out of bound\n",
      "Q table still growths\n",
      "Loss : -257.52874460973896\n",
      "end while loop iteration :  26\n",
      "Episode 180/1000\n",
      "exploration_prob : 0.100\n",
      "No action possible. Stop episode at 8th iterations\n",
      "Save last state even is out of bound\n",
      "diff Qtable_N - Qtable_N-1  0.5091622751177476\n",
      "Loss : -48.012163317449335\n",
      "end while loop iteration :  8\n",
      "Episode 181/1000\n",
      "exploration_prob : 0.100\n",
      "No action possible. Stop episode at 10th iterations\n",
      "Save last state even is out of bound\n",
      "diff Qtable_N - Qtable_N-1  2.0164220273271662\n",
      "Loss : -35.16843391451729\n",
      "end while loop iteration :  10\n",
      "Episode 182/1000\n",
      "exploration_prob : 0.100\n",
      "stop episode because agent reach goal\n",
      "stop episode because agent reach goal\n",
      "Q table still growths\n",
      "Loss : -140.8484742045122\n",
      "end while loop iteration :  26\n",
      "Episode 183/1000\n",
      "exploration_prob : 0.100\n",
      "No action possible. Stop episode at 25th iterations\n",
      "Save last state even is out of bound\n",
      "diff Qtable_N - Qtable_N-1  53.58240903581705\n",
      "Loss : -290.9694067876243\n",
      "end while loop iteration :  25\n",
      "Episode 184/1000\n",
      "exploration_prob : 0.100\n",
      "No action possible. Stop episode at 14th iterations\n",
      "Save last state even is out of bound\n",
      "diff Qtable_N - Qtable_N-1  32.89490279491957\n",
      "Loss : -152.0084298206074\n",
      "end while loop iteration :  14\n",
      "Episode 185/1000\n",
      "exploration_prob : 0.100\n",
      "No action possible. Stop episode at 18th iterations\n",
      "Save last state even is out of bound\n",
      "Q table still growths\n",
      "Loss : -41.966648388273136\n",
      "end while loop iteration :  18\n",
      "Episode 186/1000\n",
      "exploration_prob : 0.100\n",
      "No action possible. Stop episode at 9th iterations\n",
      "Save last state even is out of bound\n",
      "diff Qtable_N - Qtable_N-1  1.252909103747597\n",
      "Loss : -38.35360731685285\n",
      "end while loop iteration :  9\n",
      "Episode 187/1000\n",
      "exploration_prob : 0.100\n",
      "stop episode because agent reach goal\n",
      "stop episode because agent reach goal\n",
      "Q table still growths\n",
      "Loss : -74.70886456548753\n",
      "end while loop iteration :  21\n",
      "Episode 188/1000\n",
      "exploration_prob : 0.100\n",
      "stop episode because agent reach goal\n",
      "diff Qtable_N - Qtable_N-1  0.06256215083331437\n",
      "Loss : -8.613903013938398\n",
      "end while loop iteration :  12\n",
      "Episode 189/1000\n",
      "exploration_prob : 0.100\n",
      "No action possible. Stop episode at 20th iterations\n",
      "Save last state even is out of bound\n",
      "diff Qtable_N - Qtable_N-1  40.949036499697186\n",
      "Loss : -203.00663601053284\n",
      "end while loop iteration :  20\n",
      "Episode 190/1000\n",
      "exploration_prob : 0.100\n",
      "stop episode because agent reach goal\n",
      "stop episode because agent reach goal\n",
      "stop episode because agent reach goal\n",
      "Q table still growths\n",
      "Loss : -9.411149186318918\n",
      "end while loop iteration :  11\n",
      "Episode 191/1000\n",
      "exploration_prob : 0.100\n",
      "No action possible. Stop episode at 11th iterations\n",
      "Save last state even is out of bound\n",
      "diff Qtable_N - Qtable_N-1  1.7289002651557237\n",
      "Loss : -65.20419503112751\n",
      "end while loop iteration :  11\n",
      "Episode 192/1000\n",
      "exploration_prob : 0.100\n",
      "No action possible. Stop episode at 19th iterations\n",
      "Save last state even is out of bound\n",
      "diff Qtable_N - Qtable_N-1  15.077061239757922\n",
      "Loss : -152.09201807185022\n",
      "end while loop iteration :  19\n",
      "Episode 193/1000\n",
      "exploration_prob : 0.100\n",
      "No action possible. Stop episode at 21th iterations\n",
      "Save last state even is out of bound\n",
      "Q table still growths\n",
      "Loss : -111.97556148309248\n",
      "end while loop iteration :  21\n",
      "Episode 194/1000\n",
      "exploration_prob : 0.100\n",
      "No action possible. Stop episode at 13th iterations\n",
      "Save last state even is out of bound\n",
      "diff Qtable_N - Qtable_N-1  0.9708166501537087\n",
      "Loss : -46.81600208082483\n",
      "end while loop iteration :  13\n",
      "Episode 195/1000\n",
      "exploration_prob : 0.100\n",
      "No action possible. Stop episode at 12th iterations\n",
      "Save last state even is out of bound\n",
      "Q table still growths\n",
      "Loss : -82.55244418506058\n",
      "end while loop iteration :  12\n",
      "Episode 196/1000\n",
      "exploration_prob : 0.100\n",
      "No action possible. Stop episode at 16th iterations\n",
      "Save last state even is out of bound\n",
      "Q table still growths\n",
      "Loss : -314.49156983791994\n",
      "end while loop iteration :  16\n",
      "Episode 197/1000\n",
      "exploration_prob : 0.100\n",
      "stop episode because agent reach goal\n",
      "stop episode because agent reach goal\n",
      "stop episode because agent reach goal\n",
      "Q table still growths\n",
      "Loss : -12.697041313221156\n",
      "end while loop iteration :  22\n",
      "Episode 198/1000\n",
      "exploration_prob : 0.100\n",
      "No action possible. Stop episode at 20th iterations\n",
      "Save last state even is out of bound\n",
      "diff Qtable_N - Qtable_N-1  40.952348913985254\n",
      "Loss : -215.53155863835792\n",
      "end while loop iteration :  20\n",
      "Episode 199/1000\n",
      "exploration_prob : 0.100\n",
      "No action possible. Stop episode at 12th iterations\n",
      "Save last state even is out of bound\n",
      "Q table still growths\n",
      "Loss : -301.863290016792\n",
      "end while loop iteration :  12\n",
      "Episode 200/1000\n",
      "exploration_prob : 0.100\n",
      "No action possible. Stop episode at 10th iterations\n",
      "Save last state even is out of bound\n",
      "diff Qtable_N - Qtable_N-1  1.0934123949460428\n",
      "Loss : -54.92646019868781\n",
      "end while loop iteration :  10\n",
      "Episode 201/1000\n",
      "exploration_prob : 0.100\n",
      "No action possible. Stop episode at 15th iterations\n",
      "Save last state even is out of bound\n",
      "Q table still growths\n",
      "Loss : -84.56303858591025\n",
      "end while loop iteration :  15\n",
      "Episode 202/1000\n",
      "exploration_prob : 0.100\n",
      "No action possible. Stop episode at 12th iterations\n",
      "Save last state even is out of bound\n",
      "diff Qtable_N - Qtable_N-1  2.8035982085618123\n",
      "Loss : -57.42179590607971\n",
      "end while loop iteration :  12\n",
      "Episode 203/1000\n",
      "exploration_prob : 0.100\n",
      "No action possible. Stop episode at 17th iterations\n",
      "Save last state even is out of bound\n",
      "diff Qtable_N - Qtable_N-1  8.746139899769986\n",
      "Loss : -47.20798837835953\n",
      "end while loop iteration :  17\n",
      "Episode 204/1000\n",
      "exploration_prob : 0.100\n",
      "No action possible. Stop episode at 13th iterations\n",
      "Save last state even is out of bound\n",
      "diff Qtable_N - Qtable_N-1  47.54586698869187\n",
      "Loss : -219.7999280385325\n",
      "end while loop iteration :  13\n",
      "Episode 205/1000\n",
      "exploration_prob : 0.100\n",
      "No action possible. Stop episode at 16th iterations\n",
      "Save last state even is out of bound\n",
      "diff Qtable_N - Qtable_N-1  0.0638004347122749\n",
      "Loss : -18.50264499584501\n",
      "end while loop iteration :  16\n",
      "Episode 206/1000\n",
      "exploration_prob : 0.100\n",
      "No action possible. Stop episode at 12th iterations\n",
      "Save last state even is out of bound\n",
      "diff Qtable_N - Qtable_N-1  12.865322248631385\n",
      "Loss : -145.35365534804424\n",
      "end while loop iteration :  12\n",
      "Episode 207/1000\n",
      "exploration_prob : 0.100\n",
      "No action possible. Stop episode at 20th iterations\n",
      "Save last state even is out of bound\n",
      "diff Qtable_N - Qtable_N-1  9.072412436692316\n",
      "Loss : -72.09382178439989\n",
      "end while loop iteration :  20\n",
      "Episode 208/1000\n",
      "exploration_prob : 0.100\n",
      "stop episode because agent reach goal\n",
      "stop episode because agent reach goal\n",
      "diff Qtable_N - Qtable_N-1  0.06379274760631774\n",
      "Loss : -14.824183615879935\n",
      "end while loop iteration :  21\n",
      "Episode 209/1000\n",
      "exploration_prob : 0.100\n",
      "No action possible. Stop episode at 9th iterations\n",
      "Save last state even is out of bound\n",
      "diff Qtable_N - Qtable_N-1  1.287406802458185\n",
      "Loss : -32.2621538780508\n",
      "end while loop iteration :  9\n",
      "Episode 210/1000\n",
      "exploration_prob : 0.100\n",
      "No action possible. Stop episode at 23th iterations\n",
      "Save last state even is out of bound\n",
      "Q table still growths\n",
      "Loss : -214.76564750542883\n",
      "end while loop iteration :  23\n",
      "Episode 211/1000\n",
      "exploration_prob : 0.100\n",
      "No action possible. Stop episode at 11th iterations\n",
      "Save last state even is out of bound\n",
      "diff Qtable_N - Qtable_N-1  1.7418579783323018\n",
      "Loss : -95.3815640954845\n",
      "end while loop iteration :  11\n",
      "Episode 212/1000\n",
      "exploration_prob : 0.100\n",
      "stop episode because agent reach goal\n",
      "No action possible. Stop episode at 12th iterations\n",
      "Save last state even is out of bound\n",
      "diff Qtable_N - Qtable_N-1  4.260618741424021\n",
      "Loss : -61.826755555831355\n",
      "end while loop iteration :  12\n",
      "Episode 213/1000\n",
      "exploration_prob : 0.100\n",
      "stop episode because agent reach goal\n",
      "stop episode because agent reach goal\n",
      "diff Qtable_N - Qtable_N-1  0.04151712853418557\n",
      "Loss : -6.741719270622925\n",
      "end while loop iteration :  10\n",
      "Episode 214/1000\n",
      "exploration_prob : 0.100\n",
      "No action possible. Stop episode at 19th iterations\n",
      "Save last state even is out of bound\n",
      "Q table still growths\n",
      "Loss : -47.06799807158864\n",
      "end while loop iteration :  19\n",
      "Episode 215/1000\n",
      "exploration_prob : 0.100\n",
      "stop episode because agent reach goal\n",
      "diff Qtable_N - Qtable_N-1  0.038412011820636166\n",
      "Loss : -8.287847711596\n",
      "end while loop iteration :  10\n",
      "Episode 216/1000\n",
      "exploration_prob : 0.100\n",
      "No action possible. Stop episode at 14th iterations\n",
      "Save last state even is out of bound\n",
      "diff Qtable_N - Qtable_N-1  0.4600760567773005\n",
      "Loss : -51.595249384020285\n",
      "end while loop iteration :  14\n",
      "Episode 217/1000\n",
      "exploration_prob : 0.100\n",
      "No action possible. Stop episode at 6th iterations\n",
      "Save last state even is out of bound\n",
      "diff Qtable_N - Qtable_N-1  14.444064798628885\n",
      "Loss : -140.0299086958378\n",
      "end while loop iteration :  6\n",
      "Episode 218/1000\n",
      "exploration_prob : 0.100\n",
      "No action possible. Stop episode at 12th iterations\n",
      "Save last state even is out of bound\n",
      "diff Qtable_N - Qtable_N-1  0.6677032421852855\n",
      "Loss : -19.268696488356873\n",
      "end while loop iteration :  12\n",
      "Episode 219/1000\n",
      "exploration_prob : 0.100\n",
      "No action possible. Stop episode at 14th iterations\n",
      "Save last state even is out of bound\n",
      "Q table still growths\n",
      "Loss : -80.1372927085105\n",
      "end while loop iteration :  14\n",
      "Episode 220/1000\n",
      "exploration_prob : 0.100\n",
      "No action possible. Stop episode at 13th iterations\n",
      "Save last state even is out of bound\n",
      "diff Qtable_N - Qtable_N-1  0.9829076043841991\n",
      "Loss : -60.30311028765328\n",
      "end while loop iteration :  13\n",
      "Episode 221/1000\n",
      "exploration_prob : 0.100\n",
      "No action possible. Stop episode at 11th iterations\n",
      "Save last state even is out of bound\n",
      "Q table still growths\n",
      "Loss : -12.841964895217094\n",
      "end while loop iteration :  11\n",
      "Episode 222/1000\n",
      "exploration_prob : 0.100\n",
      "No action possible. Stop episode at 16th iterations\n",
      "Save last state even is out of bound\n",
      "Q table still growths\n",
      "Loss : -74.79047759905308\n",
      "end while loop iteration :  16\n",
      "Episode 223/1000\n",
      "exploration_prob : 0.100\n",
      "No action possible. Stop episode at 12th iterations\n",
      "Save last state even is out of bound\n",
      "diff Qtable_N - Qtable_N-1  0.6271822314111442\n",
      "Loss : -74.59460830229126\n",
      "end while loop iteration :  12\n",
      "Episode 224/1000\n",
      "exploration_prob : 0.100\n",
      "stop episode because agent reach goal\n",
      "stop episode because agent reach goal\n",
      "diff Qtable_N - Qtable_N-1  8.415532480117946\n",
      "Loss : -53.42006090956026\n",
      "end while loop iteration :  20\n",
      "Episode 225/1000\n",
      "exploration_prob : 0.100\n",
      "No action possible. Stop episode at 18th iterations\n",
      "Save last state even is out of bound\n",
      "diff Qtable_N - Qtable_N-1  24.59183391442052\n",
      "Loss : -120.79395791446832\n",
      "end while loop iteration :  18\n",
      "Episode 226/1000\n",
      "exploration_prob : 0.100\n",
      "No action possible. Stop episode at 13th iterations\n",
      "Save last state even is out of bound\n",
      "diff Qtable_N - Qtable_N-1  0.3695270112569484\n",
      "Loss : -34.75755262484771\n",
      "end while loop iteration :  13\n",
      "Episode 227/1000\n",
      "exploration_prob : 0.100\n",
      "stop episode because agent reach goal\n",
      "stop episode because agent reach goal\n",
      "stop episode because agent reach goal\n",
      "Q table still growths\n",
      "Loss : -15.856388496994386\n",
      "end while loop iteration :  28\n",
      "Episode 228/1000\n",
      "exploration_prob : 0.100\n",
      "No action possible. Stop episode at 12th iterations\n",
      "Save last state even is out of bound\n",
      "diff Qtable_N - Qtable_N-1  2.8978831573282204\n",
      "Loss : -108.1686336055188\n",
      "end while loop iteration :  12\n",
      "Episode 229/1000\n",
      "exploration_prob : 0.100\n",
      "No action possible. Stop episode at 14th iterations\n",
      "Save last state even is out of bound\n",
      "diff Qtable_N - Qtable_N-1  1.7848936157741044\n",
      "Loss : -55.37144394324506\n",
      "end while loop iteration :  14\n",
      "Episode 230/1000\n",
      "exploration_prob : 0.100\n",
      "No action possible. Stop episode at 17th iterations\n",
      "Save last state even is out of bound\n",
      "diff Qtable_N - Qtable_N-1  8.721000616088922\n",
      "Loss : -53.55220947645051\n",
      "end while loop iteration :  17\n",
      "Episode 231/1000\n",
      "exploration_prob : 0.100\n",
      "stop episode because agent reach goal\n",
      "stop episode because agent reach goal\n",
      "stop episode because agent reach goal\n",
      "stop episode because agent reach goal\n",
      "Q table still growths\n",
      "Loss : -23.88599465471507\n",
      "end while loop iteration :  25\n",
      "Episode 232/1000\n",
      "exploration_prob : 0.100\n",
      "stop episode because agent reach goal\n",
      "stop episode because agent reach goal\n",
      "diff Qtable_N - Qtable_N-1  0.03826219720761296\n",
      "Loss : -11.17074190735789\n",
      "end while loop iteration :  17\n",
      "Episode 233/1000\n",
      "exploration_prob : 0.100\n",
      "No action possible. Stop episode at 10th iterations\n",
      "Save last state even is out of bound\n",
      "diff Qtable_N - Qtable_N-1  9.086145636133875\n",
      "Loss : -88.30761766781839\n",
      "end while loop iteration :  10\n",
      "Episode 234/1000\n",
      "exploration_prob : 0.100\n",
      "No action possible. Stop episode at 13th iterations\n",
      "Save last state even is out of bound\n",
      "Q table still growths\n",
      "Loss : -160.98164136983098\n",
      "end while loop iteration :  13\n",
      "Episode 235/1000\n",
      "exploration_prob : 0.100\n",
      "stop episode because agent reach goal\n",
      "stop episode because agent reach goal\n",
      "stop episode because agent reach goal\n",
      "stop episode because agent reach goal\n",
      "Q table still growths\n",
      "Loss : -32.69467023287949\n",
      "end while loop iteration :  35\n",
      "Episode 236/1000\n",
      "exploration_prob : 0.100\n",
      "No action possible. Stop episode at 16th iterations\n",
      "Save last state even is out of bound\n",
      "Q table still growths\n",
      "Loss : -71.13611333721008\n",
      "end while loop iteration :  16\n",
      "Episode 237/1000\n",
      "exploration_prob : 0.100\n",
      "No action possible. Stop episode at 11th iterations\n",
      "Save last state even is out of bound\n",
      "Q table still growths\n",
      "Loss : -65.01144667401664\n",
      "end while loop iteration :  11\n",
      "Episode 238/1000\n",
      "exploration_prob : 0.100\n",
      "No action possible. Stop episode at 14th iterations\n",
      "Save last state even is out of bound\n",
      "diff Qtable_N - Qtable_N-1  1.784095135122759\n",
      "Loss : -49.08327145720055\n",
      "end while loop iteration :  14\n",
      "Episode 239/1000\n",
      "exploration_prob : 0.100\n",
      "stop episode because agent reach goal\n",
      "stop episode because agent reach goal\n",
      "diff Qtable_N - Qtable_N-1  0.058458433125068404\n",
      "Loss : -7.378892771070579\n",
      "end while loop iteration :  19\n",
      "Episode 240/1000\n",
      "exploration_prob : 0.100\n",
      "stop episode because agent reach goal\n",
      "diff Qtable_N - Qtable_N-1  0.033524214498703395\n",
      "Loss : -6.741719270622925\n",
      "end while loop iteration :  10\n",
      "Episode 241/1000\n",
      "exploration_prob : 0.100\n",
      "No action possible. Stop episode at 6th iterations\n",
      "Save last state even is out of bound\n",
      "Q table still growths\n",
      "Loss : -15.411918275111907\n",
      "end while loop iteration :  6\n",
      "Episode 242/1000\n",
      "exploration_prob : 0.100\n",
      "No action possible. Stop episode at 6th iterations\n",
      "Save last state even is out of bound\n",
      "diff Qtable_N - Qtable_N-1  0.6672632626103994\n",
      "Loss : -29.09633904000924\n",
      "end while loop iteration :  6\n",
      "Episode 243/1000\n",
      "exploration_prob : 0.100\n",
      "No action possible. Stop episode at 9th iterations\n",
      "Save last state even is out of bound\n",
      "Q table still growths\n",
      "Loss : -205.77575148888582\n",
      "end while loop iteration :  9\n",
      "Episode 244/1000\n",
      "exploration_prob : 0.100\n",
      "No action possible. Stop episode at 14th iterations\n",
      "Save last state even is out of bound\n",
      "Q table still growths\n",
      "Loss : -68.22625606211598\n",
      "end while loop iteration :  14\n",
      "Episode 245/1000\n",
      "exploration_prob : 0.100\n",
      "No action possible. Stop episode at 14th iterations\n",
      "Save last state even is out of bound\n",
      "diff Qtable_N - Qtable_N-1  32.2047350780029\n",
      "Loss : -149.75520890228205\n",
      "end while loop iteration :  14\n",
      "Episode 246/1000\n",
      "exploration_prob : 0.100\n",
      "No action possible. Stop episode at 20th iterations\n",
      "Save last state even is out of bound\n",
      "diff Qtable_N - Qtable_N-1  40.79350469216819\n",
      "Loss : -211.0097737531781\n",
      "end while loop iteration :  20\n",
      "Episode 247/1000\n",
      "exploration_prob : 0.100\n",
      "No action possible. Stop episode at 9th iterations\n",
      "Save last state even is out of bound\n",
      "diff Qtable_N - Qtable_N-1  3.113353784547055\n",
      "Loss : -28.17077129286302\n",
      "end while loop iteration :  9\n",
      "Episode 248/1000\n",
      "exploration_prob : 0.100\n",
      "stop episode because agent reach goal\n",
      "stop episode because agent reach goal\n",
      "Q table still growths\n",
      "Loss : -65.95629770400781\n",
      "end while loop iteration :  37\n",
      "Episode 249/1000\n",
      "exploration_prob : 0.100\n",
      "No action possible. Stop episode at 8th iterations\n",
      "Save last state even is out of bound\n",
      "Q table still growths\n",
      "Loss : -73.91610335764445\n",
      "end while loop iteration :  8\n",
      "Episode 250/1000\n",
      "exploration_prob : 0.100\n",
      "No action possible. Stop episode at 23th iterations\n",
      "Save last state even is out of bound\n",
      "Q table still growths\n",
      "Loss : -49.9290972588294\n",
      "end while loop iteration :  23\n",
      "Episode 251/1000\n",
      "exploration_prob : 0.100\n",
      "stop episode because agent reach goal\n",
      "diff Qtable_N - Qtable_N-1  0.030171793048833065\n",
      "Loss : -6.741719270622925\n",
      "end while loop iteration :  10\n",
      "Episode 252/1000\n",
      "exploration_prob : 0.100\n",
      "No action possible. Stop episode at 11th iterations\n",
      "Save last state even is out of bound\n",
      "diff Qtable_N - Qtable_N-1  0.01728134124554085\n",
      "Loss : -15.088803653489384\n",
      "end while loop iteration :  11\n",
      "Episode 253/1000\n",
      "exploration_prob : 0.100\n",
      "No action possible. Stop episode at 22th iterations\n",
      "Save last state even is out of bound\n",
      "Q table still growths\n",
      "Loss : -327.74420252871596\n",
      "end while loop iteration :  22\n",
      "Episode 254/1000\n",
      "exploration_prob : 0.100\n",
      "No action possible. Stop episode at 15th iterations\n",
      "Save last state even is out of bound\n",
      "Q table still growths\n",
      "Loss : -34.393669865821536\n",
      "end while loop iteration :  15\n",
      "Episode 255/1000\n",
      "exploration_prob : 0.100\n",
      "No action possible. Stop episode at 18th iterations\n",
      "Save last state even is out of bound\n",
      "diff Qtable_N - Qtable_N-1  5.286950714466358\n",
      "Loss : -78.5951878648484\n",
      "end while loop iteration :  18\n",
      "Episode 256/1000\n",
      "exploration_prob : 0.100\n",
      "No action possible. Stop episode at 15th iterations\n",
      "Save last state even is out of bound\n",
      "Q table still growths\n",
      "Loss : -53.04023227703506\n",
      "end while loop iteration :  15\n",
      "Episode 257/1000\n",
      "exploration_prob : 0.100\n",
      "stop episode because agent reach goal\n",
      "stop episode because agent reach goal\n",
      "diff Qtable_N - Qtable_N-1  4.412380641556697\n",
      "Loss : -23.80932866850693\n",
      "end while loop iteration :  8\n",
      "Episode 258/1000\n",
      "exploration_prob : 0.100\n",
      "No action possible. Stop episode at 9th iterations\n",
      "Save last state even is out of bound\n",
      "Q table still growths\n",
      "Loss : -130.52459395200367\n",
      "end while loop iteration :  9\n",
      "Episode 259/1000\n",
      "exploration_prob : 0.100\n",
      "stop episode because agent reach goal\n",
      "stop episode because agent reach goal\n",
      "stop episode because agent reach goal\n",
      "stop episode because agent reach goal\n",
      "Q table still growths\n",
      "Loss : -56.14846688776125\n",
      "end while loop iteration :  27\n",
      "Episode 260/1000\n",
      "exploration_prob : 0.100\n",
      "No action possible. Stop episode at 9th iterations\n",
      "Save last state even is out of bound\n",
      "Q table still growths\n",
      "Loss : -10.16740332349774\n",
      "end while loop iteration :  9\n",
      "Episode 261/1000\n",
      "exploration_prob : 0.100\n",
      "No action possible. Stop episode at 21th iterations\n",
      "Save last state even is out of bound\n",
      "Q table still growths\n",
      "Loss : -142.2804658509098\n",
      "end while loop iteration :  21\n",
      "Episode 262/1000\n",
      "exploration_prob : 0.100\n",
      "No action possible. Stop episode at 11th iterations\n",
      "Save last state even is out of bound\n",
      "diff Qtable_N - Qtable_N-1  1.3157181956054806\n",
      "Loss : -15.578458557635777\n",
      "end while loop iteration :  11\n",
      "Episode 263/1000\n",
      "exploration_prob : 0.100\n",
      "stop episode because agent reach goal\n",
      "stop episode because agent reach goal\n",
      "Q table still growths\n",
      "Loss : -114.19044050147134\n",
      "end while loop iteration :  22\n",
      "Episode 264/1000\n",
      "exploration_prob : 0.100\n",
      "No action possible. Stop episode at 12th iterations\n",
      "Save last state even is out of bound\n",
      "diff Qtable_N - Qtable_N-1  2.836489810859179\n",
      "Loss : -97.42967814591691\n",
      "end while loop iteration :  12\n",
      "Episode 265/1000\n",
      "exploration_prob : 0.100\n",
      "No action possible. Stop episode at 10th iterations\n",
      "Save last state even is out of bound\n",
      "diff Qtable_N - Qtable_N-1  35.04195740354373\n",
      "Loss : -156.9440896362185\n",
      "end while loop iteration :  10\n",
      "Episode 266/1000\n",
      "exploration_prob : 0.100\n",
      "No action possible. Stop episode at 24th iterations\n",
      "Save last state even is out of bound\n",
      "Q table still growths\n",
      "Loss : -115.16385065030805\n",
      "end while loop iteration :  24\n",
      "Episode 267/1000\n",
      "exploration_prob : 0.100\n",
      "No action possible. Stop episode at 14th iterations\n",
      "Save last state even is out of bound\n",
      "diff Qtable_N - Qtable_N-1  7.9229831005980405\n",
      "Loss : -59.923785257991824\n",
      "end while loop iteration :  14\n",
      "Episode 268/1000\n",
      "exploration_prob : 0.100\n",
      "No action possible. Stop episode at 8th iterations\n",
      "Save last state even is out of bound\n",
      "diff Qtable_N - Qtable_N-1  3.676315333941223\n",
      "Loss : -67.84792227583644\n",
      "end while loop iteration :  8\n",
      "Episode 269/1000\n",
      "exploration_prob : 0.100\n",
      "No action possible. Stop episode at 12th iterations\n",
      "Save last state even is out of bound\n",
      "diff Qtable_N - Qtable_N-1  0.6789823642657467\n",
      "Loss : -68.25289767402292\n",
      "end while loop iteration :  12\n",
      "Episode 270/1000\n",
      "exploration_prob : 0.100\n",
      "No action possible. Stop episode at 23th iterations\n",
      "Save last state even is out of bound\n",
      "diff Qtable_N - Qtable_N-1  7.5094156326178325\n",
      "Loss : -44.07282385043695\n",
      "end while loop iteration :  23\n",
      "Episode 271/1000\n",
      "exploration_prob : 0.100\n",
      "No action possible. Stop episode at 15th iterations\n",
      "Save last state even is out of bound\n",
      "diff Qtable_N - Qtable_N-1  5.082305421029936\n",
      "Loss : -25.83727656043374\n",
      "end while loop iteration :  15\n",
      "Episode 272/1000\n",
      "exploration_prob : 0.100\n",
      "stop episode because agent reach goal\n",
      "stop episode because agent reach goal\n",
      "diff Qtable_N - Qtable_N-1  4.975594452815134\n",
      "Loss : -30.77033146781061\n",
      "end while loop iteration :  15\n",
      "Episode 273/1000\n",
      "exploration_prob : 0.100\n",
      "stop episode because agent reach goal\n",
      "stop episode because agent reach goal\n",
      "diff Qtable_N - Qtable_N-1  0.05251816690701048\n",
      "Loss : -10.622663262490452\n",
      "end while loop iteration :  24\n",
      "Episode 274/1000\n",
      "exploration_prob : 0.100\n",
      "No action possible. Stop episode at 25th iterations\n",
      "Save last state even is out of bound\n",
      "Q table still growths\n",
      "Loss : -70.93699804531431\n",
      "end while loop iteration :  25\n",
      "Episode 275/1000\n",
      "exploration_prob : 0.100\n",
      "No action possible. Stop episode at 10th iterations\n",
      "Save last state even is out of bound\n",
      "diff Qtable_N - Qtable_N-1  1.0824553125542644\n",
      "Loss : -32.74209558682656\n",
      "end while loop iteration :  10\n",
      "Episode 276/1000\n",
      "exploration_prob : 0.100\n",
      "stop episode because agent reach goal\n",
      "No action possible. Stop episode at 19th iterations\n",
      "Save last state even is out of bound\n",
      "Q table still growths\n",
      "Loss : -193.3321523897545\n",
      "end while loop iteration :  19\n",
      "Episode 277/1000\n",
      "exploration_prob : 0.100\n",
      "stop episode because agent reach goal\n",
      "stop episode because agent reach goal\n",
      "Q table still growths\n",
      "Loss : -111.37292112245578\n",
      "end while loop iteration :  15\n",
      "Episode 278/1000\n",
      "exploration_prob : 0.100\n",
      "No action possible. Stop episode at 13th iterations\n",
      "Save last state even is out of bound\n",
      "Q table still growths\n",
      "Loss : -35.369973039156804\n",
      "end while loop iteration :  13\n",
      "Episode 279/1000\n",
      "exploration_prob : 0.100\n",
      "stop episode because agent reach goal\n",
      "stop episode because agent reach goal\n",
      "Q table still growths\n",
      "Loss : -148.19204518057413\n",
      "end while loop iteration :  21\n",
      "Episode 280/1000\n",
      "exploration_prob : 0.100\n",
      "stop episode because agent reach goal\n",
      "diff Qtable_N - Qtable_N-1  0.027154613743949757\n",
      "Loss : -6.741719270622925\n",
      "end while loop iteration :  10\n",
      "Episode 281/1000\n",
      "exploration_prob : 0.100\n",
      "No action possible. Stop episode at 11th iterations\n",
      "Save last state even is out of bound\n",
      "diff Qtable_N - Qtable_N-1  1.7814094702904215\n",
      "Loss : -81.97531297531779\n",
      "end while loop iteration :  11\n",
      "Episode 282/1000\n",
      "exploration_prob : 0.100\n",
      "No action possible. Stop episode at 14th iterations\n",
      "Save last state even is out of bound\n",
      "diff Qtable_N - Qtable_N-1  0.42502780746908675\n",
      "Loss : -103.13330294366295\n",
      "end while loop iteration :  14\n",
      "Episode 283/1000\n",
      "exploration_prob : 0.100\n",
      "stop episode because agent reach goal\n",
      "diff Qtable_N - Qtable_N-1  0.024439152369554767\n",
      "Loss : -6.741719270622925\n",
      "end while loop iteration :  10\n",
      "Episode 284/1000\n",
      "exploration_prob : 0.100\n",
      "stop episode because agent reach goal\n",
      "stop episode because agent reach goal\n",
      "Q table still growths\n",
      "Loss : -7.740525470194829\n",
      "end while loop iteration :  17\n",
      "Episode 285/1000\n",
      "exploration_prob : 0.100\n",
      "No action possible. Stop episode at 18th iterations\n",
      "Save last state even is out of bound\n",
      "Q table still growths\n",
      "Loss : -57.400090144870454\n",
      "end while loop iteration :  18\n",
      "Episode 286/1000\n",
      "exploration_prob : 0.100\n",
      "No action possible. Stop episode at 13th iterations\n",
      "Save last state even is out of bound\n",
      "diff Qtable_N - Qtable_N-1  11.58121898336804\n",
      "Loss : -59.682618254126574\n",
      "end while loop iteration :  13\n",
      "Episode 287/1000\n",
      "exploration_prob : 0.100\n",
      "No action possible. Stop episode at 26th iterations\n",
      "Save last state even is out of bound\n",
      "Q table still growths\n",
      "Loss : -172.27679432951587\n",
      "end while loop iteration :  26\n",
      "Episode 288/1000\n",
      "exploration_prob : 0.100\n",
      "No action possible. Stop episode at 15th iterations\n",
      "Save last state even is out of bound\n",
      "diff Qtable_N - Qtable_N-1  0.620530945152554\n",
      "Loss : -89.99534854663392\n",
      "end while loop iteration :  15\n",
      "Episode 289/1000\n",
      "exploration_prob : 0.100\n",
      "No action possible. Stop episode at 10th iterations\n",
      "Save last state even is out of bound\n",
      "diff Qtable_N - Qtable_N-1  2.0752859452959367\n",
      "Loss : -15.950808422939396\n",
      "end while loop iteration :  10\n",
      "Episode 290/1000\n",
      "exploration_prob : 0.100\n",
      "stop episode because agent reach goal\n",
      "stop episode because agent reach goal\n",
      "Q table still growths\n",
      "Loss : -28.143856288078858\n",
      "end while loop iteration :  14\n",
      "Episode 291/1000\n",
      "exploration_prob : 0.100\n",
      "stop episode because agent reach goal\n",
      "stop episode because agent reach goal\n",
      "Q table still growths\n",
      "Loss : -36.84247244819589\n",
      "end while loop iteration :  4\n",
      "Episode 292/1000\n",
      "exploration_prob : 0.100\n",
      "No action possible. Stop episode at 10th iterations\n",
      "Save last state even is out of bound\n",
      "diff Qtable_N - Qtable_N-1  0.19737613961572442\n",
      "Loss : -10.442378234093697\n",
      "end while loop iteration :  10\n",
      "Episode 293/1000\n",
      "exploration_prob : 0.100\n",
      "stop episode because agent reach goal\n",
      "stop episode because agent reach goal\n",
      "stop episode because agent reach goal\n",
      "Q table still growths\n",
      "Loss : -95.10161759915401\n",
      "end while loop iteration :  37\n",
      "Episode 294/1000\n",
      "exploration_prob : 0.100\n",
      "No action possible. Stop episode at 23th iterations\n",
      "Save last state even is out of bound\n",
      "diff Qtable_N - Qtable_N-1  37.76839441948334\n",
      "Loss : -204.6572357756732\n",
      "end while loop iteration :  23\n",
      "Episode 295/1000\n",
      "exploration_prob : 0.100\n",
      "No action possible. Stop episode at 7th iterations\n",
      "Save last state even is out of bound\n",
      "diff Qtable_N - Qtable_N-1  4.875865726640511\n",
      "Loss : -58.27554300146777\n",
      "end while loop iteration :  7\n",
      "Episode 296/1000\n",
      "exploration_prob : 0.100\n",
      "stop episode because agent reach goal\n",
      "stop episode because agent reach goal\n",
      "diff Qtable_N - Qtable_N-1  0.0017102759886522129\n",
      "Loss : -47.31763412163768\n",
      "end while loop iteration :  26\n",
      "Episode 297/1000\n",
      "exploration_prob : 0.100\n",
      "stop episode because agent reach goal\n",
      "stop episode because agent reach goal\n",
      "diff Qtable_N - Qtable_N-1  0.05720104915598176\n",
      "Loss : -6.292610340353183\n",
      "end while loop iteration :  17\n",
      "Episode 298/1000\n",
      "exploration_prob : 0.100\n",
      "No action possible. Stop episode at 30th iterations\n",
      "Save last state even is out of bound\n",
      "Q table still growths\n",
      "Loss : -309.607719646557\n",
      "end while loop iteration :  30\n",
      "Episode 299/1000\n",
      "exploration_prob : 0.100\n",
      "stop episode because agent reach goal\n",
      "stop episode because agent reach goal\n",
      "Q table still growths\n",
      "Loss : -14.724623879405767\n",
      "end while loop iteration :  17\n",
      "Episode 300/1000\n",
      "exploration_prob : 0.100\n",
      "No action possible. Stop episode at 22th iterations\n",
      "Save last state even is out of bound\n",
      "diff Qtable_N - Qtable_N-1  65.56740253616299\n",
      "Loss : -369.12275585847215\n",
      "end while loop iteration :  22\n",
      "Episode 301/1000\n",
      "exploration_prob : 0.100\n",
      "stop episode because agent reach goal\n",
      "stop episode because agent reach goal\n",
      "diff Qtable_N - Qtable_N-1  0.02456272166563187\n",
      "Loss : -10.136264485099328\n",
      "end while loop iteration :  14\n",
      "Episode 302/1000\n",
      "exploration_prob : 0.100\n",
      "stop episode because agent reach goal\n",
      "stop episode because agent reach goal\n",
      "Q table still growths\n",
      "Loss : -152.97189079074764\n",
      "end while loop iteration :  38\n",
      "Episode 303/1000\n",
      "exploration_prob : 0.100\n",
      "No action possible. Stop episode at 18th iterations\n",
      "Save last state even is out of bound\n",
      "diff Qtable_N - Qtable_N-1  0.7606708394857425\n",
      "Loss : -23.511495370968937\n",
      "end while loop iteration :  18\n",
      "Episode 304/1000\n",
      "exploration_prob : 0.100\n",
      "No action possible. Stop episode at 63th iterations\n",
      "Save last state even is out of bound\n",
      "Q table still growths\n",
      "Loss : -298.85969752586135\n",
      "end while loop iteration :  63\n",
      "Episode 305/1000\n",
      "exploration_prob : 0.100\n",
      "stop episode because agent reach goal\n",
      "diff Qtable_N - Qtable_N-1  0.021995237132599293\n",
      "Loss : -6.741719270622925\n",
      "end while loop iteration :  10\n",
      "Episode 306/1000\n",
      "exploration_prob : 0.100\n",
      "No action possible. Stop episode at 22th iterations\n",
      "Save last state even is out of bound\n",
      "Q table still growths\n",
      "Loss : -76.10069550791134\n",
      "end while loop iteration :  22\n",
      "Episode 307/1000\n",
      "exploration_prob : 0.100\n",
      "No action possible. Stop episode at 24th iterations\n",
      "Save last state even is out of bound\n",
      "diff Qtable_N - Qtable_N-1  21.417178570728037\n",
      "Loss : -130.77046668681635\n",
      "end while loop iteration :  24\n",
      "Episode 308/1000\n",
      "exploration_prob : 0.100\n",
      "No action possible. Stop episode at 14th iterations\n",
      "Save last state even is out of bound\n",
      "Q table still growths\n",
      "Loss : -101.9789201142765\n",
      "end while loop iteration :  14\n",
      "Episode 309/1000\n",
      "exploration_prob : 0.100\n",
      "No action possible. Stop episode at 3th iterations\n",
      "Save last state even is out of bound\n",
      "diff Qtable_N - Qtable_N-1  0.31268141690283435\n",
      "Loss : -15.110865159432858\n",
      "end while loop iteration :  3\n",
      "Episode 310/1000\n",
      "exploration_prob : 0.100\n",
      "stop episode because agent reach goal\n",
      "stop episode because agent reach goal\n",
      "diff Qtable_N - Qtable_N-1  0.7718463332193816\n",
      "Loss : -9.942008624294374\n",
      "end while loop iteration :  18\n",
      "Episode 311/1000\n",
      "exploration_prob : 0.100\n",
      "stop episode because agent reach goal\n",
      "diff Qtable_N - Qtable_N-1  0.01979571341933936\n",
      "Loss : -6.741719270622925\n",
      "end while loop iteration :  10\n",
      "Episode 312/1000\n",
      "exploration_prob : 0.100\n",
      "stop episode because agent reach goal\n",
      "stop episode because agent reach goal\n",
      "Q table still growths\n",
      "Loss : -24.471516808153897\n",
      "end while loop iteration :  18\n",
      "Episode 313/1000\n",
      "exploration_prob : 0.100\n",
      "No action possible. Stop episode at 24th iterations\n",
      "Save last state even is out of bound\n",
      "diff Qtable_N - Qtable_N-1  3.807994939484666\n",
      "Loss : -139.04523981570372\n",
      "end while loop iteration :  24\n",
      "Episode 314/1000\n",
      "exploration_prob : 0.100\n",
      "No action possible. Stop episode at 7th iterations\n",
      "Save last state even is out of bound\n",
      "diff Qtable_N - Qtable_N-1  1.3033738072693528\n",
      "Loss : -47.00058204359706\n",
      "end while loop iteration :  7\n",
      "Episode 315/1000\n",
      "exploration_prob : 0.100\n",
      "stop episode because agent reach goal\n",
      "stop episode because agent reach goal\n",
      "Q table still growths\n",
      "Loss : -72.587632421258\n",
      "end while loop iteration :  39\n",
      "Episode 316/1000\n",
      "exploration_prob : 0.100\n",
      "stop episode because agent reach goal\n",
      "stop episode because agent reach goal\n",
      "diff Qtable_N - Qtable_N-1  0.038884672294354966\n",
      "Loss : -12.328354926686405\n",
      "end while loop iteration :  18\n",
      "Episode 317/1000\n",
      "exploration_prob : 0.100\n",
      "stop episode because agent reach goal\n",
      "stop episode because agent reach goal\n",
      "diff Qtable_N - Qtable_N-1  0.06406534798610569\n",
      "Loss : -6.182763896468927\n",
      "end while loop iteration :  12\n",
      "Episode 318/1000\n",
      "exploration_prob : 0.100\n",
      "No action possible. Stop episode at 12th iterations\n",
      "Save last state even is out of bound\n",
      "diff Qtable_N - Qtable_N-1  3.9784832406190938\n",
      "Loss : -70.89279670184642\n",
      "end while loop iteration :  12\n",
      "Episode 319/1000\n",
      "exploration_prob : 0.100\n",
      "No action possible. Stop episode at 15th iterations\n",
      "Save last state even is out of bound\n",
      "diff Qtable_N - Qtable_N-1  0.6272927932367959\n",
      "Loss : -45.137003263742045\n",
      "end while loop iteration :  15\n",
      "Episode 320/1000\n",
      "exploration_prob : 0.100\n",
      "No action possible. Stop episode at 27th iterations\n",
      "Save last state even is out of bound\n",
      "Q table still growths\n",
      "Loss : -107.99678536900763\n",
      "end while loop iteration :  27\n",
      "Episode 321/1000\n",
      "exploration_prob : 0.100\n",
      "No action possible. Stop episode at 15th iterations\n",
      "Save last state even is out of bound\n",
      "Q table still growths\n",
      "Loss : -207.84264999457957\n",
      "end while loop iteration :  15\n",
      "Episode 322/1000\n",
      "exploration_prob : 0.100\n",
      "stop episode because agent reach goal\n",
      "stop episode because agent reach goal\n",
      "stop episode because agent reach goal\n",
      "Q table still growths\n",
      "Loss : -63.92120885008906\n",
      "end while loop iteration :  29\n",
      "Episode 323/1000\n",
      "exploration_prob : 0.100\n",
      "No action possible. Stop episode at 13th iterations\n",
      "Save last state even is out of bound\n",
      "diff Qtable_N - Qtable_N-1  0.9755990510484305\n",
      "Loss : -100.76997112608636\n",
      "end while loop iteration :  13\n",
      "Episode 324/1000\n",
      "exploration_prob : 0.100\n",
      "stop episode because agent reach goal\n",
      "stop episode because agent reach goal\n",
      "diff Qtable_N - Qtable_N-1  0.024500336526622424\n",
      "Loss : -7.478899909534824\n",
      "end while loop iteration :  14\n",
      "Episode 325/1000\n",
      "exploration_prob : 0.100\n",
      "No action possible. Stop episode at 16th iterations\n",
      "Save last state even is out of bound\n",
      "diff Qtable_N - Qtable_N-1  59.49953069952501\n",
      "Loss : -276.5386524507344\n",
      "end while loop iteration :  16\n",
      "Episode 326/1000\n",
      "exploration_prob : 0.100\n",
      "No action possible. Stop episode at 28th iterations\n",
      "Save last state even is out of bound\n",
      "Q table still growths\n",
      "Loss : -60.86759298649622\n",
      "end while loop iteration :  28\n",
      "Episode 327/1000\n",
      "exploration_prob : 0.100\n",
      "stop episode because agent reach goal\n",
      "stop episode because agent reach goal\n",
      "diff Qtable_N - Qtable_N-1  0.0011877508639088624\n",
      "Loss : -8.245823711421224\n",
      "end while loop iteration :  11\n",
      "Episode 328/1000\n",
      "exploration_prob : 0.100\n",
      "No action possible. Stop episode at 14th iterations\n",
      "Save last state even is out of bound\n",
      "diff Qtable_N - Qtable_N-1  1.6163684876075213\n",
      "Loss : -21.00010030194337\n",
      "end while loop iteration :  14\n",
      "Episode 329/1000\n",
      "exploration_prob : 0.100\n",
      "No action possible. Stop episode at 6th iterations\n",
      "Save last state even is out of bound\n",
      "diff Qtable_N - Qtable_N-1  0.5809307772005671\n",
      "Loss : -32.73399324754729\n",
      "end while loop iteration :  6\n",
      "Episode 330/1000\n",
      "exploration_prob : 0.100\n",
      "stop episode because agent reach goal\n",
      "diff Qtable_N - Qtable_N-1  0.016401553951860715\n",
      "Loss : -6.741719270622925\n",
      "end while loop iteration :  10\n",
      "Episode 331/1000\n",
      "exploration_prob : 0.100\n",
      "stop episode because agent reach goal\n",
      "stop episode because agent reach goal\n",
      "stop episode because agent reach goal\n",
      "diff Qtable_N - Qtable_N-1  0.0709524466216613\n",
      "Loss : -20.69211209376095\n",
      "end while loop iteration :  8\n",
      "Episode 332/1000\n",
      "exploration_prob : 0.100\n",
      "No action possible. Stop episode at 24th iterations\n",
      "Save last state even is out of bound\n",
      "diff Qtable_N - Qtable_N-1  22.014883790491975\n",
      "Loss : -114.55438539150987\n",
      "end while loop iteration :  24\n",
      "Episode 333/1000\n",
      "exploration_prob : 0.100\n",
      "stop episode because agent reach goal\n",
      "stop episode because agent reach goal\n",
      "stop episode because agent reach goal\n",
      "diff Qtable_N - Qtable_N-1  0.03446970910088773\n",
      "Loss : -18.012244548099822\n",
      "end while loop iteration :  14\n",
      "Episode 334/1000\n",
      "exploration_prob : 0.100\n",
      "No action possible. Stop episode at 26th iterations\n",
      "Save last state even is out of bound\n",
      "diff Qtable_N - Qtable_N-1  5.903332260585612\n",
      "Loss : -66.01231590626166\n",
      "end while loop iteration :  26\n",
      "Episode 335/1000\n",
      "exploration_prob : 0.100\n",
      "stop episode because agent reach goal\n",
      "diff Qtable_N - Qtable_N-1  0.01580799469654376\n",
      "Loss : -8.287847711596\n",
      "end while loop iteration :  10\n",
      "Episode 336/1000\n",
      "exploration_prob : 0.100\n",
      "stop episode because agent reach goal\n",
      "stop episode because agent reach goal\n",
      "Q table still growths\n",
      "Loss : -169.4914012528957\n",
      "end while loop iteration :  59\n",
      "Episode 337/1000\n",
      "exploration_prob : 0.100\n",
      "No action possible. Stop episode at 11th iterations\n",
      "Save last state even is out of bound\n",
      "diff Qtable_N - Qtable_N-1  6.210767567299644\n",
      "Loss : -30.883471419407726\n",
      "end while loop iteration :  11\n",
      "Episode 338/1000\n",
      "exploration_prob : 0.100\n",
      "No action possible. Stop episode at 17th iterations\n",
      "Save last state even is out of bound\n",
      "diff Qtable_N - Qtable_N-1  0.7454590017623671\n",
      "Loss : -59.817522038216666\n",
      "end while loop iteration :  17\n",
      "Episode 339/1000\n",
      "exploration_prob : 0.100\n",
      "stop episode because agent reach goal\n",
      "stop episode because agent reach goal\n",
      "Q table still growths\n",
      "Loss : -43.89163998046903\n",
      "end while loop iteration :  31\n",
      "Episode 340/1000\n",
      "exploration_prob : 0.100\n",
      "No action possible. Stop episode at 22th iterations\n",
      "Save last state even is out of bound\n",
      "Q table still growths\n",
      "Loss : -96.80842570895243\n",
      "end while loop iteration :  22\n",
      "Episode 341/1000\n",
      "exploration_prob : 0.100\n",
      "No action possible. Stop episode at 15th iterations\n",
      "Save last state even is out of bound\n",
      "diff Qtable_N - Qtable_N-1  0.6786660059194853\n",
      "Loss : -46.513109153985184\n",
      "end while loop iteration :  15\n",
      "Episode 342/1000\n",
      "exploration_prob : 0.100\n",
      "No action possible. Stop episode at 34th iterations\n",
      "Save last state even is out of bound\n",
      "Q table still growths\n",
      "Loss : -94.10148824642945\n",
      "end while loop iteration :  34\n",
      "Episode 343/1000\n",
      "exploration_prob : 0.100\n",
      "No action possible. Stop episode at 16th iterations\n",
      "Save last state even is out of bound\n",
      "diff Qtable_N - Qtable_N-1  1.0531004059740519\n",
      "Loss : -61.15656081005332\n",
      "end while loop iteration :  16\n",
      "Episode 344/1000\n",
      "exploration_prob : 0.100\n",
      "No action possible. Stop episode at 14th iterations\n",
      "Save last state even is out of bound\n",
      "Q table still growths\n",
      "Loss : -21.823775861692084\n",
      "end while loop iteration :  14\n",
      "Episode 345/1000\n",
      "exploration_prob : 0.100\n",
      "No action possible. Stop episode at 26th iterations\n",
      "Save last state even is out of bound\n",
      "diff Qtable_N - Qtable_N-1  32.21257964741943\n",
      "Loss : -179.6231360647697\n",
      "end while loop iteration :  26\n",
      "Episode 346/1000\n",
      "exploration_prob : 0.100\n",
      "No action possible. Stop episode at 9th iterations\n",
      "Save last state even is out of bound\n",
      "diff Qtable_N - Qtable_N-1  4.07148607099426\n",
      "Loss : -35.16910181234637\n",
      "end while loop iteration :  9\n",
      "Episode 347/1000\n",
      "exploration_prob : 0.100\n",
      "stop episode because agent reach goal\n",
      "Q table still growths\n",
      "Loss : -9.624075392664587\n",
      "end while loop iteration :  15\n",
      "Episode 348/1000\n",
      "exploration_prob : 0.100\n",
      "No action possible. Stop episode at 12th iterations\n",
      "Save last state even is out of bound\n",
      "diff Qtable_N - Qtable_N-1  0.6476457337060689\n",
      "Loss : -38.27900200169466\n",
      "end while loop iteration :  12\n",
      "Episode 349/1000\n",
      "exploration_prob : 0.100\n",
      "stop episode because agent reach goal\n",
      "stop episode because agent reach goal\n",
      "diff Qtable_N - Qtable_N-1  0.0630437100419774\n",
      "Loss : -10.26386414475042\n",
      "end while loop iteration :  21\n",
      "Episode 350/1000\n",
      "exploration_prob : 0.100\n",
      "stop episode because agent reach goal\n",
      "stop episode because agent reach goal\n",
      "diff Qtable_N - Qtable_N-1  0.0761947359384555\n",
      "Loss : -22.77166997184993\n",
      "end while loop iteration :  9\n",
      "Episode 351/1000\n",
      "exploration_prob : 0.100\n",
      "No action possible. Stop episode at 8th iterations\n",
      "Save last state even is out of bound\n",
      "diff Qtable_N - Qtable_N-1  4.381330714716949\n",
      "Loss : -23.97853441059971\n",
      "end while loop iteration :  8\n",
      "Episode 352/1000\n",
      "exploration_prob : 0.100\n",
      "stop episode because agent reach goal\n",
      "diff Qtable_N - Qtable_N-1  0.01318059908702024\n",
      "Loss : -6.741719270622925\n",
      "end while loop iteration :  10\n",
      "Episode 353/1000\n",
      "exploration_prob : 0.100\n",
      "stop episode because agent reach goal\n",
      "stop episode because agent reach goal\n",
      "diff Qtable_N - Qtable_N-1  5.467023779760002\n",
      "Loss : -34.49148550549766\n",
      "end while loop iteration :  18\n",
      "Episode 354/1000\n",
      "exploration_prob : 0.100\n",
      "stop episode because agent reach goal\n",
      "stop episode because agent reach goal\n",
      "stop episode because agent reach goal\n",
      "Q table still growths\n",
      "Loss : -177.82436012534575\n",
      "end while loop iteration :  43\n",
      "Episode 355/1000\n",
      "exploration_prob : 0.100\n",
      "No action possible. Stop episode at 5th iterations\n",
      "Save last state even is out of bound\n",
      "diff Qtable_N - Qtable_N-1  2.5113943724365315\n",
      "Loss : -79.97367455138208\n",
      "end while loop iteration :  5\n",
      "Episode 356/1000\n",
      "exploration_prob : 0.100\n",
      "stop episode because agent reach goal\n",
      "stop episode because agent reach goal\n",
      "stop episode because agent reach goal\n",
      "Q table still growths\n",
      "Loss : -125.59801860754206\n",
      "end while loop iteration :  48\n",
      "Episode 357/1000\n",
      "exploration_prob : 0.100\n",
      "stop episode because agent reach goal\n",
      "diff Qtable_N - Qtable_N-1  0.011862539178318199\n",
      "Loss : -6.741719270622925\n",
      "end while loop iteration :  10\n",
      "Episode 358/1000\n",
      "exploration_prob : 0.100\n",
      "No action possible. Stop episode at 9th iterations\n",
      "Save last state even is out of bound\n",
      "diff Qtable_N - Qtable_N-1  3.924845303237136\n",
      "Loss : -72.81592252318184\n",
      "end while loop iteration :  9\n",
      "Episode 359/1000\n",
      "exploration_prob : 0.100\n",
      "No action possible. Stop episode at 10th iterations\n",
      "Save last state even is out of bound\n",
      "diff Qtable_N - Qtable_N-1  1.4355963210152853\n",
      "Loss : -23.696671527080436\n",
      "end while loop iteration :  10\n",
      "Episode 360/1000\n",
      "exploration_prob : 0.100\n",
      "stop episode because agent reach goal\n",
      "stop episode because agent reach goal\n",
      "diff Qtable_N - Qtable_N-1  0.0010689757775179769\n",
      "Loss : -8.245823711421224\n",
      "end while loop iteration :  11\n",
      "Episode 361/1000\n",
      "exploration_prob : 0.100\n",
      "No action possible. Stop episode at 17th iterations\n",
      "Save last state even is out of bound\n",
      "Q table still growths\n",
      "Loss : -187.98656817956694\n",
      "end while loop iteration :  17\n",
      "Episode 362/1000\n",
      "exploration_prob : 0.100\n",
      "No action possible. Stop episode at 18th iterations\n",
      "Save last state even is out of bound\n",
      "diff Qtable_N - Qtable_N-1  5.271458986535293\n",
      "Loss : -31.85689770325826\n",
      "end while loop iteration :  18\n",
      "Episode 363/1000\n",
      "exploration_prob : 0.100\n",
      "stop episode because agent reach goal\n",
      "stop episode because agent reach goal\n",
      "diff Qtable_N - Qtable_N-1  0.05598846630280224\n",
      "Loss : -9.992181998594354\n",
      "end while loop iteration :  12\n",
      "Episode 364/1000\n",
      "exploration_prob : 0.100\n",
      "No action possible. Stop episode at 7th iterations\n",
      "Save last state even is out of bound\n",
      "diff Qtable_N - Qtable_N-1  0.39159986316423323\n",
      "Loss : -20.937418877164113\n",
      "end while loop iteration :  7\n",
      "Episode 365/1000\n",
      "exploration_prob : 0.100\n",
      "stop episode because agent reach goal\n",
      "stop episode because agent reach goal\n",
      "stop episode because agent reach goal\n",
      "diff Qtable_N - Qtable_N-1  0.07218823134426276\n",
      "Loss : -8.613744994058301\n",
      "end while loop iteration :  12\n",
      "Episode 366/1000\n",
      "exploration_prob : 0.100\n",
      "No action possible. Stop episode at 10th iterations\n",
      "Save last state even is out of bound\n",
      "diff Qtable_N - Qtable_N-1  1.8603241053974129\n",
      "Loss : -14.996670380558069\n",
      "end while loop iteration :  10\n",
      "Episode 367/1000\n",
      "exploration_prob : 0.100\n",
      "stop episode because agent reach goal\n",
      "stop episode because agent reach goal\n",
      "diff Qtable_N - Qtable_N-1  0.024842265714301093\n",
      "Loss : -14.436321872808765\n",
      "end while loop iteration :  12\n",
      "Episode 368/1000\n",
      "exploration_prob : 0.100\n",
      "No action possible. Stop episode at 13th iterations\n",
      "Save last state even is out of bound\n",
      "diff Qtable_N - Qtable_N-1  5.039879590451541\n",
      "Loss : -80.71721114438222\n",
      "end while loop iteration :  13\n",
      "Episode 369/1000\n",
      "exploration_prob : 0.100\n",
      "stop episode because agent reach goal\n",
      "stop episode because agent reach goal\n",
      "diff Qtable_N - Qtable_N-1  0.07535473893464135\n",
      "Loss : -6.509978321486641\n",
      "end while loop iteration :  13\n",
      "Episode 370/1000\n",
      "exploration_prob : 0.100\n",
      "No action possible. Stop episode at 19th iterations\n",
      "Save last state even is out of bound\n",
      "diff Qtable_N - Qtable_N-1  0.38401992070210267\n",
      "Loss : -37.389295556575256\n",
      "end while loop iteration :  19\n",
      "Episode 371/1000\n",
      "exploration_prob : 0.100\n",
      "No action possible. Stop episode at 21th iterations\n",
      "Save last state even is out of bound\n",
      "Q table still growths\n",
      "Loss : -52.6051259701009\n",
      "end while loop iteration :  21\n",
      "Episode 372/1000\n",
      "exploration_prob : 0.100\n",
      "No action possible. Stop episode at 5th iterations\n",
      "Save last state even is out of bound\n",
      "Q table still growths\n",
      "Loss : -94.08408342726882\n",
      "end while loop iteration :  5\n",
      "Episode 373/1000\n",
      "exploration_prob : 0.100\n",
      "stop episode because agent reach goal\n",
      "stop episode because agent reach goal\n",
      "stop episode because agent reach goal\n",
      "Q table still growths\n",
      "Loss : -51.22769052419953\n",
      "end while loop iteration :  41\n",
      "Episode 374/1000\n",
      "exploration_prob : 0.100\n",
      "stop episode because agent reach goal\n",
      "stop episode because agent reach goal\n",
      "diff Qtable_N - Qtable_N-1  0.008350614821891662\n",
      "Loss : -17.088562716898863\n",
      "end while loop iteration :  20\n",
      "Episode 375/1000\n",
      "exploration_prob : 0.100\n",
      "No action possible. Stop episode at 25th iterations\n",
      "Save last state even is out of bound\n",
      "diff Qtable_N - Qtable_N-1  11.484365254582311\n",
      "Loss : -61.35431759326174\n",
      "end while loop iteration :  25\n",
      "Episode 376/1000\n",
      "exploration_prob : 0.100\n",
      "stop episode because agent reach goal\n",
      "diff Qtable_N - Qtable_N-1  0.009963924083080888\n",
      "Loss : -6.741719270622925\n",
      "end while loop iteration :  10\n",
      "Episode 377/1000\n",
      "exploration_prob : 0.100\n",
      "stop episode because agent reach goal\n",
      "stop episode because agent reach goal\n",
      "diff Qtable_N - Qtable_N-1  0.7936296402566075\n",
      "Loss : -48.31068054132216\n",
      "end while loop iteration :  15\n",
      "Episode 378/1000\n",
      "exploration_prob : 0.100\n",
      "stop episode because agent reach goal\n",
      "diff Qtable_N - Qtable_N-1  0.05264783021380681\n",
      "Loss : -6.521150243727881\n",
      "end while loop iteration :  19\n",
      "Episode 379/1000\n",
      "exploration_prob : 0.100\n",
      "stop episode because agent reach goal\n",
      "diff Qtable_N - Qtable_N-1  0.04733860423491526\n",
      "Loss : -7.563357479659793\n",
      "end while loop iteration :  19\n",
      "Episode 380/1000\n",
      "exploration_prob : 0.100\n",
      "No action possible. Stop episode at 5th iterations\n",
      "Save last state even is out of bound\n",
      "diff Qtable_N - Qtable_N-1  2.961578189258642\n",
      "Loss : -30.216654218237338\n",
      "end while loop iteration :  5\n",
      "Episode 381/1000\n",
      "exploration_prob : 0.100\n",
      "stop episode because agent reach goal\n",
      "diff Qtable_N - Qtable_N-1  0.04287936733412928\n",
      "Loss : -15.571653434192056\n",
      "end while loop iteration :  19\n",
      "Episode 382/1000\n",
      "exploration_prob : 0.100\n",
      "No action possible. Stop episode at 22th iterations\n",
      "Save last state even is out of bound\n",
      "diff Qtable_N - Qtable_N-1  2.611004188807174\n",
      "Loss : -56.57895600189279\n",
      "end while loop iteration :  22\n",
      "Episode 383/1000\n",
      "exploration_prob : 0.100\n",
      "No action possible. Stop episode at 12th iterations\n",
      "Save last state even is out of bound\n",
      "diff Qtable_N - Qtable_N-1  2.865534950336184\n",
      "Loss : -52.47405283408493\n",
      "end while loop iteration :  12\n",
      "Episode 384/1000\n",
      "exploration_prob : 0.100\n",
      "No action possible. Stop episode at 15th iterations\n",
      "Save last state even is out of bound\n",
      "diff Qtable_N - Qtable_N-1  3.0359045682349173\n",
      "Loss : -91.24383929270374\n",
      "end while loop iteration :  15\n",
      "Episode 385/1000\n",
      "exploration_prob : 0.100\n",
      "stop episode because agent reach goal\n",
      "stop episode because agent reach goal\n",
      "diff Qtable_N - Qtable_N-1  0.3188889903663979\n",
      "Loss : -13.826892277971776\n",
      "end while loop iteration :  7\n",
      "Episode 386/1000\n",
      "exploration_prob : 0.100\n",
      "stop episode because agent reach goal\n",
      "stop episode because agent reach goal\n",
      "stop episode because agent reach goal\n",
      "Q table still growths\n",
      "Loss : -99.3372910263208\n",
      "end while loop iteration :  35\n",
      "Episode 387/1000\n",
      "exploration_prob : 0.100\n",
      "stop episode because agent reach goal\n",
      "stop episode because agent reach goal\n",
      "diff Qtable_N - Qtable_N-1  0.005611961912413893\n",
      "Loss : -11.26861575110873\n",
      "end while loop iteration :  14\n",
      "Episode 388/1000\n",
      "exploration_prob : 0.100\n",
      "No action possible. Stop episode at 9th iterations\n",
      "Save last state even is out of bound\n",
      "diff Qtable_N - Qtable_N-1  2.995580215419497\n",
      "Loss : -59.59703449732621\n",
      "end while loop iteration :  9\n",
      "Episode 389/1000\n",
      "exploration_prob : 0.100\n",
      "No action possible. Stop episode at 25th iterations\n",
      "Save last state even is out of bound\n",
      "diff Qtable_N - Qtable_N-1  55.27167274519967\n",
      "Loss : -311.70654023523616\n",
      "end while loop iteration :  25\n",
      "Episode 390/1000\n",
      "exploration_prob : 0.100\n",
      "No action possible. Stop episode at 19th iterations\n",
      "Save last state even is out of bound\n",
      "diff Qtable_N - Qtable_N-1  14.434681547092408\n",
      "Loss : -76.80477257415833\n",
      "end while loop iteration :  19\n",
      "Episode 391/1000\n",
      "exploration_prob : 0.100\n",
      "No action possible. Stop episode at 11th iterations\n",
      "Save last state even is out of bound\n",
      "diff Qtable_N - Qtable_N-1  0.2866839539826853\n",
      "Loss : -31.175469105983883\n",
      "end while loop iteration :  11\n",
      "Episode 392/1000\n",
      "exploration_prob : 0.100\n",
      "No action possible. Stop episode at 19th iterations\n",
      "Save last state even is out of bound\n",
      "diff Qtable_N - Qtable_N-1  3.0157855164615164\n",
      "Loss : -31.028301425887186\n",
      "end while loop iteration :  19\n",
      "Episode 393/1000\n",
      "exploration_prob : 0.100\n",
      "No action possible. Stop episode at 10th iterations\n",
      "Save last state even is out of bound\n",
      "Q table still growths\n",
      "Loss : -13.566716153375857\n",
      "end while loop iteration :  10\n",
      "Episode 394/1000\n",
      "exploration_prob : 0.100\n",
      "No action possible. Stop episode at 23th iterations\n",
      "Save last state even is out of bound\n",
      "diff Qtable_N - Qtable_N-1  7.901697222366903\n",
      "Loss : -50.84934234121663\n",
      "end while loop iteration :  23\n",
      "Episode 395/1000\n",
      "exploration_prob : 0.100\n",
      "No action possible. Stop episode at 9th iterations\n",
      "Save last state even is out of bound\n",
      "diff Qtable_N - Qtable_N-1  3.0838522373600323\n",
      "Loss : -99.97098635716137\n",
      "end while loop iteration :  9\n",
      "Episode 396/1000\n",
      "exploration_prob : 0.100\n",
      "stop episode because agent reach goal\n",
      "stop episode because agent reach goal\n",
      "diff Qtable_N - Qtable_N-1  0.09602108299405097\n",
      "Loss : -9.292629802348324\n",
      "end while loop iteration :  20\n",
      "Episode 397/1000\n",
      "exploration_prob : 0.100\n",
      "stop episode because agent reach goal\n",
      "stop episode because agent reach goal\n",
      "diff Qtable_N - Qtable_N-1  0.008968729731606721\n",
      "Loss : -13.141426273241025\n",
      "end while loop iteration :  17\n",
      "Episode 398/1000\n",
      "exploration_prob : 0.100\n",
      "No action possible. Stop episode at 21th iterations\n",
      "Save last state even is out of bound\n",
      "diff Qtable_N - Qtable_N-1  24.02244252730646\n",
      "Loss : -135.6709888684057\n",
      "end while loop iteration :  21\n",
      "Episode 399/1000\n",
      "exploration_prob : 0.100\n",
      "stop episode because agent reach goal\n",
      "stop episode because agent reach goal\n",
      "diff Qtable_N - Qtable_N-1  0.0009620781997661774\n",
      "Loss : -8.245823711421224\n",
      "end while loop iteration :  11\n",
      "Episode 400/1000\n",
      "exploration_prob : 0.100\n",
      "No action possible. Stop episode at 13th iterations\n",
      "Save last state even is out of bound\n",
      "diff Qtable_N - Qtable_N-1  1.0237079153847357\n",
      "Loss : -52.641292222255736\n",
      "end while loop iteration :  13\n",
      "Episode 401/1000\n",
      "exploration_prob : 0.100\n",
      "No action possible. Stop episode at 8th iterations\n",
      "Save last state even is out of bound\n",
      "diff Qtable_N - Qtable_N-1  0.43928288788493486\n",
      "Loss : -23.7352951698418\n",
      "end while loop iteration :  8\n",
      "Episode 402/1000\n",
      "exploration_prob : 0.100\n",
      "No action possible. Stop episode at 2th iterations\n",
      "Save last state even is out of bound\n",
      "diff Qtable_N - Qtable_N-1  3.0532747630225443\n",
      "Loss : -33.561087450218324\n",
      "end while loop iteration :  2\n",
      "Episode 403/1000\n",
      "exploration_prob : 0.100\n",
      "No action possible. Stop episode at 16th iterations\n",
      "Save last state even is out of bound\n",
      "diff Qtable_N - Qtable_N-1  13.89902972756719\n",
      "Loss : -74.3352591554321\n",
      "end while loop iteration :  16\n",
      "Episode 404/1000\n",
      "exploration_prob : 0.100\n",
      "No action possible. Stop episode at 11th iterations\n",
      "Save last state even is out of bound\n",
      "diff Qtable_N - Qtable_N-1  1.7822614809603594\n",
      "Loss : -81.51192425570235\n",
      "end while loop iteration :  11\n",
      "Episode 405/1000\n",
      "exploration_prob : 0.100\n",
      "stop episode because agent reach goal\n",
      "stop episode because agent reach goal\n",
      "Q table still growths\n",
      "Loss : -75.13207056200923\n",
      "end while loop iteration :  32\n",
      "Episode 406/1000\n",
      "exploration_prob : 0.100\n",
      "No action possible. Stop episode at 34th iterations\n",
      "Save last state even is out of bound\n",
      "diff Qtable_N - Qtable_N-1  1.979870053811883\n",
      "Loss : -75.65197828358836\n",
      "end while loop iteration :  34\n",
      "Episode 407/1000\n",
      "exploration_prob : 0.100\n",
      "stop episode because agent reach goal\n",
      "stop episode because agent reach goal\n",
      "diff Qtable_N - Qtable_N-1  0.003930356169133675\n",
      "Loss : -10.491578204774669\n",
      "end while loop iteration :  14\n",
      "Episode 408/1000\n",
      "exploration_prob : 0.100\n",
      "No action possible. Stop episode at 4th iterations\n",
      "Save last state even is out of bound\n",
      "diff Qtable_N - Qtable_N-1  0.40988319579794574\n",
      "Loss : -16.781231885734915\n",
      "end while loop iteration :  4\n",
      "Episode 409/1000\n",
      "exploration_prob : 0.100\n",
      "stop episode because agent reach goal\n",
      "stop episode because agent reach goal\n",
      "stop episode because agent reach goal\n",
      "Q table still growths\n",
      "Loss : -14.709767156241616\n",
      "end while loop iteration :  12\n",
      "Episode 410/1000\n",
      "exploration_prob : 0.100\n",
      "No action possible. Stop episode at 10th iterations\n",
      "Save last state even is out of bound\n",
      "diff Qtable_N - Qtable_N-1  21.042019583903205\n",
      "Loss : -204.2861699218059\n",
      "end while loop iteration :  10\n",
      "Episode 411/1000\n",
      "exploration_prob : 0.100\n",
      "stop episode because agent reach goal\n",
      "stop episode because agent reach goal\n",
      "Q table still growths\n",
      "Loss : -107.49797976243602\n",
      "end while loop iteration :  30\n",
      "Episode 412/1000\n",
      "exploration_prob : 0.100\n",
      "stop episode because agent reach goal\n",
      "diff Qtable_N - Qtable_N-1  0.009462059135610323\n",
      "Loss : -8.287847711596\n",
      "end while loop iteration :  10\n",
      "Episode 413/1000\n",
      "exploration_prob : 0.100\n",
      "stop episode because agent reach goal\n",
      "stop episode because agent reach goal\n",
      "diff Qtable_N - Qtable_N-1  0.06141486798478671\n",
      "Loss : -10.355085769393726\n",
      "end while loop iteration :  13\n",
      "Episode 414/1000\n",
      "exploration_prob : 0.100\n",
      "stop episode because agent reach goal\n",
      "stop episode because agent reach goal\n",
      "diff Qtable_N - Qtable_N-1  0.0746218958524448\n",
      "Loss : -12.22376618864\n",
      "end while loop iteration :  8\n",
      "Episode 415/1000\n",
      "exploration_prob : 0.100\n",
      "stop episode because agent reach goal\n",
      "diff Qtable_N - Qtable_N-1  0.07265707011895893\n",
      "Loss : -9.07767722117753\n",
      "end while loop iteration :  17\n",
      "Episode 416/1000\n",
      "exploration_prob : 0.100\n",
      "No action possible. Stop episode at 23th iterations\n",
      "Save last state even is out of bound\n",
      "diff Qtable_N - Qtable_N-1  37.65302834717262\n",
      "Loss : -203.18553577836025\n",
      "end while loop iteration :  23\n",
      "Episode 417/1000\n",
      "exploration_prob : 0.100\n",
      "No action possible. Stop episode at 19th iterations\n",
      "Save last state even is out of bound\n",
      "diff Qtable_N - Qtable_N-1  2.9945181592212777\n",
      "Loss : -21.70540746251866\n",
      "end while loop iteration :  19\n",
      "Episode 418/1000\n",
      "exploration_prob : 0.100\n",
      "No action possible. Stop episode at 18th iterations\n",
      "Save last state even is out of bound\n",
      "Q table still growths\n",
      "Loss : -72.74293940442607\n",
      "end while loop iteration :  18\n",
      "Episode 419/1000\n",
      "exploration_prob : 0.100\n",
      "stop episode because agent reach goal\n",
      "diff Qtable_N - Qtable_N-1  0.06732995375681855\n",
      "Loss : -7.378892771070579\n",
      "end while loop iteration :  19\n",
      "Episode 420/1000\n",
      "exploration_prob : 0.100\n",
      "No action possible. Stop episode at 10th iterations\n",
      "Save last state even is out of bound\n",
      "diff Qtable_N - Qtable_N-1  0.06414073138238954\n",
      "Loss : -8.740169907962676\n",
      "end while loop iteration :  10\n",
      "Episode 421/1000\n",
      "exploration_prob : 0.100\n",
      "No action possible. Stop episode at 6th iterations\n",
      "Save last state even is out of bound\n",
      "diff Qtable_N - Qtable_N-1  3.655979760701444\n",
      "Loss : -114.23091149671701\n",
      "end while loop iteration :  6\n",
      "Episode 422/1000\n",
      "exploration_prob : 0.100\n",
      "No action possible. Stop episode at 20th iterations\n",
      "Save last state even is out of bound\n",
      "diff Qtable_N - Qtable_N-1  8.774500125896912\n",
      "Loss : -50.68503545792241\n",
      "end while loop iteration :  20\n",
      "Episode 423/1000\n",
      "exploration_prob : 0.100\n",
      "stop episode because agent reach goal\n",
      "stop episode because agent reach goal\n",
      "diff Qtable_N - Qtable_N-1  0.0008658703797895587\n",
      "Loss : -8.245823711421224\n",
      "end while loop iteration :  11\n",
      "Episode 424/1000\n",
      "exploration_prob : 0.100\n",
      "stop episode because agent reach goal\n",
      "diff Qtable_N - Qtable_N-1  0.007057491288230133\n",
      "Loss : -6.741719270622925\n",
      "end while loop iteration :  10\n",
      "Episode 425/1000\n",
      "exploration_prob : 0.100\n",
      "stop episode because agent reach goal\n",
      "diff Qtable_N - Qtable_N-1  0.006351742159407092\n",
      "Loss : -6.741719270622925\n",
      "end while loop iteration :  10\n",
      "Episode 426/1000\n",
      "exploration_prob : 0.100\n",
      "No action possible. Stop episode at 14th iterations\n",
      "Save last state even is out of bound\n",
      "Q table still growths\n",
      "Loss : -46.37024889624121\n",
      "end while loop iteration :  14\n",
      "Episode 427/1000\n",
      "exploration_prob : 0.100\n",
      "No action possible. Stop episode at 16th iterations\n",
      "Save last state even is out of bound\n",
      "diff Qtable_N - Qtable_N-1  1.1084449543585142\n",
      "Loss : -109.71632351949363\n",
      "end while loop iteration :  16\n",
      "Episode 428/1000\n",
      "exploration_prob : 0.100\n",
      "stop episode because agent reach goal\n",
      "stop episode because agent reach goal\n",
      "diff Qtable_N - Qtable_N-1  0.026229749168117794\n",
      "Loss : -6.182763896468927\n",
      "end while loop iteration :  12\n",
      "Episode 429/1000\n",
      "exploration_prob : 0.100\n",
      "No action possible. Stop episode at 15th iterations\n",
      "Save last state even is out of bound\n",
      "Q table still growths\n",
      "Loss : -633.587075153701\n",
      "end while loop iteration :  15\n",
      "Episode 430/1000\n",
      "exploration_prob : 0.100\n",
      "stop episode because agent reach goal\n",
      "Q table still growths\n",
      "Loss : -8.651737968820443\n",
      "end while loop iteration :  18\n",
      "Episode 431/1000\n",
      "exploration_prob : 0.100\n",
      "No action possible. Stop episode at 19th iterations\n",
      "Save last state even is out of bound\n",
      "diff Qtable_N - Qtable_N-1  0.4004456557313944\n",
      "Loss : -71.34889227093855\n",
      "end while loop iteration :  19\n",
      "Episode 432/1000\n",
      "exploration_prob : 0.100\n",
      "stop episode because agent reach goal\n",
      "diff Qtable_N - Qtable_N-1  0.02326599530549628\n",
      "Loss : -7.728279906554319\n",
      "end while loop iteration :  12\n",
      "Episode 433/1000\n",
      "exploration_prob : 0.100\n",
      "stop episode because agent reach goal\n",
      "diff Qtable_N - Qtable_N-1  0.005716567943466422\n",
      "Loss : -6.741719270622925\n",
      "end while loop iteration :  10\n",
      "Episode 434/1000\n",
      "exploration_prob : 0.100\n",
      "No action possible. Stop episode at 17th iterations\n",
      "Save last state even is out of bound\n",
      "diff Qtable_N - Qtable_N-1  0.7788117866763561\n",
      "Loss : -78.49461717199708\n",
      "end while loop iteration :  17\n",
      "Episode 435/1000\n",
      "exploration_prob : 0.100\n",
      "No action possible. Stop episode at 28th iterations\n",
      "Save last state even is out of bound\n",
      "Q table still growths\n",
      "Loss : -150.1683736387743\n",
      "end while loop iteration :  28\n",
      "Episode 436/1000\n",
      "exploration_prob : 0.100\n",
      "stop episode because agent reach goal\n",
      "diff Qtable_N - Qtable_N-1  0.06781926504117723\n",
      "Loss : -6.509978321486641\n",
      "end while loop iteration :  13\n",
      "Episode 437/1000\n",
      "exploration_prob : 0.100\n",
      "stop episode because agent reach goal\n",
      "diff Qtable_N - Qtable_N-1  0.061011884486972257\n",
      "Loss : -7.104091616131929\n",
      "end while loop iteration :  13\n",
      "Episode 438/1000\n",
      "exploration_prob : 0.100\n",
      "stop episode because agent reach goal\n",
      "stop episode because agent reach goal\n",
      "diff Qtable_N - Qtable_N-1  0.03344565835834441\n",
      "Loss : -14.45483595860454\n",
      "end while loop iteration :  15\n",
      "Episode 439/1000\n",
      "exploration_prob : 0.100\n",
      "No action possible. Stop episode at 6th iterations\n",
      "Save last state even is out of bound\n",
      "diff Qtable_N - Qtable_N-1  3.275202902887062\n",
      "Loss : -43.40573586473997\n",
      "end while loop iteration :  6\n",
      "Episode 440/1000\n",
      "exploration_prob : 0.100\n",
      "stop episode because agent reach goal\n",
      "diff Qtable_N - Qtable_N-1  0.03403445852404316\n",
      "Loss : -6.182763896468927\n",
      "end while loop iteration :  12\n",
      "Episode 441/1000\n",
      "exploration_prob : 0.100\n",
      "stop episode because agent reach goal\n",
      "diff Qtable_N - Qtable_N-1  1.9407813388127693\n",
      "Loss : -19.570506319663902\n",
      "end while loop iteration :  6\n",
      "Episode 442/1000\n",
      "exploration_prob : 0.100\n",
      "No action possible. Stop episode at 15th iterations\n",
      "Save last state even is out of bound\n",
      "diff Qtable_N - Qtable_N-1  21.717067678609666\n",
      "Loss : -111.03410638477303\n",
      "end while loop iteration :  15\n",
      "Episode 443/1000\n",
      "exploration_prob : 0.100\n",
      "No action possible. Stop episode at 11th iterations\n",
      "Save last state even is out of bound\n",
      "diff Qtable_N - Qtable_N-1  7.756050875916168\n",
      "Loss : -108.98891484698831\n",
      "end while loop iteration :  11\n",
      "Episode 444/1000\n",
      "exploration_prob : 0.100\n",
      "stop episode because agent reach goal\n",
      "diff Qtable_N - Qtable_N-1  0.005144911149119746\n",
      "Loss : -6.741719270622925\n",
      "end while loop iteration :  10\n",
      "Episode 445/1000\n",
      "exploration_prob : 0.100\n",
      "stop episode because agent reach goal\n",
      "diff Qtable_N - Qtable_N-1  0.004630420034207772\n",
      "Loss : -6.741719270622925\n",
      "end while loop iteration :  10\n",
      "Episode 446/1000\n",
      "exploration_prob : 0.100\n",
      "No action possible. Stop episode at 15th iterations\n",
      "Save last state even is out of bound\n",
      "diff Qtable_N - Qtable_N-1  6.492632897451154\n",
      "Loss : -139.85702928423322\n",
      "end while loop iteration :  15\n",
      "Episode 447/1000\n",
      "exploration_prob : 0.100\n",
      "No action possible. Stop episode at 9th iterations\n",
      "Save last state even is out of bound\n",
      "diff Qtable_N - Qtable_N-1  3.091877885200893\n",
      "Loss : -52.383068365066904\n",
      "end while loop iteration :  9\n",
      "Episode 448/1000\n",
      "exploration_prob : 0.100\n",
      "stop episode because agent reach goal\n",
      "diff Qtable_N - Qtable_N-1  0.02766133452182799\n",
      "Loss : -14.30614981288038\n",
      "end while loop iteration :  34\n",
      "Episode 449/1000\n",
      "exploration_prob : 0.100\n",
      "stop episode because agent reach goal\n",
      "diff Qtable_N - Qtable_N-1  0.0422462030302396\n",
      "Loss : -7.059033924527069\n",
      "end while loop iteration :  17\n",
      "Episode 450/1000\n",
      "exploration_prob : 0.100\n",
      "No action possible. Stop episode at 16th iterations\n",
      "Save last state even is out of bound\n",
      "Q table still growths\n",
      "Loss : -86.18825349496808\n",
      "end while loop iteration :  16\n",
      "Episode 451/1000\n",
      "exploration_prob : 0.100\n",
      "No action possible. Stop episode at 18th iterations\n",
      "Save last state even is out of bound\n",
      "diff Qtable_N - Qtable_N-1  1.5591138468664991\n",
      "Loss : -81.80691500981621\n",
      "end while loop iteration :  18\n",
      "Episode 452/1000\n",
      "exploration_prob : 0.100\n",
      "stop episode because agent reach goal\n",
      "stop episode because agent reach goal\n",
      "diff Qtable_N - Qtable_N-1  0.0392198482786813\n",
      "Loss : -17.857084891344723\n",
      "end while loop iteration :  15\n",
      "Episode 453/1000\n",
      "exploration_prob : 0.100\n",
      "No action possible. Stop episode at 21th iterations\n",
      "Save last state even is out of bound\n",
      "diff Qtable_N - Qtable_N-1  24.08108232870999\n",
      "Loss : -126.48180911941435\n",
      "end while loop iteration :  21\n",
      "Episode 454/1000\n",
      "exploration_prob : 0.100\n",
      "stop episode because agent reach goal\n",
      "stop episode because agent reach goal\n",
      "diff Qtable_N - Qtable_N-1  0.06205758279575477\n",
      "Loss : -7.203540577598318\n",
      "end while loop iteration :  19\n",
      "Episode 455/1000\n",
      "exploration_prob : 0.100\n",
      "No action possible. Stop episode at 13th iterations\n",
      "Save last state even is out of bound\n",
      "diff Qtable_N - Qtable_N-1  0.9938624106774472\n",
      "Loss : -36.617773320824924\n",
      "end while loop iteration :  13\n",
      "Episode 456/1000\n",
      "exploration_prob : 0.100\n",
      "stop episode because agent reach goal\n",
      "diff Qtable_N - Qtable_N-1  0.03647813167110381\n",
      "Loss : -8.613744994058301\n",
      "end while loop iteration :  12\n",
      "Episode 457/1000\n",
      "exploration_prob : 0.100\n",
      "stop episode because agent reach goal\n",
      "diff Qtable_N - Qtable_N-1  0.004167378030787039\n",
      "Loss : -6.741719270622925\n",
      "end while loop iteration :  10\n",
      "Episode 458/1000\n",
      "exploration_prob : 0.100\n",
      "stop episode because agent reach goal\n",
      "diff Qtable_N - Qtable_N-1  0.003750640227708324\n",
      "Loss : -6.741719270622925\n",
      "end while loop iteration :  10\n",
      "Episode 459/1000\n",
      "exploration_prob : 0.100\n",
      "stop episode because agent reach goal\n",
      "diff Qtable_N - Qtable_N-1  0.026429998717908083\n",
      "Loss : -20.196123073936313\n",
      "end while loop iteration :  17\n",
      "Episode 460/1000\n",
      "exploration_prob : 0.100\n",
      "No action possible. Stop episode at 20th iterations\n",
      "Save last state even is out of bound\n",
      "Q table still growths\n",
      "Loss : -43.74634255821207\n",
      "end while loop iteration :  20\n",
      "Episode 461/1000\n",
      "exploration_prob : 0.100\n",
      "stop episode because agent reach goal\n",
      "stop episode because agent reach goal\n",
      "diff Qtable_N - Qtable_N-1  0.06208868345426706\n",
      "Loss : -9.881371460813469\n",
      "end while loop iteration :  25\n",
      "Episode 462/1000\n",
      "exploration_prob : 0.100\n",
      "stop episode because agent reach goal\n",
      "diff Qtable_N - Qtable_N-1  0.054391200101561225\n",
      "Loss : -7.378892771070579\n",
      "end while loop iteration :  19\n",
      "Episode 463/1000\n",
      "exploration_prob : 0.100\n",
      "stop episode because agent reach goal\n",
      "diff Qtable_N - Qtable_N-1  0.047213043698190106\n",
      "Loss : -10.685563721222723\n",
      "end while loop iteration :  24\n",
      "Episode 464/1000\n",
      "exploration_prob : 0.100\n",
      "stop episode because agent reach goal\n",
      "stop episode because agent reach goal\n",
      "diff Qtable_N - Qtable_N-1  1.4714430155505556\n",
      "Loss : -18.067827490738676\n",
      "end while loop iteration :  20\n",
      "Episode 465/1000\n",
      "exploration_prob : 0.100\n",
      "No action possible. Stop episode at 15th iterations\n",
      "Save last state even is out of bound\n",
      "diff Qtable_N - Qtable_N-1  22.316845396447192\n",
      "Loss : -107.82613171174631\n",
      "end while loop iteration :  15\n",
      "Episode 466/1000\n",
      "exploration_prob : 0.100\n",
      "stop episode because agent reach goal\n",
      "diff Qtable_N - Qtable_N-1  0.003375576204937447\n",
      "Loss : -6.741719270622925\n",
      "end while loop iteration :  10\n",
      "Episode 467/1000\n",
      "exploration_prob : 0.100\n",
      "stop episode because agent reach goal\n",
      "stop episode because agent reach goal\n",
      "diff Qtable_N - Qtable_N-1  3.12744122060361\n",
      "Loss : -22.776757387594515\n",
      "end while loop iteration :  19\n",
      "Episode 468/1000\n",
      "exploration_prob : 0.100\n",
      "stop episode because agent reach goal\n",
      "stop episode because agent reach goal\n",
      "diff Qtable_N - Qtable_N-1  0.002693650353594687\n",
      "Loss : -10.805579894572192\n",
      "end while loop iteration :  14\n",
      "Episode 469/1000\n",
      "exploration_prob : 0.100\n",
      "stop episode because agent reach goal\n",
      "stop episode because agent reach goal\n",
      "diff Qtable_N - Qtable_N-1  0.041974360681623794\n",
      "Loss : -7.970598744941361\n",
      "end while loop iteration :  14\n",
      "Episode 470/1000\n",
      "exploration_prob : 0.100\n",
      "stop episode because agent reach goal\n",
      "stop episode because agent reach goal\n",
      "stop episode because agent reach goal\n",
      "diff Qtable_N - Qtable_N-1  0.03915106622880829\n",
      "Loss : -10.559740851427769\n",
      "end while loop iteration :  19\n",
      "Episode 471/1000\n",
      "exploration_prob : 0.100\n",
      "No action possible. Stop episode at 6th iterations\n",
      "Save last state even is out of bound\n",
      "diff Qtable_N - Qtable_N-1  3.644898110565693\n",
      "Loss : -49.28728386330588\n",
      "end while loop iteration :  6\n",
      "Episode 472/1000\n",
      "exploration_prob : 0.100\n",
      "stop episode because agent reach goal\n",
      "diff Qtable_N - Qtable_N-1  0.003038018584443747\n",
      "Loss : -6.741719270622925\n",
      "end while loop iteration :  10\n",
      "Episode 473/1000\n",
      "exploration_prob : 0.100\n",
      "stop episode because agent reach goal\n",
      "diff Qtable_N - Qtable_N-1  0.0027342167259993833\n",
      "Loss : -6.741719270622925\n",
      "end while loop iteration :  10\n",
      "Episode 474/1000\n",
      "exploration_prob : 0.100\n",
      "stop episode because agent reach goal\n",
      "stop episode because agent reach goal\n",
      "diff Qtable_N - Qtable_N-1  0.003288382097212536\n",
      "Loss : -8.245823711421224\n",
      "end while loop iteration :  11\n",
      "Episode 475/1000\n",
      "exploration_prob : 0.100\n",
      "No action possible. Stop episode at 17th iterations\n",
      "Save last state even is out of bound\n",
      "Q table still growths\n",
      "Loss : -152.07979729859636\n",
      "end while loop iteration :  17\n",
      "Episode 476/1000\n",
      "exploration_prob : 0.100\n",
      "No action possible. Stop episode at 11th iterations\n",
      "Save last state even is out of bound\n",
      "diff Qtable_N - Qtable_N-1  0.2889358905725436\n",
      "Loss : -31.92760373629521\n",
      "end while loop iteration :  11\n",
      "Episode 477/1000\n",
      "exploration_prob : 0.100\n",
      "stop episode because agent reach goal\n",
      "stop episode because agent reach goal\n",
      "diff Qtable_N - Qtable_N-1  0.14441539398497455\n",
      "Loss : -13.695854649825932\n",
      "end while loop iteration :  22\n",
      "Episode 478/1000\n",
      "exploration_prob : 0.100\n",
      "stop episode because agent reach goal\n",
      "stop episode because agent reach goal\n",
      "Q table still growths\n",
      "Loss : -15.977090518417432\n",
      "end while loop iteration :  15\n",
      "Episode 479/1000\n",
      "exploration_prob : 0.100\n",
      "stop episode because agent reach goal\n",
      "diff Qtable_N - Qtable_N-1  0.0027897041223523544\n",
      "Loss : -6.741719270622925\n",
      "end while loop iteration :  10\n",
      "Episode 480/1000\n",
      "exploration_prob : 0.100\n",
      "No action possible. Stop episode at 29th iterations\n",
      "Save last state even is out of bound\n",
      "Q table still growths\n",
      "Loss : -177.55404846026866\n",
      "end while loop iteration :  29\n",
      "Episode 481/1000\n",
      "exploration_prob : 0.100\n",
      "stop episode because agent reach goal\n",
      "stop episode because agent reach goal\n",
      "diff Qtable_N - Qtable_N-1  0.05087030205824736\n",
      "Loss : -9.725900174439667\n",
      "end while loop iteration :  19\n",
      "Episode 482/1000\n",
      "exploration_prob : 0.100\n",
      "No action possible. Stop episode at 10th iterations\n",
      "Save last state even is out of bound\n",
      "diff Qtable_N - Qtable_N-1  21.617496317667857\n",
      "Loss : -261.552776370389\n",
      "end while loop iteration :  10\n",
      "Episode 483/1000\n",
      "exploration_prob : 0.100\n",
      "No action possible. Stop episode at 18th iterations\n",
      "Save last state even is out of bound\n",
      "diff Qtable_N - Qtable_N-1  1.4215946091835256\n",
      "Loss : -68.24761355723916\n",
      "end while loop iteration :  18\n",
      "Episode 484/1000\n",
      "exploration_prob : 0.100\n",
      "No action possible. Stop episode at 20th iterations\n",
      "Save last state even is out of bound\n",
      "diff Qtable_N - Qtable_N-1  6.020701144028149\n",
      "Loss : -130.11602859671729\n",
      "end while loop iteration :  20\n",
      "Episode 485/1000\n",
      "exploration_prob : 0.100\n",
      "stop episode because agent reach goal\n",
      "diff Qtable_N - Qtable_N-1  0.0039059981308579572\n",
      "Loss : -10.47104974780006\n",
      "end while loop iteration :  10\n",
      "Episode 486/1000\n",
      "exploration_prob : 0.100\n",
      "stop episode because agent reach goal\n",
      "diff Qtable_N - Qtable_N-1  0.0021201338970313066\n",
      "Loss : -6.741719270622925\n",
      "end while loop iteration :  10\n",
      "Episode 487/1000\n",
      "exploration_prob : 0.100\n",
      "No action possible. Stop episode at 21th iterations\n",
      "Save last state even is out of bound\n",
      "diff Qtable_N - Qtable_N-1  5.1027162826290535\n",
      "Loss : -77.98099591686595\n",
      "end while loop iteration :  21\n",
      "Episode 488/1000\n",
      "exploration_prob : 0.100\n",
      "No action possible. Stop episode at 10th iterations\n",
      "Save last state even is out of bound\n",
      "diff Qtable_N - Qtable_N-1  0.07906572636088126\n",
      "Loss : -9.305582330718298\n",
      "end while loop iteration :  10\n",
      "Episode 489/1000\n",
      "exploration_prob : 0.100\n",
      "stop episode because agent reach goal\n",
      "diff Qtable_N - Qtable_N-1  0.02944643982904574\n",
      "Loss : -6.096347250963901\n",
      "end while loop iteration :  21\n",
      "Episode 490/1000\n",
      "exploration_prob : 0.100\n",
      "stop episode because agent reach goal\n",
      "diff Qtable_N - Qtable_N-1  0.0019081205073281926\n",
      "Loss : -6.741719270622925\n",
      "end while loop iteration :  10\n",
      "Episode 491/1000\n",
      "exploration_prob : 0.100\n",
      "No action possible. Stop episode at 14th iterations\n",
      "Save last state even is out of bound\n",
      "diff Qtable_N - Qtable_N-1  1.7563033897758942\n",
      "Loss : -68.31934766608549\n",
      "end while loop iteration :  14\n",
      "Episode 492/1000\n",
      "exploration_prob : 0.100\n",
      "stop episode because agent reach goal\n",
      "diff Qtable_N - Qtable_N-1  0.035995786293798904\n",
      "Loss : -6.182763896468927\n",
      "end while loop iteration :  12\n",
      "Episode 493/1000\n",
      "exploration_prob : 0.100\n",
      "No action possible. Stop episode at 22th iterations\n",
      "Save last state even is out of bound\n",
      "Q table still growths\n",
      "Loss : -76.68855995356842\n",
      "end while loop iteration :  22\n",
      "Episode 494/1000\n",
      "exploration_prob : 0.100\n",
      "stop episode because agent reach goal\n",
      "diff Qtable_N - Qtable_N-1  0.0017173084565953456\n",
      "Loss : -6.741719270622925\n",
      "end while loop iteration :  10\n",
      "Episode 495/1000\n",
      "exploration_prob : 0.100\n",
      "stop episode because agent reach goal\n",
      "diff Qtable_N - Qtable_N-1  0.0015455776109358221\n",
      "Loss : -6.741719270622925\n",
      "end while loop iteration :  10\n",
      "Episode 496/1000\n",
      "exploration_prob : 0.100\n",
      "No action possible. Stop episode at 6th iterations\n",
      "Save last state even is out of bound\n",
      "diff Qtable_N - Qtable_N-1  0.5408815511015881\n",
      "Loss : -39.70093410203513\n",
      "end while loop iteration :  6\n",
      "Episode 497/1000\n",
      "exploration_prob : 0.100\n",
      "stop episode because agent reach goal\n",
      "stop episode because agent reach goal\n",
      "diff Qtable_N - Qtable_N-1  0.007929737843875174\n",
      "Loss : -13.240941176518074\n",
      "end while loop iteration :  17\n",
      "Episode 498/1000\n",
      "exploration_prob : 0.100\n",
      "stop episode because agent reach goal\n",
      "stop episode because agent reach goal\n",
      "diff Qtable_N - Qtable_N-1  0.005490810919711153\n",
      "Loss : -8.245823711421224\n",
      "end while loop iteration :  11\n",
      "Episode 499/1000\n",
      "exploration_prob : 0.100\n",
      "No action possible. Stop episode at 30th iterations\n",
      "Save last state even is out of bound\n",
      "diff Qtable_N - Qtable_N-1  56.23024024199228\n",
      "Loss : -312.2274739394621\n",
      "end while loop iteration :  30\n",
      "Episode 500/1000\n",
      "exploration_prob : 0.100\n",
      "stop episode because agent reach goal\n",
      "diff Qtable_N - Qtable_N-1  0.002044946892578281\n",
      "Loss : -6.741719270622925\n",
      "end while loop iteration :  10\n",
      "Episode 501/1000\n",
      "exploration_prob : 0.100\n",
      "stop episode because agent reach goal\n",
      "diff Qtable_N - Qtable_N-1  0.027314085597206383\n",
      "Loss : -11.938463124163839\n",
      "end while loop iteration :  21\n",
      "Episode 502/1000\n",
      "exploration_prob : 0.100\n",
      "No action possible. Stop episode at 8th iterations\n",
      "Save last state even is out of bound\n",
      "diff Qtable_N - Qtable_N-1  10.731617709922233\n",
      "Loss : -87.77777819006992\n",
      "end while loop iteration :  8\n",
      "Episode 503/1000\n",
      "exploration_prob : 0.100\n",
      "No action possible. Stop episode at 20th iterations\n",
      "Save last state even is out of bound\n",
      "Q table still growths\n",
      "Loss : -80.23919819085259\n",
      "end while loop iteration :  20\n",
      "Episode 504/1000\n",
      "exploration_prob : 0.100\n",
      "stop episode because agent reach goal\n",
      "diff Qtable_N - Qtable_N-1  0.0018404522033204085\n",
      "Loss : -6.741719270622925\n",
      "end while loop iteration :  10\n",
      "Episode 505/1000\n",
      "exploration_prob : 0.100\n",
      "No action possible. Stop episode at 22th iterations\n",
      "Save last state even is out of bound\n",
      "Q table still growths\n",
      "Loss : -97.58967704160882\n",
      "end while loop iteration :  22\n",
      "Episode 506/1000\n",
      "exploration_prob : 0.100\n",
      "stop episode because agent reach goal\n",
      "stop episode because agent reach goal\n",
      "diff Qtable_N - Qtable_N-1  0.012334630565367571\n",
      "Loss : -6.469735489049649\n",
      "end while loop iteration :  14\n",
      "Episode 507/1000\n",
      "exploration_prob : 0.100\n",
      "stop episode because agent reach goal\n",
      "diff Qtable_N - Qtable_N-1  0.25456238685633875\n",
      "Loss : -14.073770478165084\n",
      "end while loop iteration :  17\n",
      "Episode 508/1000\n",
      "exploration_prob : 0.100\n",
      "No action possible. Stop episode at 9th iterations\n",
      "Save last state even is out of bound\n",
      "diff Qtable_N - Qtable_N-1  2.9489937538715325\n",
      "Loss : -56.717406726789775\n",
      "end while loop iteration :  9\n",
      "Episode 509/1000\n",
      "exploration_prob : 0.100\n",
      "stop episode because agent reach goal\n",
      "stop episode because agent reach goal\n",
      "diff Qtable_N - Qtable_N-1  0.028884550925342135\n",
      "Loss : -12.623116043693214\n",
      "end while loop iteration :  16\n",
      "Episode 510/1000\n",
      "exploration_prob : 0.100\n",
      "stop episode because agent reach goal\n",
      "diff Qtable_N - Qtable_N-1  0.001656406982988412\n",
      "Loss : -6.741719270622925\n",
      "end while loop iteration :  10\n",
      "Episode 511/1000\n",
      "exploration_prob : 0.100\n",
      "stop episode because agent reach goal\n",
      "diff Qtable_N - Qtable_N-1  0.0014907662846895264\n",
      "Loss : -6.741719270622925\n",
      "end while loop iteration :  10\n",
      "Episode 512/1000\n",
      "exploration_prob : 0.100\n",
      "No action possible. Stop episode at 4th iterations\n",
      "Save last state even is out of bound\n",
      "diff Qtable_N - Qtable_N-1  1.4737545368223781\n",
      "Loss : -26.19133513942251\n",
      "end while loop iteration :  4\n",
      "Episode 513/1000\n",
      "exploration_prob : 0.100\n",
      "stop episode because agent reach goal\n",
      "diff Qtable_N - Qtable_N-1  0.0013416896562206126\n",
      "Loss : -6.741719270622925\n",
      "end while loop iteration :  10\n",
      "Episode 514/1000\n",
      "exploration_prob : 0.100\n",
      "stop episode because agent reach goal\n",
      "diff Qtable_N - Qtable_N-1  0.0012075206905985403\n",
      "Loss : -6.741719270622925\n",
      "end while loop iteration :  10\n",
      "Episode 515/1000\n",
      "exploration_prob : 0.100\n",
      "No action possible. Stop episode at 4th iterations\n",
      "Save last state even is out of bound\n",
      "diff Qtable_N - Qtable_N-1  1.7674655683145186\n",
      "Loss : -57.16609388236495\n",
      "end while loop iteration :  4\n",
      "Episode 516/1000\n",
      "exploration_prob : 0.100\n",
      "No action possible. Stop episode at 23th iterations\n",
      "Save last state even is out of bound\n",
      "diff Qtable_N - Qtable_N-1  7.334299821089889\n",
      "Loss : -118.1411845687351\n",
      "end while loop iteration :  23\n",
      "Episode 517/1000\n",
      "exploration_prob : 0.100\n",
      "stop episode because agent reach goal\n",
      "stop episode because agent reach goal\n",
      "diff Qtable_N - Qtable_N-1  0.05487277968254867\n",
      "Loss : -8.692529058913527\n",
      "end while loop iteration :  13\n",
      "Episode 518/1000\n",
      "exploration_prob : 0.100\n",
      "stop episode because agent reach goal\n",
      "stop episode because agent reach goal\n",
      "diff Qtable_N - Qtable_N-1  0.05355905819825174\n",
      "Loss : -6.741719270622925\n",
      "end while loop iteration :  10\n",
      "Episode 519/1000\n",
      "exploration_prob : 0.100\n",
      "No action possible. Stop episode at 12th iterations\n",
      "Save last state even is out of bound\n",
      "diff Qtable_N - Qtable_N-1  12.84027674016326\n",
      "Loss : -174.4252933961324\n",
      "end while loop iteration :  12\n",
      "Episode 520/1000\n",
      "exploration_prob : 0.100\n",
      "stop episode because agent reach goal\n",
      "diff Qtable_N - Qtable_N-1  0.0010867686215386696\n",
      "Loss : -6.741719270622925\n",
      "end while loop iteration :  10\n",
      "Episode 521/1000\n",
      "exploration_prob : 0.100\n",
      "stop episode because agent reach goal\n",
      "diff Qtable_N - Qtable_N-1  0.0009780917593847915\n",
      "Loss : -6.741719270622925\n",
      "end while loop iteration :  10\n",
      "Episode 522/1000\n",
      "exploration_prob : 0.100\n",
      "No action possible. Stop episode at 37th iterations\n",
      "Save last state even is out of bound\n",
      "Q table still growths\n",
      "Loss : -170.19783036244755\n",
      "end while loop iteration :  37\n",
      "Episode 523/1000\n",
      "exploration_prob : 0.100\n",
      "stop episode because agent reach goal\n",
      "diff Qtable_N - Qtable_N-1  0.0008802825834463568\n",
      "Loss : -6.741719270622925\n",
      "end while loop iteration :  10\n",
      "Episode 524/1000\n",
      "exploration_prob : 0.100\n",
      "No action possible. Stop episode at 17th iterations\n",
      "Save last state even is out of bound\n",
      "diff Qtable_N - Qtable_N-1  10.708663300192361\n",
      "Loss : -192.18392950699595\n",
      "end while loop iteration :  17\n",
      "Episode 525/1000\n",
      "exploration_prob : 0.100\n",
      "stop episode because agent reach goal\n",
      "diff Qtable_N - Qtable_N-1  0.032396207664418974\n",
      "Loss : -6.182763896468927\n",
      "end while loop iteration :  12\n",
      "Episode 526/1000\n",
      "exploration_prob : 0.100\n",
      "No action possible. Stop episode at 22th iterations\n",
      "Save last state even is out of bound\n",
      "Q table still growths\n",
      "Loss : -117.37231207740979\n",
      "end while loop iteration :  22\n",
      "Episode 527/1000\n",
      "exploration_prob : 0.100\n",
      "No action possible. Stop episode at 18th iterations\n",
      "Save last state even is out of bound\n",
      "Q table still growths\n",
      "Loss : -330.71544912396615\n",
      "end while loop iteration :  18\n",
      "Episode 528/1000\n",
      "exploration_prob : 0.100\n",
      "stop episode because agent reach goal\n",
      "diff Qtable_N - Qtable_N-1  0.0007922543251017156\n",
      "Loss : -6.741719270622925\n",
      "end while loop iteration :  10\n",
      "Episode 529/1000\n",
      "exploration_prob : 0.100\n",
      "stop episode because agent reach goal\n",
      "stop episode because agent reach goal\n",
      "diff Qtable_N - Qtable_N-1  0.02418484724989213\n",
      "Loss : -13.38126790396849\n",
      "end while loop iteration :  16\n",
      "Episode 530/1000\n",
      "exploration_prob : 0.100\n",
      "No action possible. Stop episode at 21th iterations\n",
      "Save last state even is out of bound\n",
      "diff Qtable_N - Qtable_N-1  0.3786580021040492\n",
      "Loss : -95.59857407027565\n",
      "end while loop iteration :  21\n",
      "Episode 531/1000\n",
      "exploration_prob : 0.100\n",
      "stop episode because agent reach goal\n",
      "stop episode because agent reach goal\n",
      "diff Qtable_N - Qtable_N-1  0.023280454480343757\n",
      "Loss : -11.985659557062027\n",
      "end while loop iteration :  16\n",
      "Episode 532/1000\n",
      "exploration_prob : 0.100\n",
      "stop episode because agent reach goal\n",
      "diff Qtable_N - Qtable_N-1  0.0007130288925915051\n",
      "Loss : -6.741719270622925\n",
      "end while loop iteration :  10\n",
      "Episode 533/1000\n",
      "exploration_prob : 0.100\n",
      "stop episode because agent reach goal\n",
      "diff Qtable_N - Qtable_N-1  0.000641726003332399\n",
      "Loss : -6.741719270622925\n",
      "end while loop iteration :  10\n",
      "Episode 534/1000\n",
      "exploration_prob : 0.100\n",
      "No action possible. Stop episode at 16th iterations\n",
      "Save last state even is out of bound\n",
      "diff Qtable_N - Qtable_N-1  2.985606581492671\n",
      "Loss : -19.605321595367116\n",
      "end while loop iteration :  16\n",
      "Episode 535/1000\n",
      "exploration_prob : 0.100\n",
      "stop episode because agent reach goal\n",
      "diff Qtable_N - Qtable_N-1  0.0005775534029991425\n",
      "Loss : -6.741719270622925\n",
      "end while loop iteration :  10\n",
      "Episode 536/1000\n",
      "exploration_prob : 0.100\n",
      "stop episode because agent reach goal\n",
      "diff Qtable_N - Qtable_N-1  0.0005197980626991949\n",
      "Loss : -6.741719270622925\n",
      "end while loop iteration :  10\n",
      "Episode 537/1000\n",
      "exploration_prob : 0.100\n",
      "stop episode because agent reach goal\n",
      "stop episode because agent reach goal\n",
      "diff Qtable_N - Qtable_N-1  0.012735441873989006\n",
      "Loss : -7.478899909534824\n",
      "end while loop iteration :  14\n",
      "Episode 538/1000\n",
      "exploration_prob : 0.100\n",
      "stop episode because agent reach goal\n",
      "stop episode because agent reach goal\n",
      "stop episode because agent reach goal\n",
      "diff Qtable_N - Qtable_N-1  0.02407064022692967\n",
      "Loss : -14.440854386859987\n",
      "end while loop iteration :  17\n",
      "Episode 539/1000\n",
      "exploration_prob : 0.100\n",
      "No action possible. Stop episode at 25th iterations\n",
      "Save last state even is out of bound\n",
      "diff Qtable_N - Qtable_N-1  55.29554000247373\n",
      "Loss : -345.42276843308\n",
      "end while loop iteration :  25\n",
      "Episode 540/1000\n",
      "exploration_prob : 0.100\n",
      "No action possible. Stop episode at 13th iterations\n",
      "Save last state even is out of bound\n",
      "diff Qtable_N - Qtable_N-1  11.376375177558193\n",
      "Loss : -53.69612332636693\n",
      "end while loop iteration :  13\n",
      "Episode 541/1000\n",
      "exploration_prob : 0.100\n",
      "stop episode because agent reach goal\n",
      "diff Qtable_N - Qtable_N-1  0.00046781825642927544\n",
      "Loss : -6.741719270622925\n",
      "end while loop iteration :  10\n",
      "Episode 542/1000\n",
      "exploration_prob : 0.100\n",
      "stop episode because agent reach goal\n",
      "diff Qtable_N - Qtable_N-1  0.0004210364307863923\n",
      "Loss : -6.741719270622925\n",
      "end while loop iteration :  10\n",
      "Episode 543/1000\n",
      "exploration_prob : 0.100\n",
      "stop episode because agent reach goal\n",
      "diff Qtable_N - Qtable_N-1  0.00037893278770773087\n",
      "Loss : -6.741719270622925\n",
      "end while loop iteration :  10\n",
      "Episode 544/1000\n",
      "exploration_prob : 0.100\n",
      "No action possible. Stop episode at 21th iterations\n",
      "Save last state even is out of bound\n",
      "diff Qtable_N - Qtable_N-1  0.669343765455628\n",
      "Loss : -25.78567317032817\n",
      "end while loop iteration :  21\n",
      "Episode 545/1000\n",
      "exploration_prob : 0.100\n",
      "No action possible. Stop episode at 13th iterations\n",
      "Save last state even is out of bound\n",
      "diff Qtable_N - Qtable_N-1  1.014142205972047\n",
      "Loss : -55.50179597211681\n",
      "end while loop iteration :  13\n",
      "Episode 546/1000\n",
      "exploration_prob : 0.100\n",
      "No action possible. Stop episode at 16th iterations\n",
      "Save last state even is out of bound\n",
      "diff Qtable_N - Qtable_N-1  1.1320912266474512\n",
      "Loss : -98.32293121679301\n",
      "end while loop iteration :  16\n",
      "Episode 547/1000\n",
      "exploration_prob : 0.100\n",
      "stop episode because agent reach goal\n",
      "diff Qtable_N - Qtable_N-1  0.0003410395089369356\n",
      "Loss : -6.741719270622925\n",
      "end while loop iteration :  10\n",
      "Episode 548/1000\n",
      "exploration_prob : 0.100\n",
      "stop episode because agent reach goal\n",
      "diff Qtable_N - Qtable_N-1  0.00030693555804328643\n",
      "Loss : -6.741719270622925\n",
      "end while loop iteration :  10\n",
      "Episode 549/1000\n",
      "exploration_prob : 0.100\n",
      "stop episode because agent reach goal\n",
      "diff Qtable_N - Qtable_N-1  0.0002762420022389689\n",
      "Loss : -6.741719270622925\n",
      "end while loop iteration :  10\n",
      "Episode 550/1000\n",
      "exploration_prob : 0.100\n",
      "stop episode because agent reach goal\n",
      "diff Qtable_N - Qtable_N-1  0.0002486178020150165\n",
      "Loss : -6.741719270622925\n",
      "end while loop iteration :  10\n",
      "Episode 551/1000\n",
      "exploration_prob : 0.100\n",
      "No action possible. Stop episode at 18th iterations\n",
      "Save last state even is out of bound\n",
      "diff Qtable_N - Qtable_N-1  3.696271391477483\n",
      "Loss : -114.33427508985504\n",
      "end while loop iteration :  18\n",
      "Episode 552/1000\n",
      "exploration_prob : 0.100\n",
      "No action possible. Stop episode at 16th iterations\n",
      "Save last state even is out of bound\n",
      "diff Qtable_N - Qtable_N-1  0.4493135956888152\n",
      "Loss : -37.53906731844761\n",
      "end while loop iteration :  16\n",
      "Episode 553/1000\n",
      "exploration_prob : 0.100\n",
      "stop episode because agent reach goal\n",
      "diff Qtable_N - Qtable_N-1  0.00022375602181357035\n",
      "Loss : -6.741719270622925\n",
      "end while loop iteration :  10\n",
      "Episode 554/1000\n",
      "exploration_prob : 0.100\n",
      "stop episode because agent reach goal\n",
      "diff Qtable_N - Qtable_N-1  0.0002013804196321911\n",
      "Loss : -6.741719270622925\n",
      "end while loop iteration :  10\n",
      "Episode 555/1000\n",
      "exploration_prob : 0.100\n",
      "stop episode because agent reach goal\n",
      "diff Qtable_N - Qtable_N-1  0.00018124237766897755\n",
      "Loss : -6.741719270622925\n",
      "end while loop iteration :  10\n",
      "Episode 556/1000\n",
      "exploration_prob : 0.100\n",
      "No action possible. Stop episode at 7th iterations\n",
      "Save last state even is out of bound\n",
      "Q table still growths\n",
      "Loss : -33.83207394302624\n",
      "end while loop iteration :  7\n",
      "Episode 557/1000\n",
      "exploration_prob : 0.100\n",
      "stop episode because agent reach goal\n",
      "stop episode because agent reach goal\n",
      "Q table still growths\n",
      "Loss : -219.2135377843747\n",
      "end while loop iteration :  54\n",
      "Episode 558/1000\n",
      "exploration_prob : 0.100\n",
      "stop episode because agent reach goal\n",
      "diff Qtable_N - Qtable_N-1  0.00016311813990205204\n",
      "Loss : -6.741719270622925\n",
      "end while loop iteration :  10\n",
      "Episode 559/1000\n",
      "exploration_prob : 0.100\n",
      "stop episode because agent reach goal\n",
      "diff Qtable_N - Qtable_N-1  0.0001468063259118524\n",
      "Loss : -6.741719270622925\n",
      "end while loop iteration :  10\n",
      "Episode 560/1000\n",
      "exploration_prob : 0.100\n",
      "stop episode because agent reach goal\n",
      "stop episode because agent reach goal\n",
      "stop episode because agent reach goal\n",
      "stop episode because agent reach goal\n",
      "Q table still growths\n",
      "Loss : -135.72889442533867\n",
      "end while loop iteration :  36\n",
      "Episode 561/1000\n",
      "exploration_prob : 0.100\n",
      "stop episode because agent reach goal\n",
      "diff Qtable_N - Qtable_N-1  0.0001321256933206616\n",
      "Loss : -6.741719270622925\n",
      "end while loop iteration :  10\n",
      "Episode 562/1000\n",
      "exploration_prob : 0.100\n",
      "stop episode because agent reach goal\n",
      "diff Qtable_N - Qtable_N-1  0.00011891312398859544\n",
      "Loss : -6.741719270622925\n",
      "end while loop iteration :  10\n",
      "Episode 563/1000\n",
      "exploration_prob : 0.100\n",
      "stop episode because agent reach goal\n",
      "diff Qtable_N - Qtable_N-1  0.02915658689797712\n",
      "Loss : -6.182763896468927\n",
      "end while loop iteration :  12\n",
      "Episode 564/1000\n",
      "exploration_prob : 0.100\n",
      "stop episode because agent reach goal\n",
      "stop episode because agent reach goal\n",
      "diff Qtable_N - Qtable_N-1  0.0763679440866425\n",
      "Loss : -9.575721602413495\n",
      "end while loop iteration :  15\n",
      "Episode 565/1000\n",
      "exploration_prob : 0.100\n",
      "stop episode because agent reach goal\n",
      "diff Qtable_N - Qtable_N-1  0.00010702181158972479\n",
      "Loss : -6.741719270622925\n",
      "end while loop iteration :  10\n",
      "Episode 566/1000\n",
      "exploration_prob : 0.100\n",
      "stop episode because agent reach goal\n",
      "diff Qtable_N - Qtable_N-1  9.631963043077452e-05\n",
      "Loss : -6.741719270622925\n",
      "end while loop iteration :  10\n",
      "Episode 567/1000\n",
      "exploration_prob : 0.100\n",
      "stop episode because agent reach goal\n",
      "stop episode because agent reach goal\n",
      "diff Qtable_N - Qtable_N-1  0.05208914266175049\n",
      "Loss : -8.304329115771349\n",
      "end while loop iteration :  14\n",
      "Episode 568/1000\n",
      "exploration_prob : 0.100\n",
      "No action possible. Stop episode at 10th iterations\n",
      "Save last state even is out of bound\n",
      "diff Qtable_N - Qtable_N-1  0.057726658244150575\n",
      "Loss : -8.740169907962676\n",
      "end while loop iteration :  10\n",
      "Episode 569/1000\n",
      "exploration_prob : 0.100\n",
      "No action possible. Stop episode at 8th iterations\n",
      "Save last state even is out of bound\n",
      "diff Qtable_N - Qtable_N-1  16.801882735112684\n",
      "Loss : -75.13972402901847\n",
      "end while loop iteration :  8\n",
      "Episode 570/1000\n",
      "exploration_prob : 0.100\n",
      "stop episode because agent reach goal\n",
      "diff Qtable_N - Qtable_N-1  0.02377038728642053\n",
      "Loss : -6.096347250963901\n",
      "end while loop iteration :  21\n",
      "Episode 571/1000\n",
      "exploration_prob : 0.100\n",
      "stop episode because agent reach goal\n",
      "diff Qtable_N - Qtable_N-1  8.668766738773037e-05\n",
      "Loss : -6.741719270622925\n",
      "end while loop iteration :  10\n",
      "Episode 572/1000\n",
      "exploration_prob : 0.100\n",
      "stop episode because agent reach goal\n",
      "diff Qtable_N - Qtable_N-1  0.006348852551476325\n",
      "Loss : -6.509978321486641\n",
      "end while loop iteration :  13\n",
      "Episode 573/1000\n",
      "exploration_prob : 0.100\n",
      "No action possible. Stop episode at 19th iterations\n",
      "Save last state even is out of bound\n",
      "Q table still growths\n",
      "Loss : -429.4874203845709\n",
      "end while loop iteration :  19\n",
      "Episode 574/1000\n",
      "exploration_prob : 0.100\n",
      "stop episode because agent reach goal\n",
      "diff Qtable_N - Qtable_N-1  7.801890064895733e-05\n",
      "Loss : -6.741719270622925\n",
      "end while loop iteration :  10\n",
      "Episode 575/1000\n",
      "exploration_prob : 0.100\n",
      "stop episode because agent reach goal\n",
      "stop episode because agent reach goal\n",
      "diff Qtable_N - Qtable_N-1  1.859213646381357\n",
      "Loss : -8.245823711421224\n",
      "end while loop iteration :  11\n",
      "Episode 576/1000\n",
      "exploration_prob : 0.100\n",
      "stop episode because agent reach goal\n",
      "diff Qtable_N - Qtable_N-1  0.026736711071703334\n",
      "Loss : -6.741719270622925\n",
      "end while loop iteration :  10\n",
      "Episode 577/1000\n",
      "exploration_prob : 0.100\n",
      "No action possible. Stop episode at 21th iterations\n",
      "Save last state even is out of bound\n",
      "Q table still growths\n",
      "Loss : -176.196592134538\n",
      "end while loop iteration :  21\n",
      "Episode 578/1000\n",
      "exploration_prob : 0.100\n",
      "No action possible. Stop episode at 14th iterations\n",
      "Save last state even is out of bound\n",
      "diff Qtable_N - Qtable_N-1  15.957035445559825\n",
      "Loss : -125.3656507051347\n",
      "end while loop iteration :  14\n",
      "Episode 579/1000\n",
      "exploration_prob : 0.100\n",
      "stop episode because agent reach goal\n",
      "diff Qtable_N - Qtable_N-1  0.024063039964533017\n",
      "Loss : -6.741719270622925\n",
      "end while loop iteration :  10\n",
      "Episode 580/1000\n",
      "exploration_prob : 0.100\n",
      "stop episode because agent reach goal\n",
      "diff Qtable_N - Qtable_N-1  0.02165673596807971\n",
      "Loss : -6.741719270622925\n",
      "end while loop iteration :  10\n",
      "Episode 581/1000\n",
      "exploration_prob : 0.100\n",
      "No action possible. Stop episode at 14th iterations\n",
      "Save last state even is out of bound\n",
      "diff Qtable_N - Qtable_N-1  1.8079328752968704\n",
      "Loss : -85.11993281471466\n",
      "end while loop iteration :  14\n",
      "Episode 582/1000\n",
      "exploration_prob : 0.100\n",
      "stop episode because agent reach goal\n",
      "stop episode because agent reach goal\n",
      "diff Qtable_N - Qtable_N-1  0.07049223642682373\n",
      "Loss : -20.103681971202867\n",
      "end while loop iteration :  15\n",
      "Episode 583/1000\n",
      "exploration_prob : 0.100\n",
      "stop episode because agent reach goal\n",
      "diff Qtable_N - Qtable_N-1  0.01949106237127174\n",
      "Loss : -6.741719270622925\n",
      "end while loop iteration :  10\n",
      "Episode 584/1000\n",
      "exploration_prob : 0.100\n",
      "stop episode because agent reach goal\n",
      "diff Qtable_N - Qtable_N-1  0.017541956134144554\n",
      "Loss : -6.741719270622925\n",
      "end while loop iteration :  10\n",
      "Episode 585/1000\n",
      "exploration_prob : 0.100\n",
      "stop episode because agent reach goal\n",
      "diff Qtable_N - Qtable_N-1  0.015787760520730054\n",
      "Loss : -6.741719270622925\n",
      "end while loop iteration :  10\n",
      "Episode 586/1000\n",
      "exploration_prob : 0.100\n",
      "stop episode because agent reach goal\n",
      "diff Qtable_N - Qtable_N-1  0.014208984468657038\n",
      "Loss : -6.741719270622925\n",
      "end while loop iteration :  10\n",
      "Episode 587/1000\n",
      "exploration_prob : 0.100\n",
      "No action possible. Stop episode at 21th iterations\n",
      "Save last state even is out of bound\n",
      "diff Qtable_N - Qtable_N-1  2.117245252470216\n",
      "Loss : -235.34599817379254\n",
      "end while loop iteration :  21\n",
      "Episode 588/1000\n",
      "exploration_prob : 0.100\n",
      "stop episode because agent reach goal\n",
      "stop episode because agent reach goal\n",
      "diff Qtable_N - Qtable_N-1  0.009002270448289412\n",
      "Loss : -12.674180116570227\n",
      "end while loop iteration :  14\n",
      "Episode 589/1000\n",
      "exploration_prob : 0.100\n",
      "stop episode because agent reach goal\n",
      "diff Qtable_N - Qtable_N-1  0.012788086021791378\n",
      "Loss : -6.741719270622925\n",
      "end while loop iteration :  10\n",
      "Episode 590/1000\n",
      "exploration_prob : 0.100\n",
      "stop episode because agent reach goal\n",
      "stop episode because agent reach goal\n",
      "diff Qtable_N - Qtable_N-1  0.008842243693327978\n",
      "Loss : -10.950712274258386\n",
      "end while loop iteration :  14\n",
      "Episode 591/1000\n",
      "exploration_prob : 0.100\n",
      "stop episode because agent reach goal\n",
      "diff Qtable_N - Qtable_N-1  0.011509277419612274\n",
      "Loss : -6.741719270622925\n",
      "end while loop iteration :  10\n",
      "Episode 592/1000\n",
      "exploration_prob : 0.100\n",
      "stop episode because agent reach goal\n",
      "diff Qtable_N - Qtable_N-1  0.00571396729632867\n",
      "Loss : -6.509978321486641\n",
      "end while loop iteration :  13\n",
      "Episode 593/1000\n",
      "exploration_prob : 0.100\n",
      "stop episode because agent reach goal\n",
      "stop episode because agent reach goal\n",
      "diff Qtable_N - Qtable_N-1  0.0209425000297581\n",
      "Loss : -14.36322514026799\n",
      "end while loop iteration :  16\n",
      "Episode 594/1000\n",
      "exploration_prob : 0.100\n",
      "No action possible. Stop episode at 19th iterations\n",
      "Save last state even is out of bound\n",
      "Q table still growths\n",
      "Loss : -87.83946494127476\n",
      "end while loop iteration :  19\n",
      "Episode 595/1000\n",
      "exploration_prob : 0.100\n",
      "stop episode because agent reach goal\n",
      "diff Qtable_N - Qtable_N-1  0.010358349677651035\n",
      "Loss : -6.741719270622925\n",
      "end while loop iteration :  10\n",
      "Episode 596/1000\n",
      "exploration_prob : 0.100\n",
      "No action possible. Stop episode at 22th iterations\n",
      "Save last state even is out of bound\n",
      "diff Qtable_N - Qtable_N-1  1.9129457119291555\n",
      "Loss : -119.76232141447599\n",
      "end while loop iteration :  22\n",
      "Episode 597/1000\n",
      "exploration_prob : 0.100\n",
      "stop episode because agent reach goal\n",
      "diff Qtable_N - Qtable_N-1  0.009322514709885876\n",
      "Loss : -6.741719270622925\n",
      "end while loop iteration :  10\n",
      "Episode 598/1000\n",
      "exploration_prob : 0.100\n",
      "stop episode because agent reach goal\n",
      "stop episode because agent reach goal\n",
      "Q table still growths\n",
      "Loss : -32.1157528486274\n",
      "end while loop iteration :  25\n",
      "Episode 599/1000\n",
      "exploration_prob : 0.100\n",
      "stop episode because agent reach goal\n",
      "diff Qtable_N - Qtable_N-1  0.008390263238897355\n",
      "Loss : -6.741719270622925\n",
      "end while loop iteration :  10\n",
      "Episode 600/1000\n",
      "exploration_prob : 0.100\n",
      "stop episode because agent reach goal\n",
      "diff Qtable_N - Qtable_N-1  0.007551236915007586\n",
      "Loss : -6.741719270622925\n",
      "end while loop iteration :  10\n",
      "Episode 601/1000\n",
      "exploration_prob : 0.100\n",
      "stop episode because agent reach goal\n",
      "diff Qtable_N - Qtable_N-1  0.006796113223506817\n",
      "Loss : -6.741719270622925\n",
      "end while loop iteration :  10\n",
      "Episode 602/1000\n",
      "exploration_prob : 0.100\n",
      "stop episode because agent reach goal\n",
      "stop episode because agent reach goal\n",
      "diff Qtable_N - Qtable_N-1  0.002351974321786049\n",
      "Loss : -19.255642366908745\n",
      "end while loop iteration :  14\n",
      "Episode 603/1000\n",
      "exploration_prob : 0.100\n",
      "No action possible. Stop episode at 28th iterations\n",
      "Save last state even is out of bound\n",
      "Q table still growths\n",
      "Loss : -366.51160699823845\n",
      "end while loop iteration :  28\n",
      "Episode 604/1000\n",
      "exploration_prob : 0.100\n",
      "stop episode because agent reach goal\n",
      "diff Qtable_N - Qtable_N-1  0.032257971425525056\n",
      "Loss : -6.182763896468927\n",
      "end while loop iteration :  12\n",
      "Episode 605/1000\n",
      "exploration_prob : 0.100\n",
      "No action possible. Stop episode at 16th iterations\n",
      "Save last state even is out of bound\n",
      "diff Qtable_N - Qtable_N-1  5.678205364343867\n",
      "Loss : -100.74161877482283\n",
      "end while loop iteration :  16\n",
      "Episode 606/1000\n",
      "exploration_prob : 0.100\n",
      "stop episode because agent reach goal\n",
      "diff Qtable_N - Qtable_N-1  0.006116501901156202\n",
      "Loss : -6.741719270622925\n",
      "end while loop iteration :  10\n",
      "Episode 607/1000\n",
      "exploration_prob : 0.100\n",
      "stop episode because agent reach goal\n",
      "Q table still growths\n",
      "Loss : -106.57336868410668\n",
      "end while loop iteration :  25\n",
      "Episode 608/1000\n",
      "exploration_prob : 0.100\n",
      "stop episode because agent reach goal\n",
      "diff Qtable_N - Qtable_N-1  0.029032174282972556\n",
      "Loss : -6.182763896468927\n",
      "end while loop iteration :  12\n",
      "Episode 609/1000\n",
      "exploration_prob : 0.100\n",
      "stop episode because agent reach goal\n",
      "diff Qtable_N - Qtable_N-1  0.005504851711040537\n",
      "Loss : -6.741719270622925\n",
      "end while loop iteration :  10\n",
      "Episode 610/1000\n",
      "exploration_prob : 0.100\n",
      "No action possible. Stop episode at 6th iterations\n",
      "Save last state even is out of bound\n",
      "diff Qtable_N - Qtable_N-1  0.30435142713714713\n",
      "Loss : -17.90392035482396\n",
      "end while loop iteration :  6\n",
      "Episode 611/1000\n",
      "exploration_prob : 0.100\n",
      "stop episode because agent reach goal\n",
      "diff Qtable_N - Qtable_N-1  0.004954366539936528\n",
      "Loss : -6.741719270622925\n",
      "end while loop iteration :  10\n",
      "Episode 612/1000\n",
      "exploration_prob : 0.100\n",
      "No action possible. Stop episode at 30th iterations\n",
      "Save last state even is out of bound\n",
      "Q table still growths\n",
      "Loss : -144.21564678404263\n",
      "end while loop iteration :  30\n",
      "Episode 613/1000\n",
      "exploration_prob : 0.100\n",
      "No action possible. Stop episode at 3th iterations\n",
      "Save last state even is out of bound\n",
      "diff Qtable_N - Qtable_N-1  0.28275608368288396\n",
      "Loss : -14.29134639316939\n",
      "end while loop iteration :  3\n",
      "Episode 614/1000\n",
      "exploration_prob : 0.100\n",
      "No action possible. Stop episode at 24th iterations\n",
      "Save last state even is out of bound\n",
      "Q table still growths\n",
      "Loss : -29.865419049430162\n",
      "end while loop iteration :  24\n",
      "Episode 615/1000\n",
      "exploration_prob : 0.100\n",
      "No action possible. Stop episode at 32th iterations\n",
      "Save last state even is out of bound\n",
      "Q table still growths\n",
      "Loss : -77.11613718982207\n",
      "end while loop iteration :  32\n",
      "Episode 616/1000\n",
      "exploration_prob : 0.100\n",
      "stop episode because agent reach goal\n",
      "diff Qtable_N - Qtable_N-1  0.004458929885942764\n",
      "Loss : -6.741719270622925\n",
      "end while loop iteration :  10\n",
      "Episode 617/1000\n",
      "exploration_prob : 0.100\n",
      "No action possible. Stop episode at 17th iterations\n",
      "Save last state even is out of bound\n",
      "diff Qtable_N - Qtable_N-1  8.766828526550189\n",
      "Loss : -57.90170450072472\n",
      "end while loop iteration :  17\n",
      "Episode 618/1000\n",
      "exploration_prob : 0.100\n",
      "No action possible. Stop episode at 11th iterations\n",
      "Save last state even is out of bound\n",
      "diff Qtable_N - Qtable_N-1  1.5145539165804653\n",
      "Loss : -44.82022828608888\n",
      "end while loop iteration :  11\n",
      "Episode 619/1000\n",
      "exploration_prob : 0.100\n",
      "stop episode because agent reach goal\n",
      "diff Qtable_N - Qtable_N-1  0.004013036897348554\n",
      "Loss : -6.741719270622925\n",
      "end while loop iteration :  10\n",
      "Episode 620/1000\n",
      "exploration_prob : 0.100\n",
      "stop episode because agent reach goal\n",
      "stop episode because agent reach goal\n",
      "diff Qtable_N - Qtable_N-1  0.014902180849678898\n",
      "Loss : -6.469735489049649\n",
      "end while loop iteration :  14\n",
      "Episode 621/1000\n",
      "exploration_prob : 0.100\n",
      "stop episode because agent reach goal\n",
      "diff Qtable_N - Qtable_N-1  0.0036117332076136544\n",
      "Loss : -6.741719270622925\n",
      "end while loop iteration :  10\n",
      "Episode 622/1000\n",
      "exploration_prob : 0.100\n",
      "stop episode because agent reach goal\n",
      "diff Qtable_N - Qtable_N-1  0.0032505598868523\n",
      "Loss : -6.741719270622925\n",
      "end while loop iteration :  10\n",
      "Episode 623/1000\n",
      "exploration_prob : 0.100\n",
      "No action possible. Stop episode at 18th iterations\n",
      "Save last state even is out of bound\n",
      "diff Qtable_N - Qtable_N-1  1.4744769481655513\n",
      "Loss : -102.83813507989993\n",
      "end while loop iteration :  18\n",
      "Episode 624/1000\n",
      "exploration_prob : 0.100\n",
      "stop episode because agent reach goal\n",
      "diff Qtable_N - Qtable_N-1  0.0029255038981670367\n",
      "Loss : -6.741719270622925\n",
      "end while loop iteration :  10\n",
      "Episode 625/1000\n",
      "exploration_prob : 0.100\n",
      "stop episode because agent reach goal\n",
      "stop episode because agent reach goal\n",
      "diff Qtable_N - Qtable_N-1  0.039302859599447654\n",
      "Loss : -34.762340185058115\n",
      "end while loop iteration :  16\n",
      "Episode 626/1000\n",
      "exploration_prob : 0.100\n",
      "stop episode because agent reach goal\n",
      "diff Qtable_N - Qtable_N-1  0.0026329535083503552\n",
      "Loss : -6.741719270622925\n",
      "end while loop iteration :  10\n",
      "Episode 627/1000\n",
      "exploration_prob : 0.100\n",
      "No action possible. Stop episode at 16th iterations\n",
      "Save last state even is out of bound\n",
      "Q table still growths\n",
      "Loss : -113.05526670573998\n",
      "end while loop iteration :  16\n",
      "Episode 628/1000\n",
      "exploration_prob : 0.100\n",
      "stop episode because agent reach goal\n",
      "diff Qtable_N - Qtable_N-1  0.002369658157515331\n",
      "Loss : -6.741719270622925\n",
      "end while loop iteration :  10\n",
      "Episode 629/1000\n",
      "exploration_prob : 0.100\n",
      "stop episode because agent reach goal\n",
      "diff Qtable_N - Qtable_N-1  0.002132692341763831\n",
      "Loss : -6.741719270622925\n",
      "end while loop iteration :  10\n",
      "Episode 630/1000\n",
      "exploration_prob : 0.100\n",
      "stop episode because agent reach goal\n",
      "stop episode because agent reach goal\n",
      "diff Qtable_N - Qtable_N-1  0.6038816444693402\n",
      "Loss : -14.226802747689147\n",
      "end while loop iteration :  35\n",
      "Episode 631/1000\n",
      "exploration_prob : 0.100\n",
      "stop episode because agent reach goal\n",
      "diff Qtable_N - Qtable_N-1  0.038639271504660316\n",
      "Loss : -6.674816674593676\n",
      "end while loop iteration :  21\n",
      "Episode 632/1000\n",
      "exploration_prob : 0.100\n",
      "stop episode because agent reach goal\n",
      "diff Qtable_N - Qtable_N-1  0.0019194231075874146\n",
      "Loss : -6.741719270622925\n",
      "end while loop iteration :  10\n",
      "Episode 633/1000\n",
      "exploration_prob : 0.100\n",
      "stop episode because agent reach goal\n",
      "diff Qtable_N - Qtable_N-1  0.056470682853199554\n",
      "Loss : -9.77935656612143\n",
      "end while loop iteration :  25\n",
      "Episode 634/1000\n",
      "exploration_prob : 0.100\n",
      "stop episode because agent reach goal\n",
      "diff Qtable_N - Qtable_N-1  0.0017274807968287176\n",
      "Loss : -6.741719270622925\n",
      "end while loop iteration :  10\n",
      "Episode 635/1000\n",
      "exploration_prob : 0.100\n",
      "No action possible. Stop episode at 18th iterations\n",
      "Save last state even is out of bound\n",
      "diff Qtable_N - Qtable_N-1  0.7843110095131487\n",
      "Loss : -35.60077576306621\n",
      "end while loop iteration :  18\n",
      "Episode 636/1000\n",
      "exploration_prob : 0.100\n",
      "stop episode because agent reach goal\n",
      "diff Qtable_N - Qtable_N-1  0.0015547327171457903\n",
      "Loss : -6.741719270622925\n",
      "end while loop iteration :  10\n",
      "Episode 637/1000\n",
      "exploration_prob : 0.100\n",
      "stop episode because agent reach goal\n",
      "diff Qtable_N - Qtable_N-1  0.00333261007029767\n",
      "Loss : -6.509978321486641\n",
      "end while loop iteration :  13\n",
      "Episode 638/1000\n",
      "exploration_prob : 0.100\n",
      "stop episode because agent reach goal\n",
      "diff Qtable_N - Qtable_N-1  0.001399259445431289\n",
      "Loss : -6.741719270622925\n",
      "end while loop iteration :  10\n",
      "Episode 639/1000\n",
      "exploration_prob : 0.100\n",
      "stop episode because agent reach goal\n",
      "diff Qtable_N - Qtable_N-1  0.002999349063267931\n",
      "Loss : -6.509978321486641\n",
      "end while loop iteration :  13\n",
      "Episode 640/1000\n",
      "exploration_prob : 0.100\n",
      "stop episode because agent reach goal\n",
      "diff Qtable_N - Qtable_N-1  0.0012593335008881379\n",
      "Loss : -6.741719270622925\n",
      "end while loop iteration :  10\n",
      "Episode 641/1000\n",
      "exploration_prob : 0.100\n",
      "No action possible. Stop episode at 26th iterations\n",
      "Save last state even is out of bound\n",
      "Q table still growths\n",
      "Loss : -57.04342507865867\n",
      "end while loop iteration :  26\n",
      "Episode 642/1000\n",
      "exploration_prob : 0.100\n",
      "stop episode because agent reach goal\n",
      "diff Qtable_N - Qtable_N-1  0.001133400150799324\n",
      "Loss : -6.741719270622925\n",
      "end while loop iteration :  10\n",
      "Episode 643/1000\n",
      "exploration_prob : 0.100\n",
      "stop episode because agent reach goal\n",
      "diff Qtable_N - Qtable_N-1  0.001020060135719314\n",
      "Loss : -6.741719270622925\n",
      "end while loop iteration :  10\n",
      "Episode 644/1000\n",
      "exploration_prob : 0.100\n",
      "stop episode because agent reach goal\n",
      "stop episode because agent reach goal\n",
      "diff Qtable_N - Qtable_N-1  0.01827728379481086\n",
      "Loss : -7.478899909534824\n",
      "end while loop iteration :  14\n",
      "Episode 645/1000\n",
      "exploration_prob : 0.100\n",
      "stop episode because agent reach goal\n",
      "diff Qtable_N - Qtable_N-1  0.0009180541221474048\n",
      "Loss : -6.741719270622925\n",
      "end while loop iteration :  10\n",
      "Episode 646/1000\n",
      "exploration_prob : 0.100\n",
      "stop episode because agent reach goal\n",
      "stop episode because agent reach goal\n",
      "stop episode because agent reach goal\n",
      "diff Qtable_N - Qtable_N-1  0.027803051584358553\n",
      "Loss : -7.726647679116767\n",
      "end while loop iteration :  11\n",
      "Episode 647/1000\n",
      "exploration_prob : 0.100\n",
      "No action possible. Stop episode at 19th iterations\n",
      "Save last state even is out of bound\n",
      "diff Qtable_N - Qtable_N-1  1.310851055178922\n",
      "Loss : -171.78322201769836\n",
      "end while loop iteration :  19\n",
      "Episode 648/1000\n",
      "exploration_prob : 0.100\n",
      "stop episode because agent reach goal\n",
      "diff Qtable_N - Qtable_N-1  0.026980823382515062\n",
      "Loss : -6.741719270622925\n",
      "end while loop iteration :  10\n",
      "Episode 649/1000\n",
      "exploration_prob : 0.100\n",
      "stop episode because agent reach goal\n",
      "diff Qtable_N - Qtable_N-1  0.024282741044263534\n",
      "Loss : -6.741719270622925\n",
      "end while loop iteration :  10\n",
      "Episode 650/1000\n",
      "exploration_prob : 0.100\n",
      "stop episode because agent reach goal\n",
      "diff Qtable_N - Qtable_N-1  0.02185446693983717\n",
      "Loss : -6.741719270622925\n",
      "end while loop iteration :  10\n",
      "Episode 651/1000\n",
      "exploration_prob : 0.100\n",
      "stop episode because agent reach goal\n",
      "diff Qtable_N - Qtable_N-1  0.019669020245853486\n",
      "Loss : -6.741719270622925\n",
      "end while loop iteration :  10\n",
      "Episode 652/1000\n",
      "exploration_prob : 0.100\n",
      "stop episode because agent reach goal\n",
      "diff Qtable_N - Qtable_N-1  0.017702118221268104\n",
      "Loss : -6.741719270622925\n",
      "end while loop iteration :  10\n",
      "Episode 653/1000\n",
      "exploration_prob : 0.100\n",
      "stop episode because agent reach goal\n",
      "diff Qtable_N - Qtable_N-1  0.015931906399141327\n",
      "Loss : -6.741719270622925\n",
      "end while loop iteration :  10\n",
      "Look like nothing to learn anymore, stop training\n"
     ]
    }
   ],
   "source": [
    "RL.q_learning()"
   ]
  },
  {
   "cell_type": "code",
   "execution_count": 9,
   "id": "5da876bf",
   "metadata": {},
   "outputs": [
    {
     "data": {
      "image/png": "[encoded data removed]",
      "text/plain": [
       "<Figure size 640x480 with 1 Axes>"
      ]
     },
     "metadata": {},
     "output_type": "display_data"
    },
    {
     "data": {
      "image/png": "[encoded data removed]",
      "text/plain": [
       "<Figure size 640x480 with 1 Axes>"
      ]
     },
     "metadata": {},
     "output_type": "display_data"
    }
   ],
   "source": [
    "RL.plot_convergence()\n",
    "RL.plot_convergence(len(RL.loss_episodes) -50)"
   ]
  },
  {
   "cell_type": "code",
   "execution_count": 16,
   "id": "32fd3427",
   "metadata": {},
   "outputs": [
    {
     "data": {
      "text/plain": [
       "{'pos_y': [175.0],\n",
       " 'speed_y': [0.0],\n",
       " 'weight_rocket': [305],\n",
       " 'booster': [0.0],\n",
       " 'pos_x': [140.0],\n",
       " 'angle': [0.0],\n",
       " 'speed_x': [0.0],\n",
       " 'alpha': [0.0],\n",
       " 'acceleration_x': [0.0],\n",
       " 'm_fuel': [300],\n",
       " 'acceleration_y': [0.0],\n",
       " 'futur_pos_x': [75.0],\n",
       " 'futur_pos_y': [175.0],\n",
       " 'weight_dry_rocket': [5],\n",
       " 'G': [1.62],\n",
       " 'm_fuel_ini': [300.0],\n",
       " 'pos_x_star': [140.0],\n",
       " 'pos_y_star': [0.0],\n",
       " 'pos_x_ini': [75.0],\n",
       " 'pos_y_ini': [175.0],\n",
       " 'upper_boundary': [0.0],\n",
       " 'lower_boundary': [0.0],\n",
       " 'distance_y_reward': [1.0],\n",
       " 'speed_y_reward': [0.0],\n",
       " 'ratio_fuel': [1.0],\n",
       " 'dt': [3],\n",
       " 'time': [0],\n",
       " 'acceleration_limit_y': [10],\n",
       " 'speed_limit_y': [5]}"
      ]
     },
     "execution_count": 16,
     "metadata": {},
     "output_type": "execute_result"
    }
   ],
   "source": [
    "env.json[\"initial_values\"]"
   ]
  },
  {
   "cell_type": "code",
   "execution_count": null,
   "id": "b5e8f740",
   "metadata": {},
   "outputs": [
    {
     "data": {
      "text/plain": [
       "{'pos_y': array([175.        , 160.42      , 140.11245902, 123.07737705,\n",
       "        109.61483745, 100.03518506,  85.18587749,  65.23025414,\n",
       "         49.81117214,  39.2731291 ,  23.97326787,   4.09340665]),\n",
       " 'speed_y': array([ 0.        , -4.86      , -3.81836066, -2.67836066, -1.43666574,\n",
       "        -0.08976919, -4.94976919, -3.49397972, -1.92540829, -0.23995374,\n",
       "        -5.09995374, -3.29328707]),\n",
       " 'weight_rocket': array([305., 305., 300., 295., 290., 285., 285., 280., 275., 270., 270.,\n",
       "        265.])}"
      ]
     },
     "execution_count": 14,
     "metadata": {},
     "output_type": "execute_result"
    }
   ],
   "source": []
  },
  {
   "cell_type": "code",
   "execution_count": 15,
   "id": "074dd73c",
   "metadata": {},
   "outputs": [
    {
     "data": {
      "text/html": [
       "<div>\n",
       "<style scoped>\n",
       "    .dataframe tbody tr th:only-of-type {\n",
       "        vertical-align: middle;\n",
       "    }\n",
       "\n",
       "    .dataframe tbody tr th {\n",
       "        vertical-align: top;\n",
       "    }\n",
       "\n",
       "    .dataframe thead th {\n",
       "        text-align: right;\n",
       "    }\n",
       "</style>\n",
       "<table border=\"1\" class=\"dataframe\">\n",
       "  <thead>\n",
       "    <tr style=\"text-align: right;\">\n",
       "      <th></th>\n",
       "      <th>pos_y</th>\n",
       "      <th>speed_y</th>\n",
       "      <th>acceleration_y</th>\n",
       "      <th>m_fuel</th>\n",
       "    </tr>\n",
       "  </thead>\n",
       "  <tbody>\n",
       "    <tr>\n",
       "      <th>0</th>\n",
       "      <td>175.000000</td>\n",
       "      <td>0.000000</td>\n",
       "      <td>0.000000</td>\n",
       "      <td>300.0</td>\n",
       "    </tr>\n",
       "    <tr>\n",
       "      <th>1</th>\n",
       "      <td>160.420000</td>\n",
       "      <td>-4.860000</td>\n",
       "      <td>-1.620000</td>\n",
       "      <td>300.0</td>\n",
       "    </tr>\n",
       "    <tr>\n",
       "      <th>2</th>\n",
       "      <td>140.112459</td>\n",
       "      <td>-3.818361</td>\n",
       "      <td>0.347213</td>\n",
       "      <td>295.0</td>\n",
       "    </tr>\n",
       "    <tr>\n",
       "      <th>3</th>\n",
       "      <td>123.077377</td>\n",
       "      <td>-2.678361</td>\n",
       "      <td>0.380000</td>\n",
       "      <td>290.0</td>\n",
       "    </tr>\n",
       "    <tr>\n",
       "      <th>4</th>\n",
       "      <td>109.614837</td>\n",
       "      <td>-1.436666</td>\n",
       "      <td>0.413898</td>\n",
       "      <td>285.0</td>\n",
       "    </tr>\n",
       "    <tr>\n",
       "      <th>5</th>\n",
       "      <td>100.035185</td>\n",
       "      <td>-0.089769</td>\n",
       "      <td>0.448966</td>\n",
       "      <td>280.0</td>\n",
       "    </tr>\n",
       "    <tr>\n",
       "      <th>6</th>\n",
       "      <td>85.185877</td>\n",
       "      <td>-4.949769</td>\n",
       "      <td>-1.620000</td>\n",
       "      <td>280.0</td>\n",
       "    </tr>\n",
       "    <tr>\n",
       "      <th>7</th>\n",
       "      <td>65.230254</td>\n",
       "      <td>-3.493980</td>\n",
       "      <td>0.485263</td>\n",
       "      <td>275.0</td>\n",
       "    </tr>\n",
       "    <tr>\n",
       "      <th>8</th>\n",
       "      <td>49.811172</td>\n",
       "      <td>-1.925408</td>\n",
       "      <td>0.522857</td>\n",
       "      <td>270.0</td>\n",
       "    </tr>\n",
       "    <tr>\n",
       "      <th>9</th>\n",
       "      <td>39.273129</td>\n",
       "      <td>-0.239954</td>\n",
       "      <td>0.561818</td>\n",
       "      <td>265.0</td>\n",
       "    </tr>\n",
       "    <tr>\n",
       "      <th>10</th>\n",
       "      <td>23.973268</td>\n",
       "      <td>-5.099954</td>\n",
       "      <td>-1.620000</td>\n",
       "      <td>265.0</td>\n",
       "    </tr>\n",
       "    <tr>\n",
       "      <th>11</th>\n",
       "      <td>4.093407</td>\n",
       "      <td>-3.293287</td>\n",
       "      <td>0.602222</td>\n",
       "      <td>260.0</td>\n",
       "    </tr>\n",
       "  </tbody>\n",
       "</table>\n",
       "</div>"
      ],
      "text/plain": [
       "         pos_y   speed_y  acceleration_y  m_fuel\n",
       "0   175.000000  0.000000        0.000000   300.0\n",
       "1   160.420000 -4.860000       -1.620000   300.0\n",
       "2   140.112459 -3.818361        0.347213   295.0\n",
       "3   123.077377 -2.678361        0.380000   290.0\n",
       "4   109.614837 -1.436666        0.413898   285.0\n",
       "5   100.035185 -0.089769        0.448966   280.0\n",
       "6    85.185877 -4.949769       -1.620000   280.0\n",
       "7    65.230254 -3.493980        0.485263   275.0\n",
       "8    49.811172 -1.925408        0.522857   270.0\n",
       "9    39.273129 -0.239954        0.561818   265.0\n",
       "10   23.973268 -5.099954       -1.620000   265.0\n",
       "11    4.093407 -3.293287        0.602222   260.0"
      ]
     },
     "execution_count": 15,
     "metadata": {},
     "output_type": "execute_result"
    }
   ],
   "source": [
    "pd.DataFrame(RL.env.all_states([\"pos_y\", \"speed_y\", \"acceleration_y\", \"m_fuel\"]))"
   ]
  },
  {
   "cell_type": "markdown",
   "id": "85511f9d",
   "metadata": {},
   "source": [
    "# <span style=\"color:orange\">Optimal trajectory</span>\n",
    "\n",
    "Lets see how the rocket evolves after train."
   ]
  },
  {
   "cell_type": "code",
   "execution_count": 11,
   "id": "5fd9c634",
   "metadata": {},
   "outputs": [
    {
     "name": "stdout",
     "output_type": "stream",
     "text": [
      "stop: reach goal\n"
     ]
    }
   ],
   "source": [
    "# load policy table\n",
    "policy = RL.q_table.copy().replace(0, np.nan)\n",
    "# load environnment\n",
    "env = Environment(JOSN_file, check_model = False)\n",
    "state = env.state_for_q_table()\n",
    "flag_continue = True\n",
    "while flag_continue:\n",
    "    # control while loop\n",
    "    if not policy.index.isin([str(state)]).any():\n",
    "        flag_continue = False\n",
    "        print(\"stop: no moore state\")\n",
    "        continue\n",
    "    elif env.pos_y[-1] < 0:\n",
    "        print(\"stop: reach goal\")\n",
    "        env.delete_last_states()\n",
    "        flag_continue = False\n",
    "        continue\n",
    "    action = RL.call_choose_action(state, 0)\n",
    "    _, rewards, done, problem, info = env.step(action)\n",
    "    state = env.state_for_q_table()\n",
    "\n",
    "dt = pd.DataFrame(env.all_states())"
   ]
  },
  {
   "cell_type": "code",
   "execution_count": 12,
   "id": "5731bcdd",
   "metadata": {},
   "outputs": [
    {
     "data": {
      "text/html": [
       "<div>\n",
       "<style scoped>\n",
       "    .dataframe tbody tr th:only-of-type {\n",
       "        vertical-align: middle;\n",
       "    }\n",
       "\n",
       "    .dataframe tbody tr th {\n",
       "        vertical-align: top;\n",
       "    }\n",
       "\n",
       "    .dataframe thead th {\n",
       "        text-align: right;\n",
       "    }\n",
       "</style>\n",
       "<table border=\"1\" class=\"dataframe\">\n",
       "  <thead>\n",
       "    <tr style=\"text-align: right;\">\n",
       "      <th></th>\n",
       "      <th>pos_y</th>\n",
       "      <th>speed_y</th>\n",
       "      <th>weight_rocket</th>\n",
       "      <th>booster</th>\n",
       "      <th>pos_x</th>\n",
       "      <th>angle</th>\n",
       "      <th>speed_x</th>\n",
       "      <th>alpha</th>\n",
       "      <th>acceleration_x</th>\n",
       "      <th>m_fuel</th>\n",
       "      <th>...</th>\n",
       "      <th>pos_y_ini</th>\n",
       "      <th>upper_boundary</th>\n",
       "      <th>lower_boundary</th>\n",
       "      <th>distance_y_reward</th>\n",
       "      <th>speed_y_reward</th>\n",
       "      <th>ratio_fuel</th>\n",
       "      <th>dt</th>\n",
       "      <th>time</th>\n",
       "      <th>acceleration_limit_y</th>\n",
       "      <th>speed_limit_y</th>\n",
       "    </tr>\n",
       "  </thead>\n",
       "  <tbody>\n",
       "    <tr>\n",
       "      <th>0</th>\n",
       "      <td>175.000000</td>\n",
       "      <td>0.000000</td>\n",
       "      <td>305.0</td>\n",
       "      <td>0.0</td>\n",
       "      <td>140.0</td>\n",
       "      <td>0.0</td>\n",
       "      <td>0.0</td>\n",
       "      <td>0.0</td>\n",
       "      <td>0.0</td>\n",
       "      <td>300.0</td>\n",
       "      <td>...</td>\n",
       "      <td>175.0</td>\n",
       "      <td>0.0</td>\n",
       "      <td>0.0</td>\n",
       "      <td>1.000000</td>\n",
       "      <td>0.000000</td>\n",
       "      <td>1.000000</td>\n",
       "      <td>3</td>\n",
       "      <td>0</td>\n",
       "      <td>10</td>\n",
       "      <td>5</td>\n",
       "    </tr>\n",
       "    <tr>\n",
       "      <th>1</th>\n",
       "      <td>160.420000</td>\n",
       "      <td>-4.860000</td>\n",
       "      <td>305.0</td>\n",
       "      <td>0.0</td>\n",
       "      <td>140.0</td>\n",
       "      <td>0.0</td>\n",
       "      <td>0.0</td>\n",
       "      <td>0.0</td>\n",
       "      <td>0.0</td>\n",
       "      <td>300.0</td>\n",
       "      <td>...</td>\n",
       "      <td>175.0</td>\n",
       "      <td>0.0</td>\n",
       "      <td>0.0</td>\n",
       "      <td>0.916686</td>\n",
       "      <td>0.000000</td>\n",
       "      <td>1.000000</td>\n",
       "      <td>3</td>\n",
       "      <td>3</td>\n",
       "      <td>10</td>\n",
       "      <td>5</td>\n",
       "    </tr>\n",
       "    <tr>\n",
       "      <th>2</th>\n",
       "      <td>140.112459</td>\n",
       "      <td>-3.818361</td>\n",
       "      <td>300.0</td>\n",
       "      <td>1.0</td>\n",
       "      <td>140.0</td>\n",
       "      <td>0.0</td>\n",
       "      <td>0.0</td>\n",
       "      <td>0.0</td>\n",
       "      <td>0.0</td>\n",
       "      <td>295.0</td>\n",
       "      <td>...</td>\n",
       "      <td>175.0</td>\n",
       "      <td>0.0</td>\n",
       "      <td>0.0</td>\n",
       "      <td>0.800643</td>\n",
       "      <td>0.000000</td>\n",
       "      <td>0.983333</td>\n",
       "      <td>3</td>\n",
       "      <td>6</td>\n",
       "      <td>10</td>\n",
       "      <td>5</td>\n",
       "    </tr>\n",
       "    <tr>\n",
       "      <th>3</th>\n",
       "      <td>123.077377</td>\n",
       "      <td>-2.678361</td>\n",
       "      <td>295.0</td>\n",
       "      <td>1.0</td>\n",
       "      <td>140.0</td>\n",
       "      <td>0.0</td>\n",
       "      <td>0.0</td>\n",
       "      <td>0.0</td>\n",
       "      <td>0.0</td>\n",
       "      <td>290.0</td>\n",
       "      <td>...</td>\n",
       "      <td>175.0</td>\n",
       "      <td>0.0</td>\n",
       "      <td>0.0</td>\n",
       "      <td>0.703299</td>\n",
       "      <td>0.000000</td>\n",
       "      <td>0.966667</td>\n",
       "      <td>3</td>\n",
       "      <td>9</td>\n",
       "      <td>10</td>\n",
       "      <td>5</td>\n",
       "    </tr>\n",
       "    <tr>\n",
       "      <th>4</th>\n",
       "      <td>109.614837</td>\n",
       "      <td>-1.436666</td>\n",
       "      <td>290.0</td>\n",
       "      <td>1.0</td>\n",
       "      <td>140.0</td>\n",
       "      <td>0.0</td>\n",
       "      <td>0.0</td>\n",
       "      <td>0.0</td>\n",
       "      <td>0.0</td>\n",
       "      <td>285.0</td>\n",
       "      <td>...</td>\n",
       "      <td>175.0</td>\n",
       "      <td>0.0</td>\n",
       "      <td>0.0</td>\n",
       "      <td>0.626370</td>\n",
       "      <td>0.000000</td>\n",
       "      <td>0.950000</td>\n",
       "      <td>3</td>\n",
       "      <td>12</td>\n",
       "      <td>10</td>\n",
       "      <td>5</td>\n",
       "    </tr>\n",
       "    <tr>\n",
       "      <th>5</th>\n",
       "      <td>100.035185</td>\n",
       "      <td>-0.089769</td>\n",
       "      <td>285.0</td>\n",
       "      <td>1.0</td>\n",
       "      <td>140.0</td>\n",
       "      <td>0.0</td>\n",
       "      <td>0.0</td>\n",
       "      <td>0.0</td>\n",
       "      <td>0.0</td>\n",
       "      <td>280.0</td>\n",
       "      <td>...</td>\n",
       "      <td>175.0</td>\n",
       "      <td>0.0</td>\n",
       "      <td>0.0</td>\n",
       "      <td>0.571630</td>\n",
       "      <td>0.000000</td>\n",
       "      <td>0.933333</td>\n",
       "      <td>3</td>\n",
       "      <td>15</td>\n",
       "      <td>10</td>\n",
       "      <td>5</td>\n",
       "    </tr>\n",
       "    <tr>\n",
       "      <th>6</th>\n",
       "      <td>85.185877</td>\n",
       "      <td>-4.949769</td>\n",
       "      <td>285.0</td>\n",
       "      <td>0.0</td>\n",
       "      <td>140.0</td>\n",
       "      <td>0.0</td>\n",
       "      <td>0.0</td>\n",
       "      <td>0.0</td>\n",
       "      <td>0.0</td>\n",
       "      <td>280.0</td>\n",
       "      <td>...</td>\n",
       "      <td>175.0</td>\n",
       "      <td>0.0</td>\n",
       "      <td>0.0</td>\n",
       "      <td>0.486776</td>\n",
       "      <td>0.000000</td>\n",
       "      <td>0.933333</td>\n",
       "      <td>3</td>\n",
       "      <td>18</td>\n",
       "      <td>10</td>\n",
       "      <td>5</td>\n",
       "    </tr>\n",
       "    <tr>\n",
       "      <th>7</th>\n",
       "      <td>65.230254</td>\n",
       "      <td>-3.493980</td>\n",
       "      <td>280.0</td>\n",
       "      <td>1.0</td>\n",
       "      <td>140.0</td>\n",
       "      <td>0.0</td>\n",
       "      <td>0.0</td>\n",
       "      <td>0.0</td>\n",
       "      <td>0.0</td>\n",
       "      <td>275.0</td>\n",
       "      <td>...</td>\n",
       "      <td>175.0</td>\n",
       "      <td>0.0</td>\n",
       "      <td>0.0</td>\n",
       "      <td>0.372744</td>\n",
       "      <td>0.000000</td>\n",
       "      <td>0.916667</td>\n",
       "      <td>3</td>\n",
       "      <td>21</td>\n",
       "      <td>10</td>\n",
       "      <td>5</td>\n",
       "    </tr>\n",
       "    <tr>\n",
       "      <th>8</th>\n",
       "      <td>49.811172</td>\n",
       "      <td>-1.925408</td>\n",
       "      <td>275.0</td>\n",
       "      <td>1.0</td>\n",
       "      <td>140.0</td>\n",
       "      <td>0.0</td>\n",
       "      <td>0.0</td>\n",
       "      <td>0.0</td>\n",
       "      <td>0.0</td>\n",
       "      <td>270.0</td>\n",
       "      <td>...</td>\n",
       "      <td>175.0</td>\n",
       "      <td>0.0</td>\n",
       "      <td>0.0</td>\n",
       "      <td>0.284635</td>\n",
       "      <td>0.000000</td>\n",
       "      <td>0.900000</td>\n",
       "      <td>3</td>\n",
       "      <td>24</td>\n",
       "      <td>10</td>\n",
       "      <td>5</td>\n",
       "    </tr>\n",
       "    <tr>\n",
       "      <th>9</th>\n",
       "      <td>39.273129</td>\n",
       "      <td>-0.239954</td>\n",
       "      <td>270.0</td>\n",
       "      <td>1.0</td>\n",
       "      <td>140.0</td>\n",
       "      <td>0.0</td>\n",
       "      <td>0.0</td>\n",
       "      <td>0.0</td>\n",
       "      <td>0.0</td>\n",
       "      <td>265.0</td>\n",
       "      <td>...</td>\n",
       "      <td>175.0</td>\n",
       "      <td>0.0</td>\n",
       "      <td>0.0</td>\n",
       "      <td>0.224418</td>\n",
       "      <td>0.000000</td>\n",
       "      <td>0.883333</td>\n",
       "      <td>3</td>\n",
       "      <td>27</td>\n",
       "      <td>10</td>\n",
       "      <td>5</td>\n",
       "    </tr>\n",
       "    <tr>\n",
       "      <th>10</th>\n",
       "      <td>23.973268</td>\n",
       "      <td>-5.099954</td>\n",
       "      <td>270.0</td>\n",
       "      <td>0.0</td>\n",
       "      <td>140.0</td>\n",
       "      <td>0.0</td>\n",
       "      <td>0.0</td>\n",
       "      <td>0.0</td>\n",
       "      <td>0.0</td>\n",
       "      <td>265.0</td>\n",
       "      <td>...</td>\n",
       "      <td>175.0</td>\n",
       "      <td>0.0</td>\n",
       "      <td>0.0</td>\n",
       "      <td>0.136990</td>\n",
       "      <td>-0.054887</td>\n",
       "      <td>0.883333</td>\n",
       "      <td>3</td>\n",
       "      <td>30</td>\n",
       "      <td>10</td>\n",
       "      <td>5</td>\n",
       "    </tr>\n",
       "  </tbody>\n",
       "</table>\n",
       "<p>11 rows × 29 columns</p>\n",
       "</div>"
      ],
      "text/plain": [
       "         pos_y   speed_y  weight_rocket  booster  pos_x  angle  speed_x  \\\n",
       "0   175.000000  0.000000          305.0      0.0  140.0    0.0      0.0   \n",
       "1   160.420000 -4.860000          305.0      0.0  140.0    0.0      0.0   \n",
       "2   140.112459 -3.818361          300.0      1.0  140.0    0.0      0.0   \n",
       "3   123.077377 -2.678361          295.0      1.0  140.0    0.0      0.0   \n",
       "4   109.614837 -1.436666          290.0      1.0  140.0    0.0      0.0   \n",
       "5   100.035185 -0.089769          285.0      1.0  140.0    0.0      0.0   \n",
       "6    85.185877 -4.949769          285.0      0.0  140.0    0.0      0.0   \n",
       "7    65.230254 -3.493980          280.0      1.0  140.0    0.0      0.0   \n",
       "8    49.811172 -1.925408          275.0      1.0  140.0    0.0      0.0   \n",
       "9    39.273129 -0.239954          270.0      1.0  140.0    0.0      0.0   \n",
       "10   23.973268 -5.099954          270.0      0.0  140.0    0.0      0.0   \n",
       "\n",
       "    alpha  acceleration_x  m_fuel  ...  pos_y_ini  upper_boundary  \\\n",
       "0     0.0             0.0   300.0  ...      175.0             0.0   \n",
       "1     0.0             0.0   300.0  ...      175.0             0.0   \n",
       "2     0.0             0.0   295.0  ...      175.0             0.0   \n",
       "3     0.0             0.0   290.0  ...      175.0             0.0   \n",
       "4     0.0             0.0   285.0  ...      175.0             0.0   \n",
       "5     0.0             0.0   280.0  ...      175.0             0.0   \n",
       "6     0.0             0.0   280.0  ...      175.0             0.0   \n",
       "7     0.0             0.0   275.0  ...      175.0             0.0   \n",
       "8     0.0             0.0   270.0  ...      175.0             0.0   \n",
       "9     0.0             0.0   265.0  ...      175.0             0.0   \n",
       "10    0.0             0.0   265.0  ...      175.0             0.0   \n",
       "\n",
       "    lower_boundary  distance_y_reward  speed_y_reward  ratio_fuel  dt  time  \\\n",
       "0              0.0           1.000000        0.000000    1.000000   3     0   \n",
       "1              0.0           0.916686        0.000000    1.000000   3     3   \n",
       "2              0.0           0.800643        0.000000    0.983333   3     6   \n",
       "3              0.0           0.703299        0.000000    0.966667   3     9   \n",
       "4              0.0           0.626370        0.000000    0.950000   3    12   \n",
       "5              0.0           0.571630        0.000000    0.933333   3    15   \n",
       "6              0.0           0.486776        0.000000    0.933333   3    18   \n",
       "7              0.0           0.372744        0.000000    0.916667   3    21   \n",
       "8              0.0           0.284635        0.000000    0.900000   3    24   \n",
       "9              0.0           0.224418        0.000000    0.883333   3    27   \n",
       "10             0.0           0.136990       -0.054887    0.883333   3    30   \n",
       "\n",
       "    acceleration_limit_y  speed_limit_y  \n",
       "0                     10              5  \n",
       "1                     10              5  \n",
       "2                     10              5  \n",
       "3                     10              5  \n",
       "4                     10              5  \n",
       "5                     10              5  \n",
       "6                     10              5  \n",
       "7                     10              5  \n",
       "8                     10              5  \n",
       "9                     10              5  \n",
       "10                    10              5  \n",
       "\n",
       "[11 rows x 29 columns]"
      ]
     },
     "execution_count": 12,
     "metadata": {},
     "output_type": "execute_result"
    }
   ],
   "source": [
    "dt"
   ]
  }
 ],
 "metadata": {
  "kernelspec": {
   "display_name": "venv",
   "language": "python",
   "name": "python3"
  },
  "language_info": {
   "codemirror_mode": {
    "name": "ipython",
    "version": 3
   },
   "file_extension": ".py",
   "mimetype": "text/x-python",
   "name": "python",
   "nbconvert_exporter": "python",
   "pygments_lexer": "ipython3",
   "version": "3.10.11"
  }
 },
 "nbformat": 4,
 "nbformat_minor": 5
}

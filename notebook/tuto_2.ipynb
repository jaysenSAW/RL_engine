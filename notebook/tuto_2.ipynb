{
 "cells": [
  {
   "cell_type": "code",
   "execution_count": 1,
   "id": "c30a7c5c-5ee2-4210-aec8-521c672a54ca",
   "metadata": {},
   "outputs": [],
   "source": [
    "import matplotlib.pyplot as plt\n",
    "import numpy as np\n",
    "import sys\n",
    "import warnings\n",
    "import plotly.express as px \n",
    "from plotly.subplots import make_subplots\n",
    "import plotly.graph_objects as go\n",
    "warnings.simplefilter(action='ignore', category=FutureWarning)\n",
    "import pandas as pd\n",
    "import plotly.express as px \n",
    "import pickle \n",
    "sys.path.insert(1, \"../src/utils/\")\n",
    "from agent import Environment\n",
    "from Q_learning import QLearningTrainer\n",
    "sys.path.insert(1, \"plotly_graph/\")\n",
    "from functions4tuto import rocket_simulation, plot_rocket_altitude, plot_reward_rocket_monoagent\n",
    "JOSN_file = \"rocket_tuto_2.json\""
   ]
  },
  {
   "cell_type": "markdown",
   "id": "99ffc6d0",
   "metadata": {},
   "source": [
    "# <span style=\"color:orange\">Input file</span>\n",
    "\n",
    "In the previous tutorial we defined our environment and designed a reward function. The system is a rocket that falling from a starting point and the goal is to reach a target with a minimum speed and maximize fuel.\n",
    "Variable's names, their initial values and boundaries limit are defined into a JSON file (or can be given directly into a dictionary)\n",
    "\n",
    "## <span style=\"color:orange\">Variables</span>\n",
    "\n",
    "Variables can be categorize into 3 classes:\n",
    "* `states_variables` : variable used as coordinate to describe our system\n",
    "* `agent_variables` : variable use as agent. Their values are changed for each iteration\n",
    "* 3th category are other variables. They are not used to describe our environment but they can be usefull to monitor information or to compute intermediate value. \n",
    "  There is no key for this kind of variable. Consider them as variables present into `initial_values` field and that are not `states_variables` and `agent_variables`\n",
    "\n",
    "You can access to the name of state and agent variables, with the attibute `states_variables` and `agent_variables`.\n",
    "\n",
    "    \"states_variables\" : [\"pos_y\", \"acceleration_y\", \"speed_y\"],\n",
    "    \"agent_variables\" : [\"booster\"]\n",
    "\n",
    "## <span style=\"color:orange\">Initial system</span>\n",
    "\n",
    "After to name `states_variables` and `agent_variables`, next step is to define initial state.\n",
    "It will be use as environment coordinates at the beginning of each episode. Initially, it comprises \n",
    "the values of state_variables, followed by agent_variables, and finally other variables that are \n",
    "not used for the system's coordinates.\n",
    "\n",
    "    \"initial_values\" : {\n",
    "      \"pos_y\" : [175.0],\n",
    "      \"speed_y\": [0.0],\n",
    "      \"acceleration_y\": [0.0],\n",
    "      \"weight_rocket\" : [305],\n",
    "      \"booster\" : [0.0],\n",
    "      \"m_fuel\" : [300],\n",
    "      ...\n",
    "      \"ratio_fuel\" : [1.0],\n",
    "      \"dt\" : [3],\n",
    "      \"time\" : [0],\n",
    "      \"acceleration_limit_y\" : [10],\n",
    "      \"speed_limit_y\" : [5]\n",
    "      }\n",
    "\n",
    "**NB:** Because we do not modify rocket's angle, we will not show ```pos_x, speed_x and acceleration_x (you can see all variable by calling env.json[\"initial_values\"])```\n",
    "\n",
    "## <span style=\"color:orange\">Limit</span>\n",
    "\n",
    "Q-learning algorithms model events as a Markov process. Therefore, it is necessary to discretize our environment space. \n",
    "We define lower and upper bounds, as well as the number of divisions we want to use to discretize the variable space.\n",
    "\n",
    "    \"limit\" : {\n",
    "      \"pos_y\" : [0.0, 200.0, 41],\n",
    "      \"speed_y\": [-30.0, 30.0, 31],\n",
    "      \"acceleration_y\": [-20.0, 20.0, 21],\n",
    "      \"weight_rocket\" : [0.0, 305, 62],\n",
    "      \"booster\" : [0.0, 2.0, 3],\n",
    "      \"m_fuel\" : [0.0, 400, 801]\n",
    "    }\n"
   ]
  },
  {
   "cell_type": "markdown",
   "id": "a6c4b678",
   "metadata": {},
   "source": [
    "## <span style=\"color:orange\">Agents's actions</span>\n",
    "    \"n_action\" : {\n",
    "      \"booster\": {\"0\" : 0.0, \"1\" : 1.0, \"2\" : 2.0}\n",
    "    }\n",
    "\n",
    "After defining the variables and their initial values, we proceed to define actions that apply to the agent variables. In this example, we have 1 agent that can take 3 actions:\n",
    "\n",
    "For the booster:\n",
    "  * \"0\": Booster is off.\n",
    "  * \"1\": Booster is turned on to half of its power.\n",
    "  * \"2\": Booster is turned on to its full power.\n",
    "\n",
    "## <span style=\"color:orange\">Actions to take</span>\n",
    "\n",
    "    \"action_to_take\" : {\n",
    "      \"booster\": {\"$booster$\" : \"$action}\n",
    "    }\n",
    "\n",
    "Actions change the agent variables by modifying their values based on the action taken, which are retrieved from the n_action dictionary. You can change default delimiter during the initilisation:\n",
    "\n",
    "`agent = Environment(json_file, delimiter = \"Char_you_want\")`"
   ]
  },
  {
   "cell_type": "markdown",
   "id": "37ba311d",
   "metadata": {},
   "source": [
    "## <span style=\"color:orange\">System's evolution and reward</span>\n",
    "\n",
    "Last fields are how variables evolve after agents's action and how reward are computed.\n",
    "Only variables present in field inital value are stored. Other variables present are just temporary and are lost after each iteration.\n",
    "Reward values are stored into a dictionnary, the keys are agent variable's name.\n",
    "Timestep value (dt) is 3, to let the system evolve enough without the need to have an high resolution in state variable's space.\n",
    "\n",
    "### <span style=\"color:orange\">Equation variables</span>\n",
    "    \"equations_variables\": {\n",
    "        \"$F$\" : \"600\",\n",
    "        \"$y_0$\" : \"$pos_y$\",\n",
    "        \"$Vy_0$\" : \"$speed_y$\",\n",
    "        \"$m_fuel$\" : \"$m_fuel$ - $booster$ *5 -np.ceil( np.abs($alpha$) ) *5\",\n",
    "        \"$weight_rocket$\" : \"$weight_dry_rocket$ + $m_fuel$\",\n",
    "        \"$acceleration_y$\" : \"($F$/(5+$weight_rocket$) * np.cos($angle$)) * $booster$ - $G$\",\n",
    "        \"$speed_y$\" : \"($F$/(5+$weight_rocket$) * np.cos($angle$)) * $booster$ * $dt$ - $G$ * $dt$ + $Vy_0$\",\n",
    "        \"$pos_x$\": \"(0.5 * $F$/(5+$weight_rocket$) * np.sin($angle$)) * $booster$ * $dt$**2 + $Vx_0$ * $dt$ + $x_0$\",\n",
    "        \"$pos_y$\": \"(0.5 * $F$/(5+$weight_rocket$) * np.cos($angle$)) * $booster$ * $dt$**2 - $G$ * $dt$**2 + $Vy_0$ * $dt$ + $y_0$\",\n",
    "        \"$futur_pos_y$\" : \"$pos_y$ + 3 * $speed_y$\",\n",
    "        \"y_lower_limit\" : \"0\",\n",
    "        \"y_upper_limit\" : \"200\",\n",
    "        \"$upper_boundary$\": \"-np.exp(0) + np.exp(np.min([ np.min(-$futur_pos_y$ + y_upper_limit), 0]))\",\n",
    "        \"$lower_boundary$\": \"-np.exp(0) + np.exp(np.min([ np.min($futur_pos_y$ -y_lower_limit), 0]))\"\n",
    "    },\n",
    "\n",
    "### <span style=\"color:orange\">Reward</span>\n",
    "\n",
    "The reward indicates the immediate benefit or cost associated with the action.\n",
    "The scalar feedback signal that the environment sends to the agent after it takes an action are defined into this dictionnary.\n",
    "\n",
    "    \"equations_rewards\": {\n",
    "      \"$booster$\" : \"2*(-distance_y_reward) + speed_y_reward + 0.5 * ratio_fuel\"\n",
    "    }"
   ]
  },
  {
   "cell_type": "markdown",
   "metadata": {},
   "source": [
    "## <span style=\"color:orange\">Stop episode</span>\n",
    "\n",
    "stop episode when goal is reach. If feature has 1 value, its feature's value must be equal.\n",
    "In other hand, if feature has 2 values ([min_limit, max_limit]), criterion is bounded feature >= min_limit and feature <= max_limit\n",
    "\n",
    "    \"stop_episode\" : {\n",
    "      \"pos_y\" : [0, 5],\n",
    "      \"acceleration_y\" : [-2,2],\n",
    "      \"speed_y\" : [-2,2]\n",
    "    }"
   ]
  },
  {
   "cell_type": "markdown",
   "id": "edae6973",
   "metadata": {},
   "source": [
    "# <span style=\"color:orange\">A simple scenario</span>"
   ]
  },
  {
   "cell_type": "markdown",
   "id": "84614d8e",
   "metadata": {},
   "source": [
    "We want to land our rocket without it crashing. In this scenario, the rocket can take three actions: turn off its booster, or turn it on at half or full power.\n",
    "\n",
    "Let’s model our ideal scenario. We want to activate the booster when the rocket exceeds speed or acceleration limits, and on the other hand, we want to conserve fuel whenever possible."
   ]
  },
  {
   "cell_type": "markdown",
   "id": "c79d7405-5fcf-45ee-8abf-c1af457b58b9",
   "metadata": {},
   "source": [
    "# <span style=\"color:orange\">Intialize environment</span>\n",
    "\n",
    "Create an environment object with the rules defined previously. The idea is to check the new field can raise a flag to stop simulation when the criteria are reached:\n",
    "\n",
    "* 0 <= pos_y <= 5\n",
    "* -2 <= acceleration_y >= 2\n",
    "* -8 <= speed_y >= 8\n",
    "\n",
    "We will also control the speed of the rocket and its acceleration to keep as possible those parameters between this range:\n",
    "\n",
    "* -5 >= speed_y <= 5\n",
    "* -10 <= acceleration_y >= 10"
   ]
  },
  {
   "cell_type": "code",
   "execution_count": 2,
   "id": "5537121a",
   "metadata": {},
   "outputs": [
    {
     "name": "stdout",
     "output_type": "stream",
     "text": [
      "check order names for states_variables\n",
      "\n",
      "Check order names for agent_variables\n",
      "\n",
      "check limit number of field\n",
      "\n",
      "Check limit boundaries for initial state\n",
      "\n",
      "Solve equations present in equations_variables field\n",
      "\n",
      "Solve equations present in equations_rewards field\n",
      "\n",
      "Everything is good :)\n",
      "speed limit\n",
      "turn on engine to increase speed\n",
      "speed limit\n",
      "turn on engine to increase speed\n",
      "speed limit\n",
      "turn on engine to increase speed\n",
      "speed limit\n",
      "turn on engine to increase speed\n",
      "rocket is bellow the ground\n"
     ]
    },
    {
     "data": {
      "application/vnd.plotly.v1+json": {
       "config": {
        "plotlyServerURL": "https://plot.ly"
       },
       "data": [
        {
         "mode": "lines+markers",
         "name": "Height",
         "type": "scatter",
         "x": [
          0,
          3,
          6,
          9,
          12,
          15,
          18,
          21
         ],
         "y": [
          175,
          160.42,
          131.26,
          96.37245901639344,
          64.75737704918032,
          36.714837454848556,
          12.555185060984357,
          -7.400438294767323
         ]
        },
        {
         "mode": "lines+markers",
         "name": "futur_position_dt+0",
         "type": "scatter",
         "x": [
          0,
          3,
          6,
          9,
          12,
          15,
          18,
          21
         ],
         "y": [
          175,
          160.42,
          131.26,
          96.37245901639344,
          64.75737704918032,
          36.714837454848556,
          12.555185060984357,
          -7.400438294767323
         ]
        }
       ],
       "layout": {
        "template": {
         "data": {
          "bar": [
           {
            "error_x": {
             "color": "#2a3f5f"
            },
            "error_y": {
             "color": "#2a3f5f"
            },
            "marker": {
             "line": {
              "color": "#E5ECF6",
              "width": 0.5
             },
             "pattern": {
              "fillmode": "overlay",
              "size": 10,
              "solidity": 0.2
             }
            },
            "type": "bar"
           }
          ],
          "barpolar": [
           {
            "marker": {
             "line": {
              "color": "#E5ECF6",
              "width": 0.5
             },
             "pattern": {
              "fillmode": "overlay",
              "size": 10,
              "solidity": 0.2
             }
            },
            "type": "barpolar"
           }
          ],
          "carpet": [
           {
            "aaxis": {
             "endlinecolor": "#2a3f5f",
             "gridcolor": "white",
             "linecolor": "white",
             "minorgridcolor": "white",
             "startlinecolor": "#2a3f5f"
            },
            "baxis": {
             "endlinecolor": "#2a3f5f",
             "gridcolor": "white",
             "linecolor": "white",
             "minorgridcolor": "white",
             "startlinecolor": "#2a3f5f"
            },
            "type": "carpet"
           }
          ],
          "choropleth": [
           {
            "colorbar": {
             "outlinewidth": 0,
             "ticks": ""
            },
            "type": "choropleth"
           }
          ],
          "contour": [
           {
            "colorbar": {
             "outlinewidth": 0,
             "ticks": ""
            },
            "colorscale": [
             [
              0,
              "#0d0887"
             ],
             [
              0.1111111111111111,
              "#46039f"
             ],
             [
              0.2222222222222222,
              "#7201a8"
             ],
             [
              0.3333333333333333,
              "#9c179e"
             ],
             [
              0.4444444444444444,
              "#bd3786"
             ],
             [
              0.5555555555555556,
              "#d8576b"
             ],
             [
              0.6666666666666666,
              "#ed7953"
             ],
             [
              0.7777777777777778,
              "#fb9f3a"
             ],
             [
              0.8888888888888888,
              "#fdca26"
             ],
             [
              1,
              "#f0f921"
             ]
            ],
            "type": "contour"
           }
          ],
          "contourcarpet": [
           {
            "colorbar": {
             "outlinewidth": 0,
             "ticks": ""
            },
            "type": "contourcarpet"
           }
          ],
          "heatmap": [
           {
            "colorbar": {
             "outlinewidth": 0,
             "ticks": ""
            },
            "colorscale": [
             [
              0,
              "#0d0887"
             ],
             [
              0.1111111111111111,
              "#46039f"
             ],
             [
              0.2222222222222222,
              "#7201a8"
             ],
             [
              0.3333333333333333,
              "#9c179e"
             ],
             [
              0.4444444444444444,
              "#bd3786"
             ],
             [
              0.5555555555555556,
              "#d8576b"
             ],
             [
              0.6666666666666666,
              "#ed7953"
             ],
             [
              0.7777777777777778,
              "#fb9f3a"
             ],
             [
              0.8888888888888888,
              "#fdca26"
             ],
             [
              1,
              "#f0f921"
             ]
            ],
            "type": "heatmap"
           }
          ],
          "heatmapgl": [
           {
            "colorbar": {
             "outlinewidth": 0,
             "ticks": ""
            },
            "colorscale": [
             [
              0,
              "#0d0887"
             ],
             [
              0.1111111111111111,
              "#46039f"
             ],
             [
              0.2222222222222222,
              "#7201a8"
             ],
             [
              0.3333333333333333,
              "#9c179e"
             ],
             [
              0.4444444444444444,
              "#bd3786"
             ],
             [
              0.5555555555555556,
              "#d8576b"
             ],
             [
              0.6666666666666666,
              "#ed7953"
             ],
             [
              0.7777777777777778,
              "#fb9f3a"
             ],
             [
              0.8888888888888888,
              "#fdca26"
             ],
             [
              1,
              "#f0f921"
             ]
            ],
            "type": "heatmapgl"
           }
          ],
          "histogram": [
           {
            "marker": {
             "pattern": {
              "fillmode": "overlay",
              "size": 10,
              "solidity": 0.2
             }
            },
            "type": "histogram"
           }
          ],
          "histogram2d": [
           {
            "colorbar": {
             "outlinewidth": 0,
             "ticks": ""
            },
            "colorscale": [
             [
              0,
              "#0d0887"
             ],
             [
              0.1111111111111111,
              "#46039f"
             ],
             [
              0.2222222222222222,
              "#7201a8"
             ],
             [
              0.3333333333333333,
              "#9c179e"
             ],
             [
              0.4444444444444444,
              "#bd3786"
             ],
             [
              0.5555555555555556,
              "#d8576b"
             ],
             [
              0.6666666666666666,
              "#ed7953"
             ],
             [
              0.7777777777777778,
              "#fb9f3a"
             ],
             [
              0.8888888888888888,
              "#fdca26"
             ],
             [
              1,
              "#f0f921"
             ]
            ],
            "type": "histogram2d"
           }
          ],
          "histogram2dcontour": [
           {
            "colorbar": {
             "outlinewidth": 0,
             "ticks": ""
            },
            "colorscale": [
             [
              0,
              "#0d0887"
             ],
             [
              0.1111111111111111,
              "#46039f"
             ],
             [
              0.2222222222222222,
              "#7201a8"
             ],
             [
              0.3333333333333333,
              "#9c179e"
             ],
             [
              0.4444444444444444,
              "#bd3786"
             ],
             [
              0.5555555555555556,
              "#d8576b"
             ],
             [
              0.6666666666666666,
              "#ed7953"
             ],
             [
              0.7777777777777778,
              "#fb9f3a"
             ],
             [
              0.8888888888888888,
              "#fdca26"
             ],
             [
              1,
              "#f0f921"
             ]
            ],
            "type": "histogram2dcontour"
           }
          ],
          "mesh3d": [
           {
            "colorbar": {
             "outlinewidth": 0,
             "ticks": ""
            },
            "type": "mesh3d"
           }
          ],
          "parcoords": [
           {
            "line": {
             "colorbar": {
              "outlinewidth": 0,
              "ticks": ""
             }
            },
            "type": "parcoords"
           }
          ],
          "pie": [
           {
            "automargin": true,
            "type": "pie"
           }
          ],
          "scatter": [
           {
            "fillpattern": {
             "fillmode": "overlay",
             "size": 10,
             "solidity": 0.2
            },
            "type": "scatter"
           }
          ],
          "scatter3d": [
           {
            "line": {
             "colorbar": {
              "outlinewidth": 0,
              "ticks": ""
             }
            },
            "marker": {
             "colorbar": {
              "outlinewidth": 0,
              "ticks": ""
             }
            },
            "type": "scatter3d"
           }
          ],
          "scattercarpet": [
           {
            "marker": {
             "colorbar": {
              "outlinewidth": 0,
              "ticks": ""
             }
            },
            "type": "scattercarpet"
           }
          ],
          "scattergeo": [
           {
            "marker": {
             "colorbar": {
              "outlinewidth": 0,
              "ticks": ""
             }
            },
            "type": "scattergeo"
           }
          ],
          "scattergl": [
           {
            "marker": {
             "colorbar": {
              "outlinewidth": 0,
              "ticks": ""
             }
            },
            "type": "scattergl"
           }
          ],
          "scattermapbox": [
           {
            "marker": {
             "colorbar": {
              "outlinewidth": 0,
              "ticks": ""
             }
            },
            "type": "scattermapbox"
           }
          ],
          "scatterpolar": [
           {
            "marker": {
             "colorbar": {
              "outlinewidth": 0,
              "ticks": ""
             }
            },
            "type": "scatterpolar"
           }
          ],
          "scatterpolargl": [
           {
            "marker": {
             "colorbar": {
              "outlinewidth": 0,
              "ticks": ""
             }
            },
            "type": "scatterpolargl"
           }
          ],
          "scatterternary": [
           {
            "marker": {
             "colorbar": {
              "outlinewidth": 0,
              "ticks": ""
             }
            },
            "type": "scatterternary"
           }
          ],
          "surface": [
           {
            "colorbar": {
             "outlinewidth": 0,
             "ticks": ""
            },
            "colorscale": [
             [
              0,
              "#0d0887"
             ],
             [
              0.1111111111111111,
              "#46039f"
             ],
             [
              0.2222222222222222,
              "#7201a8"
             ],
             [
              0.3333333333333333,
              "#9c179e"
             ],
             [
              0.4444444444444444,
              "#bd3786"
             ],
             [
              0.5555555555555556,
              "#d8576b"
             ],
             [
              0.6666666666666666,
              "#ed7953"
             ],
             [
              0.7777777777777778,
              "#fb9f3a"
             ],
             [
              0.8888888888888888,
              "#fdca26"
             ],
             [
              1,
              "#f0f921"
             ]
            ],
            "type": "surface"
           }
          ],
          "table": [
           {
            "cells": {
             "fill": {
              "color": "#EBF0F8"
             },
             "line": {
              "color": "white"
             }
            },
            "header": {
             "fill": {
              "color": "#C8D4E3"
             },
             "line": {
              "color": "white"
             }
            },
            "type": "table"
           }
          ]
         },
         "layout": {
          "annotationdefaults": {
           "arrowcolor": "#2a3f5f",
           "arrowhead": 0,
           "arrowwidth": 1
          },
          "autotypenumbers": "strict",
          "coloraxis": {
           "colorbar": {
            "outlinewidth": 0,
            "ticks": ""
           }
          },
          "colorscale": {
           "diverging": [
            [
             0,
             "#8e0152"
            ],
            [
             0.1,
             "#c51b7d"
            ],
            [
             0.2,
             "#de77ae"
            ],
            [
             0.3,
             "#f1b6da"
            ],
            [
             0.4,
             "#fde0ef"
            ],
            [
             0.5,
             "#f7f7f7"
            ],
            [
             0.6,
             "#e6f5d0"
            ],
            [
             0.7,
             "#b8e186"
            ],
            [
             0.8,
             "#7fbc41"
            ],
            [
             0.9,
             "#4d9221"
            ],
            [
             1,
             "#276419"
            ]
           ],
           "sequential": [
            [
             0,
             "#0d0887"
            ],
            [
             0.1111111111111111,
             "#46039f"
            ],
            [
             0.2222222222222222,
             "#7201a8"
            ],
            [
             0.3333333333333333,
             "#9c179e"
            ],
            [
             0.4444444444444444,
             "#bd3786"
            ],
            [
             0.5555555555555556,
             "#d8576b"
            ],
            [
             0.6666666666666666,
             "#ed7953"
            ],
            [
             0.7777777777777778,
             "#fb9f3a"
            ],
            [
             0.8888888888888888,
             "#fdca26"
            ],
            [
             1,
             "#f0f921"
            ]
           ],
           "sequentialminus": [
            [
             0,
             "#0d0887"
            ],
            [
             0.1111111111111111,
             "#46039f"
            ],
            [
             0.2222222222222222,
             "#7201a8"
            ],
            [
             0.3333333333333333,
             "#9c179e"
            ],
            [
             0.4444444444444444,
             "#bd3786"
            ],
            [
             0.5555555555555556,
             "#d8576b"
            ],
            [
             0.6666666666666666,
             "#ed7953"
            ],
            [
             0.7777777777777778,
             "#fb9f3a"
            ],
            [
             0.8888888888888888,
             "#fdca26"
            ],
            [
             1,
             "#f0f921"
            ]
           ]
          },
          "colorway": [
           "#636efa",
           "#EF553B",
           "#00cc96",
           "#ab63fa",
           "#FFA15A",
           "#19d3f3",
           "#FF6692",
           "#B6E880",
           "#FF97FF",
           "#FECB52"
          ],
          "font": {
           "color": "#2a3f5f"
          },
          "geo": {
           "bgcolor": "white",
           "lakecolor": "white",
           "landcolor": "#E5ECF6",
           "showlakes": true,
           "showland": true,
           "subunitcolor": "white"
          },
          "hoverlabel": {
           "align": "left"
          },
          "hovermode": "closest",
          "mapbox": {
           "style": "light"
          },
          "paper_bgcolor": "white",
          "plot_bgcolor": "#E5ECF6",
          "polar": {
           "angularaxis": {
            "gridcolor": "white",
            "linecolor": "white",
            "ticks": ""
           },
           "bgcolor": "#E5ECF6",
           "radialaxis": {
            "gridcolor": "white",
            "linecolor": "white",
            "ticks": ""
           }
          },
          "scene": {
           "xaxis": {
            "backgroundcolor": "#E5ECF6",
            "gridcolor": "white",
            "gridwidth": 2,
            "linecolor": "white",
            "showbackground": true,
            "ticks": "",
            "zerolinecolor": "white"
           },
           "yaxis": {
            "backgroundcolor": "#E5ECF6",
            "gridcolor": "white",
            "gridwidth": 2,
            "linecolor": "white",
            "showbackground": true,
            "ticks": "",
            "zerolinecolor": "white"
           },
           "zaxis": {
            "backgroundcolor": "#E5ECF6",
            "gridcolor": "white",
            "gridwidth": 2,
            "linecolor": "white",
            "showbackground": true,
            "ticks": "",
            "zerolinecolor": "white"
           }
          },
          "shapedefaults": {
           "line": {
            "color": "#2a3f5f"
           }
          },
          "ternary": {
           "aaxis": {
            "gridcolor": "white",
            "linecolor": "white",
            "ticks": ""
           },
           "baxis": {
            "gridcolor": "white",
            "linecolor": "white",
            "ticks": ""
           },
           "bgcolor": "#E5ECF6",
           "caxis": {
            "gridcolor": "white",
            "linecolor": "white",
            "ticks": ""
           }
          },
          "title": {
           "x": 0.05
          },
          "xaxis": {
           "automargin": true,
           "gridcolor": "white",
           "linecolor": "white",
           "ticks": "",
           "title": {
            "standoff": 15
           },
           "zerolinecolor": "white",
           "zerolinewidth": 2
          },
          "yaxis": {
           "automargin": true,
           "gridcolor": "white",
           "linecolor": "white",
           "ticks": "",
           "title": {
            "standoff": 15
           },
           "zerolinecolor": "white",
           "zerolinewidth": 2
          }
         }
        },
        "title": {
         "text": "Rocket's altitude"
        },
        "xaxis": {
         "title": {
          "text": "Time step"
         }
        },
        "yaxis": {
         "title": {
          "text": "Altitude"
         }
        }
       }
      }
     },
     "metadata": {},
     "output_type": "display_data"
    }
   ],
   "source": [
    "# Create an environment object with the rules defined previously\n",
    "env_ref = Environment(JOSN_file, check_model = True)\n",
    "df_0 = rocket_simulation(env_ref, acceleration_y_constraint = 10, speed_y_limit = 5, timestep = 0)\n",
    "plot_rocket_altitude(df_0)"
   ]
  },
  {
   "cell_type": "markdown",
   "id": "978f594d",
   "metadata": {},
   "source": [
    "The altitude plot shows that at t = 18, the rocket's altitude is 12.5, but its speed is too high. In fact, at the next timestep, the rocket's position drops to -7.4, indicating a crash.\n",
    "\n",
    "The most important factor here is the speed: it exceeds the desired range of [-5, 5]. Unlike speed, the acceleration remains within acceptable limits."
   ]
  },
  {
   "cell_type": "code",
   "execution_count": 3,
   "id": "a2a95135",
   "metadata": {},
   "outputs": [
    {
     "data": {
      "image/png": "[encoded data removed]",
      "text/plain": [
       "<Figure size 640x480 with 1 Axes>"
      ]
     },
     "metadata": {},
     "output_type": "display_data"
    },
    {
     "data": {
      "text/html": [
       "<div>\n",
       "<style scoped>\n",
       "    .dataframe tbody tr th:only-of-type {\n",
       "        vertical-align: middle;\n",
       "    }\n",
       "\n",
       "    .dataframe tbody tr th {\n",
       "        vertical-align: top;\n",
       "    }\n",
       "\n",
       "    .dataframe thead th {\n",
       "        text-align: right;\n",
       "    }\n",
       "</style>\n",
       "<table border=\"1\" class=\"dataframe\">\n",
       "  <thead>\n",
       "    <tr style=\"text-align: right;\">\n",
       "      <th></th>\n",
       "      <th>time</th>\n",
       "      <th>pos_y</th>\n",
       "      <th>speed_y</th>\n",
       "      <th>acceleration_y</th>\n",
       "      <th>m_fuel</th>\n",
       "      <th>booster</th>\n",
       "    </tr>\n",
       "  </thead>\n",
       "  <tbody>\n",
       "    <tr>\n",
       "      <th>0</th>\n",
       "      <td>0</td>\n",
       "      <td>175.000000</td>\n",
       "      <td>0.000000</td>\n",
       "      <td>0.000000</td>\n",
       "      <td>300.0</td>\n",
       "      <td>0.0</td>\n",
       "    </tr>\n",
       "    <tr>\n",
       "      <th>1</th>\n",
       "      <td>3</td>\n",
       "      <td>160.420000</td>\n",
       "      <td>-4.860000</td>\n",
       "      <td>-1.620000</td>\n",
       "      <td>300.0</td>\n",
       "      <td>0.0</td>\n",
       "    </tr>\n",
       "    <tr>\n",
       "      <th>2</th>\n",
       "      <td>6</td>\n",
       "      <td>131.260000</td>\n",
       "      <td>-9.720000</td>\n",
       "      <td>-1.620000</td>\n",
       "      <td>300.0</td>\n",
       "      <td>0.0</td>\n",
       "    </tr>\n",
       "    <tr>\n",
       "      <th>3</th>\n",
       "      <td>9</td>\n",
       "      <td>96.372459</td>\n",
       "      <td>-8.678361</td>\n",
       "      <td>0.347213</td>\n",
       "      <td>295.0</td>\n",
       "      <td>1.0</td>\n",
       "    </tr>\n",
       "    <tr>\n",
       "      <th>4</th>\n",
       "      <td>12</td>\n",
       "      <td>64.757377</td>\n",
       "      <td>-7.538361</td>\n",
       "      <td>0.380000</td>\n",
       "      <td>290.0</td>\n",
       "      <td>1.0</td>\n",
       "    </tr>\n",
       "    <tr>\n",
       "      <th>5</th>\n",
       "      <td>15</td>\n",
       "      <td>36.714837</td>\n",
       "      <td>-6.296666</td>\n",
       "      <td>0.413898</td>\n",
       "      <td>285.0</td>\n",
       "      <td>1.0</td>\n",
       "    </tr>\n",
       "    <tr>\n",
       "      <th>6</th>\n",
       "      <td>18</td>\n",
       "      <td>12.555185</td>\n",
       "      <td>-4.949769</td>\n",
       "      <td>0.448966</td>\n",
       "      <td>280.0</td>\n",
       "      <td>1.0</td>\n",
       "    </tr>\n",
       "    <tr>\n",
       "      <th>7</th>\n",
       "      <td>21</td>\n",
       "      <td>-7.400438</td>\n",
       "      <td>-3.493980</td>\n",
       "      <td>0.485263</td>\n",
       "      <td>275.0</td>\n",
       "      <td>1.0</td>\n",
       "    </tr>\n",
       "  </tbody>\n",
       "</table>\n",
       "</div>"
      ],
      "text/plain": [
       "   time       pos_y   speed_y  acceleration_y  m_fuel  booster\n",
       "0     0  175.000000  0.000000        0.000000   300.0      0.0\n",
       "1     3  160.420000 -4.860000       -1.620000   300.0      0.0\n",
       "2     6  131.260000 -9.720000       -1.620000   300.0      0.0\n",
       "3     9   96.372459 -8.678361        0.347213   295.0      1.0\n",
       "4    12   64.757377 -7.538361        0.380000   290.0      1.0\n",
       "5    15   36.714837 -6.296666        0.413898   285.0      1.0\n",
       "6    18   12.555185 -4.949769        0.448966   280.0      1.0\n",
       "7    21   -7.400438 -3.493980        0.485263   275.0      1.0"
      ]
     },
     "execution_count": 3,
     "metadata": {},
     "output_type": "execute_result"
    }
   ],
   "source": [
    "plt.plot(df_0.time, df_0.speed_y, \"+-\", label=\"Rockect's speed\")\n",
    "plt.title(\"Rocket's speed\")\n",
    "plt.hlines(-5, df_0.time.to_numpy()[0], df_0.time.to_numpy()[-1], \n",
    "           color = \"red\", linestyles = 'dashdot', label=\"desired speed limit\")\n",
    "plt.legend()\n",
    "plt.xlabel(\"Time\")\n",
    "plt.ylabel(\"Speed\")\n",
    "plt.show()\n",
    "\n",
    "\n",
    "df_0[[\"time\", \"pos_y\", \"speed_y\", \"acceleration_y\", \"m_fuel\", \"booster\"]]"
   ]
  },
  {
   "cell_type": "markdown",
   "id": "a54146bb",
   "metadata": {},
   "source": [
    "The speed and final position do not fully meet the success criteria.\n",
    "To avoid a crash (where the speed is too high to be corrected in the next timestep), we could use the future position as an additional criterion.\n",
    "The future position is calculated using the current speed and the timestep, according to the formula:\n",
    "\n",
    "$$ futur\\_positiion = pos_y + speed_y * timestep $$"
   ]
  },
  {
   "cell_type": "markdown",
   "id": "73085b22",
   "metadata": {},
   "source": [
    "# <span style=\"color:orange\">Test different timestep for futur position</span>"
   ]
  },
  {
   "cell_type": "code",
   "execution_count": 4,
   "id": "b4752616",
   "metadata": {},
   "outputs": [
    {
     "data": {
      "application/vnd.plotly.v1+json": {
       "config": {
        "plotlyServerURL": "https://plot.ly"
       },
       "data": [
        {
         "mode": "lines+markers",
         "name": "Height",
         "type": "scatter",
         "x": [
          0,
          3,
          6,
          9,
          12,
          15,
          18,
          21
         ],
         "y": [
          175,
          160.42,
          131.26,
          96.37245901639344,
          64.75737704918032,
          36.714837454848556,
          12.555185060984357,
          -7.400438294767323
         ]
        },
        {
         "mode": "lines+markers",
         "name": "futur_position_dt+0",
         "type": "scatter",
         "x": [
          0,
          3,
          6,
          9,
          12,
          15,
          18,
          21
         ],
         "y": [
          175,
          160.42,
          131.26,
          96.37245901639344,
          64.75737704918032,
          36.714837454848556,
          12.555185060984357,
          -7.400438294767323
         ]
        },
        {
         "mode": "lines+markers",
         "name": "futur_position_dt+3",
         "type": "scatter",
         "x": [
          0,
          3,
          6,
          9,
          12,
          15,
          18,
          21
         ],
         "y": [
          175,
          145.83999999999997,
          102.1,
          70.33737704918032,
          42.142295081967205,
          17.82484023339815,
          -2.294122505293636,
          -17.882377439992684
         ]
        },
        {
         "mode": "lines+markers",
         "name": "futur_position_dt+5",
         "type": "scatter",
         "x": [
          0,
          3,
          6,
          9,
          12,
          15,
          18,
          21
         ],
         "y": [
          175,
          136.11999999999998,
          82.66,
          52.98065573770491,
          27.06557377049179,
          5.2315087524312105,
          -12.193660882812296,
          -24.870336870142925
         ]
        },
        {
         "mode": "lines+markers",
         "name": "futur_position_dt+10",
         "type": "scatter",
         "x": [
          0,
          3,
          6,
          9,
          12,
          15,
          18,
          21
         ],
         "y": [
          175,
          111.82,
          34.05999999999999,
          9.58885245901638,
          -10.626229508196744,
          -26.251819949986135,
          -36.94250682660895,
          -42.34023544551853
         ]
        }
       ],
       "layout": {
        "template": {
         "data": {
          "bar": [
           {
            "error_x": {
             "color": "#2a3f5f"
            },
            "error_y": {
             "color": "#2a3f5f"
            },
            "marker": {
             "line": {
              "color": "#E5ECF6",
              "width": 0.5
             },
             "pattern": {
              "fillmode": "overlay",
              "size": 10,
              "solidity": 0.2
             }
            },
            "type": "bar"
           }
          ],
          "barpolar": [
           {
            "marker": {
             "line": {
              "color": "#E5ECF6",
              "width": 0.5
             },
             "pattern": {
              "fillmode": "overlay",
              "size": 10,
              "solidity": 0.2
             }
            },
            "type": "barpolar"
           }
          ],
          "carpet": [
           {
            "aaxis": {
             "endlinecolor": "#2a3f5f",
             "gridcolor": "white",
             "linecolor": "white",
             "minorgridcolor": "white",
             "startlinecolor": "#2a3f5f"
            },
            "baxis": {
             "endlinecolor": "#2a3f5f",
             "gridcolor": "white",
             "linecolor": "white",
             "minorgridcolor": "white",
             "startlinecolor": "#2a3f5f"
            },
            "type": "carpet"
           }
          ],
          "choropleth": [
           {
            "colorbar": {
             "outlinewidth": 0,
             "ticks": ""
            },
            "type": "choropleth"
           }
          ],
          "contour": [
           {
            "colorbar": {
             "outlinewidth": 0,
             "ticks": ""
            },
            "colorscale": [
             [
              0,
              "#0d0887"
             ],
             [
              0.1111111111111111,
              "#46039f"
             ],
             [
              0.2222222222222222,
              "#7201a8"
             ],
             [
              0.3333333333333333,
              "#9c179e"
             ],
             [
              0.4444444444444444,
              "#bd3786"
             ],
             [
              0.5555555555555556,
              "#d8576b"
             ],
             [
              0.6666666666666666,
              "#ed7953"
             ],
             [
              0.7777777777777778,
              "#fb9f3a"
             ],
             [
              0.8888888888888888,
              "#fdca26"
             ],
             [
              1,
              "#f0f921"
             ]
            ],
            "type": "contour"
           }
          ],
          "contourcarpet": [
           {
            "colorbar": {
             "outlinewidth": 0,
             "ticks": ""
            },
            "type": "contourcarpet"
           }
          ],
          "heatmap": [
           {
            "colorbar": {
             "outlinewidth": 0,
             "ticks": ""
            },
            "colorscale": [
             [
              0,
              "#0d0887"
             ],
             [
              0.1111111111111111,
              "#46039f"
             ],
             [
              0.2222222222222222,
              "#7201a8"
             ],
             [
              0.3333333333333333,
              "#9c179e"
             ],
             [
              0.4444444444444444,
              "#bd3786"
             ],
             [
              0.5555555555555556,
              "#d8576b"
             ],
             [
              0.6666666666666666,
              "#ed7953"
             ],
             [
              0.7777777777777778,
              "#fb9f3a"
             ],
             [
              0.8888888888888888,
              "#fdca26"
             ],
             [
              1,
              "#f0f921"
             ]
            ],
            "type": "heatmap"
           }
          ],
          "heatmapgl": [
           {
            "colorbar": {
             "outlinewidth": 0,
             "ticks": ""
            },
            "colorscale": [
             [
              0,
              "#0d0887"
             ],
             [
              0.1111111111111111,
              "#46039f"
             ],
             [
              0.2222222222222222,
              "#7201a8"
             ],
             [
              0.3333333333333333,
              "#9c179e"
             ],
             [
              0.4444444444444444,
              "#bd3786"
             ],
             [
              0.5555555555555556,
              "#d8576b"
             ],
             [
              0.6666666666666666,
              "#ed7953"
             ],
             [
              0.7777777777777778,
              "#fb9f3a"
             ],
             [
              0.8888888888888888,
              "#fdca26"
             ],
             [
              1,
              "#f0f921"
             ]
            ],
            "type": "heatmapgl"
           }
          ],
          "histogram": [
           {
            "marker": {
             "pattern": {
              "fillmode": "overlay",
              "size": 10,
              "solidity": 0.2
             }
            },
            "type": "histogram"
           }
          ],
          "histogram2d": [
           {
            "colorbar": {
             "outlinewidth": 0,
             "ticks": ""
            },
            "colorscale": [
             [
              0,
              "#0d0887"
             ],
             [
              0.1111111111111111,
              "#46039f"
             ],
             [
              0.2222222222222222,
              "#7201a8"
             ],
             [
              0.3333333333333333,
              "#9c179e"
             ],
             [
              0.4444444444444444,
              "#bd3786"
             ],
             [
              0.5555555555555556,
              "#d8576b"
             ],
             [
              0.6666666666666666,
              "#ed7953"
             ],
             [
              0.7777777777777778,
              "#fb9f3a"
             ],
             [
              0.8888888888888888,
              "#fdca26"
             ],
             [
              1,
              "#f0f921"
             ]
            ],
            "type": "histogram2d"
           }
          ],
          "histogram2dcontour": [
           {
            "colorbar": {
             "outlinewidth": 0,
             "ticks": ""
            },
            "colorscale": [
             [
              0,
              "#0d0887"
             ],
             [
              0.1111111111111111,
              "#46039f"
             ],
             [
              0.2222222222222222,
              "#7201a8"
             ],
             [
              0.3333333333333333,
              "#9c179e"
             ],
             [
              0.4444444444444444,
              "#bd3786"
             ],
             [
              0.5555555555555556,
              "#d8576b"
             ],
             [
              0.6666666666666666,
              "#ed7953"
             ],
             [
              0.7777777777777778,
              "#fb9f3a"
             ],
             [
              0.8888888888888888,
              "#fdca26"
             ],
             [
              1,
              "#f0f921"
             ]
            ],
            "type": "histogram2dcontour"
           }
          ],
          "mesh3d": [
           {
            "colorbar": {
             "outlinewidth": 0,
             "ticks": ""
            },
            "type": "mesh3d"
           }
          ],
          "parcoords": [
           {
            "line": {
             "colorbar": {
              "outlinewidth": 0,
              "ticks": ""
             }
            },
            "type": "parcoords"
           }
          ],
          "pie": [
           {
            "automargin": true,
            "type": "pie"
           }
          ],
          "scatter": [
           {
            "fillpattern": {
             "fillmode": "overlay",
             "size": 10,
             "solidity": 0.2
            },
            "type": "scatter"
           }
          ],
          "scatter3d": [
           {
            "line": {
             "colorbar": {
              "outlinewidth": 0,
              "ticks": ""
             }
            },
            "marker": {
             "colorbar": {
              "outlinewidth": 0,
              "ticks": ""
             }
            },
            "type": "scatter3d"
           }
          ],
          "scattercarpet": [
           {
            "marker": {
             "colorbar": {
              "outlinewidth": 0,
              "ticks": ""
             }
            },
            "type": "scattercarpet"
           }
          ],
          "scattergeo": [
           {
            "marker": {
             "colorbar": {
              "outlinewidth": 0,
              "ticks": ""
             }
            },
            "type": "scattergeo"
           }
          ],
          "scattergl": [
           {
            "marker": {
             "colorbar": {
              "outlinewidth": 0,
              "ticks": ""
             }
            },
            "type": "scattergl"
           }
          ],
          "scattermapbox": [
           {
            "marker": {
             "colorbar": {
              "outlinewidth": 0,
              "ticks": ""
             }
            },
            "type": "scattermapbox"
           }
          ],
          "scatterpolar": [
           {
            "marker": {
             "colorbar": {
              "outlinewidth": 0,
              "ticks": ""
             }
            },
            "type": "scatterpolar"
           }
          ],
          "scatterpolargl": [
           {
            "marker": {
             "colorbar": {
              "outlinewidth": 0,
              "ticks": ""
             }
            },
            "type": "scatterpolargl"
           }
          ],
          "scatterternary": [
           {
            "marker": {
             "colorbar": {
              "outlinewidth": 0,
              "ticks": ""
             }
            },
            "type": "scatterternary"
           }
          ],
          "surface": [
           {
            "colorbar": {
             "outlinewidth": 0,
             "ticks": ""
            },
            "colorscale": [
             [
              0,
              "#0d0887"
             ],
             [
              0.1111111111111111,
              "#46039f"
             ],
             [
              0.2222222222222222,
              "#7201a8"
             ],
             [
              0.3333333333333333,
              "#9c179e"
             ],
             [
              0.4444444444444444,
              "#bd3786"
             ],
             [
              0.5555555555555556,
              "#d8576b"
             ],
             [
              0.6666666666666666,
              "#ed7953"
             ],
             [
              0.7777777777777778,
              "#fb9f3a"
             ],
             [
              0.8888888888888888,
              "#fdca26"
             ],
             [
              1,
              "#f0f921"
             ]
            ],
            "type": "surface"
           }
          ],
          "table": [
           {
            "cells": {
             "fill": {
              "color": "#EBF0F8"
             },
             "line": {
              "color": "white"
             }
            },
            "header": {
             "fill": {
              "color": "#C8D4E3"
             },
             "line": {
              "color": "white"
             }
            },
            "type": "table"
           }
          ]
         },
         "layout": {
          "annotationdefaults": {
           "arrowcolor": "#2a3f5f",
           "arrowhead": 0,
           "arrowwidth": 1
          },
          "autotypenumbers": "strict",
          "coloraxis": {
           "colorbar": {
            "outlinewidth": 0,
            "ticks": ""
           }
          },
          "colorscale": {
           "diverging": [
            [
             0,
             "#8e0152"
            ],
            [
             0.1,
             "#c51b7d"
            ],
            [
             0.2,
             "#de77ae"
            ],
            [
             0.3,
             "#f1b6da"
            ],
            [
             0.4,
             "#fde0ef"
            ],
            [
             0.5,
             "#f7f7f7"
            ],
            [
             0.6,
             "#e6f5d0"
            ],
            [
             0.7,
             "#b8e186"
            ],
            [
             0.8,
             "#7fbc41"
            ],
            [
             0.9,
             "#4d9221"
            ],
            [
             1,
             "#276419"
            ]
           ],
           "sequential": [
            [
             0,
             "#0d0887"
            ],
            [
             0.1111111111111111,
             "#46039f"
            ],
            [
             0.2222222222222222,
             "#7201a8"
            ],
            [
             0.3333333333333333,
             "#9c179e"
            ],
            [
             0.4444444444444444,
             "#bd3786"
            ],
            [
             0.5555555555555556,
             "#d8576b"
            ],
            [
             0.6666666666666666,
             "#ed7953"
            ],
            [
             0.7777777777777778,
             "#fb9f3a"
            ],
            [
             0.8888888888888888,
             "#fdca26"
            ],
            [
             1,
             "#f0f921"
            ]
           ],
           "sequentialminus": [
            [
             0,
             "#0d0887"
            ],
            [
             0.1111111111111111,
             "#46039f"
            ],
            [
             0.2222222222222222,
             "#7201a8"
            ],
            [
             0.3333333333333333,
             "#9c179e"
            ],
            [
             0.4444444444444444,
             "#bd3786"
            ],
            [
             0.5555555555555556,
             "#d8576b"
            ],
            [
             0.6666666666666666,
             "#ed7953"
            ],
            [
             0.7777777777777778,
             "#fb9f3a"
            ],
            [
             0.8888888888888888,
             "#fdca26"
            ],
            [
             1,
             "#f0f921"
            ]
           ]
          },
          "colorway": [
           "#636efa",
           "#EF553B",
           "#00cc96",
           "#ab63fa",
           "#FFA15A",
           "#19d3f3",
           "#FF6692",
           "#B6E880",
           "#FF97FF",
           "#FECB52"
          ],
          "font": {
           "color": "#2a3f5f"
          },
          "geo": {
           "bgcolor": "white",
           "lakecolor": "white",
           "landcolor": "#E5ECF6",
           "showlakes": true,
           "showland": true,
           "subunitcolor": "white"
          },
          "hoverlabel": {
           "align": "left"
          },
          "hovermode": "closest",
          "mapbox": {
           "style": "light"
          },
          "paper_bgcolor": "white",
          "plot_bgcolor": "#E5ECF6",
          "polar": {
           "angularaxis": {
            "gridcolor": "white",
            "linecolor": "white",
            "ticks": ""
           },
           "bgcolor": "#E5ECF6",
           "radialaxis": {
            "gridcolor": "white",
            "linecolor": "white",
            "ticks": ""
           }
          },
          "scene": {
           "xaxis": {
            "backgroundcolor": "#E5ECF6",
            "gridcolor": "white",
            "gridwidth": 2,
            "linecolor": "white",
            "showbackground": true,
            "ticks": "",
            "zerolinecolor": "white"
           },
           "yaxis": {
            "backgroundcolor": "#E5ECF6",
            "gridcolor": "white",
            "gridwidth": 2,
            "linecolor": "white",
            "showbackground": true,
            "ticks": "",
            "zerolinecolor": "white"
           },
           "zaxis": {
            "backgroundcolor": "#E5ECF6",
            "gridcolor": "white",
            "gridwidth": 2,
            "linecolor": "white",
            "showbackground": true,
            "ticks": "",
            "zerolinecolor": "white"
           }
          },
          "shapedefaults": {
           "line": {
            "color": "#2a3f5f"
           }
          },
          "ternary": {
           "aaxis": {
            "gridcolor": "white",
            "linecolor": "white",
            "ticks": ""
           },
           "baxis": {
            "gridcolor": "white",
            "linecolor": "white",
            "ticks": ""
           },
           "bgcolor": "#E5ECF6",
           "caxis": {
            "gridcolor": "white",
            "linecolor": "white",
            "ticks": ""
           }
          },
          "title": {
           "x": 0.05
          },
          "xaxis": {
           "automargin": true,
           "gridcolor": "white",
           "linecolor": "white",
           "ticks": "",
           "title": {
            "standoff": 15
           },
           "zerolinecolor": "white",
           "zerolinewidth": 2
          },
          "yaxis": {
           "automargin": true,
           "gridcolor": "white",
           "linecolor": "white",
           "ticks": "",
           "title": {
            "standoff": 15
           },
           "zerolinecolor": "white",
           "zerolinewidth": 2
          }
         }
        },
        "title": {
         "text": "Rocket's altitude"
        },
        "xaxis": {
         "title": {
          "text": "Time step"
         }
        },
        "yaxis": {
         "title": {
          "text": "Altitude"
         }
        }
       }
      }
     },
     "metadata": {},
     "output_type": "display_data"
    }
   ],
   "source": [
    "# Try different timestep to compute furtur rocket position\n",
    "for timestep in [3, 5, 10]:\n",
    "    df_0[\"futur_position_dt+{0}\".format(timestep)] = df_0[\"pos_y\"] + df_0[\"speed_y\"] * timestep\n",
    "plot_rocket_altitude(df_0)"
   ]
  },
  {
   "cell_type": "markdown",
   "id": "d175966d",
   "metadata": {},
   "source": [
    "Let's examine the rocket's landing. As you can see, at t = 21, its position is -7.4, indicating a crash.\n",
    "Ideally, we would want to prevent the crash by activating the engine before it's too late.\n",
    "\n",
    "Using the future position projected at dt+3 or dt+5, the model predicts the crash only one timestep before it actually happens, which is too late to correct the rocket's trajectory.\n",
    "\n",
    "On the other hand, dt+10 predicts the crash three timesteps earlier, providing enough time to react. This makes it a good candidate for implementing a static decision rule to avoid crashes.\n",
    "\n",
    "However, depending on the rocket's speed and acceleration, using dt+10 can be problematic. If the rocket is already close to the ground and moving at low speed with low acceleration, the future position at dt+10 might incorrectly suggest a crash, causing the engine to turn on unnecessarily.\n",
    "\n",
    "For the reason, we will use reinforcement learning to learn landing correctly."
   ]
  },
  {
   "cell_type": "markdown",
   "id": "268d8ce7",
   "metadata": {},
   "source": [
    "# <span style=\"color:orange\">Rewards</span>\n",
    "\n",
    "Before to use reinforcement learning. Let's see how each global reward and its individual components (without their weighting coefficients) evolve. As a reminder, the reward formula for the booster is:\n",
    "\n",
    "$$  -2 * distance\\_y\\_reward + speed\\_y\\_reward + 0.5 * ratio\\_fuel $$ \n",
    "\n",
    "We know that in our first attempt, the rocket did not respect the speed limitation.\n",
    "Let’s check whether this undesired behavior is properly detected and penalized by the reward function."
   ]
  },
  {
   "cell_type": "code",
   "execution_count": 5,
   "id": "1b6c6882",
   "metadata": {},
   "outputs": [
    {
     "name": "stdout",
     "output_type": "stream",
     "text": [
      "speed limit\n",
      "turn on engine to increase speed\n",
      "speed limit\n",
      "turn on engine to increase speed\n",
      "speed limit\n",
      "turn on engine to increase speed\n",
      "speed limit\n",
      "turn on engine to increase speed\n",
      "rocket is bellow the ground\n"
     ]
    },
    {
     "data": {
      "application/vnd.plotly.v1+json": {
       "config": {
        "plotlyServerURL": "https://plot.ly"
       },
       "data": [
        {
         "mode": "lines+markers",
         "name": "distance_y_reward",
         "type": "scatter",
         "x": [
          0,
          3,
          6,
          9,
          12,
          15,
          18,
          21
         ],
         "y": [
          1,
          0.9166857142857142,
          0.7500571428571428,
          0.5506997658079625,
          0.37004215456674466,
          0.20979907117056318,
          0.07174391463419633,
          0.04228821882724185
         ]
        },
        {
         "mode": "lines+markers",
         "name": "speed_y_reward",
         "type": "scatter",
         "x": [
          0,
          3,
          6,
          9,
          12,
          15,
          18,
          21
         ],
         "y": [
          0,
          0,
          -4.268359890369506,
          -2.9544575190811746,
          -1.7979235858408669,
          -0.8047895085657357,
          0,
          0
         ]
        },
        {
         "mode": "lines+markers",
         "name": "ratio_fuel",
         "type": "scatter",
         "x": [
          0,
          3,
          6,
          9,
          12,
          15,
          18,
          21
         ],
         "y": [
          1,
          1,
          1,
          0.9833333333333333,
          0.9666666666666667,
          0.95,
          0.9333333333333333,
          0.9166666666666666
         ]
        },
        {
         "mode": "lines+markers",
         "name": "Sum of rewards",
         "type": "scatter",
         "x": [
          0,
          3,
          6,
          9,
          12,
          15,
          18,
          21
         ],
         "y": [
          -1.5,
          -1.3333714285714284,
          -5.268474176083792,
          -3.5641903840304328,
          -2.054674561641023,
          -0.7493876509068621,
          0.323178837398274,
          0.3737568956788496
         ]
        }
       ],
       "layout": {
        "template": {
         "data": {
          "bar": [
           {
            "error_x": {
             "color": "#2a3f5f"
            },
            "error_y": {
             "color": "#2a3f5f"
            },
            "marker": {
             "line": {
              "color": "#E5ECF6",
              "width": 0.5
             },
             "pattern": {
              "fillmode": "overlay",
              "size": 10,
              "solidity": 0.2
             }
            },
            "type": "bar"
           }
          ],
          "barpolar": [
           {
            "marker": {
             "line": {
              "color": "#E5ECF6",
              "width": 0.5
             },
             "pattern": {
              "fillmode": "overlay",
              "size": 10,
              "solidity": 0.2
             }
            },
            "type": "barpolar"
           }
          ],
          "carpet": [
           {
            "aaxis": {
             "endlinecolor": "#2a3f5f",
             "gridcolor": "white",
             "linecolor": "white",
             "minorgridcolor": "white",
             "startlinecolor": "#2a3f5f"
            },
            "baxis": {
             "endlinecolor": "#2a3f5f",
             "gridcolor": "white",
             "linecolor": "white",
             "minorgridcolor": "white",
             "startlinecolor": "#2a3f5f"
            },
            "type": "carpet"
           }
          ],
          "choropleth": [
           {
            "colorbar": {
             "outlinewidth": 0,
             "ticks": ""
            },
            "type": "choropleth"
           }
          ],
          "contour": [
           {
            "colorbar": {
             "outlinewidth": 0,
             "ticks": ""
            },
            "colorscale": [
             [
              0,
              "#0d0887"
             ],
             [
              0.1111111111111111,
              "#46039f"
             ],
             [
              0.2222222222222222,
              "#7201a8"
             ],
             [
              0.3333333333333333,
              "#9c179e"
             ],
             [
              0.4444444444444444,
              "#bd3786"
             ],
             [
              0.5555555555555556,
              "#d8576b"
             ],
             [
              0.6666666666666666,
              "#ed7953"
             ],
             [
              0.7777777777777778,
              "#fb9f3a"
             ],
             [
              0.8888888888888888,
              "#fdca26"
             ],
             [
              1,
              "#f0f921"
             ]
            ],
            "type": "contour"
           }
          ],
          "contourcarpet": [
           {
            "colorbar": {
             "outlinewidth": 0,
             "ticks": ""
            },
            "type": "contourcarpet"
           }
          ],
          "heatmap": [
           {
            "colorbar": {
             "outlinewidth": 0,
             "ticks": ""
            },
            "colorscale": [
             [
              0,
              "#0d0887"
             ],
             [
              0.1111111111111111,
              "#46039f"
             ],
             [
              0.2222222222222222,
              "#7201a8"
             ],
             [
              0.3333333333333333,
              "#9c179e"
             ],
             [
              0.4444444444444444,
              "#bd3786"
             ],
             [
              0.5555555555555556,
              "#d8576b"
             ],
             [
              0.6666666666666666,
              "#ed7953"
             ],
             [
              0.7777777777777778,
              "#fb9f3a"
             ],
             [
              0.8888888888888888,
              "#fdca26"
             ],
             [
              1,
              "#f0f921"
             ]
            ],
            "type": "heatmap"
           }
          ],
          "heatmapgl": [
           {
            "colorbar": {
             "outlinewidth": 0,
             "ticks": ""
            },
            "colorscale": [
             [
              0,
              "#0d0887"
             ],
             [
              0.1111111111111111,
              "#46039f"
             ],
             [
              0.2222222222222222,
              "#7201a8"
             ],
             [
              0.3333333333333333,
              "#9c179e"
             ],
             [
              0.4444444444444444,
              "#bd3786"
             ],
             [
              0.5555555555555556,
              "#d8576b"
             ],
             [
              0.6666666666666666,
              "#ed7953"
             ],
             [
              0.7777777777777778,
              "#fb9f3a"
             ],
             [
              0.8888888888888888,
              "#fdca26"
             ],
             [
              1,
              "#f0f921"
             ]
            ],
            "type": "heatmapgl"
           }
          ],
          "histogram": [
           {
            "marker": {
             "pattern": {
              "fillmode": "overlay",
              "size": 10,
              "solidity": 0.2
             }
            },
            "type": "histogram"
           }
          ],
          "histogram2d": [
           {
            "colorbar": {
             "outlinewidth": 0,
             "ticks": ""
            },
            "colorscale": [
             [
              0,
              "#0d0887"
             ],
             [
              0.1111111111111111,
              "#46039f"
             ],
             [
              0.2222222222222222,
              "#7201a8"
             ],
             [
              0.3333333333333333,
              "#9c179e"
             ],
             [
              0.4444444444444444,
              "#bd3786"
             ],
             [
              0.5555555555555556,
              "#d8576b"
             ],
             [
              0.6666666666666666,
              "#ed7953"
             ],
             [
              0.7777777777777778,
              "#fb9f3a"
             ],
             [
              0.8888888888888888,
              "#fdca26"
             ],
             [
              1,
              "#f0f921"
             ]
            ],
            "type": "histogram2d"
           }
          ],
          "histogram2dcontour": [
           {
            "colorbar": {
             "outlinewidth": 0,
             "ticks": ""
            },
            "colorscale": [
             [
              0,
              "#0d0887"
             ],
             [
              0.1111111111111111,
              "#46039f"
             ],
             [
              0.2222222222222222,
              "#7201a8"
             ],
             [
              0.3333333333333333,
              "#9c179e"
             ],
             [
              0.4444444444444444,
              "#bd3786"
             ],
             [
              0.5555555555555556,
              "#d8576b"
             ],
             [
              0.6666666666666666,
              "#ed7953"
             ],
             [
              0.7777777777777778,
              "#fb9f3a"
             ],
             [
              0.8888888888888888,
              "#fdca26"
             ],
             [
              1,
              "#f0f921"
             ]
            ],
            "type": "histogram2dcontour"
           }
          ],
          "mesh3d": [
           {
            "colorbar": {
             "outlinewidth": 0,
             "ticks": ""
            },
            "type": "mesh3d"
           }
          ],
          "parcoords": [
           {
            "line": {
             "colorbar": {
              "outlinewidth": 0,
              "ticks": ""
             }
            },
            "type": "parcoords"
           }
          ],
          "pie": [
           {
            "automargin": true,
            "type": "pie"
           }
          ],
          "scatter": [
           {
            "fillpattern": {
             "fillmode": "overlay",
             "size": 10,
             "solidity": 0.2
            },
            "type": "scatter"
           }
          ],
          "scatter3d": [
           {
            "line": {
             "colorbar": {
              "outlinewidth": 0,
              "ticks": ""
             }
            },
            "marker": {
             "colorbar": {
              "outlinewidth": 0,
              "ticks": ""
             }
            },
            "type": "scatter3d"
           }
          ],
          "scattercarpet": [
           {
            "marker": {
             "colorbar": {
              "outlinewidth": 0,
              "ticks": ""
             }
            },
            "type": "scattercarpet"
           }
          ],
          "scattergeo": [
           {
            "marker": {
             "colorbar": {
              "outlinewidth": 0,
              "ticks": ""
             }
            },
            "type": "scattergeo"
           }
          ],
          "scattergl": [
           {
            "marker": {
             "colorbar": {
              "outlinewidth": 0,
              "ticks": ""
             }
            },
            "type": "scattergl"
           }
          ],
          "scattermapbox": [
           {
            "marker": {
             "colorbar": {
              "outlinewidth": 0,
              "ticks": ""
             }
            },
            "type": "scattermapbox"
           }
          ],
          "scatterpolar": [
           {
            "marker": {
             "colorbar": {
              "outlinewidth": 0,
              "ticks": ""
             }
            },
            "type": "scatterpolar"
           }
          ],
          "scatterpolargl": [
           {
            "marker": {
             "colorbar": {
              "outlinewidth": 0,
              "ticks": ""
             }
            },
            "type": "scatterpolargl"
           }
          ],
          "scatterternary": [
           {
            "marker": {
             "colorbar": {
              "outlinewidth": 0,
              "ticks": ""
             }
            },
            "type": "scatterternary"
           }
          ],
          "surface": [
           {
            "colorbar": {
             "outlinewidth": 0,
             "ticks": ""
            },
            "colorscale": [
             [
              0,
              "#0d0887"
             ],
             [
              0.1111111111111111,
              "#46039f"
             ],
             [
              0.2222222222222222,
              "#7201a8"
             ],
             [
              0.3333333333333333,
              "#9c179e"
             ],
             [
              0.4444444444444444,
              "#bd3786"
             ],
             [
              0.5555555555555556,
              "#d8576b"
             ],
             [
              0.6666666666666666,
              "#ed7953"
             ],
             [
              0.7777777777777778,
              "#fb9f3a"
             ],
             [
              0.8888888888888888,
              "#fdca26"
             ],
             [
              1,
              "#f0f921"
             ]
            ],
            "type": "surface"
           }
          ],
          "table": [
           {
            "cells": {
             "fill": {
              "color": "#EBF0F8"
             },
             "line": {
              "color": "white"
             }
            },
            "header": {
             "fill": {
              "color": "#C8D4E3"
             },
             "line": {
              "color": "white"
             }
            },
            "type": "table"
           }
          ]
         },
         "layout": {
          "annotationdefaults": {
           "arrowcolor": "#2a3f5f",
           "arrowhead": 0,
           "arrowwidth": 1
          },
          "autotypenumbers": "strict",
          "coloraxis": {
           "colorbar": {
            "outlinewidth": 0,
            "ticks": ""
           }
          },
          "colorscale": {
           "diverging": [
            [
             0,
             "#8e0152"
            ],
            [
             0.1,
             "#c51b7d"
            ],
            [
             0.2,
             "#de77ae"
            ],
            [
             0.3,
             "#f1b6da"
            ],
            [
             0.4,
             "#fde0ef"
            ],
            [
             0.5,
             "#f7f7f7"
            ],
            [
             0.6,
             "#e6f5d0"
            ],
            [
             0.7,
             "#b8e186"
            ],
            [
             0.8,
             "#7fbc41"
            ],
            [
             0.9,
             "#4d9221"
            ],
            [
             1,
             "#276419"
            ]
           ],
           "sequential": [
            [
             0,
             "#0d0887"
            ],
            [
             0.1111111111111111,
             "#46039f"
            ],
            [
             0.2222222222222222,
             "#7201a8"
            ],
            [
             0.3333333333333333,
             "#9c179e"
            ],
            [
             0.4444444444444444,
             "#bd3786"
            ],
            [
             0.5555555555555556,
             "#d8576b"
            ],
            [
             0.6666666666666666,
             "#ed7953"
            ],
            [
             0.7777777777777778,
             "#fb9f3a"
            ],
            [
             0.8888888888888888,
             "#fdca26"
            ],
            [
             1,
             "#f0f921"
            ]
           ],
           "sequentialminus": [
            [
             0,
             "#0d0887"
            ],
            [
             0.1111111111111111,
             "#46039f"
            ],
            [
             0.2222222222222222,
             "#7201a8"
            ],
            [
             0.3333333333333333,
             "#9c179e"
            ],
            [
             0.4444444444444444,
             "#bd3786"
            ],
            [
             0.5555555555555556,
             "#d8576b"
            ],
            [
             0.6666666666666666,
             "#ed7953"
            ],
            [
             0.7777777777777778,
             "#fb9f3a"
            ],
            [
             0.8888888888888888,
             "#fdca26"
            ],
            [
             1,
             "#f0f921"
            ]
           ]
          },
          "colorway": [
           "#636efa",
           "#EF553B",
           "#00cc96",
           "#ab63fa",
           "#FFA15A",
           "#19d3f3",
           "#FF6692",
           "#B6E880",
           "#FF97FF",
           "#FECB52"
          ],
          "font": {
           "color": "#2a3f5f"
          },
          "geo": {
           "bgcolor": "white",
           "lakecolor": "white",
           "landcolor": "#E5ECF6",
           "showlakes": true,
           "showland": true,
           "subunitcolor": "white"
          },
          "hoverlabel": {
           "align": "left"
          },
          "hovermode": "closest",
          "mapbox": {
           "style": "light"
          },
          "paper_bgcolor": "white",
          "plot_bgcolor": "#E5ECF6",
          "polar": {
           "angularaxis": {
            "gridcolor": "white",
            "linecolor": "white",
            "ticks": ""
           },
           "bgcolor": "#E5ECF6",
           "radialaxis": {
            "gridcolor": "white",
            "linecolor": "white",
            "ticks": ""
           }
          },
          "scene": {
           "xaxis": {
            "backgroundcolor": "#E5ECF6",
            "gridcolor": "white",
            "gridwidth": 2,
            "linecolor": "white",
            "showbackground": true,
            "ticks": "",
            "zerolinecolor": "white"
           },
           "yaxis": {
            "backgroundcolor": "#E5ECF6",
            "gridcolor": "white",
            "gridwidth": 2,
            "linecolor": "white",
            "showbackground": true,
            "ticks": "",
            "zerolinecolor": "white"
           },
           "zaxis": {
            "backgroundcolor": "#E5ECF6",
            "gridcolor": "white",
            "gridwidth": 2,
            "linecolor": "white",
            "showbackground": true,
            "ticks": "",
            "zerolinecolor": "white"
           }
          },
          "shapedefaults": {
           "line": {
            "color": "#2a3f5f"
           }
          },
          "ternary": {
           "aaxis": {
            "gridcolor": "white",
            "linecolor": "white",
            "ticks": ""
           },
           "baxis": {
            "gridcolor": "white",
            "linecolor": "white",
            "ticks": ""
           },
           "bgcolor": "#E5ECF6",
           "caxis": {
            "gridcolor": "white",
            "linecolor": "white",
            "ticks": ""
           }
          },
          "title": {
           "x": 0.05
          },
          "xaxis": {
           "automargin": true,
           "gridcolor": "white",
           "linecolor": "white",
           "ticks": "",
           "title": {
            "standoff": 15
           },
           "zerolinecolor": "white",
           "zerolinewidth": 2
          },
          "yaxis": {
           "automargin": true,
           "gridcolor": "white",
           "linecolor": "white",
           "ticks": "",
           "title": {
            "standoff": 15
           },
           "zerolinecolor": "white",
           "zerolinewidth": 2
          }
         }
        },
        "title": {
         "text": "Reward and its components"
        },
        "xaxis": {
         "title": {
          "text": "Time step"
         }
        },
        "yaxis": {
         "title": {
          "text": "Score"
         }
        }
       }
      }
     },
     "metadata": {},
     "output_type": "display_data"
    }
   ],
   "source": [
    "env_ref.reset()\n",
    "df_0 = rocket_simulation(env_ref, acceleration_y_constraint = 10, speed_y_limit = 5, timestep = 0)\n",
    "plot_reward_rocket_monoagent(env_ref)"
   ]
  },
  {
   "cell_type": "markdown",
   "id": "b1181503",
   "metadata": {},
   "source": [
    "As we can see, when the rocket's speed is out of the desired range, the speed reward is negatively impacted, and its influence becomes stronger—even as the rocket gets closer to the ground.\n",
    "Only when the rocket's speed returns to within the acceptable range does the speed penalty drop back to zero."
   ]
  },
  {
   "cell_type": "markdown",
   "id": "e5bc9cc0",
   "metadata": {},
   "source": [
    "## <span style=\"color:orange\">Reinforcemet learning</span>\n",
    "\n",
    "\n",
    "After load our environment, next step is to create QLearningTrainer objet. It will apply Qlearning algorithm. For each states, the algorithm will apply a score base to the next iteration.\n",
    "\n",
    "The Bellman equation is the value function use in reinforcement learning. \n",
    "\n",
    "$V(s,a) = V(s, a)+ \\alpha * (R+\\gamma * max(V(s', a')) - V(s, a))$\n",
    "\n",
    "Where:\n",
    "\n",
    "* $V(s, a)$ is the estimated value of state $s$ and actions $a$\n",
    "* $s$ is the curent state\n",
    "* $s'$ is the next state\n",
    "* $a$ is action taken\n",
    "* $a'$ next possible actions that maximize reward\n",
    "* $R$ is the immediate reward received after transitioning\n",
    "* $\\gamma$ is the discount factor, which determines the importance of future rewards.\n",
    "* $\\alpha$ is the learning rate."
   ]
  },
  {
   "cell_type": "code",
   "execution_count": 6,
   "id": "f5c07191",
   "metadata": {},
   "outputs": [
    {
     "name": "stdout",
     "output_type": "stream",
     "text": [
      "check order names for states_variables\n",
      "\n",
      "Check order names for agent_variables\n",
      "\n",
      "check limit number of field\n",
      "\n",
      "Check limit boundaries for initial state\n",
      "\n",
      "Solve equations present in equations_variables field\n",
      "\n",
      "Solve equations present in equations_rewards field\n",
      "\n",
      "Everything is good :)\n"
     ]
    }
   ],
   "source": [
    "# Load RL object\n",
    "env = Environment(JOSN_file, check_model = True)\n",
    "RL = QLearningTrainer(env, \n",
    "                      num_episodes = 1000, \n",
    "                      convergence_criterion = 0.5, \n",
    "                      decay_type = \"exponential\",\n",
    "                      decrease_prob_exp = 0.015)"
   ]
  },
  {
   "cell_type": "markdown",
   "id": "d0d31355",
   "metadata": {},
   "source": [
    "Different parameters are avaible. For the tutorial, you use default parameters. Before to lunch training. Lets discus about the input parameters."
   ]
  },
  {
   "cell_type": "markdown",
   "id": "fd6c9872",
   "metadata": {},
   "source": [
    "### <span style=\"color:orange\">Learning rate</span>\n",
    "\n",
    "\n",
    "The learning rate $\\alpha$ in the Bellman equation controls the weight given to the new estimate compared to the existing estimate of the state value. A smaller learning rate means that the new estimate has less influence, and the agent is more conservative in updating its value function. A larger learning rate allows the agent to adjust its estimates more rapidly based on new information\n",
    "\n",
    "### <span style=\"color:orange\">Discount factor (gamma)</span>\n",
    "\n",
    "The discount factor $\\gamma$, is a key hyperparameter that controls how much the agent values future rewards compared to immediate rewards. For rocket landing, $\\gamma$ equal to 0.99, since we are optimizing over multiple steps to reach a safe landing.\n",
    "\n",
    "### <span style=\"color:orange\">Epsilon parameter</span>\n",
    "\n",
    "Exploration-exploitation is a fundamental trade-off in reinforcement learning, where the agent needs to balance between exploring new actions and exploiting the knowledge it has gained so far.\n",
    "\n",
    "The epsilon-greedy policy is a simple strategy that the agent uses to decide whether to explore a new action (random exploration) or exploit the current best-known action. It helps prevent the agent from getting stuck in suboptimal policies by occasionally trying new actions. The value of epsilon determines the probabilty the agent chooses a random action. A higher epsilon encourages more exploration, while a lower epsilon emphasizes exploitation of the current best-known actions.ent knowledge.\n",
    "\n",
    "The epsilon parameter is decayed over time during training. This means that, as the agent gains more experience, it tends to rely more on exploitation and less on exploration. The idea is that, as the agent learns and becomes more confident in its estimates, it gradually reduces the rate of exploration. \n",
    "\n",
    "Epsilon initailization is made with the argument **exploration_prob**. It is a list with the lowest and the highest probability values. The probability will decrease with a rate given by the argument **decrease_prob_exp**. By default epsilon is modeled with a linear decay but you can change it to a exponential decay.\n"
   ]
  },
  {
   "cell_type": "code",
   "execution_count": 7,
   "id": "2b309bce",
   "metadata": {},
   "outputs": [
    {
     "data": {
      "image/png": "[encoded data removed]",
      "text/plain": [
       "<Figure size 640x480 with 1 Axes>"
      ]
     },
     "metadata": {},
     "output_type": "display_data"
    }
   ],
   "source": [
    "plt.plot(RL.get_epsilon(decay_type = 'linear')[0:400], label = \"linear decay\")\n",
    "plt.plot(RL.get_epsilon(decay_type = 'exponential')[0:400], label = \"exponential decay\")\n",
    "plt.title(\"Probability to choose a random action\")\n",
    "plt.legend()\n",
    "plt.xlabel(\"# episode\")\n",
    "plt.ylabel(\"Epsilon value\")\n",
    "plt.show()"
   ]
  },
  {
   "cell_type": "markdown",
   "id": "db8234ff",
   "metadata": {},
   "source": [
    "### <span style=\"color:orange\">num_episodes, run_limit and convergence_criterion</span>\n",
    "\n",
    "The last three options are hyperparameters that impact computation time:\n",
    "* ``num_episodes``: The maximum number of training episodes.\n",
    "* ``run_limit``: The maximum number of iterations allowed within a single episode before it is forcefully stopped.\n",
    "* ``convergence_criterion``: The threshold used to determine convergence, based on the difference in Q-values between two iterations.\n"
   ]
  },
  {
   "cell_type": "markdown",
   "id": "7b46904f",
   "metadata": {},
   "source": [
    "Before launching the training, it's important to understand that the Q-learning algorithm operates in a discretized space.\n",
    "The spacing between bins can significantly impact convergence. If a discretized bin groups together too many different underlying states, the Q-table may become unstable, making it difficult for the algorithm to converge.\n",
    "\n",
    "Let's examine how our space is discretized using ``RL.env.json[\"limit\"]``.\n",
    "The agent variable (booster) has 3 bins, while the state variables \"pos_y\", \"acceleration_y\", \"speed_y\", and \"weight_rocket\" have 41, 31, 21, and 62 bins, respectively.\n",
    "\n",
    "This results in a Q-table with:\n",
    "Our Q table is composed of $$ 3 * 41 *31 *21 *62 = 4 964 526\\  states $$\n",
    "\n",
    "Does that mean our system will visit every possible state?\n",
    "Of course not. Remember, the Q-learning algorithm starts with a random exploration (a random walk), but over time, the agent’s exploration becomes guided by what it has already experienced.\n",
    "As a result, some states may never be visited if the agent never finds a path leading to them or if they are not useful for improving the policy."
   ]
  },
  {
   "cell_type": "markdown",
   "id": "ba1e25d2",
   "metadata": {},
   "source": [
    "### <span style=\"color:orange\">Training</span>\n",
    "\n",
    "Training with our parameters should take between 8 and 10 minutes. You can also load a pre-trained RL object (trained ouput are stored in ``saved_model/output_train_monoagent.txt``). If you want to generate the model from scratch, start training with the command: ``RL.q_learning()``"
   ]
  },
  {
   "cell_type": "code",
   "execution_count": null,
   "id": "0bba9fa7",
   "metadata": {},
   "outputs": [],
   "source": [
    "with open('saved_model/RL_monoagent.pkl', 'rb') as f:\n",
    "    RL = pickle.load(f)"
   ]
  },
  {
   "cell_type": "code",
   "execution_count": null,
   "id": "db459391",
   "metadata": {},
   "outputs": [
    {
     "name": "stdout",
     "output_type": "stream",
     "text": [
      "Episode 1/1000\n",
      "exploration_prob : 1.000\n",
      "No action possible. Stop episode at 2th iterations\n",
      "Save last state even is out of bound\n",
      "Q table still growths\n",
      "Loss : -33.561087450218324\n",
      "end while loop iteration :  2\n",
      "Episode 2/1000\n",
      "exploration_prob : 0.985\n",
      "No action possible. Stop episode at 17th iterations\n",
      "Save last state even is out of bound\n",
      "Q table still growths\n",
      "Loss : -144.30129991058595\n",
      "end while loop iteration :  17\n",
      "Episode 3/1000\n",
      "exploration_prob : 0.970\n",
      "No action possible. Stop episode at 6th iterations\n",
      "Save last state even is out of bound\n",
      "Q table still growths\n",
      "Loss : -36.29296367960765\n",
      "end while loop iteration :  6\n",
      "Episode 4/1000\n",
      "exploration_prob : 0.956\n",
      "No action possible. Stop episode at 4th iterations\n",
      "Save last state even is out of bound\n",
      "Q table still growths\n",
      "Loss : -67.34329956202285\n",
      "end while loop iteration :  4\n",
      "Episode 5/1000\n",
      "exploration_prob : 0.942\n",
      "No action possible. Stop episode at 10th iterations\n",
      "Save last state even is out of bound\n",
      "Q table still growths\n",
      "Loss : -70.76001454371004\n",
      "end while loop iteration :  10\n",
      "Episode 6/1000\n",
      "exploration_prob : 0.928\n",
      "No action possible. Stop episode at 8th iterations\n",
      "Save last state even is out of bound\n",
      "Q table still growths\n",
      "Loss : -49.535815331702004\n",
      "end while loop iteration :  8\n",
      "Episode 7/1000\n",
      "exploration_prob : 0.914\n",
      "No action possible. Stop episode at 8th iterations\n",
      "Save last state even is out of bound\n",
      "Q table still growths\n",
      "Loss : -68.76956445229652\n",
      "end while loop iteration :  8\n",
      "Episode 8/1000\n",
      "exploration_prob : 0.900\n",
      "No action possible. Stop episode at 9th iterations\n",
      "Save last state even is out of bound\n",
      "Q table still growths\n",
      "Loss : -61.65800237182796\n",
      "end while loop iteration :  9\n",
      "Episode 9/1000\n",
      "exploration_prob : 0.887\n",
      "No action possible. Stop episode at 7th iterations\n",
      "Save last state even is out of bound\n",
      "Q table still growths\n",
      "Loss : -33.79373784028871\n",
      "end while loop iteration :  7\n",
      "Episode 10/1000\n",
      "exploration_prob : 0.874\n",
      "No action possible. Stop episode at 9th iterations\n",
      "Save last state even is out of bound\n",
      "Q table still growths\n",
      "Loss : -58.449979294375474\n",
      "end while loop iteration :  9\n",
      "Episode 11/1000\n",
      "exploration_prob : 0.861\n",
      "No action possible. Stop episode at 5th iterations\n",
      "Save last state even is out of bound\n",
      "diff Qtable_N - Qtable_N-1  2.7938549111121\n",
      "Loss : -41.041633653212195\n",
      "end while loop iteration :  5\n",
      "Episode 12/1000\n",
      "exploration_prob : 0.848\n",
      "No action possible. Stop episode at 2th iterations\n",
      "Save last state even is out of bound\n",
      "Q table still growths\n",
      "Loss : -15.145059027596101\n",
      "end while loop iteration :  2\n",
      "Episode 13/1000\n",
      "exploration_prob : 0.835\n",
      "No action possible. Stop episode at 3th iterations\n",
      "Save last state even is out of bound\n",
      "Q table still growths\n",
      "Loss : -14.29134639316939\n",
      "end while loop iteration :  3\n",
      "Episode 14/1000\n",
      "exploration_prob : 0.823\n",
      "No action possible. Stop episode at 13th iterations\n",
      "Save last state even is out of bound\n",
      "Q table still growths\n",
      "Loss : -130.58520927181792\n",
      "end while loop iteration :  13\n",
      "Episode 15/1000\n",
      "exploration_prob : 0.811\n",
      "No action possible. Stop episode at 6th iterations\n",
      "Save last state even is out of bound\n",
      "Q table still growths\n",
      "Loss : -49.09054722886897\n",
      "end while loop iteration :  6\n",
      "Episode 16/1000\n",
      "exploration_prob : 0.799\n",
      "stop episode because agent reach goal\n",
      "stop episode because agent reach goal\n",
      "Q table still growths\n",
      "Loss : -23.85242008438873\n",
      "end while loop iteration :  11\n",
      "Episode 17/1000\n",
      "exploration_prob : 0.787\n",
      "No action possible. Stop episode at 3th iterations\n",
      "Save last state even is out of bound\n",
      "Q table still growths\n",
      "Loss : -47.297541865750546\n",
      "end while loop iteration :  3\n",
      "Episode 18/1000\n",
      "exploration_prob : 0.775\n",
      "No action possible. Stop episode at 8th iterations\n",
      "Save last state even is out of bound\n",
      "Q table still growths\n",
      "Loss : -84.47238412378277\n",
      "end while loop iteration :  8\n",
      "Episode 19/1000\n",
      "exploration_prob : 0.763\n",
      "No action possible. Stop episode at 7th iterations\n",
      "Save last state even is out of bound\n",
      "Q table still growths\n",
      "Loss : -72.40468177750263\n",
      "end while loop iteration :  7\n",
      "Episode 20/1000\n",
      "exploration_prob : 0.752\n",
      "No action possible. Stop episode at 10th iterations\n",
      "Save last state even is out of bound\n",
      "Q table still growths\n",
      "Loss : -15.738593524408557\n",
      "end while loop iteration :  10\n",
      "Episode 21/1000\n",
      "exploration_prob : 0.741\n",
      "No action possible. Stop episode at 9th iterations\n",
      "Save last state even is out of bound\n",
      "Q table still growths\n",
      "Loss : -208.93668528359018\n",
      "end while loop iteration :  9\n",
      "Episode 22/1000\n",
      "exploration_prob : 0.730\n",
      "No action possible. Stop episode at 24th iterations\n",
      "Save last state even is out of bound\n",
      "Q table still growths\n",
      "Loss : -671.0736201735891\n",
      "end while loop iteration :  24\n",
      "Episode 23/1000\n",
      "exploration_prob : 0.719\n",
      "No action possible. Stop episode at 7th iterations\n",
      "Save last state even is out of bound\n",
      "diff Qtable_N - Qtable_N-1  0.3959500825269204\n",
      "Loss : -23.287796569612247\n",
      "end while loop iteration :  7\n",
      "Episode 24/1000\n",
      "exploration_prob : 0.708\n",
      "No action possible. Stop episode at 12th iterations\n",
      "Save last state even is out of bound\n",
      "Q table still growths\n",
      "Loss : -47.12945068772555\n",
      "end while loop iteration :  12\n",
      "Episode 25/1000\n",
      "exploration_prob : 0.698\n",
      "No action possible. Stop episode at 2th iterations\n",
      "Save last state even is out of bound\n",
      "Q table still growths\n",
      "Loss : -10.749946442630739\n",
      "end while loop iteration :  2\n",
      "Episode 26/1000\n",
      "exploration_prob : 0.687\n",
      "stop episode because agent reach goal\n",
      "stop episode because agent reach goal\n",
      "Q table still growths\n",
      "Loss : -24.883201503949532\n",
      "end while loop iteration :  14\n",
      "Episode 27/1000\n",
      "exploration_prob : 0.677\n",
      "No action possible. Stop episode at 7th iterations\n",
      "Save last state even is out of bound\n",
      "Q table still growths\n",
      "Loss : -35.29021918117022\n",
      "end while loop iteration :  7\n",
      "Episode 28/1000\n",
      "exploration_prob : 0.667\n",
      "No action possible. Stop episode at 18th iterations\n",
      "Save last state even is out of bound\n",
      "Q table still growths\n",
      "Loss : -59.3666761640566\n",
      "end while loop iteration :  18\n",
      "Episode 29/1000\n",
      "exploration_prob : 0.657\n",
      "No action possible. Stop episode at 10th iterations\n",
      "Save last state even is out of bound\n",
      "Q table still growths\n",
      "Loss : -156.50665965876385\n",
      "end while loop iteration :  10\n",
      "Episode 30/1000\n",
      "exploration_prob : 0.647\n",
      "No action possible. Stop episode at 7th iterations\n",
      "Save last state even is out of bound\n",
      "Q table still growths\n",
      "Loss : -64.30057274090959\n",
      "end while loop iteration :  7\n",
      "Episode 31/1000\n",
      "exploration_prob : 0.638\n",
      "No action possible. Stop episode at 8th iterations\n",
      "Save last state even is out of bound\n",
      "diff Qtable_N - Qtable_N-1  1.8717972927624011\n",
      "Loss : -30.71194653205892\n",
      "end while loop iteration :  8\n",
      "Episode 32/1000\n",
      "exploration_prob : 0.628\n",
      "No action possible. Stop episode at 2th iterations\n",
      "Save last state even is out of bound\n",
      "diff Qtable_N - Qtable_N-1  0.3303990893462469\n",
      "Loss : -10.749946442630739\n",
      "end while loop iteration :  2\n",
      "Episode 33/1000\n",
      "exploration_prob : 0.619\n",
      "No action possible. Stop episode at 6th iterations\n",
      "Save last state even is out of bound\n",
      "diff Qtable_N - Qtable_N-1  3.2792858927231485\n",
      "Loss : -49.09054722886897\n",
      "end while loop iteration :  6\n",
      "Episode 34/1000\n",
      "exploration_prob : 0.610\n",
      "stop episode because agent reach goal\n",
      "stop episode because agent reach goal\n",
      "Q table still growths\n",
      "Loss : -32.71685747943143\n",
      "end while loop iteration :  15\n",
      "Episode 35/1000\n",
      "exploration_prob : 0.600\n",
      "No action possible. Stop episode at 9th iterations\n",
      "Save last state even is out of bound\n",
      "Q table still growths\n",
      "Loss : -100.54284289495149\n",
      "end while loop iteration :  9\n",
      "Episode 36/1000\n",
      "exploration_prob : 0.592\n",
      "No action possible. Stop episode at 2th iterations\n",
      "Save last state even is out of bound\n",
      "diff Qtable_N - Qtable_N-1  0.29735918041162224\n",
      "Loss : -10.749946442630739\n",
      "end while loop iteration :  2\n",
      "Episode 37/1000\n",
      "exploration_prob : 0.583\n",
      "No action possible. Stop episode at 5th iterations\n",
      "Save last state even is out of bound\n",
      "Q table still growths\n",
      "Loss : -51.39965449851981\n",
      "end while loop iteration :  5\n",
      "Episode 38/1000\n",
      "exploration_prob : 0.574\n",
      "No action possible. Stop episode at 3th iterations\n",
      "Save last state even is out of bound\n",
      "diff Qtable_N - Qtable_N-1  0.38619221944428095\n",
      "Loss : -15.110865159432858\n",
      "end while loop iteration :  3\n",
      "Episode 39/1000\n",
      "exploration_prob : 0.566\n",
      "No action possible. Stop episode at 12th iterations\n",
      "Save last state even is out of bound\n",
      "Q table still growths\n",
      "Loss : -77.85607396285516\n",
      "end while loop iteration :  12\n",
      "Episode 40/1000\n",
      "exploration_prob : 0.557\n",
      "No action possible. Stop episode at 11th iterations\n",
      "Save last state even is out of bound\n",
      "Q table still growths\n",
      "Loss : -460.42048083441074\n",
      "end while loop iteration :  11\n",
      "Episode 41/1000\n",
      "exploration_prob : 0.549\n",
      "stop episode because agent reach goal\n",
      "stop episode because agent reach goal\n",
      "Q table still growths\n",
      "Loss : -13.929477503046455\n",
      "end while loop iteration :  8\n",
      "Episode 42/1000\n",
      "exploration_prob : 0.541\n",
      "No action possible. Stop episode at 6th iterations\n",
      "Save last state even is out of bound\n",
      "diff Qtable_N - Qtable_N-1  1.5751852546701834\n",
      "Loss : -23.98571359403595\n",
      "end while loop iteration :  6\n",
      "Episode 43/1000\n",
      "exploration_prob : 0.533\n",
      "No action possible. Stop episode at 13th iterations\n",
      "Save last state even is out of bound\n",
      "Q table still growths\n",
      "Loss : -213.61087376959796\n",
      "end while loop iteration :  13\n",
      "Episode 44/1000\n",
      "exploration_prob : 0.525\n",
      "stop episode because agent reach goal\n",
      "stop episode because agent reach goal\n",
      "diff Qtable_N - Qtable_N-1  1.1818803493878023\n",
      "Loss : -13.699232241029092\n",
      "end while loop iteration :  11\n",
      "Episode 45/1000\n",
      "exploration_prob : 0.517\n",
      "No action possible. Stop episode at 8th iterations\n",
      "Save last state even is out of bound\n",
      "Q table still growths\n",
      "Loss : -85.30938645280136\n",
      "end while loop iteration :  8\n",
      "Episode 46/1000\n",
      "exploration_prob : 0.509\n",
      "No action possible. Stop episode at 5th iterations\n",
      "Save last state even is out of bound\n",
      "diff Qtable_N - Qtable_N-1  10.94606616168345\n",
      "Loss : -61.76658863060094\n",
      "end while loop iteration :  5\n",
      "Episode 47/1000\n",
      "exploration_prob : 0.502\n",
      "No action possible. Stop episode at 10th iterations\n",
      "Save last state even is out of bound\n",
      "diff Qtable_N - Qtable_N-1  2.013222250086895\n",
      "Loss : -26.586644618769675\n",
      "end while loop iteration :  10\n",
      "Episode 48/1000\n",
      "exploration_prob : 0.494\n",
      "No action possible. Stop episode at 15th iterations\n",
      "Save last state even is out of bound\n",
      "Q table still growths\n",
      "Loss : -115.48162659252637\n",
      "end while loop iteration :  15\n",
      "Episode 49/1000\n",
      "exploration_prob : 0.487\n",
      "No action possible. Stop episode at 9th iterations\n",
      "Save last state even is out of bound\n",
      "Q table still growths\n",
      "Loss : -37.000687393492235\n",
      "end while loop iteration :  9\n",
      "Episode 50/1000\n",
      "exploration_prob : 0.480\n",
      "No action possible. Stop episode at 11th iterations\n",
      "Save last state even is out of bound\n",
      "Q table still growths\n",
      "Loss : -112.319509401436\n",
      "end while loop iteration :  11\n",
      "Episode 51/1000\n",
      "exploration_prob : 0.472\n",
      "No action possible. Stop episode at 2th iterations\n",
      "Save last state even is out of bound\n",
      "diff Qtable_N - Qtable_N-1  3.0532747630225443\n",
      "Loss : -33.561087450218324\n",
      "end while loop iteration :  2\n",
      "Episode 52/1000\n",
      "exploration_prob : 0.465\n",
      "No action possible. Stop episode at 5th iterations\n",
      "Save last state even is out of bound\n",
      "Q table still growths\n",
      "Loss : -79.97367455138208\n",
      "end while loop iteration :  5\n",
      "Episode 53/1000\n",
      "exploration_prob : 0.458\n",
      "stop episode because agent reach goal\n",
      "stop episode because agent reach goal\n",
      "Q table still growths\n",
      "Loss : -27.076468477142615\n",
      "end while loop iteration :  12\n",
      "Episode 54/1000\n",
      "exploration_prob : 0.452\n",
      "No action possible. Stop episode at 5th iterations\n",
      "Save last state even is out of bound\n",
      "Q table still growths\n",
      "Loss : -159.10441451140028\n",
      "end while loop iteration :  5\n",
      "Episode 55/1000\n",
      "exploration_prob : 0.445\n",
      "No action possible. Stop episode at 8th iterations\n",
      "Save last state even is out of bound\n",
      "Q table still growths\n",
      "Loss : -40.034967758764175\n",
      "end while loop iteration :  8\n",
      "Episode 56/1000\n",
      "exploration_prob : 0.438\n",
      "No action possible. Stop episode at 14th iterations\n",
      "Save last state even is out of bound\n",
      "Q table still growths\n",
      "Loss : -157.2986840200728\n",
      "end while loop iteration :  14\n",
      "Episode 57/1000\n",
      "exploration_prob : 0.432\n",
      "No action possible. Stop episode at 6th iterations\n",
      "Save last state even is out of bound\n",
      "diff Qtable_N - Qtable_N-1  0.6976955533574372\n",
      "Loss : -30.200919997889223\n",
      "end while loop iteration :  6\n",
      "Episode 58/1000\n",
      "exploration_prob : 0.425\n",
      "No action possible. Stop episode at 12th iterations\n",
      "Save last state even is out of bound\n",
      "Q table still growths\n",
      "Loss : -36.83493511186047\n",
      "end while loop iteration :  12\n",
      "Episode 59/1000\n",
      "exploration_prob : 0.419\n",
      "No action possible. Stop episode at 7th iterations\n",
      "Save last state even is out of bound\n",
      "Q table still growths\n",
      "Loss : -97.7891288661146\n",
      "end while loop iteration :  7\n",
      "Episode 60/1000\n",
      "exploration_prob : 0.413\n",
      "stop episode because agent reach goal\n",
      "No action possible. Stop episode at 19th iterations\n",
      "Save last state even is out of bound\n",
      "Q table still growths\n",
      "Loss : -115.06268711739128\n",
      "end while loop iteration :  19\n",
      "Episode 61/1000\n",
      "exploration_prob : 0.407\n",
      "No action possible. Stop episode at 3th iterations\n",
      "Save last state even is out of bound\n",
      "Q table still growths\n",
      "Loss : -21.252812308270656\n",
      "end while loop iteration :  3\n",
      "Episode 62/1000\n",
      "exploration_prob : 0.401\n",
      "No action possible. Stop episode at 9th iterations\n",
      "Save last state even is out of bound\n",
      "diff Qtable_N - Qtable_N-1  12.687861614306621\n",
      "Loss : -74.76429484581857\n",
      "end while loop iteration :  9\n",
      "Episode 63/1000\n",
      "exploration_prob : 0.395\n",
      "No action possible. Stop episode at 3th iterations\n",
      "Save last state even is out of bound\n",
      "diff Qtable_N - Qtable_N-1  4.800743545852964\n",
      "Loss : -47.19157243348105\n",
      "end while loop iteration :  3\n",
      "Episode 64/1000\n",
      "exploration_prob : 0.389\n",
      "stop episode because agent reach goal\n",
      "stop episode because agent reach goal\n",
      "diff Qtable_N - Qtable_N-1  1.1840830525624315\n",
      "Loss : -14.948303590598849\n",
      "end while loop iteration :  11\n",
      "Episode 65/1000\n",
      "exploration_prob : 0.383\n",
      "No action possible. Stop episode at 8th iterations\n",
      "Save last state even is out of bound\n",
      "diff Qtable_N - Qtable_N-1  17.109164850631846\n",
      "Loss : -73.39605243975859\n",
      "end while loop iteration :  8\n",
      "Episode 66/1000\n",
      "exploration_prob : 0.377\n",
      "No action possible. Stop episode at 7th iterations\n",
      "Save last state even is out of bound\n",
      "diff Qtable_N - Qtable_N-1  6.15422671328223\n",
      "Loss : -35.228662981107064\n",
      "end while loop iteration :  7\n",
      "Episode 67/1000\n",
      "exploration_prob : 0.372\n",
      "No action possible. Stop episode at 10th iterations\n",
      "Save last state even is out of bound\n",
      "diff Qtable_N - Qtable_N-1  2.076589161830758\n",
      "Loss : -47.315795205350994\n",
      "end while loop iteration :  10\n",
      "Episode 68/1000\n",
      "exploration_prob : 0.366\n",
      "stop episode because agent reach goal\n",
      "diff Qtable_N - Qtable_N-1  0.06292810773403246\n",
      "Loss : -20.856491300698725\n",
      "end while loop iteration :  12\n",
      "Episode 69/1000\n",
      "exploration_prob : 0.361\n",
      "No action possible. Stop episode at 13th iterations\n",
      "Save last state even is out of bound\n",
      "Q table still growths\n",
      "Loss : -54.09280763388621\n",
      "end while loop iteration :  13\n",
      "Episode 70/1000\n",
      "exploration_prob : 0.355\n",
      "No action possible. Stop episode at 21th iterations\n",
      "Save last state even is out of bound\n",
      "Q table still growths\n",
      "Loss : -49.86337176439843\n",
      "end while loop iteration :  21\n",
      "Episode 71/1000\n",
      "exploration_prob : 0.350\n",
      "No action possible. Stop episode at 8th iterations\n",
      "Save last state even is out of bound\n",
      "Q table still growths\n",
      "Loss : -29.082648687167516\n",
      "end while loop iteration :  8\n",
      "Episode 72/1000\n",
      "exploration_prob : 0.345\n",
      "No action possible. Stop episode at 12th iterations\n",
      "Save last state even is out of bound\n",
      "Q table still growths\n",
      "Loss : -103.44992900962306\n",
      "end while loop iteration :  12\n",
      "Episode 73/1000\n",
      "exploration_prob : 0.340\n",
      "stop episode because agent reach goal\n",
      "Q table still growths\n",
      "Loss : -12.622574111765788\n",
      "end while loop iteration :  8\n",
      "Episode 74/1000\n",
      "exploration_prob : 0.335\n",
      "No action possible. Stop episode at 4th iterations\n",
      "Save last state even is out of bound\n",
      "Q table still growths\n",
      "Loss : -16.781231885734915\n",
      "end while loop iteration :  4\n",
      "Episode 75/1000\n",
      "exploration_prob : 0.330\n",
      "No action possible. Stop episode at 11th iterations\n",
      "Save last state even is out of bound\n",
      "Q table still growths\n",
      "Loss : -22.805484761974665\n",
      "end while loop iteration :  11\n",
      "Episode 76/1000\n",
      "exploration_prob : 0.325\n",
      "No action possible. Stop episode at 15th iterations\n",
      "Save last state even is out of bound\n",
      "diff Qtable_N - Qtable_N-1  21.676308586496972\n",
      "Loss : -115.27804002266622\n",
      "end while loop iteration :  15\n",
      "Episode 77/1000\n",
      "exploration_prob : 0.320\n",
      "No action possible. Stop episode at 14th iterations\n",
      "Save last state even is out of bound\n",
      "Q table still growths\n",
      "Loss : -94.30419396530094\n",
      "end while loop iteration :  14\n",
      "Episode 78/1000\n",
      "exploration_prob : 0.315\n",
      "No action possible. Stop episode at 5th iterations\n",
      "Save last state even is out of bound\n",
      "diff Qtable_N - Qtable_N-1  0.6418246533014177\n",
      "Loss : -30.025323198639768\n",
      "end while loop iteration :  5\n",
      "Episode 79/1000\n",
      "exploration_prob : 0.310\n",
      "No action possible. Stop episode at 15th iterations\n",
      "Save last state even is out of bound\n",
      "Q table still growths\n",
      "Loss : -102.58701240137904\n",
      "end while loop iteration :  15\n",
      "Episode 80/1000\n",
      "exploration_prob : 0.306\n",
      "No action possible. Stop episode at 7th iterations\n",
      "Save last state even is out of bound\n",
      "Q table still growths\n",
      "Loss : -60.94728628071633\n",
      "end while loop iteration :  7\n",
      "Episode 81/1000\n",
      "exploration_prob : 0.301\n",
      "No action possible. Stop episode at 2th iterations\n",
      "Save last state even is out of bound\n",
      "diff Qtable_N - Qtable_N-1  0.7551434953921445\n",
      "Loss : -15.145059027596101\n",
      "end while loop iteration :  2\n",
      "Episode 82/1000\n",
      "exploration_prob : 0.297\n",
      "No action possible. Stop episode at 10th iterations\n",
      "Save last state even is out of bound\n",
      "Q table still growths\n",
      "Loss : -23.436857025171204\n",
      "end while loop iteration :  10\n",
      "Episode 83/1000\n",
      "exploration_prob : 0.292\n",
      "No action possible. Stop episode at 7th iterations\n",
      "Save last state even is out of bound\n",
      "Q table still growths\n",
      "Loss : -23.127646958309807\n",
      "end while loop iteration :  7\n",
      "Episode 84/1000\n",
      "exploration_prob : 0.288\n",
      "No action possible. Stop episode at 6th iterations\n",
      "Save last state even is out of bound\n",
      "diff Qtable_N - Qtable_N-1  1.5819317251455207\n",
      "Loss : -41.91518730477356\n",
      "end while loop iteration :  6\n",
      "Episode 85/1000\n",
      "exploration_prob : 0.284\n",
      "No action possible. Stop episode at 9th iterations\n",
      "Save last state even is out of bound\n",
      "diff Qtable_N - Qtable_N-1  0.012489592850916427\n",
      "Loss : -20.542899764711777\n",
      "end while loop iteration :  9\n",
      "Episode 86/1000\n",
      "exploration_prob : 0.279\n",
      "No action possible. Stop episode at 10th iterations\n",
      "Save last state even is out of bound\n",
      "Q table still growths\n",
      "Loss : -25.60874689336132\n",
      "end while loop iteration :  10\n",
      "Episode 87/1000\n",
      "exploration_prob : 0.275\n",
      "No action possible. Stop episode at 14th iterations\n",
      "Save last state even is out of bound\n",
      "Q table still growths\n",
      "Loss : -71.22605098768165\n",
      "end while loop iteration :  14\n",
      "Episode 88/1000\n",
      "exploration_prob : 0.271\n",
      "stop episode because agent reach goal\n",
      "stop episode because agent reach goal\n",
      "stop episode because agent reach goal\n",
      "Q table still growths\n",
      "Loss : -41.077487692433856\n",
      "end while loop iteration :  18\n",
      "Episode 89/1000\n",
      "exploration_prob : 0.267\n",
      "No action possible. Stop episode at 9th iterations\n",
      "Save last state even is out of bound\n",
      "diff Qtable_N - Qtable_N-1  12.393329069195733\n",
      "Loss : -56.94701578131388\n",
      "end while loop iteration :  9\n",
      "Episode 90/1000\n",
      "exploration_prob : 0.263\n",
      "No action possible. Stop episode at 10th iterations\n",
      "Save last state even is out of bound\n",
      "Q table still growths\n",
      "Loss : -44.680549096202725\n",
      "end while loop iteration :  10\n",
      "Episode 91/1000\n",
      "exploration_prob : 0.259\n",
      "No action possible. Stop episode at 11th iterations\n",
      "Save last state even is out of bound\n",
      "diff Qtable_N - Qtable_N-1  24.419847000041784\n",
      "Loss : -113.82191022361931\n",
      "end while loop iteration :  11\n",
      "Episode 92/1000\n",
      "exploration_prob : 0.255\n",
      "No action possible. Stop episode at 9th iterations\n",
      "Save last state even is out of bound\n",
      "diff Qtable_N - Qtable_N-1  12.405047191040664\n",
      "Loss : -54.852009935028526\n",
      "end while loop iteration :  9\n",
      "Episode 93/1000\n",
      "exploration_prob : 0.252\n",
      "No action possible. Stop episode at 11th iterations\n",
      "Save last state even is out of bound\n",
      "Q table still growths\n",
      "Loss : -47.771828770910524\n",
      "end while loop iteration :  11\n",
      "Episode 94/1000\n",
      "exploration_prob : 0.248\n",
      "No action possible. Stop episode at 12th iterations\n",
      "Save last state even is out of bound\n",
      "diff Qtable_N - Qtable_N-1  4.159705381436029\n",
      "Loss : -61.71417071476802\n",
      "end while loop iteration :  12\n",
      "Episode 95/1000\n",
      "exploration_prob : 0.244\n",
      "No action possible. Stop episode at 6th iterations\n",
      "Save last state even is out of bound\n",
      "Q table still growths\n",
      "Loss : -19.627444742397465\n",
      "end while loop iteration :  6\n",
      "Episode 96/1000\n",
      "exploration_prob : 0.241\n",
      "No action possible. Stop episode at 17th iterations\n",
      "Save last state even is out of bound\n",
      "Q table still growths\n",
      "Loss : -209.3878509326037\n",
      "end while loop iteration :  17\n",
      "Episode 97/1000\n",
      "exploration_prob : 0.237\n",
      "No action possible. Stop episode at 13th iterations\n",
      "Save last state even is out of bound\n",
      "Q table still growths\n",
      "Loss : -41.40233526433963\n",
      "end while loop iteration :  13\n",
      "Episode 98/1000\n",
      "exploration_prob : 0.233\n",
      "No action possible. Stop episode at 6th iterations\n",
      "Save last state even is out of bound\n",
      "Q table still growths\n",
      "Loss : -62.49779011379518\n",
      "end while loop iteration :  6\n",
      "Episode 99/1000\n",
      "exploration_prob : 0.230\n",
      "No action possible. Stop episode at 6th iterations\n",
      "Save last state even is out of bound\n",
      "diff Qtable_N - Qtable_N-1  1.5796758571373997\n",
      "Loss : -32.92955841402636\n",
      "end while loop iteration :  6\n",
      "Episode 100/1000\n",
      "exploration_prob : 0.227\n",
      "stop episode because agent reach goal\n",
      "stop episode because agent reach goal\n",
      "Q table still growths\n",
      "Loss : -34.88726457990163\n",
      "end while loop iteration :  19\n",
      "Episode 101/1000\n",
      "exploration_prob : 0.223\n",
      "No action possible. Stop episode at 6th iterations\n",
      "Save last state even is out of bound\n",
      "diff Qtable_N - Qtable_N-1  0.3749364998234083\n",
      "Loss : -17.90392035482396\n",
      "end while loop iteration :  6\n",
      "Episode 102/1000\n",
      "exploration_prob : 0.220\n",
      "stop episode because agent reach goal\n",
      "stop episode because agent reach goal\n",
      "diff Qtable_N - Qtable_N-1  0.06518352069392307\n",
      "Loss : -21.99105506144142\n",
      "end while loop iteration :  15\n",
      "Episode 103/1000\n",
      "exploration_prob : 0.217\n",
      "No action possible. Stop episode at 6th iterations\n",
      "Save last state even is out of bound\n",
      "Q table still growths\n",
      "Loss : -129.44869446588334\n",
      "end while loop iteration :  6\n",
      "Episode 104/1000\n",
      "exploration_prob : 0.213\n",
      "No action possible. Stop episode at 12th iterations\n",
      "Save last state even is out of bound\n",
      "Q table still growths\n",
      "Loss : -37.35540591052675\n",
      "end while loop iteration :  12\n",
      "Episode 105/1000\n",
      "exploration_prob : 0.210\n",
      "No action possible. Stop episode at 5th iterations\n",
      "Save last state even is out of bound\n",
      "Q table still growths\n",
      "Loss : -43.53789157734296\n",
      "end while loop iteration :  5\n",
      "Episode 106/1000\n",
      "exploration_prob : 0.207\n",
      "No action possible. Stop episode at 14th iterations\n",
      "Save last state even is out of bound\n",
      "Q table still growths\n",
      "Loss : -82.22606317760696\n",
      "end while loop iteration :  14\n",
      "Episode 107/1000\n",
      "exploration_prob : 0.204\n",
      "stop episode because agent reach goal\n",
      "No action possible. Stop episode at 23th iterations\n",
      "Save last state even is out of bound\n",
      "Q table still growths\n",
      "Loss : -54.286332231397736\n",
      "end while loop iteration :  23\n",
      "Episode 108/1000\n",
      "exploration_prob : 0.201\n",
      "No action possible. Stop episode at 10th iterations\n",
      "Save last state even is out of bound\n",
      "diff Qtable_N - Qtable_N-1  34.353598689520986\n",
      "Loss : -151.37097879031683\n",
      "end while loop iteration :  10\n",
      "Episode 109/1000\n",
      "exploration_prob : 0.198\n",
      "No action possible. Stop episode at 12th iterations\n",
      "Save last state even is out of bound\n",
      "Q table still growths\n",
      "Loss : -49.02871524737212\n",
      "end while loop iteration :  12\n",
      "Episode 110/1000\n",
      "exploration_prob : 0.195\n",
      "No action possible. Stop episode at 11th iterations\n",
      "Save last state even is out of bound\n",
      "Q table still growths\n",
      "Loss : -40.888390787855755\n",
      "end while loop iteration :  11\n",
      "Episode 111/1000\n",
      "exploration_prob : 0.192\n",
      "No action possible. Stop episode at 6th iterations\n",
      "Save last state even is out of bound\n",
      "Q table still growths\n",
      "Loss : -39.3218586962905\n",
      "end while loop iteration :  6\n",
      "Episode 112/1000\n",
      "exploration_prob : 0.189\n",
      "No action possible. Stop episode at 10th iterations\n",
      "Save last state even is out of bound\n",
      "Q table still growths\n",
      "Loss : -57.55474954180636\n",
      "end while loop iteration :  10\n",
      "Episode 113/1000\n",
      "exploration_prob : 0.186\n",
      "stop episode because agent reach goal\n",
      "stop episode because agent reach goal\n",
      "stop episode because agent reach goal\n",
      "Q table still growths\n",
      "Loss : -27.01958563743683\n",
      "end while loop iteration :  23\n",
      "Episode 114/1000\n",
      "exploration_prob : 0.184\n",
      "No action possible. Stop episode at 8th iterations\n",
      "Save last state even is out of bound\n",
      "Q table still growths\n",
      "Loss : -28.566596521873866\n",
      "end while loop iteration :  8\n",
      "Episode 115/1000\n",
      "exploration_prob : 0.181\n",
      "stop episode because agent reach goal\n",
      "stop episode because agent reach goal\n",
      "stop episode because agent reach goal\n",
      "Q table still growths\n",
      "Loss : -13.132890704496878\n",
      "end while loop iteration :  10\n",
      "Episode 116/1000\n",
      "exploration_prob : 0.178\n",
      "No action possible. Stop episode at 6th iterations\n",
      "Save last state even is out of bound\n",
      "diff Qtable_N - Qtable_N-1  8.400259144559218\n",
      "Loss : -44.87706342668331\n",
      "end while loop iteration :  6\n",
      "Episode 117/1000\n",
      "exploration_prob : 0.176\n",
      "No action possible. Stop episode at 2th iterations\n",
      "Save last state even is out of bound\n",
      "diff Qtable_N - Qtable_N-1  0.26762326237045997\n",
      "Loss : -10.749946442630739\n",
      "end while loop iteration :  2\n",
      "Episode 118/1000\n",
      "exploration_prob : 0.173\n",
      "No action possible. Stop episode at 6th iterations\n",
      "Save last state even is out of bound\n",
      "Q table still growths\n",
      "Loss : -133.12679391417208\n",
      "end while loop iteration :  6\n",
      "Episode 119/1000\n",
      "exploration_prob : 0.170\n",
      "No action possible. Stop episode at 16th iterations\n",
      "Save last state even is out of bound\n",
      "Q table still growths\n",
      "Loss : -66.03997891322102\n",
      "end while loop iteration :  16\n",
      "Episode 120/1000\n",
      "exploration_prob : 0.168\n",
      "No action possible. Stop episode at 14th iterations\n",
      "Save last state even is out of bound\n",
      "diff Qtable_N - Qtable_N-1  7.870506848842379\n",
      "Loss : -48.25402842213896\n",
      "end while loop iteration :  14\n",
      "Episode 121/1000\n",
      "exploration_prob : 0.165\n",
      "stop episode because agent reach goal\n",
      "No action possible. Stop episode at 15th iterations\n",
      "Save last state even is out of bound\n",
      "Q table still growths\n",
      "Loss : -41.290796223051444\n",
      "end while loop iteration :  15\n",
      "Episode 122/1000\n",
      "exploration_prob : 0.163\n",
      "No action possible. Stop episode at 11th iterations\n",
      "Save last state even is out of bound\n",
      "diff Qtable_N - Qtable_N-1  6.363728920044146\n",
      "Loss : -31.49150474607932\n",
      "end while loop iteration :  11\n",
      "Episode 123/1000\n",
      "exploration_prob : 0.160\n",
      "stop episode because agent reach goal\n",
      "stop episode because agent reach goal\n",
      "stop episode because agent reach goal\n",
      "Q table still growths\n",
      "Loss : -15.719160053835864\n",
      "end while loop iteration :  12\n",
      "Episode 124/1000\n",
      "exploration_prob : 0.158\n",
      "No action possible. Stop episode at 16th iterations\n",
      "Save last state even is out of bound\n",
      "Q table still growths\n",
      "Loss : -17.228451864569674\n",
      "end while loop iteration :  16\n",
      "Episode 125/1000\n",
      "exploration_prob : 0.156\n",
      "No action possible. Stop episode at 10th iterations\n",
      "Save last state even is out of bound\n",
      "diff Qtable_N - Qtable_N-1  9.117148780387629\n",
      "Loss : -39.57875192172552\n",
      "end while loop iteration :  10\n",
      "Episode 126/1000\n",
      "exploration_prob : 0.153\n",
      "No action possible. Stop episode at 5th iterations\n",
      "Save last state even is out of bound\n",
      "Q table still growths\n",
      "Loss : -96.62564030817452\n",
      "end while loop iteration :  5\n",
      "Episode 127/1000\n",
      "exploration_prob : 0.151\n",
      "No action possible. Stop episode at 6th iterations\n",
      "Save last state even is out of bound\n",
      "diff Qtable_N - Qtable_N-1  0.3768311742273393\n",
      "Loss : -24.93092620829961\n",
      "end while loop iteration :  6\n",
      "Episode 128/1000\n",
      "exploration_prob : 0.149\n",
      "No action possible. Stop episode at 12th iterations\n",
      "Save last state even is out of bound\n",
      "Q table still growths\n",
      "Loss : -44.64954866917419\n",
      "end while loop iteration :  12\n",
      "Episode 129/1000\n",
      "exploration_prob : 0.147\n",
      "No action possible. Stop episode at 6th iterations\n",
      "Save last state even is out of bound\n",
      "diff Qtable_N - Qtable_N-1  1.541665682990954\n",
      "Loss : -40.59163148900463\n",
      "end while loop iteration :  6\n",
      "Episode 130/1000\n",
      "exploration_prob : 0.144\n",
      "No action possible. Stop episode at 8th iterations\n",
      "Save last state even is out of bound\n",
      "Q table still growths\n",
      "Loss : -37.94052178753873\n",
      "end while loop iteration :  8\n",
      "Episode 131/1000\n",
      "exploration_prob : 0.142\n",
      "No action possible. Stop episode at 11th iterations\n",
      "Save last state even is out of bound\n",
      "diff Qtable_N - Qtable_N-1  1.3128925084367393\n",
      "Loss : -14.630646404301615\n",
      "end while loop iteration :  11\n",
      "Episode 132/1000\n",
      "exploration_prob : 0.140\n",
      "No action possible. Stop episode at 4th iterations\n",
      "Save last state even is out of bound\n",
      "Q table still growths\n",
      "Loss : -93.46559313624343\n",
      "end while loop iteration :  4\n",
      "Episode 133/1000\n",
      "exploration_prob : 0.138\n",
      "stop episode because agent reach goal\n",
      "stop episode because agent reach goal\n",
      "No action possible. Stop episode at 25th iterations\n",
      "Save last state even is out of bound\n",
      "Q table still growths\n",
      "Loss : -324.6072016994705\n",
      "end while loop iteration :  25\n",
      "Episode 134/1000\n",
      "exploration_prob : 0.136\n",
      "No action possible. Stop episode at 2th iterations\n",
      "Save last state even is out of bound\n",
      "diff Qtable_N - Qtable_N-1  0.24086093613341397\n",
      "Loss : -10.749946442630739\n",
      "end while loop iteration :  2\n",
      "Episode 135/1000\n",
      "exploration_prob : 0.134\n",
      "stop episode because agent reach goal\n",
      "stop episode because agent reach goal\n",
      "Q table still growths\n",
      "Loss : -12.930612857274296\n",
      "end while loop iteration :  17\n",
      "Episode 136/1000\n",
      "exploration_prob : 0.132\n",
      "No action possible. Stop episode at 6th iterations\n",
      "Save last state even is out of bound\n",
      "diff Qtable_N - Qtable_N-1  0.3762965592355272\n",
      "Loss : -17.713069667910997\n",
      "end while loop iteration :  6\n",
      "Episode 137/1000\n",
      "exploration_prob : 0.130\n",
      "No action possible. Stop episode at 12th iterations\n",
      "Save last state even is out of bound\n",
      "diff Qtable_N - Qtable_N-1  16.868810086010853\n",
      "Loss : -81.20836749690415\n",
      "end while loop iteration :  12\n",
      "Episode 138/1000\n",
      "exploration_prob : 0.128\n",
      "stop episode because agent reach goal\n",
      "stop episode because agent reach goal\n",
      "Q table still growths\n",
      "Loss : -34.12452007346655\n",
      "end while loop iteration :  25\n",
      "Episode 139/1000\n",
      "exploration_prob : 0.126\n",
      "stop episode because agent reach goal\n",
      "stop episode because agent reach goal\n",
      "stop episode because agent reach goal\n",
      "Q table still growths\n",
      "Loss : -26.953430217020635\n",
      "end while loop iteration :  21\n",
      "Episode 140/1000\n",
      "exploration_prob : 0.124\n",
      "No action possible. Stop episode at 7th iterations\n",
      "Save last state even is out of bound\n",
      "diff Qtable_N - Qtable_N-1  0.39178179941636665\n",
      "Loss : -21.915678193692205\n",
      "end while loop iteration :  7\n",
      "Episode 141/1000\n",
      "exploration_prob : 0.122\n",
      "No action possible. Stop episode at 16th iterations\n",
      "Save last state even is out of bound\n",
      "Q table still growths\n",
      "Loss : -66.21742766229066\n",
      "end while loop iteration :  16\n",
      "Episode 142/1000\n",
      "exploration_prob : 0.121\n",
      "No action possible. Stop episode at 6th iterations\n",
      "Save last state even is out of bound\n",
      "Q table still growths\n",
      "Loss : -114.23091149671701\n",
      "end while loop iteration :  6\n",
      "Episode 143/1000\n",
      "exploration_prob : 0.119\n",
      "stop episode because agent reach goal\n",
      "stop episode because agent reach goal\n",
      "Q table still growths\n",
      "Loss : -33.45340024610592\n",
      "end while loop iteration :  19\n",
      "Episode 144/1000\n",
      "exploration_prob : 0.117\n",
      "No action possible. Stop episode at 7th iterations\n",
      "Save last state even is out of bound\n",
      "diff Qtable_N - Qtable_N-1  1.2689454886400906\n",
      "Loss : -46.44042988159956\n",
      "end while loop iteration :  7\n",
      "Episode 145/1000\n",
      "exploration_prob : 0.115\n",
      "stop episode because agent reach goal\n",
      "stop episode because agent reach goal\n",
      "Q table still growths\n",
      "Loss : -15.104703384043793\n",
      "end while loop iteration :  17\n",
      "Episode 146/1000\n",
      "exploration_prob : 0.114\n",
      "No action possible. Stop episode at 16th iterations\n",
      "Save last state even is out of bound\n",
      "Q table still growths\n",
      "Loss : -128.88598374817792\n",
      "end while loop iteration :  16\n",
      "Episode 147/1000\n",
      "exploration_prob : 0.112\n",
      "No action possible. Stop episode at 14th iterations\n",
      "Save last state even is out of bound\n",
      "diff Qtable_N - Qtable_N-1  7.963660782757704\n",
      "Loss : -40.89726189052051\n",
      "end while loop iteration :  14\n",
      "Episode 148/1000\n",
      "exploration_prob : 0.110\n",
      "stop episode because agent reach goal\n",
      "stop episode because agent reach goal\n",
      "Q table still growths\n",
      "Loss : -20.479012775765383\n",
      "end while loop iteration :  28\n",
      "Episode 149/1000\n",
      "exploration_prob : 0.109\n",
      "No action possible. Stop episode at 14th iterations\n",
      "Save last state even is out of bound\n",
      "diff Qtable_N - Qtable_N-1  32.268041608089895\n",
      "Loss : -152.20938941346122\n",
      "end while loop iteration :  14\n",
      "Episode 150/1000\n",
      "exploration_prob : 0.107\n",
      "No action possible. Stop episode at 3th iterations\n",
      "Save last state even is out of bound\n",
      "diff Qtable_N - Qtable_N-1  0.3487815251231527\n",
      "Loss : -14.29134639316939\n",
      "end while loop iteration :  3\n",
      "Episode 151/1000\n",
      "exploration_prob : 0.105\n",
      "No action possible. Stop episode at 15th iterations\n",
      "Save last state even is out of bound\n",
      "diff Qtable_N - Qtable_N-1  5.215192190659812\n",
      "Loss : -35.53449315194598\n",
      "end while loop iteration :  15\n",
      "Episode 152/1000\n",
      "exploration_prob : 0.104\n",
      "No action possible. Stop episode at 13th iterations\n",
      "Save last state even is out of bound\n",
      "diff Qtable_N - Qtable_N-1  46.461581901267884\n",
      "Loss : -218.17759997517527\n",
      "end while loop iteration :  13\n",
      "Episode 153/1000\n",
      "exploration_prob : 0.102\n",
      "No action possible. Stop episode at 11th iterations\n",
      "Save last state even is out of bound\n",
      "Q table still growths\n",
      "Loss : -21.279639832413004\n",
      "end while loop iteration :  11\n",
      "Episode 154/1000\n",
      "exploration_prob : 0.101\n",
      "No action possible. Stop episode at 2th iterations\n",
      "Save last state even is out of bound\n",
      "diff Qtable_N - Qtable_N-1  0.21677484252007262\n",
      "Loss : -10.749946442630739\n",
      "end while loop iteration :  2\n",
      "Episode 155/1000\n",
      "exploration_prob : 0.100\n",
      "No action possible. Stop episode at 13th iterations\n",
      "Save last state even is out of bound\n",
      "diff Qtable_N - Qtable_N-1  0.949568004007277\n",
      "Loss : -17.794981492413406\n",
      "end while loop iteration :  13\n",
      "Episode 156/1000\n",
      "exploration_prob : 0.100\n",
      "No action possible. Stop episode at 14th iterations\n",
      "Save last state even is out of bound\n",
      "diff Qtable_N - Qtable_N-1  7.896335375087988\n",
      "Loss : -42.033219074706174\n",
      "end while loop iteration :  14\n",
      "Episode 157/1000\n",
      "exploration_prob : 0.100\n",
      "No action possible. Stop episode at 11th iterations\n",
      "Save last state even is out of bound\n",
      "diff Qtable_N - Qtable_N-1  6.366132627865466\n",
      "Loss : -83.81507938973436\n",
      "end while loop iteration :  11\n",
      "Episode 158/1000\n",
      "exploration_prob : 0.100\n",
      "No action possible. Stop episode at 17th iterations\n",
      "Save last state even is out of bound\n",
      "diff Qtable_N - Qtable_N-1  37.400556474136884\n",
      "Loss : -187.45448562841025\n",
      "end while loop iteration :  17\n",
      "Episode 159/1000\n",
      "exploration_prob : 0.100\n",
      "No action possible. Stop episode at 16th iterations\n",
      "Save last state even is out of bound\n",
      "Q table still growths\n",
      "Loss : -287.58470448758635\n",
      "end while loop iteration :  16\n",
      "Episode 160/1000\n",
      "exploration_prob : 0.100\n",
      "No action possible. Stop episode at 14th iterations\n",
      "Save last state even is out of bound\n",
      "diff Qtable_N - Qtable_N-1  32.89815978627836\n",
      "Loss : -155.6582677164136\n",
      "end while loop iteration :  14\n",
      "Episode 161/1000\n",
      "exploration_prob : 0.100\n",
      "No action possible. Stop episode at 16th iterations\n",
      "Save last state even is out of bound\n",
      "diff Qtable_N - Qtable_N-1  0.30773772589332105\n",
      "Loss : -50.14847658595987\n",
      "end while loop iteration :  16\n",
      "Episode 162/1000\n",
      "exploration_prob : 0.100\n",
      "No action possible. Stop episode at 14th iterations\n",
      "Save last state even is out of bound\n",
      "diff Qtable_N - Qtable_N-1  31.47012163788623\n",
      "Loss : -153.1331446914247\n",
      "end while loop iteration :  14\n",
      "Episode 163/1000\n",
      "exploration_prob : 0.100\n",
      "No action possible. Stop episode at 10th iterations\n",
      "Save last state even is out of bound\n",
      "diff Qtable_N - Qtable_N-1  2.0712890362501564\n",
      "Loss : -15.512140236420958\n",
      "end while loop iteration :  10\n",
      "Episode 164/1000\n",
      "exploration_prob : 0.100\n",
      "No action possible. Stop episode at 16th iterations\n",
      "Save last state even is out of bound\n",
      "Q table still growths\n",
      "Loss : -74.41211771590585\n",
      "end while loop iteration :  16\n",
      "Episode 165/1000\n",
      "exploration_prob : 0.100\n",
      "No action possible. Stop episode at 10th iterations\n",
      "Save last state even is out of bound\n",
      "diff Qtable_N - Qtable_N-1  2.073773489279047\n",
      "Loss : -13.565392686522745\n",
      "end while loop iteration :  10\n",
      "Episode 166/1000\n",
      "exploration_prob : 0.100\n",
      "No action possible. Stop episode at 8th iterations\n",
      "Save last state even is out of bound\n",
      "diff Qtable_N - Qtable_N-1  1.8704575272944632\n",
      "Loss : -25.380253657700955\n",
      "end while loop iteration :  8\n",
      "Episode 167/1000\n",
      "exploration_prob : 0.100\n",
      "No action possible. Stop episode at 17th iterations\n",
      "Save last state even is out of bound\n",
      "diff Qtable_N - Qtable_N-1  37.37378133093331\n",
      "Loss : -185.37775403171335\n",
      "end while loop iteration :  17\n",
      "Episode 168/1000\n",
      "exploration_prob : 0.100\n",
      "No action possible. Stop episode at 16th iterations\n",
      "Save last state even is out of bound\n",
      "diff Qtable_N - Qtable_N-1  14.284210520807534\n",
      "Loss : -68.68153800262724\n",
      "end while loop iteration :  16\n",
      "Episode 169/1000\n",
      "exploration_prob : 0.100\n",
      "No action possible. Stop episode at 13th iterations\n",
      "Save last state even is out of bound\n",
      "Q table still growths\n",
      "Loss : -101.49361445688791\n",
      "end while loop iteration :  13\n",
      "Episode 170/1000\n",
      "exploration_prob : 0.100\n",
      "No action possible. Stop episode at 15th iterations\n",
      "Save last state even is out of bound\n",
      "diff Qtable_N - Qtable_N-1  21.73657239108114\n",
      "Loss : -101.93613307400645\n",
      "end while loop iteration :  15\n",
      "Episode 171/1000\n",
      "exploration_prob : 0.100\n",
      "No action possible. Stop episode at 10th iterations\n",
      "Save last state even is out of bound\n",
      "diff Qtable_N - Qtable_N-1  0.38579494093397904\n",
      "Loss : -22.686048766474954\n",
      "end while loop iteration :  10\n",
      "Episode 172/1000\n",
      "exploration_prob : 0.100\n",
      "stop episode because agent reach goal\n",
      "stop episode because agent reach goal\n",
      "Q table still growths\n",
      "Loss : -10.486633624730526\n",
      "end while loop iteration :  13\n",
      "Episode 173/1000\n",
      "exploration_prob : 0.100\n",
      "No action possible. Stop episode at 18th iterations\n",
      "Save last state even is out of bound\n",
      "Q table still growths\n",
      "Loss : -117.98307297661195\n",
      "end while loop iteration :  18\n",
      "Episode 174/1000\n",
      "exploration_prob : 0.100\n",
      "stop episode because agent reach goal\n",
      "diff Qtable_N - Qtable_N-1  1.1809272737400043\n",
      "Loss : -11.796285287209535\n",
      "end while loop iteration :  16\n",
      "Episode 175/1000\n",
      "exploration_prob : 0.100\n",
      "No action possible. Stop episode at 6th iterations\n",
      "Save last state even is out of bound\n",
      "diff Qtable_N - Qtable_N-1  1.5770147295030656\n",
      "Loss : -26.488637609871937\n",
      "end while loop iteration :  6\n",
      "Episode 176/1000\n",
      "exploration_prob : 0.100\n",
      "stop episode because agent reach goal\n",
      "stop episode because agent reach goal\n",
      "Q table still growths\n",
      "Loss : -25.392393594818333\n",
      "end while loop iteration :  15\n",
      "Episode 177/1000\n",
      "exploration_prob : 0.100\n",
      "stop episode because agent reach goal\n",
      "stop episode because agent reach goal\n",
      "diff Qtable_N - Qtable_N-1  0.2328298884146293\n",
      "Loss : -25.458341528825766\n",
      "end while loop iteration :  19\n",
      "Episode 178/1000\n",
      "exploration_prob : 0.100\n",
      "No action possible. Stop episode at 5th iterations\n",
      "Save last state even is out of bound\n",
      "diff Qtable_N - Qtable_N-1  9.582811363872398\n",
      "Loss : -88.71418470339904\n",
      "end while loop iteration :  5\n",
      "Episode 179/1000\n",
      "exploration_prob : 0.100\n",
      "No action possible. Stop episode at 16th iterations\n",
      "Save last state even is out of bound\n",
      "diff Qtable_N - Qtable_N-1  56.889361936935124\n",
      "Loss : -267.8345955467208\n",
      "end while loop iteration :  16\n",
      "Episode 180/1000\n",
      "exploration_prob : 0.100\n",
      "No action possible. Stop episode at 9th iterations\n",
      "Save last state even is out of bound\n",
      "diff Qtable_N - Qtable_N-1  12.730210382779527\n",
      "Loss : -73.79832604450495\n",
      "end while loop iteration :  9\n",
      "Episode 181/1000\n",
      "exploration_prob : 0.100\n",
      "No action possible. Stop episode at 2th iterations\n",
      "Save last state even is out of bound\n",
      "diff Qtable_N - Qtable_N-1  2.74794728672029\n",
      "Loss : -33.561087450218324\n",
      "end while loop iteration :  2\n",
      "Episode 182/1000\n",
      "exploration_prob : 0.100\n",
      "No action possible. Stop episode at 16th iterations\n",
      "Save last state even is out of bound\n",
      "diff Qtable_N - Qtable_N-1  14.883101654222754\n",
      "Loss : -70.21065322834005\n",
      "end while loop iteration :  16\n",
      "Episode 183/1000\n",
      "exploration_prob : 0.100\n",
      "No action possible. Stop episode at 20th iterations\n",
      "Save last state even is out of bound\n",
      "Q table still growths\n",
      "Loss : -103.04959121567812\n",
      "end while loop iteration :  20\n",
      "Episode 184/1000\n",
      "exploration_prob : 0.100\n",
      "No action possible. Stop episode at 11th iterations\n",
      "Save last state even is out of bound\n",
      "diff Qtable_N - Qtable_N-1  6.071284236222297\n",
      "Loss : -87.16635788926354\n",
      "end while loop iteration :  11\n",
      "Episode 185/1000\n",
      "exploration_prob : 0.100\n",
      "stop episode because agent reach goal\n",
      "stop episode because agent reach goal\n",
      "stop episode because agent reach goal\n",
      "Q table still growths\n",
      "Loss : -39.81322294157782\n",
      "end while loop iteration :  19\n",
      "Episode 186/1000\n",
      "exploration_prob : 0.100\n",
      "stop episode because agent reach goal\n",
      "diff Qtable_N - Qtable_N-1  0.059107774184055176\n",
      "Loss : -18.422416456763365\n",
      "end while loop iteration :  15\n",
      "Episode 187/1000\n",
      "exploration_prob : 0.100\n",
      "No action possible. Stop episode at 18th iterations\n",
      "Save last state even is out of bound\n",
      "diff Qtable_N - Qtable_N-1  24.626194426991844\n",
      "Loss : -133.86486315643396\n",
      "end while loop iteration :  18\n",
      "Episode 188/1000\n",
      "exploration_prob : 0.100\n",
      "No action possible. Stop episode at 16th iterations\n",
      "Save last state even is out of bound\n",
      "Q table still growths\n",
      "Loss : -42.16183764284404\n",
      "end while loop iteration :  16\n",
      "Episode 189/1000\n",
      "exploration_prob : 0.100\n",
      "No action possible. Stop episode at 15th iterations\n",
      "Save last state even is out of bound\n",
      "diff Qtable_N - Qtable_N-1  2.01401335224854\n",
      "Loss : -25.286227024848717\n",
      "end while loop iteration :  15\n",
      "Episode 190/1000\n",
      "exploration_prob : 0.100\n",
      "No action possible. Stop episode at 5th iterations\n",
      "Save last state even is out of bound\n",
      "diff Qtable_N - Qtable_N-1  1.0965170174133883\n",
      "Loss : -26.020113292950445\n",
      "end while loop iteration :  5\n",
      "Episode 191/1000\n",
      "exploration_prob : 0.100\n",
      "No action possible. Stop episode at 7th iterations\n",
      "Save last state even is out of bound\n",
      "diff Qtable_N - Qtable_N-1  1.278488032927852\n",
      "Loss : -47.292943229664225\n",
      "end while loop iteration :  7\n",
      "Episode 192/1000\n",
      "exploration_prob : 0.100\n",
      "No action possible. Stop episode at 9th iterations\n",
      "Save last state even is out of bound\n",
      "Q table still growths\n",
      "Loss : -25.581629872132805\n",
      "end while loop iteration :  9\n",
      "Episode 193/1000\n",
      "exploration_prob : 0.100\n",
      "No action possible. Stop episode at 21th iterations\n",
      "Save last state even is out of bound\n",
      "Q table still growths\n",
      "Loss : -58.42184911756356\n",
      "end while loop iteration :  21\n",
      "Episode 194/1000\n",
      "exploration_prob : 0.100\n",
      "No action possible. Stop episode at 11th iterations\n",
      "Save last state even is out of bound\n",
      "Q table still growths\n",
      "Loss : -13.064402022249011\n",
      "end while loop iteration :  11\n",
      "Episode 195/1000\n",
      "exploration_prob : 0.100\n",
      "No action possible. Stop episode at 17th iterations\n",
      "Save last state even is out of bound\n",
      "diff Qtable_N - Qtable_N-1  37.41858719499238\n",
      "Loss : -199.64822665622788\n",
      "end while loop iteration :  17\n",
      "Episode 196/1000\n",
      "exploration_prob : 0.100\n",
      "No action possible. Stop episode at 7th iterations\n",
      "Save last state even is out of bound\n",
      "Q table still growths\n",
      "Loss : -75.94645433235004\n",
      "end while loop iteration :  7\n",
      "Episode 197/1000\n",
      "exploration_prob : 0.100\n",
      "No action possible. Stop episode at 8th iterations\n",
      "Save last state even is out of bound\n",
      "diff Qtable_N - Qtable_N-1  0.5091622751177476\n",
      "Loss : -48.012163317449335\n",
      "end while loop iteration :  8\n",
      "Episode 198/1000\n",
      "exploration_prob : 0.100\n",
      "No action possible. Stop episode at 10th iterations\n",
      "Save last state even is out of bound\n",
      "Q table still growths\n",
      "Loss : -21.739406593492713\n",
      "end while loop iteration :  10\n",
      "Episode 199/1000\n",
      "exploration_prob : 0.100\n",
      "No action possible. Stop episode at 12th iterations\n",
      "Save last state even is out of bound\n",
      "Q table still growths\n",
      "Loss : -31.81101633929672\n",
      "end while loop iteration :  12\n",
      "Episode 200/1000\n",
      "exploration_prob : 0.100\n",
      "No action possible. Stop episode at 12th iterations\n",
      "Save last state even is out of bound\n",
      "Q table still growths\n",
      "Loss : -44.16944897346123\n",
      "end while loop iteration :  12\n",
      "Episode 201/1000\n",
      "exploration_prob : 0.100\n",
      "No action possible. Stop episode at 18th iterations\n",
      "Save last state even is out of bound\n",
      "diff Qtable_N - Qtable_N-1  24.644416169357882\n",
      "Loss : -178.96443053944694\n",
      "end while loop iteration :  18\n",
      "Episode 202/1000\n",
      "exploration_prob : 0.100\n",
      "No action possible. Stop episode at 9th iterations\n",
      "Save last state even is out of bound\n",
      "diff Qtable_N - Qtable_N-1  12.732061344631509\n",
      "Loss : -57.62709387701971\n",
      "end while loop iteration :  9\n",
      "Episode 203/1000\n",
      "exploration_prob : 0.100\n",
      "No action possible. Stop episode at 9th iterations\n",
      "Save last state even is out of bound\n",
      "diff Qtable_N - Qtable_N-1  0.7205248192366348\n",
      "Loss : -69.63590372023492\n",
      "end while loop iteration :  9\n",
      "Episode 204/1000\n",
      "exploration_prob : 0.100\n",
      "No action possible. Stop episode at 7th iterations\n",
      "Save last state even is out of bound\n",
      "Q table still growths\n",
      "Loss : -27.645985355741782\n",
      "end while loop iteration :  7\n",
      "Episode 205/1000\n",
      "exploration_prob : 0.100\n",
      "No action possible. Stop episode at 6th iterations\n",
      "Save last state even is out of bound\n",
      "diff Qtable_N - Qtable_N-1  3.6378028286493036\n",
      "Loss : -41.72613668616505\n",
      "end while loop iteration :  6\n",
      "Episode 206/1000\n",
      "exploration_prob : 0.100\n",
      "No action possible. Stop episode at 13th iterations\n",
      "Save last state even is out of bound\n",
      "diff Qtable_N - Qtable_N-1  12.156625723477745\n",
      "Loss : -57.73958030460472\n",
      "end while loop iteration :  13\n",
      "Episode 207/1000\n",
      "exploration_prob : 0.100\n",
      "No action possible. Stop episode at 15th iterations\n",
      "Save last state even is out of bound\n",
      "diff Qtable_N - Qtable_N-1  2.014170963015954\n",
      "Loss : -35.38442563420419\n",
      "end while loop iteration :  15\n",
      "Episode 208/1000\n",
      "exploration_prob : 0.100\n",
      "No action possible. Stop episode at 9th iterations\n",
      "Save last state even is out of bound\n",
      "diff Qtable_N - Qtable_N-1  0.6888817000713016\n",
      "Loss : -32.772062762991155\n",
      "end while loop iteration :  9\n",
      "Episode 209/1000\n",
      "exploration_prob : 0.100\n",
      "No action possible. Stop episode at 22th iterations\n",
      "Save last state even is out of bound\n",
      "Q table still growths\n",
      "Loss : -70.8451855403711\n",
      "end while loop iteration :  22\n",
      "Episode 210/1000\n",
      "exploration_prob : 0.100\n",
      "No action possible. Stop episode at 14th iterations\n",
      "Save last state even is out of bound\n",
      "diff Qtable_N - Qtable_N-1  8.116856665804866\n",
      "Loss : -49.44405452363208\n",
      "end while loop iteration :  14\n",
      "Episode 211/1000\n",
      "exploration_prob : 0.100\n",
      "No action possible. Stop episode at 6th iterations\n",
      "Save last state even is out of bound\n",
      "diff Qtable_N - Qtable_N-1  3.5607599548759015\n",
      "Loss : -52.72114085924646\n",
      "end while loop iteration :  6\n",
      "Episode 212/1000\n",
      "exploration_prob : 0.100\n",
      "No action possible. Stop episode at 9th iterations\n",
      "Save last state even is out of bound\n",
      "diff Qtable_N - Qtable_N-1  0.7337007931574858\n",
      "Loss : -40.13462197440729\n",
      "end while loop iteration :  9\n",
      "Episode 213/1000\n",
      "exploration_prob : 0.100\n",
      "No action possible. Stop episode at 19th iterations\n",
      "Save last state even is out of bound\n",
      "Q table still growths\n",
      "Loss : -112.0559471428017\n",
      "end while loop iteration :  19\n",
      "Episode 214/1000\n",
      "exploration_prob : 0.100\n",
      "No action possible. Stop episode at 14th iterations\n",
      "Save last state even is out of bound\n",
      "diff Qtable_N - Qtable_N-1  7.89778159041121\n",
      "Loss : -38.60015013400384\n",
      "end while loop iteration :  14\n",
      "Episode 215/1000\n",
      "exploration_prob : 0.100\n",
      "stop episode because agent reach goal\n",
      "stop episode because agent reach goal\n",
      "diff Qtable_N - Qtable_N-1  0.032671672617335494\n",
      "Loss : -9.433481901428992\n",
      "end while loop iteration :  14\n",
      "Episode 216/1000\n",
      "exploration_prob : 0.100\n",
      "No action possible. Stop episode at 19th iterations\n",
      "Save last state even is out of bound\n",
      "Q table still growths\n",
      "Loss : -77.40236626424627\n",
      "end while loop iteration :  19\n",
      "Episode 217/1000\n",
      "exploration_prob : 0.100\n",
      "No action possible. Stop episode at 24th iterations\n",
      "Save last state even is out of bound\n",
      "Q table still growths\n",
      "Loss : -104.66379318981635\n",
      "end while loop iteration :  24\n",
      "Episode 218/1000\n",
      "exploration_prob : 0.100\n",
      "stop episode because agent reach goal\n",
      "diff Qtable_N - Qtable_N-1  0.2242154968986313\n",
      "Loss : -20.90959505277214\n",
      "end while loop iteration :  19\n",
      "Episode 219/1000\n",
      "exploration_prob : 0.100\n",
      "No action possible. Stop episode at 13th iterations\n",
      "Save last state even is out of bound\n",
      "Q table still growths\n",
      "Loss : -35.25446582712458\n",
      "end while loop iteration :  13\n",
      "Episode 220/1000\n",
      "exploration_prob : 0.100\n",
      "No action possible. Stop episode at 22th iterations\n",
      "Save last state even is out of bound\n",
      "Q table still growths\n",
      "Loss : -320.5847881514236\n",
      "end while loop iteration :  22\n",
      "Episode 221/1000\n",
      "exploration_prob : 0.100\n",
      "stop episode because agent reach goal\n",
      "stop episode because agent reach goal\n",
      "stop episode because agent reach goal\n",
      "stop episode because agent reach goal\n",
      "Q table still growths\n",
      "Loss : -59.191031712314846\n",
      "end while loop iteration :  35\n",
      "Episode 222/1000\n",
      "exploration_prob : 0.100\n",
      "No action possible. Stop episode at 8th iterations\n",
      "Save last state even is out of bound\n",
      "diff Qtable_N - Qtable_N-1  0.4919303680568036\n",
      "Loss : -25.08598977487082\n",
      "end while loop iteration :  8\n",
      "Episode 223/1000\n",
      "exploration_prob : 0.100\n",
      "No action possible. Stop episode at 11th iterations\n",
      "Save last state even is out of bound\n",
      "diff Qtable_N - Qtable_N-1  0.02994080730230364\n",
      "Loss : -13.079244151799797\n",
      "end while loop iteration :  11\n",
      "Episode 224/1000\n",
      "exploration_prob : 0.100\n",
      "stop episode because agent reach goal\n",
      "stop episode because agent reach goal\n",
      "Q table still growths\n",
      "Loss : -12.242041696898017\n",
      "end while loop iteration :  21\n",
      "Episode 225/1000\n",
      "exploration_prob : 0.100\n",
      "stop episode because agent reach goal\n",
      "stop episode because agent reach goal\n",
      "stop episode because agent reach goal\n",
      "Q table still growths\n",
      "Loss : -193.40096471636164\n",
      "end while loop iteration :  42\n",
      "Episode 226/1000\n",
      "exploration_prob : 0.100\n",
      "stop episode because agent reach goal\n",
      "stop episode because agent reach goal\n",
      "Q table still growths\n",
      "Loss : -26.753411213695728\n",
      "end while loop iteration :  23\n",
      "Episode 227/1000\n",
      "exploration_prob : 0.100\n",
      "No action possible. Stop episode at 9th iterations\n",
      "Save last state even is out of bound\n",
      "Q table still growths\n",
      "Loss : -31.122005814462455\n",
      "end while loop iteration :  9\n",
      "Episode 228/1000\n",
      "exploration_prob : 0.100\n",
      "No action possible. Stop episode at 22th iterations\n",
      "Save last state even is out of bound\n",
      "Q table still growths\n",
      "Loss : -111.70448446927243\n",
      "end while loop iteration :  22\n",
      "Episode 229/1000\n",
      "exploration_prob : 0.100\n",
      "No action possible. Stop episode at 19th iterations\n",
      "Save last state even is out of bound\n",
      "diff Qtable_N - Qtable_N-1  14.796863827150936\n",
      "Loss : -82.18588416820765\n",
      "end while loop iteration :  19\n",
      "Episode 230/1000\n",
      "exploration_prob : 0.100\n",
      "No action possible. Stop episode at 20th iterations\n",
      "Save last state even is out of bound\n",
      "diff Qtable_N - Qtable_N-1  8.704988842066328\n",
      "Loss : -58.20137594146553\n",
      "end while loop iteration :  20\n",
      "Episode 231/1000\n",
      "exploration_prob : 0.100\n",
      "No action possible. Stop episode at 9th iterations\n",
      "Save last state even is out of bound\n",
      "diff Qtable_N - Qtable_N-1  2.9935815635685197\n",
      "Loss : -57.94031070782118\n",
      "end while loop iteration :  9\n",
      "Episode 232/1000\n",
      "exploration_prob : 0.100\n",
      "No action possible. Stop episode at 19th iterations\n",
      "Save last state even is out of bound\n",
      "diff Qtable_N - Qtable_N-1  14.84569930806141\n",
      "Loss : -110.418443014247\n",
      "end while loop iteration :  19\n",
      "Episode 233/1000\n",
      "exploration_prob : 0.100\n",
      "No action possible. Stop episode at 9th iterations\n",
      "Save last state even is out of bound\n",
      "diff Qtable_N - Qtable_N-1  0.038765435997517174\n",
      "Loss : -25.98036216223389\n",
      "end while loop iteration :  9\n",
      "Episode 234/1000\n",
      "exploration_prob : 0.100\n",
      "No action possible. Stop episode at 19th iterations\n",
      "Save last state even is out of bound\n",
      "Q table still growths\n",
      "Loss : -49.230022077008414\n",
      "end while loop iteration :  19\n",
      "Episode 235/1000\n",
      "exploration_prob : 0.100\n",
      "No action possible. Stop episode at 15th iterations\n",
      "Save last state even is out of bound\n",
      "diff Qtable_N - Qtable_N-1  22.212049530451942\n",
      "Loss : -104.73863294698035\n",
      "end while loop iteration :  15\n",
      "Episode 236/1000\n",
      "exploration_prob : 0.100\n",
      "stop episode because agent reach goal\n",
      "stop episode because agent reach goal\n",
      "stop episode because agent reach goal\n",
      "Q table still growths\n",
      "Loss : -50.715622989619064\n",
      "end while loop iteration :  29\n",
      "Episode 237/1000\n",
      "exploration_prob : 0.100\n",
      "No action possible. Stop episode at 18th iterations\n",
      "Save last state even is out of bound\n",
      "diff Qtable_N - Qtable_N-1  5.308881932424569\n",
      "Loss : -46.28369631314975\n",
      "end while loop iteration :  18\n",
      "Episode 238/1000\n",
      "exploration_prob : 0.100\n",
      "No action possible. Stop episode at 15th iterations\n",
      "Save last state even is out of bound\n",
      "diff Qtable_N - Qtable_N-1  21.23477261717187\n",
      "Loss : -127.78339445211833\n",
      "end while loop iteration :  15\n",
      "Episode 239/1000\n",
      "exploration_prob : 0.100\n",
      "No action possible. Stop episode at 15th iterations\n",
      "Save last state even is out of bound\n",
      "diff Qtable_N - Qtable_N-1  5.036304407223807\n",
      "Loss : -81.69576832161451\n",
      "end while loop iteration :  15\n",
      "Episode 240/1000\n",
      "exploration_prob : 0.100\n",
      "No action possible. Stop episode at 12th iterations\n",
      "Save last state even is out of bound\n",
      "diff Qtable_N - Qtable_N-1  2.945298125131467\n",
      "Loss : -48.632812503067306\n",
      "end while loop iteration :  12\n",
      "Episode 241/1000\n",
      "exploration_prob : 0.100\n",
      "stop episode because agent reach goal\n",
      "stop episode because agent reach goal\n",
      "Q table still growths\n",
      "Loss : -39.90354289398663\n",
      "end while loop iteration :  26\n",
      "Episode 242/1000\n",
      "exploration_prob : 0.100\n",
      "No action possible. Stop episode at 7th iterations\n",
      "Save last state even is out of bound\n",
      "diff Qtable_N - Qtable_N-1  5.373079796555023\n",
      "Loss : -76.36619418125508\n",
      "end while loop iteration :  7\n",
      "Episode 243/1000\n",
      "exploration_prob : 0.100\n",
      "No action possible. Stop episode at 3th iterations\n",
      "Save last state even is out of bound\n",
      "diff Qtable_N - Qtable_N-1  1.1778806979906975\n",
      "Loss : -21.879467918469693\n",
      "end while loop iteration :  3\n",
      "Episode 244/1000\n",
      "exploration_prob : 0.100\n",
      "No action possible. Stop episode at 10th iterations\n",
      "Save last state even is out of bound\n",
      "diff Qtable_N - Qtable_N-1  2.005277935126505\n",
      "Loss : -13.761237409659014\n",
      "end while loop iteration :  10\n",
      "Episode 245/1000\n",
      "exploration_prob : 0.100\n",
      "stop episode because agent reach goal\n",
      "stop episode because agent reach goal\n",
      "Q table still growths\n",
      "Loss : -16.464680131138977\n",
      "end while loop iteration :  12\n",
      "Episode 246/1000\n",
      "exploration_prob : 0.100\n",
      "No action possible. Stop episode at 28th iterations\n",
      "Save last state even is out of bound\n",
      "Q table still growths\n",
      "Loss : -285.1108575079436\n",
      "end while loop iteration :  28\n",
      "Episode 247/1000\n",
      "exploration_prob : 0.100\n",
      "No action possible. Stop episode at 9th iterations\n",
      "Save last state even is out of bound\n",
      "diff Qtable_N - Qtable_N-1  0.6720063895713552\n",
      "Loss : -36.52206973395168\n",
      "end while loop iteration :  9\n",
      "Episode 248/1000\n",
      "exploration_prob : 0.100\n",
      "No action possible. Stop episode at 10th iterations\n",
      "Save last state even is out of bound\n",
      "diff Qtable_N - Qtable_N-1  1.0906799255645776\n",
      "Loss : -56.0241298582955\n",
      "end while loop iteration :  10\n",
      "Episode 249/1000\n",
      "exploration_prob : 0.100\n",
      "No action possible. Stop episode at 8th iterations\n",
      "Save last state even is out of bound\n",
      "diff Qtable_N - Qtable_N-1  2.017044207870028\n",
      "Loss : -89.0654844032465\n",
      "end while loop iteration :  8\n",
      "Episode 250/1000\n",
      "exploration_prob : 0.100\n",
      "No action possible. Stop episode at 23th iterations\n",
      "Save last state even is out of bound\n",
      "Q table still growths\n",
      "Loss : -112.3511223442849\n",
      "end while loop iteration :  23\n",
      "Episode 251/1000\n",
      "exploration_prob : 0.100\n",
      "No action possible. Stop episode at 20th iterations\n",
      "Save last state even is out of bound\n",
      "diff Qtable_N - Qtable_N-1  9.252599628246221\n",
      "Loss : -65.55308089519924\n",
      "end while loop iteration :  20\n",
      "Episode 252/1000\n",
      "exploration_prob : 0.100\n",
      "No action possible. Stop episode at 9th iterations\n",
      "Save last state even is out of bound\n",
      "diff Qtable_N - Qtable_N-1  3.0807183094067834\n",
      "Loss : -99.47768581148276\n",
      "end while loop iteration :  9\n",
      "Episode 253/1000\n",
      "exploration_prob : 0.100\n",
      "No action possible. Stop episode at 5th iterations\n",
      "Save last state even is out of bound\n",
      "diff Qtable_N - Qtable_N-1  2.5023542355923505\n",
      "Loss : -42.03200065280882\n",
      "end while loop iteration :  5\n",
      "Episode 254/1000\n",
      "exploration_prob : 0.100\n",
      "No action possible. Stop episode at 4th iterations\n",
      "Save last state even is out of bound\n",
      "Q table still growths\n",
      "Loss : -26.19133513942251\n",
      "end while loop iteration :  4\n",
      "Episode 255/1000\n",
      "exploration_prob : 0.100\n",
      "No action possible. Stop episode at 21th iterations\n",
      "Save last state even is out of bound\n",
      "diff Qtable_N - Qtable_N-1  5.075129174228055\n",
      "Loss : -32.37731118192416\n",
      "end while loop iteration :  21\n",
      "Episode 256/1000\n",
      "exploration_prob : 0.100\n",
      "No action possible. Stop episode at 21th iterations\n",
      "Save last state even is out of bound\n",
      "Q table still growths\n",
      "Loss : -135.6233862384014\n",
      "end while loop iteration :  21\n",
      "Episode 257/1000\n",
      "exploration_prob : 0.100\n",
      "No action possible. Stop episode at 12th iterations\n",
      "Save last state even is out of bound\n",
      "diff Qtable_N - Qtable_N-1  0.376466044317944\n",
      "Loss : -45.280040181143036\n",
      "end while loop iteration :  12\n",
      "Episode 258/1000\n",
      "exploration_prob : 0.100\n",
      "stop episode because agent reach goal\n",
      "stop episode because agent reach goal\n",
      "diff Qtable_N - Qtable_N-1  0.07720923588071826\n",
      "Loss : -8.135650186312127\n",
      "end while loop iteration :  12\n",
      "Episode 259/1000\n",
      "exploration_prob : 0.100\n",
      "No action possible. Stop episode at 22th iterations\n",
      "Save last state even is out of bound\n",
      "Q table still growths\n",
      "Loss : -40.76525403535709\n",
      "end while loop iteration :  22\n",
      "Episode 260/1000\n",
      "exploration_prob : 0.100\n",
      "stop episode because agent reach goal\n",
      "stop episode because agent reach goal\n",
      "Q table still growths\n",
      "Loss : -22.116646798146085\n",
      "end while loop iteration :  22\n",
      "Episode 261/1000\n",
      "exploration_prob : 0.100\n",
      "No action possible. Stop episode at 16th iterations\n",
      "Save last state even is out of bound\n",
      "diff Qtable_N - Qtable_N-1  14.167851060286484\n",
      "Loss : -72.36975216622112\n",
      "end while loop iteration :  16\n",
      "Episode 262/1000\n",
      "exploration_prob : 0.100\n",
      "No action possible. Stop episode at 11th iterations\n",
      "Save last state even is out of bound\n",
      "diff Qtable_N - Qtable_N-1  6.379874797771015\n",
      "Loss : -39.87243695680411\n",
      "end while loop iteration :  11\n",
      "Episode 263/1000\n",
      "exploration_prob : 0.100\n",
      "No action possible. Stop episode at 8th iterations\n",
      "Save last state even is out of bound\n",
      "diff Qtable_N - Qtable_N-1  1.9684857238515268\n",
      "Loss : -67.35108703201114\n",
      "end while loop iteration :  8\n",
      "Episode 264/1000\n",
      "exploration_prob : 0.100\n",
      "No action possible. Stop episode at 23th iterations\n",
      "Save last state even is out of bound\n",
      "diff Qtable_N - Qtable_N-1  7.717440298552877\n",
      "Loss : -44.45913220653016\n",
      "end while loop iteration :  23\n",
      "Episode 265/1000\n",
      "exploration_prob : 0.100\n",
      "No action possible. Stop episode at 19th iterations\n",
      "Save last state even is out of bound\n",
      "diff Qtable_N - Qtable_N-1  15.118513025221922\n",
      "Loss : -77.35456381014745\n",
      "end while loop iteration :  19\n",
      "Episode 266/1000\n",
      "exploration_prob : 0.100\n",
      "stop episode because agent reach goal\n",
      "diff Qtable_N - Qtable_N-1  0.06107594319205245\n",
      "Loss : -7.851455885362883\n",
      "end while loop iteration :  12\n",
      "Episode 267/1000\n",
      "exploration_prob : 0.100\n",
      "No action possible. Stop episode at 13th iterations\n",
      "Save last state even is out of bound\n",
      "Q table still growths\n",
      "Loss : -29.65745757717967\n",
      "end while loop iteration :  13\n",
      "Episode 268/1000\n",
      "exploration_prob : 0.100\n",
      "No action possible. Stop episode at 20th iterations\n",
      "Save last state even is out of bound\n",
      "diff Qtable_N - Qtable_N-1  8.799929852603615\n",
      "Loss : -76.03839734696633\n",
      "end while loop iteration :  20\n",
      "Episode 269/1000\n",
      "exploration_prob : 0.100\n",
      "No action possible. Stop episode at 12th iterations\n",
      "Save last state even is out of bound\n",
      "Q table still growths\n",
      "Loss : -41.52475947485292\n",
      "end while loop iteration :  12\n",
      "Episode 270/1000\n",
      "exploration_prob : 0.100\n",
      "No action possible. Stop episode at 12th iterations\n",
      "Save last state even is out of bound\n",
      "diff Qtable_N - Qtable_N-1  0.3367776368119789\n",
      "Loss : -25.96551744854131\n",
      "end while loop iteration :  12\n",
      "Episode 271/1000\n",
      "exploration_prob : 0.100\n",
      "stop episode because agent reach goal\n",
      "No action possible. Stop episode at 19th iterations\n",
      "Save last state even is out of bound\n",
      "diff Qtable_N - Qtable_N-1  1.0110978625306755\n",
      "Loss : -19.248183247828486\n",
      "end while loop iteration :  19\n",
      "Episode 272/1000\n",
      "exploration_prob : 0.100\n",
      "No action possible. Stop episode at 6th iterations\n",
      "Save last state even is out of bound\n",
      "diff Qtable_N - Qtable_N-1  4.533604578168037\n",
      "Loss : -22.247277596855678\n",
      "end while loop iteration :  6\n",
      "Episode 273/1000\n",
      "exploration_prob : 0.100\n",
      "stop episode because agent reach goal\n",
      "stop episode because agent reach goal\n",
      "Q table still growths\n",
      "Loss : -33.752043321649296\n",
      "end while loop iteration :  21\n",
      "Episode 274/1000\n",
      "exploration_prob : 0.100\n",
      "No action possible. Stop episode at 20th iterations\n",
      "Save last state even is out of bound\n",
      "diff Qtable_N - Qtable_N-1  9.038428595028398\n",
      "Loss : -62.93055611702191\n",
      "end while loop iteration :  20\n",
      "Episode 275/1000\n",
      "exploration_prob : 0.100\n",
      "No action possible. Stop episode at 17th iterations\n",
      "Save last state even is out of bound\n",
      "Q table still growths\n",
      "Loss : -26.28397032737672\n",
      "end while loop iteration :  17\n",
      "Episode 276/1000\n",
      "exploration_prob : 0.100\n",
      "No action possible. Stop episode at 23th iterations\n",
      "Save last state even is out of bound\n",
      "Q table still growths\n",
      "Loss : -90.13613753265427\n",
      "end while loop iteration :  23\n",
      "Episode 277/1000\n",
      "exploration_prob : 0.100\n",
      "No action possible. Stop episode at 20th iterations\n",
      "Save last state even is out of bound\n",
      "Q table still growths\n",
      "Loss : -207.43388274448068\n",
      "end while loop iteration :  20\n",
      "Episode 278/1000\n",
      "exploration_prob : 0.100\n",
      "No action possible. Stop episode at 20th iterations\n",
      "Save last state even is out of bound\n",
      "Q table still growths\n",
      "Loss : -64.2641826234188\n",
      "end while loop iteration :  20\n",
      "Episode 279/1000\n",
      "exploration_prob : 0.100\n",
      "No action possible. Stop episode at 22th iterations\n",
      "Save last state even is out of bound\n",
      "diff Qtable_N - Qtable_N-1  13.821496546975204\n",
      "Loss : -87.84295590686952\n",
      "end while loop iteration :  22\n",
      "Episode 280/1000\n",
      "exploration_prob : 0.100\n",
      "No action possible. Stop episode at 10th iterations\n",
      "Save last state even is out of bound\n",
      "Q table still growths\n",
      "Loss : -152.03017270642016\n",
      "end while loop iteration :  10\n",
      "Episode 281/1000\n",
      "exploration_prob : 0.100\n",
      "stop episode because agent reach goal\n",
      "stop episode because agent reach goal\n",
      "diff Qtable_N - Qtable_N-1  0.08842863204295945\n",
      "Loss : -7.851455885362883\n",
      "end while loop iteration :  12\n",
      "Episode 282/1000\n",
      "exploration_prob : 0.100\n",
      "No action possible. Stop episode at 17th iterations\n",
      "Save last state even is out of bound\n",
      "Q table still growths\n",
      "Loss : -46.857875982439566\n",
      "end while loop iteration :  17\n",
      "Episode 283/1000\n",
      "exploration_prob : 0.100\n",
      "No action possible. Stop episode at 15th iterations\n",
      "Save last state even is out of bound\n",
      "diff Qtable_N - Qtable_N-1  2.001720494632783\n",
      "Loss : -48.63003895196851\n",
      "end while loop iteration :  15\n",
      "Episode 284/1000\n",
      "exploration_prob : 0.100\n",
      "No action possible. Stop episode at 8th iterations\n",
      "Save last state even is out of bound\n",
      "Q table still growths\n",
      "Loss : -40.53186737308192\n",
      "end while loop iteration :  8\n",
      "Episode 285/1000\n",
      "exploration_prob : 0.100\n",
      "No action possible. Stop episode at 5th iterations\n",
      "Save last state even is out of bound\n",
      "diff Qtable_N - Qtable_N-1  1.0310886348495445\n",
      "Loss : -29.09544032284311\n",
      "end while loop iteration :  5\n",
      "Episode 286/1000\n",
      "exploration_prob : 0.100\n",
      "stop episode because agent reach goal\n",
      "stop episode because agent reach goal\n",
      "Q table still growths\n",
      "Loss : -74.32709774085598\n",
      "end while loop iteration :  22\n",
      "Episode 287/1000\n",
      "exploration_prob : 0.100\n",
      "stop episode because agent reach goal\n",
      "stop episode because agent reach goal\n",
      "diff Qtable_N - Qtable_N-1  0.06024377216063331\n",
      "Loss : -7.8620774027050295\n",
      "end while loop iteration :  12\n",
      "Episode 288/1000\n",
      "exploration_prob : 0.100\n",
      "No action possible. Stop episode at 27th iterations\n",
      "Save last state even is out of bound\n",
      "Q table still growths\n",
      "Loss : -106.87966256437389\n",
      "end while loop iteration :  27\n",
      "Episode 289/1000\n",
      "exploration_prob : 0.100\n",
      "No action possible. Stop episode at 8th iterations\n",
      "Save last state even is out of bound\n",
      "diff Qtable_N - Qtable_N-1  0.48615667339751484\n",
      "Loss : -26.699030282139027\n",
      "end while loop iteration :  8\n",
      "Episode 290/1000\n",
      "exploration_prob : 0.100\n",
      "No action possible. Stop episode at 9th iterations\n",
      "Save last state even is out of bound\n",
      "diff Qtable_N - Qtable_N-1  3.1942576224938315\n",
      "Loss : -15.501583619331969\n",
      "end while loop iteration :  9\n",
      "Episode 291/1000\n",
      "exploration_prob : 0.100\n",
      "No action possible. Stop episode at 14th iterations\n",
      "Save last state even is out of bound\n",
      "Q table still growths\n",
      "Loss : -41.7725438104015\n",
      "end while loop iteration :  14\n",
      "Episode 292/1000\n",
      "exploration_prob : 0.100\n",
      "stop episode because agent reach goal\n",
      "stop episode because agent reach goal\n",
      "diff Qtable_N - Qtable_N-1  0.039802559799834485\n",
      "Loss : -12.737075566303378\n",
      "end while loop iteration :  13\n",
      "Episode 293/1000\n",
      "exploration_prob : 0.100\n",
      "stop episode because agent reach goal\n",
      "stop episode because agent reach goal\n",
      "stop episode because agent reach goal\n",
      "Q table still growths\n",
      "Loss : -11.269556573733373\n",
      "end while loop iteration :  24\n",
      "Episode 294/1000\n",
      "exploration_prob : 0.100\n",
      "No action possible. Stop episode at 8th iterations\n",
      "Save last state even is out of bound\n",
      "diff Qtable_N - Qtable_N-1  2.0127255235575205\n",
      "Loss : -69.39911275202692\n",
      "end while loop iteration :  8\n",
      "Episode 295/1000\n",
      "exploration_prob : 0.100\n",
      "No action possible. Stop episode at 14th iterations\n",
      "Save last state even is out of bound\n",
      "diff Qtable_N - Qtable_N-1  0.40316929094774034\n",
      "Loss : -43.36741544538976\n",
      "end while loop iteration :  14\n",
      "Episode 296/1000\n",
      "exploration_prob : 0.100\n",
      "No action possible. Stop episode at 6th iterations\n",
      "Save last state even is out of bound\n",
      "diff Qtable_N - Qtable_N-1  3.517919851391235\n",
      "Loss : -50.968147511860344\n",
      "end while loop iteration :  6\n",
      "Episode 297/1000\n",
      "exploration_prob : 0.100\n",
      "No action possible. Stop episode at 12th iterations\n",
      "Save last state even is out of bound\n",
      "diff Qtable_N - Qtable_N-1  4.085499211870692\n",
      "Loss : -23.79750355874252\n",
      "end while loop iteration :  12\n",
      "Episode 298/1000\n",
      "exploration_prob : 0.100\n",
      "No action possible. Stop episode at 21th iterations\n",
      "Save last state even is out of bound\n",
      "Q table still growths\n",
      "Loss : -251.11640468282758\n",
      "end while loop iteration :  21\n",
      "Episode 299/1000\n",
      "exploration_prob : 0.100\n",
      "stop episode because agent reach goal\n",
      "stop episode because agent reach goal\n",
      "Q table still growths\n",
      "Loss : -14.611165975719068\n",
      "end while loop iteration :  12\n",
      "Episode 300/1000\n",
      "exploration_prob : 0.100\n",
      "stop episode because agent reach goal\n",
      "diff Qtable_N - Qtable_N-1  0.02275745349302649\n",
      "Loss : -9.259553801157542\n",
      "end while loop iteration :  12\n",
      "Episode 301/1000\n",
      "exploration_prob : 0.100\n",
      "No action possible. Stop episode at 7th iterations\n",
      "Save last state even is out of bound\n",
      "diff Qtable_N - Qtable_N-1  0.3984162101070326\n",
      "Loss : -26.260100336345875\n",
      "end while loop iteration :  7\n",
      "Episode 302/1000\n",
      "exploration_prob : 0.100\n",
      "No action possible. Stop episode at 23th iterations\n",
      "Save last state even is out of bound\n",
      "diff Qtable_N - Qtable_N-1  8.008178118167413\n",
      "Loss : -79.38275054496839\n",
      "end while loop iteration :  23\n",
      "Episode 303/1000\n",
      "exploration_prob : 0.100\n",
      "No action possible. Stop episode at 9th iterations\n",
      "Save last state even is out of bound\n",
      "diff Qtable_N - Qtable_N-1  0.7389176964267575\n",
      "Loss : -70.75449109755652\n",
      "end while loop iteration :  9\n",
      "Episode 304/1000\n",
      "exploration_prob : 0.100\n",
      "No action possible. Stop episode at 15th iterations\n",
      "Save last state even is out of bound\n",
      "Q table still growths\n",
      "Loss : -52.197831942781875\n",
      "end while loop iteration :  15\n",
      "Episode 305/1000\n",
      "exploration_prob : 0.100\n",
      "No action possible. Stop episode at 16th iterations\n",
      "Save last state even is out of bound\n",
      "diff Qtable_N - Qtable_N-1  59.63672960079671\n",
      "Loss : -278.7074167248827\n",
      "end while loop iteration :  16\n",
      "Episode 306/1000\n",
      "exploration_prob : 0.100\n",
      "No action possible. Stop episode at 13th iterations\n",
      "Save last state even is out of bound\n",
      "Q table still growths\n",
      "Loss : -153.82708054989376\n",
      "end while loop iteration :  13\n",
      "Episode 307/1000\n",
      "exploration_prob : 0.100\n",
      "No action possible. Stop episode at 12th iterations\n",
      "Save last state even is out of bound\n",
      "diff Qtable_N - Qtable_N-1  0.6221125550412281\n",
      "Loss : -30.29313742549394\n",
      "end while loop iteration :  12\n",
      "Episode 308/1000\n",
      "exploration_prob : 0.100\n",
      "No action possible. Stop episode at 21th iterations\n",
      "Save last state even is out of bound\n",
      "diff Qtable_N - Qtable_N-1  5.119343868771609\n",
      "Loss : -33.840422486123295\n",
      "end while loop iteration :  21\n",
      "Episode 309/1000\n",
      "exploration_prob : 0.100\n",
      "No action possible. Stop episode at 23th iterations\n",
      "Save last state even is out of bound\n",
      "Q table still growths\n",
      "Loss : -207.30611971336236\n",
      "end while loop iteration :  23\n",
      "Episode 310/1000\n",
      "exploration_prob : 0.100\n",
      "stop episode because agent reach goal\n",
      "stop episode because agent reach goal\n",
      "stop episode because agent reach goal\n",
      "Q table still growths\n",
      "Loss : -76.302274819418\n",
      "end while loop iteration :  35\n",
      "Episode 311/1000\n",
      "exploration_prob : 0.100\n",
      "stop episode because agent reach goal\n",
      "stop episode because agent reach goal\n",
      "Q table still growths\n",
      "Loss : -15.406774353935527\n",
      "end while loop iteration :  16\n",
      "Episode 312/1000\n",
      "exploration_prob : 0.100\n",
      "No action possible. Stop episode at 7th iterations\n",
      "Save last state even is out of bound\n",
      "diff Qtable_N - Qtable_N-1  1.2772090072277735\n",
      "Loss : -41.58284218776711\n",
      "end while loop iteration :  7\n",
      "Episode 313/1000\n",
      "exploration_prob : 0.100\n",
      "stop episode because agent reach goal\n",
      "diff Qtable_N - Qtable_N-1  0.0142155864853101\n",
      "Loss : -49.44704507700573\n",
      "end while loop iteration :  14\n",
      "Episode 314/1000\n",
      "exploration_prob : 0.100\n",
      "stop episode because agent reach goal\n",
      "stop episode because agent reach goal\n",
      "Q table still growths\n",
      "Loss : -41.144256555735\n",
      "end while loop iteration :  21\n",
      "Episode 315/1000\n",
      "exploration_prob : 0.100\n",
      "No action possible. Stop episode at 2th iterations\n",
      "Save last state even is out of bound\n",
      "diff Qtable_N - Qtable_N-1  0.67962914585293\n",
      "Loss : -15.145059027596101\n",
      "end while loop iteration :  2\n",
      "Episode 316/1000\n",
      "exploration_prob : 0.100\n",
      "stop episode because agent reach goal\n",
      "No action possible. Stop episode at 30th iterations\n",
      "Save last state even is out of bound\n",
      "Q table still growths\n",
      "Loss : -43.52580136049163\n",
      "end while loop iteration :  30\n",
      "Episode 317/1000\n",
      "exploration_prob : 0.100\n",
      "No action possible. Stop episode at 9th iterations\n",
      "Save last state even is out of bound\n",
      "diff Qtable_N - Qtable_N-1  0.6397748166128121\n",
      "Loss : -33.46481203987854\n",
      "end while loop iteration :  9\n",
      "Episode 318/1000\n",
      "exploration_prob : 0.100\n",
      "stop episode because agent reach goal\n",
      "diff Qtable_N - Qtable_N-1  0.01935639833554678\n",
      "Loss : -7.698366183801375\n",
      "end while loop iteration :  12\n",
      "Episode 319/1000\n",
      "exploration_prob : 0.100\n",
      "stop episode because agent reach goal\n",
      "stop episode because agent reach goal\n",
      "diff Qtable_N - Qtable_N-1  0.06953685517918597\n",
      "Loss : -13.665947104558775\n",
      "end while loop iteration :  12\n",
      "Episode 320/1000\n",
      "exploration_prob : 0.100\n",
      "No action possible. Stop episode at 11th iterations\n",
      "Save last state even is out of bound\n",
      "diff Qtable_N - Qtable_N-1  6.525790513601272\n",
      "Loss : -36.14692709426714\n",
      "end while loop iteration :  11\n",
      "Episode 321/1000\n",
      "exploration_prob : 0.100\n",
      "No action possible. Stop episode at 20th iterations\n",
      "Save last state even is out of bound\n",
      "diff Qtable_N - Qtable_N-1  40.49774512514756\n",
      "Loss : -266.8663418204032\n",
      "end while loop iteration :  20\n",
      "Episode 322/1000\n",
      "exploration_prob : 0.100\n",
      "stop episode because agent reach goal\n",
      "diff Qtable_N - Qtable_N-1  0.01647755721581759\n",
      "Loss : -7.658804458467895\n",
      "end while loop iteration :  12\n",
      "Episode 323/1000\n",
      "exploration_prob : 0.100\n",
      "No action possible. Stop episode at 6th iterations\n",
      "Save last state even is out of bound\n",
      "diff Qtable_N - Qtable_N-1  4.543483026166\n",
      "Loss : -29.09633904000924\n",
      "end while loop iteration :  6\n",
      "Episode 324/1000\n",
      "exploration_prob : 0.100\n",
      "stop episode because agent reach goal\n",
      "stop episode because agent reach goal\n",
      "stop episode because agent reach goal\n",
      "Q table still growths\n",
      "Loss : -9.428017031331066\n",
      "end while loop iteration :  16\n",
      "Episode 325/1000\n",
      "exploration_prob : 0.100\n",
      "No action possible. Stop episode at 13th iterations\n",
      "Save last state even is out of bound\n",
      "diff Qtable_N - Qtable_N-1  4.806433378465058\n",
      "Loss : -130.18810488559487\n",
      "end while loop iteration :  13\n",
      "Episode 326/1000\n",
      "exploration_prob : 0.100\n",
      "No action possible. Stop episode at 11th iterations\n",
      "Save last state even is out of bound\n",
      "Q table still growths\n",
      "Loss : -62.38147556115972\n",
      "end while loop iteration :  11\n",
      "Episode 327/1000\n",
      "exploration_prob : 0.100\n",
      "No action possible. Stop episode at 10th iterations\n",
      "Save last state even is out of bound\n",
      "diff Qtable_N - Qtable_N-1  0.19666116040774023\n",
      "Loss : -7.964346129313212\n",
      "end while loop iteration :  10\n",
      "Episode 328/1000\n",
      "exploration_prob : 0.100\n",
      "stop episode because agent reach goal\n",
      "stop episode because agent reach goal\n",
      "Q table still growths\n",
      "Loss : -10.661560910335144\n",
      "end while loop iteration :  18\n",
      "Episode 329/1000\n",
      "exploration_prob : 0.100\n",
      "No action possible. Stop episode at 19th iterations\n",
      "Save last state even is out of bound\n",
      "diff Qtable_N - Qtable_N-1  1.0335038596881991\n",
      "Loss : -97.17457802276788\n",
      "end while loop iteration :  19\n",
      "Episode 330/1000\n",
      "exploration_prob : 0.100\n",
      "No action possible. Stop episode at 4th iterations\n",
      "Save last state even is out of bound\n",
      "diff Qtable_N - Qtable_N-1  0.4676444836536542\n",
      "Loss : -21.114867405202602\n",
      "end while loop iteration :  4\n",
      "Episode 331/1000\n",
      "exploration_prob : 0.100\n",
      "No action possible. Stop episode at 15th iterations\n",
      "Save last state even is out of bound\n",
      "Q table still growths\n",
      "Loss : -111.79408353767768\n",
      "end while loop iteration :  15\n",
      "Episode 332/1000\n",
      "exploration_prob : 0.100\n",
      "No action possible. Stop episode at 21th iterations\n",
      "Save last state even is out of bound\n",
      "diff Qtable_N - Qtable_N-1  24.54990021141016\n",
      "Loss : -134.35388773913064\n",
      "end while loop iteration :  21\n",
      "Episode 333/1000\n",
      "exploration_prob : 0.100\n",
      "No action possible. Stop episode at 10th iterations\n",
      "Save last state even is out of bound\n",
      "diff Qtable_N - Qtable_N-1  1.0501595912067352\n",
      "Loss : -52.833699046490274\n",
      "end while loop iteration :  10\n",
      "Episode 334/1000\n",
      "exploration_prob : 0.100\n",
      "No action possible. Stop episode at 6th iterations\n",
      "Save last state even is out of bound\n",
      "diff Qtable_N - Qtable_N-1  3.63779693995432\n",
      "Loss : -44.41660046962026\n",
      "end while loop iteration :  6\n",
      "Episode 335/1000\n",
      "exploration_prob : 0.100\n",
      "No action possible. Stop episode at 11th iterations\n",
      "Save last state even is out of bound\n",
      "diff Qtable_N - Qtable_N-1  0.26663877512828543\n",
      "Loss : -50.7974287175884\n",
      "end while loop iteration :  11\n",
      "Episode 336/1000\n",
      "exploration_prob : 0.100\n",
      "No action possible. Stop episode at 2th iterations\n",
      "Save last state even is out of bound\n",
      "diff Qtable_N - Qtable_N-1  0.1950973582680653\n",
      "Loss : -10.749946442630739\n",
      "end while loop iteration :  2\n",
      "Episode 337/1000\n",
      "exploration_prob : 0.100\n",
      "No action possible. Stop episode at 16th iterations\n",
      "Save last state even is out of bound\n",
      "diff Qtable_N - Qtable_N-1  3.0802508746692365\n",
      "Loss : -53.61233492550822\n",
      "end while loop iteration :  16\n",
      "Episode 338/1000\n",
      "exploration_prob : 0.100\n",
      "stop episode because agent reach goal\n",
      "diff Qtable_N - Qtable_N-1  0.015272256961541608\n",
      "Loss : -7.2838574982945055\n",
      "end while loop iteration :  12\n",
      "Episode 339/1000\n",
      "exploration_prob : 0.100\n",
      "No action possible. Stop episode at 13th iterations\n",
      "Save last state even is out of bound\n",
      "Q table still growths\n",
      "Loss : -100.93537743782827\n",
      "end while loop iteration :  13\n",
      "Episode 340/1000\n",
      "exploration_prob : 0.100\n",
      "No action possible. Stop episode at 6th iterations\n",
      "Save last state even is out of bound\n",
      "diff Qtable_N - Qtable_N-1  14.443202657166104\n",
      "Loss : -131.06391081895495\n",
      "end while loop iteration :  6\n",
      "Episode 341/1000\n",
      "exploration_prob : 0.100\n",
      "No action possible. Stop episode at 18th iterations\n",
      "Save last state even is out of bound\n",
      "diff Qtable_N - Qtable_N-1  5.296898084935535\n",
      "Loss : -39.82604259556897\n",
      "end while loop iteration :  18\n",
      "Episode 342/1000\n",
      "exploration_prob : 0.100\n",
      "No action possible. Stop episode at 19th iterations\n",
      "Save last state even is out of bound\n",
      "Q table still growths\n",
      "Loss : -314.60300795644247\n",
      "end while loop iteration :  19\n",
      "Episode 343/1000\n",
      "exploration_prob : 0.100\n",
      "stop episode because agent reach goal\n",
      "diff Qtable_N - Qtable_N-1  0.013302575798081695\n",
      "Loss : -7.658804458467895\n",
      "end while loop iteration :  12\n",
      "Episode 344/1000\n",
      "exploration_prob : 0.100\n",
      "stop episode because agent reach goal\n",
      "stop episode because agent reach goal\n",
      "No action possible. Stop episode at 64th iterations\n",
      "Save last state even is out of bound\n",
      "Q table still growths\n",
      "Loss : -373.4353335957703\n",
      "end while loop iteration :  64\n",
      "Episode 345/1000\n",
      "exploration_prob : 0.100\n",
      "stop episode because agent reach goal\n",
      "diff Qtable_N - Qtable_N-1  0.04021688151498376\n",
      "Loss : -6.326259367187192\n",
      "end while loop iteration :  12\n",
      "Episode 346/1000\n",
      "exploration_prob : 0.100\n",
      "No action possible. Stop episode at 10th iterations\n",
      "Save last state even is out of bound\n",
      "diff Qtable_N - Qtable_N-1  1.0627524449413712\n",
      "Loss : -48.5687915231581\n",
      "end while loop iteration :  10\n",
      "Episode 347/1000\n",
      "exploration_prob : 0.100\n",
      "stop episode because agent reach goal\n",
      "diff Qtable_N - Qtable_N-1  0.009400742782814164\n",
      "Loss : -7.728279906554319\n",
      "end while loop iteration :  12\n",
      "Episode 348/1000\n",
      "exploration_prob : 0.100\n",
      "No action possible. Stop episode at 21th iterations\n",
      "Save last state even is out of bound\n",
      "Q table still growths\n",
      "Loss : -54.948692209722694\n",
      "end while loop iteration :  21\n",
      "Episode 349/1000\n",
      "exploration_prob : 0.100\n",
      "No action possible. Stop episode at 10th iterations\n",
      "Save last state even is out of bound\n",
      "diff Qtable_N - Qtable_N-1  0.38588473685234637\n",
      "Loss : -24.63500736357979\n",
      "end while loop iteration :  10\n",
      "Episode 350/1000\n",
      "exploration_prob : 0.100\n",
      "No action possible. Stop episode at 18th iterations\n",
      "Save last state even is out of bound\n",
      "Q table still growths\n",
      "Loss : -52.92040226445541\n",
      "end while loop iteration :  18\n",
      "Episode 351/1000\n",
      "exploration_prob : 0.100\n",
      "stop episode because agent reach goal\n",
      "stop episode because agent reach goal\n",
      "diff Qtable_N - Qtable_N-1  0.052933965312078834\n",
      "Loss : -7.053649270516946\n",
      "end while loop iteration :  12\n",
      "Episode 352/1000\n",
      "exploration_prob : 0.100\n",
      "No action possible. Stop episode at 12th iterations\n",
      "Save last state even is out of bound\n",
      "Q table still growths\n",
      "Loss : -68.0094872196133\n",
      "end while loop iteration :  12\n",
      "Episode 353/1000\n",
      "exploration_prob : 0.100\n",
      "No action possible. Stop episode at 14th iterations\n",
      "Save last state even is out of bound\n",
      "diff Qtable_N - Qtable_N-1  7.553570625529848\n",
      "Loss : -36.688316717554095\n",
      "end while loop iteration :  14\n",
      "Episode 354/1000\n",
      "exploration_prob : 0.100\n",
      "No action possible. Stop episode at 7th iterations\n",
      "Save last state even is out of bound\n",
      "diff Qtable_N - Qtable_N-1  23.0645367626659\n",
      "Loss : -98.91034276150882\n",
      "end while loop iteration :  7\n",
      "Episode 355/1000\n",
      "exploration_prob : 0.100\n",
      "No action possible. Stop episode at 31th iterations\n",
      "Save last state even is out of bound\n",
      "Q table still growths\n",
      "Loss : -37.48940539612475\n",
      "end while loop iteration :  31\n",
      "Episode 356/1000\n",
      "exploration_prob : 0.100\n",
      "No action possible. Stop episode at 17th iterations\n",
      "Save last state even is out of bound\n",
      "diff Qtable_N - Qtable_N-1  8.779817846902466\n",
      "Loss : -45.321861941775936\n",
      "end while loop iteration :  17\n",
      "Episode 357/1000\n",
      "exploration_prob : 0.100\n",
      "stop episode because agent reach goal\n",
      "diff Qtable_N - Qtable_N-1  1.0030538856300988\n",
      "Loss : -9.904459242906855\n",
      "end while loop iteration :  13\n",
      "Episode 358/1000\n",
      "exploration_prob : 0.100\n",
      "No action possible. Stop episode at 11th iterations\n",
      "Save last state even is out of bound\n",
      "Q table still growths\n",
      "Loss : -60.26059468077006\n",
      "end while loop iteration :  11\n",
      "Episode 359/1000\n",
      "exploration_prob : 0.100\n",
      "No action possible. Stop episode at 14th iterations\n",
      "Save last state even is out of bound\n",
      "diff Qtable_N - Qtable_N-1  0.6636057258790372\n",
      "Loss : -42.560939616282525\n",
      "end while loop iteration :  14\n",
      "Episode 360/1000\n",
      "exploration_prob : 0.100\n",
      "No action possible. Stop episode at 15th iterations\n",
      "Save last state even is out of bound\n",
      "diff Qtable_N - Qtable_N-1  3.061616018545246\n",
      "Loss : -136.98885813972163\n",
      "end while loop iteration :  15\n",
      "Episode 361/1000\n",
      "exploration_prob : 0.100\n",
      "No action possible. Stop episode at 12th iterations\n",
      "Save last state even is out of bound\n",
      "Q table still growths\n",
      "Loss : -29.86274921710983\n",
      "end while loop iteration :  12\n",
      "Episode 362/1000\n",
      "exploration_prob : 0.100\n",
      "No action possible. Stop episode at 17th iterations\n",
      "Save last state even is out of bound\n",
      "diff Qtable_N - Qtable_N-1  8.79296725571291\n",
      "Loss : -48.2221237906788\n",
      "end while loop iteration :  17\n",
      "Episode 363/1000\n",
      "exploration_prob : 0.100\n",
      "No action possible. Stop episode at 26th iterations\n",
      "Save last state even is out of bound\n",
      "Q table still growths\n",
      "Loss : -73.17853456960866\n",
      "end while loop iteration :  26\n",
      "Episode 364/1000\n",
      "exploration_prob : 0.100\n",
      "No action possible. Stop episode at 11th iterations\n",
      "Save last state even is out of bound\n",
      "diff Qtable_N - Qtable_N-1  1.273703870742064\n",
      "Loss : -18.402163012666136\n",
      "end while loop iteration :  11\n",
      "Episode 365/1000\n",
      "exploration_prob : 0.100\n",
      "stop episode because agent reach goal\n",
      "diff Qtable_N - Qtable_N-1  0.03526714916039192\n",
      "Loss : -7.205206796171013\n",
      "end while loop iteration :  12\n",
      "Episode 366/1000\n",
      "exploration_prob : 0.100\n",
      "No action possible. Stop episode at 9th iterations\n",
      "Save last state even is out of bound\n",
      "diff Qtable_N - Qtable_N-1  0.6919426803672906\n",
      "Loss : -38.55927714666829\n",
      "end while loop iteration :  9\n",
      "Episode 367/1000\n",
      "exploration_prob : 0.100\n",
      "No action possible. Stop episode at 24th iterations\n",
      "Save last state even is out of bound\n",
      "Q table still growths\n",
      "Loss : -130.24840488741899\n",
      "end while loop iteration :  24\n",
      "Episode 368/1000\n",
      "exploration_prob : 0.100\n",
      "stop episode because agent reach goal\n",
      "stop episode because agent reach goal\n",
      "Q table still growths\n",
      "Loss : -14.656098227943748\n",
      "end while loop iteration :  17\n",
      "Episode 369/1000\n",
      "exploration_prob : 0.100\n",
      "No action possible. Stop episode at 19th iterations\n",
      "Save last state even is out of bound\n",
      "diff Qtable_N - Qtable_N-1  15.184656293228954\n",
      "Loss : -73.69792708139283\n",
      "end while loop iteration :  19\n",
      "Episode 370/1000\n",
      "exploration_prob : 0.100\n",
      "stop episode because agent reach goal\n",
      "diff Qtable_N - Qtable_N-1  0.05089080556278496\n",
      "Loss : -71.54034026664027\n",
      "end while loop iteration :  23\n",
      "Episode 371/1000\n",
      "exploration_prob : 0.100\n",
      "No action possible. Stop episode at 10th iterations\n",
      "Save last state even is out of bound\n",
      "diff Qtable_N - Qtable_N-1  1.017322527555788\n",
      "Loss : -52.462648041274896\n",
      "end while loop iteration :  10\n",
      "Episode 372/1000\n",
      "exploration_prob : 0.100\n",
      "No action possible. Stop episode at 13th iterations\n",
      "Save last state even is out of bound\n",
      "diff Qtable_N - Qtable_N-1  4.903018495202956\n",
      "Loss : -63.576800714751464\n",
      "end while loop iteration :  13\n",
      "Episode 373/1000\n",
      "exploration_prob : 0.100\n",
      "stop episode because agent reach goal\n",
      "diff Qtable_N - Qtable_N-1  0.03172840416916478\n",
      "Loss : -6.326259367187192\n",
      "end while loop iteration :  12\n",
      "Episode 374/1000\n",
      "exploration_prob : 0.100\n",
      "No action possible. Stop episode at 19th iterations\n",
      "Save last state even is out of bound\n",
      "diff Qtable_N - Qtable_N-1  62.370751882762356\n",
      "Loss : -333.7475061820487\n",
      "end while loop iteration :  19\n",
      "Episode 375/1000\n",
      "exploration_prob : 0.100\n",
      "No action possible. Stop episode at 13th iterations\n",
      "Save last state even is out of bound\n",
      "diff Qtable_N - Qtable_N-1  1.0011157865430584\n",
      "Loss : -54.43022685167741\n",
      "end while loop iteration :  13\n",
      "Episode 376/1000\n",
      "exploration_prob : 0.100\n",
      "stop episode because agent reach goal\n",
      "No action possible. Stop episode at 20th iterations\n",
      "Save last state even is out of bound\n",
      "diff Qtable_N - Qtable_N-1  1.5295603309284516\n",
      "Loss : -34.90635816265675\n",
      "end while loop iteration :  20\n",
      "Episode 377/1000\n",
      "exploration_prob : 0.100\n",
      "No action possible. Stop episode at 10th iterations\n",
      "Save last state even is out of bound\n",
      "diff Qtable_N - Qtable_N-1  1.040551198099376\n",
      "Loss : -47.56610011806292\n",
      "end while loop iteration :  10\n",
      "Episode 378/1000\n",
      "exploration_prob : 0.100\n",
      "No action possible. Stop episode at 31th iterations\n",
      "Save last state even is out of bound\n",
      "diff Qtable_N - Qtable_N-1  4.8526891368541\n",
      "Loss : -29.946991734152615\n",
      "end while loop iteration :  31\n",
      "Episode 379/1000\n",
      "exploration_prob : 0.100\n",
      "No action possible. Stop episode at 26th iterations\n",
      "Save last state even is out of bound\n",
      "Q table still growths\n",
      "Loss : -164.37109001599757\n",
      "end while loop iteration :  26\n",
      "Episode 380/1000\n",
      "exploration_prob : 0.100\n",
      "No action possible. Stop episode at 11th iterations\n",
      "Save last state even is out of bound\n",
      "diff Qtable_N - Qtable_N-1  0.28211688639640403\n",
      "Loss : -38.072895265779884\n",
      "end while loop iteration :  11\n",
      "Episode 381/1000\n",
      "exploration_prob : 0.100\n",
      "No action possible. Stop episode at 22th iterations\n",
      "Save last state even is out of bound\n",
      "diff Qtable_N - Qtable_N-1  2.6029469122381026\n",
      "Loss : -28.20616367807013\n",
      "end while loop iteration :  22\n",
      "Episode 382/1000\n",
      "exploration_prob : 0.100\n",
      "stop episode because agent reach goal\n",
      "diff Qtable_N - Qtable_N-1  0.03786291251211635\n",
      "Loss : -11.39453437351174\n",
      "end while loop iteration :  17\n",
      "Episode 383/1000\n",
      "exploration_prob : 0.100\n",
      "No action possible. Stop episode at 12th iterations\n",
      "Save last state even is out of bound\n",
      "diff Qtable_N - Qtable_N-1  0.6633041119267398\n",
      "Loss : -65.11580202971196\n",
      "end while loop iteration :  12\n",
      "Episode 384/1000\n",
      "exploration_prob : 0.100\n",
      "No action possible. Stop episode at 15th iterations\n",
      "Save last state even is out of bound\n",
      "diff Qtable_N - Qtable_N-1  2.0469129102086456\n",
      "Loss : -32.92455931282247\n",
      "end while loop iteration :  15\n",
      "Episode 385/1000\n",
      "exploration_prob : 0.100\n",
      "No action possible. Stop episode at 15th iterations\n",
      "Save last state even is out of bound\n",
      "Q table still growths\n",
      "Loss : -13.926479435858868\n",
      "end while loop iteration :  15\n",
      "Episode 386/1000\n",
      "exploration_prob : 0.100\n",
      "No action possible. Stop episode at 6th iterations\n",
      "Save last state even is out of bound\n",
      "diff Qtable_N - Qtable_N-1  4.378942893271996\n",
      "Loss : -32.24106948423092\n",
      "end while loop iteration :  6\n",
      "Episode 387/1000\n",
      "exploration_prob : 0.100\n",
      "stop episode because agent reach goal\n",
      "diff Qtable_N - Qtable_N-1  0.024572958333121488\n",
      "Loss : -20.284188935570896\n",
      "end while loop iteration :  17\n",
      "Episode 388/1000\n",
      "exploration_prob : 0.100\n",
      "stop episode because agent reach goal\n",
      "diff Qtable_N - Qtable_N-1  0.02855556375224827\n",
      "Loss : -6.326259367187192\n",
      "end while loop iteration :  12\n",
      "Episode 389/1000\n",
      "exploration_prob : 0.100\n",
      "No action possible. Stop episode at 12th iterations\n",
      "Save last state even is out of bound\n",
      "Q table still growths\n",
      "Loss : -99.15536062714995\n",
      "end while loop iteration :  12\n",
      "Episode 390/1000\n",
      "exploration_prob : 0.100\n",
      "No action possible. Stop episode at 18th iterations\n",
      "Save last state even is out of bound\n",
      "diff Qtable_N - Qtable_N-1  5.59816692213308\n",
      "Loss : -33.641487609971854\n",
      "end while loop iteration :  18\n",
      "Episode 391/1000\n",
      "exploration_prob : 0.100\n",
      "stop episode because agent reach goal\n",
      "diff Qtable_N - Qtable_N-1  0.025700007377023493\n",
      "Loss : -6.326259367187192\n",
      "end while loop iteration :  12\n",
      "Episode 392/1000\n",
      "exploration_prob : 0.100\n",
      "No action possible. Stop episode at 13th iterations\n",
      "Save last state even is out of bound\n",
      "diff Qtable_N - Qtable_N-1  0.38390018546475746\n",
      "Loss : -40.78588608765348\n",
      "end while loop iteration :  13\n",
      "Episode 393/1000\n",
      "exploration_prob : 0.100\n",
      "No action possible. Stop episode at 9th iterations\n",
      "Save last state even is out of bound\n",
      "Q table still growths\n",
      "Loss : -208.88649482163447\n",
      "end while loop iteration :  9\n",
      "Episode 394/1000\n",
      "exploration_prob : 0.100\n",
      "stop episode because agent reach goal\n",
      "diff Qtable_N - Qtable_N-1  0.49731391460157837\n",
      "Loss : -7.728279906554319\n",
      "end while loop iteration :  12\n",
      "Episode 395/1000\n",
      "exploration_prob : 0.100\n",
      "No action possible. Stop episode at 20th iterations\n",
      "Save last state even is out of bound\n",
      "diff Qtable_N - Qtable_N-1  39.84867872117407\n",
      "Loss : -200.94065454196397\n",
      "end while loop iteration :  20\n",
      "Episode 396/1000\n",
      "exploration_prob : 0.100\n",
      "stop episode because agent reach goal\n",
      "stop episode because agent reach goal\n",
      "Q table still growths\n",
      "Loss : -33.54352009415045\n",
      "end while loop iteration :  24\n",
      "Episode 397/1000\n",
      "exploration_prob : 0.100\n",
      "No action possible. Stop episode at 8th iterations\n",
      "Save last state even is out of bound\n",
      "Q table still growths\n",
      "Loss : -21.752281940193612\n",
      "end while loop iteration :  8\n",
      "Episode 398/1000\n",
      "exploration_prob : 0.100\n",
      "stop episode because agent reach goal\n",
      "stop episode because agent reach goal\n",
      "diff Qtable_N - Qtable_N-1  1.0093465227367033\n",
      "Loss : -6.316896487126864\n",
      "end while loop iteration :  13\n",
      "Episode 399/1000\n",
      "exploration_prob : 0.100\n",
      "No action possible. Stop episode at 15th iterations\n",
      "Save last state even is out of bound\n",
      "diff Qtable_N - Qtable_N-1  0.028826063666963456\n",
      "Loss : -15.508861736487724\n",
      "end while loop iteration :  15\n",
      "Episode 400/1000\n",
      "exploration_prob : 0.100\n",
      "No action possible. Stop episode at 13th iterations\n",
      "Save last state even is out of bound\n",
      "Q table still growths\n",
      "Loss : -40.406198260895806\n",
      "end while loop iteration :  13\n",
      "Episode 401/1000\n",
      "exploration_prob : 0.100\n",
      "No action possible. Stop episode at 31th iterations\n",
      "Save last state even is out of bound\n",
      "Q table still growths\n",
      "Loss : -619.9027145793331\n",
      "end while loop iteration :  31\n",
      "Episode 402/1000\n",
      "exploration_prob : 0.100\n",
      "No action possible. Stop episode at 19th iterations\n",
      "Save last state even is out of bound\n",
      "diff Qtable_N - Qtable_N-1  15.100913431533208\n",
      "Loss : -78.64253617583961\n",
      "end while loop iteration :  19\n",
      "Episode 403/1000\n",
      "exploration_prob : 0.100\n",
      "stop episode because agent reach goal\n",
      "No action possible. Stop episode at 27th iterations\n",
      "Save last state even is out of bound\n",
      "Q table still growths\n",
      "Loss : -150.4913296818095\n",
      "end while loop iteration :  27\n",
      "Episode 404/1000\n",
      "exploration_prob : 0.100\n",
      "No action possible. Stop episode at 28th iterations\n",
      "Save last state even is out of bound\n",
      "Q table still growths\n",
      "Loss : -140.84882140670814\n",
      "end while loop iteration :  28\n",
      "Episode 405/1000\n",
      "exploration_prob : 0.100\n",
      "No action possible. Stop episode at 24th iterations\n",
      "Save last state even is out of bound\n",
      "diff Qtable_N - Qtable_N-1  21.234129323724375\n",
      "Loss : -113.96139108401066\n",
      "end while loop iteration :  24\n",
      "Episode 406/1000\n",
      "exploration_prob : 0.100\n",
      "No action possible. Stop episode at 10th iterations\n",
      "Save last state even is out of bound\n",
      "diff Qtable_N - Qtable_N-1  8.927402953590024\n",
      "Loss : -54.04019337599691\n",
      "end while loop iteration :  10\n",
      "Episode 407/1000\n",
      "exploration_prob : 0.100\n",
      "No action possible. Stop episode at 20th iterations\n",
      "Save last state even is out of bound\n",
      "diff Qtable_N - Qtable_N-1  39.70960257015525\n",
      "Loss : -197.55998770951607\n",
      "end while loop iteration :  20\n",
      "Episode 408/1000\n",
      "exploration_prob : 0.100\n",
      "stop episode because agent reach goal\n",
      "stop episode because agent reach goal\n",
      "stop episode because agent reach goal\n",
      "diff Qtable_N - Qtable_N-1  0.9084118704630331\n",
      "Loss : -6.316896487126864\n",
      "end while loop iteration :  13\n",
      "Episode 409/1000\n",
      "exploration_prob : 0.100\n",
      "No action possible. Stop episode at 37th iterations\n",
      "Save last state even is out of bound\n",
      "Q table still growths\n",
      "Loss : -103.13369300397451\n",
      "end while loop iteration :  37\n",
      "Episode 410/1000\n",
      "exploration_prob : 0.100\n",
      "No action possible. Stop episode at 13th iterations\n",
      "Save last state even is out of bound\n",
      "diff Qtable_N - Qtable_N-1  12.403670332836587\n",
      "Loss : -66.37071718073855\n",
      "end while loop iteration :  13\n",
      "Episode 411/1000\n",
      "exploration_prob : 0.100\n",
      "No action possible. Stop episode at 12th iterations\n",
      "Save last state even is out of bound\n",
      "Q table still growths\n",
      "Loss : -126.54188744723166\n",
      "end while loop iteration :  12\n",
      "Episode 412/1000\n",
      "exploration_prob : 0.100\n",
      "No action possible. Stop episode at 25th iterations\n",
      "Save last state even is out of bound\n",
      "Q table still growths\n",
      "Loss : -66.00077601275224\n",
      "end while loop iteration :  25\n",
      "Episode 413/1000\n",
      "exploration_prob : 0.100\n",
      "stop episode because agent reach goal\n",
      "stop episode because agent reach goal\n",
      "Q table still growths\n",
      "Loss : -35.41446026744892\n",
      "end while loop iteration :  23\n",
      "Episode 414/1000\n",
      "exploration_prob : 0.100\n",
      "No action possible. Stop episode at 13th iterations\n",
      "Save last state even is out of bound\n",
      "diff Qtable_N - Qtable_N-1  45.51810661365414\n",
      "Loss : -212.32038324234895\n",
      "end while loop iteration :  13\n",
      "Episode 415/1000\n",
      "exploration_prob : 0.100\n",
      "stop episode because agent reach goal\n",
      "diff Qtable_N - Qtable_N-1  0.07286139809947896\n",
      "Loss : -6.326259367187192\n",
      "end while loop iteration :  12\n",
      "Episode 416/1000\n",
      "exploration_prob : 0.100\n",
      "stop episode because agent reach goal\n",
      "diff Qtable_N - Qtable_N-1  0.04562673118576596\n",
      "Loss : -26.487572249867274\n",
      "end while loop iteration :  23\n",
      "Episode 417/1000\n",
      "exploration_prob : 0.100\n",
      "stop episode because agent reach goal\n",
      "diff Qtable_N - Qtable_N-1  0.4548686629513684\n",
      "Loss : -7.728279906554319\n",
      "end while loop iteration :  12\n",
      "Episode 418/1000\n",
      "exploration_prob : 0.100\n",
      "No action possible. Stop episode at 11th iterations\n",
      "Save last state even is out of bound\n",
      "Q table still growths\n",
      "Loss : -56.050405531797736\n",
      "end while loop iteration :  11\n",
      "Episode 419/1000\n",
      "exploration_prob : 0.100\n",
      "stop episode because agent reach goal\n",
      "diff Qtable_N - Qtable_N-1  0.028418657601978564\n",
      "Loss : -11.37743339863035\n",
      "end while loop iteration :  17\n",
      "Episode 420/1000\n",
      "exploration_prob : 0.100\n",
      "No action possible. Stop episode at 9th iterations\n",
      "Save last state even is out of bound\n",
      "diff Qtable_N - Qtable_N-1  3.045855973184107\n",
      "Loss : -99.79618230105649\n",
      "end while loop iteration :  9\n",
      "Episode 421/1000\n",
      "exploration_prob : 0.100\n",
      "No action possible. Stop episode at 19th iterations\n",
      "Save last state even is out of bound\n",
      "diff Qtable_N - Qtable_N-1  1.016461990877783\n",
      "Loss : -21.30548440505596\n",
      "end while loop iteration :  19\n",
      "Episode 422/1000\n",
      "exploration_prob : 0.100\n",
      "No action possible. Stop episode at 12th iterations\n",
      "Save last state even is out of bound\n",
      "diff Qtable_N - Qtable_N-1  1.2417658912412317\n",
      "Loss : -58.80861350159602\n",
      "end while loop iteration :  12\n",
      "Episode 423/1000\n",
      "exploration_prob : 0.100\n",
      "No action possible. Stop episode at 26th iterations\n",
      "Save last state even is out of bound\n",
      "diff Qtable_N - Qtable_N-1  29.698328155149927\n",
      "Loss : -187.78379163840978\n",
      "end while loop iteration :  26\n",
      "Episode 424/1000\n",
      "exploration_prob : 0.100\n",
      "stop episode because agent reach goal\n",
      "stop episode because agent reach goal\n",
      "diff Qtable_N - Qtable_N-1  1.0093465227367033\n",
      "Loss : -6.316896487126864\n",
      "end while loop iteration :  13\n",
      "Episode 425/1000\n",
      "exploration_prob : 0.100\n",
      "No action possible. Stop episode at 12th iterations\n",
      "Save last state even is out of bound\n",
      "Q table still growths\n",
      "Loss : -300.97151053334886\n",
      "end while loop iteration :  12\n",
      "Episode 426/1000\n",
      "exploration_prob : 0.100\n",
      "stop episode because agent reach goal\n",
      "stop episode because agent reach goal\n",
      "diff Qtable_N - Qtable_N-1  0.025833529028184955\n",
      "Loss : -7.541684383422602\n",
      "end while loop iteration :  16\n",
      "Episode 427/1000\n",
      "exploration_prob : 0.100\n",
      "No action possible. Stop episode at 13th iterations\n",
      "Save last state even is out of bound\n",
      "diff Qtable_N - Qtable_N-1  2.085748481399584\n",
      "Loss : -46.23097618536758\n",
      "end while loop iteration :  13\n",
      "Episode 428/1000\n",
      "exploration_prob : 0.100\n",
      "No action possible. Stop episode at 14th iterations\n",
      "Save last state even is out of bound\n",
      "diff Qtable_N - Qtable_N-1  0.7039083246168159\n",
      "Loss : -106.75294055359956\n",
      "end while loop iteration :  14\n",
      "Episode 429/1000\n",
      "exploration_prob : 0.100\n",
      "No action possible. Stop episode at 14th iterations\n",
      "Save last state even is out of bound\n",
      "diff Qtable_N - Qtable_N-1  0.7065949383178284\n",
      "Loss : -40.33543473325987\n",
      "end while loop iteration :  14\n",
      "Episode 430/1000\n",
      "exploration_prob : 0.100\n",
      "No action possible. Stop episode at 25th iterations\n",
      "Save last state even is out of bound\n",
      "Q table still growths\n",
      "Loss : -97.13572921859755\n",
      "end while loop iteration :  25\n",
      "Episode 431/1000\n",
      "exploration_prob : 0.100\n",
      "No action possible. Stop episode at 18th iterations\n",
      "Save last state even is out of bound\n",
      "diff Qtable_N - Qtable_N-1  5.277788841996949\n",
      "Loss : -29.584262440092054\n",
      "end while loop iteration :  18\n",
      "Episode 432/1000\n",
      "exploration_prob : 0.100\n",
      "No action possible. Stop episode at 9th iterations\n",
      "Save last state even is out of bound\n",
      "diff Qtable_N - Qtable_N-1  2.88467831151946\n",
      "Loss : -56.89287771526901\n",
      "end while loop iteration :  9\n",
      "Episode 433/1000\n",
      "exploration_prob : 0.100\n",
      "No action possible. Stop episode at 7th iterations\n",
      "Save last state even is out of bound\n",
      "Q table still growths\n",
      "Loss : -208.23035896286967\n",
      "end while loop iteration :  7\n",
      "Episode 434/1000\n",
      "exploration_prob : 0.100\n",
      "No action possible. Stop episode at 15th iterations\n",
      "Save last state even is out of bound\n",
      "diff Qtable_N - Qtable_N-1  0.8372825817692435\n",
      "Loss : -19.59344856016772\n",
      "end while loop iteration :  15\n",
      "Episode 435/1000\n",
      "exploration_prob : 0.100\n",
      "stop episode because agent reach goal\n",
      "stop episode because agent reach goal\n",
      "Q table still growths\n",
      "Loss : -69.78495353086798\n",
      "end while loop iteration :  31\n",
      "Episode 436/1000\n",
      "exploration_prob : 0.100\n",
      "No action possible. Stop episode at 32th iterations\n",
      "Save last state even is out of bound\n",
      "Q table still growths\n",
      "Loss : -456.51459581041433\n",
      "end while loop iteration :  32\n",
      "Episode 437/1000\n",
      "exploration_prob : 0.100\n",
      "stop episode because agent reach goal\n",
      "stop episode because agent reach goal\n",
      "diff Qtable_N - Qtable_N-1  0.010965263738324321\n",
      "Loss : -7.728279906554319\n",
      "end while loop iteration :  12\n",
      "Episode 438/1000\n",
      "exploration_prob : 0.100\n",
      "No action possible. Stop episode at 11th iterations\n",
      "Save last state even is out of bound\n",
      "diff Qtable_N - Qtable_N-1  1.7860034327378864\n",
      "Loss : -83.09545148870002\n",
      "end while loop iteration :  11\n",
      "Episode 439/1000\n",
      "exploration_prob : 0.100\n",
      "No action possible. Stop episode at 18th iterations\n",
      "Save last state even is out of bound\n",
      "diff Qtable_N - Qtable_N-1  5.328965770800304\n",
      "Loss : -63.09802959923651\n",
      "end while loop iteration :  18\n",
      "Episode 440/1000\n",
      "exploration_prob : 0.100\n",
      "stop episode because agent reach goal\n",
      "No action possible. Stop episode at 53th iterations\n",
      "Save last state even is out of bound\n",
      "Q table still growths\n",
      "Loss : -156.26111506207087\n",
      "end while loop iteration :  53\n",
      "Episode 441/1000\n",
      "exploration_prob : 0.100\n",
      "stop episode because agent reach goal\n",
      "stop episode because agent reach goal\n",
      "Q table still growths\n",
      "Loss : -52.01818563673335\n",
      "end while loop iteration :  44\n",
      "Episode 442/1000\n",
      "exploration_prob : 0.100\n",
      "stop episode because agent reach goal\n",
      "stop episode because agent reach goal\n",
      "stop episode because agent reach goal\n",
      "Q table still growths\n",
      "Loss : -16.85422730426856\n",
      "end while loop iteration :  19\n",
      "Episode 443/1000\n",
      "exploration_prob : 0.100\n",
      "No action possible. Stop episode at 21th iterations\n",
      "Save last state even is out of bound\n",
      "Q table still growths\n",
      "Loss : -53.44379055298278\n",
      "end while loop iteration :  21\n",
      "Episode 444/1000\n",
      "exploration_prob : 0.100\n",
      "No action possible. Stop episode at 20th iterations\n",
      "Save last state even is out of bound\n",
      "diff Qtable_N - Qtable_N-1  40.97873183200366\n",
      "Loss : -205.0598377723934\n",
      "end while loop iteration :  20\n",
      "Episode 445/1000\n",
      "exploration_prob : 0.100\n",
      "No action possible. Stop episode at 19th iterations\n",
      "Save last state even is out of bound\n",
      "diff Qtable_N - Qtable_N-1  65.5692935321769\n",
      "Loss : -307.7860389293761\n",
      "end while loop iteration :  19\n",
      "Episode 446/1000\n",
      "exploration_prob : 0.100\n",
      "stop episode because agent reach goal\n",
      "diff Qtable_N - Qtable_N-1  0.024453183644163455\n",
      "Loss : -8.372511511654544\n",
      "end while loop iteration :  16\n",
      "Episode 447/1000\n",
      "exploration_prob : 0.100\n",
      "No action possible. Stop episode at 12th iterations\n",
      "Save last state even is out of bound\n",
      "diff Qtable_N - Qtable_N-1  2.769436160750418\n",
      "Loss : -79.9723951327257\n",
      "end while loop iteration :  12\n",
      "Episode 448/1000\n",
      "exploration_prob : 0.100\n",
      "stop episode because agent reach goal\n",
      "diff Qtable_N - Qtable_N-1  0.02744273921334811\n",
      "Loss : -7.8620774027050295\n",
      "end while loop iteration :  12\n",
      "Episode 449/1000\n",
      "exploration_prob : 0.100\n",
      "stop episode because agent reach goal\n",
      "diff Qtable_N - Qtable_N-1  0.1083178506633331\n",
      "Loss : -6.326259367187192\n",
      "end while loop iteration :  12\n",
      "Episode 450/1000\n",
      "exploration_prob : 0.100\n",
      "No action possible. Stop episode at 17th iterations\n",
      "Save last state even is out of bound\n",
      "diff Qtable_N - Qtable_N-1  9.0032320829686\n",
      "Loss : -45.22692581839826\n",
      "end while loop iteration :  17\n",
      "Episode 451/1000\n",
      "exploration_prob : 0.100\n",
      "stop episode because agent reach goal\n",
      "No action possible. Stop episode at 83th iterations\n",
      "Save last state even is out of bound\n",
      "Q table still growths\n",
      "Loss : -651.5650618110138\n",
      "end while loop iteration :  83\n",
      "Episode 452/1000\n",
      "exploration_prob : 0.100\n",
      "No action possible. Stop episode at 19th iterations\n",
      "Save last state even is out of bound\n",
      "Q table still growths\n",
      "Loss : -64.49433766970809\n",
      "end while loop iteration :  19\n",
      "Episode 453/1000\n",
      "exploration_prob : 0.100\n",
      "No action possible. Stop episode at 6th iterations\n",
      "Save last state even is out of bound\n",
      "diff Qtable_N - Qtable_N-1  3.480269670493695\n",
      "Loss : -38.82183899995777\n",
      "end while loop iteration :  6\n",
      "Episode 454/1000\n",
      "exploration_prob : 0.100\n",
      "stop episode because agent reach goal\n",
      "stop episode because agent reach goal\n",
      "Q table still growths\n",
      "Loss : -32.59016695710592\n",
      "end while loop iteration :  28\n",
      "Episode 455/1000\n",
      "exploration_prob : 0.100\n",
      "stop episode because agent reach goal\n",
      "stop episode because agent reach goal\n",
      "Q table still growths\n",
      "Loss : -31.142104591186364\n",
      "end while loop iteration :  24\n",
      "Episode 456/1000\n",
      "exploration_prob : 0.100\n",
      "stop episode because agent reach goal\n",
      "stop episode because agent reach goal\n",
      "diff Qtable_N - Qtable_N-1  1.8336162435609866\n",
      "Loss : -24.7077241793074\n",
      "end while loop iteration :  26\n",
      "Episode 457/1000\n",
      "exploration_prob : 0.100\n",
      "stop episode because agent reach goal\n",
      "stop episode because agent reach goal\n",
      "diff Qtable_N - Qtable_N-1  0.04542973720036948\n",
      "Loss : -88.80445945193438\n",
      "end while loop iteration :  33\n",
      "Episode 458/1000\n",
      "exploration_prob : 0.100\n",
      "stop episode because agent reach goal\n",
      "stop episode because agent reach goal\n",
      "diff Qtable_N - Qtable_N-1  0.04158845814170373\n",
      "Loss : -70.01812933467879\n",
      "end while loop iteration :  21\n",
      "Episode 459/1000\n",
      "exploration_prob : 0.100\n",
      "No action possible. Stop episode at 18th iterations\n",
      "Save last state even is out of bound\n",
      "Q table still growths\n",
      "Loss : -48.80097627249631\n",
      "end while loop iteration :  18\n",
      "Episode 460/1000\n",
      "exploration_prob : 0.100\n",
      "stop episode because agent reach goal\n",
      "diff Qtable_N - Qtable_N-1  0.02848447769728729\n",
      "Loss : -7.933813846606081\n",
      "end while loop iteration :  12\n",
      "Episode 461/1000\n",
      "exploration_prob : 0.100\n",
      "No action possible. Stop episode at 12th iterations\n",
      "Save last state even is out of bound\n",
      "diff Qtable_N - Qtable_N-1  1.1585120491214347\n",
      "Loss : -33.85633454407305\n",
      "end while loop iteration :  12\n",
      "Episode 462/1000\n",
      "exploration_prob : 0.100\n",
      "No action possible. Stop episode at 14th iterations\n",
      "Save last state even is out of bound\n",
      "diff Qtable_N - Qtable_N-1  1.7032257450209891\n",
      "Loss : -64.69043511218642\n",
      "end while loop iteration :  14\n",
      "Episode 463/1000\n",
      "exploration_prob : 0.100\n",
      "No action possible. Stop episode at 17th iterations\n",
      "Save last state even is out of bound\n",
      "diff Qtable_N - Qtable_N-1  37.46980119080266\n",
      "Loss : -182.34114264329378\n",
      "end while loop iteration :  17\n",
      "Episode 464/1000\n",
      "exploration_prob : 0.100\n",
      "stop episode because agent reach goal\n",
      "diff Qtable_N - Qtable_N-1  0.10033451336672852\n",
      "Loss : -6.326259367187192\n",
      "end while loop iteration :  12\n",
      "Episode 465/1000\n",
      "exploration_prob : 0.100\n",
      "No action possible. Stop episode at 15th iterations\n",
      "Save last state even is out of bound\n",
      "diff Qtable_N - Qtable_N-1  0.637338004491659\n",
      "Loss : -44.811542970856806\n",
      "end while loop iteration :  15\n",
      "Episode 466/1000\n",
      "exploration_prob : 0.100\n",
      "No action possible. Stop episode at 21th iterations\n",
      "Save last state even is out of bound\n",
      "diff Qtable_N - Qtable_N-1  23.243907823007987\n",
      "Loss : -153.10303013320174\n",
      "end while loop iteration :  21\n",
      "Episode 467/1000\n",
      "exploration_prob : 0.100\n",
      "No action possible. Stop episode at 20th iterations\n",
      "Save last state even is out of bound\n",
      "diff Qtable_N - Qtable_N-1  1.5730559843867273\n",
      "Loss : -28.78010093207799\n",
      "end while loop iteration :  20\n",
      "Episode 468/1000\n",
      "exploration_prob : 0.100\n",
      "No action possible. Stop episode at 5th iterations\n",
      "Save last state even is out of bound\n",
      "Q table still growths\n",
      "Loss : -132.59869096292846\n",
      "end while loop iteration :  5\n",
      "Episode 469/1000\n",
      "exploration_prob : 0.100\n",
      "stop episode because agent reach goal\n",
      "diff Qtable_N - Qtable_N-1  0.09031152799145435\n",
      "Loss : -7.851455885362883\n",
      "end while loop iteration :  12\n",
      "Episode 470/1000\n",
      "exploration_prob : 0.100\n",
      "stop episode because agent reach goal\n",
      "diff Qtable_N - Qtable_N-1  0.08126990923091022\n",
      "Loss : -6.326259367187192\n",
      "end while loop iteration :  12\n",
      "Episode 471/1000\n",
      "exploration_prob : 0.100\n",
      "No action possible. Stop episode at 32th iterations\n",
      "Save last state even is out of bound\n",
      "Q table still growths\n",
      "Loss : -99.98882662568711\n",
      "end while loop iteration :  32\n",
      "Episode 472/1000\n",
      "exploration_prob : 0.100\n",
      "No action possible. Stop episode at 17th iterations\n",
      "Save last state even is out of bound\n",
      "diff Qtable_N - Qtable_N-1  38.273788309716124\n",
      "Loss : -180.9726784799795\n",
      "end while loop iteration :  17\n",
      "Episode 473/1000\n",
      "exploration_prob : 0.100\n",
      "No action possible. Stop episode at 14th iterations\n",
      "Save last state even is out of bound\n",
      "Q table still growths\n",
      "Loss : -165.97905598933326\n",
      "end while loop iteration :  14\n",
      "Episode 474/1000\n",
      "exploration_prob : 0.100\n",
      "No action possible. Stop episode at 13th iterations\n",
      "Save last state even is out of bound\n",
      "diff Qtable_N - Qtable_N-1  0.3868961760104437\n",
      "Loss : -49.02097057821934\n",
      "end while loop iteration :  13\n",
      "Episode 475/1000\n",
      "exploration_prob : 0.100\n",
      "No action possible. Stop episode at 13th iterations\n",
      "Save last state even is out of bound\n",
      "diff Qtable_N - Qtable_N-1  1.002741055598646\n",
      "Loss : -51.07658040833333\n",
      "end while loop iteration :  13\n",
      "Episode 476/1000\n",
      "exploration_prob : 0.100\n",
      "stop episode because agent reach goal\n",
      "stop episode because agent reach goal\n",
      "Q table still growths\n",
      "Loss : -10.845820196300489\n",
      "end while loop iteration :  18\n",
      "Episode 477/1000\n",
      "exploration_prob : 0.100\n",
      "stop episode because agent reach goal\n",
      "stop episode because agent reach goal\n",
      "diff Qtable_N - Qtable_N-1  0.0588213422469182\n",
      "Loss : -21.115528967329958\n",
      "end while loop iteration :  19\n",
      "Episode 478/1000\n",
      "exploration_prob : 0.100\n",
      "No action possible. Stop episode at 15th iterations\n",
      "Save last state even is out of bound\n",
      "Q table still growths\n",
      "Loss : -454.3802854521791\n",
      "end while loop iteration :  15\n",
      "Episode 479/1000\n",
      "exploration_prob : 0.100\n",
      "No action possible. Stop episode at 23th iterations\n",
      "Save last state even is out of bound\n",
      "diff Qtable_N - Qtable_N-1  37.469906986451\n",
      "Loss : -214.84687736076305\n",
      "end while loop iteration :  23\n",
      "Episode 480/1000\n",
      "exploration_prob : 0.100\n",
      "No action possible. Stop episode at 11th iterations\n",
      "Save last state even is out of bound\n",
      "diff Qtable_N - Qtable_N-1  1.743695271618082\n",
      "Loss : -84.89102087852972\n",
      "end while loop iteration :  11\n",
      "Episode 481/1000\n",
      "exploration_prob : 0.100\n",
      "stop episode because agent reach goal\n",
      "No action possible. Stop episode at 27th iterations\n",
      "Save last state even is out of bound\n",
      "Q table still growths\n",
      "Loss : -130.06450973671343\n",
      "end while loop iteration :  27\n",
      "Episode 482/1000\n",
      "exploration_prob : 0.100\n",
      "No action possible. Stop episode at 7th iterations\n",
      "Save last state even is out of bound\n",
      "diff Qtable_N - Qtable_N-1  6.152121237787532\n",
      "Loss : -30.15246378845129\n",
      "end while loop iteration :  7\n",
      "Episode 483/1000\n",
      "exploration_prob : 0.100\n",
      "stop episode because agent reach goal\n",
      "stop episode because agent reach goal\n",
      "diff Qtable_N - Qtable_N-1  0.5576322121899653\n",
      "Loss : -18.852845853997344\n",
      "end while loop iteration :  12\n",
      "Episode 484/1000\n",
      "exploration_prob : 0.100\n",
      "No action possible. Stop episode at 11th iterations\n",
      "Save last state even is out of bound\n",
      "diff Qtable_N - Qtable_N-1  1.7866498286058414\n",
      "Loss : -88.53088818833618\n",
      "end while loop iteration :  11\n",
      "Episode 485/1000\n",
      "exploration_prob : 0.100\n",
      "stop episode because agent reach goal\n",
      "stop episode because agent reach goal\n",
      "diff Qtable_N - Qtable_N-1  0.04904816795292391\n",
      "Loss : -14.195971307088927\n",
      "end while loop iteration :  21\n",
      "Episode 486/1000\n",
      "exploration_prob : 0.100\n",
      "No action possible. Stop episode at 11th iterations\n",
      "Save last state even is out of bound\n",
      "diff Qtable_N - Qtable_N-1  1.2347008397623345\n",
      "Loss : -37.03775173930113\n",
      "end while loop iteration :  11\n",
      "Episode 487/1000\n",
      "exploration_prob : 0.100\n",
      "stop episode because agent reach goal\n",
      "diff Qtable_N - Qtable_N-1  0.0731429183078192\n",
      "Loss : -6.326259367187192\n",
      "end while loop iteration :  12\n",
      "Episode 488/1000\n",
      "exploration_prob : 0.100\n",
      "stop episode because agent reach goal\n",
      "Q table still growths\n",
      "Loss : -6.050988554196518\n",
      "end while loop iteration :  16\n",
      "Episode 489/1000\n",
      "exploration_prob : 0.100\n",
      "No action possible. Stop episode at 23th iterations\n",
      "Save last state even is out of bound\n",
      "diff Qtable_N - Qtable_N-1  7.694930320187438\n",
      "Loss : -57.35437563969356\n",
      "end while loop iteration :  23\n",
      "Episode 490/1000\n",
      "exploration_prob : 0.100\n",
      "stop episode because agent reach goal\n",
      "stop episode because agent reach goal\n",
      "diff Qtable_N - Qtable_N-1  0.06298602513029149\n",
      "Loss : -13.836946246799114\n",
      "end while loop iteration :  21\n",
      "Episode 491/1000\n",
      "exploration_prob : 0.100\n",
      "No action possible. Stop episode at 10th iterations\n",
      "Save last state even is out of bound\n",
      "diff Qtable_N - Qtable_N-1  1.1347311007479177\n",
      "Loss : -78.07673332491456\n",
      "end while loop iteration :  10\n",
      "Episode 492/1000\n",
      "exploration_prob : 0.100\n",
      "No action possible. Stop episode at 18th iterations\n",
      "Save last state even is out of bound\n",
      "Q table still growths\n",
      "Loss : -120.65133064002941\n",
      "end while loop iteration :  18\n",
      "Episode 493/1000\n",
      "exploration_prob : 0.100\n",
      "stop episode because agent reach goal\n",
      "stop episode because agent reach goal\n",
      "Q table still growths\n",
      "Loss : -107.56753023481318\n",
      "end while loop iteration :  25\n",
      "Episode 494/1000\n",
      "exploration_prob : 0.100\n",
      "No action possible. Stop episode at 19th iterations\n",
      "Save last state even is out of bound\n",
      "diff Qtable_N - Qtable_N-1  1.006832722120846\n",
      "Loss : -43.89419679510538\n",
      "end while loop iteration :  19\n",
      "Episode 495/1000\n",
      "exploration_prob : 0.100\n",
      "No action possible. Stop episode at 17th iterations\n",
      "Save last state even is out of bound\n",
      "Q table still growths\n",
      "Loss : -41.82738917315388\n",
      "end while loop iteration :  17\n",
      "Episode 496/1000\n",
      "exploration_prob : 0.100\n",
      "stop episode because agent reach goal\n",
      "stop episode because agent reach goal\n",
      "diff Qtable_N - Qtable_N-1  0.03835891016906745\n",
      "Loss : -15.62358691254132\n",
      "end while loop iteration :  17\n",
      "Episode 497/1000\n",
      "exploration_prob : 0.100\n",
      "stop episode because agent reach goal\n",
      "diff Qtable_N - Qtable_N-1  0.06026815878101374\n",
      "Loss : -7.728279906554319\n",
      "end while loop iteration :  12\n",
      "Episode 498/1000\n",
      "exploration_prob : 0.100\n",
      "No action possible. Stop episode at 11th iterations\n",
      "Save last state even is out of bound\n",
      "Q table still growths\n",
      "Loss : -44.82022828608888\n",
      "end while loop iteration :  11\n",
      "Episode 499/1000\n",
      "exploration_prob : 0.100\n",
      "No action possible. Stop episode at 12th iterations\n",
      "Save last state even is out of bound\n",
      "diff Qtable_N - Qtable_N-1  4.365364292073265\n",
      "Loss : -21.920681023680643\n",
      "end while loop iteration :  12\n",
      "Episode 500/1000\n",
      "exploration_prob : 0.100\n",
      "No action possible. Stop episode at 18th iterations\n",
      "Save last state even is out of bound\n",
      "diff Qtable_N - Qtable_N-1  5.012444562869337\n",
      "Loss : -112.11388526787923\n",
      "end while loop iteration :  18\n",
      "Episode 501/1000\n",
      "exploration_prob : 0.100\n",
      "No action possible. Stop episode at 13th iterations\n",
      "Save last state even is out of bound\n",
      "diff Qtable_N - Qtable_N-1  11.615843371429122\n",
      "Loss : -54.50373410855503\n",
      "end while loop iteration :  13\n",
      "Episode 502/1000\n",
      "exploration_prob : 0.100\n",
      "No action possible. Stop episode at 9th iterations\n",
      "Save last state even is out of bound\n",
      "diff Qtable_N - Qtable_N-1  0.7201743539132297\n",
      "Loss : -46.83010105445665\n",
      "end while loop iteration :  9\n",
      "Episode 503/1000\n",
      "exploration_prob : 0.100\n",
      "stop episode because agent reach goal\n",
      "diff Qtable_N - Qtable_N-1  0.07185544235513866\n",
      "Loss : -6.326259367187192\n",
      "end while loop iteration :  12\n",
      "Episode 504/1000\n",
      "exploration_prob : 0.100\n",
      "stop episode because agent reach goal\n",
      "No action possible. Stop episode at 39th iterations\n",
      "Save last state even is out of bound\n",
      "Q table still growths\n",
      "Loss : -221.43930307443372\n",
      "end while loop iteration :  39\n",
      "Episode 505/1000\n",
      "exploration_prob : 0.100\n",
      "No action possible. Stop episode at 6th iterations\n",
      "Save last state even is out of bound\n",
      "diff Qtable_N - Qtable_N-1  4.391365724658094\n",
      "Loss : -32.92955841402636\n",
      "end while loop iteration :  6\n",
      "Episode 506/1000\n",
      "exploration_prob : 0.100\n",
      "No action possible. Stop episode at 18th iterations\n",
      "Save last state even is out of bound\n",
      "Q table still growths\n",
      "Loss : -19.667434239267504\n",
      "end while loop iteration :  18\n",
      "Episode 507/1000\n",
      "exploration_prob : 0.100\n",
      "No action possible. Stop episode at 13th iterations\n",
      "Save last state even is out of bound\n",
      "diff Qtable_N - Qtable_N-1  0.37981775686301655\n",
      "Loss : -46.674225594664044\n",
      "end while loop iteration :  13\n",
      "Episode 508/1000\n",
      "exploration_prob : 0.100\n",
      "No action possible. Stop episode at 22th iterations\n",
      "Save last state even is out of bound\n",
      "diff Qtable_N - Qtable_N-1  14.309272863414055\n",
      "Loss : -86.62291137700143\n",
      "end while loop iteration :  22\n",
      "Episode 509/1000\n",
      "exploration_prob : 0.100\n",
      "stop episode because agent reach goal\n",
      "diff Qtable_N - Qtable_N-1  0.0646698981196248\n",
      "Loss : -6.326259367187192\n",
      "end while loop iteration :  12\n",
      "Episode 510/1000\n",
      "exploration_prob : 0.100\n",
      "stop episode because agent reach goal\n",
      "stop episode because agent reach goal\n",
      "diff Qtable_N - Qtable_N-1  0.0630946355541826\n",
      "Loss : -19.88073749120824\n",
      "end while loop iteration :  21\n",
      "Episode 511/1000\n",
      "exploration_prob : 0.100\n",
      "stop episode because agent reach goal\n",
      "diff Qtable_N - Qtable_N-1  0.05821493838285027\n",
      "Loss : -7.205206796171013\n",
      "end while loop iteration :  12\n",
      "Episode 512/1000\n",
      "exploration_prob : 0.100\n",
      "No action possible. Stop episode at 9th iterations\n",
      "Save last state even is out of bound\n",
      "diff Qtable_N - Qtable_N-1  0.6826189631601898\n",
      "Loss : -31.98035832519163\n",
      "end while loop iteration :  9\n",
      "Episode 513/1000\n",
      "exploration_prob : 0.100\n",
      "stop episode because agent reach goal\n",
      "stop episode because agent reach goal\n",
      "stop episode because agent reach goal\n",
      "Q table still growths\n",
      "Loss : -8.783740367032106\n",
      "end while loop iteration :  14\n",
      "Episode 514/1000\n",
      "exploration_prob : 0.100\n",
      "stop episode because agent reach goal\n",
      "stop episode because agent reach goal\n",
      "Q table still growths\n",
      "Loss : -23.527023265012062\n",
      "end while loop iteration :  20\n",
      "Episode 515/1000\n",
      "exploration_prob : 0.100\n",
      "stop episode because agent reach goal\n",
      "stop episode because agent reach goal\n",
      "Q table still growths\n",
      "Loss : -24.65892642705019\n",
      "end while loop iteration :  27\n",
      "Episode 516/1000\n",
      "exploration_prob : 0.100\n",
      "No action possible. Stop episode at 13th iterations\n",
      "Save last state even is out of bound\n",
      "diff Qtable_N - Qtable_N-1  2.0281582811203984\n",
      "Loss : -45.70222386715385\n",
      "end while loop iteration :  13\n",
      "Episode 517/1000\n",
      "exploration_prob : 0.100\n",
      "stop episode because agent reach goal\n",
      "No action possible. Stop episode at 25th iterations\n",
      "Save last state even is out of bound\n",
      "diff Qtable_N - Qtable_N-1  11.797988692224063\n",
      "Loss : -66.75955294589114\n",
      "end while loop iteration :  25\n",
      "Episode 518/1000\n",
      "exploration_prob : 0.100\n",
      "No action possible. Stop episode at 18th iterations\n",
      "Save last state even is out of bound\n",
      "diff Qtable_N - Qtable_N-1  23.287697733864196\n",
      "Loss : -121.19591647869427\n",
      "end while loop iteration :  18\n",
      "Episode 519/1000\n",
      "exploration_prob : 0.100\n",
      "stop episode because agent reach goal\n",
      "diff Qtable_N - Qtable_N-1  0.07677690328096784\n",
      "Loss : -9.259553801157542\n",
      "end while loop iteration :  12\n",
      "Episode 520/1000\n",
      "exploration_prob : 0.100\n",
      "No action possible. Stop episode at 13th iterations\n",
      "Save last state even is out of bound\n",
      "diff Qtable_N - Qtable_N-1  0.9095641100795817\n",
      "Loss : -57.68971491066363\n",
      "end while loop iteration :  13\n",
      "Episode 521/1000\n",
      "exploration_prob : 0.100\n",
      "stop episode because agent reach goal\n",
      "stop episode because agent reach goal\n",
      "diff Qtable_N - Qtable_N-1  1.6981141026591335\n",
      "Loss : -9.231299776181517\n",
      "end while loop iteration :  26\n",
      "Episode 522/1000\n",
      "exploration_prob : 0.100\n",
      "stop episode because agent reach goal\n",
      "diff Qtable_N - Qtable_N-1  0.06005910479747406\n",
      "Loss : -6.326259367187192\n",
      "end while loop iteration :  12\n",
      "Episode 523/1000\n",
      "exploration_prob : 0.100\n",
      "No action possible. Stop episode at 4th iterations\n",
      "Save last state even is out of bound\n",
      "diff Qtable_N - Qtable_N-1  6.614290785479927\n",
      "Loss : -62.14713661168777\n",
      "end while loop iteration :  4\n",
      "Episode 524/1000\n",
      "exploration_prob : 0.100\n",
      "stop episode because agent reach goal\n",
      "diff Qtable_N - Qtable_N-1  0.05405319431772665\n",
      "Loss : -6.326259367187192\n",
      "end while loop iteration :  12\n",
      "Episode 525/1000\n",
      "exploration_prob : 0.100\n",
      "stop episode because agent reach goal\n",
      "diff Qtable_N - Qtable_N-1  0.08244748886923377\n",
      "Loss : -7.8620774027050295\n",
      "end while loop iteration :  12\n",
      "Episode 526/1000\n",
      "exploration_prob : 0.100\n",
      "stop episode because agent reach goal\n",
      "diff Qtable_N - Qtable_N-1  0.05689262377287736\n",
      "Loss : -6.326259367187192\n",
      "end while loop iteration :  12\n",
      "Episode 527/1000\n",
      "exploration_prob : 0.100\n",
      "No action possible. Stop episode at 13th iterations\n",
      "Save last state even is out of bound\n",
      "diff Qtable_N - Qtable_N-1  2.6924849956943153\n",
      "Loss : -33.86178586603586\n",
      "end while loop iteration :  13\n",
      "Episode 528/1000\n",
      "exploration_prob : 0.100\n",
      "No action possible. Stop episode at 12th iterations\n",
      "Save last state even is out of bound\n",
      "diff Qtable_N - Qtable_N-1  2.9589100976807456\n",
      "Loss : -127.7251327504738\n",
      "end while loop iteration :  12\n",
      "Episode 529/1000\n",
      "exploration_prob : 0.100\n",
      "No action possible. Stop episode at 25th iterations\n",
      "Save last state even is out of bound\n",
      "Q table still growths\n",
      "Loss : -59.98447495185493\n",
      "end while loop iteration :  25\n",
      "Episode 530/1000\n",
      "exploration_prob : 0.100\n",
      "No action possible. Stop episode at 20th iterations\n",
      "Save last state even is out of bound\n",
      "diff Qtable_N - Qtable_N-1  40.02031479691092\n",
      "Loss : -210.8166925001417\n",
      "end while loop iteration :  20\n",
      "Episode 531/1000\n",
      "exploration_prob : 0.100\n",
      "stop episode because agent reach goal\n",
      "diff Qtable_N - Qtable_N-1  0.08002346744910704\n",
      "Loss : -7.658804458467895\n",
      "end while loop iteration :  12\n",
      "Episode 532/1000\n",
      "exploration_prob : 0.100\n",
      "No action possible. Stop episode at 10th iterations\n",
      "Save last state even is out of bound\n",
      "diff Qtable_N - Qtable_N-1  1.083723807998154\n",
      "Loss : -55.43430695674182\n",
      "end while loop iteration :  10\n",
      "Episode 533/1000\n",
      "exploration_prob : 0.100\n",
      "stop episode because agent reach goal\n",
      "diff Qtable_N - Qtable_N-1  0.05920570814050036\n",
      "Loss : -6.326259367187192\n",
      "end while loop iteration :  12\n",
      "Episode 534/1000\n",
      "exploration_prob : 0.100\n",
      "stop episode because agent reach goal\n",
      "stop episode because agent reach goal\n",
      "diff Qtable_N - Qtable_N-1  0.006887762420177135\n",
      "Loss : -7.541684383422602\n",
      "end while loop iteration :  16\n",
      "Episode 535/1000\n",
      "exploration_prob : 0.100\n",
      "No action possible. Stop episode at 15th iterations\n",
      "Save last state even is out of bound\n",
      "diff Qtable_N - Qtable_N-1  0.656580621972468\n",
      "Loss : -69.10224884923242\n",
      "end while loop iteration :  15\n",
      "Episode 536/1000\n",
      "exploration_prob : 0.100\n",
      "No action possible. Stop episode at 39th iterations\n",
      "Save last state even is out of bound\n",
      "Q table still growths\n",
      "Loss : -457.50372117439395\n",
      "end while loop iteration :  39\n",
      "Episode 537/1000\n",
      "exploration_prob : 0.100\n",
      "No action possible. Stop episode at 7th iterations\n",
      "Save last state even is out of bound\n",
      "diff Qtable_N - Qtable_N-1  0.3940078576205427\n",
      "Loss : -23.756487198143173\n",
      "end while loop iteration :  7\n",
      "Episode 538/1000\n",
      "exploration_prob : 0.100\n",
      "stop episode because agent reach goal\n",
      "diff Qtable_N - Qtable_N-1  0.006798091118975974\n",
      "Loss : -9.626074942185118\n",
      "end while loop iteration :  16\n",
      "Episode 539/1000\n",
      "exploration_prob : 0.100\n",
      "No action possible. Stop episode at 20th iterations\n",
      "Save last state even is out of bound\n",
      "Q table still growths\n",
      "Loss : -173.0799443842535\n",
      "end while loop iteration :  20\n",
      "Episode 540/1000\n",
      "exploration_prob : 0.100\n",
      "stop episode because agent reach goal\n",
      "stop episode because agent reach goal\n",
      "stop episode because agent reach goal\n",
      "Q table still growths\n",
      "Loss : -76.52649429398782\n",
      "end while loop iteration :  37\n",
      "Episode 541/1000\n",
      "exploration_prob : 0.100\n",
      "No action possible. Stop episode at 21th iterations\n",
      "Save last state even is out of bound\n",
      "diff Qtable_N - Qtable_N-1  5.122907788647154\n",
      "Loss : -46.599692248503445\n",
      "end while loop iteration :  21\n",
      "Episode 542/1000\n",
      "exploration_prob : 0.100\n",
      "stop episode because agent reach goal\n",
      "diff Qtable_N - Qtable_N-1  0.005519177066261816\n",
      "Loss : -7.541684383422602\n",
      "end while loop iteration :  16\n",
      "Episode 543/1000\n",
      "exploration_prob : 0.100\n",
      "stop episode because agent reach goal\n",
      "diff Qtable_N - Qtable_N-1  0.053285137326450294\n",
      "Loss : -6.326259367187192\n",
      "end while loop iteration :  12\n",
      "Episode 544/1000\n",
      "exploration_prob : 0.100\n",
      "stop episode because agent reach goal\n",
      "diff Qtable_N - Qtable_N-1  0.05255758325102117\n",
      "Loss : -9.506466127430109\n",
      "end while loop iteration :  9\n",
      "Episode 545/1000\n",
      "exploration_prob : 0.100\n",
      "No action possible. Stop episode at 25th iterations\n",
      "Save last state even is out of bound\n",
      "Q table still growths\n",
      "Loss : -366.7849506093388\n",
      "end while loop iteration :  25\n",
      "Episode 546/1000\n",
      "exploration_prob : 0.100\n",
      "stop episode because agent reach goal\n",
      "stop episode because agent reach goal\n",
      "diff Qtable_N - Qtable_N-1  0.11190920573531492\n",
      "Loss : -61.701426183741866\n",
      "end while loop iteration :  27\n",
      "Episode 547/1000\n",
      "exploration_prob : 0.100\n",
      "stop episode because agent reach goal\n",
      "stop episode because agent reach goal\n",
      "diff Qtable_N - Qtable_N-1  0.03532775212005295\n",
      "Loss : -6.741719270622925\n",
      "end while loop iteration :  10\n",
      "Episode 548/1000\n",
      "exploration_prob : 0.100\n",
      "No action possible. Stop episode at 20th iterations\n",
      "Save last state even is out of bound\n",
      "diff Qtable_N - Qtable_N-1  39.7837870999349\n",
      "Loss : -203.79368165497397\n",
      "end while loop iteration :  20\n",
      "Episode 549/1000\n",
      "exploration_prob : 0.100\n",
      "No action possible. Stop episode at 13th iterations\n",
      "Save last state even is out of bound\n",
      "diff Qtable_N - Qtable_N-1  4.894816445767115\n",
      "Loss : -153.51743476035165\n",
      "end while loop iteration :  13\n",
      "Episode 550/1000\n",
      "exploration_prob : 0.100\n",
      "No action possible. Stop episode at 25th iterations\n",
      "Save last state even is out of bound\n",
      "diff Qtable_N - Qtable_N-1  11.320773986590495\n",
      "Loss : -104.34037874032435\n",
      "end while loop iteration :  25\n",
      "Episode 551/1000\n",
      "exploration_prob : 0.100\n",
      "stop episode because agent reach goal\n",
      "diff Qtable_N - Qtable_N-1  0.04795662359380526\n",
      "Loss : -6.326259367187192\n",
      "end while loop iteration :  12\n",
      "Episode 552/1000\n",
      "exploration_prob : 0.100\n",
      "No action possible. Stop episode at 14th iterations\n",
      "Save last state even is out of bound\n",
      "diff Qtable_N - Qtable_N-1  0.6714444329825776\n",
      "Loss : -36.51492328597958\n",
      "end while loop iteration :  14\n",
      "Episode 553/1000\n",
      "exploration_prob : 0.100\n",
      "No action possible. Stop episode at 25th iterations\n",
      "Save last state even is out of bound\n",
      "diff Qtable_N - Qtable_N-1  55.33495486561103\n",
      "Loss : -293.24956858977924\n",
      "end while loop iteration :  25\n",
      "Episode 554/1000\n",
      "exploration_prob : 0.100\n",
      "No action possible. Stop episode at 12th iterations\n",
      "Save last state even is out of bound\n",
      "diff Qtable_N - Qtable_N-1  1.2418953472272678\n",
      "Loss : -47.460254234945225\n",
      "end while loop iteration :  12\n",
      "Episode 555/1000\n",
      "exploration_prob : 0.100\n",
      "No action possible. Stop episode at 21th iterations\n",
      "Save last state even is out of bound\n",
      "diff Qtable_N - Qtable_N-1  0.6361077567975911\n",
      "Loss : -85.6590087137896\n",
      "end while loop iteration :  21\n",
      "Episode 556/1000\n",
      "exploration_prob : 0.100\n",
      "stop episode because agent reach goal\n",
      "diff Qtable_N - Qtable_N-1  0.043160961234424755\n",
      "Loss : -6.326259367187192\n",
      "end while loop iteration :  12\n",
      "Episode 557/1000\n",
      "exploration_prob : 0.100\n",
      "No action possible. Stop episode at 15th iterations\n",
      "Save last state even is out of bound\n",
      "diff Qtable_N - Qtable_N-1  2.0894866838637647\n",
      "Loss : -28.535958252679787\n",
      "end while loop iteration :  15\n",
      "Episode 558/1000\n",
      "exploration_prob : 0.100\n",
      "No action possible. Stop episode at 21th iterations\n",
      "Save last state even is out of bound\n",
      "Q table still growths\n",
      "Loss : -75.78582756545597\n",
      "end while loop iteration :  21\n",
      "Episode 559/1000\n",
      "exploration_prob : 0.100\n",
      "No action possible. Stop episode at 7th iterations\n",
      "Save last state even is out of bound\n",
      "diff Qtable_N - Qtable_N-1  1.2692218127776915\n",
      "Loss : -28.31984260804279\n",
      "end while loop iteration :  7\n",
      "Episode 560/1000\n",
      "exploration_prob : 0.100\n",
      "stop episode because agent reach goal\n",
      "stop episode because agent reach goal\n",
      "Q table still growths\n",
      "Loss : -20.308079227143836\n",
      "end while loop iteration :  18\n",
      "Episode 561/1000\n",
      "exploration_prob : 0.100\n",
      "No action possible. Stop episode at 15th iterations\n",
      "Save last state even is out of bound\n",
      "diff Qtable_N - Qtable_N-1  0.832033285758039\n",
      "Loss : -27.85594441096871\n",
      "end while loop iteration :  15\n",
      "Episode 562/1000\n",
      "exploration_prob : 0.100\n",
      "No action possible. Stop episode at 12th iterations\n",
      "Save last state even is out of bound\n",
      "Q table still growths\n",
      "Loss : -382.72636552990014\n",
      "end while loop iteration :  12\n",
      "Episode 563/1000\n",
      "exploration_prob : 0.100\n",
      "stop episode because agent reach goal\n",
      "diff Qtable_N - Qtable_N-1  0.038844865110982285\n",
      "Loss : -6.326259367187192\n",
      "end while loop iteration :  12\n",
      "Episode 564/1000\n",
      "exploration_prob : 0.100\n",
      "stop episode because agent reach goal\n",
      "diff Qtable_N - Qtable_N-1  0.09534609606870742\n",
      "Loss : -8.812127743384446\n",
      "end while loop iteration :  12\n",
      "Episode 565/1000\n",
      "exploration_prob : 0.100\n",
      "stop episode because agent reach goal\n",
      "Q table still growths\n",
      "Loss : -29.57563691525764\n",
      "end while loop iteration :  25\n",
      "Episode 566/1000\n",
      "exploration_prob : 0.100\n",
      "stop episode because agent reach goal\n",
      "stop episode because agent reach goal\n",
      "diff Qtable_N - Qtable_N-1  0.05619469132482085\n",
      "Loss : -18.407613755878938\n",
      "end while loop iteration :  15\n",
      "Episode 567/1000\n",
      "exploration_prob : 0.100\n",
      "stop episode because agent reach goal\n",
      "diff Qtable_N - Qtable_N-1  0.04449498820675479\n",
      "Loss : -6.326259367187192\n",
      "end while loop iteration :  12\n",
      "Episode 568/1000\n",
      "exploration_prob : 0.100\n",
      "stop episode because agent reach goal\n",
      "diff Qtable_N - Qtable_N-1  0.040045489386079325\n",
      "Loss : -6.326259367187192\n",
      "end while loop iteration :  12\n",
      "Episode 569/1000\n",
      "exploration_prob : 0.100\n",
      "No action possible. Stop episode at 2th iterations\n",
      "Save last state even is out of bound\n",
      "diff Qtable_N - Qtable_N-1  0.6116662312676371\n",
      "Loss : -15.145059027596101\n",
      "end while loop iteration :  2\n",
      "Episode 570/1000\n",
      "exploration_prob : 0.100\n",
      "stop episode because agent reach goal\n",
      "diff Qtable_N - Qtable_N-1  0.03605297052265938\n",
      "Loss : -7.205206796171013\n",
      "end while loop iteration :  12\n",
      "Episode 571/1000\n",
      "exploration_prob : 0.100\n",
      "stop episode because agent reach goal\n",
      "diff Qtable_N - Qtable_N-1  0.03277405124522398\n",
      "Loss : -9.38807846315174\n",
      "end while loop iteration :  12\n",
      "Episode 572/1000\n",
      "exploration_prob : 0.100\n",
      "stop episode because agent reach goal\n",
      "No action possible. Stop episode at 33th iterations\n",
      "Save last state even is out of bound\n",
      "Q table still growths\n",
      "Loss : -66.25614790007225\n",
      "end while loop iteration :  33\n",
      "Episode 573/1000\n",
      "exploration_prob : 0.100\n",
      "stop episode because agent reach goal\n",
      "stop episode because agent reach goal\n",
      "diff Qtable_N - Qtable_N-1  0.05455202075484285\n",
      "Loss : -13.48577309074477\n",
      "end while loop iteration :  15\n",
      "Episode 574/1000\n",
      "exploration_prob : 0.100\n",
      "stop episode because agent reach goal\n",
      "diff Qtable_N - Qtable_N-1  0.10132527999211566\n",
      "Loss : -13.166466630510564\n",
      "end while loop iteration :  12\n",
      "Episode 575/1000\n",
      "exploration_prob : 0.100\n",
      "stop episode because agent reach goal\n",
      "No action possible. Stop episode at 47th iterations\n",
      "Save last state even is out of bound\n",
      "Q table still growths\n",
      "Loss : -83.57491501626383\n",
      "end while loop iteration :  47\n",
      "Episode 576/1000\n",
      "exploration_prob : 0.100\n",
      "stop episode because agent reach goal\n",
      "diff Qtable_N - Qtable_N-1  0.039290766269894584\n",
      "Loss : -6.326259367187192\n",
      "end while loop iteration :  12\n",
      "Episode 577/1000\n",
      "exploration_prob : 0.100\n",
      "stop episode because agent reach goal\n",
      "diff Qtable_N - Qtable_N-1  0.03536168964290515\n",
      "Loss : -6.326259367187192\n",
      "end while loop iteration :  12\n",
      "Episode 578/1000\n",
      "exploration_prob : 0.100\n",
      "stop episode because agent reach goal\n",
      "stop episode because agent reach goal\n",
      "Q table still growths\n",
      "Loss : -18.326648671787225\n",
      "end while loop iteration :  18\n",
      "Episode 579/1000\n",
      "exploration_prob : 0.100\n",
      "stop episode because agent reach goal\n",
      "stop episode because agent reach goal\n",
      "diff Qtable_N - Qtable_N-1  0.049063751135547756\n",
      "Loss : -29.22869012559929\n",
      "end while loop iteration :  28\n",
      "Episode 580/1000\n",
      "exploration_prob : 0.100\n",
      "stop episode because agent reach goal\n",
      "diff Qtable_N - Qtable_N-1  0.031825520678614605\n",
      "Loss : -6.326259367187192\n",
      "end while loop iteration :  12\n",
      "Episode 581/1000\n",
      "exploration_prob : 0.100\n",
      "No action possible. Stop episode at 14th iterations\n",
      "Save last state even is out of bound\n",
      "diff Qtable_N - Qtable_N-1  0.6585772008366393\n",
      "Loss : -45.13478975289326\n",
      "end while loop iteration :  14\n",
      "Episode 582/1000\n",
      "exploration_prob : 0.100\n",
      "stop episode because agent reach goal\n",
      "diff Qtable_N - Qtable_N-1  0.02864296861075316\n",
      "Loss : -6.326259367187192\n",
      "end while loop iteration :  12\n",
      "Episode 583/1000\n",
      "exploration_prob : 0.100\n",
      "stop episode because agent reach goal\n",
      "diff Qtable_N - Qtable_N-1  0.10544815709501881\n",
      "Loss : -7.658804458467895\n",
      "end while loop iteration :  12\n",
      "Episode 584/1000\n",
      "exploration_prob : 0.100\n",
      "stop episode because agent reach goal\n",
      "diff Qtable_N - Qtable_N-1  0.07019616933751678\n",
      "Loss : -9.411737896283283\n",
      "end while loop iteration :  17\n",
      "Episode 585/1000\n",
      "exploration_prob : 0.100\n",
      "No action possible. Stop episode at 12th iterations\n",
      "Save last state even is out of bound\n",
      "diff Qtable_N - Qtable_N-1  2.950909146979899\n",
      "Loss : -100.83414247473728\n",
      "end while loop iteration :  12\n",
      "Episode 586/1000\n",
      "exploration_prob : 0.100\n",
      "stop episode because agent reach goal\n",
      "diff Qtable_N - Qtable_N-1  0.03632348745917974\n",
      "Loss : -6.326259367187192\n",
      "end while loop iteration :  12\n",
      "Episode 587/1000\n",
      "exploration_prob : 0.100\n",
      "stop episode because agent reach goal\n",
      "stop episode because agent reach goal\n",
      "Q table still growths\n",
      "Loss : -24.742109200918065\n",
      "end while loop iteration :  32\n",
      "Episode 588/1000\n",
      "exploration_prob : 0.100\n",
      "stop episode because agent reach goal\n",
      "diff Qtable_N - Qtable_N-1  0.032691138713261736\n",
      "Loss : -6.326259367187192\n",
      "end while loop iteration :  12\n",
      "Episode 589/1000\n",
      "exploration_prob : 0.100\n",
      "No action possible. Stop episode at 6th iterations\n",
      "Save last state even is out of bound\n",
      "Q table still growths\n",
      "Loss : -15.411918275111907\n",
      "end while loop iteration :  6\n",
      "Episode 590/1000\n",
      "exploration_prob : 0.100\n",
      "stop episode because agent reach goal\n",
      "diff Qtable_N - Qtable_N-1  0.029422024841935568\n",
      "Loss : -6.326259367187192\n",
      "end while loop iteration :  12\n",
      "Episode 591/1000\n",
      "exploration_prob : 0.100\n",
      "No action possible. Stop episode at 20th iterations\n",
      "Save last state even is out of bound\n",
      "Q table still growths\n",
      "Loss : -244.41367855936412\n",
      "end while loop iteration :  20\n",
      "Episode 592/1000\n",
      "exploration_prob : 0.100\n",
      "No action possible. Stop episode at 23th iterations\n",
      "Save last state even is out of bound\n",
      "diff Qtable_N - Qtable_N-1  1.203458752028899\n",
      "Loss : -43.087102883318636\n",
      "end while loop iteration :  23\n",
      "Episode 593/1000\n",
      "exploration_prob : 0.100\n",
      "No action possible. Stop episode at 2th iterations\n",
      "Save last state even is out of bound\n",
      "diff Qtable_N - Qtable_N-1  0.1755876224412587\n",
      "Loss : -10.749946442630739\n",
      "end while loop iteration :  2\n",
      "Episode 594/1000\n",
      "exploration_prob : 0.100\n",
      "No action possible. Stop episode at 14th iterations\n",
      "Save last state even is out of bound\n",
      "diff Qtable_N - Qtable_N-1  0.41204477738819556\n",
      "Loss : -30.90811375936872\n",
      "end while loop iteration :  14\n",
      "Episode 595/1000\n",
      "exploration_prob : 0.100\n",
      "stop episode because agent reach goal\n",
      "diff Qtable_N - Qtable_N-1  0.026479822357742044\n",
      "Loss : -6.326259367187192\n",
      "end while loop iteration :  12\n",
      "Episode 596/1000\n",
      "exploration_prob : 0.100\n",
      "No action possible. Stop episode at 11th iterations\n",
      "Save last state even is out of bound\n",
      "diff Qtable_N - Qtable_N-1  6.207426779926218\n",
      "Loss : -29.706945559858692\n",
      "end while loop iteration :  11\n",
      "Episode 597/1000\n",
      "exploration_prob : 0.100\n",
      "stop episode because agent reach goal\n",
      "diff Qtable_N - Qtable_N-1  0.05972875486203355\n",
      "Loss : -6.315574959932219\n",
      "end while loop iteration :  19\n",
      "Episode 598/1000\n",
      "exploration_prob : 0.100\n",
      "No action possible. Stop episode at 10th iterations\n",
      "Save last state even is out of bound\n",
      "diff Qtable_N - Qtable_N-1  0.3916196536591883\n",
      "Loss : -32.223376866514776\n",
      "end while loop iteration :  10\n",
      "Episode 599/1000\n",
      "exploration_prob : 0.100\n",
      "stop episode because agent reach goal\n",
      "diff Qtable_N - Qtable_N-1  0.023831840121967818\n",
      "Loss : -6.326259367187192\n",
      "end while loop iteration :  12\n",
      "Episode 600/1000\n",
      "exploration_prob : 0.100\n",
      "stop episode because agent reach goal\n",
      "diff Qtable_N - Qtable_N-1  0.003913801456285559\n",
      "Loss : -6.050988554196518\n",
      "end while loop iteration :  16\n",
      "Episode 601/1000\n",
      "exploration_prob : 0.100\n",
      "No action possible. Stop episode at 31th iterations\n",
      "Save last state even is out of bound\n",
      "Q table still growths\n",
      "Loss : -208.88253465765433\n",
      "end while loop iteration :  31\n",
      "Episode 602/1000\n",
      "exploration_prob : 0.100\n",
      "stop episode because agent reach goal\n",
      "diff Qtable_N - Qtable_N-1  0.05566951702857749\n",
      "Loss : -11.52626637739016\n",
      "end while loop iteration :  18\n",
      "Episode 603/1000\n",
      "exploration_prob : 0.100\n",
      "No action possible. Stop episode at 10th iterations\n",
      "Save last state even is out of bound\n",
      "diff Qtable_N - Qtable_N-1  1.1385991238430966\n",
      "Loss : -111.65026294118036\n",
      "end while loop iteration :  10\n",
      "Episode 604/1000\n",
      "exploration_prob : 0.100\n",
      "stop episode because agent reach goal\n",
      "diff Qtable_N - Qtable_N-1  0.021448656109771036\n",
      "Loss : -6.326259367187192\n",
      "end while loop iteration :  12\n",
      "Episode 605/1000\n",
      "exploration_prob : 0.100\n",
      "No action possible. Stop episode at 15th iterations\n",
      "Save last state even is out of bound\n",
      "diff Qtable_N - Qtable_N-1  3.110801454601008\n",
      "Loss : -141.80303500276824\n",
      "end while loop iteration :  15\n",
      "Episode 606/1000\n",
      "exploration_prob : 0.100\n",
      "No action possible. Stop episode at 13th iterations\n",
      "Save last state even is out of bound\n",
      "diff Qtable_N - Qtable_N-1  1.0219092414847157\n",
      "Loss : -86.34345105222097\n",
      "end while loop iteration :  13\n",
      "Episode 607/1000\n",
      "exploration_prob : 0.100\n",
      "No action possible. Stop episode at 15th iterations\n",
      "Save last state even is out of bound\n",
      "diff Qtable_N - Qtable_N-1  0.8668504169666431\n",
      "Loss : -16.83662803593076\n",
      "end while loop iteration :  15\n",
      "Episode 608/1000\n",
      "exploration_prob : 0.100\n",
      "stop episode because agent reach goal\n",
      "stop episode because agent reach goal\n",
      "diff Qtable_N - Qtable_N-1  0.05557803772406886\n",
      "Loss : -7.906913889076543\n",
      "end while loop iteration :  12\n",
      "Episode 609/1000\n",
      "exploration_prob : 0.100\n",
      "stop episode because agent reach goal\n",
      "diff Qtable_N - Qtable_N-1  0.019303790498793993\n",
      "Loss : -6.326259367187192\n",
      "end while loop iteration :  12\n",
      "Episode 610/1000\n",
      "exploration_prob : 0.100\n",
      "No action possible. Stop episode at 32th iterations\n",
      "Save last state even is out of bound\n",
      "diff Qtable_N - Qtable_N-1  12.566097998458984\n",
      "Loss : -103.04924827858257\n",
      "end while loop iteration :  32\n",
      "Episode 611/1000\n",
      "exploration_prob : 0.100\n",
      "No action possible. Stop episode at 10th iterations\n",
      "Save last state even is out of bound\n",
      "Q table still growths\n",
      "Loss : -27.646641624311574\n",
      "end while loop iteration :  10\n",
      "Episode 612/1000\n",
      "exploration_prob : 0.100\n",
      "No action possible. Stop episode at 5th iterations\n",
      "Save last state even is out of bound\n",
      "diff Qtable_N - Qtable_N-1  10.905800119528884\n",
      "Loss : -58.01241687450154\n",
      "end while loop iteration :  5\n",
      "Episode 613/1000\n",
      "exploration_prob : 0.100\n",
      "No action possible. Stop episode at 9th iterations\n",
      "Save last state even is out of bound\n",
      "diff Qtable_N - Qtable_N-1  3.0358638699650538\n",
      "Loss : -22.158976519899767\n",
      "end while loop iteration :  9\n",
      "Episode 614/1000\n",
      "exploration_prob : 0.100\n",
      "stop episode because agent reach goal\n",
      "stop episode because agent reach goal\n",
      "Q table still growths\n",
      "Loss : -18.00947785598397\n",
      "end while loop iteration :  26\n",
      "Episode 615/1000\n",
      "exploration_prob : 0.100\n",
      "stop episode because agent reach goal\n",
      "diff Qtable_N - Qtable_N-1  0.017373411448914577\n",
      "Loss : -6.326259367187192\n",
      "end while loop iteration :  12\n",
      "Episode 616/1000\n",
      "exploration_prob : 0.100\n",
      "No action possible. Stop episode at 23th iterations\n",
      "Save last state even is out of bound\n",
      "diff Qtable_N - Qtable_N-1  7.337459819787433\n",
      "Loss : -68.95708941661371\n",
      "end while loop iteration :  23\n",
      "Episode 617/1000\n",
      "exploration_prob : 0.100\n",
      "stop episode because agent reach goal\n",
      "diff Qtable_N - Qtable_N-1  0.015636070304023142\n",
      "Loss : -6.326259367187192\n",
      "end while loop iteration :  12\n",
      "Episode 618/1000\n",
      "exploration_prob : 0.100\n",
      "stop episode because agent reach goal\n",
      "diff Qtable_N - Qtable_N-1  0.014072463273620772\n",
      "Loss : -6.326259367187192\n",
      "end while loop iteration :  12\n",
      "Episode 619/1000\n",
      "exploration_prob : 0.100\n",
      "stop episode because agent reach goal\n",
      "diff Qtable_N - Qtable_N-1  0.012665216946258662\n",
      "Loss : -6.326259367187192\n",
      "end while loop iteration :  12\n",
      "Episode 620/1000\n",
      "exploration_prob : 0.100\n",
      "stop episode because agent reach goal\n",
      "diff Qtable_N - Qtable_N-1  0.0537558793758302\n",
      "Loss : -6.315574959932219\n",
      "end while loop iteration :  19\n",
      "Episode 621/1000\n",
      "exploration_prob : 0.100\n",
      "stop episode because agent reach goal\n",
      "diff Qtable_N - Qtable_N-1  0.01139869525163284\n",
      "Loss : -6.326259367187192\n",
      "end while loop iteration :  12\n",
      "Episode 622/1000\n",
      "exploration_prob : 0.100\n",
      "stop episode because agent reach goal\n",
      "stop episode because agent reach goal\n",
      "Q table still growths\n",
      "Loss : -69.67025800120301\n",
      "end while loop iteration :  41\n",
      "Episode 623/1000\n",
      "exploration_prob : 0.100\n",
      "stop episode because agent reach goal\n",
      "stop episode because agent reach goal\n",
      "diff Qtable_N - Qtable_N-1  0.05128471230859896\n",
      "Loss : -6.674816674593676\n",
      "end while loop iteration :  21\n",
      "Episode 624/1000\n",
      "exploration_prob : 0.100\n",
      "stop episode because agent reach goal\n",
      "diff Qtable_N - Qtable_N-1  0.010258825726469523\n",
      "Loss : -6.326259367187192\n",
      "end while loop iteration :  12\n",
      "Episode 625/1000\n",
      "exploration_prob : 0.100\n",
      "stop episode because agent reach goal\n",
      "diff Qtable_N - Qtable_N-1  0.009232943153822615\n",
      "Loss : -6.326259367187192\n",
      "end while loop iteration :  12\n",
      "Episode 626/1000\n",
      "exploration_prob : 0.100\n",
      "stop episode because agent reach goal\n",
      "stop episode because agent reach goal\n",
      "diff Qtable_N - Qtable_N-1  0.170030677348054\n",
      "Loss : -6.326259367187192\n",
      "end while loop iteration :  12\n",
      "Episode 627/1000\n",
      "exploration_prob : 0.100\n",
      "No action possible. Stop episode at 18th iterations\n",
      "Save last state even is out of bound\n",
      "Q table still growths\n",
      "Loss : -166.77187589257466\n",
      "end while loop iteration :  18\n",
      "Episode 628/1000\n",
      "exploration_prob : 0.100\n",
      "stop episode because agent reach goal\n",
      "diff Qtable_N - Qtable_N-1  0.00830964883844032\n",
      "Loss : -6.326259367187192\n",
      "end while loop iteration :  12\n",
      "Episode 629/1000\n",
      "exploration_prob : 0.100\n",
      "stop episode because agent reach goal\n",
      "diff Qtable_N - Qtable_N-1  0.007478683954596277\n",
      "Loss : -6.326259367187192\n",
      "end while loop iteration :  12\n",
      "Episode 630/1000\n",
      "exploration_prob : 0.100\n",
      "No action possible. Stop episode at 9th iterations\n",
      "Save last state even is out of bound\n",
      "Q table still growths\n",
      "Loss : -11.769059106682496\n",
      "end while loop iteration :  9\n",
      "Episode 631/1000\n",
      "exploration_prob : 0.100\n",
      "stop episode because agent reach goal\n",
      "diff Qtable_N - Qtable_N-1  0.0067308155591366825\n",
      "Loss : -6.326259367187192\n",
      "end while loop iteration :  12\n",
      "Episode 632/1000\n",
      "exploration_prob : 0.100\n",
      "No action possible. Stop episode at 10th iterations\n",
      "Save last state even is out of bound\n",
      "diff Qtable_N - Qtable_N-1  9.349437313362463\n",
      "Loss : -61.906732512275724\n",
      "end while loop iteration :  10\n",
      "Episode 633/1000\n",
      "exploration_prob : 0.100\n",
      "No action possible. Stop episode at 14th iterations\n",
      "Save last state even is out of bound\n",
      "diff Qtable_N - Qtable_N-1  0.4086157815855175\n",
      "Loss : -31.584733775250445\n",
      "end while loop iteration :  14\n",
      "Episode 634/1000\n",
      "exploration_prob : 0.100\n",
      "stop episode because agent reach goal\n",
      "diff Qtable_N - Qtable_N-1  0.006057734003222959\n",
      "Loss : -6.326259367187192\n",
      "end while loop iteration :  12\n",
      "Episode 635/1000\n",
      "exploration_prob : 0.100\n",
      "stop episode because agent reach goal\n",
      "diff Qtable_N - Qtable_N-1  0.005451960602900763\n",
      "Loss : -6.326259367187192\n",
      "end while loop iteration :  12\n",
      "Episode 636/1000\n",
      "exploration_prob : 0.100\n",
      "No action possible. Stop episode at 21th iterations\n",
      "Save last state even is out of bound\n",
      "diff Qtable_N - Qtable_N-1  4.71957860512018\n",
      "Loss : -30.46092020254038\n",
      "end while loop iteration :  21\n",
      "Episode 637/1000\n",
      "exploration_prob : 0.100\n",
      "stop episode because agent reach goal\n",
      "diff Qtable_N - Qtable_N-1  0.12471683857056182\n",
      "Loss : -7.053649270516946\n",
      "end while loop iteration :  12\n",
      "Episode 638/1000\n",
      "exploration_prob : 0.100\n",
      "stop episode because agent reach goal\n",
      "diff Qtable_N - Qtable_N-1  0.017378448399666846\n",
      "Loss : -6.326259367187192\n",
      "end while loop iteration :  12\n",
      "Episode 639/1000\n",
      "exploration_prob : 0.100\n",
      "No action possible. Stop episode at 14th iterations\n",
      "Save last state even is out of bound\n",
      "diff Qtable_N - Qtable_N-1  0.6959868823346222\n",
      "Loss : -102.10816494556661\n",
      "end while loop iteration :  14\n",
      "Episode 640/1000\n",
      "exploration_prob : 0.100\n",
      "stop episode because agent reach goal\n",
      "diff Qtable_N - Qtable_N-1  0.015640603559700095\n",
      "Loss : -6.326259367187192\n",
      "end while loop iteration :  12\n",
      "Episode 641/1000\n",
      "exploration_prob : 0.100\n",
      "No action possible. Stop episode at 25th iterations\n",
      "Save last state even is out of bound\n",
      "diff Qtable_N - Qtable_N-1  57.110027960153914\n",
      "Loss : -279.1039863440751\n",
      "end while loop iteration :  25\n",
      "Episode 642/1000\n",
      "exploration_prob : 0.100\n",
      "No action possible. Stop episode at 19th iterations\n",
      "Save last state even is out of bound\n",
      "diff Qtable_N - Qtable_N-1  1.2948287564753327\n",
      "Loss : -85.05098192684505\n",
      "end while loop iteration :  19\n",
      "Episode 643/1000\n",
      "exploration_prob : 0.100\n",
      "No action possible. Stop episode at 9th iterations\n",
      "Save last state even is out of bound\n",
      "diff Qtable_N - Qtable_N-1  5.735631895385976\n",
      "Loss : -109.15777452840462\n",
      "end while loop iteration :  9\n",
      "Episode 644/1000\n",
      "exploration_prob : 0.100\n",
      "stop episode because agent reach goal\n",
      "diff Qtable_N - Qtable_N-1  0.014076543203730085\n",
      "Loss : -6.326259367187192\n",
      "end while loop iteration :  12\n",
      "Episode 645/1000\n",
      "exploration_prob : 0.100\n",
      "No action possible. Stop episode at 15th iterations\n",
      "Save last state even is out of bound\n",
      "diff Qtable_N - Qtable_N-1  2.9341198660267334\n",
      "Loss : -127.70331895702478\n",
      "end while loop iteration :  15\n",
      "Episode 646/1000\n",
      "exploration_prob : 0.100\n",
      "No action possible. Stop episode at 10th iterations\n",
      "Save last state even is out of bound\n",
      "diff Qtable_N - Qtable_N-1  8.895798934095849\n",
      "Loss : -87.30484681064212\n",
      "end while loop iteration :  10\n",
      "Episode 647/1000\n",
      "exploration_prob : 0.100\n",
      "stop episode because agent reach goal\n",
      "diff Qtable_N - Qtable_N-1  0.012668888883357154\n",
      "Loss : -6.326259367187192\n",
      "end while loop iteration :  12\n",
      "Episode 648/1000\n",
      "exploration_prob : 0.100\n",
      "stop episode because agent reach goal\n",
      "diff Qtable_N - Qtable_N-1  0.011401999995021339\n",
      "Loss : -6.326259367187192\n",
      "end while loop iteration :  12\n",
      "Episode 649/1000\n",
      "exploration_prob : 0.100\n",
      "stop episode because agent reach goal\n",
      "diff Qtable_N - Qtable_N-1  0.010261799995519238\n",
      "Loss : -6.326259367187192\n",
      "end while loop iteration :  12\n",
      "Episode 650/1000\n",
      "exploration_prob : 0.100\n",
      "No action possible. Stop episode at 10th iterations\n",
      "Save last state even is out of bound\n",
      "diff Qtable_N - Qtable_N-1  2.068640305221725\n",
      "Loss : -13.990839763458728\n",
      "end while loop iteration :  10\n",
      "Episode 651/1000\n",
      "exploration_prob : 0.100\n",
      "stop episode because agent reach goal\n",
      "No action possible. Stop episode at 27th iterations\n",
      "Save last state even is out of bound\n",
      "Q table still growths\n",
      "Loss : -23.286131916017514\n",
      "end while loop iteration :  27\n",
      "Episode 652/1000\n",
      "exploration_prob : 0.100\n",
      "No action possible. Stop episode at 15th iterations\n",
      "Save last state even is out of bound\n",
      "Q table still growths\n",
      "Loss : -71.35144798667363\n",
      "end while loop iteration :  15\n",
      "Episode 653/1000\n",
      "exploration_prob : 0.100\n",
      "stop episode because agent reach goal\n",
      "diff Qtable_N - Qtable_N-1  0.0047993628063324745\n",
      "Loss : -7.541684383422602\n",
      "end while loop iteration :  16\n",
      "Episode 654/1000\n",
      "exploration_prob : 0.100\n",
      "stop episode because agent reach goal\n",
      "diff Qtable_N - Qtable_N-1  0.003830494569844356\n",
      "Loss : -6.5931705055425125\n",
      "end while loop iteration :  16\n",
      "Episode 655/1000\n",
      "exploration_prob : 0.100\n",
      "stop episode because agent reach goal\n",
      "diff Qtable_N - Qtable_N-1  0.009235619995967337\n",
      "Loss : -6.326259367187192\n",
      "end while loop iteration :  12\n",
      "Episode 656/1000\n",
      "exploration_prob : 0.100\n",
      "No action possible. Stop episode at 28th iterations\n",
      "Save last state even is out of bound\n",
      "Q table still growths\n",
      "Loss : -60.53437083508147\n",
      "end while loop iteration :  28\n",
      "Episode 657/1000\n",
      "exploration_prob : 0.100\n",
      "No action possible. Stop episode at 12th iterations\n",
      "Save last state even is out of bound\n",
      "diff Qtable_N - Qtable_N-1  4.292971210410069\n",
      "Loss : -20.06620136951838\n",
      "end while loop iteration :  12\n",
      "Episode 658/1000\n",
      "exploration_prob : 0.100\n",
      "stop episode because agent reach goal\n",
      "diff Qtable_N - Qtable_N-1  0.008312057996370581\n",
      "Loss : -6.326259367187192\n",
      "end while loop iteration :  12\n",
      "Episode 659/1000\n",
      "exploration_prob : 0.100\n",
      "stop episode because agent reach goal\n",
      "diff Qtable_N - Qtable_N-1  0.007480852196733556\n",
      "Loss : -6.326259367187192\n",
      "end while loop iteration :  12\n",
      "Episode 660/1000\n",
      "exploration_prob : 0.100\n",
      "stop episode because agent reach goal\n",
      "stop episode because agent reach goal\n",
      "stop episode because agent reach goal\n",
      "diff Qtable_N - Qtable_N-1  0.05100822084247819\n",
      "Loss : -8.830447272121054\n",
      "end while loop iteration :  19\n",
      "Episode 661/1000\n",
      "exploration_prob : 0.100\n",
      "stop episode because agent reach goal\n",
      "diff Qtable_N - Qtable_N-1  0.006732766977060156\n",
      "Loss : -6.326259367187192\n",
      "end while loop iteration :  12\n",
      "Episode 662/1000\n",
      "exploration_prob : 0.100\n",
      "stop episode because agent reach goal\n",
      "diff Qtable_N - Qtable_N-1  0.006059490279354152\n",
      "Loss : -6.326259367187192\n",
      "end while loop iteration :  12\n",
      "Episode 663/1000\n",
      "exploration_prob : 0.100\n",
      "stop episode because agent reach goal\n",
      "diff Qtable_N - Qtable_N-1  0.005453541251418725\n",
      "Loss : -6.326259367187192\n",
      "end while loop iteration :  12\n",
      "Episode 664/1000\n",
      "exploration_prob : 0.100\n",
      "stop episode because agent reach goal\n",
      "diff Qtable_N - Qtable_N-1  0.004908187126276942\n",
      "Loss : -6.326259367187192\n",
      "end while loop iteration :  12\n",
      "Episode 665/1000\n",
      "exploration_prob : 0.100\n",
      "stop episode because agent reach goal\n",
      "diff Qtable_N - Qtable_N-1  0.12469215505347564\n",
      "Loss : -10.046965018211544\n",
      "end while loop iteration :  12\n",
      "Episode 666/1000\n",
      "exploration_prob : 0.100\n",
      "stop episode because agent reach goal\n",
      "stop episode because agent reach goal\n",
      "diff Qtable_N - Qtable_N-1  0.03914815968697723\n",
      "Loss : -14.516323780692538\n",
      "end while loop iteration :  13\n",
      "Episode 667/1000\n",
      "exploration_prob : 0.100\n",
      "No action possible. Stop episode at 15th iterations\n",
      "Save last state even is out of bound\n",
      "diff Qtable_N - Qtable_N-1  0.653048123183557\n",
      "Loss : -68.70793482094355\n",
      "end while loop iteration :  15\n",
      "Episode 668/1000\n",
      "exploration_prob : 0.100\n",
      "No action possible. Stop episode at 13th iterations\n",
      "Save last state even is out of bound\n",
      "diff Qtable_N - Qtable_N-1  0.9262731973890257\n",
      "Loss : -23.639382633960828\n",
      "end while loop iteration :  13\n",
      "Episode 669/1000\n",
      "exploration_prob : 0.100\n",
      "stop episode because agent reach goal\n",
      "diff Qtable_N - Qtable_N-1  0.016886583918996778\n",
      "Loss : -6.326259367187192\n",
      "end while loop iteration :  12\n",
      "Episode 670/1000\n",
      "exploration_prob : 0.100\n",
      "No action possible. Stop episode at 16th iterations\n",
      "Save last state even is out of bound\n",
      "Q table still growths\n",
      "Loss : -86.36572327295397\n",
      "end while loop iteration :  16\n",
      "Episode 671/1000\n",
      "exploration_prob : 0.100\n",
      "stop episode because agent reach goal\n",
      "diff Qtable_N - Qtable_N-1  0.028557872805883497\n",
      "Loss : -18.504013316217502\n",
      "end while loop iteration :  15\n",
      "Episode 672/1000\n",
      "exploration_prob : 0.100\n",
      "stop episode because agent reach goal\n",
      "diff Qtable_N - Qtable_N-1  0.01519792552709709\n",
      "Loss : -6.326259367187192\n",
      "end while loop iteration :  12\n",
      "Episode 673/1000\n",
      "exploration_prob : 0.100\n",
      "stop episode because agent reach goal\n",
      "diff Qtable_N - Qtable_N-1  0.013678132974387358\n",
      "Loss : -6.326259367187192\n",
      "end while loop iteration :  12\n",
      "Episode 674/1000\n",
      "exploration_prob : 0.100\n",
      "stop episode because agent reach goal\n",
      "diff Qtable_N - Qtable_N-1  0.013514052882770189\n",
      "Loss : -7.126121507867767\n",
      "end while loop iteration :  15\n",
      "Episode 675/1000\n",
      "exploration_prob : 0.100\n",
      "No action possible. Stop episode at 27th iterations\n",
      "Save last state even is out of bound\n",
      "Q table still growths\n",
      "Loss : -86.59465763371102\n",
      "end while loop iteration :  27\n",
      "Episode 676/1000\n",
      "exploration_prob : 0.100\n",
      "stop episode because agent reach goal\n",
      "diff Qtable_N - Qtable_N-1  0.012310319676948622\n",
      "Loss : -6.326259367187192\n",
      "end while loop iteration :  12\n",
      "Episode 677/1000\n",
      "exploration_prob : 0.100\n",
      "stop episode because agent reach goal\n",
      "diff Qtable_N - Qtable_N-1  0.011079287709253816\n",
      "Loss : -6.326259367187192\n",
      "end while loop iteration :  12\n",
      "Episode 678/1000\n",
      "exploration_prob : 0.100\n",
      "No action possible. Stop episode at 21th iterations\n",
      "Save last state even is out of bound\n",
      "Q table still growths\n",
      "Loss : -85.24018175576389\n",
      "end while loop iteration :  21\n",
      "Episode 679/1000\n",
      "exploration_prob : 0.100\n",
      "stop episode because agent reach goal\n",
      "diff Qtable_N - Qtable_N-1  0.009983389013516364\n",
      "Loss : -7.205206796171013\n",
      "end while loop iteration :  12\n",
      "Episode 680/1000\n",
      "exploration_prob : 0.100\n",
      "stop episode because agent reach goal\n",
      "diff Qtable_N - Qtable_N-1  0.13546635175172694\n",
      "Loss : -6.316896487126864\n",
      "end while loop iteration :  13\n",
      "Episode 681/1000\n",
      "exploration_prob : 0.100\n",
      "No action possible. Stop episode at 6th iterations\n",
      "Save last state even is out of bound\n",
      "diff Qtable_N - Qtable_N-1  8.441196287416354\n",
      "Loss : -47.308901898145415\n",
      "end while loop iteration :  6\n",
      "Episode 682/1000\n",
      "exploration_prob : 0.100\n",
      "No action possible. Stop episode at 19th iterations\n",
      "Save last state even is out of bound\n",
      "diff Qtable_N - Qtable_N-1  1.0106805642683108\n",
      "Loss : -47.735505120626165\n",
      "end while loop iteration :  19\n",
      "Episode 683/1000\n",
      "exploration_prob : 0.100\n",
      "stop episode because agent reach goal\n",
      "diff Qtable_N - Qtable_N-1  0.008973020036976753\n",
      "Loss : -6.326259367187192\n",
      "end while loop iteration :  12\n",
      "Episode 684/1000\n",
      "exploration_prob : 0.100\n",
      "stop episode because agent reach goal\n",
      "diff Qtable_N - Qtable_N-1  0.008075718033279111\n",
      "Loss : -6.326259367187192\n",
      "end while loop iteration :  12\n",
      "Episode 685/1000\n",
      "exploration_prob : 0.100\n",
      "stop episode because agent reach goal\n",
      "diff Qtable_N - Qtable_N-1  0.0072681462299512\n",
      "Loss : -6.326259367187192\n",
      "end while loop iteration :  12\n",
      "Episode 686/1000\n",
      "exploration_prob : 0.100\n",
      "stop episode because agent reach goal\n",
      "diff Qtable_N - Qtable_N-1  0.0065413316069560246\n",
      "Loss : -6.326259367187192\n",
      "end while loop iteration :  12\n",
      "Episode 687/1000\n",
      "exploration_prob : 0.100\n",
      "stop episode because agent reach goal\n",
      "diff Qtable_N - Qtable_N-1  0.0058871984462604\n",
      "Loss : -6.326259367187192\n",
      "end while loop iteration :  12\n",
      "Episode 688/1000\n",
      "exploration_prob : 0.100\n",
      "stop episode because agent reach goal\n",
      "diff Qtable_N - Qtable_N-1  0.00529847860163446\n",
      "Loss : -6.326259367187192\n",
      "end while loop iteration :  12\n",
      "Look like nothing to learn anymore, stop training\n"
     ]
    }
   ],
   "source": [
    "# To start training remove comment\n",
    "# RL.q_learning()\n",
    "# #save model\n",
    "# with open('saved_model/RL_monoagent.pkl', 'wb') as f:  # open a text file\n",
    "#     pickle.dump(RL, f)"
   ]
  },
  {
   "cell_type": "code",
   "execution_count": 10,
   "id": "5da876bf",
   "metadata": {},
   "outputs": [
    {
     "data": {
      "image/png": "[encoded data removed]",
      "text/plain": [
       "<Figure size 640x480 with 1 Axes>"
      ]
     },
     "metadata": {},
     "output_type": "display_data"
    },
    {
     "data": {
      "image/png": "[encoded data removed]",
      "text/plain": [
       "<Figure size 640x480 with 1 Axes>"
      ]
     },
     "metadata": {},
     "output_type": "display_data"
    }
   ],
   "source": [
    "RL.plot_convergence() \n",
    "RL.plot_convergence(start = len(RL.loss_episodes) -10) #loss for the last 10 iterations"
   ]
  },
  {
   "cell_type": "markdown",
   "id": "400b0531",
   "metadata": {},
   "source": [
    "If you loaded the pre-trained model, you'll see that training stopped at episode 677. For the last five iterations the difference between $Qtable_N - Qtable_{N-1}$ remained bellow the convergence threshold (convergence_criterion = 0.5), indicating that the learning process had stabilized."
   ]
  },
  {
   "cell_type": "markdown",
   "id": "3c25ab48",
   "metadata": {},
   "source": [
    "Let’s find out how many states we actually explored.\n",
    "To do this, we replace Q-table values equal to 0 with np.nan.\n",
    "(Except for goal-reaching states in our setup, a value of 0 typically means the state was never explored.)"
   ]
  },
  {
   "cell_type": "code",
   "execution_count": 11,
   "id": "0ffec4df",
   "metadata": {},
   "outputs": [
    {
     "name": "stdout",
     "output_type": "stream",
     "text": [
      "Number of states explored 4562. Only 0.092% states have been visited\n"
     ]
    }
   ],
   "source": [
    "states_explored = np.sum(RL.q_table.copy().replace(0, np.nan).count())\n",
    "\n",
    "print(\"Number of states explored {0}.\\\n",
    " Only {1:.3f}% states have been visited\".format(\n",
    "    states_explored,\n",
    "    states_explored/4964526 *100))"
   ]
  },
  {
   "cell_type": "markdown",
   "id": "85511f9d",
   "metadata": {},
   "source": [
    "# <span style=\"color:orange\">Optimal trajectory</span>\n",
    "\n",
    "Let’s see how the rocket evolves after training.\n",
    "We start by copying the Q-table using the ``q_table`` attribute, and we replace all 0 values with ``np.nan`` to better visualize learned values.\n",
    "\n",
    "Next, we load a new environment and use its current discretized state as the starting point.\n",
    "At each iteration, we follow the action suggested by the Q-table based on the environment’s current discretized state, which is updated after every step. At the end, we save all the states visited into a data frame (dt)"
   ]
  },
  {
   "cell_type": "code",
   "execution_count": 17,
   "id": "5fd9c634",
   "metadata": {},
   "outputs": [
    {
     "name": "stdout",
     "output_type": "stream",
     "text": [
      "stop episode because agent reach goal\n",
      "stop: no moore state\n"
     ]
    }
   ],
   "source": [
    "# load policy table\n",
    "policy = RL.q_table.copy().replace(0, np.nan)\n",
    "# load environnment\n",
    "env = Environment(JOSN_file, check_model = False)\n",
    "state = env.state_for_q_table()\n",
    "flag_continue = True\n",
    "while flag_continue:\n",
    "    # control while loop\n",
    "    if not policy.index.isin([str(state)]).any():\n",
    "        flag_continue = False\n",
    "        print(\"stop: no moore state\")\n",
    "        env.delete_last_states()\n",
    "        continue\n",
    "    elif env.pos_y[-1] < 0:\n",
    "        print(\"stop: reach goal\")\n",
    "        env.delete_last_states()\n",
    "        flag_continue = False\n",
    "        continue\n",
    "    action = RL.call_choose_action(state, 0)\n",
    "    _, rewards, done, problem, info = env.step(action)\n",
    "    state = env.state_for_q_table()\n",
    "\n",
    "dt = pd.DataFrame(env.all_states())"
   ]
  },
  {
   "cell_type": "markdown",
   "id": "34c671cc",
   "metadata": {},
   "source": [
    "# <span style=\"color:orange\">Rocket Trajectory Comparison</span>\n",
    "\n",
    "Let’s compare the initial rocket landing with the new one obtained using our trained policy.\n",
    "As we can see, the second rocket reaches the ground more slowly than the first. Its trajectory appears more linear, and if we look at the speed profile, the reinforcement learning model keeps the speed within the desired limit of [-5, 5]."
   ]
  },
  {
   "cell_type": "code",
   "execution_count": 18,
   "id": "3529b12b",
   "metadata": {},
   "outputs": [
    {
     "data": {
      "image/png": "[encoded data removed]",
      "text/plain": [
       "<Figure size 640x480 with 1 Axes>"
      ]
     },
     "metadata": {},
     "output_type": "display_data"
    },
    {
     "data": {
      "image/png": "[encoded data removed]",
      "text/plain": [
       "<Figure size 640x480 with 1 Axes>"
      ]
     },
     "metadata": {},
     "output_type": "display_data"
    }
   ],
   "source": [
    "plt.plot(df_0[[\"time\"]], df_0[[\"pos_y\"]], label = \"intial trajectory\")\n",
    "plt.plot(dt[[\"time\"]], dt[[\"pos_y\"]], label = \"RL model trajectory\")\n",
    "plt.plot(dt[[\"time\"]], np.array([-5]*len(dt[[\"time\"]])), label = \"Ground\" )\n",
    "plt.title(\"Rocket landing\")\n",
    "plt.xlabel(\"Time\")\n",
    "plt.ylabel(\"Altitude\")\n",
    "plt.legend()\n",
    "plt.show()\n",
    "\n",
    "\n",
    "plt.plot(df_0[[\"time\"]], df_0[[\"speed_y\"]], \"+-\",label = \"intial trajectory\")\n",
    "plt.plot(dt[[\"time\"]], dt[[\"speed_y\"]], \"+-\", label = \"RL model trajectory\")\n",
    "plt.plot(dt[[\"time\"]], np.array([-5]*len(dt[[\"time\"]])), label = \"Speed limit\" )\n",
    "plt.title(\"Rocket speed\")\n",
    "plt.xlabel(\"Time\")\n",
    "plt.ylabel(\"Speed\")\n",
    "plt.legend()\n",
    "plt.show()"
   ]
  },
  {
   "cell_type": "markdown",
   "id": "6343a8d8",
   "metadata": {},
   "source": [
    "Even though the second rocket consumes more fuel, it successfully keeps the speed within the desired range.\n",
    "As shown in the reward plots, the RL policy allows the rocket to reach its goal more smoothly, with better speed control compared to the first attempt."
   ]
  },
  {
   "cell_type": "code",
   "execution_count": 19,
   "id": "cc5af9f7",
   "metadata": {},
   "outputs": [
    {
     "data": {
      "application/vnd.plotly.v1+json": {
       "config": {
        "plotlyServerURL": "https://plot.ly"
       },
       "data": [
        {
         "mode": "lines+markers",
         "name": "distance_y_reward",
         "type": "scatter",
         "x": [
          0,
          3,
          6,
          9,
          12,
          15,
          18,
          21,
          24,
          27,
          30,
          33,
          36,
          39
         ],
         "y": [
          1,
          0.9166857142857142,
          0.8006426229508196,
          0.7032992974238874,
          0.6263704997419915,
          0.5716296289199104,
          0.48677644282689325,
          0.37274430936545505,
          0.28463526935192235,
          0.22441788054432654,
          0.1941329592691983,
          0.13767660942264145,
          0.05612699812055901,
          0.00882478470361029
         ]
        },
        {
         "mode": "lines+markers",
         "name": "speed_y_reward",
         "type": "scatter",
         "x": [
          0,
          3,
          6,
          9,
          12,
          15,
          18,
          21,
          24,
          27,
          30,
          33,
          36,
          39
         ],
         "y": [
          0,
          0,
          0,
          0,
          0,
          0,
          0,
          0,
          0,
          0,
          0,
          0,
          0,
          0
         ]
        },
        {
         "mode": "lines+markers",
         "name": "ratio_fuel",
         "type": "scatter",
         "x": [
          0,
          3,
          6,
          9,
          12,
          15,
          18,
          21,
          24,
          27,
          30,
          33,
          36,
          39
         ],
         "y": [
          1,
          1,
          0.9833333333333333,
          0.9666666666666667,
          0.95,
          0.9333333333333333,
          0.9333333333333333,
          0.9166666666666666,
          0.9,
          0.8833333333333333,
          0.8666666666666667,
          0.8666666666666667,
          0.85,
          0.8333333333333334
         ]
        },
        {
         "mode": "lines+markers",
         "name": "Sum of rewards",
         "type": "scatter",
         "x": [
          0,
          3,
          6,
          9,
          12,
          15,
          18,
          21,
          24,
          27,
          30,
          33,
          36,
          39
         ],
         "y": [
          -1.5,
          -1.3333714285714284,
          -1.1096185792349724,
          -0.9232652615144414,
          -0.7777409994839831,
          -0.6765925911731542,
          -0.5068862189871198,
          -0.2871552853975768,
          -0.11927053870384469,
          -0.007169094421986433,
          0.045067414794936755,
          0.15798011448805044,
          0.31274600375888195,
          0.3990170972594461
         ]
        }
       ],
       "layout": {
        "template": {
         "data": {
          "bar": [
           {
            "error_x": {
             "color": "#2a3f5f"
            },
            "error_y": {
             "color": "#2a3f5f"
            },
            "marker": {
             "line": {
              "color": "#E5ECF6",
              "width": 0.5
             },
             "pattern": {
              "fillmode": "overlay",
              "size": 10,
              "solidity": 0.2
             }
            },
            "type": "bar"
           }
          ],
          "barpolar": [
           {
            "marker": {
             "line": {
              "color": "#E5ECF6",
              "width": 0.5
             },
             "pattern": {
              "fillmode": "overlay",
              "size": 10,
              "solidity": 0.2
             }
            },
            "type": "barpolar"
           }
          ],
          "carpet": [
           {
            "aaxis": {
             "endlinecolor": "#2a3f5f",
             "gridcolor": "white",
             "linecolor": "white",
             "minorgridcolor": "white",
             "startlinecolor": "#2a3f5f"
            },
            "baxis": {
             "endlinecolor": "#2a3f5f",
             "gridcolor": "white",
             "linecolor": "white",
             "minorgridcolor": "white",
             "startlinecolor": "#2a3f5f"
            },
            "type": "carpet"
           }
          ],
          "choropleth": [
           {
            "colorbar": {
             "outlinewidth": 0,
             "ticks": ""
            },
            "type": "choropleth"
           }
          ],
          "contour": [
           {
            "colorbar": {
             "outlinewidth": 0,
             "ticks": ""
            },
            "colorscale": [
             [
              0,
              "#0d0887"
             ],
             [
              0.1111111111111111,
              "#46039f"
             ],
             [
              0.2222222222222222,
              "#7201a8"
             ],
             [
              0.3333333333333333,
              "#9c179e"
             ],
             [
              0.4444444444444444,
              "#bd3786"
             ],
             [
              0.5555555555555556,
              "#d8576b"
             ],
             [
              0.6666666666666666,
              "#ed7953"
             ],
             [
              0.7777777777777778,
              "#fb9f3a"
             ],
             [
              0.8888888888888888,
              "#fdca26"
             ],
             [
              1,
              "#f0f921"
             ]
            ],
            "type": "contour"
           }
          ],
          "contourcarpet": [
           {
            "colorbar": {
             "outlinewidth": 0,
             "ticks": ""
            },
            "type": "contourcarpet"
           }
          ],
          "heatmap": [
           {
            "colorbar": {
             "outlinewidth": 0,
             "ticks": ""
            },
            "colorscale": [
             [
              0,
              "#0d0887"
             ],
             [
              0.1111111111111111,
              "#46039f"
             ],
             [
              0.2222222222222222,
              "#7201a8"
             ],
             [
              0.3333333333333333,
              "#9c179e"
             ],
             [
              0.4444444444444444,
              "#bd3786"
             ],
             [
              0.5555555555555556,
              "#d8576b"
             ],
             [
              0.6666666666666666,
              "#ed7953"
             ],
             [
              0.7777777777777778,
              "#fb9f3a"
             ],
             [
              0.8888888888888888,
              "#fdca26"
             ],
             [
              1,
              "#f0f921"
             ]
            ],
            "type": "heatmap"
           }
          ],
          "heatmapgl": [
           {
            "colorbar": {
             "outlinewidth": 0,
             "ticks": ""
            },
            "colorscale": [
             [
              0,
              "#0d0887"
             ],
             [
              0.1111111111111111,
              "#46039f"
             ],
             [
              0.2222222222222222,
              "#7201a8"
             ],
             [
              0.3333333333333333,
              "#9c179e"
             ],
             [
              0.4444444444444444,
              "#bd3786"
             ],
             [
              0.5555555555555556,
              "#d8576b"
             ],
             [
              0.6666666666666666,
              "#ed7953"
             ],
             [
              0.7777777777777778,
              "#fb9f3a"
             ],
             [
              0.8888888888888888,
              "#fdca26"
             ],
             [
              1,
              "#f0f921"
             ]
            ],
            "type": "heatmapgl"
           }
          ],
          "histogram": [
           {
            "marker": {
             "pattern": {
              "fillmode": "overlay",
              "size": 10,
              "solidity": 0.2
             }
            },
            "type": "histogram"
           }
          ],
          "histogram2d": [
           {
            "colorbar": {
             "outlinewidth": 0,
             "ticks": ""
            },
            "colorscale": [
             [
              0,
              "#0d0887"
             ],
             [
              0.1111111111111111,
              "#46039f"
             ],
             [
              0.2222222222222222,
              "#7201a8"
             ],
             [
              0.3333333333333333,
              "#9c179e"
             ],
             [
              0.4444444444444444,
              "#bd3786"
             ],
             [
              0.5555555555555556,
              "#d8576b"
             ],
             [
              0.6666666666666666,
              "#ed7953"
             ],
             [
              0.7777777777777778,
              "#fb9f3a"
             ],
             [
              0.8888888888888888,
              "#fdca26"
             ],
             [
              1,
              "#f0f921"
             ]
            ],
            "type": "histogram2d"
           }
          ],
          "histogram2dcontour": [
           {
            "colorbar": {
             "outlinewidth": 0,
             "ticks": ""
            },
            "colorscale": [
             [
              0,
              "#0d0887"
             ],
             [
              0.1111111111111111,
              "#46039f"
             ],
             [
              0.2222222222222222,
              "#7201a8"
             ],
             [
              0.3333333333333333,
              "#9c179e"
             ],
             [
              0.4444444444444444,
              "#bd3786"
             ],
             [
              0.5555555555555556,
              "#d8576b"
             ],
             [
              0.6666666666666666,
              "#ed7953"
             ],
             [
              0.7777777777777778,
              "#fb9f3a"
             ],
             [
              0.8888888888888888,
              "#fdca26"
             ],
             [
              1,
              "#f0f921"
             ]
            ],
            "type": "histogram2dcontour"
           }
          ],
          "mesh3d": [
           {
            "colorbar": {
             "outlinewidth": 0,
             "ticks": ""
            },
            "type": "mesh3d"
           }
          ],
          "parcoords": [
           {
            "line": {
             "colorbar": {
              "outlinewidth": 0,
              "ticks": ""
             }
            },
            "type": "parcoords"
           }
          ],
          "pie": [
           {
            "automargin": true,
            "type": "pie"
           }
          ],
          "scatter": [
           {
            "fillpattern": {
             "fillmode": "overlay",
             "size": 10,
             "solidity": 0.2
            },
            "type": "scatter"
           }
          ],
          "scatter3d": [
           {
            "line": {
             "colorbar": {
              "outlinewidth": 0,
              "ticks": ""
             }
            },
            "marker": {
             "colorbar": {
              "outlinewidth": 0,
              "ticks": ""
             }
            },
            "type": "scatter3d"
           }
          ],
          "scattercarpet": [
           {
            "marker": {
             "colorbar": {
              "outlinewidth": 0,
              "ticks": ""
             }
            },
            "type": "scattercarpet"
           }
          ],
          "scattergeo": [
           {
            "marker": {
             "colorbar": {
              "outlinewidth": 0,
              "ticks": ""
             }
            },
            "type": "scattergeo"
           }
          ],
          "scattergl": [
           {
            "marker": {
             "colorbar": {
              "outlinewidth": 0,
              "ticks": ""
             }
            },
            "type": "scattergl"
           }
          ],
          "scattermapbox": [
           {
            "marker": {
             "colorbar": {
              "outlinewidth": 0,
              "ticks": ""
             }
            },
            "type": "scattermapbox"
           }
          ],
          "scatterpolar": [
           {
            "marker": {
             "colorbar": {
              "outlinewidth": 0,
              "ticks": ""
             }
            },
            "type": "scatterpolar"
           }
          ],
          "scatterpolargl": [
           {
            "marker": {
             "colorbar": {
              "outlinewidth": 0,
              "ticks": ""
             }
            },
            "type": "scatterpolargl"
           }
          ],
          "scatterternary": [
           {
            "marker": {
             "colorbar": {
              "outlinewidth": 0,
              "ticks": ""
             }
            },
            "type": "scatterternary"
           }
          ],
          "surface": [
           {
            "colorbar": {
             "outlinewidth": 0,
             "ticks": ""
            },
            "colorscale": [
             [
              0,
              "#0d0887"
             ],
             [
              0.1111111111111111,
              "#46039f"
             ],
             [
              0.2222222222222222,
              "#7201a8"
             ],
             [
              0.3333333333333333,
              "#9c179e"
             ],
             [
              0.4444444444444444,
              "#bd3786"
             ],
             [
              0.5555555555555556,
              "#d8576b"
             ],
             [
              0.6666666666666666,
              "#ed7953"
             ],
             [
              0.7777777777777778,
              "#fb9f3a"
             ],
             [
              0.8888888888888888,
              "#fdca26"
             ],
             [
              1,
              "#f0f921"
             ]
            ],
            "type": "surface"
           }
          ],
          "table": [
           {
            "cells": {
             "fill": {
              "color": "#EBF0F8"
             },
             "line": {
              "color": "white"
             }
            },
            "header": {
             "fill": {
              "color": "#C8D4E3"
             },
             "line": {
              "color": "white"
             }
            },
            "type": "table"
           }
          ]
         },
         "layout": {
          "annotationdefaults": {
           "arrowcolor": "#2a3f5f",
           "arrowhead": 0,
           "arrowwidth": 1
          },
          "autotypenumbers": "strict",
          "coloraxis": {
           "colorbar": {
            "outlinewidth": 0,
            "ticks": ""
           }
          },
          "colorscale": {
           "diverging": [
            [
             0,
             "#8e0152"
            ],
            [
             0.1,
             "#c51b7d"
            ],
            [
             0.2,
             "#de77ae"
            ],
            [
             0.3,
             "#f1b6da"
            ],
            [
             0.4,
             "#fde0ef"
            ],
            [
             0.5,
             "#f7f7f7"
            ],
            [
             0.6,
             "#e6f5d0"
            ],
            [
             0.7,
             "#b8e186"
            ],
            [
             0.8,
             "#7fbc41"
            ],
            [
             0.9,
             "#4d9221"
            ],
            [
             1,
             "#276419"
            ]
           ],
           "sequential": [
            [
             0,
             "#0d0887"
            ],
            [
             0.1111111111111111,
             "#46039f"
            ],
            [
             0.2222222222222222,
             "#7201a8"
            ],
            [
             0.3333333333333333,
             "#9c179e"
            ],
            [
             0.4444444444444444,
             "#bd3786"
            ],
            [
             0.5555555555555556,
             "#d8576b"
            ],
            [
             0.6666666666666666,
             "#ed7953"
            ],
            [
             0.7777777777777778,
             "#fb9f3a"
            ],
            [
             0.8888888888888888,
             "#fdca26"
            ],
            [
             1,
             "#f0f921"
            ]
           ],
           "sequentialminus": [
            [
             0,
             "#0d0887"
            ],
            [
             0.1111111111111111,
             "#46039f"
            ],
            [
             0.2222222222222222,
             "#7201a8"
            ],
            [
             0.3333333333333333,
             "#9c179e"
            ],
            [
             0.4444444444444444,
             "#bd3786"
            ],
            [
             0.5555555555555556,
             "#d8576b"
            ],
            [
             0.6666666666666666,
             "#ed7953"
            ],
            [
             0.7777777777777778,
             "#fb9f3a"
            ],
            [
             0.8888888888888888,
             "#fdca26"
            ],
            [
             1,
             "#f0f921"
            ]
           ]
          },
          "colorway": [
           "#636efa",
           "#EF553B",
           "#00cc96",
           "#ab63fa",
           "#FFA15A",
           "#19d3f3",
           "#FF6692",
           "#B6E880",
           "#FF97FF",
           "#FECB52"
          ],
          "font": {
           "color": "#2a3f5f"
          },
          "geo": {
           "bgcolor": "white",
           "lakecolor": "white",
           "landcolor": "#E5ECF6",
           "showlakes": true,
           "showland": true,
           "subunitcolor": "white"
          },
          "hoverlabel": {
           "align": "left"
          },
          "hovermode": "closest",
          "mapbox": {
           "style": "light"
          },
          "paper_bgcolor": "white",
          "plot_bgcolor": "#E5ECF6",
          "polar": {
           "angularaxis": {
            "gridcolor": "white",
            "linecolor": "white",
            "ticks": ""
           },
           "bgcolor": "#E5ECF6",
           "radialaxis": {
            "gridcolor": "white",
            "linecolor": "white",
            "ticks": ""
           }
          },
          "scene": {
           "xaxis": {
            "backgroundcolor": "#E5ECF6",
            "gridcolor": "white",
            "gridwidth": 2,
            "linecolor": "white",
            "showbackground": true,
            "ticks": "",
            "zerolinecolor": "white"
           },
           "yaxis": {
            "backgroundcolor": "#E5ECF6",
            "gridcolor": "white",
            "gridwidth": 2,
            "linecolor": "white",
            "showbackground": true,
            "ticks": "",
            "zerolinecolor": "white"
           },
           "zaxis": {
            "backgroundcolor": "#E5ECF6",
            "gridcolor": "white",
            "gridwidth": 2,
            "linecolor": "white",
            "showbackground": true,
            "ticks": "",
            "zerolinecolor": "white"
           }
          },
          "shapedefaults": {
           "line": {
            "color": "#2a3f5f"
           }
          },
          "ternary": {
           "aaxis": {
            "gridcolor": "white",
            "linecolor": "white",
            "ticks": ""
           },
           "baxis": {
            "gridcolor": "white",
            "linecolor": "white",
            "ticks": ""
           },
           "bgcolor": "#E5ECF6",
           "caxis": {
            "gridcolor": "white",
            "linecolor": "white",
            "ticks": ""
           }
          },
          "title": {
           "x": 0.05
          },
          "xaxis": {
           "automargin": true,
           "gridcolor": "white",
           "linecolor": "white",
           "ticks": "",
           "title": {
            "standoff": 15
           },
           "zerolinecolor": "white",
           "zerolinewidth": 2
          },
          "yaxis": {
           "automargin": true,
           "gridcolor": "white",
           "linecolor": "white",
           "ticks": "",
           "title": {
            "standoff": 15
           },
           "zerolinecolor": "white",
           "zerolinewidth": 2
          }
         }
        },
        "title": {
         "text": "Reward and its components"
        },
        "xaxis": {
         "title": {
          "text": "Time step"
         }
        },
        "yaxis": {
         "title": {
          "text": "Score"
         }
        }
       }
      }
     },
     "metadata": {},
     "output_type": "display_data"
    }
   ],
   "source": [
    "plot_reward_rocket_monoagent(env)"
   ]
  }
 ],
 "metadata": {
  "kernelspec": {
   "display_name": "venv",
   "language": "python",
   "name": "python3"
  },
  "language_info": {
   "codemirror_mode": {
    "name": "ipython",
    "version": 3
   },
   "file_extension": ".py",
   "mimetype": "text/x-python",
   "name": "python",
   "nbconvert_exporter": "python",
   "pygments_lexer": "ipython3",
   "version": "3.10.11"
  }
 },
 "nbformat": 4,
 "nbformat_minor": 5
}

{
 "cells": [
  {
   "cell_type": "code",
   "execution_count": 1,
   "id": "1f46d4d1-fa7c-4a0d-afd1-5fbaa96dae8e",
   "metadata": {},
   "outputs": [],
   "source": [
    "import numpy as np\n",
    "import json\n",
    "import os\n",
    "import sys\n",
    "from sympy import sympify\n",
    "import re\n",
    "import copy\n",
    "import warnings\n",
    "# warnings.simplefilter(action='ignore', category=FutureWarning)\n",
    "import pandas as pd\n",
    "import matplotlib.pyplot as plt\n",
    "sys.path.insert(1, \"../src/utils/\")\n",
    "from agent import Environment\n",
    "from text2equation import resolve_equations\n",
    "from Q_learning import QLearningTrainer"
   ]
  },
  {
   "cell_type": "markdown",
   "id": "4d6a3d85-33dc-4af4-91d3-f17107c3c5aa",
   "metadata": {},
   "source": [
    "Reinforcement Learning (RL) is a type of machine learning paradigm where an agent learns to make decisions by interacting with an environment. The agent learns to achieve a goal or maximize a notion of cumulative reward through trial and error. In RL, an agent takes actions in an environment, receives feedback in the form of rewards or penalties, and then uses this information to adjust its future behavior.\n",
    "\n",
    "The library automatizes RL for custom systems. The jupyter notebook explains how to use it and the different inputs."
   ]
  },
  {
   "cell_type": "markdown",
   "id": "f5ec3a62-436f-45dd-9f1a-68d04a2bf112",
   "metadata": {},
   "source": [
    "Lets define the environment (system) with which the agent interacts. It could be a physical system or a virtual one. In this example we model a water reservoir. We want to open or close a pipe to mantain the water level to a specific value."
   ]
  },
  {
   "cell_type": "code",
   "execution_count": 2,
   "id": "87b0350f-6c81-4729-aae1-84ecbf7f7d15",
   "metadata": {},
   "outputs": [],
   "source": [
    "agent = Environment(\"../input/mono_agent.json\")"
   ]
  },
  {
   "cell_type": "markdown",
   "id": "aaff155a-610c-4211-9760-72ad34bd7632",
   "metadata": {},
   "source": [
    "# Input"
   ]
  },
  {
   "cell_type": "markdown",
   "id": "5ddce001-b891-4d5a-b4be-aeec094990bc",
   "metadata": {},
   "source": [
    "The JSON file contains various fields used as input for the script, defining both environment parameters and system rules.\r\n",
    "\r\n",
    "To view the raw file, you can use the argumen**t agent.js**on. The field names can be accessed using the command line agent.json.keys().\r\n",
    "\r\n",
    "Note: Fields that begin with \"_\" are considered as comme\r\n",
    "\r\n",
    "\r\n",
    "\r\n",
    "\r\n"
   ]
  },
  {
   "cell_type": "markdown",
   "id": "6875b417-6b8c-40c0-9690-5adb141521f7",
   "metadata": {},
   "source": [
    "## states_variables and  trigger_variables"
   ]
  },
  {
   "cell_type": "markdown",
   "id": "b57aa06c-f643-4647-b626-1d2f3d0a0830",
   "metadata": {},
   "source": [
    "reinforcement leaning can be viewed as a Markof Decision Process. Before to begin train, we must define different variables type.\n",
    "\n",
    "**states_variables** are features that will be used as coordinates. The state provides the necessary information for the agent to decide what action to take.In other hands, **trigger_variables** are features that are modified by an agent. \n",
    "\n",
    "NB: states_variables can include feature present in **trigger_variables** list."
   ]
  },
  {
   "cell_type": "markdown",
   "id": "59b6a487-a432-4487-b215-eec7e7e8edb8",
   "metadata": {},
   "source": [
    "## initial_values"
   ]
  },
  {
   "cell_type": "code",
   "execution_count": 3,
   "id": "523bf06e-624e-4eff-8d5c-ff195d9d5e14",
   "metadata": {},
   "outputs": [
    {
     "data": {
      "text/plain": [
       "{'X1': [0.0], 'U1': [0.0]}"
      ]
     },
     "execution_count": 3,
     "metadata": {},
     "output_type": "execute_result"
    }
   ],
   "source": [
    "agent.json[\"initial_values\"]"
   ]
  },
  {
   "cell_type": "markdown",
   "id": "44376835-ff20-4e3f-a17c-87164524c18a",
   "metadata": {},
   "source": [
    "This field countains variables (and their initial value) that define our system."
   ]
  },
  {
   "cell_type": "markdown",
   "id": "5bca14a6-aca3-42cb-96ce-eaf174738add",
   "metadata": {},
   "source": [
    "## limit"
   ]
  },
  {
   "cell_type": "code",
   "execution_count": 4,
   "id": "2a4f4c5b-ed06-4970-884e-5b25020a5eaf",
   "metadata": {},
   "outputs": [
    {
     "data": {
      "text/plain": [
       "{'X1': [0.0, 10.0, 11], 'U1': [0.0, 1.0, 2]}"
      ]
     },
     "execution_count": 4,
     "metadata": {},
     "output_type": "execute_result"
    }
   ],
   "source": [
    "agent.json[\"limit\"]"
   ]
  },
  {
   "cell_type": "markdown",
   "id": "5ded0a74-1c8c-4c29-8ced-580ed063cbd2",
   "metadata": {},
   "source": [
    "This fied specified limit system and how it is discretized.\n",
    "Each variable has a list with 3 argument:\n",
    "\n",
    "-minimum value\n",
    "\n",
    "-maximum value\n",
    "\n",
    "-number of bins"
   ]
  },
  {
   "cell_type": "markdown",
   "id": "6e4f1d1d-4be9-4383-9262-1b1dbe538d20",
   "metadata": {},
   "source": [
    "# n_action"
   ]
  },
  {
   "cell_type": "markdown",
   "id": "dd62f037-3d5e-417f-97d2-4bf9aa226a03",
   "metadata": {},
   "source": [
    "n_action is a dictionary specifying the decisions that agents can make. In this example 2 actions are possible\r\n",
    "\r\n",
    "\r\n"
   ]
  },
  {
   "cell_type": "code",
   "execution_count": 5,
   "id": "b692af31-d82a-4649-b0b5-1932c423c3d7",
   "metadata": {},
   "outputs": [
    {
     "data": {
      "text/plain": [
       "{'U1': {'0': 0.0, '1': 1.0}}"
      ]
     },
     "execution_count": 5,
     "metadata": {},
     "output_type": "execute_result"
    }
   ],
   "source": [
    "agent.json[\"n_action\"]"
   ]
  },
  {
   "cell_type": "markdown",
   "id": "bf3f5286-d696-4a7c-9497-9203425d732b",
   "metadata": {},
   "source": [
    "## action_to_take"
   ]
  },
  {
   "cell_type": "markdown",
   "id": "ddc05d5a-57a1-4b7a-908e-f04528fb1032",
   "metadata": {},
   "source": [
    "the field countains equations that model the agent after it took its decision. Equations are solved by using sympy library. Because we convert string to symboloic equation, it is important to delimiter variable. By default delimiter is $. \n",
    "\n",
    "You can change default delimiter during the initilisation:\n",
    "\n",
    "agent = Environment(json_file, delimiter = \"Char_you_want\")"
   ]
  },
  {
   "cell_type": "code",
   "execution_count": 6,
   "id": "ed7fdaa3",
   "metadata": {},
   "outputs": [
    {
     "data": {
      "text/plain": [
       "{'U1': {'$U1$': '$action$'}}"
      ]
     },
     "execution_count": 6,
     "metadata": {},
     "output_type": "execute_result"
    }
   ],
   "source": [
    "agent.json[\"action_to_take\"]"
   ]
  },
  {
   "cell_type": "markdown",
   "id": "f0637f9a-e1ec-41f1-a55f-ea3212410fe2",
   "metadata": {},
   "source": [
    "## equations_variables"
   ]
  },
  {
   "cell_type": "code",
   "execution_count": 7,
   "id": "9dc48727",
   "metadata": {},
   "outputs": [
    {
     "data": {
      "text/plain": [
       "{'$l$': '10.0',\n",
       " '$target$': '5.0',\n",
       " '$dX1$': '1 - $U1$ - ($X1$ - $target$)/$l$',\n",
       " '$X1$': '$X1$ + $dX1$',\n",
       " '$U1$': '$U1$'}"
      ]
     },
     "execution_count": 7,
     "metadata": {},
     "output_type": "execute_result"
    }
   ],
   "source": [
    "agent.json[\"equations_variables\"]"
   ]
  },
  {
   "cell_type": "markdown",
   "id": "cbdaf44a-c4ce-40ec-af05-03c2909ce6c8",
   "metadata": {},
   "source": [
    "## equations_rewards"
   ]
  },
  {
   "cell_type": "markdown",
   "id": "cc75df30-0218-4002-92e2-5cbe130c5d25",
   "metadata": {},
   "source": [
    "The reward indicates the immediate benefit or cost associated with the action.\n",
    "The scalar feedback signal that the environment sends to the agent after it takes an action are defined into this dictionnary.\n",
    "\n",
    "NB: \"\\$target\\$\" is not a agent but a temporary variable. Its value is used in the reward of the agent \"\\$U1\\$\" "
   ]
  },
  {
   "cell_type": "code",
   "execution_count": 8,
   "id": "b9052286",
   "metadata": {},
   "outputs": [
    {
     "data": {
      "text/plain": [
       "{'$target$': '5.0', '$U1$': '-1 * ($X1$ - $target$)^2'}"
      ]
     },
     "execution_count": 8,
     "metadata": {},
     "output_type": "execute_result"
    }
   ],
   "source": [
    "agent.json[\"equations_rewards\"]"
   ]
  },
  {
   "cell_type": "markdown",
   "id": "c14b4de8-c4c6-4915-a52b-ba531475d1b5",
   "metadata": {},
   "source": [
    "# Reinforcemet learning"
   ]
  },
  {
   "cell_type": "markdown",
   "id": "25aa4894-2e53-474f-9170-858822872162",
   "metadata": {},
   "source": [
    "After load our environment, next step is to create QLearningTrainer objet. It will apply Qlearning algorithm. For each states, the algorithm will apply a score base to the next iteration."
   ]
  },
  {
   "cell_type": "markdown",
   "id": "ff7441f8-a09d-4861-8e6c-dc71003a8e9e",
   "metadata": {},
   "source": [
    "The Bellman equation is the value function use in reinforcement learning. \n",
    "\n",
    "$v(s) = (1−\\alpha) * V(s)+ \\alpha * (R+\\gamma * V(s'))$\n",
    "\n",
    "Where:\n",
    "\n",
    "* $V(s)$ is the estimated value of state $s$ * $s$ is the curent state\n",
    "* $s'$ is the next state.\n",
    "* $R$ is the immediate reward received after transitioning from state $s$ to state\n",
    "* $\\gamma$ is the discount factor, which determines the importance of future rewards.\n",
    "* $\\alpha$ is the learning rate.\n",
    "s.l difference (TD) learning methods."
   ]
  },
  {
   "cell_type": "code",
   "execution_count": 9,
   "id": "7a2c3d2b-5f3c-4013-89d2-a6068d870ac6",
   "metadata": {},
   "outputs": [],
   "source": [
    "RL = QLearningTrainer(agent)"
   ]
  },
  {
   "cell_type": "markdown",
   "id": "24ad6dfb-3919-46e3-a58c-64370dae7b53",
   "metadata": {},
   "source": [
    "Different parameters are avaible. For the tutorial, you use default parameters. Before to lunch training. Lets discus about the input parameters."
   ]
  },
  {
   "cell_type": "markdown",
   "id": "3e6b8e0b-b89b-4cc5-a1cc-e718ffcb8760",
   "metadata": {},
   "source": [
    "## Learning rate ($\\alpha$)"
   ]
  },
  {
   "cell_type": "markdown",
   "id": "aed5df06-0d9f-4e80-acae-2e6b94f3903a",
   "metadata": {},
   "source": [
    "The learning rate $\\alpha$ in the Bellman equation controls the weight given to the new estimate compared to the existing estimate of the state value. A smaller learning rate means that the new estimate has less influence, and the agent is more conservative in updating its value function. A larger learning rate allows the agent to adjust its estimates more rapidly based on new information"
   ]
  },
  {
   "cell_type": "markdown",
   "id": "bad352bb-4385-4a2f-a4fe-c5ed76f8267f",
   "metadata": {},
   "source": [
    "## Discount factor ($\\gamma$)"
   ]
  },
  {
   "cell_type": "markdown",
   "id": "54fea9f2-21ec-42fd-b871-0dfd5a3449a0",
   "metadata": {},
   "source": [
    "## Epsilon ($\\epsilon$) parameter "
   ]
  },
  {
   "cell_type": "markdown",
   "id": "56660319-b655-498a-886d-b2dc21897804",
   "metadata": {},
   "source": [
    "Exploration-exploitation is a fundamental trade-off in reinforcement learning, where the agent needs to balance between exploring new actions and exploiting the knowledge it has gained so far.\r\n",
    "\r\n",
    "The epsilon-greedy policy is a simple strategy that the agent uses to decide whether to explore a new action (random exploration) or exploit the current best-known actionIt helps prevent the agent from getting stuck in suboptimal policies by occasionally trying new actions. The value of epsilon determines the probabilty the agent chooses a random action. A higher epsilon encourages more exploration, while a lower epsilon emphasizes exploitation of the current best-known actions.ent knowledge."
   ]
  },
  {
   "cell_type": "markdown",
   "id": "7ea2b946-edf4-4039-903b-b65884e4c67e",
   "metadata": {},
   "source": [
    "The epsilon parameter is decayed over time during training. This means that, as the agent gains more experience, it tends to rely more on exploitation and less on exploration. The idea is that, as the agent learns and becomes more confident in its estimates, it gradually reduces the rate of exploration. \n",
    "\n",
    "Epsilon initailization is made with the argument **exploration_prob**. It is a list with the lowest and the highest probability values. The probability will decrease with a rate given by the argument **decrease_prob_exp**. By default epsilon is modeled with a linear decay but you can change it to a exponential decay."
   ]
  },
  {
   "cell_type": "code",
   "execution_count": 10,
   "id": "90058515-27ad-4678-8b3d-c0448ecc79ac",
   "metadata": {},
   "outputs": [
    {
     "data": {
      "image/png": "[encoded data removed]",
      "text/plain": [
       "<Figure size 640x480 with 1 Axes>"
      ]
     },
     "metadata": {},
     "output_type": "display_data"
    }
   ],
   "source": [
    "plt.plot(RL.give_epsilon(), label = \"linear decay\")\n",
    "plt.plot(RL.give_epsilon(decay_type = 'exponential'), label = \"exponential decay\")\n",
    "plt.title(\"Probability to choose a random action\")\n",
    "plt.legend()\n",
    "plt.xlabel(\"# episode\")\n",
    "plt.ylim([0, 1])\n",
    "plt.xlim([0, len(RL.give_epsilon())])\n",
    "plt.ylabel(\"Epsilon value\")\n",
    "plt.show()"
   ]
  },
  {
   "cell_type": "markdown",
   "id": "c94c7e34-b94c-40ed-8eb9-a8bf5f98cbba",
   "metadata": {},
   "source": [
    "# num_episodes, run_limit and convergence_criterion"
   ]
  },
  {
   "cell_type": "markdown",
   "id": "447f8bf1-f820-43de-8d03-bdc97740e600",
   "metadata": {},
   "source": [
    "The last three options are hyperparameters. They impact computation time. **num_episodes** is the maximum number of epochs used for training. **run_limit** controls the maximum number of iterations before stopping one episode. **convergence_criterion** is the threshold (difference score between two iterations) to determine convergence."
   ]
  },
  {
   "cell_type": "markdown",
   "id": "9600c7ff-1c24-4541-a9bc-0942fb8a712b",
   "metadata": {},
   "source": [
    "# Train"
   ]
  },
  {
   "cell_type": "markdown",
   "id": "4ee08c8d-94b6-4e6a-b674-5d1cd3af07d9",
   "metadata": {},
   "source": [
    "\n",
    "Before training, let's adjust some parameters to reduce computation time We fix number of episode to 40, convergence_criterion to 0.01 (instead of 0.001) and change decay_type to exponential."
   ]
  },
  {
   "cell_type": "code",
   "execution_count": 11,
   "id": "b3790504-ba80-47ef-b38d-3ea6fba7f666",
   "metadata": {},
   "outputs": [],
   "source": [
    "RL = QLearningTrainer(agent, num_episodes = 30, convergence_criterion = 0.01, decay_type = \"exponential\")"
   ]
  },
  {
   "cell_type": "code",
   "execution_count": 12,
   "id": "b66e4d7e-f39c-4689-a36d-9a54be5bf503",
   "metadata": {},
   "outputs": [
    {
     "name": "stdout",
     "output_type": "stream",
     "text": [
      "Episode 1/30\n",
      "exploration_prob : 1.000\n"
     ]
    },
    {
     "name": "stderr",
     "output_type": "stream",
     "text": [
      "C:\\Users\\jayse\\Desktop\\reinforcement_learning\\RL_engine\\notebook\\../src/utils\\Q_learning.py:177: FutureWarning: Setting an item of incompatible dtype is deprecated and will raise in a future error of pandas. Value '[-2.025]' has dtype incompatible with int64, please explicitly cast to a compatible dtype first.\n",
      "  self.q_table.loc[\n",
      "C:\\Users\\jayse\\Desktop\\reinforcement_learning\\RL_engine\\notebook\\../src/utils\\Q_learning.py:177: FutureWarning: Setting an item of incompatible dtype is deprecated and will raise in a future error of pandas. Value '[-0.93025]' has dtype incompatible with int64, please explicitly cast to a compatible dtype first.\n",
      "  self.q_table.loc[\n"
     ]
    },
    {
     "name": "stdout",
     "output_type": "stream",
     "text": [
      "end while loop iteration :  112\n",
      "Episode 2/30\n",
      "exploration_prob : 0.951\n",
      "end while loop iteration :  175\n",
      "Episode 3/30\n",
      "exploration_prob : 0.905\n",
      "end while loop iteration :  123\n",
      "Episode 4/30\n",
      "exploration_prob : 0.861\n",
      "end while loop iteration :  170\n",
      "Episode 5/30\n",
      "exploration_prob : 0.819\n",
      "end while loop iteration :  231\n",
      "Episode 6/30\n",
      "exploration_prob : 0.779\n",
      "end while loop iteration :  154\n",
      "Episode 7/30\n",
      "exploration_prob : 0.741\n",
      "end while loop iteration :  101\n",
      "Episode 8/30\n",
      "exploration_prob : 0.705\n",
      "end while loop iteration :  209\n",
      "Episode 9/30\n",
      "exploration_prob : 0.670\n",
      "end while loop iteration :  147\n",
      "Episode 10/30\n",
      "exploration_prob : 0.638\n",
      "end while loop iteration :  206\n",
      "Episode 11/30\n",
      "exploration_prob : 0.607\n",
      "end while loop iteration :  193\n",
      "Episode 12/30\n",
      "exploration_prob : 0.577\n",
      "end while loop iteration :  102\n",
      "Episode 13/30\n",
      "exploration_prob : 0.549\n",
      "end while loop iteration :  111\n",
      "Episode 14/30\n",
      "exploration_prob : 0.522\n",
      "end while loop iteration :  123\n",
      "Episode 15/30\n",
      "exploration_prob : 0.497\n",
      "end while loop iteration :  123\n",
      "Episode 16/30\n",
      "exploration_prob : 0.472\n",
      "end while loop iteration :  151\n",
      "Episode 17/30\n",
      "exploration_prob : 0.449\n",
      "end while loop iteration :  119\n",
      "Episode 18/30\n",
      "exploration_prob : 0.427\n",
      "end while loop iteration :  112\n",
      "Episode 19/30\n",
      "exploration_prob : 0.407\n",
      "end while loop iteration :  136\n",
      "Episode 20/30\n",
      "exploration_prob : 0.387\n",
      "end while loop iteration :  111\n",
      "Episode 21/30\n",
      "exploration_prob : 0.368\n",
      "end while loop iteration :  110\n",
      "Episode 22/30\n",
      "exploration_prob : 0.350\n",
      "end while loop iteration :  131\n",
      "Episode 23/30\n",
      "exploration_prob : 0.333\n",
      "end while loop iteration :  133\n",
      "Episode 24/30\n",
      "exploration_prob : 0.317\n",
      "end while loop iteration :  108\n",
      "Episode 25/30\n",
      "exploration_prob : 0.301\n",
      "end while loop iteration :  109\n",
      "Episode 26/30\n",
      "exploration_prob : 0.287\n",
      "end while loop iteration :  129\n",
      "Episode 27/30\n",
      "exploration_prob : 0.273\n",
      "end while loop iteration :  115\n",
      "Episode 28/30\n",
      "exploration_prob : 0.259\n",
      "end while loop iteration :  122\n",
      "Episode 29/30\n",
      "exploration_prob : 0.247\n",
      "end while loop iteration :  110\n",
      "Episode 30/30\n",
      "exploration_prob : 0.235\n",
      "end while loop iteration :  128\n"
     ]
    }
   ],
   "source": [
    "RL.q_learning()"
   ]
  },
  {
   "cell_type": "markdown",
   "id": "10b9052d-6886-4214-a16c-d9656a7aa745",
   "metadata": {},
   "source": [
    "To verify the proper convergence of our model, we can visualize the number of interactions for each episode. This number is expected to decrease over time as the agent gains more knowledge."
   ]
  },
  {
   "cell_type": "code",
   "execution_count": 13,
   "id": "223cbdb2-307a-4d27-a1b3-fd94a69ae682",
   "metadata": {},
   "outputs": [
    {
     "data": {
      "image/png": "[encoded data removed]",
      "text/plain": [
       "<Figure size 1000x600 with 1 Axes>"
      ]
     },
     "metadata": {},
     "output_type": "display_data"
    }
   ],
   "source": [
    "RL.plot_convergence()"
   ]
  },
  {
   "cell_type": "code",
   "execution_count": 14,
   "id": "c410d0d4-a54c-4579-a9a6-a00dd94b00ed",
   "metadata": {},
   "outputs": [
    {
     "data": {
      "text/html": [
       "<div>\n",
       "<style scoped>\n",
       "    .dataframe tbody tr th:only-of-type {\n",
       "        vertical-align: middle;\n",
       "    }\n",
       "\n",
       "    .dataframe tbody tr th {\n",
       "        vertical-align: top;\n",
       "    }\n",
       "\n",
       "    .dataframe thead tr th {\n",
       "        text-align: left;\n",
       "    }\n",
       "</style>\n",
       "<table border=\"1\" class=\"dataframe\">\n",
       "  <thead>\n",
       "    <tr>\n",
       "      <th></th>\n",
       "      <th colspan=\"2\" halign=\"left\">U1</th>\n",
       "    </tr>\n",
       "    <tr>\n",
       "      <th></th>\n",
       "      <th>0</th>\n",
       "      <th>1</th>\n",
       "    </tr>\n",
       "  </thead>\n",
       "  <tbody>\n",
       "    <tr>\n",
       "      <th>([0.0],)</th>\n",
       "      <td>-14.852250</td>\n",
       "      <td>-16.199899</td>\n",
       "    </tr>\n",
       "    <tr>\n",
       "      <th>([2.0],)</th>\n",
       "      <td>-2.425998</td>\n",
       "      <td>-3.352231</td>\n",
       "    </tr>\n",
       "    <tr>\n",
       "      <th>([3.0],)</th>\n",
       "      <td>-1.046374</td>\n",
       "      <td>-2.365483</td>\n",
       "    </tr>\n",
       "    <tr>\n",
       "      <th>([4.0],)</th>\n",
       "      <td>-0.643688</td>\n",
       "      <td>-0.614534</td>\n",
       "    </tr>\n",
       "    <tr>\n",
       "      <th>([5.0],)</th>\n",
       "      <td>-11.730173</td>\n",
       "      <td>-1.058257</td>\n",
       "    </tr>\n",
       "    <tr>\n",
       "      <th>([6.0],)</th>\n",
       "      <td>-20.036004</td>\n",
       "      <td>-14.608736</td>\n",
       "    </tr>\n",
       "    <tr>\n",
       "      <th>([7.0],)</th>\n",
       "      <td>-44.796377</td>\n",
       "      <td>-18.517358</td>\n",
       "    </tr>\n",
       "    <tr>\n",
       "      <th>([8.0],)</th>\n",
       "      <td>-43.910931</td>\n",
       "      <td>-48.274129</td>\n",
       "    </tr>\n",
       "    <tr>\n",
       "      <th>([9.0],)</th>\n",
       "      <td>-26.129901</td>\n",
       "      <td>-41.187090</td>\n",
       "    </tr>\n",
       "    <tr>\n",
       "      <th>([10.0],)</th>\n",
       "      <td>0.000000</td>\n",
       "      <td>-43.369083</td>\n",
       "    </tr>\n",
       "    <tr>\n",
       "      <th>([1.0],)</th>\n",
       "      <td>-4.743590</td>\n",
       "      <td>-6.089804</td>\n",
       "    </tr>\n",
       "  </tbody>\n",
       "</table>\n",
       "</div>"
      ],
      "text/plain": [
       "                  U1           \n",
       "                   0          1\n",
       "([0.0],)  -14.852250 -16.199899\n",
       "([2.0],)   -2.425998  -3.352231\n",
       "([3.0],)   -1.046374  -2.365483\n",
       "([4.0],)   -0.643688  -0.614534\n",
       "([5.0],)  -11.730173  -1.058257\n",
       "([6.0],)  -20.036004 -14.608736\n",
       "([7.0],)  -44.796377 -18.517358\n",
       "([8.0],)  -43.910931 -48.274129\n",
       "([9.0],)  -26.129901 -41.187090\n",
       "([10.0],)   0.000000 -43.369083\n",
       "([1.0],)   -4.743590  -6.089804"
      ]
     },
     "execution_count": 14,
     "metadata": {},
     "output_type": "execute_result"
    }
   ],
   "source": [
    "RL.q_table"
   ]
  }
 ],
 "metadata": {
  "kernelspec": {
   "display_name": "Python 3 (ipykernel)",
   "language": "python",
   "name": "python3"
  },
  "language_info": {
   "codemirror_mode": {
    "name": "ipython",
    "version": 3
   },
   "file_extension": ".py",
   "mimetype": "text/x-python",
   "name": "python",
   "nbconvert_exporter": "python",
   "pygments_lexer": "ipython3",
   "version": "3.10.11"
  }
 },
 "nbformat": 4,
 "nbformat_minor": 5
}

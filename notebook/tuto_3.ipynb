{
 "cells": [
  {
   "cell_type": "code",
   "execution_count": 1,
   "id": "c30a7c5c-5ee2-4210-aec8-521c672a54ca",
   "metadata": {},
   "outputs": [],
   "source": [
    "import matplotlib.pyplot as plt\n",
    "import numpy as np\n",
    "import sys\n",
    "import warnings\n",
    "import plotly.express as px \n",
    "from plotly.subplots import make_subplots\n",
    "import plotly.graph_objects as go\n",
    "warnings.simplefilter(action='ignore', category=FutureWarning)\n",
    "import pandas as pd\n",
    "pd.set_option('display.max_columns', None)\n",
    "import plotly.express as px \n",
    "import pickle\n",
    "import matplotlib.animation as animation\n",
    "import kaleido \n",
    "import imageio\n",
    "sys.path.insert(1, \"../src/utils/\")\n",
    "from agent import Environment\n",
    "from Q_learning import QLearningTrainer\n",
    "sys.path.insert(1, \"plotly_graph/\")\n",
    "from functions4tuto import plot_RL_2agents, plot_obstacle_penalty, plot_RL_2agents_comparaison, plot_reward_rocket_2agents\n",
    "JOSN_file = \"rocket_tuto_3.json\"\n",
    "JOSN_file2 = \"rocket_tuto_3bis.json\""
   ]
  },
  {
   "cell_type": "markdown",
   "id": "b540f1bd",
   "metadata": {},
   "source": [
    "# <span style=\"color:orange\">Goal</span>\n",
    "\n",
    "The purpose of this tutorial is to land a rocket at a specific coordinate by adjusting its angle and booster power.\n",
    "To control these variables effectively, we will use reinforcement learning to train the rocket to learn an optimal landing strategy through trial and error."
   ]
  },
  {
   "cell_type": "markdown",
   "id": "c79d7405-5fcf-45ee-8abf-c1af457b58b9",
   "metadata": {},
   "source": [
    "# <span style=\"color:orange\">Intialize environment</span>\n",
    "\n",
    "Create an environment object with the rules defined previously. The idea is to check the new field can raise a flag to stop simulation when the criteria are reached:\n",
    "\n",
    "* 130 <= pos_x <= 150\n",
    "* 0 <= pos_y <= 10\n",
    "* -2 <= acceleration_y <= 2\n",
    "* -10 <= speed_x >= 10 \n",
    "* -10 <= speed_y >= 10 \n",
    "\n",
    "We will also control the speed of the rocket and its acceleration to keep as possible those parameters between this range:\n",
    "\n",
    "* -15 <= speed_x <= 15\n",
    "* -15 <= speed_y <= 15\n",
    "* -10 <= acceleration_x <= 10\n",
    "* -10 <= acceleration_y <= 10"
   ]
  },
  {
   "cell_type": "code",
   "execution_count": 2,
   "id": "a104d725",
   "metadata": {},
   "outputs": [
    {
     "name": "stdout",
     "output_type": "stream",
     "text": [
      "check order names for states_variables\n",
      "\n",
      "Check order names for agent_variables\n",
      "\n",
      "check limit number of field\n",
      "\n",
      "Check limit boundaries for initial state\n",
      "\n",
      "Solve equations present in equations_variables field\n",
      "\n",
      "Solve equations present in equations_rewards field\n",
      "\n",
      "Everything is good :)\n"
     ]
    }
   ],
   "source": [
    "env = Environment(JOSN_file, check_model = True)\n",
    "RL = QLearningTrainer(env, num_episodes = 2000, convergence_criterion = 0.05, \n",
    "                      decay_type = \"exponential\", decrease_prob_exp = 0.005)"
   ]
  },
  {
   "cell_type": "markdown",
   "id": "b7c5f055",
   "metadata": {},
   "source": [
    "# <span style=\"color:orange\">Rewards</span>\n",
    "\n",
    "It may seem obvious, but designing a good reward function is a critical step in reinforcement learning. The goal is to encourage the system to move toward a desired outcome, while also discouraging undesirable behavior through penalties.\n",
    "For example, in our case, the primary component of the reward function is based on distance, as the rocket approaches its target, the reward increases. On the other hand, we can introduce penalty terms to limit the rocket's speed (to avoid crashes), reduce fuel consumption, and control the rocket's angle.\n",
    "\n",
    "To model these components, you can use various mathematical operators and functions. However, to make the agent's decision-making easier to interpret and to facilitate convergence during training, I recommend scaling all reward components to a similar range. This ensures that no single component dominates unintentionally. Once scaled, you can also assign weights to each component to reflect their relative importance in your objective.\n",
    "\n",
    "Before to use reinforcement learning. , let's first understand how the agent's reward and its individual components evolve. As a reminder. \n",
    "\n",
    "* The reward formula for the booster is:\n",
    "\n",
    "$$  -2 * distance_{y\\_reward} + speed_{y\\_reward} + 0.5 * ratio_{fuel} $$\n",
    "\n",
    "* The reward formula for the alpha (rocket's angle) is:\n",
    "\n",
    "$$  -2 * distance_{x\\_reward} + speed_{x\\_reward} - 0.2* sin(|angle|) + 0.5 * ratio_{fuel} $$ \n",
    "\n",
    "\n",
    "where\n",
    "\n",
    "* Distance reward: the ratio between the current distance to the target and the initial distance at time $t=0$. It reflects how far the rocket is from the landing target.\n",
    "* speed reward: a penalty applied when the absolute speed (on a given axis) exceeds a threshold. The further the speed is from the desired range, the larger the penalty.\n",
    "* angle: Penalty for the rocket's angular deviation from vertical.\n",
    "* $ratio\\_fuel$: normalized fuel quantity ($\\frac{m\\_fuel}{m\\_fuel_{t=0}}$)\n",
    "\n",
    "\n",
    "Fuel consumption depends on both booster and alpha agents:\n",
    "\n",
    "* When the booster is activated: If the booster level is 1 or 2, fuel decreases by 5 or 10 units, respectively.\n",
    "\n",
    "* When the rocket's alpha (lateral boosters that control rocket's angle) is not zero: An additional 5 units of fuel are consumed."
   ]
  },
  {
   "cell_type": "markdown",
   "id": "83640060",
   "metadata": {},
   "source": [
    "## <span style=\"color:orange\">Reinforcemet learning</span>\n",
    "\n",
    "\n",
    "After load our environment, next step is to create QLearningTrainer objet. It will apply Qlearning algorithm. For each states, the algorithm will apply a score base to the next iteration.\n",
    "\n",
    "The Bellman equation is the value function use in reinforcement learning. \n",
    "\n",
    "$V(s,a) = V(s, a)+ \\alpha * (R+\\gamma * max(V(s', a')) - V(s, a))$\n",
    "\n",
    "Where:\n",
    "\n",
    "* $V(s, a)$ is the estimated value of state $s$ and actions $a$\n",
    "* $s$ is the curent state\n",
    "* $s'$ is the next state\n",
    "* $a$ is action taken\n",
    "* $a'$ next possible actions that maximize reward\n",
    "* $R$ is the immediate reward received after transitioning\n",
    "* $\\gamma$ is the discount factor, which determines the importance of future rewards.\n",
    "* $\\alpha$ is the learning rate."
   ]
  },
  {
   "cell_type": "markdown",
   "id": "d0d31355",
   "metadata": {},
   "source": [
    "Different parameters are avaible. For the tutorial, you use default parameters. Before to lunch training. Lets discus about the input parameters."
   ]
  },
  {
   "cell_type": "markdown",
   "id": "fa7edb26",
   "metadata": {},
   "source": [
    "### <span style=\"color:orange\">Learning rate</span>\n",
    "\n",
    "\n",
    "The learning rate $\\alpha$ in the Bellman equation controls the weight given to the new estimate compared to the existing estimate of the state value. A smaller learning rate means that the new estimate has less influence, and the agent is more conservative in updating its value function. A larger learning rate allows the agent to adjust its estimates more rapidly based on new information\n",
    "\n",
    "### <span style=\"color:orange\">Discount factor (gamma)</span>\n",
    "\n",
    "The discount factor $\\gamma$, is a key hyperparameter that controls how much the agent values future rewards compared to immediate rewards. For rocket landing, $\\gamma$ equal to 0.99, since we are optimizing over multiple steps to reach a safe landing.\n",
    "\n",
    "### <span style=\"color:orange\">Epsilon parameter</span>\n",
    "\n",
    "Exploration-exploitation is a fundamental trade-off in reinforcement learning, where the agent needs to balance between exploring new actions and exploiting the knowledge it has gained so far.\n",
    "\n",
    "The epsilon-greedy policy is a simple strategy that the agent uses to decide whether to explore a new action (random exploration) or exploit the current best-known action. It helps prevent the agent from getting stuck in suboptimal policies by occasionally trying new actions. The value of epsilon determines the probabilty the agent chooses a random action. A higher epsilon encourages more exploration, while a lower epsilon emphasizes exploitation of the current best-known actions.ent knowledge.\n",
    "\n",
    "The epsilon parameter is decayed over time during training. This means that, as the agent gains more experience, it tends to rely more on exploitation and less on exploration. The idea is that, as the agent learns and becomes more confident in its estimates, it gradually reduces the rate of exploration. \n",
    "\n",
    "Epsilon initailization is made with the argument **exploration_prob**. It is a list with the lowest and the highest probability values. The probability will decrease with a rate given by the argument **decrease_prob_exp**. By default epsilon is modeled with a linear decay but you can change it to a exponential decay.\n"
   ]
  },
  {
   "cell_type": "code",
   "execution_count": 3,
   "id": "716ece49",
   "metadata": {},
   "outputs": [
    {
     "data": {
      "image/png": "[encoded data removed]",
      "text/plain": [
       "<Figure size 640x480 with 1 Axes>"
      ]
     },
     "metadata": {},
     "output_type": "display_data"
    }
   ],
   "source": [
    "plt.plot(RL.get_epsilon(decay_type = 'linear')[0:800], label = \"linear decay\")\n",
    "plt.plot(RL.get_epsilon(decay_type = 'exponential')[0:800], label = \"exponential decay\")\n",
    "plt.title(\"Probability to choose a random action\")\n",
    "plt.legend()\n",
    "plt.xlabel(\"# episode\")\n",
    "plt.ylabel(\"Epsilon value\")\n",
    "plt.show()"
   ]
  },
  {
   "cell_type": "markdown",
   "id": "a9dec7d9",
   "metadata": {},
   "source": [
    "### <span style=\"color:orange\">num_episodes, run_limit and convergence_criterion</span>\n",
    "\n",
    "The last three options are hyperparameters that impact computation time:\n",
    "* ``num_episodes``: The maximum number of training episodes.\n",
    "* ``run_limit``: The maximum number of iterations allowed within a single episode before it is forcefully stopped.\n",
    "* ``convergence_criterion``: The threshold used to determine convergence, based on the difference in Q-values between two iterations.\n"
   ]
  },
  {
   "cell_type": "markdown",
   "id": "2498998b",
   "metadata": {},
   "source": [
    "Before launching the training, it's important to understand that the Q-learning algorithm operates in a discretized space.\n",
    "The spacing between bins can significantly impact convergence. If a discretized bin groups together too many different underlying states, the Q-table may become unstable, making it difficult for the algorithm to converge.\n",
    "\n",
    "Let's examine how our space is discretized using ``RL.env.json[\"limit\"]``.\n",
    "The agents variable (booster and alpha) have 3 bins, while the state variables \"pos_x\", \"pos_y\", \"angle\", \"speed_x\", \"speed_y\", \"weight_rocket\" have 61, 81, 3, 13, 13, and 62 bins, respectively.\n",
    "\n",
    "This results in a Q-table with:\n",
    "Our Q table is composed of $$ 3 * 3 * 61 * 81 * 3 * 13 * 13 * 62 = 1.4 *10^9\\  states $$\n",
    "\n",
    "Does that mean our system will visit every possible state?\n",
    "Of course not. Remember, the Q-learning algorithm starts with a random exploration (a random walk), but over time, the agent’s exploration becomes guided by what it has already experienced.\n",
    "As a result, some states may never be visited if the agent never finds a path leading to them or if they are not useful for improving the policy."
   ]
  },
  {
   "cell_type": "markdown",
   "id": "eda2edae",
   "metadata": {},
   "source": [
    "# <span style=\"color:orange\">Training</span>\n",
    "\n",
    "You can also load a pre-trained RL object (trained ouput are stored in ``saved_model/output_train_2agents.txt``). If you want to generate the model from scratch, start training with the command: ``RL.q_learning()``. Before to lunch it, note it will take around 40-50 min to execute 2000 episodes."
   ]
  },
  {
   "cell_type": "code",
   "execution_count": 4,
   "id": "c1f78df8",
   "metadata": {},
   "outputs": [],
   "source": [
    "with open('saved_model/tuto3/RL_2agents.pkl', 'rb') as f:\n",
    "    RL = pickle.load(f)"
   ]
  },
  {
   "cell_type": "code",
   "execution_count": 5,
   "id": "d4d6dd21",
   "metadata": {},
   "outputs": [],
   "source": [
    "#RL.q_learning()\n",
    "# #save model\n",
    "# pickle.dump(RL, open(\"saved_model/tuto3/RL_2agents.pkl\", 'wb'))"
   ]
  },
  {
   "cell_type": "code",
   "execution_count": 6,
   "id": "ccf49332",
   "metadata": {},
   "outputs": [
    {
     "data": {
      "image/png": "[encoded data removed]",
      "text/plain": [
       "<Figure size 640x480 with 1 Axes>"
      ]
     },
     "metadata": {},
     "output_type": "display_data"
    },
    {
     "data": {
      "image/png": "[encoded data removed]",
      "text/plain": [
       "<Figure size 640x480 with 1 Axes>"
      ]
     },
     "metadata": {},
     "output_type": "display_data"
    }
   ],
   "source": [
    "RL.plot_convergence()\n",
    "RL.plot_convergence(len(RL.loss_episodes) -20)"
   ]
  },
  {
   "cell_type": "markdown",
   "id": "6b147f16",
   "metadata": {},
   "source": [
    "If you loaded the pre-trained model, you'll see that training stopped at episode 496. For the last five iterations the difference between $Qtable_N - Qtable_{N-1}$ remained bellow the convergence threshold (convergence_criterion = 0.5), indicating that the learning process had stabilized."
   ]
  },
  {
   "cell_type": "markdown",
   "id": "74e98947",
   "metadata": {},
   "source": [
    "Let’s find out how many states we actually explored.\n",
    "To do this, we replace Q-table values equal to 0 with np.nan.\n",
    "(Except for goal-reaching states in our setup, a value of 0 typically means the state was never explored.)"
   ]
  },
  {
   "cell_type": "code",
   "execution_count": 7,
   "id": "386f59b4",
   "metadata": {},
   "outputs": [
    {
     "name": "stdout",
     "output_type": "stream",
     "text": [
      "Number of states explored 1903. Only 0.00014% states have been visited\n"
     ]
    }
   ],
   "source": [
    "states_explored = np.sum(RL.q_table.copy().replace(0, np.nan).count())\n",
    "print(\"Number of states explored {0}.\\\n",
    " Only {1:.5f}% states have been visited\".format(\n",
    "    states_explored,\n",
    "    states_explored/1397838546 *100))"
   ]
  },
  {
   "cell_type": "markdown",
   "id": "6283ed02",
   "metadata": {},
   "source": [
    "# <span style=\"color:orange\">Optimal trajectory</span>\n",
    "\n",
    "Let’s see how the rocket evolves after training.\n",
    "We start by copying the Q-table using the ``q_table`` attribute, and we replace all 0 values with ``np.nan`` to better visualize learned values.\n",
    "\n",
    "Next, we load a new environment and use its current discretized state as the starting point.\n",
    "At each iteration, we follow the action suggested by the Q-table based on the environment’s current discretized state, which is updated after every step. At the end, we save all the states visited into a data frame (dt)"
   ]
  },
  {
   "cell_type": "code",
   "execution_count": 8,
   "id": "e02f5c9b",
   "metadata": {},
   "outputs": [
    {
     "name": "stdout",
     "output_type": "stream",
     "text": [
      "stop episode because agent reach goal\n",
      "stop: reach goal\n"
     ]
    }
   ],
   "source": [
    "# load policy table\n",
    "policy = RL.q_table.copy().replace(0, np.nan)\n",
    "# load environnment\n",
    "env = Environment(JOSN_file, check_model = False)\n",
    "state = env.state_for_q_table()\n",
    "flag_continue = True\n",
    "while flag_continue:\n",
    "    # control while loop\n",
    "    if not policy.index.isin([str(state)]).any():\n",
    "        flag_continue = False\n",
    "        print(\"stop: no moore state\")\n",
    "        #env.delete_last_states()\n",
    "        continue\n",
    "    elif env.pos_y[-1] >= 0 and env.pos_y[-1] <= 10 and env.pos_x[-1] >= 135 and env.pos_x[-1] <= 145:\n",
    "        print(\"stop: reach goal\")\n",
    "        # env.delete_last_states()\n",
    "        flag_continue = False\n",
    "        continue\n",
    "    else:\n",
    "        action = RL.call_choose_action(state, 0)\n",
    "        _, rewards, done, problem, info = env.step(action)\n",
    "        state = env.state_for_q_table()\n",
    "\n",
    "dt = pd.DataFrame(env.all_states())"
   ]
  },
  {
   "cell_type": "code",
   "execution_count": 9,
   "id": "f75b791d",
   "metadata": {},
   "outputs": [
    {
     "data": {
      "application/vnd.plotly.v1+json": {
       "config": {
        "plotlyServerURL": "https://plot.ly"
       },
       "data": [
        {
         "line": {
          "color": "blue"
         },
         "marker": {
          "size": 8
         },
         "mode": "lines+markers",
         "name": "Rocket Path",
         "type": "scatter",
         "x": [
          75
         ],
         "y": [
          175
         ]
        },
        {
         "marker": {
          "color": "red",
          "size": 12,
          "symbol": "x"
         },
         "mode": "markers+text",
         "name": "Goal",
         "text": [
          "Goal"
         ],
         "textposition": "top center",
         "type": "scatter",
         "x": [
          140
         ],
         "y": [
          0
         ]
        }
       ],
       "frames": [
        {
         "data": [
          {
           "line": {
            "color": "blue"
           },
           "marker": {
            "size": 8
           },
           "mode": "lines+markers",
           "name": "Rocket Path",
           "type": "scatter",
           "x": [
            75
           ],
           "y": [
            175
           ]
          },
          {
           "marker": {
            "color": "red",
            "size": 12,
            "symbol": "x"
           },
           "mode": "markers+text",
           "name": "Goal",
           "text": [
            "Goal"
           ],
           "textposition": "top center",
           "type": "scatter",
           "x": [
            140
           ],
           "y": [
            0
           ]
          }
         ],
         "name": "0"
        },
        {
         "data": [
          {
           "line": {
            "color": "blue"
           },
           "marker": {
            "size": 8
           },
           "mode": "lines+markers",
           "name": "Rocket Path",
           "type": "scatter",
           "x": [
            75,
            86.47769745439237
           ],
           "y": [
            175,
            160.22730734955465
           ]
          },
          {
           "marker": {
            "color": "red",
            "size": 12,
            "symbol": "x"
           },
           "mode": "markers+text",
           "name": "Goal",
           "text": [
            "Goal"
           ],
           "textposition": "top center",
           "type": "scatter",
           "x": [
            140
           ],
           "y": [
            0
           ]
          }
         ],
         "name": "1"
        },
        {
         "data": [
          {
           "line": {
            "color": "blue"
           },
           "marker": {
            "size": 8
           },
           "mode": "lines+markers",
           "name": "Rocket Path",
           "type": "scatter",
           "x": [
            75,
            86.47769745439237,
            109.4330923631771
           ],
           "y": [
            175,
            160.22730734955465,
            130.68192204866395
           ]
          },
          {
           "marker": {
            "color": "red",
            "size": 12,
            "symbol": "x"
           },
           "mode": "markers+text",
           "name": "Goal",
           "text": [
            "Goal"
           ],
           "textposition": "top center",
           "type": "scatter",
           "x": [
            140
           ],
           "y": [
            0
           ]
          }
         ],
         "name": "2"
        },
        {
         "data": [
          {
           "line": {
            "color": "blue"
           },
           "marker": {
            "size": 8
           },
           "mode": "lines+markers",
           "name": "Rocket Path",
           "type": "scatter",
           "x": [
            75,
            86.47769745439237,
            109.4330923631771,
            132.38848727196182
           ],
           "y": [
            175,
            160.22730734955465,
            130.68192204866395,
            91.76826088570428
           ]
          },
          {
           "marker": {
            "color": "red",
            "size": 12,
            "symbol": "x"
           },
           "mode": "markers+text",
           "name": "Goal",
           "text": [
            "Goal"
           ],
           "textposition": "top center",
           "type": "scatter",
           "x": [
            140
           ],
           "y": [
            0
           ]
          }
         ],
         "name": "3"
        },
        {
         "data": [
          {
           "line": {
            "color": "blue"
           },
           "marker": {
            "size": 8
           },
           "mode": "lines+markers",
           "name": "Rocket Path",
           "type": "scatter",
           "x": [
            75,
            86.47769745439237,
            109.4330923631771,
            132.38848727196182,
            143.04634919389758
           ],
           "y": [
            175,
            160.22730734955465,
            130.68192204866395,
            91.76826088570428,
            55.429867449484185
           ]
          },
          {
           "marker": {
            "color": "red",
            "size": 12,
            "symbol": "x"
           },
           "mode": "markers+text",
           "name": "Goal",
           "text": [
            "Goal"
           ],
           "textposition": "top center",
           "type": "scatter",
           "x": [
            140
           ],
           "y": [
            0
           ]
          }
         ],
         "name": "4"
        },
        {
         "data": [
          {
           "line": {
            "color": "blue"
           },
           "marker": {
            "size": 8
           },
           "mode": "lines+markers",
           "name": "Rocket Path",
           "type": "scatter",
           "x": [
            75,
            86.47769745439237,
            109.4330923631771,
            132.38848727196182,
            143.04634919389758,
            141.4066781289844
           ],
           "y": [
            175,
            160.22730734955465,
            130.68192204866395,
            91.76826088570428,
            55.429867449484185,
            22.89279537985042
           ]
          },
          {
           "marker": {
            "color": "red",
            "size": 12,
            "symbol": "x"
           },
           "mode": "markers+text",
           "name": "Goal",
           "text": [
            "Goal"
           ],
           "textposition": "top center",
           "type": "scatter",
           "x": [
            140
           ],
           "y": [
            0
           ]
          }
         ],
         "name": "5"
        },
        {
         "data": [
          {
           "line": {
            "color": "blue"
           },
           "marker": {
            "size": 8
           },
           "mode": "lines+markers",
           "name": "Rocket Path",
           "type": "scatter",
           "x": [
            75,
            86.47769745439237,
            109.4330923631771,
            132.38848727196182,
            143.04634919389758,
            141.4066781289844,
            139.7670070640712
           ],
           "y": [
            175,
            160.22730734955465,
            130.68192204866395,
            91.76826088570428,
            55.429867449484185,
            22.89279537985042,
            0.32670863516423765
           ]
          },
          {
           "marker": {
            "color": "red",
            "size": 12,
            "symbol": "x"
           },
           "mode": "markers+text",
           "name": "Goal",
           "text": [
            "Goal"
           ],
           "textposition": "top center",
           "type": "scatter",
           "x": [
            140
           ],
           "y": [
            0
           ]
          }
         ],
         "name": "6"
        }
       ],
       "layout": {
        "height": 600,
        "sliders": [
         {
          "steps": [
           {
            "args": [
             [
              "0"
             ],
             {
              "frame": {
               "duration": 0
              },
              "mode": "immediate"
             }
            ],
            "label": "0",
            "method": "animate"
           },
           {
            "args": [
             [
              "1"
             ],
             {
              "frame": {
               "duration": 0
              },
              "mode": "immediate"
             }
            ],
            "label": "1",
            "method": "animate"
           },
           {
            "args": [
             [
              "2"
             ],
             {
              "frame": {
               "duration": 0
              },
              "mode": "immediate"
             }
            ],
            "label": "2",
            "method": "animate"
           },
           {
            "args": [
             [
              "3"
             ],
             {
              "frame": {
               "duration": 0
              },
              "mode": "immediate"
             }
            ],
            "label": "3",
            "method": "animate"
           },
           {
            "args": [
             [
              "4"
             ],
             {
              "frame": {
               "duration": 0
              },
              "mode": "immediate"
             }
            ],
            "label": "4",
            "method": "animate"
           },
           {
            "args": [
             [
              "5"
             ],
             {
              "frame": {
               "duration": 0
              },
              "mode": "immediate"
             }
            ],
            "label": "5",
            "method": "animate"
           },
           {
            "args": [
             [
              "6"
             ],
             {
              "frame": {
               "duration": 0
              },
              "mode": "immediate"
             }
            ],
            "label": "6",
            "method": "animate"
           }
          ]
         }
        ],
        "template": {
         "data": {
          "bar": [
           {
            "error_x": {
             "color": "#2a3f5f"
            },
            "error_y": {
             "color": "#2a3f5f"
            },
            "marker": {
             "line": {
              "color": "#E5ECF6",
              "width": 0.5
             },
             "pattern": {
              "fillmode": "overlay",
              "size": 10,
              "solidity": 0.2
             }
            },
            "type": "bar"
           }
          ],
          "barpolar": [
           {
            "marker": {
             "line": {
              "color": "#E5ECF6",
              "width": 0.5
             },
             "pattern": {
              "fillmode": "overlay",
              "size": 10,
              "solidity": 0.2
             }
            },
            "type": "barpolar"
           }
          ],
          "carpet": [
           {
            "aaxis": {
             "endlinecolor": "#2a3f5f",
             "gridcolor": "white",
             "linecolor": "white",
             "minorgridcolor": "white",
             "startlinecolor": "#2a3f5f"
            },
            "baxis": {
             "endlinecolor": "#2a3f5f",
             "gridcolor": "white",
             "linecolor": "white",
             "minorgridcolor": "white",
             "startlinecolor": "#2a3f5f"
            },
            "type": "carpet"
           }
          ],
          "choropleth": [
           {
            "colorbar": {
             "outlinewidth": 0,
             "ticks": ""
            },
            "type": "choropleth"
           }
          ],
          "contour": [
           {
            "colorbar": {
             "outlinewidth": 0,
             "ticks": ""
            },
            "colorscale": [
             [
              0,
              "#0d0887"
             ],
             [
              0.1111111111111111,
              "#46039f"
             ],
             [
              0.2222222222222222,
              "#7201a8"
             ],
             [
              0.3333333333333333,
              "#9c179e"
             ],
             [
              0.4444444444444444,
              "#bd3786"
             ],
             [
              0.5555555555555556,
              "#d8576b"
             ],
             [
              0.6666666666666666,
              "#ed7953"
             ],
             [
              0.7777777777777778,
              "#fb9f3a"
             ],
             [
              0.8888888888888888,
              "#fdca26"
             ],
             [
              1,
              "#f0f921"
             ]
            ],
            "type": "contour"
           }
          ],
          "contourcarpet": [
           {
            "colorbar": {
             "outlinewidth": 0,
             "ticks": ""
            },
            "type": "contourcarpet"
           }
          ],
          "heatmap": [
           {
            "colorbar": {
             "outlinewidth": 0,
             "ticks": ""
            },
            "colorscale": [
             [
              0,
              "#0d0887"
             ],
             [
              0.1111111111111111,
              "#46039f"
             ],
             [
              0.2222222222222222,
              "#7201a8"
             ],
             [
              0.3333333333333333,
              "#9c179e"
             ],
             [
              0.4444444444444444,
              "#bd3786"
             ],
             [
              0.5555555555555556,
              "#d8576b"
             ],
             [
              0.6666666666666666,
              "#ed7953"
             ],
             [
              0.7777777777777778,
              "#fb9f3a"
             ],
             [
              0.8888888888888888,
              "#fdca26"
             ],
             [
              1,
              "#f0f921"
             ]
            ],
            "type": "heatmap"
           }
          ],
          "heatmapgl": [
           {
            "colorbar": {
             "outlinewidth": 0,
             "ticks": ""
            },
            "colorscale": [
             [
              0,
              "#0d0887"
             ],
             [
              0.1111111111111111,
              "#46039f"
             ],
             [
              0.2222222222222222,
              "#7201a8"
             ],
             [
              0.3333333333333333,
              "#9c179e"
             ],
             [
              0.4444444444444444,
              "#bd3786"
             ],
             [
              0.5555555555555556,
              "#d8576b"
             ],
             [
              0.6666666666666666,
              "#ed7953"
             ],
             [
              0.7777777777777778,
              "#fb9f3a"
             ],
             [
              0.8888888888888888,
              "#fdca26"
             ],
             [
              1,
              "#f0f921"
             ]
            ],
            "type": "heatmapgl"
           }
          ],
          "histogram": [
           {
            "marker": {
             "pattern": {
              "fillmode": "overlay",
              "size": 10,
              "solidity": 0.2
             }
            },
            "type": "histogram"
           }
          ],
          "histogram2d": [
           {
            "colorbar": {
             "outlinewidth": 0,
             "ticks": ""
            },
            "colorscale": [
             [
              0,
              "#0d0887"
             ],
             [
              0.1111111111111111,
              "#46039f"
             ],
             [
              0.2222222222222222,
              "#7201a8"
             ],
             [
              0.3333333333333333,
              "#9c179e"
             ],
             [
              0.4444444444444444,
              "#bd3786"
             ],
             [
              0.5555555555555556,
              "#d8576b"
             ],
             [
              0.6666666666666666,
              "#ed7953"
             ],
             [
              0.7777777777777778,
              "#fb9f3a"
             ],
             [
              0.8888888888888888,
              "#fdca26"
             ],
             [
              1,
              "#f0f921"
             ]
            ],
            "type": "histogram2d"
           }
          ],
          "histogram2dcontour": [
           {
            "colorbar": {
             "outlinewidth": 0,
             "ticks": ""
            },
            "colorscale": [
             [
              0,
              "#0d0887"
             ],
             [
              0.1111111111111111,
              "#46039f"
             ],
             [
              0.2222222222222222,
              "#7201a8"
             ],
             [
              0.3333333333333333,
              "#9c179e"
             ],
             [
              0.4444444444444444,
              "#bd3786"
             ],
             [
              0.5555555555555556,
              "#d8576b"
             ],
             [
              0.6666666666666666,
              "#ed7953"
             ],
             [
              0.7777777777777778,
              "#fb9f3a"
             ],
             [
              0.8888888888888888,
              "#fdca26"
             ],
             [
              1,
              "#f0f921"
             ]
            ],
            "type": "histogram2dcontour"
           }
          ],
          "mesh3d": [
           {
            "colorbar": {
             "outlinewidth": 0,
             "ticks": ""
            },
            "type": "mesh3d"
           }
          ],
          "parcoords": [
           {
            "line": {
             "colorbar": {
              "outlinewidth": 0,
              "ticks": ""
             }
            },
            "type": "parcoords"
           }
          ],
          "pie": [
           {
            "automargin": true,
            "type": "pie"
           }
          ],
          "scatter": [
           {
            "fillpattern": {
             "fillmode": "overlay",
             "size": 10,
             "solidity": 0.2
            },
            "type": "scatter"
           }
          ],
          "scatter3d": [
           {
            "line": {
             "colorbar": {
              "outlinewidth": 0,
              "ticks": ""
             }
            },
            "marker": {
             "colorbar": {
              "outlinewidth": 0,
              "ticks": ""
             }
            },
            "type": "scatter3d"
           }
          ],
          "scattercarpet": [
           {
            "marker": {
             "colorbar": {
              "outlinewidth": 0,
              "ticks": ""
             }
            },
            "type": "scattercarpet"
           }
          ],
          "scattergeo": [
           {
            "marker": {
             "colorbar": {
              "outlinewidth": 0,
              "ticks": ""
             }
            },
            "type": "scattergeo"
           }
          ],
          "scattergl": [
           {
            "marker": {
             "colorbar": {
              "outlinewidth": 0,
              "ticks": ""
             }
            },
            "type": "scattergl"
           }
          ],
          "scattermapbox": [
           {
            "marker": {
             "colorbar": {
              "outlinewidth": 0,
              "ticks": ""
             }
            },
            "type": "scattermapbox"
           }
          ],
          "scatterpolar": [
           {
            "marker": {
             "colorbar": {
              "outlinewidth": 0,
              "ticks": ""
             }
            },
            "type": "scatterpolar"
           }
          ],
          "scatterpolargl": [
           {
            "marker": {
             "colorbar": {
              "outlinewidth": 0,
              "ticks": ""
             }
            },
            "type": "scatterpolargl"
           }
          ],
          "scatterternary": [
           {
            "marker": {
             "colorbar": {
              "outlinewidth": 0,
              "ticks": ""
             }
            },
            "type": "scatterternary"
           }
          ],
          "surface": [
           {
            "colorbar": {
             "outlinewidth": 0,
             "ticks": ""
            },
            "colorscale": [
             [
              0,
              "#0d0887"
             ],
             [
              0.1111111111111111,
              "#46039f"
             ],
             [
              0.2222222222222222,
              "#7201a8"
             ],
             [
              0.3333333333333333,
              "#9c179e"
             ],
             [
              0.4444444444444444,
              "#bd3786"
             ],
             [
              0.5555555555555556,
              "#d8576b"
             ],
             [
              0.6666666666666666,
              "#ed7953"
             ],
             [
              0.7777777777777778,
              "#fb9f3a"
             ],
             [
              0.8888888888888888,
              "#fdca26"
             ],
             [
              1,
              "#f0f921"
             ]
            ],
            "type": "surface"
           }
          ],
          "table": [
           {
            "cells": {
             "fill": {
              "color": "#EBF0F8"
             },
             "line": {
              "color": "white"
             }
            },
            "header": {
             "fill": {
              "color": "#C8D4E3"
             },
             "line": {
              "color": "white"
             }
            },
            "type": "table"
           }
          ]
         },
         "layout": {
          "annotationdefaults": {
           "arrowcolor": "#2a3f5f",
           "arrowhead": 0,
           "arrowwidth": 1
          },
          "autotypenumbers": "strict",
          "coloraxis": {
           "colorbar": {
            "outlinewidth": 0,
            "ticks": ""
           }
          },
          "colorscale": {
           "diverging": [
            [
             0,
             "#8e0152"
            ],
            [
             0.1,
             "#c51b7d"
            ],
            [
             0.2,
             "#de77ae"
            ],
            [
             0.3,
             "#f1b6da"
            ],
            [
             0.4,
             "#fde0ef"
            ],
            [
             0.5,
             "#f7f7f7"
            ],
            [
             0.6,
             "#e6f5d0"
            ],
            [
             0.7,
             "#b8e186"
            ],
            [
             0.8,
             "#7fbc41"
            ],
            [
             0.9,
             "#4d9221"
            ],
            [
             1,
             "#276419"
            ]
           ],
           "sequential": [
            [
             0,
             "#0d0887"
            ],
            [
             0.1111111111111111,
             "#46039f"
            ],
            [
             0.2222222222222222,
             "#7201a8"
            ],
            [
             0.3333333333333333,
             "#9c179e"
            ],
            [
             0.4444444444444444,
             "#bd3786"
            ],
            [
             0.5555555555555556,
             "#d8576b"
            ],
            [
             0.6666666666666666,
             "#ed7953"
            ],
            [
             0.7777777777777778,
             "#fb9f3a"
            ],
            [
             0.8888888888888888,
             "#fdca26"
            ],
            [
             1,
             "#f0f921"
            ]
           ],
           "sequentialminus": [
            [
             0,
             "#0d0887"
            ],
            [
             0.1111111111111111,
             "#46039f"
            ],
            [
             0.2222222222222222,
             "#7201a8"
            ],
            [
             0.3333333333333333,
             "#9c179e"
            ],
            [
             0.4444444444444444,
             "#bd3786"
            ],
            [
             0.5555555555555556,
             "#d8576b"
            ],
            [
             0.6666666666666666,
             "#ed7953"
            ],
            [
             0.7777777777777778,
             "#fb9f3a"
            ],
            [
             0.8888888888888888,
             "#fdca26"
            ],
            [
             1,
             "#f0f921"
            ]
           ]
          },
          "colorway": [
           "#636efa",
           "#EF553B",
           "#00cc96",
           "#ab63fa",
           "#FFA15A",
           "#19d3f3",
           "#FF6692",
           "#B6E880",
           "#FF97FF",
           "#FECB52"
          ],
          "font": {
           "color": "#2a3f5f"
          },
          "geo": {
           "bgcolor": "white",
           "lakecolor": "white",
           "landcolor": "#E5ECF6",
           "showlakes": true,
           "showland": true,
           "subunitcolor": "white"
          },
          "hoverlabel": {
           "align": "left"
          },
          "hovermode": "closest",
          "mapbox": {
           "style": "light"
          },
          "paper_bgcolor": "white",
          "plot_bgcolor": "#E5ECF6",
          "polar": {
           "angularaxis": {
            "gridcolor": "white",
            "linecolor": "white",
            "ticks": ""
           },
           "bgcolor": "#E5ECF6",
           "radialaxis": {
            "gridcolor": "white",
            "linecolor": "white",
            "ticks": ""
           }
          },
          "scene": {
           "xaxis": {
            "backgroundcolor": "#E5ECF6",
            "gridcolor": "white",
            "gridwidth": 2,
            "linecolor": "white",
            "showbackground": true,
            "ticks": "",
            "zerolinecolor": "white"
           },
           "yaxis": {
            "backgroundcolor": "#E5ECF6",
            "gridcolor": "white",
            "gridwidth": 2,
            "linecolor": "white",
            "showbackground": true,
            "ticks": "",
            "zerolinecolor": "white"
           },
           "zaxis": {
            "backgroundcolor": "#E5ECF6",
            "gridcolor": "white",
            "gridwidth": 2,
            "linecolor": "white",
            "showbackground": true,
            "ticks": "",
            "zerolinecolor": "white"
           }
          },
          "shapedefaults": {
           "line": {
            "color": "#2a3f5f"
           }
          },
          "ternary": {
           "aaxis": {
            "gridcolor": "white",
            "linecolor": "white",
            "ticks": ""
           },
           "baxis": {
            "gridcolor": "white",
            "linecolor": "white",
            "ticks": ""
           },
           "bgcolor": "#E5ECF6",
           "caxis": {
            "gridcolor": "white",
            "linecolor": "white",
            "ticks": ""
           }
          },
          "title": {
           "x": 0.05
          },
          "xaxis": {
           "automargin": true,
           "gridcolor": "white",
           "linecolor": "white",
           "ticks": "",
           "title": {
            "standoff": 15
           },
           "zerolinecolor": "white",
           "zerolinewidth": 2
          },
          "yaxis": {
           "automargin": true,
           "gridcolor": "white",
           "linecolor": "white",
           "ticks": "",
           "title": {
            "standoff": 15
           },
           "zerolinecolor": "white",
           "zerolinewidth": 2
          }
         }
        },
        "title": {
         "text": "Rocket Landing Animation"
        },
        "updatemenus": [
         {
          "buttons": [
           {
            "args": [
             null,
             {
              "frame": {
               "duration": 200
              },
              "fromcurrent": true
             }
            ],
            "label": "Play",
            "method": "animate"
           },
           {
            "args": [
             [
              null
             ],
             {
              "frame": {
               "duration": 0
              },
              "mode": "immediate"
             }
            ],
            "label": "Pause",
            "method": "animate"
           }
          ],
          "type": "buttons"
         }
        ],
        "xaxis": {
         "range": [
          50,
          200
         ],
         "title": {
          "text": "X Position"
         }
        },
        "yaxis": {
         "range": [
          -10,
          250
         ],
         "title": {
          "text": "Altitude"
         }
        }
       }
      }
     },
     "metadata": {},
     "output_type": "display_data"
    }
   ],
   "source": [
    "plot_RL_2agents(dt)"
   ]
  },
  {
   "cell_type": "markdown",
   "id": "0f3956af",
   "metadata": {},
   "source": [
    "## <span style=\"color:orange\">Rocket Trajectory</span>\n",
    "\n",
    "As we can see, the rocket reaches the ground slowly. Its trajectory appears more linear, and if we look at the speed profile, the reinforcement learning model keeps the speed and acceleration within the desired limit of [-10, 10]."
   ]
  },
  {
   "cell_type": "code",
   "execution_count": 10,
   "id": "43d7edad",
   "metadata": {},
   "outputs": [
    {
     "data": {
      "text/plain": [
       "Text(0, 0.5, 'Reward')"
      ]
     },
     "execution_count": 10,
     "metadata": {},
     "output_type": "execute_result"
    },
    {
     "data": {
      "image/png": "[encoded data removed]",
      "text/plain": [
       "<Figure size 640x480 with 1 Axes>"
      ]
     },
     "metadata": {},
     "output_type": "display_data"
    }
   ],
   "source": [
    "plt.plot(dt[['time']], env.rewards['booster'] , \"+-\", label = \"booster reward\")\n",
    "plt.plot(dt[['time']], env.rewards['alpha'] , \"+-\", label = \"alpha reward\")\n",
    "plt.plot(dt[['time']], np.sin(np.abs(dt[['angle']])), \"+-\", label = \"sin(|angle|)\")\n",
    "plt.plot(dt[['time']], dt[['ratio_fuel']], \"+-\", label = \"fuel/fuel_initial\")\n",
    "plt.plot(dt[[\"time\"]], dt[[\"distance_x_reward\"]], \"+-\", label = \"distance_x_reward\")\n",
    "plt.plot(dt[[\"time\"]], dt[[\"distance_y_reward\"]], \"+-\", label = \"distance_y_reward\")\n",
    "plt.legend()\n",
    "plt.title(\"Reward and its components\")\n",
    "plt.xlabel(\"Time step\")\n",
    "plt.ylabel(\"Reward\")"
   ]
  },
  {
   "cell_type": "code",
   "execution_count": 11,
   "id": "d280a20e",
   "metadata": {},
   "outputs": [
    {
     "data": {
      "image/png": "[encoded data removed]",
      "text/plain": [
       "<Figure size 1400x500 with 2 Axes>"
      ]
     },
     "metadata": {},
     "output_type": "display_data"
    }
   ],
   "source": [
    "fig, axs = plt.subplots(1, 2, figsize=(14, 5))\n",
    "# Speed plot\n",
    "axs[0].plot(dt[\"time\"], dt[\"speed_x\"], \"+-\", label=\"RL model speed_x\")\n",
    "axs[0].plot(dt[\"time\"], dt[\"speed_y\"], \"+-\", label=\"RL model speed_y\")\n",
    "axs[0].plot(dt[\"time\"], [-10]*len(dt[\"time\"]), color=\"red\", label=\"Speed limit\")\n",
    "axs[0].plot(dt[\"time\"], [10]*len(dt[\"time\"]), color=\"red\")\n",
    "axs[0].set_title(\"Rocket speed\")\n",
    "axs[0].set_xlabel(\"Time\")\n",
    "axs[0].set_ylabel(\"Speed\")\n",
    "axs[0].legend()\n",
    "\n",
    "# Acceleration plot\n",
    "axs[1].plot(dt[\"time\"], dt[\"acceleration_x\"], \"+-\", label=\"RL model acceleration_x\")\n",
    "axs[1].plot(dt[\"time\"], dt[\"acceleration_y\"], \"+-\", label=\"RL model acceleration_y\")\n",
    "axs[1].plot(dt[\"time\"], [-10]*len(dt[\"time\"]), color=\"red\", label=\"Acceleration limit\")\n",
    "axs[1].plot(dt[\"time\"], [10]*len(dt[\"time\"]), color=\"red\")\n",
    "axs[1].set_title(\"Rocket acceleration\")\n",
    "axs[1].set_xlabel(\"Time\")\n",
    "axs[1].set_ylabel(\"Acceleration\")\n",
    "axs[1].legend()\n",
    "\n",
    "plt.tight_layout()\n",
    "plt.show()"
   ]
  },
  {
   "cell_type": "markdown",
   "id": "5bca398a",
   "metadata": {},
   "source": [
    "With our designed reward function and discretization settings, we provide a model capable of landing the rocket at the correct coordinates, with an appropriate angle and safe speed."
   ]
  },
  {
   "cell_type": "markdown",
   "id": "bb8c12b0",
   "metadata": {},
   "source": [
    "# <span style=\"color:orange\">Bonus add obstacle</span>\n",
    "\n",
    "Our model learns how to land with a appropriate speed and angle. We can go futher and train a new model to avoid obstacle. \n",
    "Lets add an objet our rocket has to avoid. The obstacle is a sphere with a riadus of 5 unit and at the coordinate (130; 90).\n",
    "\n",
    "The mathematical modelization of this penalty is:\n",
    "\n",
    "$$ obstacle_{penalty} =  Min( distance2obstacle - (obstacle_{radius}+exclusion), 0) $$ \n",
    "\n",
    "where:\n",
    "* distance2obstacle :  the distance between rocket and obstacle center (130; 90)\n",
    "* obstacle_radius: obstacle radius\n",
    "* exclusion : exclusion zone to prevent contact"
   ]
  },
  {
   "cell_type": "code",
   "execution_count": 12,
   "id": "6b4cac18",
   "metadata": {},
   "outputs": [
    {
     "data": {
      "application/vnd.plotly.v1+json": {
       "config": {
        "plotlyServerURL": "https://plot.ly"
       },
       "data": [
        {
         "mode": "lines+markers",
         "name": "Distance",
         "type": "scatter",
         "x": [
          0,
          1,
          2,
          3,
          4,
          5,
          6,
          7,
          8,
          9
         ],
         "y": [
          -7,
          -6,
          -5,
          -4,
          -3,
          -2,
          -1,
          0,
          0,
          0
         ]
        },
        {
         "marker": {
          "color": "black",
          "symbol": "x"
         },
         "mode": "lines+markers",
         "name": "Obstacle radius",
         "text": [
          "Obstacle radius"
         ],
         "type": "scatter",
         "x": [
          0,
          1,
          2,
          3,
          4,
          5
         ],
         "y": [
          -7,
          -6,
          -5,
          -4,
          -3,
          -2
         ]
        },
        {
         "marker": {
          "color": "red",
          "symbol": "x"
         },
         "mode": "lines+text",
         "name": "Exclusion zone",
         "text": [
          "Exclusion zone"
         ],
         "type": "scatter",
         "x": [
          5,
          6,
          7
         ],
         "y": [
          -2,
          -1,
          0
         ]
        }
       ],
       "layout": {
        "height": 400,
        "template": {
         "data": {
          "bar": [
           {
            "error_x": {
             "color": "#2a3f5f"
            },
            "error_y": {
             "color": "#2a3f5f"
            },
            "marker": {
             "line": {
              "color": "#E5ECF6",
              "width": 0.5
             },
             "pattern": {
              "fillmode": "overlay",
              "size": 10,
              "solidity": 0.2
             }
            },
            "type": "bar"
           }
          ],
          "barpolar": [
           {
            "marker": {
             "line": {
              "color": "#E5ECF6",
              "width": 0.5
             },
             "pattern": {
              "fillmode": "overlay",
              "size": 10,
              "solidity": 0.2
             }
            },
            "type": "barpolar"
           }
          ],
          "carpet": [
           {
            "aaxis": {
             "endlinecolor": "#2a3f5f",
             "gridcolor": "white",
             "linecolor": "white",
             "minorgridcolor": "white",
             "startlinecolor": "#2a3f5f"
            },
            "baxis": {
             "endlinecolor": "#2a3f5f",
             "gridcolor": "white",
             "linecolor": "white",
             "minorgridcolor": "white",
             "startlinecolor": "#2a3f5f"
            },
            "type": "carpet"
           }
          ],
          "choropleth": [
           {
            "colorbar": {
             "outlinewidth": 0,
             "ticks": ""
            },
            "type": "choropleth"
           }
          ],
          "contour": [
           {
            "colorbar": {
             "outlinewidth": 0,
             "ticks": ""
            },
            "colorscale": [
             [
              0,
              "#0d0887"
             ],
             [
              0.1111111111111111,
              "#46039f"
             ],
             [
              0.2222222222222222,
              "#7201a8"
             ],
             [
              0.3333333333333333,
              "#9c179e"
             ],
             [
              0.4444444444444444,
              "#bd3786"
             ],
             [
              0.5555555555555556,
              "#d8576b"
             ],
             [
              0.6666666666666666,
              "#ed7953"
             ],
             [
              0.7777777777777778,
              "#fb9f3a"
             ],
             [
              0.8888888888888888,
              "#fdca26"
             ],
             [
              1,
              "#f0f921"
             ]
            ],
            "type": "contour"
           }
          ],
          "contourcarpet": [
           {
            "colorbar": {
             "outlinewidth": 0,
             "ticks": ""
            },
            "type": "contourcarpet"
           }
          ],
          "heatmap": [
           {
            "colorbar": {
             "outlinewidth": 0,
             "ticks": ""
            },
            "colorscale": [
             [
              0,
              "#0d0887"
             ],
             [
              0.1111111111111111,
              "#46039f"
             ],
             [
              0.2222222222222222,
              "#7201a8"
             ],
             [
              0.3333333333333333,
              "#9c179e"
             ],
             [
              0.4444444444444444,
              "#bd3786"
             ],
             [
              0.5555555555555556,
              "#d8576b"
             ],
             [
              0.6666666666666666,
              "#ed7953"
             ],
             [
              0.7777777777777778,
              "#fb9f3a"
             ],
             [
              0.8888888888888888,
              "#fdca26"
             ],
             [
              1,
              "#f0f921"
             ]
            ],
            "type": "heatmap"
           }
          ],
          "heatmapgl": [
           {
            "colorbar": {
             "outlinewidth": 0,
             "ticks": ""
            },
            "colorscale": [
             [
              0,
              "#0d0887"
             ],
             [
              0.1111111111111111,
              "#46039f"
             ],
             [
              0.2222222222222222,
              "#7201a8"
             ],
             [
              0.3333333333333333,
              "#9c179e"
             ],
             [
              0.4444444444444444,
              "#bd3786"
             ],
             [
              0.5555555555555556,
              "#d8576b"
             ],
             [
              0.6666666666666666,
              "#ed7953"
             ],
             [
              0.7777777777777778,
              "#fb9f3a"
             ],
             [
              0.8888888888888888,
              "#fdca26"
             ],
             [
              1,
              "#f0f921"
             ]
            ],
            "type": "heatmapgl"
           }
          ],
          "histogram": [
           {
            "marker": {
             "pattern": {
              "fillmode": "overlay",
              "size": 10,
              "solidity": 0.2
             }
            },
            "type": "histogram"
           }
          ],
          "histogram2d": [
           {
            "colorbar": {
             "outlinewidth": 0,
             "ticks": ""
            },
            "colorscale": [
             [
              0,
              "#0d0887"
             ],
             [
              0.1111111111111111,
              "#46039f"
             ],
             [
              0.2222222222222222,
              "#7201a8"
             ],
             [
              0.3333333333333333,
              "#9c179e"
             ],
             [
              0.4444444444444444,
              "#bd3786"
             ],
             [
              0.5555555555555556,
              "#d8576b"
             ],
             [
              0.6666666666666666,
              "#ed7953"
             ],
             [
              0.7777777777777778,
              "#fb9f3a"
             ],
             [
              0.8888888888888888,
              "#fdca26"
             ],
             [
              1,
              "#f0f921"
             ]
            ],
            "type": "histogram2d"
           }
          ],
          "histogram2dcontour": [
           {
            "colorbar": {
             "outlinewidth": 0,
             "ticks": ""
            },
            "colorscale": [
             [
              0,
              "#0d0887"
             ],
             [
              0.1111111111111111,
              "#46039f"
             ],
             [
              0.2222222222222222,
              "#7201a8"
             ],
             [
              0.3333333333333333,
              "#9c179e"
             ],
             [
              0.4444444444444444,
              "#bd3786"
             ],
             [
              0.5555555555555556,
              "#d8576b"
             ],
             [
              0.6666666666666666,
              "#ed7953"
             ],
             [
              0.7777777777777778,
              "#fb9f3a"
             ],
             [
              0.8888888888888888,
              "#fdca26"
             ],
             [
              1,
              "#f0f921"
             ]
            ],
            "type": "histogram2dcontour"
           }
          ],
          "mesh3d": [
           {
            "colorbar": {
             "outlinewidth": 0,
             "ticks": ""
            },
            "type": "mesh3d"
           }
          ],
          "parcoords": [
           {
            "line": {
             "colorbar": {
              "outlinewidth": 0,
              "ticks": ""
             }
            },
            "type": "parcoords"
           }
          ],
          "pie": [
           {
            "automargin": true,
            "type": "pie"
           }
          ],
          "scatter": [
           {
            "fillpattern": {
             "fillmode": "overlay",
             "size": 10,
             "solidity": 0.2
            },
            "type": "scatter"
           }
          ],
          "scatter3d": [
           {
            "line": {
             "colorbar": {
              "outlinewidth": 0,
              "ticks": ""
             }
            },
            "marker": {
             "colorbar": {
              "outlinewidth": 0,
              "ticks": ""
             }
            },
            "type": "scatter3d"
           }
          ],
          "scattercarpet": [
           {
            "marker": {
             "colorbar": {
              "outlinewidth": 0,
              "ticks": ""
             }
            },
            "type": "scattercarpet"
           }
          ],
          "scattergeo": [
           {
            "marker": {
             "colorbar": {
              "outlinewidth": 0,
              "ticks": ""
             }
            },
            "type": "scattergeo"
           }
          ],
          "scattergl": [
           {
            "marker": {
             "colorbar": {
              "outlinewidth": 0,
              "ticks": ""
             }
            },
            "type": "scattergl"
           }
          ],
          "scattermapbox": [
           {
            "marker": {
             "colorbar": {
              "outlinewidth": 0,
              "ticks": ""
             }
            },
            "type": "scattermapbox"
           }
          ],
          "scatterpolar": [
           {
            "marker": {
             "colorbar": {
              "outlinewidth": 0,
              "ticks": ""
             }
            },
            "type": "scatterpolar"
           }
          ],
          "scatterpolargl": [
           {
            "marker": {
             "colorbar": {
              "outlinewidth": 0,
              "ticks": ""
             }
            },
            "type": "scatterpolargl"
           }
          ],
          "scatterternary": [
           {
            "marker": {
             "colorbar": {
              "outlinewidth": 0,
              "ticks": ""
             }
            },
            "type": "scatterternary"
           }
          ],
          "surface": [
           {
            "colorbar": {
             "outlinewidth": 0,
             "ticks": ""
            },
            "colorscale": [
             [
              0,
              "#0d0887"
             ],
             [
              0.1111111111111111,
              "#46039f"
             ],
             [
              0.2222222222222222,
              "#7201a8"
             ],
             [
              0.3333333333333333,
              "#9c179e"
             ],
             [
              0.4444444444444444,
              "#bd3786"
             ],
             [
              0.5555555555555556,
              "#d8576b"
             ],
             [
              0.6666666666666666,
              "#ed7953"
             ],
             [
              0.7777777777777778,
              "#fb9f3a"
             ],
             [
              0.8888888888888888,
              "#fdca26"
             ],
             [
              1,
              "#f0f921"
             ]
            ],
            "type": "surface"
           }
          ],
          "table": [
           {
            "cells": {
             "fill": {
              "color": "#EBF0F8"
             },
             "line": {
              "color": "white"
             }
            },
            "header": {
             "fill": {
              "color": "#C8D4E3"
             },
             "line": {
              "color": "white"
             }
            },
            "type": "table"
           }
          ]
         },
         "layout": {
          "annotationdefaults": {
           "arrowcolor": "#2a3f5f",
           "arrowhead": 0,
           "arrowwidth": 1
          },
          "autotypenumbers": "strict",
          "coloraxis": {
           "colorbar": {
            "outlinewidth": 0,
            "ticks": ""
           }
          },
          "colorscale": {
           "diverging": [
            [
             0,
             "#8e0152"
            ],
            [
             0.1,
             "#c51b7d"
            ],
            [
             0.2,
             "#de77ae"
            ],
            [
             0.3,
             "#f1b6da"
            ],
            [
             0.4,
             "#fde0ef"
            ],
            [
             0.5,
             "#f7f7f7"
            ],
            [
             0.6,
             "#e6f5d0"
            ],
            [
             0.7,
             "#b8e186"
            ],
            [
             0.8,
             "#7fbc41"
            ],
            [
             0.9,
             "#4d9221"
            ],
            [
             1,
             "#276419"
            ]
           ],
           "sequential": [
            [
             0,
             "#0d0887"
            ],
            [
             0.1111111111111111,
             "#46039f"
            ],
            [
             0.2222222222222222,
             "#7201a8"
            ],
            [
             0.3333333333333333,
             "#9c179e"
            ],
            [
             0.4444444444444444,
             "#bd3786"
            ],
            [
             0.5555555555555556,
             "#d8576b"
            ],
            [
             0.6666666666666666,
             "#ed7953"
            ],
            [
             0.7777777777777778,
             "#fb9f3a"
            ],
            [
             0.8888888888888888,
             "#fdca26"
            ],
            [
             1,
             "#f0f921"
            ]
           ],
           "sequentialminus": [
            [
             0,
             "#0d0887"
            ],
            [
             0.1111111111111111,
             "#46039f"
            ],
            [
             0.2222222222222222,
             "#7201a8"
            ],
            [
             0.3333333333333333,
             "#9c179e"
            ],
            [
             0.4444444444444444,
             "#bd3786"
            ],
            [
             0.5555555555555556,
             "#d8576b"
            ],
            [
             0.6666666666666666,
             "#ed7953"
            ],
            [
             0.7777777777777778,
             "#fb9f3a"
            ],
            [
             0.8888888888888888,
             "#fdca26"
            ],
            [
             1,
             "#f0f921"
            ]
           ]
          },
          "colorway": [
           "#636efa",
           "#EF553B",
           "#00cc96",
           "#ab63fa",
           "#FFA15A",
           "#19d3f3",
           "#FF6692",
           "#B6E880",
           "#FF97FF",
           "#FECB52"
          ],
          "font": {
           "color": "#2a3f5f"
          },
          "geo": {
           "bgcolor": "white",
           "lakecolor": "white",
           "landcolor": "#E5ECF6",
           "showlakes": true,
           "showland": true,
           "subunitcolor": "white"
          },
          "hoverlabel": {
           "align": "left"
          },
          "hovermode": "closest",
          "mapbox": {
           "style": "light"
          },
          "paper_bgcolor": "white",
          "plot_bgcolor": "#E5ECF6",
          "polar": {
           "angularaxis": {
            "gridcolor": "white",
            "linecolor": "white",
            "ticks": ""
           },
           "bgcolor": "#E5ECF6",
           "radialaxis": {
            "gridcolor": "white",
            "linecolor": "white",
            "ticks": ""
           }
          },
          "scene": {
           "xaxis": {
            "backgroundcolor": "#E5ECF6",
            "gridcolor": "white",
            "gridwidth": 2,
            "linecolor": "white",
            "showbackground": true,
            "ticks": "",
            "zerolinecolor": "white"
           },
           "yaxis": {
            "backgroundcolor": "#E5ECF6",
            "gridcolor": "white",
            "gridwidth": 2,
            "linecolor": "white",
            "showbackground": true,
            "ticks": "",
            "zerolinecolor": "white"
           },
           "zaxis": {
            "backgroundcolor": "#E5ECF6",
            "gridcolor": "white",
            "gridwidth": 2,
            "linecolor": "white",
            "showbackground": true,
            "ticks": "",
            "zerolinecolor": "white"
           }
          },
          "shapedefaults": {
           "line": {
            "color": "#2a3f5f"
           }
          },
          "ternary": {
           "aaxis": {
            "gridcolor": "white",
            "linecolor": "white",
            "ticks": ""
           },
           "baxis": {
            "gridcolor": "white",
            "linecolor": "white",
            "ticks": ""
           },
           "bgcolor": "#E5ECF6",
           "caxis": {
            "gridcolor": "white",
            "linecolor": "white",
            "ticks": ""
           }
          },
          "title": {
           "x": 0.05
          },
          "xaxis": {
           "automargin": true,
           "gridcolor": "white",
           "linecolor": "white",
           "ticks": "",
           "title": {
            "standoff": 15
           },
           "zerolinecolor": "white",
           "zerolinewidth": 2
          },
          "yaxis": {
           "automargin": true,
           "gridcolor": "white",
           "linecolor": "white",
           "ticks": "",
           "title": {
            "standoff": 15
           },
           "zerolinecolor": "white",
           "zerolinewidth": 2
          }
         }
        },
        "title": {
         "text": "Function to penalize obstacle"
        },
        "width": 600,
        "xaxis": {
         "title": {
          "text": "Distance to the obstacle"
         }
        },
        "yaxis": {
         "title": {
          "text": "Penalty"
         }
        }
       }
      }
     },
     "metadata": {},
     "output_type": "display_data"
    }
   ],
   "source": [
    "obstacle_radius = 5\n",
    "exclusion = 2\n",
    "distance2obstacle = np.arange(0, 10)\n",
    "plot_obstacle_penalty(obstacle_radius, exclusion, distance2obstacle)"
   ]
  },
  {
   "cell_type": "markdown",
   "id": "92733285",
   "metadata": {},
   "source": [
    "With this modelization and the use of the exclusion zone, we penalize smoothly at the begining of the enconter. The idea is to discourage the system to come even if it means to go far away to the final target."
   ]
  },
  {
   "cell_type": "markdown",
   "id": "ccf63a7d",
   "metadata": {},
   "source": [
    "In the JSON field, we add the obstacle in the field ``initial_values`` to monitor the information:\n",
    "\n",
    "```\n",
    "\"distance2obstacle_squarred\" : [10250.0],\n",
    "\"obstacle_radius\" : [5.0],\n",
    "\"exclusion_zone\" : [2.0],\n",
    "\"obstacle_penalty\" : [0.0]\n",
    "```\n",
    "\n",
    "In equations_variables:\n",
    "\n",
    "```\n",
    "\"$distance2obstacle_squarred$\" : \"($pos_y$ - $pos_y_obstacle$)**2 + ($pos_x$ -  $pos_x_obstacle$)**2\",\n",
    "\"$obstacle_penalty$\" : \"np.minimum($distance2obstacle_squarred$ -($obstacle_radius$ + $exclusion_zone$)**2,0)\"\n",
    "```\n",
    "\n",
    "And finaly we add ``obstacle_penalty`` component to ``equations_rewards``:\n",
    "\n",
    "```\n",
    "\"$booster$\" : \"2*(-distance_y_reward) + speed_y_reward + 0.5 * $ratio_fuel$ + $obstacle_penalty$\",\n",
    "\n",
    "\"$alpha$\" : \"2*(-distance_x_reward)  + speed_x_reward  - 0.2*np.sin($angle$) + 0.5 * $ratio_fuel$ + $obstacle_penalty$\"\n",
    "```"
   ]
  },
  {
   "cell_type": "markdown",
   "id": "f026dfd7",
   "metadata": {},
   "source": [
    "## <span style=\"color:orange\">New policy</span>\n",
    "\n",
    "\n",
    "If you’d like, you can launch the training yourself. However, be aware that it may take some time depending on your machine’s performance. For a quicker start, I recommend loading a pre-trained model to explore the results and behavior without waiting for full training. Enven if the model did not converge, it is enough for this tutorial."
   ]
  },
  {
   "cell_type": "code",
   "execution_count": 13,
   "id": "e7f547ae",
   "metadata": {},
   "outputs": [],
   "source": [
    "# env2 = Environment(JOSN_file2, check_model = True)\n",
    "# RL2 = QLearningTrainer(env2, num_episodes = 1500, convergence_criterion = 0.5, \n",
    "#                       decay_type = \"exponential\", decrease_prob_exp = 0.005)\n",
    "# RL2.q_learning()\n",
    "# # # #save model\n",
    "# pickle.dump(RL2, open(\"saved_model/tuto3/RL_2agents_obstacle.pkl\", 'wb'))\n"
   ]
  },
  {
   "cell_type": "code",
   "execution_count": 13,
   "id": "484e092f",
   "metadata": {},
   "outputs": [],
   "source": [
    "# load pre-trained model\n",
    "with open('saved_model/tuto3/RL_2agents_obstacle.pkl', 'rb') as f:\n",
    "    RL2 = pickle.load(f)"
   ]
  },
  {
   "cell_type": "code",
   "execution_count": 14,
   "id": "8d7e7afc",
   "metadata": {},
   "outputs": [
    {
     "data": {
      "image/png": "[encoded data removed]",
      "text/plain": [
       "<Figure size 640x480 with 1 Axes>"
      ]
     },
     "metadata": {},
     "output_type": "display_data"
    }
   ],
   "source": [
    "RL2.plot_convergence(len(RL2.loss_episodes) -50)"
   ]
  },
  {
   "cell_type": "code",
   "execution_count": 15,
   "id": "97480327",
   "metadata": {},
   "outputs": [
    {
     "name": "stdout",
     "output_type": "stream",
     "text": [
      "stop: reach goal\n"
     ]
    },
    {
     "data": {
      "text/html": [
       "<div>\n",
       "<style scoped>\n",
       "    .dataframe tbody tr th:only-of-type {\n",
       "        vertical-align: middle;\n",
       "    }\n",
       "\n",
       "    .dataframe tbody tr th {\n",
       "        vertical-align: top;\n",
       "    }\n",
       "\n",
       "    .dataframe thead th {\n",
       "        text-align: right;\n",
       "    }\n",
       "</style>\n",
       "<table border=\"1\" class=\"dataframe\">\n",
       "  <thead>\n",
       "    <tr style=\"text-align: right;\">\n",
       "      <th></th>\n",
       "      <th>pos_x</th>\n",
       "      <th>pos_y</th>\n",
       "      <th>angle</th>\n",
       "      <th>speed_x</th>\n",
       "      <th>speed_y</th>\n",
       "      <th>weight_rocket</th>\n",
       "      <th>booster</th>\n",
       "      <th>alpha</th>\n",
       "      <th>acceleration_x</th>\n",
       "      <th>acceleration_y</th>\n",
       "      <th>m_fuel</th>\n",
       "      <th>futur_pos_x</th>\n",
       "      <th>futur_pos_y</th>\n",
       "      <th>weight_dry_rocket</th>\n",
       "      <th>G</th>\n",
       "      <th>m_fuel_ini</th>\n",
       "      <th>pos_x_star</th>\n",
       "      <th>pos_y_star</th>\n",
       "      <th>pos_x_ini</th>\n",
       "      <th>pos_y_ini</th>\n",
       "      <th>upper_boundary</th>\n",
       "      <th>lower_boundary</th>\n",
       "      <th>acceleration_limit_x</th>\n",
       "      <th>acceleration_limit_y</th>\n",
       "      <th>speed_limit_x</th>\n",
       "      <th>speed_limit_y</th>\n",
       "      <th>distance_x_reward</th>\n",
       "      <th>distance_y_reward</th>\n",
       "      <th>speed_x_reward</th>\n",
       "      <th>speed_y_reward</th>\n",
       "      <th>ratio_fuel</th>\n",
       "      <th>pos_x_obstacle</th>\n",
       "      <th>pos_y_obstacle</th>\n",
       "      <th>distance2obstacle_squarred</th>\n",
       "      <th>obstacle_radius</th>\n",
       "      <th>exclusion_zone</th>\n",
       "      <th>obstacle_penalty</th>\n",
       "      <th>dt</th>\n",
       "      <th>time</th>\n",
       "    </tr>\n",
       "  </thead>\n",
       "  <tbody>\n",
       "    <tr>\n",
       "      <th>0</th>\n",
       "      <td>75.000000</td>\n",
       "      <td>175.000000</td>\n",
       "      <td>0.0</td>\n",
       "      <td>0.000000</td>\n",
       "      <td>0.000000</td>\n",
       "      <td>305.0</td>\n",
       "      <td>0.0</td>\n",
       "      <td>0.0</td>\n",
       "      <td>0.000000</td>\n",
       "      <td>0.000000</td>\n",
       "      <td>300.0</td>\n",
       "      <td>75.000000</td>\n",
       "      <td>175.000000</td>\n",
       "      <td>5</td>\n",
       "      <td>1.62</td>\n",
       "      <td>300.0</td>\n",
       "      <td>140.0</td>\n",
       "      <td>0.0</td>\n",
       "      <td>75.0</td>\n",
       "      <td>175.0</td>\n",
       "      <td>0.0</td>\n",
       "      <td>0.000000</td>\n",
       "      <td>10</td>\n",
       "      <td>10</td>\n",
       "      <td>10</td>\n",
       "      <td>10</td>\n",
       "      <td>1.000000</td>\n",
       "      <td>1.000000</td>\n",
       "      <td>0.0</td>\n",
       "      <td>0.0</td>\n",
       "      <td>1.000000</td>\n",
       "      <td>130.0</td>\n",
       "      <td>90.0</td>\n",
       "      <td>10250.0</td>\n",
       "      <td>5.0</td>\n",
       "      <td>2.0</td>\n",
       "      <td>0.0</td>\n",
       "      <td>4</td>\n",
       "      <td>0</td>\n",
       "    </tr>\n",
       "    <tr>\n",
       "      <th>1</th>\n",
       "      <td>75.000000</td>\n",
       "      <td>149.080000</td>\n",
       "      <td>0.0</td>\n",
       "      <td>0.000000</td>\n",
       "      <td>-6.480000</td>\n",
       "      <td>305.0</td>\n",
       "      <td>0.0</td>\n",
       "      <td>0.0</td>\n",
       "      <td>0.000000</td>\n",
       "      <td>-1.620000</td>\n",
       "      <td>300.0</td>\n",
       "      <td>75.000000</td>\n",
       "      <td>129.640000</td>\n",
       "      <td>5</td>\n",
       "      <td>1.62</td>\n",
       "      <td>300.0</td>\n",
       "      <td>140.0</td>\n",
       "      <td>0.0</td>\n",
       "      <td>75.0</td>\n",
       "      <td>175.0</td>\n",
       "      <td>0.0</td>\n",
       "      <td>0.000000</td>\n",
       "      <td>10</td>\n",
       "      <td>10</td>\n",
       "      <td>10</td>\n",
       "      <td>10</td>\n",
       "      <td>1.000000</td>\n",
       "      <td>0.851886</td>\n",
       "      <td>0.0</td>\n",
       "      <td>0.0</td>\n",
       "      <td>1.000000</td>\n",
       "      <td>130.0</td>\n",
       "      <td>90.0</td>\n",
       "      <td>10250.0</td>\n",
       "      <td>5.0</td>\n",
       "      <td>2.0</td>\n",
       "      <td>0.0</td>\n",
       "      <td>4</td>\n",
       "      <td>4</td>\n",
       "    </tr>\n",
       "    <tr>\n",
       "      <th>2</th>\n",
       "      <td>86.477697</td>\n",
       "      <td>108.387307</td>\n",
       "      <td>0.8</td>\n",
       "      <td>5.738849</td>\n",
       "      <td>-7.386346</td>\n",
       "      <td>295.0</td>\n",
       "      <td>1.0</td>\n",
       "      <td>0.8</td>\n",
       "      <td>1.434712</td>\n",
       "      <td>-0.226587</td>\n",
       "      <td>290.0</td>\n",
       "      <td>103.694244</td>\n",
       "      <td>86.228268</td>\n",
       "      <td>5</td>\n",
       "      <td>1.62</td>\n",
       "      <td>300.0</td>\n",
       "      <td>140.0</td>\n",
       "      <td>0.0</td>\n",
       "      <td>75.0</td>\n",
       "      <td>175.0</td>\n",
       "      <td>0.0</td>\n",
       "      <td>0.000000</td>\n",
       "      <td>10</td>\n",
       "      <td>10</td>\n",
       "      <td>10</td>\n",
       "      <td>10</td>\n",
       "      <td>0.823420</td>\n",
       "      <td>0.619356</td>\n",
       "      <td>0.0</td>\n",
       "      <td>0.0</td>\n",
       "      <td>0.966667</td>\n",
       "      <td>130.0</td>\n",
       "      <td>90.0</td>\n",
       "      <td>10250.0</td>\n",
       "      <td>5.0</td>\n",
       "      <td>2.0</td>\n",
       "      <td>0.0</td>\n",
       "      <td>4</td>\n",
       "      <td>8</td>\n",
       "    </tr>\n",
       "    <tr>\n",
       "      <th>3</th>\n",
       "      <td>109.433092</td>\n",
       "      <td>69.473646</td>\n",
       "      <td>0.0</td>\n",
       "      <td>5.738849</td>\n",
       "      <td>-5.590484</td>\n",
       "      <td>285.0</td>\n",
       "      <td>1.0</td>\n",
       "      <td>-0.8</td>\n",
       "      <td>0.000000</td>\n",
       "      <td>0.448966</td>\n",
       "      <td>280.0</td>\n",
       "      <td>126.649639</td>\n",
       "      <td>52.702193</td>\n",
       "      <td>5</td>\n",
       "      <td>1.62</td>\n",
       "      <td>300.0</td>\n",
       "      <td>140.0</td>\n",
       "      <td>0.0</td>\n",
       "      <td>75.0</td>\n",
       "      <td>175.0</td>\n",
       "      <td>0.0</td>\n",
       "      <td>0.000000</td>\n",
       "      <td>10</td>\n",
       "      <td>10</td>\n",
       "      <td>10</td>\n",
       "      <td>10</td>\n",
       "      <td>0.470260</td>\n",
       "      <td>0.396992</td>\n",
       "      <td>0.0</td>\n",
       "      <td>0.0</td>\n",
       "      <td>0.933333</td>\n",
       "      <td>130.0</td>\n",
       "      <td>90.0</td>\n",
       "      <td>10250.0</td>\n",
       "      <td>5.0</td>\n",
       "      <td>2.0</td>\n",
       "      <td>0.0</td>\n",
       "      <td>4</td>\n",
       "      <td>12</td>\n",
       "    </tr>\n",
       "    <tr>\n",
       "      <th>4</th>\n",
       "      <td>132.388487</td>\n",
       "      <td>38.033814</td>\n",
       "      <td>0.0</td>\n",
       "      <td>5.738849</td>\n",
       "      <td>-3.649432</td>\n",
       "      <td>280.0</td>\n",
       "      <td>1.0</td>\n",
       "      <td>0.0</td>\n",
       "      <td>0.000000</td>\n",
       "      <td>0.485263</td>\n",
       "      <td>275.0</td>\n",
       "      <td>149.605033</td>\n",
       "      <td>27.085520</td>\n",
       "      <td>5</td>\n",
       "      <td>1.62</td>\n",
       "      <td>300.0</td>\n",
       "      <td>140.0</td>\n",
       "      <td>0.0</td>\n",
       "      <td>75.0</td>\n",
       "      <td>175.0</td>\n",
       "      <td>0.0</td>\n",
       "      <td>0.000000</td>\n",
       "      <td>10</td>\n",
       "      <td>10</td>\n",
       "      <td>10</td>\n",
       "      <td>10</td>\n",
       "      <td>0.117100</td>\n",
       "      <td>0.217336</td>\n",
       "      <td>0.0</td>\n",
       "      <td>0.0</td>\n",
       "      <td>0.916667</td>\n",
       "      <td>130.0</td>\n",
       "      <td>90.0</td>\n",
       "      <td>10250.0</td>\n",
       "      <td>5.0</td>\n",
       "      <td>2.0</td>\n",
       "      <td>0.0</td>\n",
       "      <td>4</td>\n",
       "      <td>16</td>\n",
       "    </tr>\n",
       "    <tr>\n",
       "      <th>5</th>\n",
       "      <td>142.822758</td>\n",
       "      <td>9.676787</td>\n",
       "      <td>-0.8</td>\n",
       "      <td>-0.521714</td>\n",
       "      <td>-4.049082</td>\n",
       "      <td>270.0</td>\n",
       "      <td>1.0</td>\n",
       "      <td>-0.8</td>\n",
       "      <td>-1.565141</td>\n",
       "      <td>-0.099913</td>\n",
       "      <td>265.0</td>\n",
       "      <td>141.257617</td>\n",
       "      <td>-2.470460</td>\n",
       "      <td>5</td>\n",
       "      <td>1.62</td>\n",
       "      <td>300.0</td>\n",
       "      <td>140.0</td>\n",
       "      <td>0.0</td>\n",
       "      <td>75.0</td>\n",
       "      <td>175.0</td>\n",
       "      <td>0.0</td>\n",
       "      <td>-0.915454</td>\n",
       "      <td>10</td>\n",
       "      <td>10</td>\n",
       "      <td>10</td>\n",
       "      <td>10</td>\n",
       "      <td>0.043427</td>\n",
       "      <td>0.055296</td>\n",
       "      <td>0.0</td>\n",
       "      <td>0.0</td>\n",
       "      <td>0.883333</td>\n",
       "      <td>130.0</td>\n",
       "      <td>90.0</td>\n",
       "      <td>10250.0</td>\n",
       "      <td>5.0</td>\n",
       "      <td>2.0</td>\n",
       "      <td>0.0</td>\n",
       "      <td>4</td>\n",
       "      <td>20</td>\n",
       "    </tr>\n",
       "  </tbody>\n",
       "</table>\n",
       "</div>"
      ],
      "text/plain": [
       "        pos_x       pos_y  angle   speed_x   speed_y  weight_rocket  booster  \\\n",
       "0   75.000000  175.000000    0.0  0.000000  0.000000          305.0      0.0   \n",
       "1   75.000000  149.080000    0.0  0.000000 -6.480000          305.0      0.0   \n",
       "2   86.477697  108.387307    0.8  5.738849 -7.386346          295.0      1.0   \n",
       "3  109.433092   69.473646    0.0  5.738849 -5.590484          285.0      1.0   \n",
       "4  132.388487   38.033814    0.0  5.738849 -3.649432          280.0      1.0   \n",
       "5  142.822758    9.676787   -0.8 -0.521714 -4.049082          270.0      1.0   \n",
       "\n",
       "   alpha  acceleration_x  acceleration_y  m_fuel  futur_pos_x  futur_pos_y  \\\n",
       "0    0.0        0.000000        0.000000   300.0    75.000000   175.000000   \n",
       "1    0.0        0.000000       -1.620000   300.0    75.000000   129.640000   \n",
       "2    0.8        1.434712       -0.226587   290.0   103.694244    86.228268   \n",
       "3   -0.8        0.000000        0.448966   280.0   126.649639    52.702193   \n",
       "4    0.0        0.000000        0.485263   275.0   149.605033    27.085520   \n",
       "5   -0.8       -1.565141       -0.099913   265.0   141.257617    -2.470460   \n",
       "\n",
       "   weight_dry_rocket     G  m_fuel_ini  pos_x_star  pos_y_star  pos_x_ini  \\\n",
       "0                  5  1.62       300.0       140.0         0.0       75.0   \n",
       "1                  5  1.62       300.0       140.0         0.0       75.0   \n",
       "2                  5  1.62       300.0       140.0         0.0       75.0   \n",
       "3                  5  1.62       300.0       140.0         0.0       75.0   \n",
       "4                  5  1.62       300.0       140.0         0.0       75.0   \n",
       "5                  5  1.62       300.0       140.0         0.0       75.0   \n",
       "\n",
       "   pos_y_ini  upper_boundary  lower_boundary  acceleration_limit_x  \\\n",
       "0      175.0             0.0        0.000000                    10   \n",
       "1      175.0             0.0        0.000000                    10   \n",
       "2      175.0             0.0        0.000000                    10   \n",
       "3      175.0             0.0        0.000000                    10   \n",
       "4      175.0             0.0        0.000000                    10   \n",
       "5      175.0             0.0       -0.915454                    10   \n",
       "\n",
       "   acceleration_limit_y  speed_limit_x  speed_limit_y  distance_x_reward  \\\n",
       "0                    10             10             10           1.000000   \n",
       "1                    10             10             10           1.000000   \n",
       "2                    10             10             10           0.823420   \n",
       "3                    10             10             10           0.470260   \n",
       "4                    10             10             10           0.117100   \n",
       "5                    10             10             10           0.043427   \n",
       "\n",
       "   distance_y_reward  speed_x_reward  speed_y_reward  ratio_fuel  \\\n",
       "0           1.000000             0.0             0.0    1.000000   \n",
       "1           0.851886             0.0             0.0    1.000000   \n",
       "2           0.619356             0.0             0.0    0.966667   \n",
       "3           0.396992             0.0             0.0    0.933333   \n",
       "4           0.217336             0.0             0.0    0.916667   \n",
       "5           0.055296             0.0             0.0    0.883333   \n",
       "\n",
       "   pos_x_obstacle  pos_y_obstacle  distance2obstacle_squarred  \\\n",
       "0           130.0            90.0                     10250.0   \n",
       "1           130.0            90.0                     10250.0   \n",
       "2           130.0            90.0                     10250.0   \n",
       "3           130.0            90.0                     10250.0   \n",
       "4           130.0            90.0                     10250.0   \n",
       "5           130.0            90.0                     10250.0   \n",
       "\n",
       "   obstacle_radius  exclusion_zone  obstacle_penalty  dt  time  \n",
       "0              5.0             2.0               0.0   4     0  \n",
       "1              5.0             2.0               0.0   4     4  \n",
       "2              5.0             2.0               0.0   4     8  \n",
       "3              5.0             2.0               0.0   4    12  \n",
       "4              5.0             2.0               0.0   4    16  \n",
       "5              5.0             2.0               0.0   4    20  "
      ]
     },
     "execution_count": 15,
     "metadata": {},
     "output_type": "execute_result"
    }
   ],
   "source": [
    "# load policy table\n",
    "policy2 = RL2.q_table.copy().replace(0, np.nan)\n",
    "# load environnment\n",
    "env2 = Environment(JOSN_file2, check_model = False)\n",
    "state = env2.state_for_q_table()\n",
    "flag_continue = True\n",
    "while flag_continue:\n",
    "    # control while loop\n",
    "    if not policy2.index.isin([str(state)]).any():\n",
    "        flag_continue = False\n",
    "        print(\"stop: no moore state\")\n",
    "        #env.delete_last_states()\n",
    "        continue\n",
    "    elif env2.pos_y[-1] >= 0 and env2.pos_y[-1] <= 10 and env2.pos_x[-1] >= 135 and env2.pos_x[-1] <= 145:\n",
    "        print(\"stop: reach goal\")\n",
    "        # env.delete_last_states()\n",
    "        flag_continue = False\n",
    "        continue\n",
    "    else:\n",
    "        action = RL2.call_choose_action(state, 0)\n",
    "        _, rewards, done, problem, info = env2.step(action)\n",
    "        state = env2.state_for_q_table()\n",
    "\n",
    "dt2 = pd.DataFrame(env2.all_states())\n",
    "dt2"
   ]
  },
  {
   "cell_type": "code",
   "execution_count": 16,
   "id": "6bde332e",
   "metadata": {},
   "outputs": [
    {
     "data": {
      "application/vnd.plotly.v1+json": {
       "config": {
        "plotlyServerURL": "https://plot.ly"
       },
       "data": [
        {
         "line": {
          "color": "blue"
         },
         "marker": {
          "size": 8
         },
         "mode": "lines+markers",
         "name": "first model",
         "type": "scatter",
         "x": [
          75
         ],
         "y": [
          175
         ]
        },
        {
         "line": {
          "color": "orange"
         },
         "marker": {
          "size": 8
         },
         "mode": "lines+markers",
         "name": "model trained to aviod obstacle",
         "type": "scatter",
         "x": [
          75
         ],
         "y": [
          175
         ]
        },
        {
         "marker": {
          "color": "red",
          "size": 12,
          "symbol": "x"
         },
         "mode": "markers+text",
         "name": "Goal",
         "text": [
          "Goal"
         ],
         "textposition": "top center",
         "type": "scatter",
         "x": [
          140
         ],
         "y": [
          0
         ]
        },
        {
         "marker": {
          "color": "black",
          "size": 12,
          "symbol": "x"
         },
         "mode": "markers+text",
         "name": "Obstacle",
         "text": [
          "Obstacle"
         ],
         "textposition": "top center",
         "type": "scatter",
         "x": [
          130
         ],
         "y": [
          90
         ]
        }
       ],
       "frames": [
        {
         "data": [
          {
           "line": {
            "color": "blue"
           },
           "marker": {
            "size": 8
           },
           "mode": "lines+markers",
           "name": "first model",
           "type": "scatter",
           "x": [
            75
           ],
           "y": [
            175
           ]
          },
          {
           "line": {
            "color": "orange"
           },
           "marker": {
            "size": 8
           },
           "mode": "lines+markers",
           "name": "model trained to aviod obstacle",
           "type": "scatter",
           "x": [
            75
           ],
           "y": [
            175
           ]
          },
          {
           "marker": {
            "color": "red",
            "size": 12,
            "symbol": "x"
           },
           "mode": "markers+text",
           "name": "Goal",
           "text": [
            "Goal"
           ],
           "textposition": "top center",
           "type": "scatter",
           "x": [
            140
           ],
           "y": [
            0
           ]
          },
          {
           "marker": {
            "color": "black",
            "size": 12,
            "symbol": "x"
           },
           "mode": "markers+text",
           "name": "Obstacle",
           "text": [
            "Obstacle"
           ],
           "textposition": "top center",
           "type": "scatter",
           "x": [
            130
           ],
           "y": [
            90
           ]
          }
         ],
         "name": "0"
        },
        {
         "data": [
          {
           "line": {
            "color": "blue"
           },
           "marker": {
            "size": 8
           },
           "mode": "lines+markers",
           "name": "first model",
           "type": "scatter",
           "x": [
            75,
            86.47769745439237
           ],
           "y": [
            175,
            160.22730734955465
           ]
          },
          {
           "line": {
            "color": "orange"
           },
           "marker": {
            "size": 8
           },
           "mode": "lines+markers",
           "name": "model trained to aviod obstacle",
           "type": "scatter",
           "x": [
            75,
            75
           ],
           "y": [
            175,
            149.07999999999998
           ]
          },
          {
           "marker": {
            "color": "red",
            "size": 12,
            "symbol": "x"
           },
           "mode": "markers+text",
           "name": "Goal",
           "text": [
            "Goal"
           ],
           "textposition": "top center",
           "type": "scatter",
           "x": [
            140
           ],
           "y": [
            0
           ]
          },
          {
           "marker": {
            "color": "black",
            "size": 12,
            "symbol": "x"
           },
           "mode": "markers+text",
           "name": "Obstacle",
           "text": [
            "Obstacle"
           ],
           "textposition": "top center",
           "type": "scatter",
           "x": [
            130
           ],
           "y": [
            90
           ]
          }
         ],
         "name": "1"
        },
        {
         "data": [
          {
           "line": {
            "color": "blue"
           },
           "marker": {
            "size": 8
           },
           "mode": "lines+markers",
           "name": "first model",
           "type": "scatter",
           "x": [
            75,
            86.47769745439237,
            109.4330923631771
           ],
           "y": [
            175,
            160.22730734955465,
            130.68192204866395
           ]
          },
          {
           "line": {
            "color": "orange"
           },
           "marker": {
            "size": 8
           },
           "mode": "lines+markers",
           "name": "model trained to aviod obstacle",
           "type": "scatter",
           "x": [
            75,
            75,
            86.47769745439237
           ],
           "y": [
            175,
            149.07999999999998,
            108.38730734955462
           ]
          },
          {
           "marker": {
            "color": "red",
            "size": 12,
            "symbol": "x"
           },
           "mode": "markers+text",
           "name": "Goal",
           "text": [
            "Goal"
           ],
           "textposition": "top center",
           "type": "scatter",
           "x": [
            140
           ],
           "y": [
            0
           ]
          },
          {
           "marker": {
            "color": "black",
            "size": 12,
            "symbol": "x"
           },
           "mode": "markers+text",
           "name": "Obstacle",
           "text": [
            "Obstacle"
           ],
           "textposition": "top center",
           "type": "scatter",
           "x": [
            130
           ],
           "y": [
            90
           ]
          }
         ],
         "name": "2"
        },
        {
         "data": [
          {
           "line": {
            "color": "blue"
           },
           "marker": {
            "size": 8
           },
           "mode": "lines+markers",
           "name": "first model",
           "type": "scatter",
           "x": [
            75,
            86.47769745439237,
            109.4330923631771,
            132.38848727196182
           ],
           "y": [
            175,
            160.22730734955465,
            130.68192204866395,
            91.76826088570428
           ]
          },
          {
           "line": {
            "color": "orange"
           },
           "marker": {
            "size": 8
           },
           "mode": "lines+markers",
           "name": "model trained to aviod obstacle",
           "type": "scatter",
           "x": [
            75,
            75,
            86.47769745439237,
            109.4330923631771
           ],
           "y": [
            175,
            149.07999999999998,
            108.38730734955462,
            69.47364618659495
           ]
          },
          {
           "marker": {
            "color": "red",
            "size": 12,
            "symbol": "x"
           },
           "mode": "markers+text",
           "name": "Goal",
           "text": [
            "Goal"
           ],
           "textposition": "top center",
           "type": "scatter",
           "x": [
            140
           ],
           "y": [
            0
           ]
          },
          {
           "marker": {
            "color": "black",
            "size": 12,
            "symbol": "x"
           },
           "mode": "markers+text",
           "name": "Obstacle",
           "text": [
            "Obstacle"
           ],
           "textposition": "top center",
           "type": "scatter",
           "x": [
            130
           ],
           "y": [
            90
           ]
          }
         ],
         "name": "3"
        },
        {
         "data": [
          {
           "line": {
            "color": "blue"
           },
           "marker": {
            "size": 8
           },
           "mode": "lines+markers",
           "name": "first model",
           "type": "scatter",
           "x": [
            75,
            86.47769745439237,
            109.4330923631771,
            132.38848727196182,
            143.04634919389758
           ],
           "y": [
            175,
            160.22730734955465,
            130.68192204866395,
            91.76826088570428,
            55.429867449484185
           ]
          },
          {
           "line": {
            "color": "orange"
           },
           "marker": {
            "size": 8
           },
           "mode": "lines+markers",
           "name": "model trained to aviod obstacle",
           "type": "scatter",
           "x": [
            75,
            75,
            86.47769745439237,
            109.4330923631771,
            132.38848727196182
           ],
           "y": [
            175,
            149.07999999999998,
            108.38730734955462,
            69.47364618659495,
            38.0338144247242
           ]
          },
          {
           "marker": {
            "color": "red",
            "size": 12,
            "symbol": "x"
           },
           "mode": "markers+text",
           "name": "Goal",
           "text": [
            "Goal"
           ],
           "textposition": "top center",
           "type": "scatter",
           "x": [
            140
           ],
           "y": [
            0
           ]
          },
          {
           "marker": {
            "color": "black",
            "size": 12,
            "symbol": "x"
           },
           "mode": "markers+text",
           "name": "Obstacle",
           "text": [
            "Obstacle"
           ],
           "textposition": "top center",
           "type": "scatter",
           "x": [
            130
           ],
           "y": [
            90
           ]
          }
         ],
         "name": "4"
        },
        {
         "data": [
          {
           "line": {
            "color": "blue"
           },
           "marker": {
            "size": 8
           },
           "mode": "lines+markers",
           "name": "first model",
           "type": "scatter",
           "x": [
            75,
            86.47769745439237,
            109.4330923631771,
            132.38848727196182,
            143.04634919389758,
            141.4066781289844
           ],
           "y": [
            175,
            160.22730734955465,
            130.68192204866395,
            91.76826088570428,
            55.429867449484185,
            22.89279537985042
           ]
          },
          {
           "line": {
            "color": "orange"
           },
           "marker": {
            "size": 8
           },
           "mode": "lines+markers",
           "name": "model trained to aviod obstacle",
           "type": "scatter",
           "x": [
            75,
            75,
            86.47769745439237,
            109.4330923631771,
            132.38848727196182,
            142.8227576850458
           ],
           "y": [
            175,
            149.07999999999998,
            108.38730734955462,
            69.47364618659495,
            38.0338144247242,
            9.676786852798227
           ]
          },
          {
           "marker": {
            "color": "red",
            "size": 12,
            "symbol": "x"
           },
           "mode": "markers+text",
           "name": "Goal",
           "text": [
            "Goal"
           ],
           "textposition": "top center",
           "type": "scatter",
           "x": [
            140
           ],
           "y": [
            0
           ]
          },
          {
           "marker": {
            "color": "black",
            "size": 12,
            "symbol": "x"
           },
           "mode": "markers+text",
           "name": "Obstacle",
           "text": [
            "Obstacle"
           ],
           "textposition": "top center",
           "type": "scatter",
           "x": [
            130
           ],
           "y": [
            90
           ]
          }
         ],
         "name": "5"
        },
        {
         "data": [
          {
           "line": {
            "color": "blue"
           },
           "marker": {
            "size": 8
           },
           "mode": "lines+markers",
           "name": "first model",
           "type": "scatter",
           "x": [
            75,
            86.47769745439237,
            109.4330923631771,
            132.38848727196182,
            143.04634919389758,
            141.4066781289844,
            139.7670070640712
           ],
           "y": [
            175,
            160.22730734955465,
            130.68192204866395,
            91.76826088570428,
            55.429867449484185,
            22.89279537985042,
            0.32670863516423765
           ]
          },
          {
           "line": {
            "color": "orange"
           },
           "marker": {
            "size": 8
           },
           "mode": "lines+markers",
           "name": "model trained to aviod obstacle",
           "type": "scatter",
           "x": [
            75,
            75,
            86.47769745439237,
            109.4330923631771,
            132.38848727196182,
            142.8227576850458
           ],
           "y": [
            175,
            149.07999999999998,
            108.38730734955462,
            69.47364618659495,
            38.0338144247242,
            9.676786852798227
           ]
          },
          {
           "marker": {
            "color": "red",
            "size": 12,
            "symbol": "x"
           },
           "mode": "markers+text",
           "name": "Goal",
           "text": [
            "Goal"
           ],
           "textposition": "top center",
           "type": "scatter",
           "x": [
            140
           ],
           "y": [
            0
           ]
          },
          {
           "marker": {
            "color": "black",
            "size": 12,
            "symbol": "x"
           },
           "mode": "markers+text",
           "name": "Obstacle",
           "text": [
            "Obstacle"
           ],
           "textposition": "top center",
           "type": "scatter",
           "x": [
            130
           ],
           "y": [
            90
           ]
          }
         ],
         "name": "6"
        }
       ],
       "layout": {
        "height": 600,
        "sliders": [
         {
          "steps": [
           {
            "args": [
             [
              "0"
             ],
             {
              "frame": {
               "duration": 0
              },
              "mode": "immediate"
             }
            ],
            "label": "0",
            "method": "animate"
           },
           {
            "args": [
             [
              "1"
             ],
             {
              "frame": {
               "duration": 0
              },
              "mode": "immediate"
             }
            ],
            "label": "1",
            "method": "animate"
           },
           {
            "args": [
             [
              "2"
             ],
             {
              "frame": {
               "duration": 0
              },
              "mode": "immediate"
             }
            ],
            "label": "2",
            "method": "animate"
           },
           {
            "args": [
             [
              "3"
             ],
             {
              "frame": {
               "duration": 0
              },
              "mode": "immediate"
             }
            ],
            "label": "3",
            "method": "animate"
           },
           {
            "args": [
             [
              "4"
             ],
             {
              "frame": {
               "duration": 0
              },
              "mode": "immediate"
             }
            ],
            "label": "4",
            "method": "animate"
           },
           {
            "args": [
             [
              "5"
             ],
             {
              "frame": {
               "duration": 0
              },
              "mode": "immediate"
             }
            ],
            "label": "5",
            "method": "animate"
           },
           {
            "args": [
             [
              "6"
             ],
             {
              "frame": {
               "duration": 0
              },
              "mode": "immediate"
             }
            ],
            "label": "6",
            "method": "animate"
           }
          ]
         }
        ],
        "template": {
         "data": {
          "bar": [
           {
            "error_x": {
             "color": "#2a3f5f"
            },
            "error_y": {
             "color": "#2a3f5f"
            },
            "marker": {
             "line": {
              "color": "#E5ECF6",
              "width": 0.5
             },
             "pattern": {
              "fillmode": "overlay",
              "size": 10,
              "solidity": 0.2
             }
            },
            "type": "bar"
           }
          ],
          "barpolar": [
           {
            "marker": {
             "line": {
              "color": "#E5ECF6",
              "width": 0.5
             },
             "pattern": {
              "fillmode": "overlay",
              "size": 10,
              "solidity": 0.2
             }
            },
            "type": "barpolar"
           }
          ],
          "carpet": [
           {
            "aaxis": {
             "endlinecolor": "#2a3f5f",
             "gridcolor": "white",
             "linecolor": "white",
             "minorgridcolor": "white",
             "startlinecolor": "#2a3f5f"
            },
            "baxis": {
             "endlinecolor": "#2a3f5f",
             "gridcolor": "white",
             "linecolor": "white",
             "minorgridcolor": "white",
             "startlinecolor": "#2a3f5f"
            },
            "type": "carpet"
           }
          ],
          "choropleth": [
           {
            "colorbar": {
             "outlinewidth": 0,
             "ticks": ""
            },
            "type": "choropleth"
           }
          ],
          "contour": [
           {
            "colorbar": {
             "outlinewidth": 0,
             "ticks": ""
            },
            "colorscale": [
             [
              0,
              "#0d0887"
             ],
             [
              0.1111111111111111,
              "#46039f"
             ],
             [
              0.2222222222222222,
              "#7201a8"
             ],
             [
              0.3333333333333333,
              "#9c179e"
             ],
             [
              0.4444444444444444,
              "#bd3786"
             ],
             [
              0.5555555555555556,
              "#d8576b"
             ],
             [
              0.6666666666666666,
              "#ed7953"
             ],
             [
              0.7777777777777778,
              "#fb9f3a"
             ],
             [
              0.8888888888888888,
              "#fdca26"
             ],
             [
              1,
              "#f0f921"
             ]
            ],
            "type": "contour"
           }
          ],
          "contourcarpet": [
           {
            "colorbar": {
             "outlinewidth": 0,
             "ticks": ""
            },
            "type": "contourcarpet"
           }
          ],
          "heatmap": [
           {
            "colorbar": {
             "outlinewidth": 0,
             "ticks": ""
            },
            "colorscale": [
             [
              0,
              "#0d0887"
             ],
             [
              0.1111111111111111,
              "#46039f"
             ],
             [
              0.2222222222222222,
              "#7201a8"
             ],
             [
              0.3333333333333333,
              "#9c179e"
             ],
             [
              0.4444444444444444,
              "#bd3786"
             ],
             [
              0.5555555555555556,
              "#d8576b"
             ],
             [
              0.6666666666666666,
              "#ed7953"
             ],
             [
              0.7777777777777778,
              "#fb9f3a"
             ],
             [
              0.8888888888888888,
              "#fdca26"
             ],
             [
              1,
              "#f0f921"
             ]
            ],
            "type": "heatmap"
           }
          ],
          "heatmapgl": [
           {
            "colorbar": {
             "outlinewidth": 0,
             "ticks": ""
            },
            "colorscale": [
             [
              0,
              "#0d0887"
             ],
             [
              0.1111111111111111,
              "#46039f"
             ],
             [
              0.2222222222222222,
              "#7201a8"
             ],
             [
              0.3333333333333333,
              "#9c179e"
             ],
             [
              0.4444444444444444,
              "#bd3786"
             ],
             [
              0.5555555555555556,
              "#d8576b"
             ],
             [
              0.6666666666666666,
              "#ed7953"
             ],
             [
              0.7777777777777778,
              "#fb9f3a"
             ],
             [
              0.8888888888888888,
              "#fdca26"
             ],
             [
              1,
              "#f0f921"
             ]
            ],
            "type": "heatmapgl"
           }
          ],
          "histogram": [
           {
            "marker": {
             "pattern": {
              "fillmode": "overlay",
              "size": 10,
              "solidity": 0.2
             }
            },
            "type": "histogram"
           }
          ],
          "histogram2d": [
           {
            "colorbar": {
             "outlinewidth": 0,
             "ticks": ""
            },
            "colorscale": [
             [
              0,
              "#0d0887"
             ],
             [
              0.1111111111111111,
              "#46039f"
             ],
             [
              0.2222222222222222,
              "#7201a8"
             ],
             [
              0.3333333333333333,
              "#9c179e"
             ],
             [
              0.4444444444444444,
              "#bd3786"
             ],
             [
              0.5555555555555556,
              "#d8576b"
             ],
             [
              0.6666666666666666,
              "#ed7953"
             ],
             [
              0.7777777777777778,
              "#fb9f3a"
             ],
             [
              0.8888888888888888,
              "#fdca26"
             ],
             [
              1,
              "#f0f921"
             ]
            ],
            "type": "histogram2d"
           }
          ],
          "histogram2dcontour": [
           {
            "colorbar": {
             "outlinewidth": 0,
             "ticks": ""
            },
            "colorscale": [
             [
              0,
              "#0d0887"
             ],
             [
              0.1111111111111111,
              "#46039f"
             ],
             [
              0.2222222222222222,
              "#7201a8"
             ],
             [
              0.3333333333333333,
              "#9c179e"
             ],
             [
              0.4444444444444444,
              "#bd3786"
             ],
             [
              0.5555555555555556,
              "#d8576b"
             ],
             [
              0.6666666666666666,
              "#ed7953"
             ],
             [
              0.7777777777777778,
              "#fb9f3a"
             ],
             [
              0.8888888888888888,
              "#fdca26"
             ],
             [
              1,
              "#f0f921"
             ]
            ],
            "type": "histogram2dcontour"
           }
          ],
          "mesh3d": [
           {
            "colorbar": {
             "outlinewidth": 0,
             "ticks": ""
            },
            "type": "mesh3d"
           }
          ],
          "parcoords": [
           {
            "line": {
             "colorbar": {
              "outlinewidth": 0,
              "ticks": ""
             }
            },
            "type": "parcoords"
           }
          ],
          "pie": [
           {
            "automargin": true,
            "type": "pie"
           }
          ],
          "scatter": [
           {
            "fillpattern": {
             "fillmode": "overlay",
             "size": 10,
             "solidity": 0.2
            },
            "type": "scatter"
           }
          ],
          "scatter3d": [
           {
            "line": {
             "colorbar": {
              "outlinewidth": 0,
              "ticks": ""
             }
            },
            "marker": {
             "colorbar": {
              "outlinewidth": 0,
              "ticks": ""
             }
            },
            "type": "scatter3d"
           }
          ],
          "scattercarpet": [
           {
            "marker": {
             "colorbar": {
              "outlinewidth": 0,
              "ticks": ""
             }
            },
            "type": "scattercarpet"
           }
          ],
          "scattergeo": [
           {
            "marker": {
             "colorbar": {
              "outlinewidth": 0,
              "ticks": ""
             }
            },
            "type": "scattergeo"
           }
          ],
          "scattergl": [
           {
            "marker": {
             "colorbar": {
              "outlinewidth": 0,
              "ticks": ""
             }
            },
            "type": "scattergl"
           }
          ],
          "scattermapbox": [
           {
            "marker": {
             "colorbar": {
              "outlinewidth": 0,
              "ticks": ""
             }
            },
            "type": "scattermapbox"
           }
          ],
          "scatterpolar": [
           {
            "marker": {
             "colorbar": {
              "outlinewidth": 0,
              "ticks": ""
             }
            },
            "type": "scatterpolar"
           }
          ],
          "scatterpolargl": [
           {
            "marker": {
             "colorbar": {
              "outlinewidth": 0,
              "ticks": ""
             }
            },
            "type": "scatterpolargl"
           }
          ],
          "scatterternary": [
           {
            "marker": {
             "colorbar": {
              "outlinewidth": 0,
              "ticks": ""
             }
            },
            "type": "scatterternary"
           }
          ],
          "surface": [
           {
            "colorbar": {
             "outlinewidth": 0,
             "ticks": ""
            },
            "colorscale": [
             [
              0,
              "#0d0887"
             ],
             [
              0.1111111111111111,
              "#46039f"
             ],
             [
              0.2222222222222222,
              "#7201a8"
             ],
             [
              0.3333333333333333,
              "#9c179e"
             ],
             [
              0.4444444444444444,
              "#bd3786"
             ],
             [
              0.5555555555555556,
              "#d8576b"
             ],
             [
              0.6666666666666666,
              "#ed7953"
             ],
             [
              0.7777777777777778,
              "#fb9f3a"
             ],
             [
              0.8888888888888888,
              "#fdca26"
             ],
             [
              1,
              "#f0f921"
             ]
            ],
            "type": "surface"
           }
          ],
          "table": [
           {
            "cells": {
             "fill": {
              "color": "#EBF0F8"
             },
             "line": {
              "color": "white"
             }
            },
            "header": {
             "fill": {
              "color": "#C8D4E3"
             },
             "line": {
              "color": "white"
             }
            },
            "type": "table"
           }
          ]
         },
         "layout": {
          "annotationdefaults": {
           "arrowcolor": "#2a3f5f",
           "arrowhead": 0,
           "arrowwidth": 1
          },
          "autotypenumbers": "strict",
          "coloraxis": {
           "colorbar": {
            "outlinewidth": 0,
            "ticks": ""
           }
          },
          "colorscale": {
           "diverging": [
            [
             0,
             "#8e0152"
            ],
            [
             0.1,
             "#c51b7d"
            ],
            [
             0.2,
             "#de77ae"
            ],
            [
             0.3,
             "#f1b6da"
            ],
            [
             0.4,
             "#fde0ef"
            ],
            [
             0.5,
             "#f7f7f7"
            ],
            [
             0.6,
             "#e6f5d0"
            ],
            [
             0.7,
             "#b8e186"
            ],
            [
             0.8,
             "#7fbc41"
            ],
            [
             0.9,
             "#4d9221"
            ],
            [
             1,
             "#276419"
            ]
           ],
           "sequential": [
            [
             0,
             "#0d0887"
            ],
            [
             0.1111111111111111,
             "#46039f"
            ],
            [
             0.2222222222222222,
             "#7201a8"
            ],
            [
             0.3333333333333333,
             "#9c179e"
            ],
            [
             0.4444444444444444,
             "#bd3786"
            ],
            [
             0.5555555555555556,
             "#d8576b"
            ],
            [
             0.6666666666666666,
             "#ed7953"
            ],
            [
             0.7777777777777778,
             "#fb9f3a"
            ],
            [
             0.8888888888888888,
             "#fdca26"
            ],
            [
             1,
             "#f0f921"
            ]
           ],
           "sequentialminus": [
            [
             0,
             "#0d0887"
            ],
            [
             0.1111111111111111,
             "#46039f"
            ],
            [
             0.2222222222222222,
             "#7201a8"
            ],
            [
             0.3333333333333333,
             "#9c179e"
            ],
            [
             0.4444444444444444,
             "#bd3786"
            ],
            [
             0.5555555555555556,
             "#d8576b"
            ],
            [
             0.6666666666666666,
             "#ed7953"
            ],
            [
             0.7777777777777778,
             "#fb9f3a"
            ],
            [
             0.8888888888888888,
             "#fdca26"
            ],
            [
             1,
             "#f0f921"
            ]
           ]
          },
          "colorway": [
           "#636efa",
           "#EF553B",
           "#00cc96",
           "#ab63fa",
           "#FFA15A",
           "#19d3f3",
           "#FF6692",
           "#B6E880",
           "#FF97FF",
           "#FECB52"
          ],
          "font": {
           "color": "#2a3f5f"
          },
          "geo": {
           "bgcolor": "white",
           "lakecolor": "white",
           "landcolor": "#E5ECF6",
           "showlakes": true,
           "showland": true,
           "subunitcolor": "white"
          },
          "hoverlabel": {
           "align": "left"
          },
          "hovermode": "closest",
          "mapbox": {
           "style": "light"
          },
          "paper_bgcolor": "white",
          "plot_bgcolor": "#E5ECF6",
          "polar": {
           "angularaxis": {
            "gridcolor": "white",
            "linecolor": "white",
            "ticks": ""
           },
           "bgcolor": "#E5ECF6",
           "radialaxis": {
            "gridcolor": "white",
            "linecolor": "white",
            "ticks": ""
           }
          },
          "scene": {
           "xaxis": {
            "backgroundcolor": "#E5ECF6",
            "gridcolor": "white",
            "gridwidth": 2,
            "linecolor": "white",
            "showbackground": true,
            "ticks": "",
            "zerolinecolor": "white"
           },
           "yaxis": {
            "backgroundcolor": "#E5ECF6",
            "gridcolor": "white",
            "gridwidth": 2,
            "linecolor": "white",
            "showbackground": true,
            "ticks": "",
            "zerolinecolor": "white"
           },
           "zaxis": {
            "backgroundcolor": "#E5ECF6",
            "gridcolor": "white",
            "gridwidth": 2,
            "linecolor": "white",
            "showbackground": true,
            "ticks": "",
            "zerolinecolor": "white"
           }
          },
          "shapedefaults": {
           "line": {
            "color": "#2a3f5f"
           }
          },
          "ternary": {
           "aaxis": {
            "gridcolor": "white",
            "linecolor": "white",
            "ticks": ""
           },
           "baxis": {
            "gridcolor": "white",
            "linecolor": "white",
            "ticks": ""
           },
           "bgcolor": "#E5ECF6",
           "caxis": {
            "gridcolor": "white",
            "linecolor": "white",
            "ticks": ""
           }
          },
          "title": {
           "x": 0.05
          },
          "xaxis": {
           "automargin": true,
           "gridcolor": "white",
           "linecolor": "white",
           "ticks": "",
           "title": {
            "standoff": 15
           },
           "zerolinecolor": "white",
           "zerolinewidth": 2
          },
          "yaxis": {
           "automargin": true,
           "gridcolor": "white",
           "linecolor": "white",
           "ticks": "",
           "title": {
            "standoff": 15
           },
           "zerolinecolor": "white",
           "zerolinewidth": 2
          }
         }
        },
        "title": {
         "text": "Rocket Landing Animation"
        },
        "updatemenus": [
         {
          "buttons": [
           {
            "args": [
             null,
             {
              "frame": {
               "duration": 200
              },
              "fromcurrent": true
             }
            ],
            "label": "Play",
            "method": "animate"
           },
           {
            "args": [
             [
              null
             ],
             {
              "frame": {
               "duration": 0
              },
              "mode": "immediate"
             }
            ],
            "label": "Pause",
            "method": "animate"
           }
          ],
          "type": "buttons"
         }
        ],
        "xaxis": {
         "range": [
          50,
          200
         ],
         "title": {
          "text": "X Position"
         }
        },
        "yaxis": {
         "range": [
          -10,
          250
         ],
         "title": {
          "text": "Altitude"
         }
        }
       }
      }
     },
     "metadata": {},
     "output_type": "display_data"
    }
   ],
   "source": [
    "plot_RL_2agents_comparaison(dt, dt2)"
   ]
  },
  {
   "cell_type": "markdown",
   "id": "af6aea24",
   "metadata": {},
   "source": [
    "## <span style=\"color:orange\">Conclusion</span>\n",
    "\n",
    "With our designed reward function and discretization settings, we provide a model capable of landing the rocket at the correct coordinates, with an appropriate angle and safe speed. However keep in mind Q-learning has its limitations. Its reliance on a discrete state space, which can reduce precision and limit scalability. To push further, we can replace the Q-table with a deep neural network (Deep Q-Learning) to approximate the Q-function in a continuous space."
   ]
  }
 ],
 "metadata": {
  "kernelspec": {
   "display_name": "venv",
   "language": "python",
   "name": "python3"
  },
  "language_info": {
   "codemirror_mode": {
    "name": "ipython",
    "version": 3
   },
   "file_extension": ".py",
   "mimetype": "text/x-python",
   "name": "python",
   "nbconvert_exporter": "python",
   "pygments_lexer": "ipython3",
   "version": "3.10.11"
  }
 },
 "nbformat": 4,
 "nbformat_minor": 5
}

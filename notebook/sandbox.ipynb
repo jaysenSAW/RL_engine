{
 "cells": [
  {
   "cell_type": "code",
   "execution_count": 1,
   "id": "c30a7c5c-5ee2-4210-aec8-521c672a54ca",
   "metadata": {},
   "outputs": [],
   "source": [
    "import numpy as np\n",
    "import json\n",
    "import os\n",
    "import sys\n",
    "from sympy import sympify\n",
    "import re\n",
    "import copy\n",
    "import warnings\n",
    "# warnings.simplefilter(action='ignore', category=FutureWarning)\n",
    "import pandas as pd\n",
    "import matplotlib.pyplot as plt\n",
    "sys.path.insert(1, \"../src/utils/\")\n",
    "from agent import Environment\n",
    "from text2equation import resolve_equations\n",
    "from Q_learning import QLearningTrainer\n",
    "from itertools import product\n",
    "import random\n",
    "from text2equation import resolve_equations\n",
    "agent = Environment(\"rocket.json\")\n",
    "RL = QLearningTrainer(agent, num_episodes = 110, decay_type = \"exponential\", convergence_criterion = 0.01, decrease_prob_exp = 0.01)"
   ]
  },
  {
   "cell_type": "markdown",
   "id": "c79d7405-5fcf-45ee-8abf-c1af457b58b9",
   "metadata": {},
   "source": [
    "# Lets see how system evolves\n",
    "\n",
    "Before to start training, a premilary work must be done on reward function. Indeed, we have 2 agents. Each one has an impact on rocket trajectory. Lets simulate a simple case. Our rocket start with no spped. The only force applied on it is G. The rocket falls down straight on the planetoid (angle is zero no needs to correct it) and without friction. We start booster engine when we are close to the ground. "
   ]
  },
  {
   "cell_type": "code",
   "execution_count": 2,
   "id": "f1e92c10-31d1-4afa-bd6b-ca0fd8e287bc",
   "metadata": {},
   "outputs": [
    {
     "data": {
      "text/html": [
       "<div>\n",
       "<style scoped>\n",
       "    .dataframe tbody tr th:only-of-type {\n",
       "        vertical-align: middle;\n",
       "    }\n",
       "\n",
       "    .dataframe tbody tr th {\n",
       "        vertical-align: top;\n",
       "    }\n",
       "\n",
       "    .dataframe thead th {\n",
       "        text-align: right;\n",
       "    }\n",
       "</style>\n",
       "<table border=\"1\" class=\"dataframe\">\n",
       "  <thead>\n",
       "    <tr style=\"text-align: right;\">\n",
       "      <th></th>\n",
       "      <th>acceleration_x</th>\n",
       "      <th>acceleration_y</th>\n",
       "      <th>speed_x</th>\n",
       "      <th>speed_y</th>\n",
       "      <th>m_carburant</th>\n",
       "      <th>pos_x</th>\n",
       "      <th>pos_y</th>\n",
       "      <th>angle</th>\n",
       "      <th>booster</th>\n",
       "      <th>alpha</th>\n",
       "      <th>futur_pos_y</th>\n",
       "      <th>max_speed</th>\n",
       "      <th>m_carburant_ini</th>\n",
       "      <th>action_booster</th>\n",
       "    </tr>\n",
       "  </thead>\n",
       "  <tbody>\n",
       "    <tr>\n",
       "      <th>0</th>\n",
       "      <td>0.0</td>\n",
       "      <td>0.00</td>\n",
       "      <td>0.0</td>\n",
       "      <td>0.00</td>\n",
       "      <td>100.0</td>\n",
       "      <td>100.0</td>\n",
       "      <td>200.000</td>\n",
       "      <td>0.0</td>\n",
       "      <td>0.0</td>\n",
       "      <td>0.0</td>\n",
       "      <td>0.000</td>\n",
       "      <td>0.0</td>\n",
       "      <td>100.0</td>\n",
       "      <td>0</td>\n",
       "    </tr>\n",
       "    <tr>\n",
       "      <th>1</th>\n",
       "      <td>0.0</td>\n",
       "      <td>-1.62</td>\n",
       "      <td>0.0</td>\n",
       "      <td>-0.81</td>\n",
       "      <td>100.0</td>\n",
       "      <td>100.0</td>\n",
       "      <td>199.595</td>\n",
       "      <td>0.0</td>\n",
       "      <td>0.0</td>\n",
       "      <td>0.0</td>\n",
       "      <td>197.165</td>\n",
       "      <td>0.0</td>\n",
       "      <td>100.0</td>\n",
       "      <td>0</td>\n",
       "    </tr>\n",
       "    <tr>\n",
       "      <th>2</th>\n",
       "      <td>0.0</td>\n",
       "      <td>-1.62</td>\n",
       "      <td>0.0</td>\n",
       "      <td>-1.62</td>\n",
       "      <td>100.0</td>\n",
       "      <td>100.0</td>\n",
       "      <td>198.785</td>\n",
       "      <td>0.0</td>\n",
       "      <td>0.0</td>\n",
       "      <td>0.0</td>\n",
       "      <td>193.925</td>\n",
       "      <td>0.0</td>\n",
       "      <td>100.0</td>\n",
       "      <td>0</td>\n",
       "    </tr>\n",
       "    <tr>\n",
       "      <th>3</th>\n",
       "      <td>0.0</td>\n",
       "      <td>-1.62</td>\n",
       "      <td>0.0</td>\n",
       "      <td>-2.43</td>\n",
       "      <td>100.0</td>\n",
       "      <td>100.0</td>\n",
       "      <td>197.570</td>\n",
       "      <td>0.0</td>\n",
       "      <td>0.0</td>\n",
       "      <td>0.0</td>\n",
       "      <td>190.280</td>\n",
       "      <td>0.0</td>\n",
       "      <td>100.0</td>\n",
       "      <td>0</td>\n",
       "    </tr>\n",
       "    <tr>\n",
       "      <th>4</th>\n",
       "      <td>0.0</td>\n",
       "      <td>-1.62</td>\n",
       "      <td>0.0</td>\n",
       "      <td>-3.24</td>\n",
       "      <td>100.0</td>\n",
       "      <td>100.0</td>\n",
       "      <td>195.950</td>\n",
       "      <td>0.0</td>\n",
       "      <td>0.0</td>\n",
       "      <td>0.0</td>\n",
       "      <td>186.230</td>\n",
       "      <td>0.0</td>\n",
       "      <td>100.0</td>\n",
       "      <td>0</td>\n",
       "    </tr>\n",
       "  </tbody>\n",
       "</table>\n",
       "</div>"
      ],
      "text/plain": [
       "   acceleration_x  acceleration_y  speed_x  speed_y  m_carburant  pos_x  \\\n",
       "0             0.0            0.00      0.0     0.00        100.0  100.0   \n",
       "1             0.0           -1.62      0.0    -0.81        100.0  100.0   \n",
       "2             0.0           -1.62      0.0    -1.62        100.0  100.0   \n",
       "3             0.0           -1.62      0.0    -2.43        100.0  100.0   \n",
       "4             0.0           -1.62      0.0    -3.24        100.0  100.0   \n",
       "\n",
       "     pos_y  angle  booster  alpha  futur_pos_y  max_speed  m_carburant_ini  \\\n",
       "0  200.000    0.0      0.0    0.0        0.000        0.0            100.0   \n",
       "1  199.595    0.0      0.0    0.0      197.165        0.0            100.0   \n",
       "2  198.785    0.0      0.0    0.0      193.925        0.0            100.0   \n",
       "3  197.570    0.0      0.0    0.0      190.280        0.0            100.0   \n",
       "4  195.950    0.0      0.0    0.0      186.230        0.0            100.0   \n",
       "\n",
       "  action_booster  \n",
       "0              0  \n",
       "1              0  \n",
       "2              0  \n",
       "3              0  \n",
       "4              0  "
      ]
     },
     "execution_count": 2,
     "metadata": {},
     "output_type": "execute_result"
    }
   ],
   "source": [
    "RL.reinitialize()\n",
    "flag = \"0\"\n",
    "actions ={\"action_booster\" : []} \n",
    "for i in range(40):    \n",
    "    RL.env.step([flag, \"1\"])\n",
    "    actions[\"action_booster\"].append(flag)\n",
    "    if RL.env.futur_pos_y[-1] <= 0:\n",
    "        # RL.env.delete_last_states(end_index = -2)\n",
    "        flag =\"2\"\n",
    "# save result \n",
    "df_traj = pd.concat([pd.DataFrame(RL.env.all_states()), pd.DataFrame(actions)], axis = 1)\n",
    "#Normalize data and plot it\n",
    "df_traj.head()"
   ]
  },
  {
   "cell_type": "code",
   "execution_count": 3,
   "id": "a98e9450-de13-4b1d-b434-dcc831dafbf3",
   "metadata": {},
   "outputs": [
    {
     "data": {
      "image/png": "[encoded data removed]",
      "text/plain": [
       "<Figure size 640x480 with 1 Axes>"
      ]
     },
     "metadata": {},
     "output_type": "display_data"
    },
    {
     "data": {
      "image/png": "[encoded data removed]",
      "text/plain": [
       "<Figure size 640x480 with 1 Axes>"
      ]
     },
     "metadata": {},
     "output_type": "display_data"
    }
   ],
   "source": [
    "plt.plot(pd.DataFrame(RL.env.rewards)[\"booster\"])\n",
    "plt.show()\n",
    "plt.plot(df_traj[[\"pos_y\"]] /df_traj[[\"pos_y\"]].max(), label =\"distance\")\n",
    "plt.plot(df_traj[[\"acceleration_y\"]] /1.62, label =\"acceleration\")\n",
    "plt.plot(df_traj[[\"speed_y\"]] /df_traj[[\"speed_y\"]].abs().max(), label =\"speed\")\n",
    "plt.legend()\n",
    "plt.show()"
   ]
  },
  {
   "cell_type": "code",
   "execution_count": null,
   "id": "7dc707af-0426-4990-844e-ed223308c517",
   "metadata": {},
   "outputs": [],
   "source": [
    "RL.env.json[\"states_variables\"]"
   ]
  },
  {
   "cell_type": "code",
   "execution_count": null,
   "id": "70ab9d78-50f4-4cac-82c3-33ba05bb1654",
   "metadata": {},
   "outputs": [],
   "source": [
    "QTABLE.loc[ [str(state)] ]"
   ]
  },
  {
   "cell_type": "code",
   "execution_count": null,
   "id": "37b06c87-7711-417c-a27d-5f7e3030ca51",
   "metadata": {},
   "outputs": [],
   "source": [
    "QTABLE = copy.deepcopy(RL.q_table)\n",
    "agent = Environment(\"rocket.json\")\n",
    "state = agent.state_for_q_table()\n",
    "done = False\n",
    "cpt = 0\n",
    "limit = 20\n",
    "replace_zero = True\n",
    "action = [QTABLE.loc[ [str(state)], [key] ].to_numpy().argmax() for key in agent.action_space.keys()]\n",
    "\n"
   ]
  },
  {
   "cell_type": "code",
   "execution_count": null,
   "id": "0ddc7440-cb10-464a-8621-1a1449150b38",
   "metadata": {},
   "outputs": [],
   "source": [
    "action"
   ]
  },
  {
   "cell_type": "code",
   "execution_count": null,
   "id": "a5038c8f-588c-4e47-911c-ff75b0668b6e",
   "metadata": {},
   "outputs": [],
   "source": [
    "QTABLE = copy.deepcopy(RL.q_table)\n",
    "agent.reset()\n",
    "state = agent.state_for_q_table()\n",
    "done = False\n",
    "cpt = 0\n",
    "limit = 20\n",
    "replace_zero = True\n",
    "if replace_zero:\n",
    "    q_table = QTABLE.replace(0, np.nan)\n",
    "else:\n",
    "    q_table = QTABLE.copy()\n",
    "while not done:\n",
    "    action = [QTABLE.loc[ [str(state)], [key] ].to_numpy().argmax() for key in agent.action_space.keys()]\n",
    "    if not isinstance(action, list):\n",
    "        action = [action]\n",
    "    # print(\"target variable ({0}): {1:.2f}\".format(self.env.target_variable, self.env.frame.last_state()[self.env.target_variable][0]))\n",
    "    # print(\"action :\", action[0])\n",
    "    _, _, _, _, _ = agent.step(action)\n",
    "    state = agent.state_for_q_table()\n",
    "    cpt += 1\n",
    "    if cpt == limit:\n",
    "        done = True\n"
   ]
  },
  {
   "cell_type": "code",
   "execution_count": null,
   "id": "3e2fcf81-f3aa-473d-8567-c9b3e93cf25d",
   "metadata": {},
   "outputs": [],
   "source": [
    "RL.env.futur_pos_y"
   ]
  },
  {
   "cell_type": "code",
   "execution_count": null,
   "id": "0ffaa38e-56eb-4b95-9c27-b09fe79d467d",
   "metadata": {},
   "outputs": [],
   "source": [
    "RL.env.pos_y"
   ]
  },
  {
   "cell_type": "code",
   "execution_count": null,
   "id": "3818a599-b8b2-4d56-94bf-310c20d758af",
   "metadata": {},
   "outputs": [],
   "source": [
    "RL.env.speed_y"
   ]
  },
  {
   "cell_type": "code",
   "execution_count": null,
   "id": "41474065-a066-4e47-aee8-5b4086acd15b",
   "metadata": {},
   "outputs": [],
   "source": [
    "import matplotlib.animation\n",
    "import matplotlib.pyplot as plt\n",
    "from itertools import count\n",
    "import random\n",
    "\n",
    "plt.rcParams[\"animation.html\"] = \"jshtml\"\n",
    "plt.rcParams['figure.dpi'] = 150  \n",
    "\n",
    "fig, ax = plt.subplots()\n",
    "x_value = []\n",
    "y_value = []\n",
    "index = count();\n",
    "def animate(t):\n",
    "    x_value.append(next(index))\n",
    "    y_value.append(random.randint(0,10))\n",
    "    ax.cla()\n",
    "    ax.plot(x_value,y_value)\n",
    "    ax.set_xlim(0,10)\n",
    "\n",
    "matplotlib.animation.FuncAnimation(fig, animate, frames=10, interval = 500)"
   ]
  },
  {
   "cell_type": "code",
   "execution_count": null,
   "id": "bc3f6673-e8ca-4ace-9c2a-4332bc96685e",
   "metadata": {},
   "outputs": [],
   "source": [
    "RL.q_table_for_all_episodes[0]"
   ]
  },
  {
   "cell_type": "code",
   "execution_count": null,
   "id": "a47178ef-3214-420b-a50c-9b63f845ff27",
   "metadata": {},
   "outputs": [],
   "source": [
    "RL.q_table"
   ]
  },
  {
   "cell_type": "code",
   "execution_count": null,
   "id": "efa48cab-04f3-4916-b208-2520918b15a8",
   "metadata": {},
   "outputs": [],
   "source": [
    "actions"
   ]
  },
  {
   "cell_type": "code",
   "execution_count": null,
   "id": "69d22b36-c760-402a-a50a-cd11def8e107",
   "metadata": {},
   "outputs": [],
   "source": [
    "RL.env.json[\"equations_variables\"]"
   ]
  },
  {
   "cell_type": "code",
   "execution_count": null,
   "id": "1526ac9d-6c97-4bf3-ba40-a744a95e889f",
   "metadata": {},
   "outputs": [],
   "source": [
    "RL.env.json[\"initial_values\"]"
   ]
  },
  {
   "cell_type": "markdown",
   "id": "4008da4b-bcf4-464c-a1b0-5f843ae35d66",
   "metadata": {},
   "source": [
    "# modélisation de la chute libre de la rocket"
   ]
  },
  {
   "cell_type": "code",
   "execution_count": null,
   "id": "f8234992-5ef3-4f01-98d8-cf22f67958d6",
   "metadata": {},
   "outputs": [],
   "source": [
    "#reset value to initial state\n",
    "RL.reinitialize()\n",
    "while RL.env.last_state()[\"position_y\"][0] > 5:\n",
    "    RL.env.step([\"0\"], [\"booster\"])\n",
    "    RL.env.last_state()[\"position_y\"]\n",
    "plt.plot(RL.env.all_states()[\"position_y\"])"
   ]
  },
  {
   "cell_type": "markdown",
   "id": "9ae225f9-35dd-489a-a88a-8e10045dbc44",
   "metadata": {},
   "source": [
    "# modélisation de la chute libre de la rocket avec booster"
   ]
  },
  {
   "cell_type": "code",
   "execution_count": null,
   "id": "c87174c1-be2e-4c59-804f-2444a4e8dac4",
   "metadata": {},
   "outputs": [],
   "source": [
    "RL.reinitialize()\n",
    "RL.env.last_state()[\"vitesse_y\"][0]"
   ]
  },
  {
   "cell_type": "code",
   "execution_count": null,
   "id": "34ba6c3b-076c-4e8c-8430-ed7dbf197c27",
   "metadata": {},
   "outputs": [],
   "source": [
    "RL.reinitialize()\n",
    "while RL.env.last_state()[\"vitesse_y\"][0] < 5:\n",
    "    RL.env.step([\"1\"], [\"booster\"])\n",
    "    RL.env.last_state()[\"position_y\"]"
   ]
  },
  {
   "cell_type": "markdown",
   "id": "53b5b2f1-02af-4702-8e70-311dcc844028",
   "metadata": {},
   "source": [
    "# modélisation d'une métric quadratique"
   ]
  },
  {
   "cell_type": "code",
   "execution_count": null,
   "id": "7f8c97f9-c535-4f1d-95ea-af2bd360cd4d",
   "metadata": {},
   "outputs": [],
   "source": [
    "plt.plot(RL.env.all_states()[\"position_y\"]/500)\n",
    "plt.ylabel(\"Hateur\")\n",
    "plt.xlabel(\"Time\")\n",
    "plt.title(\"Position Y\")\n",
    "plt.show()\n",
    "plt.plot(RL.env.all_states()[\"vitesse_y\"])\n",
    "plt.ylabel(\"Vitesse\")\n",
    "plt.xlabel(\"Time\")\n",
    "plt.title(\"Vitesse Y\")\n",
    "plt.show()"
   ]
  },
  {
   "cell_type": "code",
   "execution_count": null,
   "id": "0920c7ac-8e10-4eb6-b1c6-60030e987000",
   "metadata": {
    "scrolled": true
   },
   "outputs": [],
   "source": [
    "plt.plot(np.square(RL.env.all_states()[\"vitesse_y\"] - 5), RL.env.all_states()[\"position_y\"] -10)"
   ]
  },
  {
   "cell_type": "code",
   "execution_count": null,
   "id": "61a2e93d-f353-4905-8f76-8bde77202f1e",
   "metadata": {},
   "outputs": [],
   "source": [
    "plt.plot(np.square(RL.env.all_states()[\"vitesse_y\"] - 5))\n"
   ]
  },
  {
   "cell_type": "code",
   "execution_count": null,
   "id": "67d1eea2-3fca-49c4-a3b4-0614c8f9d3a1",
   "metadata": {},
   "outputs": [],
   "source": []
  },
  {
   "cell_type": "code",
   "execution_count": null,
   "id": "86452be1-b09e-4edf-bdce-aec1348ec49d",
   "metadata": {},
   "outputs": [],
   "source": []
  },
  {
   "cell_type": "code",
   "execution_count": null,
   "id": "3ce03daa-8c18-43cf-adaf-52748f37eda3",
   "metadata": {},
   "outputs": [],
   "source": [
    "RL.q_learning()"
   ]
  },
  {
   "cell_type": "code",
   "execution_count": null,
   "id": "acf71ed4-af7f-4426-bc82-ff1d0f1caaa1",
   "metadata": {},
   "outputs": [],
   "source": [
    "RL.q_table"
   ]
  },
  {
   "cell_type": "code",
   "execution_count": null,
   "id": "3ad6aa5b-7af2-4420-811d-e21fa8a3f065",
   "metadata": {},
   "outputs": [],
   "source": [
    "RL.env.select_states(5, 10)"
   ]
  },
  {
   "cell_type": "code",
   "execution_count": null,
   "id": "22da8ad1-89d3-4dc8-9f69-6374b0bae643",
   "metadata": {},
   "outputs": [],
   "source": [
    "RL.env.last_state()"
   ]
  },
  {
   "cell_type": "code",
   "execution_count": null,
   "id": "30359162-1797-44bf-8ef0-925bba91acaa",
   "metadata": {},
   "outputs": [],
   "source": []
  },
  {
   "cell_type": "code",
   "execution_count": null,
   "id": "fd0e2397-b570-4956-a71b-fab204b117fe",
   "metadata": {},
   "outputs": [],
   "source": [
    "Environment({'initial_values': {'position_x': [400.0],\n",
    "  'position_y': [950.0],\n",
    "  'vitesse_x': [20.0],\n",
    "  'vitesse_y': [-30.0],\n",
    "  'angle': [0.3],\n",
    "  'booster': [0.0]},\n",
    " '_limit': ['min', 'max', 'n_bins'],\n",
    " 'limit': {'position_x': [0.0, 800, 100],\n",
    "  'position_y': [0.0, 1000.0, 200],\n",
    "  'vitesse_x': [-50.0, 50.0, 20],\n",
    "  'vitesse_y': [-50.0, 50.0, 20],\n",
    "  'angle': [-0.8, 0.8, 17],\n",
    "  'booster': [0.0, 1.0, 2]},\n",
    " 'n_action': {'angle': {'0': -0.1, '1': 0.0, '2': 0.1},\n",
    "  'booster': {'0': 0.0, '1': 1.0}},\n",
    " '_action_to_take': 'How action change trigger_variable',\n",
    " 'action_to_take': {'angle': {'$angle$': '$angle$ + $action$'},\n",
    "  'booster': {'$booster$': '$action$'}},\n",
    " 'states_variables': ['position_x',\n",
    "  'position_y',\n",
    "  'vitesse_x',\n",
    "  'vitesse_y',\n",
    "  'angle'],\n",
    " 'trigger_variables': ['angle', 'booster'],\n",
    " 'equations_variables': {'$time_step$': '0.1',\n",
    "  '$g$': '9.81',\n",
    "  '$acceleration_x$': '$g$ * cos($angle$)',\n",
    "  '$acceleration_y$': '$g$ * sin($angle$)',\n",
    "  '$vitesse_x$': '$vitesse_x$ + $booster$ * 5.0 * cos($angle$)',\n",
    "  '$vitesse_y$': '$vitesse_y$ + $booster$ * 5.0 * sin($angle$)',\n",
    "  '$position_x$': '$position_x$ + $vitesse_x$ * $time_step$ + 0.5 * $acceleration_x$ * $time_step$^2',\n",
    "  '$position_y$': '$position_y$ + $vitesse_y$ * $time_step$ + 0.5 * $acceleration_y$ * $time_step$^2'},\n",
    " 'equations_rewards': {'$angle$': '-($angle$ * 10)^2 - abs($vitesse_x$) -1 * abs($position_x$ - 200)/10',\n",
    "  '$booster$': '-($position_y$ - 5)^2 - abs($vitesse_y)$'}})"
   ]
  },
  {
   "cell_type": "code",
   "execution_count": null,
   "id": "7207f718-2985-45b6-bf98-12b29abef0df",
   "metadata": {},
   "outputs": [],
   "source": [
    "features_values = {'x': np.array([4.0]),\n",
    " 'a': np.array([-1.0]),\n",
    " 'c': np.array([6])}\n",
    "\n",
    "list_equations = {'$z$' : '$a$ * $x$^2 + $x$ + $c$'}\n",
    "\n",
    "result = resolve_equations(features_values, list_equations)\n",
    "result"
   ]
  },
  {
   "cell_type": "code",
   "execution_count": null,
   "id": "9e2aac87-e94e-4264-9230-25c5c8c71ae4",
   "metadata": {},
   "outputs": [],
   "source": [
    "result.keys()"
   ]
  },
  {
   "cell_type": "code",
   "execution_count": null,
   "id": "dae09bbb-0cb4-4c12-9aad-005967cbcead",
   "metadata": {},
   "outputs": [],
   "source": [
    "features_values =agent.all_states()\n",
    "list_equations = agent.json['equations_variables']\n",
    "delimeter = \"$\"\n",
    "solved_values = {}\n",
    "for term, equation in list_equations.items():\n",
    "    # convert string to SymPy expressions\n",
    "    expr = sympify(equation.replace(delimeter, ''))\n",
    "    # flag \"subs\": take a dictionary of Sylmbol: point pairs.\n",
    "    # check we get goot format\n",
    "    if all([isinstance(value, np.ndarray) for key, value in features_values.items()]):\n",
    "        solved_values[term.replace(delimeter, '')] = np.array([float(\n",
    "                sympify(expr).evalf(\n",
    "                    subs={\n",
    "                        key: value.item() for key, value in features_values.items()\n",
    "                        }\n",
    "                )\n",
    "            )])\n",
    "    elif all([isinstance(value, list) for key, value in features_values.items()]):\n",
    "        solved_values[term.replace(delimeter, '')] = np.array([float(\n",
    "                sympify(expr).evalf(\n",
    "                    subs={\n",
    "                        key: np.array(value).item() for key, value in features_values.items()\n",
    "                        }\n",
    "                )\n",
    "            )])\n",
    "    else:\n",
    "        solved_values[term.replace(delimeter, '')] = np.array([float(\n",
    "                sympify(expr).evalf(\n",
    "                    subs={\n",
    "                        key: value for key, value in features_values.items()\n",
    "                        }\n",
    "                )\n",
    "            )])\n",
    "    features_values[term.replace('$', '')] = np.array(\n",
    "        [solved_values[term.replace('$', '')]]\n",
    "        ).flatten()"
   ]
  },
  {
   "cell_type": "code",
   "execution_count": null,
   "id": "d311ccc0-51ca-4df7-83c7-38b6524f1027",
   "metadata": {},
   "outputs": [],
   "source": [
    "{\n",
    "                        key: np.array(value).item() for key, value in features_values.items()\n",
    "                        }"
   ]
  },
  {
   "cell_type": "code",
   "execution_count": null,
   "id": "1121c4a2-91d3-4425-a5bc-29ec3041f26a",
   "metadata": {},
   "outputs": [],
   "source": [
    "RL = QLearningTrainer(agent)"
   ]
  },
  {
   "cell_type": "code",
   "execution_count": null,
   "id": "9c59aec1-1b00-4b8c-aa07-62b58f016beb",
   "metadata": {},
   "outputs": [],
   "source": [
    "RL.q_table = RL.global_q_tables()\n",
    "RL.q_table_old = RL.global_q_tables()\n",
    "probas = RL.give_epsilon()\n",
    "for episode in range(RL.num_episodes):\n",
    "    print(\"Episode {0}/{1}\".format(episode+1, RL.num_episodes))\n",
    "    print(\"exploration_prob : {0:.3f}\".format(probas[episode]))\n",
    "    proba = probas[episode]\n",
    "    #current_iter = self.training_q_learning(proba[episode])\n",
    "    ########################################################\n",
    "    RL.env.reset()\n",
    "    states, done, current_iter, iter_out_of_bound = RL.reset_envrionement_multi_agent()\n",
    "    while not any(done):\n",
    "        # Choose actions for each agent based on the global policy\n",
    "        # proba = np.max([self.min_prob, self.max_prob])\n",
    "        actions = RL.call_choose_action(states, proba)\n",
    "        # compute new states according to agents's action\n",
    "        next_env, rewards, done, problem, info = RL.env.step(actions, RL.env.trigger_variables)\n",
    "        if any(problem):\n",
    "        # boundaries limit. Attempt to correct it\n",
    "            # print(\"{0}th: boundaries limit. Attempt to correct it\".format(current_iter))\n",
    "            # print(next_env[\"U1\"].env.last_state())\n",
    "            next_env, rewards, done, problem, info, actions = RL.check_bound(problem,\n",
    "                                                                    next_env,\n",
    "                                                                    RL.env.action_space,\n",
    "                                                                    rewards,\n",
    "                                                                    done,\n",
    "                                                                    info,\n",
    "                                                                    actions)\n",
    "            if any(done):\n",
    "                # still out of bound stop episode\n",
    "                # print(\"stop episode ! System is out of bound. Attempt to correct it, failed\")\n",
    "                # delete last element only if we get one trigger variable\n",
    "                if len(RL.env.trigger_variables) == 1:\n",
    "                    RL.env.delete_last_state()\n",
    "                continue\n",
    "        # Update Q-values bsssased on the Q-learning update rule.\n",
    "        #   env.action_space.keys() -> dict_keys(['X', 'B', 'D'])\n",
    "        #   actions -> [0, 1, 1]\n",
    "        for trigger_variable, action in zip(RL.env.action_space.keys() , actions):\n",
    "            new_row = RL.global_q_tables(next_env[trigger_variable])\n",
    "            # check if next states is present in dataFrame\n",
    "            if not new_row.index.to_list()[0] in RL.q_table.index.to_list():\n",
    "                RL.q_table = pd.concat([RL.q_table, new_row])\n",
    "            RL.update_q_values(trigger_variable,\n",
    "                str(states[trigger_variable]),\n",
    "                str(next_env[trigger_variable].state_for_q_table()),\n",
    "                str(action),\n",
    "                sum(rewards[trigger_variable].values()))\n",
    "        # if we have more than 1 trigger variable\n",
    "        # next state is choose as state with higher score\n",
    "        if len(RL.env.trigger_variables) > 1:\n",
    "            indice = np.where(\n",
    "                [\n",
    "                    sum(values.values()) for key, values in rewards.items()\n",
    "                ] == np.max([\n",
    "                    sum(values.values()) for key, values in rewards.items()\n",
    "                ]))[0][0]\n",
    "            RL.env = next_env[list(next_env.keys())[indice]]\n",
    "            #  states = {list(next_env.keys())[indice] : self.env.state_for_q_table()}\n",
    "            states = {key : RL.env.state_for_q_table() for key in next_env.keys()}\n",
    "        elif len(RL.env.trigger_variables) == 1:\n",
    "            RL.env = next_env[list(next_env.keys())[0]]\n",
    "            states = {RL.env.trigger_variables[0] : next_env[list(next_env.keys())[0]].state_for_q_table()}\n",
    "        else:\n",
    "            print(\"Fatal error no keys present\")\n",
    "            sys.exit\n",
    "        done = [RL.control_loop(current_iter)]\n",
    "        current_iter  += 1\n",
    "        RL.q_table_old = RL.q_table.copy()    \n",
    "    ########################################################\n",
    "    RL.states_for_all_episodes.append(pd.DataFrame(RL.env.all_states()))\n",
    "    RL.q_table_for_all_episodes.append(RL.q_table.copy().replace(0, np.nan))\n",
    "    # self.all_episodes.append(self.q_table.copy())\n",
    "    ###############################################\n",
    "    # self.max_prob -= self.decrease_prob_exp\n",
    "    print(\"end while loop iteration : \", current_iter)\n",
    "    RL.monitor_iter.append(current_iter)\n",
    "    # check if we can stop training early\n",
    "    # look last 6 episodes and check\n",
    "    if len(RL.monitor_iter) > 6:\n",
    "        tmp = np.sum(np.array(RL.monitor_iter[-6:-1]) == np.array(RL.monitor_iter[-5:]))\n",
    "        if tmp == 5 and current_iter < RL.run_limit -1:\n",
    "            print(\"Look like nothing to learn anymore, stop training\")\n",
    "            break\n",
    "#             return q_table, self.monitor_iter\n",
    "#replace 0 by nan\n",
    "RL.q_table.replace(0, np.nan)"
   ]
  },
  {
   "cell_type": "code",
   "execution_count": null,
   "id": "db7869f8-75fa-4364-91f9-f8d0640b790e",
   "metadata": {},
   "outputs": [],
   "source": [
    "np.linspace(-0.8, 8.0, num=17)"
   ]
  },
  {
   "cell_type": "code",
   "execution_count": null,
   "id": "72386bfa-c5af-4f55-a97c-111ae83afbbf",
   "metadata": {},
   "outputs": [],
   "source": [
    "RL.env.discretized_observation(dico = True)"
   ]
  },
  {
   "cell_type": "code",
   "execution_count": null,
   "id": "2d33f083-20a1-43c4-b27e-b5cfb176e2e0",
   "metadata": {},
   "outputs": [],
   "source": [
    "# Fonction pour mettre à jour les paramètres de la fusée\n",
    "def mettre_a_jour_fusee(vitesse, position, angle_inclinaison, boosters_actifs, temps):\n",
    "    acceleration_x = gravite * np.cos(angle_inclinaison)  # composante horizontale de l'accélération\n",
    "    acceleration_y = gravite * np.sin(angle_inclinaison)  # composante verticale de l'accélération\n",
    "\n",
    "    vitesse_x = vitesse[0] + boosters_actifs * 5.0 * np.cos(angle_inclinaison)  # vitesse horizontale avec les boosters\n",
    "    vitesse_y = vitesse[1] + boosters_actifs * 5.0 * np.sin(angle_inclinaison)  # vitesse verticale avec les boosters\n",
    "\n",
    "    # Mettre à jour les composantes de la vitesse\n",
    "    vitesse_x += acceleration_x * temps\n",
    "    vitesse_y -= acceleration_y * temps  # notez le signe négatif ici en raison de la direction positive vers le haut\n",
    "\n",
    "    # Mettre à jour les composantes de la position\n",
    "    position_x = position[0] + vitesse_x * temps + 0.5 * acceleration_x * temps**2\n",
    "    position_y = position[1] + vitesse_y * temps + 0.5 * acceleration_y * temps**2\n",
    "\n",
    "    # Variation aléatoire de l'angle des boosters (par exemple, entre -0.1 et 0.1 radians)\n",
    "    angle_boosters = np.random.uniform(-0.1, 0.1)\n",
    "\n",
    "    # Mettre à jour l'angle d'inclinaison\n",
    "    angle_inclinaison += angle_boosters\n",
    "\n",
    "    return (position_x, position_y), (vitesse_x, vitesse_y), angle_inclinaison, angle_boosters"
   ]
  },
  {
   "cell_type": "code",
   "execution_count": null,
   "id": "25617823-7c12-4f4d-892f-4c4e2c2a099b",
   "metadata": {},
   "outputs": [],
   "source": [
    "import matplotlib.pyplot as plt\n",
    "import numpy as np\n",
    "\n",
    "# Paramètres initiaux\n",
    "gravite = 9.81  # accélération due à la gravité sur Terre (m/s^2)\n",
    "temps_de_vol = 40  # temps de vol de la fusée (s)\n",
    "pas_de_temps = 0.1  # intervalle de temps entre les calculs (s)\n",
    "\n",
    "# Conditions initiales\n",
    "vitesse_initiale_x = 0.0  # m/s, la fusée démarre du repos\n",
    "vitesse_initiale_y = -20.0  # m/s, la fusée démarre du repos\n",
    "position_initiale_x = 0.0  # m, la fusée démarre du sol\n",
    "position_initiale_y = 900\n",
    "angle_inclinaison_initiale = 0.0  # angle d'inclinaison initial en radians\n",
    "\n",
    "\n",
    "\n",
    "# Initialisation des listes pour stocker les données\n",
    "temps = np.arange(0, temps_de_vol, pas_de_temps)\n",
    "positions = []\n",
    "vitesses = []\n",
    "angles_inclinaison = []\n",
    "\n",
    "# Conditions initiales\n",
    "position = (position_initiale_x, 0.0)\n",
    "vitesse = (vitesse_initiale_x, vitesse_initiale_y)\n",
    "angle_inclinaison = angle_inclinaison_initiale\n",
    "\n",
    "# Simulation du mouvement de la fusée\n",
    "for t in temps:\n",
    "    boosters_actifs = 1 if t < temps_de_vol / 2 else 0  # Allume les boosters pendant la première moitié du temps de vol\n",
    "    position, vitesse, angle_inclinaison, _ = mettre_a_jour_fusee(\n",
    "        vitesse, position, angle_inclinaison, boosters_actifs, pas_de_temps\n",
    "    )\n",
    "\n",
    "    positions.append(position)\n",
    "    vitesses.append(vitesse)\n",
    "    angles_inclinaison.append(angle_inclinaison)\n",
    "\n",
    "# Tracé de la trajectoire\n",
    "positions = np.array(positions)\n",
    "plt.plot(temps, positions[:, 0], label='Position horizontale')\n",
    "plt.plot(temps, positions[:, 1], label='Position verticale')\n",
    "plt.title(\"Trajectoire d'une fusée avec boosters\")\n",
    "plt.xlabel(\"Temps (s)\")\n",
    "plt.ylabel(\"Position (m)\")\n",
    "plt.legend()\n",
    "plt.grid(True)\n",
    "plt.show()\n",
    "\n",
    "# Tracé de la vitesse et de l'angle d'inclinaison\n",
    "vitesses = np.array(vitesses)\n",
    "plt.plot(temps, vitesses[:, 0], label='Vitesse horizontale')\n",
    "plt.plot(temps, vitesses[:, 1], label='Vitesse verticale')\n",
    "plt.plot(temps, np.degrees(angles_inclinaison), label=\"Angle d'inclinaison (degrés)\")\n",
    "plt.title(\"Vitesse et angle d'inclinaison de la fusée\")\n",
    "plt.xlabel(\"Temps (s)\")\n",
    "plt.ylabel(\"Vitesse (m/s) / Angle (degrés)\")\n",
    "plt.legend()\n",
    "plt.grid(True)\n",
    "plt.show()\n"
   ]
  },
  {
   "cell_type": "code",
   "execution_count": null,
   "id": "c7b9347d-78db-4517-9839-5fedce21d388",
   "metadata": {},
   "outputs": [],
   "source": [
    "RL = QLearningTrainer(agent)"
   ]
  },
  {
   "cell_type": "code",
   "execution_count": null,
   "id": "ad648fb9-3db1-406a-b9c5-832d4d6a6ccf",
   "metadata": {},
   "outputs": [],
   "source": [
    "RL.q_learning()"
   ]
  },
  {
   "cell_type": "code",
   "execution_count": null,
   "id": "336b5a0b-23b5-4895-b9db-a2137b96090f",
   "metadata": {},
   "outputs": [],
   "source": [
    "RL.q_table"
   ]
  },
  {
   "cell_type": "code",
   "execution_count": null,
   "id": "a69363cf-dad2-47ac-9c60-65e23359c695",
   "metadata": {},
   "outputs": [],
   "source": []
  }
 ],
 "metadata": {
  "kernelspec": {
   "display_name": "Python 3 (ipykernel)",
   "language": "python",
   "name": "python3"
  },
  "language_info": {
   "codemirror_mode": {
    "name": "ipython",
    "version": 3
   },
   "file_extension": ".py",
   "mimetype": "text/x-python",
   "name": "python",
   "nbconvert_exporter": "python",
   "pygments_lexer": "ipython3",
   "version": "3.10.11"
  }
 },
 "nbformat": 4,
 "nbformat_minor": 5
}
